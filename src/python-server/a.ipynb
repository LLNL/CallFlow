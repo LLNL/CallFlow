{
 "cells": [
  {
   "cell_type": "code",
   "execution_count": 66,
   "metadata": {},
   "outputs": [],
   "source": [
    "import pandas as pd\n",
    "import numpy as np\n",
    "import json\n",
    "from hatchet import *\n",
    "import pprint"
   ]
  },
  {
   "cell_type": "code",
   "execution_count": 67,
   "metadata": {},
   "outputs": [],
   "source": [
    "def read_file(jsonfile):\n",
    "  f = open(jsonfile, 'r')\n",
    "  path = json.loads(f.read())['path']\n",
    "  return path\n"
   ]
  },
  {
   "cell_type": "code",
   "execution_count": 68,
   "metadata": {},
   "outputs": [],
   "source": [
    "def create_gf(paths, file_format):\n",
    "  ret = []\n",
    "  for i in range(0, len(paths)):\n",
    "    gf = GraphFrame()\n",
    "    if file_format == 'hpctoolkit':\n",
    "      gf.from_hpctoolkit(paths[i])\n",
    "    elif file_format == 'caliper':\n",
    "      gf.from_caliper(paths[i])\n",
    "    ret.append(gf)\n",
    "  return ret\n"
   ]
  },
  {
   "cell_type": "code",
   "execution_count": 85,
   "metadata": {},
   "outputs": [],
   "source": [
    "def getFileNames(gf):\n",
    "    ret = []\n",
    "    file_df = gf.dataframe.groupby('file')\n",
    "    for key in file_df:\n",
    "        ret.append(key[0])\n",
    "    return ret"
   ]
  },
  {
   "cell_type": "code",
   "execution_count": 11,
   "metadata": {},
   "outputs": [],
   "source": [
    " def run(self, gfs):\n",
    "    ret = {}\n",
    "    graphID = 0"
   ]
  },
  {
   "cell_type": "code",
   "execution_count": 181,
   "metadata": {},
   "outputs": [],
   "source": [
    "def aggregate(df):\n",
    "    print df.values, type(df.keys)\n",
    "    print type(df)"
   ]
  },
  {
   "cell_type": "code",
   "execution_count": 301,
   "metadata": {},
   "outputs": [],
   "source": [
    "def metrics(df):\n",
    "    metrics = {}\n",
    "    print list(df)\n",
    "    for key in list(df):\n",
    "        metrics[key] = df[key][0]\n",
    "    return metrics"
   ]
  },
  {
   "cell_type": "code",
   "execution_count": 70,
   "metadata": {},
   "outputs": [],
   "source": [
    "url_path = \"/Users/kesavan1/Suraj/llnl/CallFlow/calc-pi.json\"\n",
    "data_paths = read_file(url_path)"
   ]
  },
  {
   "cell_type": "code",
   "execution_count": 270,
   "metadata": {},
   "outputs": [],
   "source": [
    "pp = pprint.PrettyPrinter(indent=4)"
   ]
  },
  {
   "cell_type": "code",
   "execution_count": 302,
   "metadata": {},
   "outputs": [
    {
     "name": "stdout",
     "output_type": "stream",
     "text": [
      "['CPUTIME (usec) (E)', 'CPUTIME (usec) (I)', 'file', 'line', 'module', 'name', 'node', 'type']\n",
      "['CPUTIME (usec) (E)', 'CPUTIME (usec) (I)', 'file', 'line', 'module', 'name', 'node', 'type']\n",
      "['CPUTIME (usec) (E)', 'CPUTIME (usec) (I)', 'file', 'line', 'module', 'name', 'node', 'type']\n",
      "['CPUTIME (usec) (E)', 'CPUTIME (usec) (I)', 'file', 'line', 'module', 'name', 'node', 'type']\n",
      "['CPUTIME (usec) (E)', 'CPUTIME (usec) (I)', 'file', 'line', 'module', 'name', 'node', 'type']\n",
      "['CPUTIME (usec) (E)', 'CPUTIME (usec) (I)', 'file', 'line', 'module', 'name', 'node', 'type']\n",
      "['CPUTIME (usec) (E)', 'CPUTIME (usec) (I)', 'file', 'line', 'module', 'name', 'node', 'type']\n",
      "['CPUTIME (usec) (E)', 'CPUTIME (usec) (I)', 'file', 'line', 'module', 'name', 'node', 'type']\n",
      "['CPUTIME (usec) (E)', 'CPUTIME (usec) (I)', 'file', 'line', 'module', 'name', 'node', 'type']\n",
      "['CPUTIME (usec) (E)', 'CPUTIME (usec) (I)', 'file', 'line', 'module', 'name', 'node', 'type']\n",
      "['CPUTIME (usec) (E)', 'CPUTIME (usec) (I)', 'file', 'line', 'module', 'name', 'node', 'type']\n",
      "['CPUTIME (usec) (E)', 'CPUTIME (usec) (I)', 'file', 'line', 'module', 'name', 'node', 'type']\n",
      "['CPUTIME (usec) (E)', 'CPUTIME (usec) (I)', 'file', 'line', 'module', 'name', 'node', 'type']\n",
      "['CPUTIME (usec) (E)', 'CPUTIME (usec) (I)', 'file', 'line', 'module', 'name', 'node', 'type']\n",
      "['CPUTIME (usec) (E)', 'CPUTIME (usec) (I)', 'file', 'line', 'module', 'name', 'node', 'type']\n",
      "['CPUTIME (usec) (E)', 'CPUTIME (usec) (I)', 'file', 'line', 'module', 'name', 'node', 'type']\n",
      "['CPUTIME (usec) (E)', 'CPUTIME (usec) (I)', 'file', 'line', 'module', 'name', 'node', 'type']\n",
      "['CPUTIME (usec) (E)', 'CPUTIME (usec) (I)', 'file', 'line', 'module', 'name', 'node', 'type']\n",
      "['CPUTIME (usec) (E)', 'CPUTIME (usec) (I)', 'file', 'line', 'module', 'name', 'node', 'type']\n",
      "['CPUTIME (usec) (E)', 'CPUTIME (usec) (I)', 'file', 'line', 'module', 'name', 'node', 'type']\n",
      "['CPUTIME (usec) (E)', 'CPUTIME (usec) (I)', 'file', 'line', 'module', 'name', 'node', 'type']\n",
      "['CPUTIME (usec) (E)', 'CPUTIME (usec) (I)', 'file', 'line', 'module', 'name', 'node', 'type']\n",
      "['CPUTIME (usec) (E)', 'CPUTIME (usec) (I)', 'file', 'line', 'module', 'name', 'node', 'type']\n",
      "['CPUTIME (usec) (E)', 'CPUTIME (usec) (I)', 'file', 'line', 'module', 'name', 'node', 'type']\n",
      "['CPUTIME (usec) (E)', 'CPUTIME (usec) (I)', 'file', 'line', 'module', 'name', 'node', 'type']\n",
      "['CPUTIME (usec) (E)', 'CPUTIME (usec) (I)', 'file', 'line', 'module', 'name', 'node', 'type']\n",
      "['CPUTIME (usec) (E)', 'CPUTIME (usec) (I)', 'file', 'line', 'module', 'name', 'node', 'type']\n",
      "['CPUTIME (usec) (E)', 'CPUTIME (usec) (I)', 'file', 'line', 'module', 'name', 'node', 'type']\n",
      "['CPUTIME (usec) (E)', 'CPUTIME (usec) (I)', 'file', 'line', 'module', 'name', 'node', 'type']\n",
      "['CPUTIME (usec) (E)', 'CPUTIME (usec) (I)', 'file', 'line', 'module', 'name', 'node', 'type']\n",
      "['CPUTIME (usec) (E)', 'CPUTIME (usec) (I)', 'file', 'line', 'module', 'name', 'node', 'type']\n",
      "['CPUTIME (usec) (E)', 'CPUTIME (usec) (I)', 'file', 'line', 'module', 'name', 'node', 'type']\n",
      "['CPUTIME (usec) (E)', 'CPUTIME (usec) (I)', 'file', 'line', 'module', 'name', 'node', 'type']\n",
      "['CPUTIME (usec) (E)', 'CPUTIME (usec) (I)', 'file', 'line', 'module', 'name', 'node', 'type']\n",
      "['CPUTIME (usec) (E)', 'CPUTIME (usec) (I)', 'file', 'line', 'module', 'name', 'node', 'type']\n",
      "['CPUTIME (usec) (E)', 'CPUTIME (usec) (I)', 'file', 'line', 'module', 'name', 'node', 'type']\n",
      "['CPUTIME (usec) (E)', 'CPUTIME (usec) (I)', 'file', 'line', 'module', 'name', 'node', 'type']\n",
      "['CPUTIME (usec) (E)', 'CPUTIME (usec) (I)', 'file', 'line', 'module', 'name', 'node', 'type']\n",
      "['CPUTIME (usec) (E)', 'CPUTIME (usec) (I)', 'file', 'line', 'module', 'name', 'node', 'type']\n",
      "['CPUTIME (usec) (E)', 'CPUTIME (usec) (I)', 'file', 'line', 'module', 'name', 'node', 'type']\n",
      "['CPUTIME (usec) (E)', 'CPUTIME (usec) (I)', 'file', 'line', 'module', 'name', 'node', 'type']\n",
      "['CPUTIME (usec) (E)', 'CPUTIME (usec) (I)', 'file', 'line', 'module', 'name', 'node', 'type']\n",
      "['CPUTIME (usec) (E)', 'CPUTIME (usec) (I)', 'file', 'line', 'module', 'name', 'node', 'type']\n",
      "['CPUTIME (usec) (E)', 'CPUTIME (usec) (I)', 'file', 'line', 'module', 'name', 'node', 'type']\n",
      "['CPUTIME (usec) (E)', 'CPUTIME (usec) (I)', 'file', 'line', 'module', 'name', 'node', 'type']\n",
      "['CPUTIME (usec) (E)', 'CPUTIME (usec) (I)', 'file', 'line', 'module', 'name', 'node', 'type']\n",
      "['CPUTIME (usec) (E)', 'CPUTIME (usec) (I)', 'file', 'line', 'module', 'name', 'node', 'type']\n",
      "['CPUTIME (usec) (E)', 'CPUTIME (usec) (I)', 'file', 'line', 'module', 'name', 'node', 'type']\n",
      "[{'function': '<program root>', 'metrics': {0: {'node': <hatchet.node.Node instance at 0x10dad5b48>, 'name': '<program root>', 'module': '/collab/usr/global/tools/hpctoolkit/chaos_5_x86_64_ib/hpctoolkit-2017-03-16/lib/hpctoolkit/ext-libs/libmonitor.so.0.0.0', 'CPUTIME (usec) (I)': 999238.0, 'file': '<unknown file>', 'CPUTIME (usec) (E)': 0.0, 'type': 'PF', 'line': '0'}, 1: {'node': <hatchet.node.Node instance at 0x10dad5b48>, 'name': '<program root>', 'module': '/collab/usr/global/tools/hpctoolkit/chaos_5_x86_64_ib/hpctoolkit-2017-03-16/lib/hpctoolkit/ext-libs/libmonitor.so.0.0.0', 'CPUTIME (usec) (I)': 1000306.0, 'file': '<unknown file>', 'CPUTIME (usec) (E)': 0.0, 'type': 'PF', 'line': '0'}, 2: {'node': <hatchet.node.Node instance at 0x10dad5b48>, 'name': '<program root>', 'module': '/collab/usr/global/tools/hpctoolkit/chaos_5_x86_64_ib/hpctoolkit-2017-03-16/lib/hpctoolkit/ext-libs/libmonitor.so.0.0.0', 'CPUTIME (usec) (I)': 999308.0, 'file': '<unknown file>', 'CPUTIME (usec) (E)': 0.0, 'type': 'PF', 'line': '0'}}, 'module': '/collab/usr/global/tools/hpctoolkit/chaos_5_x86_64_ib/hpctoolkit-2017-03-16/lib/hpctoolkit/ext-libs/libmonitor.so.0.0.0'}, {'function': 'MPI_Finalize', 'metrics': {0: {'node': <hatchet.node.Node instance at 0x10e194200>, 'name': 'MPI_Finalize', 'module': '/collab/usr/global/tools/hpctoolkit/chaos_5_x86_64_ib/hpctoolkit-2017-03-16/lib/hpctoolkit/ext-libs/libmonitor.so.0.0.0', 'CPUTIME (usec) (I)': 999238.0, 'file': '<unknown file>', 'CPUTIME (usec) (E)': 0.0, 'type': 'PF', 'line': '0'}, 1: {'node': <hatchet.node.Node instance at 0x10e194200>, 'name': 'MPI_Finalize', 'module': '/collab/usr/global/tools/hpctoolkit/chaos_5_x86_64_ib/hpctoolkit-2017-03-16/lib/hpctoolkit/ext-libs/libmonitor.so.0.0.0', 'CPUTIME (usec) (I)': 1000306.0, 'file': '<unknown file>', 'CPUTIME (usec) (E)': 0.0, 'type': 'PF', 'line': '0'}, 2: {'node': <hatchet.node.Node instance at 0x10e194200>, 'name': 'MPI_Finalize', 'module': '/collab/usr/global/tools/hpctoolkit/chaos_5_x86_64_ib/hpctoolkit-2017-03-16/lib/hpctoolkit/ext-libs/libmonitor.so.0.0.0', 'CPUTIME (usec) (I)': 999308.0, 'file': '<unknown file>', 'CPUTIME (usec) (E)': 0.0, 'type': 'PF', 'line': '0'}}, 'module': '/collab/usr/global/tools/hpctoolkit/chaos_5_x86_64_ib/hpctoolkit-2017-03-16/lib/hpctoolkit/ext-libs/libmonitor.so.0.0.0'}, {'function': 'MPI_Init', 'metrics': {0: {'node': <hatchet.node.Node instance at 0x10dd1c128>, 'name': 'MPI_Init', 'module': '/collab/usr/global/tools/hpctoolkit/chaos_5_x86_64_ib/hpctoolkit-2017-03-16/lib/hpctoolkit/ext-libs/libmonitor.so.0.0.0', 'CPUTIME (usec) (I)': 0.0, 'file': '<unknown file>', 'CPUTIME (usec) (E)': 0.0, 'type': 'PF', 'line': '0'}, 1: {'node': <hatchet.node.Node instance at 0x10dd1c128>, 'name': 'MPI_Init', 'module': '/collab/usr/global/tools/hpctoolkit/chaos_5_x86_64_ib/hpctoolkit-2017-03-16/lib/hpctoolkit/ext-libs/libmonitor.so.0.0.0', 'CPUTIME (usec) (I)': 0.0, 'file': '<unknown file>', 'CPUTIME (usec) (E)': 0.0, 'type': 'PF', 'line': '0'}, 2: {'node': <hatchet.node.Node instance at 0x10dd1c128>, 'name': 'MPI_Init', 'module': '/collab/usr/global/tools/hpctoolkit/chaos_5_x86_64_ib/hpctoolkit-2017-03-16/lib/hpctoolkit/ext-libs/libmonitor.so.0.0.0', 'CPUTIME (usec) (I)': 0.0, 'file': '<unknown file>', 'CPUTIME (usec) (E)': 0.0, 'type': 'PF', 'line': '0'}}, 'module': '/collab/usr/global/tools/hpctoolkit/chaos_5_x86_64_ib/hpctoolkit-2017-03-16/lib/hpctoolkit/ext-libs/libmonitor.so.0.0.0'}, {'function': 'pthread_create', 'metrics': {0: {'node': <hatchet.node.Node instance at 0x10e18ecf8>, 'name': 'pthread_create', 'module': '/collab/usr/global/tools/hpctoolkit/chaos_5_x86_64_ib/hpctoolkit-2017-03-16/lib/hpctoolkit/ext-libs/libmonitor.so.0.0.0', 'CPUTIME (usec) (I)': 0.0, 'file': '<unknown file>', 'CPUTIME (usec) (E)': 0.0, 'type': 'PF', 'line': '0'}, 1: {'node': <hatchet.node.Node instance at 0x10e18ecf8>, 'name': 'pthread_create', 'module': '/collab/usr/global/tools/hpctoolkit/chaos_5_x86_64_ib/hpctoolkit-2017-03-16/lib/hpctoolkit/ext-libs/libmonitor.so.0.0.0', 'CPUTIME (usec) (I)': 0.0, 'file': '<unknown file>', 'CPUTIME (usec) (E)': 0.0, 'type': 'PF', 'line': '0'}, 2: {'node': <hatchet.node.Node instance at 0x10e18ecf8>, 'name': 'pthread_create', 'module': '/collab/usr/global/tools/hpctoolkit/chaos_5_x86_64_ib/hpctoolkit-2017-03-16/lib/hpctoolkit/ext-libs/libmonitor.so.0.0.0', 'CPUTIME (usec) (I)': 0.0, 'file': '<unknown file>', 'CPUTIME (usec) (E)': 0.0, 'type': 'PF', 'line': '0'}}, 'module': '/collab/usr/global/tools/hpctoolkit/chaos_5_x86_64_ib/hpctoolkit-2017-03-16/lib/hpctoolkit/ext-libs/libmonitor.so.0.0.0'}, {'function': '__GI_sched_yield', 'metrics': {0: {'node': <hatchet.node.Node instance at 0x10e1999e0>, 'name': '__GI_sched_yield', 'module': '/lib64/libc-2.12.so', 'CPUTIME (usec) (I)': 17989.0, 'file': 'interp.c', 'CPUTIME (usec) (E)': 17989.0, 'type': 'PF', 'line': '0'}, 1: {'node': <hatchet.node.Node instance at 0x10e1999e0>, 'name': '__GI_sched_yield', 'module': '/lib64/libc-2.12.so', 'CPUTIME (usec) (I)': 0.0, 'file': 'interp.c', 'CPUTIME (usec) (E)': 0.0, 'type': 'PF', 'line': '0'}, 2: {'node': <hatchet.node.Node instance at 0x10e1999e0>, 'name': '__GI_sched_yield', 'module': '/lib64/libc-2.12.so', 'CPUTIME (usec) (I)': 0.0, 'file': 'interp.c', 'CPUTIME (usec) (E)': 0.0, 'type': 'PF', 'line': '0'}}, 'module': '/lib64/libc-2.12.so'}, {'function': '<unknown procedure>', 'metrics': {0: {'node': <hatchet.node.Node instance at 0x10e1792d8>, 'name': '<unknown procedure>', 'module': '/usr/lib64/libpsm_infinipath.so.1.14', 'CPUTIME (usec) (I)': 0.0, 'file': '<unknown file>', 'CPUTIME (usec) (E)': 0.0, 'type': 'PF', 'line': '0'}, 1: {'node': <hatchet.node.Node instance at 0x10e1792d8>, 'name': '<unknown procedure>', 'module': '/usr/lib64/libpsm_infinipath.so.1.14', 'CPUTIME (usec) (I)': 0.0, 'file': '<unknown file>', 'CPUTIME (usec) (E)': 0.0, 'type': 'PF', 'line': '0'}, 2: {'node': <hatchet.node.Node instance at 0x10e1792d8>, 'name': '<unknown procedure>', 'module': '/usr/lib64/libpsm_infinipath.so.1.14', 'CPUTIME (usec) (I)': 0.0, 'file': '<unknown file>', 'CPUTIME (usec) (E)': 0.0, 'type': 'PF', 'line': '0'}}, 'module': '/usr/lib64/libpsm_infinipath.so.1.14'}, {'function': 'MPIDI_CH3_Finalize', 'metrics': {0: {'node': <hatchet.node.Node instance at 0x10e194248>, 'name': 'MPIDI_CH3_Finalize', 'module': '/usr/local/tools/mvapich2-intel-debug-2.2/lib/libmpi.so.12.0.5', 'CPUTIME (usec) (I)': 999238.0, 'file': '/tmp/dpkg-mkdeb.gouoc49UG7/src/mvapich/src/build/../src/mpid/ch3/channels/psm/src/mpidi_calls.c', 'CPUTIME (usec) (E)': 0.0, 'type': 'PF', 'line': '230'}, 1: {'node': <hatchet.node.Node instance at 0x10e194248>, 'name': 'MPIDI_CH3_Finalize', 'module': '/usr/local/tools/mvapich2-intel-debug-2.2/lib/libmpi.so.12.0.5', 'CPUTIME (usec) (I)': 1000306.0, 'file': '/tmp/dpkg-mkdeb.gouoc49UG7/src/mvapich/src/build/../src/mpid/ch3/channels/psm/src/mpidi_calls.c', 'CPUTIME (usec) (E)': 0.0, 'type': 'PF', 'line': '230'}, 2: {'node': <hatchet.node.Node instance at 0x10e194248>, 'name': 'MPIDI_CH3_Finalize', 'module': '/usr/local/tools/mvapich2-intel-debug-2.2/lib/libmpi.so.12.0.5', 'CPUTIME (usec) (I)': 999308.0, 'file': '/tmp/dpkg-mkdeb.gouoc49UG7/src/mvapich/src/build/../src/mpid/ch3/channels/psm/src/mpidi_calls.c', 'CPUTIME (usec) (E)': 0.0, 'type': 'PF', 'line': '230'}}, 'module': '/usr/local/tools/mvapich2-intel-debug-2.2/lib/libmpi.so.12.0.5'}, {'function': 'MPIDI_CH3_Init', 'metrics': {0: {'node': <hatchet.node.Node instance at 0x10dd1b680>, 'name': 'MPIDI_CH3_Init', 'module': '/usr/local/tools/mvapich2-intel-debug-2.2/lib/libmpi.so.12.0.5', 'CPUTIME (usec) (I)': 0.0, 'file': '/tmp/dpkg-mkdeb.gouoc49UG7/src/mvapich/src/build/../src/mpid/ch3/channels/psm/src/mpidi_calls.c', 'CPUTIME (usec) (E)': 0.0, 'type': 'PF', 'line': '24'}, 1: {'node': <hatchet.node.Node instance at 0x10dd1b680>, 'name': 'MPIDI_CH3_Init', 'module': '/usr/local/tools/mvapich2-intel-debug-2.2/lib/libmpi.so.12.0.5', 'CPUTIME (usec) (I)': 0.0, 'file': '/tmp/dpkg-mkdeb.gouoc49UG7/src/mvapich/src/build/../src/mpid/ch3/channels/psm/src/mpidi_calls.c', 'CPUTIME (usec) (E)': 0.0, 'type': 'PF', 'line': '24'}, 2: {'node': <hatchet.node.Node instance at 0x10dd1b680>, 'name': 'MPIDI_CH3_Init', 'module': '/usr/local/tools/mvapich2-intel-debug-2.2/lib/libmpi.so.12.0.5', 'CPUTIME (usec) (I)': 0.0, 'file': '/tmp/dpkg-mkdeb.gouoc49UG7/src/mvapich/src/build/../src/mpid/ch3/channels/psm/src/mpidi_calls.c', 'CPUTIME (usec) (E)': 0.0, 'type': 'PF', 'line': '24'}}, 'module': '/usr/local/tools/mvapich2-intel-debug-2.2/lib/libmpi.so.12.0.5'}, {'function': 'MPID_Finalize', 'metrics': {0: {'node': <hatchet.node.Node instance at 0x10e1944d0>, 'name': 'MPID_Finalize', 'module': '/usr/local/tools/mvapich2-intel-debug-2.2/lib/libmpi.so.12.0.5', 'CPUTIME (usec) (I)': 999238.0, 'file': '/tmp/dpkg-mkdeb.gouoc49UG7/src/mvapich/src/build/../src/mpid/ch3/src/mpid_finalize.c', 'CPUTIME (usec) (E)': 0.0, 'type': 'PF', 'line': '162'}, 1: {'node': <hatchet.node.Node instance at 0x10e1944d0>, 'name': 'MPID_Finalize', 'module': '/usr/local/tools/mvapich2-intel-debug-2.2/lib/libmpi.so.12.0.5', 'CPUTIME (usec) (I)': 1000306.0, 'file': '/tmp/dpkg-mkdeb.gouoc49UG7/src/mvapich/src/build/../src/mpid/ch3/src/mpid_finalize.c', 'CPUTIME (usec) (E)': 0.0, 'type': 'PF', 'line': '162'}, 2: {'node': <hatchet.node.Node instance at 0x10e1944d0>, 'name': 'MPID_Finalize', 'module': '/usr/local/tools/mvapich2-intel-debug-2.2/lib/libmpi.so.12.0.5', 'CPUTIME (usec) (I)': 999308.0, 'file': '/tmp/dpkg-mkdeb.gouoc49UG7/src/mvapich/src/build/../src/mpid/ch3/src/mpid_finalize.c', 'CPUTIME (usec) (E)': 0.0, 'type': 'PF', 'line': '162'}}, 'module': '/usr/local/tools/mvapich2-intel-debug-2.2/lib/libmpi.so.12.0.5'}, {'function': 'MPID_Init', 'metrics': {0: {'node': <hatchet.node.Node instance at 0x10e1656c8>, 'name': 'MPID_Init', 'module': '/usr/local/tools/mvapich2-intel-debug-2.2/lib/libmpi.so.12.0.5', 'CPUTIME (usec) (I)': 0.0, 'file': '/tmp/dpkg-mkdeb.gouoc49UG7/src/mvapich/src/build/../src/mpid/ch3/src/mpid_init.c', 'CPUTIME (usec) (E)': 0.0, 'type': 'PF', 'line': '363'}, 1: {'node': <hatchet.node.Node instance at 0x10e1656c8>, 'name': 'MPID_Init', 'module': '/usr/local/tools/mvapich2-intel-debug-2.2/lib/libmpi.so.12.0.5', 'CPUTIME (usec) (I)': 0.0, 'file': '/tmp/dpkg-mkdeb.gouoc49UG7/src/mvapich/src/build/../src/mpid/ch3/src/mpid_init.c', 'CPUTIME (usec) (E)': 0.0, 'type': 'PF', 'line': '363'}, 2: {'node': <hatchet.node.Node instance at 0x10e1656c8>, 'name': 'MPID_Init', 'module': '/usr/local/tools/mvapich2-intel-debug-2.2/lib/libmpi.so.12.0.5', 'CPUTIME (usec) (I)': 0.0, 'file': '/tmp/dpkg-mkdeb.gouoc49UG7/src/mvapich/src/build/../src/mpid/ch3/src/mpid_init.c', 'CPUTIME (usec) (E)': 0.0, 'type': 'PF', 'line': '363'}}, 'module': '/usr/local/tools/mvapich2-intel-debug-2.2/lib/libmpi.so.12.0.5'}, {'function': 'MPIR_Init_thread', 'metrics': {0: {'node': <hatchet.node.Node instance at 0x10e17b9e0>, 'name': 'MPIR_Init_thread', 'module': '/usr/local/tools/mvapich2-intel-debug-2.2/lib/libmpi.so.12.0.5', 'CPUTIME (usec) (I)': 0.0, 'file': '/tmp/dpkg-mkdeb.gouoc49UG7/src/mvapich/src/build/../src/mpi/init/initthread.c', 'CPUTIME (usec) (E)': 0.0, 'type': 'PF', 'line': '512'}, 1: {'node': <hatchet.node.Node instance at 0x10e17b9e0>, 'name': 'MPIR_Init_thread', 'module': '/usr/local/tools/mvapich2-intel-debug-2.2/lib/libmpi.so.12.0.5', 'CPUTIME (usec) (I)': 0.0, 'file': '/tmp/dpkg-mkdeb.gouoc49UG7/src/mvapich/src/build/../src/mpi/init/initthread.c', 'CPUTIME (usec) (E)': 0.0, 'type': 'PF', 'line': '512'}, 2: {'node': <hatchet.node.Node instance at 0x10e17b9e0>, 'name': 'MPIR_Init_thread', 'module': '/usr/local/tools/mvapich2-intel-debug-2.2/lib/libmpi.so.12.0.5', 'CPUTIME (usec) (I)': 0.0, 'file': '/tmp/dpkg-mkdeb.gouoc49UG7/src/mvapich/src/build/../src/mpi/init/initthread.c', 'CPUTIME (usec) (E)': 0.0, 'type': 'PF', 'line': '512'}}, 'module': '/usr/local/tools/mvapich2-intel-debug-2.2/lib/libmpi.so.12.0.5'}, {'function': 'PMPI_Finalize', 'metrics': {0: {'node': <hatchet.node.Node instance at 0x10e194e60>, 'name': 'PMPI_Finalize', 'module': '/usr/local/tools/mvapich2-intel-debug-2.2/lib/libmpi.so.12.0.5', 'CPUTIME (usec) (I)': 999238.0, 'file': '/tmp/dpkg-mkdeb.gouoc49UG7/src/mvapich/src/build/../src/mpi/init/finalize.c', 'CPUTIME (usec) (E)': 0.0, 'type': 'PF', 'line': '294'}, 1: {'node': <hatchet.node.Node instance at 0x10e194e60>, 'name': 'PMPI_Finalize', 'module': '/usr/local/tools/mvapich2-intel-debug-2.2/lib/libmpi.so.12.0.5', 'CPUTIME (usec) (I)': 1000306.0, 'file': '/tmp/dpkg-mkdeb.gouoc49UG7/src/mvapich/src/build/../src/mpi/init/finalize.c', 'CPUTIME (usec) (E)': 0.0, 'type': 'PF', 'line': '294'}, 2: {'node': <hatchet.node.Node instance at 0x10e194e60>, 'name': 'PMPI_Finalize', 'module': '/usr/local/tools/mvapich2-intel-debug-2.2/lib/libmpi.so.12.0.5', 'CPUTIME (usec) (I)': 999308.0, 'file': '/tmp/dpkg-mkdeb.gouoc49UG7/src/mvapich/src/build/../src/mpi/init/finalize.c', 'CPUTIME (usec) (E)': 0.0, 'type': 'PF', 'line': '294'}}, 'module': '/usr/local/tools/mvapich2-intel-debug-2.2/lib/libmpi.so.12.0.5'}, {'function': 'PMPI_Init', 'metrics': {0: {'node': <hatchet.node.Node instance at 0x10e17bc68>, 'name': 'PMPI_Init', 'module': '/usr/local/tools/mvapich2-intel-debug-2.2/lib/libmpi.so.12.0.5', 'CPUTIME (usec) (I)': 0.0, 'file': '/tmp/dpkg-mkdeb.gouoc49UG7/src/mvapich/src/build/../src/mpi/init/init.c', 'CPUTIME (usec) (E)': 0.0, 'type': 'PF', 'line': '198'}, 1: {'node': <hatchet.node.Node instance at 0x10e17bc68>, 'name': 'PMPI_Init', 'module': '/usr/local/tools/mvapich2-intel-debug-2.2/lib/libmpi.so.12.0.5', 'CPUTIME (usec) (I)': 0.0, 'file': '/tmp/dpkg-mkdeb.gouoc49UG7/src/mvapich/src/build/../src/mpi/init/init.c', 'CPUTIME (usec) (E)': 0.0, 'type': 'PF', 'line': '198'}, 2: {'node': <hatchet.node.Node instance at 0x10e17bc68>, 'name': 'PMPI_Init', 'module': '/usr/local/tools/mvapich2-intel-debug-2.2/lib/libmpi.so.12.0.5', 'CPUTIME (usec) (I)': 0.0, 'file': '/tmp/dpkg-mkdeb.gouoc49UG7/src/mvapich/src/build/../src/mpi/init/init.c', 'CPUTIME (usec) (E)': 0.0, 'type': 'PF', 'line': '198'}}, 'module': '/usr/local/tools/mvapich2-intel-debug-2.2/lib/libmpi.so.12.0.5'}, {'function': 'psm_dofinalize', 'metrics': {0: {'node': <hatchet.node.Node instance at 0x10e194758>, 'name': 'psm_dofinalize', 'module': '/usr/local/tools/mvapich2-intel-debug-2.2/lib/libmpi.so.12.0.5', 'CPUTIME (usec) (I)': 999238.0, 'file': '/tmp/dpkg-mkdeb.gouoc49UG7/src/mvapich/src/build/../src/mpid/ch3/channels/psm/src/psm_exit.c', 'CPUTIME (usec) (E)': 0.0, 'type': 'PF', 'line': '36'}, 1: {'node': <hatchet.node.Node instance at 0x10e194758>, 'name': 'psm_dofinalize', 'module': '/usr/local/tools/mvapich2-intel-debug-2.2/lib/libmpi.so.12.0.5', 'CPUTIME (usec) (I)': 1000306.0, 'file': '/tmp/dpkg-mkdeb.gouoc49UG7/src/mvapich/src/build/../src/mpid/ch3/channels/psm/src/psm_exit.c', 'CPUTIME (usec) (E)': 0.0, 'type': 'PF', 'line': '36'}, 2: {'node': <hatchet.node.Node instance at 0x10e194758>, 'name': 'psm_dofinalize', 'module': '/usr/local/tools/mvapich2-intel-debug-2.2/lib/libmpi.so.12.0.5', 'CPUTIME (usec) (I)': 999308.0, 'file': '/tmp/dpkg-mkdeb.gouoc49UG7/src/mvapich/src/build/../src/mpid/ch3/channels/psm/src/psm_exit.c', 'CPUTIME (usec) (E)': 0.0, 'type': 'PF', 'line': '36'}}, 'module': '/usr/local/tools/mvapich2-intel-debug-2.2/lib/libmpi.so.12.0.5'}, {'function': 'psm_doinit', 'metrics': {0: {'node': <hatchet.node.Node instance at 0x10e12e488>, 'name': 'psm_doinit', 'module': '/usr/local/tools/mvapich2-intel-debug-2.2/lib/libmpi.so.12.0.5', 'CPUTIME (usec) (I)': 0.0, 'file': '/tmp/dpkg-mkdeb.gouoc49UG7/src/mvapich/src/build/../src/mpid/ch3/channels/psm/src/psm_entry.c', 'CPUTIME (usec) (E)': 0.0, 'type': 'PF', 'line': '348'}, 1: {'node': <hatchet.node.Node instance at 0x10e12e488>, 'name': 'psm_doinit', 'module': '/usr/local/tools/mvapich2-intel-debug-2.2/lib/libmpi.so.12.0.5', 'CPUTIME (usec) (I)': 0.0, 'file': '/tmp/dpkg-mkdeb.gouoc49UG7/src/mvapich/src/build/../src/mpid/ch3/channels/psm/src/psm_entry.c', 'CPUTIME (usec) (E)': 0.0, 'type': 'PF', 'line': '348'}, 2: {'node': <hatchet.node.Node instance at 0x10e12e488>, 'name': 'psm_doinit', 'module': '/usr/local/tools/mvapich2-intel-debug-2.2/lib/libmpi.so.12.0.5', 'CPUTIME (usec) (I)': 0.0, 'file': '/tmp/dpkg-mkdeb.gouoc49UG7/src/mvapich/src/build/../src/mpid/ch3/channels/psm/src/psm_entry.c', 'CPUTIME (usec) (E)': 0.0, 'type': 'PF', 'line': '348'}}, 'module': '/usr/local/tools/mvapich2-intel-debug-2.2/lib/libmpi.so.12.0.5'}, {'function': 'main', 'metrics': {0: {'node': <hatchet.node.Node instance at 0x10dd1cc68>, 'name': 'main', 'module': 'cpi', 'CPUTIME (usec) (I)': 999238.0, 'file': './src/cpi.c', 'CPUTIME (usec) (E)': 0.0, 'type': 'PF', 'line': '19'}, 1: {'node': <hatchet.node.Node instance at 0x10dd1cc68>, 'name': 'main', 'module': 'cpi', 'CPUTIME (usec) (I)': 1000306.0, 'file': './src/cpi.c', 'CPUTIME (usec) (E)': 0.0, 'type': 'PF', 'line': '19'}, 2: {'node': <hatchet.node.Node instance at 0x10dd1cc68>, 'name': 'main', 'module': 'cpi', 'CPUTIME (usec) (I)': 999308.0, 'file': './src/cpi.c', 'CPUTIME (usec) (E)': 0.0, 'type': 'PF', 'line': '19'}}, 'module': 'cpi'}]\n"
     ]
    }
   ],
   "source": [
    "gfs = create_gf(data_paths, 'hpctoolkit')\n",
    "for gf in gfs:\n",
    "    name_df = gf.dataframe.groupby(['module','name'])\n",
    "    nodes = []\n",
    "    for key, item in name_df:\n",
    "        module = key[0]\n",
    "        function = key[1]\n",
    "        inclusive_times = {}\n",
    "        for rank_keys, rank_items in item.groupby(['rank']):\n",
    "            inclusive_times[rank_keys] = metrics(rank_items)\n",
    "\n",
    "        nodes.append( { \n",
    "            \"module\": module,\n",
    "            \"function\": function, \n",
    "            \"metrics\": inclusive_times\n",
    "        })\n",
    "    print nodes\n",
    "        "
   ]
  },
  {
   "cell_type": "code",
   "execution_count": 86,
   "metadata": {},
   "outputs": [
    {
     "name": "stdout",
     "output_type": "stream",
     "text": [
      "<pandas.core.groupby.groupby.DataFrameGroupBy object at 0x10dbca8d0>\n",
      "['./src/cpi.c', '/tmp/dpkg-mkdeb.gouoc49UG7/src/mvapich/src/build/../src/mpi/init/finalize.c', '/tmp/dpkg-mkdeb.gouoc49UG7/src/mvapich/src/build/../src/mpi/init/init.c', '/tmp/dpkg-mkdeb.gouoc49UG7/src/mvapich/src/build/../src/mpi/init/initthread.c', '/tmp/dpkg-mkdeb.gouoc49UG7/src/mvapich/src/build/../src/mpid/ch3/channels/psm/src/mpidi_calls.c', '/tmp/dpkg-mkdeb.gouoc49UG7/src/mvapich/src/build/../src/mpid/ch3/channels/psm/src/psm_entry.c', '/tmp/dpkg-mkdeb.gouoc49UG7/src/mvapich/src/build/../src/mpid/ch3/channels/psm/src/psm_exit.c', '/tmp/dpkg-mkdeb.gouoc49UG7/src/mvapich/src/build/../src/mpid/ch3/src/mpid_finalize.c', '/tmp/dpkg-mkdeb.gouoc49UG7/src/mvapich/src/build/../src/mpid/ch3/src/mpid_init.c', '<unknown file>', 'interp.c']\n"
     ]
    }
   ],
   "source": [
    "getFileNames(gfs[0])"
   ]
  }
 ],
 "metadata": {
  "kernelspec": {
   "display_name": "Python 2",
   "language": "python",
   "name": "python2"
  },
  "language_info": {
   "codemirror_mode": {
    "name": "ipython",
    "version": 2
   },
   "file_extension": ".py",
   "mimetype": "text/x-python",
   "name": "python",
   "nbconvert_exporter": "python",
   "pygments_lexer": "ipython2",
   "version": "2.7.10"
  }
 },
 "nbformat": 4,
 "nbformat_minor": 2
}
