{
 "cells": [
  {
   "cell_type": "code",
   "execution_count": 66,
   "metadata": {},
   "outputs": [],
   "source": [
    "import pandas as pd\n",
    "import numpy as np\n",
    "import json\n",
    "from hatchet import *\n",
    "import pprint"
   ]
  },
  {
   "cell_type": "code",
   "execution_count": 67,
   "metadata": {},
   "outputs": [],
   "source": [
    "def read_file(jsonfile):\n",
    "  f = open(jsonfile, 'r')\n",
    "  path = json.loads(f.read())['path']\n",
    "  return path\n"
   ]
  },
  {
   "cell_type": "code",
   "execution_count": 68,
   "metadata": {},
   "outputs": [],
   "source": [
    "def create_gf(paths, file_format):\n",
    "  ret = []\n",
    "  for i in range(0, len(paths)):\n",
    "    gf = GraphFrame()\n",
    "    if file_format == 'hpctoolkit':\n",
    "      gf.from_hpctoolkit(paths[i])\n",
    "    elif file_format == 'caliper':\n",
    "      gf.from_caliper(paths[i])\n",
    "    ret.append(gf)\n",
    "  return ret\n"
   ]
  },
  {
   "cell_type": "code",
   "execution_count": 85,
   "metadata": {},
   "outputs": [],
   "source": [
    "def getFileNames(gf):\n",
    "    ret = []\n",
    "    file_df = gf.dataframe.groupby('file')\n",
    "    for key in file_df:\n",
    "        ret.append(key[0])\n",
    "    return ret"
   ]
  },
  {
   "cell_type": "code",
   "execution_count": 11,
   "metadata": {},
   "outputs": [],
   "source": [
    " def run(self, gfs):\n",
    "    ret = {}\n",
    "    graphID = 0"
   ]
  },
  {
   "cell_type": "code",
   "execution_count": 70,
   "metadata": {},
   "outputs": [],
   "source": [
    "url_path = \"/Users/kesavan1/Suraj/llnl/CallFlow/calc-pi.json\"\n",
    "data_paths = read_file(url_path)"
   ]
  },
  {
   "cell_type": "code",
   "execution_count": 71,
   "metadata": {},
   "outputs": [],
   "source": [
    "pp = pprint.PrettyPrinter(indent=4)"
   ]
  },
  {
   "cell_type": "code",
   "execution_count": 123,
   "metadata": {},
   "outputs": [
    {
     "name": "stdout",
     "output_type": "stream",
     "text": [
      "('/collab/usr/global/tools/hpctoolkit/chaos_5_x86_64_ib/hpctoolkit-2017-03-16/lib/hpctoolkit/ext-libs/libmonitor.so.0.0.0', '<program root>') CPUTIME (usec) (I)    1000306.0\n",
      "dtype: float64\n",
      "('/collab/usr/global/tools/hpctoolkit/chaos_5_x86_64_ib/hpctoolkit-2017-03-16/lib/hpctoolkit/ext-libs/libmonitor.so.0.0.0', 'MPI_Finalize') CPUTIME (usec) (I)    1000306.0\n",
      "dtype: float64\n",
      "('/collab/usr/global/tools/hpctoolkit/chaos_5_x86_64_ib/hpctoolkit-2017-03-16/lib/hpctoolkit/ext-libs/libmonitor.so.0.0.0', 'MPI_Init') CPUTIME (usec) (I)    0.0\n",
      "dtype: float64\n",
      "('/collab/usr/global/tools/hpctoolkit/chaos_5_x86_64_ib/hpctoolkit-2017-03-16/lib/hpctoolkit/ext-libs/libmonitor.so.0.0.0', 'pthread_create') CPUTIME (usec) (I)    0.0\n",
      "dtype: float64\n",
      "('/lib64/libc-2.12.so', '__GI_sched_yield') CPUTIME (usec) (I)    17989.0\n",
      "dtype: float64\n",
      "('/usr/lib64/libpsm_infinipath.so.1.14', '<unknown procedure>') CPUTIME (usec) (I)    1000306.0\n",
      "dtype: float64\n",
      "('/usr/local/tools/mvapich2-intel-debug-2.2/lib/libmpi.so.12.0.5', 'MPIDI_CH3_Finalize') CPUTIME (usec) (I)    1000306.0\n",
      "dtype: float64\n",
      "('/usr/local/tools/mvapich2-intel-debug-2.2/lib/libmpi.so.12.0.5', 'MPIDI_CH3_Init') CPUTIME (usec) (I)    0.0\n",
      "dtype: float64\n",
      "('/usr/local/tools/mvapich2-intel-debug-2.2/lib/libmpi.so.12.0.5', 'MPID_Finalize') CPUTIME (usec) (I)    1000306.0\n",
      "dtype: float64\n",
      "('/usr/local/tools/mvapich2-intel-debug-2.2/lib/libmpi.so.12.0.5', 'MPID_Init') CPUTIME (usec) (I)    0.0\n",
      "dtype: float64\n",
      "('/usr/local/tools/mvapich2-intel-debug-2.2/lib/libmpi.so.12.0.5', 'MPIR_Init_thread') CPUTIME (usec) (I)    0.0\n",
      "dtype: float64\n",
      "('/usr/local/tools/mvapich2-intel-debug-2.2/lib/libmpi.so.12.0.5', 'PMPI_Finalize') CPUTIME (usec) (I)    1000306.0\n",
      "dtype: float64\n",
      "('/usr/local/tools/mvapich2-intel-debug-2.2/lib/libmpi.so.12.0.5', 'PMPI_Init') CPUTIME (usec) (I)    0.0\n",
      "dtype: float64\n",
      "('/usr/local/tools/mvapich2-intel-debug-2.2/lib/libmpi.so.12.0.5', 'psm_dofinalize') CPUTIME (usec) (I)    1000306.0\n",
      "dtype: float64\n",
      "('/usr/local/tools/mvapich2-intel-debug-2.2/lib/libmpi.so.12.0.5', 'psm_doinit') CPUTIME (usec) (I)    0.0\n",
      "dtype: float64\n",
      "('cpi', 'main') CPUTIME (usec) (I)    1000306.0\n",
      "dtype: float64\n"
     ]
    }
   ],
   "source": [
    "gfs = create_gf(data_paths, 'hpctoolkit')\n",
    "for gf in gfs:\n",
    "    #print gf.dataframe.name, gf.dataframe['CPUTIME (usec) (I)']\n",
    "    module_df = gf.dataframe.groupby(['module','name'])\n",
    "    name_df = gf.dataframe.groupby(['module','name'])\n",
    "    #print(name_df.to_string())\n",
    "    for key, item in name_df:\n",
    "        print key, name_df[['CPUTIME (usec) (I)']].get_group(key).max()\n",
    "        "
   ]
  },
  {
   "cell_type": "code",
   "execution_count": 86,
   "metadata": {},
   "outputs": [
    {
     "name": "stdout",
     "output_type": "stream",
     "text": [
      "<pandas.core.groupby.groupby.DataFrameGroupBy object at 0x10dbca8d0>\n",
      "['./src/cpi.c', '/tmp/dpkg-mkdeb.gouoc49UG7/src/mvapich/src/build/../src/mpi/init/finalize.c', '/tmp/dpkg-mkdeb.gouoc49UG7/src/mvapich/src/build/../src/mpi/init/init.c', '/tmp/dpkg-mkdeb.gouoc49UG7/src/mvapich/src/build/../src/mpi/init/initthread.c', '/tmp/dpkg-mkdeb.gouoc49UG7/src/mvapich/src/build/../src/mpid/ch3/channels/psm/src/mpidi_calls.c', '/tmp/dpkg-mkdeb.gouoc49UG7/src/mvapich/src/build/../src/mpid/ch3/channels/psm/src/psm_entry.c', '/tmp/dpkg-mkdeb.gouoc49UG7/src/mvapich/src/build/../src/mpid/ch3/channels/psm/src/psm_exit.c', '/tmp/dpkg-mkdeb.gouoc49UG7/src/mvapich/src/build/../src/mpid/ch3/src/mpid_finalize.c', '/tmp/dpkg-mkdeb.gouoc49UG7/src/mvapich/src/build/../src/mpid/ch3/src/mpid_init.c', '<unknown file>', 'interp.c']\n"
     ]
    }
   ],
   "source": [
    "getFileNames(gfs[0])"
   ]
  }
 ],
 "metadata": {
  "kernelspec": {
   "display_name": "Python 2",
   "language": "python",
   "name": "python2"
  },
  "language_info": {
   "codemirror_mode": {
    "name": "ipython",
    "version": 2
   },
   "file_extension": ".py",
   "mimetype": "text/x-python",
   "name": "python",
   "nbconvert_exporter": "python",
   "pygments_lexer": "ipython2",
   "version": "2.7.10"
  }
 },
 "nbformat": 4,
 "nbformat_minor": 2
}
