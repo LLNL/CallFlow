{
 "cells": [
  {
   "cell_type": "code",
   "execution_count": 65,
   "metadata": {},
   "outputs": [],
   "source": [
    "import networkx as nx\n",
    "import pandas\n",
    "from hatchet import *\n",
    "import os\n",
    "import matplotlib.pyplot as plt\n",
    "import seaborn.apionly as sns\n",
    "import igraph\n",
    "from actions.groupBy import groupBy"
   ]
  },
  {
   "cell_type": "code",
   "execution_count": 2,
   "metadata": {},
   "outputs": [],
   "source": [
    "%matplotlib inline"
   ]
  },
  {
   "cell_type": "code",
   "execution_count": 3,
   "metadata": {},
   "outputs": [],
   "source": [
    "pd.options.display.max_rows = 10\n",
    "pd.options.display.float_format = '{:,.2f}'.format\n",
    "plt.rcParams['figure.figsize'] = (16, 12)"
   ]
  },
  {
   "cell_type": "code",
   "execution_count": 4,
   "metadata": {},
   "outputs": [],
   "source": [
    "# Linux path\n",
    "callflow_path = \"/home/vidi/Suraj/llnl/CallFlow/\"\n",
    "dataset_path = [\"./data/hpctoolkit-lulesh-2\", \"./data/hpctoolkit-osu_bw\"]"
   ]
  },
  {
   "cell_type": "code",
   "execution_count": 45,
   "metadata": {},
   "outputs": [],
   "source": [
    "#Mac OSx path\n",
    "callflow_path = \"/Users/jarus/ucd/Research/Visualisation/projects/CallFlow\"\n",
    "dataset_path = [\"data/lulesh-1/db-ampi4-100-1\", \"data/lulesh-1/db-ampi4-100-8\"]"
   ]
  },
  {
   "cell_type": "code",
   "execution_count": 46,
   "metadata": {
    "scrolled": true
   },
   "outputs": [
    {
     "name": "stdout",
     "output_type": "stream",
     "text": [
      "Creating graphframes....\n",
      "0:/Users/jarus/ucd/Research/Visualisation/projects/CallFlow/data/lulesh-1/db-ampi4-100-1\n",
      "[Create] Rows in dataframe: 185290\n",
      "1:/Users/jarus/ucd/Research/Visualisation/projects/CallFlow/data/lulesh-1/db-ampi4-100-8\n",
      "[Create] Rows in dataframe: 300890\n"
     ]
    }
   ],
   "source": [
    "# Create Graphframes.\n",
    "def create_gfs(file_format, paths):    \n",
    "        print(\"Creating graphframes....\")                                                                                             \n",
    "        ret = []                                                                                                                         \n",
    "        for idx, path in enumerate(paths):\n",
    "            path = os.path.abspath(os.path.join(callflow_path, path)) \n",
    "            gf = GraphFrame()   \n",
    "            gf.from_hpctoolkit(path, 3)                                                                            \n",
    "            ret.append(gf) \n",
    "            print(str(idx) + \":\" + path)                                                                                              \n",
    "            print(\"[Create] Rows in dataframe: {0}\".format(gf.dataframe.shape[0]))                       \n",
    "        return ret \n",
    "\n",
    "gfs = create_gfs('hpctoolkit', dataset_path)"
   ]
  },
  {
   "cell_type": "code",
   "execution_count": 47,
   "metadata": {},
   "outputs": [],
   "source": [
    "# util functions\n",
    "\n",
    "def lookup(df, node):                                                                                                                    \n",
    "    return df.loc[df['node'] == node] \n",
    "\n",
    "def getMaxIncTime(gf):                                                                                                                   \n",
    "    ret = 0.0                                                                                                                            \n",
    "    for root in gf.graph.roots:                                                                                                          \n",
    "        ret = max(ret, lookup(gf.dataframe, root)['CPUTIME (usec) (I)'].max())                                                           \n",
    "    return ret                                                                                                                           \n",
    "                                                                                                                                         \n",
    "def getMaxExcTime(gf):                                                                                                                   \n",
    "    ret  = gf.dataframe['CPUTIME (usec) (E)'].max()                                                                                      \n",
    "    return ret                                                                                                                           \n",
    "               \n",
    "def special_lookup(gf, df_index):   \n",
    "    return gf.dataframe.loc[gf.dataframe['name'] == df_index] "
   ]
  },
  {
   "cell_type": "code",
   "execution_count": 48,
   "metadata": {
    "scrolled": true
   },
   "outputs": [
    {
     "name": "stdout",
     "output_type": "stream",
     "text": [
      "Filtering the dataframe!\n",
      "[Filter] Removed 184457 rows.)\n",
      "Grafting the graph!\n",
      "[Graft] 833 rows left\n",
      "Filtering the dataframe!\n",
      "[Filter] Removed 300356 rows.)\n",
      "Grafting the graph!\n",
      "[Graft] 534 rows left\n",
      "                           CPUTIME (usec) (I)  CPUTIME (usec) (E)       nid  \\\n",
      "node                 rank                                                     \n",
      "<partial call paths> 0.00      107,348,942.00                0.00      2.00   \n",
      "                     1.00      108,196,838.00                0.00      2.00   \n",
      "                     2.00      107,862,418.00                0.00      2.00   \n",
      "                     3.00      108,048,201.00                0.00      2.00   \n",
      "                     4.00      106,546,259.00                0.00      2.00   \n",
      "...                                       ...                 ...       ...   \n",
      "Loop@lulesh.cc:2327  0.00        1,117,993.00        1,117,993.00 27,064.00   \n",
      "                     1.00        1,162,207.00        1,162,207.00 27,064.00   \n",
      "                     2.00        1,128,843.00        1,128,843.00 27,064.00   \n",
      "                     3.00        1,172,427.00        1,172,427.00 27,064.00   \n",
      "                     4.00        1,152,264.00        1,152,264.00 27,064.00   \n",
      "\n",
      "                           rank  \\\n",
      "node                 rank         \n",
      "<partial call paths> 0.00  0.00   \n",
      "                     1.00  1.00   \n",
      "                     2.00  2.00   \n",
      "                     3.00  3.00   \n",
      "                     4.00  4.00   \n",
      "...                         ...   \n",
      "Loop@lulesh.cc:2327  0.00  0.00   \n",
      "                     1.00  1.00   \n",
      "                     2.00  2.00   \n",
      "                     3.00  3.00   \n",
      "                     4.00  4.00   \n",
      "\n",
      "                                                                        file  \\\n",
      "node                 rank                                                      \n",
      "<partial call paths> 0.00                                     <unknown file>   \n",
      "                     1.00                                     <unknown file>   \n",
      "                     2.00                                     <unknown file>   \n",
      "                     3.00                                     <unknown file>   \n",
      "                     4.00                                     <unknown file>   \n",
      "...                                                                      ...   \n",
      "Loop@lulesh.cc:2327  0.00  ./src/usr/workspace/wsb/jain6/fattree-study/lu...   \n",
      "                     1.00  ./src/usr/workspace/wsb/jain6/fattree-study/lu...   \n",
      "                     2.00  ./src/usr/workspace/wsb/jain6/fattree-study/lu...   \n",
      "                     3.00  ./src/usr/workspace/wsb/jain6/fattree-study/lu...   \n",
      "                     4.00  ./src/usr/workspace/wsb/jain6/fattree-study/lu...   \n",
      "\n",
      "                           line                 module                  name  \\\n",
      "node                 rank                                                      \n",
      "<partial call paths> 0.00     0  <unknown load module>  <partial call paths>   \n",
      "                     1.00     0  <unknown load module>  <partial call paths>   \n",
      "                     2.00     0  <unknown load module>  <partial call paths>   \n",
      "                     3.00     0  <unknown load module>  <partial call paths>   \n",
      "                     4.00     0  <unknown load module>  <partial call paths>   \n",
      "...                         ...                    ...                   ...   \n",
      "Loop@lulesh.cc:2327  0.00  2327                   None   Loop@lulesh.cc:2327   \n",
      "                     1.00  2327                   None   Loop@lulesh.cc:2327   \n",
      "                     2.00  2327                   None   Loop@lulesh.cc:2327   \n",
      "                     3.00  2327                   None   Loop@lulesh.cc:2327   \n",
      "                     4.00  2327                   None   Loop@lulesh.cc:2327   \n",
      "\n",
      "                                           node type  \n",
      "node                 rank                             \n",
      "<partial call paths> 0.00  <partial call paths>   PF  \n",
      "                     1.00  <partial call paths>   PF  \n",
      "                     2.00  <partial call paths>   PF  \n",
      "                     3.00  <partial call paths>   PF  \n",
      "                     4.00  <partial call paths>   PF  \n",
      "...                                         ...  ...  \n",
      "Loop@lulesh.cc:2327  0.00   Loop@lulesh.cc:2327    L  \n",
      "                     1.00   Loop@lulesh.cc:2327    L  \n",
      "                     2.00   Loop@lulesh.cc:2327    L  \n",
      "                     3.00   Loop@lulesh.cc:2327    L  \n",
      "                     4.00   Loop@lulesh.cc:2327    L  \n",
      "\n",
      "[833 rows x 10 columns]\n",
      "                               CPUTIME (usec) (I)  CPUTIME (usec) (E)  \\\n",
      "node                     rank                                           \n",
      "<partial call paths>     0.00      145,114,370.00                0.00   \n",
      "                         1.00       49,131,051.00                0.00   \n",
      "                         2.00       49,973,888.00                0.00   \n",
      "                         3.00      149,138,849.00                0.00   \n",
      "                         4.00       50,571,164.00                0.00   \n",
      "...                                           ...                 ...   \n",
      "Loop@lulesh.cc:2059      6.00        2,413,604.00        2,413,604.00   \n",
      "Loop@lulesh.cc:2183      0.00        6,645,321.00        6,238,620.00   \n",
      "                         3.00        7,314,364.00        6,886,003.00   \n",
      "                         6.00        6,143,485.00        5,807,975.00   \n",
      "Stmt25084@lulesh.cc:2190 3.00        1,523,707.00        1,523,707.00   \n",
      "\n",
      "                                    nid  rank  \\\n",
      "node                     rank                   \n",
      "<partial call paths>     0.00      2.00  0.00   \n",
      "                         1.00      2.00  1.00   \n",
      "                         2.00      2.00  2.00   \n",
      "                         3.00      2.00  3.00   \n",
      "                         4.00      2.00  4.00   \n",
      "...                                 ...   ...   \n",
      "Loop@lulesh.cc:2059      6.00 42,928.00  6.00   \n",
      "Loop@lulesh.cc:2183      0.00 42,952.00  0.00   \n",
      "                         3.00 42,952.00  3.00   \n",
      "                         6.00 42,952.00  6.00   \n",
      "Stmt25084@lulesh.cc:2190 3.00 42,958.00  3.00   \n",
      "\n",
      "                                                                            file  \\\n",
      "node                     rank                                                      \n",
      "<partial call paths>     0.00                                     <unknown file>   \n",
      "                         1.00                                     <unknown file>   \n",
      "                         2.00                                     <unknown file>   \n",
      "                         3.00                                     <unknown file>   \n",
      "                         4.00                                     <unknown file>   \n",
      "...                                                                          ...   \n",
      "Loop@lulesh.cc:2059      6.00  ./src/usr/workspace/wsb/jain6/fattree-study/lu...   \n",
      "Loop@lulesh.cc:2183      0.00  ./src/usr/workspace/wsb/jain6/fattree-study/lu...   \n",
      "                         3.00  ./src/usr/workspace/wsb/jain6/fattree-study/lu...   \n",
      "                         6.00  ./src/usr/workspace/wsb/jain6/fattree-study/lu...   \n",
      "Stmt25084@lulesh.cc:2190 3.00  ./src/usr/workspace/wsb/jain6/fattree-study/lu...   \n",
      "\n",
      "                               line                 module  \\\n",
      "node                     rank                                \n",
      "<partial call paths>     0.00     0  <unknown load module>   \n",
      "                         1.00     0  <unknown load module>   \n",
      "                         2.00     0  <unknown load module>   \n",
      "                         3.00     0  <unknown load module>   \n",
      "                         4.00     0  <unknown load module>   \n",
      "...                             ...                    ...   \n",
      "Loop@lulesh.cc:2059      6.00  2059                   None   \n",
      "Loop@lulesh.cc:2183      0.00  2183                   None   \n",
      "                         3.00  2183                   None   \n",
      "                         6.00  2183                   None   \n",
      "Stmt25084@lulesh.cc:2190 3.00  2190                   None   \n",
      "\n",
      "                                                   name  \\\n",
      "node                     rank                             \n",
      "<partial call paths>     0.00      <partial call paths>   \n",
      "                         1.00      <partial call paths>   \n",
      "                         2.00      <partial call paths>   \n",
      "                         3.00      <partial call paths>   \n",
      "                         4.00      <partial call paths>   \n",
      "...                                                 ...   \n",
      "Loop@lulesh.cc:2059      6.00       Loop@lulesh.cc:2059   \n",
      "Loop@lulesh.cc:2183      0.00       Loop@lulesh.cc:2183   \n",
      "                         3.00       Loop@lulesh.cc:2183   \n",
      "                         6.00       Loop@lulesh.cc:2183   \n",
      "Stmt25084@lulesh.cc:2190 3.00  Stmt25084@lulesh.cc:2190   \n",
      "\n",
      "                                                   node type  \n",
      "node                     rank                                 \n",
      "<partial call paths>     0.00      <partial call paths>   PF  \n",
      "                         1.00      <partial call paths>   PF  \n",
      "                         2.00      <partial call paths>   PF  \n",
      "                         3.00      <partial call paths>   PF  \n",
      "                         4.00      <partial call paths>   PF  \n",
      "...                                                 ...  ...  \n",
      "Loop@lulesh.cc:2059      6.00       Loop@lulesh.cc:2059    L  \n",
      "Loop@lulesh.cc:2183      0.00       Loop@lulesh.cc:2183    L  \n",
      "                         3.00       Loop@lulesh.cc:2183    L  \n",
      "                         6.00       Loop@lulesh.cc:2183    L  \n",
      "Stmt25084@lulesh.cc:2190 3.00  Stmt25084@lulesh.cc:2190    S  \n",
      "\n",
      "[534 rows x 10 columns]\n"
     ]
    }
   ],
   "source": [
    "# Filter graphframe and graph\n",
    "\n",
    "def filter_gfs(gfs, filterBy):                                                                                                   \n",
    "    # Create the graph frames from the paths and corresponding format using hatchet                                                  \n",
    "    fgfs = []                                                                                                                        \n",
    "    # Filter graphframes based on threshold                                                                                          \n",
    "    for idx, gf in enumerate(gfs):                                                                                              \n",
    "        print(\"Filtering the dataframe!\")                                                                                         \n",
    "        if filterBy == \"IncTime\":                                                                                          \n",
    "            max_inclusive_time = getMaxIncTime(gf)                                                                             \n",
    "            filter_gf = gf.filter(lambda x: True if(x['CPUTIME (usec) (I)'] > 0.01*max_inclusive_time) else False)                   \n",
    "        elif self.args.filterBy == \"ExcTime\":                                                                                        \n",
    "            max_exclusive_time = getMaxExcTime(gf)                                                                             \n",
    "            print('[Filter] By Exclusive time = {0})'.format(max_exclusive_time))                                                 \n",
    "            filter_gf = gf.filter(lambda x: True if (x['CPUTIME (usec) (E)'] > 0.01*max_exclusive_time) else False)                  \n",
    "        else:                                                                                                                        \n",
    "            print(\"Not filtering.... Can take forever. Thou were warned\")                                                         \n",
    "            filter_gf = gf                                                                                                           \n",
    "        print('[Filter] Removed {0} rows.)'.format(gf.dataframe.shape[0] - filter_gf.dataframe.shape[0]))                                                                                                                            \n",
    "        print(\"Grafting the graph!\")                                                                                            \n",
    "        filter_gf = filter_gf.graft()                                                                                                \n",
    "        print(\"[Graft] {0} rows left\".format(filter_gf.dataframe.shape[0]))                           \n",
    "        fgfs.append(filter_gf)                                                                                                       \n",
    "    return fgfs      \n",
    "\n",
    "fgfs = filter_gfs(gfs, 'IncTime')\n",
    "print(fgfs[0].dataframe)\n",
    "print(fgfs[1].dataframe)"
   ]
  },
  {
   "cell_type": "code",
   "execution_count": 43,
   "metadata": {
    "scrolled": true
   },
   "outputs": [
    {
     "name": "stdout",
     "output_type": "stream",
     "text": [
      "node                       rank\n",
      "<program root>             0.00      0\n",
      "                           1.00      0\n",
      "                           2.00      0\n",
      "                           3.00      0\n",
      "                           4.00      0\n",
      "                                  ... \n",
      "Stmt3322@<unknown file>:0  5.00    137\n",
      "                           7.00    137\n",
      "Stmt3324@interp.c:0        1.00    138\n",
      "                           2.00    138\n",
      "                           3.00    138\n",
      "Name: n_index, Length: 689, dtype: int64\n",
      "node                       rank\n",
      "<program root>             0.00     0\n",
      "                           1.00     0\n",
      "main                       0.00     1\n",
      "                           1.00     1\n",
      "Loop@osu_bw.c:112          1.00     2\n",
      "                                   ..\n",
      "Stmt3346@<unknown file>:0  1.00    64\n",
      "__GI_sched_yield           0.00    65\n",
      "Stmt3347@interp.c:0        0.00    66\n",
      "Stmt3348@interp.c:0        0.00    67\n",
      "                           1.00    67\n",
      "Name: n_index, Length: 89, dtype: int64\n"
     ]
    }
   ],
   "source": [
    "# add df_index to a graph frame.\n",
    "def df_index(gf):\n",
    "    gf.dataframe['n_index'] = gf.dataframe.groupby('nid').ngroup()\n",
    "    print(gf.dataframe['n_index'])\n",
    "df_index(fgfs[0])\n",
    "df_index(fgfs[1])"
   ]
  },
  {
   "cell_type": "code",
   "execution_count": 107,
   "metadata": {},
   "outputs": [
    {
     "name": "stdout",
     "output_type": "stream",
     "text": [
      "node                       rank\n",
      "<program root>             0.0       0\n",
      "                           1.0       0\n",
      "                           2.0       0\n",
      "                           3.0       0\n",
      "                           4.0       0\n",
      "                           5.0       0\n",
      "                           6.0       0\n",
      "                           7.0       0\n",
      "main                       0.0       1\n",
      "                           1.0       1\n",
      "                           2.0       1\n",
      "                           3.0       1\n",
      "                           4.0       1\n",
      "                           5.0       1\n",
      "                           6.0       1\n",
      "                           7.0       1\n",
      "Loop@lulesh.cc:2771        0.0       2\n",
      "                           1.0       2\n",
      "                           2.0       2\n",
      "                           3.0       2\n",
      "                           4.0       2\n",
      "                           5.0       2\n",
      "                           6.0       2\n",
      "                           7.0       2\n",
      "TimeIncrement(Domain&)     1.0       3\n",
      "                           2.0       3\n",
      "                           3.0       3\n",
      "                           4.0       3\n",
      "                           5.0       3\n",
      "                           6.0       3\n",
      "                                  ... \n",
      "<unknown procedure>        7.0     132\n",
      "                           1.0     133\n",
      "                           2.0     133\n",
      "                           7.0     133\n",
      "Stmt3320@<unknown file>:0  1.0     134\n",
      "                           2.0     134\n",
      "                           7.0     134\n",
      "<unknown procedure>        0.0     135\n",
      "                           1.0     135\n",
      "                           2.0     135\n",
      "                           3.0     135\n",
      "                           4.0     135\n",
      "                           5.0     135\n",
      "                           6.0     135\n",
      "                           7.0     135\n",
      "Stmt3321@<unknown file>:0  0.0     136\n",
      "                           1.0     136\n",
      "                           2.0     136\n",
      "                           3.0     136\n",
      "                           4.0     136\n",
      "                           5.0     136\n",
      "                           6.0     136\n",
      "                           7.0     136\n",
      "Stmt3322@<unknown file>:0  2.0     137\n",
      "                           3.0     137\n",
      "                           6.0     137\n",
      "                           7.0     137\n",
      "Stmt3324@interp.c:0        0.0     138\n",
      "                           4.0     138\n",
      "                           5.0     138\n",
      "Name: df_index, Length: 689, dtype: int64\n",
      "total nodes in graph: 0\n",
      "{}\n"
     ]
    }
   ],
   "source": [
    "#testing state.lookup\n",
    "\n",
    "def node_hash_mapper(df):                                                                                                             \n",
    "    ret = {}                                                                                                                         \n",
    "    for idx, row in df.iterrows():                                                                                              \n",
    "        df_node_index = str(row.node.df_index)                                                                                       \n",
    "        row['df_index'] = df_node_index\n",
    "    return ret  \n",
    "\n",
    "hash = node_hash_mapper(fgfs[0].dataframe)\n",
    "print(fgfs[0].dataframe['df_index'])\n",
    "print(\"total nodes in graph: {0}\".format(len(hash.keys())))\n",
    "print(hash)"
   ]
  },
  {
   "cell_type": "code",
   "execution_count": 52,
   "metadata": {},
   "outputs": [
    {
     "name": "stdout",
     "output_type": "stream",
     "text": [
      "4927858453080491114\n"
     ]
    },
    {
     "ename": "AttributeError",
     "evalue": "'str' object has no attribute 'callpath'",
     "output_type": "error",
     "traceback": [
      "\u001b[0;31m---------------------------------------------------------------------------\u001b[0m",
      "\u001b[0;31mAttributeError\u001b[0m                            Traceback (most recent call last)",
      "\u001b[0;32m<ipython-input-52-34611abc52b8>\u001b[0m in \u001b[0;36m<module>\u001b[0;34m()\u001b[0m\n\u001b[1;32m      1\u001b[0m \u001b[0;32mprint\u001b[0m\u001b[0;34m(\u001b[0m\u001b[0mgfs\u001b[0m\u001b[0;34m[\u001b[0m\u001b[0;36m0\u001b[0m\u001b[0;34m]\u001b[0m\u001b[0;34m.\u001b[0m\u001b[0mgraph\u001b[0m\u001b[0;34m.\u001b[0m\u001b[0mroots\u001b[0m\u001b[0;34m[\u001b[0m\u001b[0;36m0\u001b[0m\u001b[0;34m]\u001b[0m\u001b[0;34m.\u001b[0m\u001b[0mdf_index\u001b[0m\u001b[0;34m)\u001b[0m\u001b[0;34m\u001b[0m\u001b[0m\n\u001b[0;32m----> 2\u001b[0;31m \u001b[0ma\u001b[0m \u001b[0;34m=\u001b[0m \u001b[0mspecial_lookup\u001b[0m\u001b[0;34m(\u001b[0m\u001b[0mgfs\u001b[0m\u001b[0;34m[\u001b[0m\u001b[0;36m0\u001b[0m\u001b[0;34m]\u001b[0m\u001b[0;34m,\u001b[0m \u001b[0mgfs\u001b[0m\u001b[0;34m[\u001b[0m\u001b[0;36m0\u001b[0m\u001b[0;34m]\u001b[0m\u001b[0;34m.\u001b[0m\u001b[0mgraph\u001b[0m\u001b[0;34m.\u001b[0m\u001b[0mroots\u001b[0m\u001b[0;34m[\u001b[0m\u001b[0;36m0\u001b[0m\u001b[0;34m]\u001b[0m\u001b[0;34m)\u001b[0m\u001b[0;34m\u001b[0m\u001b[0m\n\u001b[0m",
      "\u001b[0;32m<ipython-input-47-d15b07c7d064>\u001b[0m in \u001b[0;36mspecial_lookup\u001b[0;34m(gf, df_index)\u001b[0m\n\u001b[1;32m     15\u001b[0m \u001b[0;34m\u001b[0m\u001b[0m\n\u001b[1;32m     16\u001b[0m \u001b[0;32mdef\u001b[0m \u001b[0mspecial_lookup\u001b[0m\u001b[0;34m(\u001b[0m\u001b[0mgf\u001b[0m\u001b[0;34m,\u001b[0m \u001b[0mdf_index\u001b[0m\u001b[0;34m)\u001b[0m\u001b[0;34m:\u001b[0m\u001b[0;34m\u001b[0m\u001b[0m\n\u001b[0;32m---> 17\u001b[0;31m     \u001b[0;32mreturn\u001b[0m \u001b[0mgf\u001b[0m\u001b[0;34m.\u001b[0m\u001b[0mdataframe\u001b[0m\u001b[0;34m.\u001b[0m\u001b[0mloc\u001b[0m\u001b[0;34m[\u001b[0m\u001b[0mgf\u001b[0m\u001b[0;34m.\u001b[0m\u001b[0mdataframe\u001b[0m\u001b[0;34m[\u001b[0m\u001b[0;34m'name'\u001b[0m\u001b[0;34m]\u001b[0m \u001b[0;34m==\u001b[0m \u001b[0mdf_index\u001b[0m\u001b[0;34m]\u001b[0m\u001b[0;34m\u001b[0m\u001b[0m\n\u001b[0m",
      "\u001b[0;32m/Users/jarus/miniconda3/envs/myenv_3.7/lib/python2.7/site-packages/pandas/core/ops.pyc\u001b[0m in \u001b[0;36mwrapper\u001b[0;34m(self, other, axis)\u001b[0m\n\u001b[1;32m   1764\u001b[0m \u001b[0;34m\u001b[0m\u001b[0m\n\u001b[1;32m   1765\u001b[0m             \u001b[0;32mwith\u001b[0m \u001b[0mnp\u001b[0m\u001b[0;34m.\u001b[0m\u001b[0merrstate\u001b[0m\u001b[0;34m(\u001b[0m\u001b[0mall\u001b[0m\u001b[0;34m=\u001b[0m\u001b[0;34m'ignore'\u001b[0m\u001b[0;34m)\u001b[0m\u001b[0;34m:\u001b[0m\u001b[0;34m\u001b[0m\u001b[0m\n\u001b[0;32m-> 1766\u001b[0;31m                 \u001b[0mres\u001b[0m \u001b[0;34m=\u001b[0m \u001b[0mna_op\u001b[0m\u001b[0;34m(\u001b[0m\u001b[0mvalues\u001b[0m\u001b[0;34m,\u001b[0m \u001b[0mother\u001b[0m\u001b[0;34m)\u001b[0m\u001b[0;34m\u001b[0m\u001b[0m\n\u001b[0m\u001b[1;32m   1767\u001b[0m             \u001b[0;32mif\u001b[0m \u001b[0mis_scalar\u001b[0m\u001b[0;34m(\u001b[0m\u001b[0mres\u001b[0m\u001b[0;34m)\u001b[0m\u001b[0;34m:\u001b[0m\u001b[0;34m\u001b[0m\u001b[0m\n\u001b[1;32m   1768\u001b[0m                 raise TypeError('Could not compare {typ} type with Series'\n",
      "\u001b[0;32m/Users/jarus/miniconda3/envs/myenv_3.7/lib/python2.7/site-packages/pandas/core/ops.pyc\u001b[0m in \u001b[0;36mna_op\u001b[0;34m(x, y)\u001b[0m\n\u001b[1;32m   1623\u001b[0m \u001b[0;34m\u001b[0m\u001b[0m\n\u001b[1;32m   1624\u001b[0m         \u001b[0;32mif\u001b[0m \u001b[0mis_object_dtype\u001b[0m\u001b[0;34m(\u001b[0m\u001b[0mx\u001b[0m\u001b[0;34m.\u001b[0m\u001b[0mdtype\u001b[0m\u001b[0;34m)\u001b[0m\u001b[0;34m:\u001b[0m\u001b[0;34m\u001b[0m\u001b[0m\n\u001b[0;32m-> 1625\u001b[0;31m             \u001b[0mresult\u001b[0m \u001b[0;34m=\u001b[0m \u001b[0m_comp_method_OBJECT_ARRAY\u001b[0m\u001b[0;34m(\u001b[0m\u001b[0mop\u001b[0m\u001b[0;34m,\u001b[0m \u001b[0mx\u001b[0m\u001b[0;34m,\u001b[0m \u001b[0my\u001b[0m\u001b[0;34m)\u001b[0m\u001b[0;34m\u001b[0m\u001b[0m\n\u001b[0m\u001b[1;32m   1626\u001b[0m \u001b[0;34m\u001b[0m\u001b[0m\n\u001b[1;32m   1627\u001b[0m         \u001b[0;32melif\u001b[0m \u001b[0mis_datetimelike_v_numeric\u001b[0m\u001b[0;34m(\u001b[0m\u001b[0mx\u001b[0m\u001b[0;34m,\u001b[0m \u001b[0my\u001b[0m\u001b[0;34m)\u001b[0m\u001b[0;34m:\u001b[0m\u001b[0;34m\u001b[0m\u001b[0m\n",
      "\u001b[0;32m/Users/jarus/miniconda3/envs/myenv_3.7/lib/python2.7/site-packages/pandas/core/ops.pyc\u001b[0m in \u001b[0;36m_comp_method_OBJECT_ARRAY\u001b[0;34m(op, x, y)\u001b[0m\n\u001b[1;32m   1601\u001b[0m         \u001b[0mresult\u001b[0m \u001b[0;34m=\u001b[0m \u001b[0mlibops\u001b[0m\u001b[0;34m.\u001b[0m\u001b[0mvec_compare\u001b[0m\u001b[0;34m(\u001b[0m\u001b[0mx\u001b[0m\u001b[0;34m,\u001b[0m \u001b[0my\u001b[0m\u001b[0;34m,\u001b[0m \u001b[0mop\u001b[0m\u001b[0;34m)\u001b[0m\u001b[0;34m\u001b[0m\u001b[0m\n\u001b[1;32m   1602\u001b[0m     \u001b[0;32melse\u001b[0m\u001b[0;34m:\u001b[0m\u001b[0;34m\u001b[0m\u001b[0m\n\u001b[0;32m-> 1603\u001b[0;31m         \u001b[0mresult\u001b[0m \u001b[0;34m=\u001b[0m \u001b[0mlibops\u001b[0m\u001b[0;34m.\u001b[0m\u001b[0mscalar_compare\u001b[0m\u001b[0;34m(\u001b[0m\u001b[0mx\u001b[0m\u001b[0;34m,\u001b[0m \u001b[0my\u001b[0m\u001b[0;34m,\u001b[0m \u001b[0mop\u001b[0m\u001b[0;34m)\u001b[0m\u001b[0;34m\u001b[0m\u001b[0m\n\u001b[0m\u001b[1;32m   1604\u001b[0m     \u001b[0;32mreturn\u001b[0m \u001b[0mresult\u001b[0m\u001b[0;34m\u001b[0m\u001b[0m\n\u001b[1;32m   1605\u001b[0m \u001b[0;34m\u001b[0m\u001b[0m\n",
      "\u001b[0;32mpandas/_libs/ops.pyx\u001b[0m in \u001b[0;36mpandas._libs.ops.scalar_compare\u001b[0;34m()\u001b[0m\n",
      "\u001b[0;32m/Users/jarus/ucd/Research/Visualisation/projects/CallFlow/src/hatchet/hatchet/node.pyc\u001b[0m in \u001b[0;36m__eq__\u001b[0;34m(self, other)\u001b[0m\n\u001b[1;32m     48\u001b[0m \u001b[0;34m\u001b[0m\u001b[0m\n\u001b[1;32m     49\u001b[0m     \u001b[0;32mdef\u001b[0m \u001b[0m__eq__\u001b[0m\u001b[0;34m(\u001b[0m\u001b[0mself\u001b[0m\u001b[0;34m,\u001b[0m \u001b[0mother\u001b[0m\u001b[0;34m)\u001b[0m\u001b[0;34m:\u001b[0m\u001b[0;34m\u001b[0m\u001b[0m\n\u001b[0;32m---> 50\u001b[0;31m         \u001b[0;32mreturn\u001b[0m \u001b[0;34m(\u001b[0m\u001b[0mself\u001b[0m\u001b[0;34m.\u001b[0m\u001b[0mcallpath\u001b[0m \u001b[0;34m==\u001b[0m \u001b[0mother\u001b[0m\u001b[0;34m.\u001b[0m\u001b[0mcallpath\u001b[0m\u001b[0;34m)\u001b[0m\u001b[0;34m\u001b[0m\u001b[0m\n\u001b[0m\u001b[1;32m     51\u001b[0m \u001b[0;34m\u001b[0m\u001b[0m\n\u001b[1;32m     52\u001b[0m     \u001b[0;32mdef\u001b[0m \u001b[0m__lt__\u001b[0m\u001b[0;34m(\u001b[0m\u001b[0mself\u001b[0m\u001b[0;34m,\u001b[0m \u001b[0mother\u001b[0m\u001b[0;34m)\u001b[0m\u001b[0;34m:\u001b[0m\u001b[0;34m\u001b[0m\u001b[0m\n",
      "\u001b[0;31mAttributeError\u001b[0m: 'str' object has no attribute 'callpath'"
     ]
    }
   ],
   "source": [
    "print(gfs[0].graph.roots[0].df_index)\n",
    "a = special_lookup(gfs[0], gfs[0].graph.roots[0])"
   ]
  },
  {
   "cell_type": "code",
   "execution_count": 54,
   "metadata": {},
   "outputs": [
    {
     "data": {
      "image/png": "[encoded data removed]",
      "text/plain": [
       "<Figure size 576x576 with 3 Axes>"
      ]
     },
     "metadata": {
      "needs_background": "light"
     },
     "output_type": "display_data"
    },
    {
     "data": {
      "image/png": "[encoded data removed]",
      "text/plain": [
       "<Figure size 576x576 with 3 Axes>"
      ]
     },
     "metadata": {
      "needs_background": "light"
     },
     "output_type": "display_data"
    }
   ],
   "source": [
    "df = fgfs[0].dataframe\n",
    "df2 = fgfs[1].dataframe\n",
    "root_max_df = 107348942.00\n",
    "root_max_df2 = 145114370.00\n",
    "sns.jointplot('CPUTIME (usec) (I)', 'CPUTIME (usec) (E)',\n",
    "              df.loc[(df['CPUTIME (usec) (I)'] < 0.10*107348942.00) &\n",
    "                     (df['CPUTIME (usec) (E)'] > 0)],\n",
    "              alpha=.25, marker='.', height=8);\n",
    "sns.jointplot('CPUTIME (usec) (I)', 'CPUTIME (usec) (E)',\n",
    "              df2.loc[(df2['CPUTIME (usec) (I)'] < 0.10*145114370.00) &\n",
    "                     (df2['CPUTIME (usec) (E)'] > 0)],\n",
    "              alpha=.25, marker='.', height=8);"
   ]
  },
  {
   "cell_type": "code",
   "execution_count": 69,
   "metadata": {},
   "outputs": [
    {
     "ename": "AttributeError",
     "evalue": "'dict' object has no attribute 'graph'",
     "output_type": "error",
     "traceback": [
      "\u001b[0;31m---------------------------------------------------------------------------\u001b[0m",
      "\u001b[0;31mAttributeError\u001b[0m                            Traceback (most recent call last)",
      "\u001b[0;32m<ipython-input-69-8e492a1b3d47>\u001b[0m in \u001b[0;36m<module>\u001b[0;34m()\u001b[0m\n\u001b[0;32m----> 1\u001b[0;31m \u001b[0mstate_gf1\u001b[0m\u001b[0;34m.\u001b[0m\u001b[0mgraph\u001b[0m \u001b[0;34m=\u001b[0m \u001b[0mfgfs\u001b[0m\u001b[0;34m[\u001b[0m\u001b[0;36m0\u001b[0m\u001b[0;34m]\u001b[0m\u001b[0;34m.\u001b[0m\u001b[0mgraph\u001b[0m\u001b[0;34m\u001b[0m\u001b[0m\n\u001b[0m\u001b[1;32m      2\u001b[0m \u001b[0mstate_gf1\u001b[0m\u001b[0;34m.\u001b[0m\u001b[0mdf\u001b[0m \u001b[0;34m=\u001b[0m \u001b[0mfgfs\u001b[0m\u001b[0;34m[\u001b[0m\u001b[0;36m0\u001b[0m\u001b[0;34m]\u001b[0m\u001b[0;34m.\u001b[0m\u001b[0mdataframe\u001b[0m\u001b[0;34m\u001b[0m\u001b[0m\n\u001b[1;32m      3\u001b[0m \u001b[0;34m\u001b[0m\u001b[0m\n\u001b[1;32m      4\u001b[0m \u001b[0mstate_gf2\u001b[0m\u001b[0;34m.\u001b[0m\u001b[0mgraph\u001b[0m \u001b[0;34m=\u001b[0m \u001b[0mfgfs\u001b[0m\u001b[0;34m[\u001b[0m\u001b[0;36m1\u001b[0m\u001b[0;34m]\u001b[0m\u001b[0;34m.\u001b[0m\u001b[0mgraph\u001b[0m\u001b[0;34m\u001b[0m\u001b[0m\n\u001b[1;32m      5\u001b[0m \u001b[0mstate_gf2\u001b[0m\u001b[0;34m.\u001b[0m\u001b[0mdf\u001b[0m \u001b[0;34m=\u001b[0m \u001b[0mfgfs\u001b[0m\u001b[0;34m[\u001b[0m\u001b[0;36m1\u001b[0m\u001b[0;34m]\u001b[0m\u001b[0;34m.\u001b[0m\u001b[0mdataframe\u001b[0m\u001b[0;34m\u001b[0m\u001b[0m\n",
      "\u001b[0;31mAttributeError\u001b[0m: 'dict' object has no attribute 'graph'"
     ]
    }
   ],
   "source": [
    "state_gf1.graph = fgfs[0].graph\n",
    "state_gf1.df = fgfs[0].dataframe\n",
    "\n",
    "state_gf2.graph = fgfs[1].graph\n",
    "state_gf2.df = fgfs[1].dataframe\n",
    "groupBy(fgfs[0], 'path')"
   ]
  },
  {
   "cell_type": "code",
   "execution_count": 60,
   "metadata": {},
   "outputs": [
    {
     "name": "stdout",
     "output_type": "stream",
     "text": [
      "CPUTIME (usec) (I)           107,348,942.00\n",
      "CPUTIME (usec) (E)                     0.00\n",
      "nid                                    2.00\n",
      "rank                                   0.00\n",
      "file                         <unknown file>\n",
      "line                                      0\n",
      "module                <unknown load module>\n",
      "name                   <partial call paths>\n",
      "node                   <partial call paths>\n",
      "type                                     PF\n",
      "Name: (<partial call paths>, 0.0), dtype: object\n"
     ]
    },
    {
     "ename": "KeyError",
     "evalue": "'path'",
     "output_type": "error",
     "traceback": [
      "\u001b[0;31m---------------------------------------------------------------------------\u001b[0m",
      "\u001b[0;31mKeyError\u001b[0m                                  Traceback (most recent call last)",
      "\u001b[0;32m<ipython-input-60-e84dadc042c4>\u001b[0m in \u001b[0;36m<module>\u001b[0;34m()\u001b[0m\n\u001b[1;32m      6\u001b[0m         \u001b[0mg\u001b[0m\u001b[0;34m.\u001b[0m\u001b[0madd_path\u001b[0m\u001b[0;34m(\u001b[0m\u001b[0mrow\u001b[0m\u001b[0;34m[\u001b[0m\u001b[0mpath_name\u001b[0m\u001b[0;34m]\u001b[0m\u001b[0;34m)\u001b[0m\u001b[0;34m\u001b[0m\u001b[0m\n\u001b[1;32m      7\u001b[0m \u001b[0;34m\u001b[0m\u001b[0m\n\u001b[0;32m----> 8\u001b[0;31m \u001b[0madd_paths\u001b[0m\u001b[0;34m(\u001b[0m\u001b[0mg1\u001b[0m\u001b[0;34m,\u001b[0m \u001b[0mdf\u001b[0m\u001b[0;34m,\u001b[0m \u001b[0;34m'path'\u001b[0m\u001b[0;34m)\u001b[0m\u001b[0;34m\u001b[0m\u001b[0m\n\u001b[0m\u001b[1;32m      9\u001b[0m \u001b[0madd_paths\u001b[0m\u001b[0;34m(\u001b[0m\u001b[0mg2\u001b[0m\u001b[0;34m,\u001b[0m \u001b[0mdf\u001b[0m\u001b[0;34m,\u001b[0m \u001b[0;34m'path'\u001b[0m\u001b[0;34m)\u001b[0m\u001b[0;34m\u001b[0m\u001b[0m\n",
      "\u001b[0;32m<ipython-input-60-e84dadc042c4>\u001b[0m in \u001b[0;36madd_paths\u001b[0;34m(g, df, path_name)\u001b[0m\n\u001b[1;32m      4\u001b[0m     \u001b[0;32mfor\u001b[0m \u001b[0midx\u001b[0m\u001b[0;34m,\u001b[0m \u001b[0mrow\u001b[0m \u001b[0;32min\u001b[0m \u001b[0mdf\u001b[0m\u001b[0;34m.\u001b[0m\u001b[0miterrows\u001b[0m\u001b[0;34m(\u001b[0m\u001b[0;34m)\u001b[0m\u001b[0;34m:\u001b[0m\u001b[0;34m\u001b[0m\u001b[0m\n\u001b[1;32m      5\u001b[0m         \u001b[0;32mprint\u001b[0m\u001b[0;34m(\u001b[0m\u001b[0mrow\u001b[0m\u001b[0;34m)\u001b[0m\u001b[0;34m\u001b[0m\u001b[0m\n\u001b[0;32m----> 6\u001b[0;31m         \u001b[0mg\u001b[0m\u001b[0;34m.\u001b[0m\u001b[0madd_path\u001b[0m\u001b[0;34m(\u001b[0m\u001b[0mrow\u001b[0m\u001b[0;34m[\u001b[0m\u001b[0mpath_name\u001b[0m\u001b[0;34m]\u001b[0m\u001b[0;34m)\u001b[0m\u001b[0;34m\u001b[0m\u001b[0m\n\u001b[0m\u001b[1;32m      7\u001b[0m \u001b[0;34m\u001b[0m\u001b[0m\n\u001b[1;32m      8\u001b[0m \u001b[0madd_paths\u001b[0m\u001b[0;34m(\u001b[0m\u001b[0mg1\u001b[0m\u001b[0;34m,\u001b[0m \u001b[0mdf\u001b[0m\u001b[0;34m,\u001b[0m \u001b[0;34m'path'\u001b[0m\u001b[0;34m)\u001b[0m\u001b[0;34m\u001b[0m\u001b[0m\n",
      "\u001b[0;32m/Users/jarus/miniconda3/envs/myenv_3.7/lib/python2.7/site-packages/pandas/core/series.pyc\u001b[0m in \u001b[0;36m__getitem__\u001b[0;34m(self, key)\u001b[0m\n\u001b[1;32m    866\u001b[0m         \u001b[0mkey\u001b[0m \u001b[0;34m=\u001b[0m \u001b[0mcom\u001b[0m\u001b[0;34m.\u001b[0m\u001b[0mapply_if_callable\u001b[0m\u001b[0;34m(\u001b[0m\u001b[0mkey\u001b[0m\u001b[0;34m,\u001b[0m \u001b[0mself\u001b[0m\u001b[0;34m)\u001b[0m\u001b[0;34m\u001b[0m\u001b[0m\n\u001b[1;32m    867\u001b[0m         \u001b[0;32mtry\u001b[0m\u001b[0;34m:\u001b[0m\u001b[0;34m\u001b[0m\u001b[0m\n\u001b[0;32m--> 868\u001b[0;31m             \u001b[0mresult\u001b[0m \u001b[0;34m=\u001b[0m \u001b[0mself\u001b[0m\u001b[0;34m.\u001b[0m\u001b[0mindex\u001b[0m\u001b[0;34m.\u001b[0m\u001b[0mget_value\u001b[0m\u001b[0;34m(\u001b[0m\u001b[0mself\u001b[0m\u001b[0;34m,\u001b[0m \u001b[0mkey\u001b[0m\u001b[0;34m)\u001b[0m\u001b[0;34m\u001b[0m\u001b[0m\n\u001b[0m\u001b[1;32m    869\u001b[0m \u001b[0;34m\u001b[0m\u001b[0m\n\u001b[1;32m    870\u001b[0m             \u001b[0;32mif\u001b[0m \u001b[0;32mnot\u001b[0m \u001b[0mis_scalar\u001b[0m\u001b[0;34m(\u001b[0m\u001b[0mresult\u001b[0m\u001b[0;34m)\u001b[0m\u001b[0;34m:\u001b[0m\u001b[0;34m\u001b[0m\u001b[0m\n",
      "\u001b[0;32m/Users/jarus/miniconda3/envs/myenv_3.7/lib/python2.7/site-packages/pandas/core/indexes/base.pyc\u001b[0m in \u001b[0;36mget_value\u001b[0;34m(self, series, key)\u001b[0m\n\u001b[1;32m   4332\u001b[0m                     \u001b[0;32mraise\u001b[0m \u001b[0mInvalidIndexError\u001b[0m\u001b[0;34m(\u001b[0m\u001b[0mkey\u001b[0m\u001b[0;34m)\u001b[0m\u001b[0;34m\u001b[0m\u001b[0m\n\u001b[1;32m   4333\u001b[0m                 \u001b[0;32melse\u001b[0m\u001b[0;34m:\u001b[0m\u001b[0;34m\u001b[0m\u001b[0m\n\u001b[0;32m-> 4334\u001b[0;31m                     \u001b[0;32mraise\u001b[0m \u001b[0me1\u001b[0m\u001b[0;34m\u001b[0m\u001b[0m\n\u001b[0m\u001b[1;32m   4335\u001b[0m             \u001b[0;32mexcept\u001b[0m \u001b[0mException\u001b[0m\u001b[0;34m:\u001b[0m  \u001b[0;31m# pragma: no cover\u001b[0m\u001b[0;34m\u001b[0m\u001b[0m\n\u001b[1;32m   4336\u001b[0m                 \u001b[0;32mraise\u001b[0m \u001b[0me1\u001b[0m\u001b[0;34m\u001b[0m\u001b[0m\n",
      "\u001b[0;31mKeyError\u001b[0m: 'path'"
     ]
    }
   ],
   "source": [
    "g1 = nx.DiGraph()\n",
    "g2 = nx.DiGraph()\n",
    "def add_paths(g, df, path_name):\n",
    "    for idx, row in df.iterrows():\n",
    "        print(row)\n",
    "        g.add_path(row[path_name])\n",
    "\n",
    "add_paths(g1, df, 'path')\n",
    "add_paths(g2, df, 'path')"
   ]
  }
 ],
 "metadata": {
  "kernelspec": {
   "display_name": "myenv_3.7",
   "language": "python",
   "name": "myenv_3.7"
  },
  "language_info": {
   "codemirror_mode": {
    "name": "ipython",
    "version": 2
   },
   "file_extension": ".py",
   "mimetype": "text/x-python",
   "name": "python",
   "nbconvert_exporter": "python",
   "pygments_lexer": "ipython2",
   "version": "2.7.15"
  }
 },
 "nbformat": 4,
 "nbformat_minor": 2
}
