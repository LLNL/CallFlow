{
 "cells": [
  {
   "cell_type": "code",
   "execution_count": 1,
   "metadata": {},
   "outputs": [],
   "source": [
    "import json\n",
    "import numpy as np\n",
    "import networkx as nx\n",
    "import matplotlib.pyplot as plt\n",
    "%matplotlib inline"
   ]
  },
  {
   "cell_type": "code",
   "execution_count": 2,
   "metadata": {},
   "outputs": [],
   "source": [
    "from IPython.core.display import display, HTML\n",
    "from string import Template\n",
    "import pandas as pd\n",
    "import json, random"
   ]
  },
  {
   "cell_type": "code",
   "execution_count": 3,
   "metadata": {},
   "outputs": [
    {
     "data": {
      "text/html": [
       "<script src=\"https://d3js.org/d3.v3.min.js\"></script>"
      ],
      "text/plain": [
       "<IPython.core.display.HTML object>"
      ]
     },
     "execution_count": 3,
     "metadata": {},
     "output_type": "execute_result"
    }
   ],
   "source": [
    "HTML('<script src=\"https://d3js.org/d3.v3.min.js\"></script>')"
   ]
  },
  {
   "cell_type": "code",
   "execution_count": 10,
   "metadata": {},
   "outputs": [],
   "source": [
    "filename = \"lulesh2.0.csv\"\n",
    "d = pd.read_csv(filename,sep=\",\")"
   ]
  },
  {
   "cell_type": "code",
   "execution_count": 11,
   "metadata": {},
   "outputs": [],
   "source": [
    "#HTML templet\n",
    "html_template = Template('''\n",
    "<style> $css_text </style>\n",
    "<div id=\"graph-div\"></div>\n",
    "<script> $js_text </script>\n",
    "''')"
   ]
  },
  {
   "cell_type": "code",
   "execution_count": 13,
   "metadata": {},
   "outputs": [],
   "source": [
    "# Css templet\n",
    "css_text = '''\n",
    "\n",
    ".bar {\n",
    "  fill: steelblue;\n",
    "}\n",
    "\n",
    ".bar:hover {\n",
    "  fill: brown;\n",
    "}\n",
    "\n",
    ".axis {\n",
    "  font: 10px sans-serif;\n",
    "}\n",
    "\n",
    ".axis path,\n",
    ".axis line {\n",
    "  fill: none;\n",
    "  stroke: #000;\n",
    "  shape-rendering: crispEdges;\n",
    "}\n",
    "\n",
    ".x.axis path {\n",
    "  display: none;\n",
    "}\n",
    "'''"
   ]
  },
  {
   "cell_type": "code",
   "execution_count": 15,
   "metadata": {},
   "outputs": [],
   "source": [
    "js_text_template = Template('''\n",
    "\n",
    "var margin = {top: 20, right: 20, bottom: 30, left: 40},\n",
    "    width = 500 - margin.left - margin.right,\n",
    "    height = 300 - margin.top - margin.bottom;\n",
    "\n",
    "var x = d3.scale.ordinal()\n",
    "    .rangeRoundBands([0, width], .1);\n",
    "\n",
    "var y = d3.scale.linear()\n",
    "    .range([height, 0]);\n",
    "\n",
    "var xAxis = d3.svg.axis()\n",
    "    .scale(x)\n",
    "    .orient(\"bottom\");\n",
    "\n",
    "var yAxis = d3.svg.axis()\n",
    "    .scale(y)\n",
    "    .orient(\"left\");\n",
    "\n",
    "var svg = d3.select(\"#graph-div\").append(\"svg\")\n",
    "    .attr(\"width\", width + margin.left + margin.right)\n",
    "    .attr(\"height\", height + margin.top + margin.bottom)\n",
    "  .append(\"g\")\n",
    "    .attr(\"transform\", \"translate(\" + margin.left + \",\" + margin.top + \")\");\n",
    "\n",
    "var data = $data ;\n",
    "\n",
    "  x.domain(data.map(function(d) { return d.letter; }));\n",
    "  y.domain([0, d3.max(data, function(d) { return d.y; })]);\n",
    "\n",
    "  svg.append(\"g\")\n",
    "      .attr(\"class\", \"x axis\")\n",
    "      .attr(\"transform\", \"translate(0,\" + height + \")\")\n",
    "      .call(xAxis);\n",
    "\n",
    "  svg.append(\"g\")\n",
    "      .attr(\"class\", \"y axis\")\n",
    "      .call(yAxis);\n",
    "\n",
    "  svg.selectAll(\".bar\")\n",
    "      .data(data)\n",
    "    .enter().append(\"rect\")\n",
    "      .attr(\"class\", \"bar\")\n",
    "      .attr(\"x\", function(d) { return x(d.letter); })\n",
    "      .attr(\"width\", x.rangeBand())\n",
    "      .attr(\"y\", function(d) { return y(d.y); })\n",
    "      .attr(\"height\", function(d) { return height - y(d.y); });\n",
    "\n",
    "''')"
   ]
  },
  {
   "cell_type": "code",
   "execution_count": 16,
   "metadata": {},
   "outputs": [],
   "source": [
    "js_text_template_2 = Template('''\n",
    "\n",
    "var bars = svg.selectAll(\".bar\").data($data);\n",
    "  \n",
    "bars\n",
    "  .transition()\n",
    "    .attr(\"y\", function(d) { return y(d.y); })\n",
    "    .attr(\"height\", function(d) { return height - y(d.y); });\n",
    "\n",
    "''')"
   ]
  },
  {
   "cell_type": "code",
   "execution_count": 20,
   "metadata": {},
   "outputs": [
    {
     "name": "stdout",
     "output_type": "stream",
     "text": [
      "{'Unnamed: 0': {0: 0, 1: 1, 2: 2, 3: 3, 4: 4, 5: 5, 6: 6, 7: 7, 8: 8, 9: 9, 10: 10, 11: 11, 12: 12, 13: 13, 14: 14, 15: 15, 16: 16, 17: 17, 18: 18, 19: 19, 20: 20, 21: 21, 22: 22, 23: 23, 24: 24, 25: 25, 26: 26, 27: 27, 28: 28, 29: 29, 30: 30, 31: 31, 32: 32, 33: 33, 34: 34, 35: 35}, 'inc_time': {0: 54608064.3, 1: 54608064.3, 2: 54608064.3, 3: 54608064.3, 4: 54608064.3, 5: 54608064.3, 6: 54302328.4, 7: 32970218.5, 8: 30682837.5, 9: 30150122.5, 10: 6558737.8, 11: 1166193.1, 12: 3854837.1, 13: 638154.0588235294, 14: 23211855.1, 15: 758947.2222222221, 16: 3314848.5, 17: 740118.4, 18: 6829906.7, 19: 2146778.7, 20: 1097157.0, 21: 761138.3, 22: 21015531.1, 23: 6669611.2, 24: 6251152.1, 25: 1053542.5, 26: 1053542.5, 27: 2384080.2, 28: 6108581.7, 29: 2790793.5, 30: 2563181.2, 31: 2562983.4, 32: 8153549.3, 33: 7985537.3, 34: 4258607.2, 35: 1065372.133333333}, 'module': {0: 'lulesh2.0', 1: 'lulesh2.0', 2: 'lulesh2.0', 3: 'lulesh2.0', 4: 'lulesh2.0', 5: 'lulesh2.0', 6: 'lulesh2.0', 7: 'lulesh2.0', 8: 'lulesh2.0', 9: 'lulesh2.0', 10: 'lulesh2.0', 11: 'lulesh2.0', 12: 'lulesh2.0', 13: 'lulesh2.0', 14: 'lulesh2.0', 15: 'lulesh2.0', 16: 'lulesh2.0', 17: 'lulesh2.0', 18: 'lulesh2.0', 19: 'lulesh2.0', 20: 'lulesh2.0', 21: 'lulesh2.0', 22: 'lulesh2.0', 23: 'lulesh2.0', 24: 'lulesh2.0', 25: 'lulesh2.0', 26: 'lulesh2.0', 27: 'lulesh2.0', 28: 'lulesh2.0', 29: 'lulesh2.0', 30: 'lulesh2.0', 31: 'lulesh2.0', 32: 'lulesh2.0', 33: 'lulesh2.0', 34: 'lulesh2.0', 35: 'lulesh2.0'}, 'path': {0: \"[('lulesh2.0', 'CthStartThread')]\", 1: \"[('lulesh2.0', 'CthStartThread', '_INTERNAL_8_tcharm_C_22509075::startTCharmThread(TCharmInitMsg*)')]\", 2: \"[('lulesh2.0', 'CthStartThread', '_INTERNAL_8_tcharm_C_22509075::startTCharmThread(TCharmInitMsg*)', 'AMPI_threadstart')]\", 3: \"[('lulesh2.0', 'CthStartThread', '_INTERNAL_8_tcharm_C_22509075::startTCharmThread(TCharmInitMsg*)', 'AMPI_threadstart', 'MPI_threadstart_t::start()')]\", 4: \"[('lulesh2.0', 'CthStartThread', '_INTERNAL_8_tcharm_C_22509075::startTCharmThread(TCharmInitMsg*)', 'AMPI_threadstart', 'MPI_threadstart_t::start()', 'AMPI_Fallback_Main')]\", 5: \"[('lulesh2.0', 'CthStartThread', '_INTERNAL_8_tcharm_C_22509075::startTCharmThread(TCharmInitMsg*)', 'AMPI_threadstart', 'MPI_threadstart_t::start()', 'AMPI_Fallback_Main', 'AMPI_Main_cpp(int, char**)')]\", 6: \"[('lulesh2.0', 'CthStartThread', '_INTERNAL_8_tcharm_C_22509075::startTCharmThread(TCharmInitMsg*)', 'AMPI_threadstart', 'MPI_threadstart_t::start()', 'AMPI_Fallback_Main', 'AMPI_Main_cpp(int, char**)', '_INTERNAL_9_lulesh_cc_07ac9422::LagrangeLeapFrog(Domain&)')]\", 7: \"[('lulesh2.0', 'CthStartThread', '_INTERNAL_8_tcharm_C_22509075::startTCharmThread(TCharmInitMsg*)', 'AMPI_threadstart', 'MPI_threadstart_t::start()', 'AMPI_Fallback_Main', 'AMPI_Main_cpp(int, char**)', '_INTERNAL_9_lulesh_cc_07ac9422::LagrangeLeapFrog(Domain&)', '_INTERNAL_9_lulesh_cc_07ac9422::LagrangeNodal(Domain&)')]\", 8: \"[('lulesh2.0', 'CthStartThread', '_INTERNAL_8_tcharm_C_22509075::startTCharmThread(TCharmInitMsg*)', 'AMPI_threadstart', 'MPI_threadstart_t::start()', 'AMPI_Fallback_Main', 'AMPI_Main_cpp(int, char**)', '_INTERNAL_9_lulesh_cc_07ac9422::LagrangeLeapFrog(Domain&)', '_INTERNAL_9_lulesh_cc_07ac9422::LagrangeNodal(Domain&)', '_INTERNAL_9_lulesh_cc_07ac9422::CalcForceForNodes(Domain&)')]\", 9: \"[('lulesh2.0', 'CthStartThread', '_INTERNAL_8_tcharm_C_22509075::startTCharmThread(TCharmInitMsg*)', 'AMPI_threadstart', 'MPI_threadstart_t::start()', 'AMPI_Fallback_Main', 'AMPI_Main_cpp(int, char**)', '_INTERNAL_9_lulesh_cc_07ac9422::LagrangeLeapFrog(Domain&)', '_INTERNAL_9_lulesh_cc_07ac9422::LagrangeNodal(Domain&)', '_INTERNAL_9_lulesh_cc_07ac9422::CalcForceForNodes(Domain&)', '_INTERNAL_9_lulesh_cc_07ac9422::CalcVolumeForceForElems(Domain&)')]\", 10: \"[('lulesh2.0', 'CthStartThread', '_INTERNAL_8_tcharm_C_22509075::startTCharmThread(TCharmInitMsg*)', 'AMPI_threadstart', 'MPI_threadstart_t::start()', 'AMPI_Fallback_Main', 'AMPI_Main_cpp(int, char**)', '_INTERNAL_9_lulesh_cc_07ac9422::LagrangeLeapFrog(Domain&)', '_INTERNAL_9_lulesh_cc_07ac9422::LagrangeNodal(Domain&)', '_INTERNAL_9_lulesh_cc_07ac9422::CalcForceForNodes(Domain&)', '_INTERNAL_9_lulesh_cc_07ac9422::CalcVolumeForceForElems(Domain&)', '_INTERNAL_9_lulesh_cc_07ac9422::IntegrateStressForElems(Domain&, double*, double*, double*, double*, int, int)')]\", 11: \"[('lulesh2.0', 'CthStartThread', '_INTERNAL_8_tcharm_C_22509075::startTCharmThread(TCharmInitMsg*)', 'AMPI_threadstart', 'MPI_threadstart_t::start()', 'AMPI_Fallback_Main', 'AMPI_Main_cpp(int, char**)', '_INTERNAL_9_lulesh_cc_07ac9422::LagrangeLeapFrog(Domain&)', '_INTERNAL_9_lulesh_cc_07ac9422::LagrangeNodal(Domain&)', '_INTERNAL_9_lulesh_cc_07ac9422::CalcForceForNodes(Domain&)', '_INTERNAL_9_lulesh_cc_07ac9422::CalcVolumeForceForElems(Domain&)', '_INTERNAL_9_lulesh_cc_07ac9422::IntegrateStressForElems(Domain&, double*, double*, double*, double*, int, int)', '_INTERNAL_9_lulesh_cc_07ac9422::CalcElemShapeFunctionDerivatives(double const*, double const*, double const*, double (*) [8], double*)')]\", 12: \"[('lulesh2.0', 'CthStartThread', '_INTERNAL_8_tcharm_C_22509075::startTCharmThread(TCharmInitMsg*)', 'AMPI_threadstart', 'MPI_threadstart_t::start()', 'AMPI_Fallback_Main', 'AMPI_Main_cpp(int, char**)', '_INTERNAL_9_lulesh_cc_07ac9422::LagrangeLeapFrog(Domain&)', '_INTERNAL_9_lulesh_cc_07ac9422::LagrangeNodal(Domain&)', '_INTERNAL_9_lulesh_cc_07ac9422::CalcForceForNodes(Domain&)', '_INTERNAL_9_lulesh_cc_07ac9422::CalcVolumeForceForElems(Domain&)', '_INTERNAL_9_lulesh_cc_07ac9422::IntegrateStressForElems(Domain&, double*, double*, double*, double*, int, int)', '_INTERNAL_9_lulesh_cc_07ac9422::CalcElemNodeNormals(double*, double*, double*, double const*, double const*, double const*)')]\", 13: \"[('lulesh2.0', 'CthStartThread', '_INTERNAL_8_tcharm_C_22509075::startTCharmThread(TCharmInitMsg*)', 'AMPI_threadstart', 'MPI_threadstart_t::start()', 'AMPI_Fallback_Main', 'AMPI_Main_cpp(int, char**)', '_INTERNAL_9_lulesh_cc_07ac9422::LagrangeLeapFrog(Domain&)', '_INTERNAL_9_lulesh_cc_07ac9422::LagrangeNodal(Domain&)', '_INTERNAL_9_lulesh_cc_07ac9422::CalcForceForNodes(Domain&)', '_INTERNAL_9_lulesh_cc_07ac9422::CalcVolumeForceForElems(Domain&)', '_INTERNAL_9_lulesh_cc_07ac9422::IntegrateStressForElems(Domain&, double*, double*, double*, double*, int, int)', '_INTERNAL_9_lulesh_cc_07ac9422::CalcElemNodeNormals(double*, double*, double*, double const*, double const*, double const*)', '_INTERNAL_9_lulesh_cc_07ac9422::SumElemFaceNormal(double*, double*, double*, double*, double*, double*, double*, double*, double*, double*, double*, double*, double, double, double, double, double, double, double, double, double, double, double, double)')]\", 14: \"[('lulesh2.0', 'CthStartThread', '_INTERNAL_8_tcharm_C_22509075::startTCharmThread(TCharmInitMsg*)', 'AMPI_threadstart', 'MPI_threadstart_t::start()', 'AMPI_Fallback_Main', 'AMPI_Main_cpp(int, char**)', '_INTERNAL_9_lulesh_cc_07ac9422::LagrangeLeapFrog(Domain&)', '_INTERNAL_9_lulesh_cc_07ac9422::LagrangeNodal(Domain&)', '_INTERNAL_9_lulesh_cc_07ac9422::CalcForceForNodes(Domain&)', '_INTERNAL_9_lulesh_cc_07ac9422::CalcVolumeForceForElems(Domain&)', '_INTERNAL_9_lulesh_cc_07ac9422::CalcHourglassControlForElems(Domain&, double*, double)')]\", 15: \"[('lulesh2.0', 'CthStartThread', '_INTERNAL_8_tcharm_C_22509075::startTCharmThread(TCharmInitMsg*)', 'AMPI_threadstart', 'MPI_threadstart_t::start()', 'AMPI_Fallback_Main', 'AMPI_Main_cpp(int, char**)', '_INTERNAL_9_lulesh_cc_07ac9422::LagrangeLeapFrog(Domain&)', '_INTERNAL_9_lulesh_cc_07ac9422::LagrangeNodal(Domain&)', '_INTERNAL_9_lulesh_cc_07ac9422::CalcForceForNodes(Domain&)', '_INTERNAL_9_lulesh_cc_07ac9422::CalcVolumeForceForElems(Domain&)', '_INTERNAL_9_lulesh_cc_07ac9422::CalcHourglassControlForElems(Domain&, double*, double)', '_INTERNAL_9_lulesh_cc_07ac9422::CollectDomainNodesToElemNodes(Domain&, int const*, double*, double*, double*)')]\", 16: \"[('lulesh2.0', 'CthStartThread', '_INTERNAL_8_tcharm_C_22509075::startTCharmThread(TCharmInitMsg*)', 'AMPI_threadstart', 'MPI_threadstart_t::start()', 'AMPI_Fallback_Main', 'AMPI_Main_cpp(int, char**)', '_INTERNAL_9_lulesh_cc_07ac9422::LagrangeLeapFrog(Domain&)', '_INTERNAL_9_lulesh_cc_07ac9422::LagrangeNodal(Domain&)', '_INTERNAL_9_lulesh_cc_07ac9422::CalcForceForNodes(Domain&)', '_INTERNAL_9_lulesh_cc_07ac9422::CalcVolumeForceForElems(Domain&)', '_INTERNAL_9_lulesh_cc_07ac9422::CalcHourglassControlForElems(Domain&, double*, double)', '_INTERNAL_9_lulesh_cc_07ac9422::CalcElemVolumeDerivative(double*, double*, double*, double const*, double const*, double const*)')]\", 17: \"[('lulesh2.0', 'CthStartThread', '_INTERNAL_8_tcharm_C_22509075::startTCharmThread(TCharmInitMsg*)', 'AMPI_threadstart', 'MPI_threadstart_t::start()', 'AMPI_Fallback_Main', 'AMPI_Main_cpp(int, char**)', '_INTERNAL_9_lulesh_cc_07ac9422::LagrangeLeapFrog(Domain&)', '_INTERNAL_9_lulesh_cc_07ac9422::LagrangeNodal(Domain&)', '_INTERNAL_9_lulesh_cc_07ac9422::CalcForceForNodes(Domain&)', '_INTERNAL_9_lulesh_cc_07ac9422::CalcVolumeForceForElems(Domain&)', '_INTERNAL_9_lulesh_cc_07ac9422::CalcHourglassControlForElems(Domain&, double*, double)', '_INTERNAL_9_lulesh_cc_07ac9422::CalcElemVolumeDerivative(double*, double*, double*, double const*, double const*, double const*)', '_INTERNAL_9_lulesh_cc_07ac9422::VoluDer(double, double, double, double, double, double, double, double, double, double, double, double, double, double, double, double, double, double, double*, double*, double*)')]\", 18: \"[('lulesh2.0', 'CthStartThread', '_INTERNAL_8_tcharm_C_22509075::startTCharmThread(TCharmInitMsg*)', 'AMPI_threadstart', 'MPI_threadstart_t::start()', 'AMPI_Fallback_Main', 'AMPI_Main_cpp(int, char**)', '_INTERNAL_9_lulesh_cc_07ac9422::LagrangeLeapFrog(Domain&)', '_INTERNAL_9_lulesh_cc_07ac9422::LagrangeNodal(Domain&)', '_INTERNAL_9_lulesh_cc_07ac9422::CalcForceForNodes(Domain&)', '_INTERNAL_9_lulesh_cc_07ac9422::CalcVolumeForceForElems(Domain&)', '_INTERNAL_9_lulesh_cc_07ac9422::CalcHourglassControlForElems(Domain&, double*, double)', '_INTERNAL_9_lulesh_cc_07ac9422::CalcFBHourglassForceForElems(Domain&, double*, double*, double*, double*, double*, double*, double*, double, int, int)')]\", 19: \"[('lulesh2.0', 'CthStartThread', '_INTERNAL_8_tcharm_C_22509075::startTCharmThread(TCharmInitMsg*)', 'AMPI_threadstart', 'MPI_threadstart_t::start()', 'AMPI_Fallback_Main', 'AMPI_Main_cpp(int, char**)', '_INTERNAL_9_lulesh_cc_07ac9422::LagrangeLeapFrog(Domain&)', '_INTERNAL_9_lulesh_cc_07ac9422::LagrangeNodal(Domain&)', '_INTERNAL_9_lulesh_cc_07ac9422::CalcForceForNodes(Domain&)', '_INTERNAL_9_lulesh_cc_07ac9422::CalcVolumeForceForElems(Domain&)', '_INTERNAL_9_lulesh_cc_07ac9422::CalcHourglassControlForElems(Domain&, double*, double)', '_INTERNAL_9_lulesh_cc_07ac9422::CalcFBHourglassForceForElems(Domain&, double*, double*, double*, double*, double*, double*, double*, double, int, int)', '_INTERNAL_9_lulesh_cc_07ac9422::CalcElemFBHourglassForce(double*, double*, double*, double (*) [4], double, double*, double*, double*)')]\", 20: \"[('lulesh2.0', 'CthStartThread', '_INTERNAL_8_tcharm_C_22509075::startTCharmThread(TCharmInitMsg*)', 'AMPI_threadstart', 'MPI_threadstart_t::start()', 'AMPI_Fallback_Main', 'AMPI_Main_cpp(int, char**)', '_INTERNAL_9_lulesh_cc_07ac9422::LagrangeLeapFrog(Domain&)', '_INTERNAL_9_lulesh_cc_07ac9422::LagrangeNodal(Domain&)', '_INTERNAL_9_lulesh_cc_07ac9422::CalcForceForNodes(Domain&)', '_INTERNAL_9_lulesh_cc_07ac9422::CalcVolumeForceForElems(Domain&)', '_INTERNAL_9_lulesh_cc_07ac9422::CalcHourglassControlForElems(Domain&, double*, double)', 'void Release<double>(double**)')]\", 21: \"[('lulesh2.0', 'CthStartThread', '_INTERNAL_8_tcharm_C_22509075::startTCharmThread(TCharmInitMsg*)', 'AMPI_threadstart', 'MPI_threadstart_t::start()', 'AMPI_Fallback_Main', 'AMPI_Main_cpp(int, char**)', '_INTERNAL_9_lulesh_cc_07ac9422::LagrangeLeapFrog(Domain&)', '_INTERNAL_9_lulesh_cc_07ac9422::LagrangeNodal(Domain&)', 'CommSyncPosVel(Domain&)')]\", 22: \"[('lulesh2.0', 'CthStartThread', '_INTERNAL_8_tcharm_C_22509075::startTCharmThread(TCharmInitMsg*)', 'AMPI_threadstart', 'MPI_threadstart_t::start()', 'AMPI_Fallback_Main', 'AMPI_Main_cpp(int, char**)', '_INTERNAL_9_lulesh_cc_07ac9422::LagrangeLeapFrog(Domain&)', '_INTERNAL_9_lulesh_cc_07ac9422::LagrangeElements(Domain&, int)')]\", 23: \"[('lulesh2.0', 'CthStartThread', '_INTERNAL_8_tcharm_C_22509075::startTCharmThread(TCharmInitMsg*)', 'AMPI_threadstart', 'MPI_threadstart_t::start()', 'AMPI_Fallback_Main', 'AMPI_Main_cpp(int, char**)', '_INTERNAL_9_lulesh_cc_07ac9422::LagrangeLeapFrog(Domain&)', '_INTERNAL_9_lulesh_cc_07ac9422::LagrangeElements(Domain&, int)', '_INTERNAL_9_lulesh_cc_07ac9422::CalcLagrangeElements(Domain&, double*)')]\", 24: \"[('lulesh2.0', 'CthStartThread', '_INTERNAL_8_tcharm_C_22509075::startTCharmThread(TCharmInitMsg*)', 'AMPI_threadstart', 'MPI_threadstart_t::start()', 'AMPI_Fallback_Main', 'AMPI_Main_cpp(int, char**)', '_INTERNAL_9_lulesh_cc_07ac9422::LagrangeLeapFrog(Domain&)', '_INTERNAL_9_lulesh_cc_07ac9422::LagrangeElements(Domain&, int)', '_INTERNAL_9_lulesh_cc_07ac9422::CalcLagrangeElements(Domain&, double*)', 'CalcKinematicsForElems(Domain&, double*, double, int)')]\", 25: \"[('lulesh2.0', 'CthStartThread', '_INTERNAL_8_tcharm_C_22509075::startTCharmThread(TCharmInitMsg*)', 'AMPI_threadstart', 'MPI_threadstart_t::start()', 'AMPI_Fallback_Main', 'AMPI_Main_cpp(int, char**)', '_INTERNAL_9_lulesh_cc_07ac9422::LagrangeLeapFrog(Domain&)', '_INTERNAL_9_lulesh_cc_07ac9422::LagrangeElements(Domain&, int)', '_INTERNAL_9_lulesh_cc_07ac9422::CalcLagrangeElements(Domain&, double*)', 'CalcKinematicsForElems(Domain&, double*, double, int)', 'CalcElemVolume(double const*, double const*, double const*)')]\", 26: \"[('lulesh2.0', 'CthStartThread', '_INTERNAL_8_tcharm_C_22509075::startTCharmThread(TCharmInitMsg*)', 'AMPI_threadstart', 'MPI_threadstart_t::start()', 'AMPI_Fallback_Main', 'AMPI_Main_cpp(int, char**)', '_INTERNAL_9_lulesh_cc_07ac9422::LagrangeLeapFrog(Domain&)', '_INTERNAL_9_lulesh_cc_07ac9422::LagrangeElements(Domain&, int)', '_INTERNAL_9_lulesh_cc_07ac9422::CalcLagrangeElements(Domain&, double*)', 'CalcKinematicsForElems(Domain&, double*, double, int)', 'CalcElemVolume(double const*, double const*, double const*)', '_INTERNAL_9_lulesh_cc_07ac9422::CalcElemVolume(double, double, double, double, double, double, double, double, double, double, double, double, double, double, double, double, double, double, double, double, double, double, double, double)')]\", 27: \"[('lulesh2.0', 'CthStartThread', '_INTERNAL_8_tcharm_C_22509075::startTCharmThread(TCharmInitMsg*)', 'AMPI_threadstart', 'MPI_threadstart_t::start()', 'AMPI_Fallback_Main', 'AMPI_Main_cpp(int, char**)', '_INTERNAL_9_lulesh_cc_07ac9422::LagrangeLeapFrog(Domain&)', '_INTERNAL_9_lulesh_cc_07ac9422::LagrangeElements(Domain&, int)', '_INTERNAL_9_lulesh_cc_07ac9422::CalcLagrangeElements(Domain&, double*)', 'CalcKinematicsForElems(Domain&, double*, double, int)', '_INTERNAL_9_lulesh_cc_07ac9422::CalcElemCharacteristicLength(double const*, double const*, double const*, double)')]\", 28: \"[('lulesh2.0', 'CthStartThread', '_INTERNAL_8_tcharm_C_22509075::startTCharmThread(TCharmInitMsg*)', 'AMPI_threadstart', 'MPI_threadstart_t::start()', 'AMPI_Fallback_Main', 'AMPI_Main_cpp(int, char**)', '_INTERNAL_9_lulesh_cc_07ac9422::LagrangeLeapFrog(Domain&)', '_INTERNAL_9_lulesh_cc_07ac9422::LagrangeElements(Domain&, int)', '_INTERNAL_9_lulesh_cc_07ac9422::CalcQForElems(Domain&, double*)')]\", 29: \"[('lulesh2.0', 'CthStartThread', '_INTERNAL_8_tcharm_C_22509075::startTCharmThread(TCharmInitMsg*)', 'AMPI_threadstart', 'MPI_threadstart_t::start()', 'AMPI_Fallback_Main', 'AMPI_Main_cpp(int, char**)', '_INTERNAL_9_lulesh_cc_07ac9422::LagrangeLeapFrog(Domain&)', '_INTERNAL_9_lulesh_cc_07ac9422::LagrangeElements(Domain&, int)', '_INTERNAL_9_lulesh_cc_07ac9422::CalcQForElems(Domain&, double*)', '_INTERNAL_9_lulesh_cc_07ac9422::CalcMonotonicQGradientsForElems(Domain&, double*)')]\", 30: \"[('lulesh2.0', 'CthStartThread', '_INTERNAL_8_tcharm_C_22509075::startTCharmThread(TCharmInitMsg*)', 'AMPI_threadstart', 'MPI_threadstart_t::start()', 'AMPI_Fallback_Main', 'AMPI_Main_cpp(int, char**)', '_INTERNAL_9_lulesh_cc_07ac9422::LagrangeLeapFrog(Domain&)', '_INTERNAL_9_lulesh_cc_07ac9422::LagrangeElements(Domain&, int)', '_INTERNAL_9_lulesh_cc_07ac9422::CalcQForElems(Domain&, double*)', '_INTERNAL_9_lulesh_cc_07ac9422::CalcMonotonicQForElems(Domain&, double*)')]\", 31: \"[('lulesh2.0', 'CthStartThread', '_INTERNAL_8_tcharm_C_22509075::startTCharmThread(TCharmInitMsg*)', 'AMPI_threadstart', 'MPI_threadstart_t::start()', 'AMPI_Fallback_Main', 'AMPI_Main_cpp(int, char**)', '_INTERNAL_9_lulesh_cc_07ac9422::LagrangeLeapFrog(Domain&)', '_INTERNAL_9_lulesh_cc_07ac9422::LagrangeElements(Domain&, int)', '_INTERNAL_9_lulesh_cc_07ac9422::CalcQForElems(Domain&, double*)', '_INTERNAL_9_lulesh_cc_07ac9422::CalcMonotonicQForElems(Domain&, double*)', '_INTERNAL_9_lulesh_cc_07ac9422::CalcMonotonicQRegionForElems(Domain&, int, double*, double)')]\", 32: \"[('lulesh2.0', 'CthStartThread', '_INTERNAL_8_tcharm_C_22509075::startTCharmThread(TCharmInitMsg*)', 'AMPI_threadstart', 'MPI_threadstart_t::start()', 'AMPI_Fallback_Main', 'AMPI_Main_cpp(int, char**)', '_INTERNAL_9_lulesh_cc_07ac9422::LagrangeLeapFrog(Domain&)', '_INTERNAL_9_lulesh_cc_07ac9422::LagrangeElements(Domain&, int)', '_INTERNAL_9_lulesh_cc_07ac9422::ApplyMaterialPropertiesForElems(Domain&, double*)')]\", 33: \"[('lulesh2.0', 'CthStartThread', '_INTERNAL_8_tcharm_C_22509075::startTCharmThread(TCharmInitMsg*)', 'AMPI_threadstart', 'MPI_threadstart_t::start()', 'AMPI_Fallback_Main', 'AMPI_Main_cpp(int, char**)', '_INTERNAL_9_lulesh_cc_07ac9422::LagrangeLeapFrog(Domain&)', '_INTERNAL_9_lulesh_cc_07ac9422::LagrangeElements(Domain&, int)', '_INTERNAL_9_lulesh_cc_07ac9422::ApplyMaterialPropertiesForElems(Domain&, double*)', '_INTERNAL_9_lulesh_cc_07ac9422::EvalEOSForElems(Domain&, double*, int, int*, int)')]\", 34: \"[('lulesh2.0', 'CthStartThread', '_INTERNAL_8_tcharm_C_22509075::startTCharmThread(TCharmInitMsg*)', 'AMPI_threadstart', 'MPI_threadstart_t::start()', 'AMPI_Fallback_Main', 'AMPI_Main_cpp(int, char**)', '_INTERNAL_9_lulesh_cc_07ac9422::LagrangeLeapFrog(Domain&)', '_INTERNAL_9_lulesh_cc_07ac9422::LagrangeElements(Domain&, int)', '_INTERNAL_9_lulesh_cc_07ac9422::ApplyMaterialPropertiesForElems(Domain&, double*)', '_INTERNAL_9_lulesh_cc_07ac9422::EvalEOSForElems(Domain&, double*, int, int*, int)', '_INTERNAL_9_lulesh_cc_07ac9422::CalcEnergyForElems(double*, double*, double*, double*, double*, double*, double*, double*, double*, double*, double*, double*, double*, double, double, double, double, double, double*, double*, double, double, int, int*)')]\", 35: \"[('lulesh2.0', 'CthStartThread', '_INTERNAL_8_tcharm_C_22509075::startTCharmThread(TCharmInitMsg*)', 'AMPI_threadstart', 'MPI_threadstart_t::start()', 'AMPI_Fallback_Main', 'AMPI_Main_cpp(int, char**)', '_INTERNAL_9_lulesh_cc_07ac9422::LagrangeLeapFrog(Domain&)', '_INTERNAL_9_lulesh_cc_07ac9422::LagrangeElements(Domain&, int)', '_INTERNAL_9_lulesh_cc_07ac9422::ApplyMaterialPropertiesForElems(Domain&, double*)', '_INTERNAL_9_lulesh_cc_07ac9422::EvalEOSForElems(Domain&, double*, int, int*, int)', '_INTERNAL_9_lulesh_cc_07ac9422::CalcEnergyForElems(double*, double*, double*, double*, double*, double*, double*, double*, double*, double*, double*, double*, double*, double, double, double, double, double, double*, double*, double, double, int, int*)', '_INTERNAL_9_lulesh_cc_07ac9422::CalcPressureForElems(double*, double*, double*, double*, double*, double*, double, double, double, int, int*)')]\"}}\n"
     ]
    }
   ],
   "source": []
  },
  {
   "cell_type": "code",
   "execution_count": 19,
   "metadata": {},
   "outputs": [
    {
     "data": {
      "text/html": [
       "\n",
       "<style> \n",
       "\n",
       ".bar {\n",
       "  fill: steelblue;\n",
       "}\n",
       "\n",
       ".bar:hover {\n",
       "  fill: brown;\n",
       "}\n",
       "\n",
       ".axis {\n",
       "  font: 10px sans-serif;\n",
       "}\n",
       "\n",
       ".axis path,\n",
       ".axis line {\n",
       "  fill: none;\n",
       "  stroke: #000;\n",
       "  shape-rendering: crispEdges;\n",
       "}\n",
       "\n",
       ".x.axis path {\n",
       "  display: none;\n",
       "}\n",
       " </style>\n",
       "<div id=\"graph-div\"></div>\n",
       "<script> \n",
       "\n",
       "var margin = {top: 20, right: 20, bottom: 30, left: 40},\n",
       "    width = 500 - margin.left - margin.right,\n",
       "    height = 300 - margin.top - margin.bottom;\n",
       "\n",
       "var x = d3.scale.ordinal()\n",
       "    .rangeRoundBands([0, width], .1);\n",
       "\n",
       "var y = d3.scale.linear()\n",
       "    .range([height, 0]);\n",
       "\n",
       "var xAxis = d3.svg.axis()\n",
       "    .scale(x)\n",
       "    .orient(\"bottom\");\n",
       "\n",
       "var yAxis = d3.svg.axis()\n",
       "    .scale(y)\n",
       "    .orient(\"left\");\n",
       "\n",
       "var svg = d3.select(\"#graph-div\").append(\"svg\")\n",
       "    .attr(\"width\", width + margin.left + margin.right)\n",
       "    .attr(\"height\", height + margin.top + margin.bottom)\n",
       "  .append(\"g\")\n",
       "    .attr(\"transform\", \"translate(\" + margin.left + \",\" + margin.top + \")\");\n",
       "\n",
       "var data = [{\"Unnamed: 0\": 0, \"inc_time\": 54608064.3, \"module\": \"lulesh2.0\", \"path\": \"[('lulesh2.0', 'CthStartThread')]\"}, {\"Unnamed: 0\": 1, \"inc_time\": 54608064.3, \"module\": \"lulesh2.0\", \"path\": \"[('lulesh2.0', 'CthStartThread', '_INTERNAL_8_tcharm_C_22509075::startTCharmThread(TCharmInitMsg*)')]\"}, {\"Unnamed: 0\": 2, \"inc_time\": 54608064.3, \"module\": \"lulesh2.0\", \"path\": \"[('lulesh2.0', 'CthStartThread', '_INTERNAL_8_tcharm_C_22509075::startTCharmThread(TCharmInitMsg*)', 'AMPI_threadstart')]\"}, {\"Unnamed: 0\": 3, \"inc_time\": 54608064.3, \"module\": \"lulesh2.0\", \"path\": \"[('lulesh2.0', 'CthStartThread', '_INTERNAL_8_tcharm_C_22509075::startTCharmThread(TCharmInitMsg*)', 'AMPI_threadstart', 'MPI_threadstart_t::start()')]\"}, {\"Unnamed: 0\": 4, \"inc_time\": 54608064.3, \"module\": \"lulesh2.0\", \"path\": \"[('lulesh2.0', 'CthStartThread', '_INTERNAL_8_tcharm_C_22509075::startTCharmThread(TCharmInitMsg*)', 'AMPI_threadstart', 'MPI_threadstart_t::start()', 'AMPI_Fallback_Main')]\"}, {\"Unnamed: 0\": 5, \"inc_time\": 54608064.3, \"module\": \"lulesh2.0\", \"path\": \"[('lulesh2.0', 'CthStartThread', '_INTERNAL_8_tcharm_C_22509075::startTCharmThread(TCharmInitMsg*)', 'AMPI_threadstart', 'MPI_threadstart_t::start()', 'AMPI_Fallback_Main', 'AMPI_Main_cpp(int, char**)')]\"}, {\"Unnamed: 0\": 6, \"inc_time\": 54302328.4, \"module\": \"lulesh2.0\", \"path\": \"[('lulesh2.0', 'CthStartThread', '_INTERNAL_8_tcharm_C_22509075::startTCharmThread(TCharmInitMsg*)', 'AMPI_threadstart', 'MPI_threadstart_t::start()', 'AMPI_Fallback_Main', 'AMPI_Main_cpp(int, char**)', '_INTERNAL_9_lulesh_cc_07ac9422::LagrangeLeapFrog(Domain&)')]\"}, {\"Unnamed: 0\": 7, \"inc_time\": 32970218.5, \"module\": \"lulesh2.0\", \"path\": \"[('lulesh2.0', 'CthStartThread', '_INTERNAL_8_tcharm_C_22509075::startTCharmThread(TCharmInitMsg*)', 'AMPI_threadstart', 'MPI_threadstart_t::start()', 'AMPI_Fallback_Main', 'AMPI_Main_cpp(int, char**)', '_INTERNAL_9_lulesh_cc_07ac9422::LagrangeLeapFrog(Domain&)', '_INTERNAL_9_lulesh_cc_07ac9422::LagrangeNodal(Domain&)')]\"}, {\"Unnamed: 0\": 8, \"inc_time\": 30682837.5, \"module\": \"lulesh2.0\", \"path\": \"[('lulesh2.0', 'CthStartThread', '_INTERNAL_8_tcharm_C_22509075::startTCharmThread(TCharmInitMsg*)', 'AMPI_threadstart', 'MPI_threadstart_t::start()', 'AMPI_Fallback_Main', 'AMPI_Main_cpp(int, char**)', '_INTERNAL_9_lulesh_cc_07ac9422::LagrangeLeapFrog(Domain&)', '_INTERNAL_9_lulesh_cc_07ac9422::LagrangeNodal(Domain&)', '_INTERNAL_9_lulesh_cc_07ac9422::CalcForceForNodes(Domain&)')]\"}, {\"Unnamed: 0\": 9, \"inc_time\": 30150122.5, \"module\": \"lulesh2.0\", \"path\": \"[('lulesh2.0', 'CthStartThread', '_INTERNAL_8_tcharm_C_22509075::startTCharmThread(TCharmInitMsg*)', 'AMPI_threadstart', 'MPI_threadstart_t::start()', 'AMPI_Fallback_Main', 'AMPI_Main_cpp(int, char**)', '_INTERNAL_9_lulesh_cc_07ac9422::LagrangeLeapFrog(Domain&)', '_INTERNAL_9_lulesh_cc_07ac9422::LagrangeNodal(Domain&)', '_INTERNAL_9_lulesh_cc_07ac9422::CalcForceForNodes(Domain&)', '_INTERNAL_9_lulesh_cc_07ac9422::CalcVolumeForceForElems(Domain&)')]\"}, {\"Unnamed: 0\": 10, \"inc_time\": 6558737.8, \"module\": \"lulesh2.0\", \"path\": \"[('lulesh2.0', 'CthStartThread', '_INTERNAL_8_tcharm_C_22509075::startTCharmThread(TCharmInitMsg*)', 'AMPI_threadstart', 'MPI_threadstart_t::start()', 'AMPI_Fallback_Main', 'AMPI_Main_cpp(int, char**)', '_INTERNAL_9_lulesh_cc_07ac9422::LagrangeLeapFrog(Domain&)', '_INTERNAL_9_lulesh_cc_07ac9422::LagrangeNodal(Domain&)', '_INTERNAL_9_lulesh_cc_07ac9422::CalcForceForNodes(Domain&)', '_INTERNAL_9_lulesh_cc_07ac9422::CalcVolumeForceForElems(Domain&)', '_INTERNAL_9_lulesh_cc_07ac9422::IntegrateStressForElems(Domain&, double*, double*, double*, double*, int, int)')]\"}, {\"Unnamed: 0\": 11, \"inc_time\": 1166193.1, \"module\": \"lulesh2.0\", \"path\": \"[('lulesh2.0', 'CthStartThread', '_INTERNAL_8_tcharm_C_22509075::startTCharmThread(TCharmInitMsg*)', 'AMPI_threadstart', 'MPI_threadstart_t::start()', 'AMPI_Fallback_Main', 'AMPI_Main_cpp(int, char**)', '_INTERNAL_9_lulesh_cc_07ac9422::LagrangeLeapFrog(Domain&)', '_INTERNAL_9_lulesh_cc_07ac9422::LagrangeNodal(Domain&)', '_INTERNAL_9_lulesh_cc_07ac9422::CalcForceForNodes(Domain&)', '_INTERNAL_9_lulesh_cc_07ac9422::CalcVolumeForceForElems(Domain&)', '_INTERNAL_9_lulesh_cc_07ac9422::IntegrateStressForElems(Domain&, double*, double*, double*, double*, int, int)', '_INTERNAL_9_lulesh_cc_07ac9422::CalcElemShapeFunctionDerivatives(double const*, double const*, double const*, double (*) [8], double*)')]\"}, {\"Unnamed: 0\": 12, \"inc_time\": 3854837.1, \"module\": \"lulesh2.0\", \"path\": \"[('lulesh2.0', 'CthStartThread', '_INTERNAL_8_tcharm_C_22509075::startTCharmThread(TCharmInitMsg*)', 'AMPI_threadstart', 'MPI_threadstart_t::start()', 'AMPI_Fallback_Main', 'AMPI_Main_cpp(int, char**)', '_INTERNAL_9_lulesh_cc_07ac9422::LagrangeLeapFrog(Domain&)', '_INTERNAL_9_lulesh_cc_07ac9422::LagrangeNodal(Domain&)', '_INTERNAL_9_lulesh_cc_07ac9422::CalcForceForNodes(Domain&)', '_INTERNAL_9_lulesh_cc_07ac9422::CalcVolumeForceForElems(Domain&)', '_INTERNAL_9_lulesh_cc_07ac9422::IntegrateStressForElems(Domain&, double*, double*, double*, double*, int, int)', '_INTERNAL_9_lulesh_cc_07ac9422::CalcElemNodeNormals(double*, double*, double*, double const*, double const*, double const*)')]\"}, {\"Unnamed: 0\": 13, \"inc_time\": 638154.0588235294, \"module\": \"lulesh2.0\", \"path\": \"[('lulesh2.0', 'CthStartThread', '_INTERNAL_8_tcharm_C_22509075::startTCharmThread(TCharmInitMsg*)', 'AMPI_threadstart', 'MPI_threadstart_t::start()', 'AMPI_Fallback_Main', 'AMPI_Main_cpp(int, char**)', '_INTERNAL_9_lulesh_cc_07ac9422::LagrangeLeapFrog(Domain&)', '_INTERNAL_9_lulesh_cc_07ac9422::LagrangeNodal(Domain&)', '_INTERNAL_9_lulesh_cc_07ac9422::CalcForceForNodes(Domain&)', '_INTERNAL_9_lulesh_cc_07ac9422::CalcVolumeForceForElems(Domain&)', '_INTERNAL_9_lulesh_cc_07ac9422::IntegrateStressForElems(Domain&, double*, double*, double*, double*, int, int)', '_INTERNAL_9_lulesh_cc_07ac9422::CalcElemNodeNormals(double*, double*, double*, double const*, double const*, double const*)', '_INTERNAL_9_lulesh_cc_07ac9422::SumElemFaceNormal(double*, double*, double*, double*, double*, double*, double*, double*, double*, double*, double*, double*, double, double, double, double, double, double, double, double, double, double, double, double)')]\"}, {\"Unnamed: 0\": 14, \"inc_time\": 23211855.1, \"module\": \"lulesh2.0\", \"path\": \"[('lulesh2.0', 'CthStartThread', '_INTERNAL_8_tcharm_C_22509075::startTCharmThread(TCharmInitMsg*)', 'AMPI_threadstart', 'MPI_threadstart_t::start()', 'AMPI_Fallback_Main', 'AMPI_Main_cpp(int, char**)', '_INTERNAL_9_lulesh_cc_07ac9422::LagrangeLeapFrog(Domain&)', '_INTERNAL_9_lulesh_cc_07ac9422::LagrangeNodal(Domain&)', '_INTERNAL_9_lulesh_cc_07ac9422::CalcForceForNodes(Domain&)', '_INTERNAL_9_lulesh_cc_07ac9422::CalcVolumeForceForElems(Domain&)', '_INTERNAL_9_lulesh_cc_07ac9422::CalcHourglassControlForElems(Domain&, double*, double)')]\"}, {\"Unnamed: 0\": 15, \"inc_time\": 758947.2222222221, \"module\": \"lulesh2.0\", \"path\": \"[('lulesh2.0', 'CthStartThread', '_INTERNAL_8_tcharm_C_22509075::startTCharmThread(TCharmInitMsg*)', 'AMPI_threadstart', 'MPI_threadstart_t::start()', 'AMPI_Fallback_Main', 'AMPI_Main_cpp(int, char**)', '_INTERNAL_9_lulesh_cc_07ac9422::LagrangeLeapFrog(Domain&)', '_INTERNAL_9_lulesh_cc_07ac9422::LagrangeNodal(Domain&)', '_INTERNAL_9_lulesh_cc_07ac9422::CalcForceForNodes(Domain&)', '_INTERNAL_9_lulesh_cc_07ac9422::CalcVolumeForceForElems(Domain&)', '_INTERNAL_9_lulesh_cc_07ac9422::CalcHourglassControlForElems(Domain&, double*, double)', '_INTERNAL_9_lulesh_cc_07ac9422::CollectDomainNodesToElemNodes(Domain&, int const*, double*, double*, double*)')]\"}, {\"Unnamed: 0\": 16, \"inc_time\": 3314848.5, \"module\": \"lulesh2.0\", \"path\": \"[('lulesh2.0', 'CthStartThread', '_INTERNAL_8_tcharm_C_22509075::startTCharmThread(TCharmInitMsg*)', 'AMPI_threadstart', 'MPI_threadstart_t::start()', 'AMPI_Fallback_Main', 'AMPI_Main_cpp(int, char**)', '_INTERNAL_9_lulesh_cc_07ac9422::LagrangeLeapFrog(Domain&)', '_INTERNAL_9_lulesh_cc_07ac9422::LagrangeNodal(Domain&)', '_INTERNAL_9_lulesh_cc_07ac9422::CalcForceForNodes(Domain&)', '_INTERNAL_9_lulesh_cc_07ac9422::CalcVolumeForceForElems(Domain&)', '_INTERNAL_9_lulesh_cc_07ac9422::CalcHourglassControlForElems(Domain&, double*, double)', '_INTERNAL_9_lulesh_cc_07ac9422::CalcElemVolumeDerivative(double*, double*, double*, double const*, double const*, double const*)')]\"}, {\"Unnamed: 0\": 17, \"inc_time\": 740118.4, \"module\": \"lulesh2.0\", \"path\": \"[('lulesh2.0', 'CthStartThread', '_INTERNAL_8_tcharm_C_22509075::startTCharmThread(TCharmInitMsg*)', 'AMPI_threadstart', 'MPI_threadstart_t::start()', 'AMPI_Fallback_Main', 'AMPI_Main_cpp(int, char**)', '_INTERNAL_9_lulesh_cc_07ac9422::LagrangeLeapFrog(Domain&)', '_INTERNAL_9_lulesh_cc_07ac9422::LagrangeNodal(Domain&)', '_INTERNAL_9_lulesh_cc_07ac9422::CalcForceForNodes(Domain&)', '_INTERNAL_9_lulesh_cc_07ac9422::CalcVolumeForceForElems(Domain&)', '_INTERNAL_9_lulesh_cc_07ac9422::CalcHourglassControlForElems(Domain&, double*, double)', '_INTERNAL_9_lulesh_cc_07ac9422::CalcElemVolumeDerivative(double*, double*, double*, double const*, double const*, double const*)', '_INTERNAL_9_lulesh_cc_07ac9422::VoluDer(double, double, double, double, double, double, double, double, double, double, double, double, double, double, double, double, double, double, double*, double*, double*)')]\"}, {\"Unnamed: 0\": 18, \"inc_time\": 6829906.7, \"module\": \"lulesh2.0\", \"path\": \"[('lulesh2.0', 'CthStartThread', '_INTERNAL_8_tcharm_C_22509075::startTCharmThread(TCharmInitMsg*)', 'AMPI_threadstart', 'MPI_threadstart_t::start()', 'AMPI_Fallback_Main', 'AMPI_Main_cpp(int, char**)', '_INTERNAL_9_lulesh_cc_07ac9422::LagrangeLeapFrog(Domain&)', '_INTERNAL_9_lulesh_cc_07ac9422::LagrangeNodal(Domain&)', '_INTERNAL_9_lulesh_cc_07ac9422::CalcForceForNodes(Domain&)', '_INTERNAL_9_lulesh_cc_07ac9422::CalcVolumeForceForElems(Domain&)', '_INTERNAL_9_lulesh_cc_07ac9422::CalcHourglassControlForElems(Domain&, double*, double)', '_INTERNAL_9_lulesh_cc_07ac9422::CalcFBHourglassForceForElems(Domain&, double*, double*, double*, double*, double*, double*, double*, double, int, int)')]\"}, {\"Unnamed: 0\": 19, \"inc_time\": 2146778.7, \"module\": \"lulesh2.0\", \"path\": \"[('lulesh2.0', 'CthStartThread', '_INTERNAL_8_tcharm_C_22509075::startTCharmThread(TCharmInitMsg*)', 'AMPI_threadstart', 'MPI_threadstart_t::start()', 'AMPI_Fallback_Main', 'AMPI_Main_cpp(int, char**)', '_INTERNAL_9_lulesh_cc_07ac9422::LagrangeLeapFrog(Domain&)', '_INTERNAL_9_lulesh_cc_07ac9422::LagrangeNodal(Domain&)', '_INTERNAL_9_lulesh_cc_07ac9422::CalcForceForNodes(Domain&)', '_INTERNAL_9_lulesh_cc_07ac9422::CalcVolumeForceForElems(Domain&)', '_INTERNAL_9_lulesh_cc_07ac9422::CalcHourglassControlForElems(Domain&, double*, double)', '_INTERNAL_9_lulesh_cc_07ac9422::CalcFBHourglassForceForElems(Domain&, double*, double*, double*, double*, double*, double*, double*, double, int, int)', '_INTERNAL_9_lulesh_cc_07ac9422::CalcElemFBHourglassForce(double*, double*, double*, double (*) [4], double, double*, double*, double*)')]\"}, {\"Unnamed: 0\": 20, \"inc_time\": 1097157.0, \"module\": \"lulesh2.0\", \"path\": \"[('lulesh2.0', 'CthStartThread', '_INTERNAL_8_tcharm_C_22509075::startTCharmThread(TCharmInitMsg*)', 'AMPI_threadstart', 'MPI_threadstart_t::start()', 'AMPI_Fallback_Main', 'AMPI_Main_cpp(int, char**)', '_INTERNAL_9_lulesh_cc_07ac9422::LagrangeLeapFrog(Domain&)', '_INTERNAL_9_lulesh_cc_07ac9422::LagrangeNodal(Domain&)', '_INTERNAL_9_lulesh_cc_07ac9422::CalcForceForNodes(Domain&)', '_INTERNAL_9_lulesh_cc_07ac9422::CalcVolumeForceForElems(Domain&)', '_INTERNAL_9_lulesh_cc_07ac9422::CalcHourglassControlForElems(Domain&, double*, double)', 'void Release<double>(double**)')]\"}, {\"Unnamed: 0\": 21, \"inc_time\": 761138.3, \"module\": \"lulesh2.0\", \"path\": \"[('lulesh2.0', 'CthStartThread', '_INTERNAL_8_tcharm_C_22509075::startTCharmThread(TCharmInitMsg*)', 'AMPI_threadstart', 'MPI_threadstart_t::start()', 'AMPI_Fallback_Main', 'AMPI_Main_cpp(int, char**)', '_INTERNAL_9_lulesh_cc_07ac9422::LagrangeLeapFrog(Domain&)', '_INTERNAL_9_lulesh_cc_07ac9422::LagrangeNodal(Domain&)', 'CommSyncPosVel(Domain&)')]\"}, {\"Unnamed: 0\": 22, \"inc_time\": 21015531.1, \"module\": \"lulesh2.0\", \"path\": \"[('lulesh2.0', 'CthStartThread', '_INTERNAL_8_tcharm_C_22509075::startTCharmThread(TCharmInitMsg*)', 'AMPI_threadstart', 'MPI_threadstart_t::start()', 'AMPI_Fallback_Main', 'AMPI_Main_cpp(int, char**)', '_INTERNAL_9_lulesh_cc_07ac9422::LagrangeLeapFrog(Domain&)', '_INTERNAL_9_lulesh_cc_07ac9422::LagrangeElements(Domain&, int)')]\"}, {\"Unnamed: 0\": 23, \"inc_time\": 6669611.2, \"module\": \"lulesh2.0\", \"path\": \"[('lulesh2.0', 'CthStartThread', '_INTERNAL_8_tcharm_C_22509075::startTCharmThread(TCharmInitMsg*)', 'AMPI_threadstart', 'MPI_threadstart_t::start()', 'AMPI_Fallback_Main', 'AMPI_Main_cpp(int, char**)', '_INTERNAL_9_lulesh_cc_07ac9422::LagrangeLeapFrog(Domain&)', '_INTERNAL_9_lulesh_cc_07ac9422::LagrangeElements(Domain&, int)', '_INTERNAL_9_lulesh_cc_07ac9422::CalcLagrangeElements(Domain&, double*)')]\"}, {\"Unnamed: 0\": 24, \"inc_time\": 6251152.1, \"module\": \"lulesh2.0\", \"path\": \"[('lulesh2.0', 'CthStartThread', '_INTERNAL_8_tcharm_C_22509075::startTCharmThread(TCharmInitMsg*)', 'AMPI_threadstart', 'MPI_threadstart_t::start()', 'AMPI_Fallback_Main', 'AMPI_Main_cpp(int, char**)', '_INTERNAL_9_lulesh_cc_07ac9422::LagrangeLeapFrog(Domain&)', '_INTERNAL_9_lulesh_cc_07ac9422::LagrangeElements(Domain&, int)', '_INTERNAL_9_lulesh_cc_07ac9422::CalcLagrangeElements(Domain&, double*)', 'CalcKinematicsForElems(Domain&, double*, double, int)')]\"}, {\"Unnamed: 0\": 25, \"inc_time\": 1053542.5, \"module\": \"lulesh2.0\", \"path\": \"[('lulesh2.0', 'CthStartThread', '_INTERNAL_8_tcharm_C_22509075::startTCharmThread(TCharmInitMsg*)', 'AMPI_threadstart', 'MPI_threadstart_t::start()', 'AMPI_Fallback_Main', 'AMPI_Main_cpp(int, char**)', '_INTERNAL_9_lulesh_cc_07ac9422::LagrangeLeapFrog(Domain&)', '_INTERNAL_9_lulesh_cc_07ac9422::LagrangeElements(Domain&, int)', '_INTERNAL_9_lulesh_cc_07ac9422::CalcLagrangeElements(Domain&, double*)', 'CalcKinematicsForElems(Domain&, double*, double, int)', 'CalcElemVolume(double const*, double const*, double const*)')]\"}, {\"Unnamed: 0\": 26, \"inc_time\": 1053542.5, \"module\": \"lulesh2.0\", \"path\": \"[('lulesh2.0', 'CthStartThread', '_INTERNAL_8_tcharm_C_22509075::startTCharmThread(TCharmInitMsg*)', 'AMPI_threadstart', 'MPI_threadstart_t::start()', 'AMPI_Fallback_Main', 'AMPI_Main_cpp(int, char**)', '_INTERNAL_9_lulesh_cc_07ac9422::LagrangeLeapFrog(Domain&)', '_INTERNAL_9_lulesh_cc_07ac9422::LagrangeElements(Domain&, int)', '_INTERNAL_9_lulesh_cc_07ac9422::CalcLagrangeElements(Domain&, double*)', 'CalcKinematicsForElems(Domain&, double*, double, int)', 'CalcElemVolume(double const*, double const*, double const*)', '_INTERNAL_9_lulesh_cc_07ac9422::CalcElemVolume(double, double, double, double, double, double, double, double, double, double, double, double, double, double, double, double, double, double, double, double, double, double, double, double)')]\"}, {\"Unnamed: 0\": 27, \"inc_time\": 2384080.2, \"module\": \"lulesh2.0\", \"path\": \"[('lulesh2.0', 'CthStartThread', '_INTERNAL_8_tcharm_C_22509075::startTCharmThread(TCharmInitMsg*)', 'AMPI_threadstart', 'MPI_threadstart_t::start()', 'AMPI_Fallback_Main', 'AMPI_Main_cpp(int, char**)', '_INTERNAL_9_lulesh_cc_07ac9422::LagrangeLeapFrog(Domain&)', '_INTERNAL_9_lulesh_cc_07ac9422::LagrangeElements(Domain&, int)', '_INTERNAL_9_lulesh_cc_07ac9422::CalcLagrangeElements(Domain&, double*)', 'CalcKinematicsForElems(Domain&, double*, double, int)', '_INTERNAL_9_lulesh_cc_07ac9422::CalcElemCharacteristicLength(double const*, double const*, double const*, double)')]\"}, {\"Unnamed: 0\": 28, \"inc_time\": 6108581.7, \"module\": \"lulesh2.0\", \"path\": \"[('lulesh2.0', 'CthStartThread', '_INTERNAL_8_tcharm_C_22509075::startTCharmThread(TCharmInitMsg*)', 'AMPI_threadstart', 'MPI_threadstart_t::start()', 'AMPI_Fallback_Main', 'AMPI_Main_cpp(int, char**)', '_INTERNAL_9_lulesh_cc_07ac9422::LagrangeLeapFrog(Domain&)', '_INTERNAL_9_lulesh_cc_07ac9422::LagrangeElements(Domain&, int)', '_INTERNAL_9_lulesh_cc_07ac9422::CalcQForElems(Domain&, double*)')]\"}, {\"Unnamed: 0\": 29, \"inc_time\": 2790793.5, \"module\": \"lulesh2.0\", \"path\": \"[('lulesh2.0', 'CthStartThread', '_INTERNAL_8_tcharm_C_22509075::startTCharmThread(TCharmInitMsg*)', 'AMPI_threadstart', 'MPI_threadstart_t::start()', 'AMPI_Fallback_Main', 'AMPI_Main_cpp(int, char**)', '_INTERNAL_9_lulesh_cc_07ac9422::LagrangeLeapFrog(Domain&)', '_INTERNAL_9_lulesh_cc_07ac9422::LagrangeElements(Domain&, int)', '_INTERNAL_9_lulesh_cc_07ac9422::CalcQForElems(Domain&, double*)', '_INTERNAL_9_lulesh_cc_07ac9422::CalcMonotonicQGradientsForElems(Domain&, double*)')]\"}, {\"Unnamed: 0\": 30, \"inc_time\": 2563181.2, \"module\": \"lulesh2.0\", \"path\": \"[('lulesh2.0', 'CthStartThread', '_INTERNAL_8_tcharm_C_22509075::startTCharmThread(TCharmInitMsg*)', 'AMPI_threadstart', 'MPI_threadstart_t::start()', 'AMPI_Fallback_Main', 'AMPI_Main_cpp(int, char**)', '_INTERNAL_9_lulesh_cc_07ac9422::LagrangeLeapFrog(Domain&)', '_INTERNAL_9_lulesh_cc_07ac9422::LagrangeElements(Domain&, int)', '_INTERNAL_9_lulesh_cc_07ac9422::CalcQForElems(Domain&, double*)', '_INTERNAL_9_lulesh_cc_07ac9422::CalcMonotonicQForElems(Domain&, double*)')]\"}, {\"Unnamed: 0\": 31, \"inc_time\": 2562983.4, \"module\": \"lulesh2.0\", \"path\": \"[('lulesh2.0', 'CthStartThread', '_INTERNAL_8_tcharm_C_22509075::startTCharmThread(TCharmInitMsg*)', 'AMPI_threadstart', 'MPI_threadstart_t::start()', 'AMPI_Fallback_Main', 'AMPI_Main_cpp(int, char**)', '_INTERNAL_9_lulesh_cc_07ac9422::LagrangeLeapFrog(Domain&)', '_INTERNAL_9_lulesh_cc_07ac9422::LagrangeElements(Domain&, int)', '_INTERNAL_9_lulesh_cc_07ac9422::CalcQForElems(Domain&, double*)', '_INTERNAL_9_lulesh_cc_07ac9422::CalcMonotonicQForElems(Domain&, double*)', '_INTERNAL_9_lulesh_cc_07ac9422::CalcMonotonicQRegionForElems(Domain&, int, double*, double)')]\"}, {\"Unnamed: 0\": 32, \"inc_time\": 8153549.3, \"module\": \"lulesh2.0\", \"path\": \"[('lulesh2.0', 'CthStartThread', '_INTERNAL_8_tcharm_C_22509075::startTCharmThread(TCharmInitMsg*)', 'AMPI_threadstart', 'MPI_threadstart_t::start()', 'AMPI_Fallback_Main', 'AMPI_Main_cpp(int, char**)', '_INTERNAL_9_lulesh_cc_07ac9422::LagrangeLeapFrog(Domain&)', '_INTERNAL_9_lulesh_cc_07ac9422::LagrangeElements(Domain&, int)', '_INTERNAL_9_lulesh_cc_07ac9422::ApplyMaterialPropertiesForElems(Domain&, double*)')]\"}, {\"Unnamed: 0\": 33, \"inc_time\": 7985537.3, \"module\": \"lulesh2.0\", \"path\": \"[('lulesh2.0', 'CthStartThread', '_INTERNAL_8_tcharm_C_22509075::startTCharmThread(TCharmInitMsg*)', 'AMPI_threadstart', 'MPI_threadstart_t::start()', 'AMPI_Fallback_Main', 'AMPI_Main_cpp(int, char**)', '_INTERNAL_9_lulesh_cc_07ac9422::LagrangeLeapFrog(Domain&)', '_INTERNAL_9_lulesh_cc_07ac9422::LagrangeElements(Domain&, int)', '_INTERNAL_9_lulesh_cc_07ac9422::ApplyMaterialPropertiesForElems(Domain&, double*)', '_INTERNAL_9_lulesh_cc_07ac9422::EvalEOSForElems(Domain&, double*, int, int*, int)')]\"}, {\"Unnamed: 0\": 34, \"inc_time\": 4258607.2, \"module\": \"lulesh2.0\", \"path\": \"[('lulesh2.0', 'CthStartThread', '_INTERNAL_8_tcharm_C_22509075::startTCharmThread(TCharmInitMsg*)', 'AMPI_threadstart', 'MPI_threadstart_t::start()', 'AMPI_Fallback_Main', 'AMPI_Main_cpp(int, char**)', '_INTERNAL_9_lulesh_cc_07ac9422::LagrangeLeapFrog(Domain&)', '_INTERNAL_9_lulesh_cc_07ac9422::LagrangeElements(Domain&, int)', '_INTERNAL_9_lulesh_cc_07ac9422::ApplyMaterialPropertiesForElems(Domain&, double*)', '_INTERNAL_9_lulesh_cc_07ac9422::EvalEOSForElems(Domain&, double*, int, int*, int)', '_INTERNAL_9_lulesh_cc_07ac9422::CalcEnergyForElems(double*, double*, double*, double*, double*, double*, double*, double*, double*, double*, double*, double*, double*, double, double, double, double, double, double*, double*, double, double, int, int*)')]\"}, {\"Unnamed: 0\": 35, \"inc_time\": 1065372.133333333, \"module\": \"lulesh2.0\", \"path\": \"[('lulesh2.0', 'CthStartThread', '_INTERNAL_8_tcharm_C_22509075::startTCharmThread(TCharmInitMsg*)', 'AMPI_threadstart', 'MPI_threadstart_t::start()', 'AMPI_Fallback_Main', 'AMPI_Main_cpp(int, char**)', '_INTERNAL_9_lulesh_cc_07ac9422::LagrangeLeapFrog(Domain&)', '_INTERNAL_9_lulesh_cc_07ac9422::LagrangeElements(Domain&, int)', '_INTERNAL_9_lulesh_cc_07ac9422::ApplyMaterialPropertiesForElems(Domain&, double*)', '_INTERNAL_9_lulesh_cc_07ac9422::EvalEOSForElems(Domain&, double*, int, int*, int)', '_INTERNAL_9_lulesh_cc_07ac9422::CalcEnergyForElems(double*, double*, double*, double*, double*, double*, double*, double*, double*, double*, double*, double*, double*, double, double, double, double, double, double*, double*, double, double, int, int*)', '_INTERNAL_9_lulesh_cc_07ac9422::CalcPressureForElems(double*, double*, double*, double*, double*, double*, double, double, double, int, int*)')]\"}] ;\n",
       "\n",
       "  x.domain(data.map(function(d) { return d.letter; }));\n",
       "  y.domain([0, d3.max(data, function(d) { return d.y; })]);\n",
       "\n",
       "  svg.append(\"g\")\n",
       "      .attr(\"class\", \"x axis\")\n",
       "      .attr(\"transform\", \"translate(0,\" + height + \")\")\n",
       "      .call(xAxis);\n",
       "\n",
       "  svg.append(\"g\")\n",
       "      .attr(\"class\", \"y axis\")\n",
       "      .call(yAxis);\n",
       "\n",
       "  svg.selectAll(\".bar\")\n",
       "      .data(data)\n",
       "    .enter().append(\"rect\")\n",
       "      .attr(\"class\", \"bar\")\n",
       "      .attr(\"x\", function(d) { return x(d.letter); })\n",
       "      .attr(\"width\", x.rangeBand())\n",
       "      .attr(\"y\", function(d) { return y(d.y); })\n",
       "      .attr(\"height\", function(d) { return height - y(d.y); });\n",
       "\n",
       " </script>\n"
      ],
      "text/plain": [
       "<IPython.core.display.HTML object>"
      ]
     },
     "execution_count": 19,
     "metadata": {},
     "output_type": "execute_result"
    }
   ],
   "source": [
    "\n",
    "js_text = js_text_template.substitute({'data': json.dumps(d.to_dict(orient='records'))})\n",
    "HTML(html_template.substitute({'css_text': css_text, 'js_text': js_text}))\n"
   ]
  }
 ],
 "metadata": {
  "kernelspec": {
   "display_name": "Python 3",
   "language": "python",
   "name": "python3"
  },
  "language_info": {
   "codemirror_mode": {
    "name": "ipython",
    "version": 3
   },
   "file_extension": ".py",
   "mimetype": "text/x-python",
   "name": "python",
   "nbconvert_exporter": "python",
   "pygments_lexer": "ipython3",
   "version": "3.6.7"
  }
 },
 "nbformat": 4,
 "nbformat_minor": 2
}
