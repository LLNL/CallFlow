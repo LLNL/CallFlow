{
 "cells": [
  {
   "cell_type": "code",
   "execution_count": 1,
   "metadata": {},
   "outputs": [],
   "source": [
    "# Global imports\n",
    "import hatchet as ht\n",
    "import pandas as pd\n",
    "import numpy as np\n",
    "from scipy import stats\n",
    "import utils\n",
    "import random\n",
    "import os\n",
    "import json\n",
    "\n",
    "import seaborn as sns\n",
    "import matplotlib.pyplot as plt\n",
    "from os import listdir\n",
    "from os.path import isfile, join\n",
    "\n",
    "from ast import literal_eval as make_list\n",
    "import networkx as nx\n",
    "from networkx.readwrite import json_graph"
   ]
  },
  {
   "cell_type": "code",
   "execution_count": 2,
   "metadata": {},
   "outputs": [],
   "source": [
    "# Local imports\n",
    "from state import State\n",
    "from preprocess import PreProcess\n",
    "from actions.similarity import Similarity\n",
    "from actions.union_graph import UnionGraph\n",
    "from pipeline import Pipeline\n",
    "from hatchet_to_networkx import HatchetToNetworkX"
   ]
  },
  {
   "cell_type": "code",
   "execution_count": 3,
   "metadata": {},
   "outputs": [],
   "source": [
    "pd.options.display.max_rows = 10\n",
    "pd.options.display.float_format = '{:,.2f}'.format"
   ]
  },
  {
   "cell_type": "markdown",
   "metadata": {},
   "source": [
    "# Set Path"
   ]
  },
  {
   "cell_type": "code",
   "execution_count": 4,
   "metadata": {},
   "outputs": [],
   "source": [
    "experiment = 'bcast'\n",
    "dataset = 'osu_scatter.128.8.2019-10-09_04-04-22'\n",
    "path = '/mnt/2TB/p/lustre1/rahim/data/hpcdbs/osu/catalyst/mvapich2/2.3/'"
   ]
  },
  {
   "cell_type": "code",
   "execution_count": 5,
   "metadata": {},
   "outputs": [],
   "source": [
    "experiment = 'osu_bcast_18'\n",
    "dataset = 'osu_bcast.1.18.2019-09-03_11-33-15'\n",
    "path = '/home/vidi/Work/llnl/CallFlow/'"
   ]
  },
  {
   "cell_type": "code",
   "execution_count": 6,
   "metadata": {},
   "outputs": [],
   "source": [
    "configPath = path + 'config_files'\n",
    "dataPath = path + experiment\n",
    "dotPath = path + 'data/processed'\n",
    "experimentPath = dataPath + '/' + experiment\n",
    "experimentDotPath = dotPath + '/' + experiment"
   ]
  },
  {
   "cell_type": "markdown",
   "metadata": {},
   "source": [
    "# Read Config file"
   ]
  },
  {
   "cell_type": "code",
   "execution_count": 7,
   "metadata": {},
   "outputs": [],
   "source": [
    "from configFileReader import *\n",
    "# configFileName = '/home/vidi/Work/llnl/CallFlow/config_files/scatter vs scatterv.json'\n",
    "configFileName = '/home/vidi/Work/llnl/CallFlow/config_files/osu_bcast-rank=10.json'\n",
    "config = configFileReader(configFileName)"
   ]
  },
  {
   "cell_type": "code",
   "execution_count": 8,
   "metadata": {},
   "outputs": [
    {
     "name": "stderr",
     "output_type": "stream",
     "text": [
      "\u001b[1m #  \u001b[31m [callfow.py] Action: Creating graphframes:  \"osu_bcast.1.18.2019-09-03_11-33-15\"\u001b[0m\n"
     ]
    },
    {
     "name": "stdout",
     "output_type": "stream",
     "text": [
      "<configFileReader: {json = {'runName': 'osu_bcast_10', 'filter_perc': 5, 'callflow_path': '/home/vidi/Work/llnl/CallFlow/', 'save_path': 'data/processed', 'datasets': [{'name': 'osu_bcast.1.10.2019-09-04_07-05-12', 'path': './data/osu_bcast_10/osu_bcast.1.10.2019-09-04_07-05-12', 'format': 'hpctoolkit', 'props': {}, 'nop': 10}, {'name': 'osu_bcast.1.10.2019-09-03_23-33-03', 'path': './data/osu_bcast_10/osu_bcast.1.10.2019-09-03_23-33-03', 'format': 'hpctoolkit', 'props': {}, 'nop': 10}, {'name': 'osu_bcast.1.10.2019-09-04_08-07-45', 'path': './data/osu_bcast_10/osu_bcast.1.10.2019-09-04_08-07-45', 'format': 'hpctoolkit', 'props': {}, 'nop': 10}, {'name': 'osu_bcast.1.10.2019-09-03_13-07-55', 'path': './data/osu_bcast_10/osu_bcast.1.10.2019-09-03_13-07-55', 'format': 'hpctoolkit', 'props': {}, 'nop': 10}, {'name': 'osu_bcast.1.10.2019-09-04_03-18-07', 'path': './data/osu_bcast_10/osu_bcast.1.10.2019-09-04_03-18-07', 'format': 'hpctoolkit', 'props': {}, 'nop': 10}, {'name': 'osu_bcast.1.10.2019-09-03_21-42-03', 'path': './data/osu_bcast_10/osu_bcast.1.10.2019-09-03_21-42-03', 'format': 'hpctoolkit', 'props': {}, 'nop': 10}, {'name': 'osu_bcast.1.10.2019-09-03_11-12-50', 'path': './data/osu_bcast_10/osu_bcast.1.10.2019-09-03_11-12-50', 'format': 'hpctoolkit', 'props': {}, 'nop': 10}, {'name': 'osu_bcast.1.10.2019-09-04_06-10-08', 'path': './data/osu_bcast_10/osu_bcast.1.10.2019-09-04_06-10-08', 'format': 'hpctoolkit', 'props': {}, 'nop': 10}, {'name': 'osu_bcast.1.10.2019-09-04_04-14-14', 'path': './data/osu_bcast_10/osu_bcast.1.10.2019-09-04_04-14-14', 'format': 'hpctoolkit', 'props': {}, 'nop': 10}, {'name': 'osu_bcast.1.10.2019-09-04_02-21-56', 'path': './data/osu_bcast_10/osu_bcast.1.10.2019-09-04_02-21-56', 'format': 'hpctoolkit', 'props': {}, 'nop': 10}, {'name': 'osu_bcast.1.10.2019-09-03_14-59-00', 'path': './data/osu_bcast_10/osu_bcast.1.10.2019-09-03_14-59-00', 'format': 'hpctoolkit', 'props': {}, 'nop': 10}, {'name': 'osu_bcast.1.10.2019-09-03_15-54-46', 'path': './data/osu_bcast_10/osu_bcast.1.10.2019-09-03_15-54-46', 'format': 'hpctoolkit', 'props': {}, 'nop': 10}, {'name': 'osu_bcast.1.10.2019-09-04_01-23-49', 'path': './data/osu_bcast_10/osu_bcast.1.10.2019-09-04_01-23-49', 'format': 'hpctoolkit', 'props': {}, 'nop': 10}, {'name': 'osu_bcast.1.10.2019-09-03_18-52-06', 'path': './data/osu_bcast_10/osu_bcast.1.10.2019-09-03_18-52-06', 'format': 'hpctoolkit', 'props': {}, 'nop': 10}, {'name': 'osu_bcast.1.10.2019-09-04_00-28-19', 'path': './data/osu_bcast_10/osu_bcast.1.10.2019-09-04_00-28-19', 'format': 'hpctoolkit', 'props': {}, 'nop': 10}, {'name': 'osu_bcast.1.10.2019-09-03_22-37-37', 'path': './data/osu_bcast_10/osu_bcast.1.10.2019-09-03_22-37-37', 'format': 'hpctoolkit', 'props': {}, 'nop': 10}, {'name': 'osu_bcast.1.10.2019-09-03_19-47-31', 'path': './data/osu_bcast_10/osu_bcast.1.10.2019-09-03_19-47-31', 'format': 'hpctoolkit', 'props': {}, 'nop': 10}, {'name': 'osu_bcast.1.10.2019-09-03_10-15-54', 'path': './data/osu_bcast_10/osu_bcast.1.10.2019-09-03_10-15-54', 'format': 'hpctoolkit', 'props': {}, 'nop': 10}, {'name': 'osu_bcast.1.10.2019-09-03_14-03-30', 'path': './data/osu_bcast_10/osu_bcast.1.10.2019-09-03_14-03-30', 'format': 'hpctoolkit', 'props': {}, 'nop': 10}, {'name': 'osu_bcast.1.10.2019-09-03_16-50-08', 'path': './data/osu_bcast_10/osu_bcast.1.10.2019-09-03_16-50-08', 'format': 'hpctoolkit', 'props': {}, 'nop': 10}, {'name': 'osu_bcast.1.10.2019-09-04_05-14-33', 'path': './data/osu_bcast_10/osu_bcast.1.10.2019-09-04_05-14-33', 'format': 'hpctoolkit', 'props': {}, 'nop': 10}, {'name': 'osu_bcast.1.10.2019-09-03_17-51-29', 'path': './data/osu_bcast_10/osu_bcast.1.10.2019-09-03_17-51-29', 'format': 'hpctoolkit', 'props': {}, 'nop': 10}, {'name': 'osu_bcast.1.10.2019-09-03_12-11-37', 'path': './data/osu_bcast_10/osu_bcast.1.10.2019-09-03_12-11-37', 'format': 'hpctoolkit', 'props': {}, 'nop': 10}, {'name': 'osu_bcast.1.10.2019-09-03_20-45-50', 'path': './data/osu_bcast_10/osu_bcast.1.10.2019-09-03_20-45-50', 'format': 'hpctoolkit', 'props': {}, 'nop': 10}]}, datasets = [{'name': 'osu_bcast.1.10.2019-09-04_07-05-12', 'path': './data/osu_bcast_10/osu_bcast.1.10.2019-09-04_07-05-12', 'format': 'hpctoolkit', 'props': {}, 'nop': 10}, {'name': 'osu_bcast.1.10.2019-09-03_23-33-03', 'path': './data/osu_bcast_10/osu_bcast.1.10.2019-09-03_23-33-03', 'format': 'hpctoolkit', 'props': {}, 'nop': 10}, {'name': 'osu_bcast.1.10.2019-09-04_08-07-45', 'path': './data/osu_bcast_10/osu_bcast.1.10.2019-09-04_08-07-45', 'format': 'hpctoolkit', 'props': {}, 'nop': 10}, {'name': 'osu_bcast.1.10.2019-09-03_13-07-55', 'path': './data/osu_bcast_10/osu_bcast.1.10.2019-09-03_13-07-55', 'format': 'hpctoolkit', 'props': {}, 'nop': 10}, {'name': 'osu_bcast.1.10.2019-09-04_03-18-07', 'path': './data/osu_bcast_10/osu_bcast.1.10.2019-09-04_03-18-07', 'format': 'hpctoolkit', 'props': {}, 'nop': 10}, {'name': 'osu_bcast.1.10.2019-09-03_21-42-03', 'path': './data/osu_bcast_10/osu_bcast.1.10.2019-09-03_21-42-03', 'format': 'hpctoolkit', 'props': {}, 'nop': 10}, {'name': 'osu_bcast.1.10.2019-09-03_11-12-50', 'path': './data/osu_bcast_10/osu_bcast.1.10.2019-09-03_11-12-50', 'format': 'hpctoolkit', 'props': {}, 'nop': 10}, {'name': 'osu_bcast.1.10.2019-09-04_06-10-08', 'path': './data/osu_bcast_10/osu_bcast.1.10.2019-09-04_06-10-08', 'format': 'hpctoolkit', 'props': {}, 'nop': 10}, {'name': 'osu_bcast.1.10.2019-09-04_04-14-14', 'path': './data/osu_bcast_10/osu_bcast.1.10.2019-09-04_04-14-14', 'format': 'hpctoolkit', 'props': {}, 'nop': 10}, {'name': 'osu_bcast.1.10.2019-09-04_02-21-56', 'path': './data/osu_bcast_10/osu_bcast.1.10.2019-09-04_02-21-56', 'format': 'hpctoolkit', 'props': {}, 'nop': 10}, {'name': 'osu_bcast.1.10.2019-09-03_14-59-00', 'path': './data/osu_bcast_10/osu_bcast.1.10.2019-09-03_14-59-00', 'format': 'hpctoolkit', 'props': {}, 'nop': 10}, {'name': 'osu_bcast.1.10.2019-09-03_15-54-46', 'path': './data/osu_bcast_10/osu_bcast.1.10.2019-09-03_15-54-46', 'format': 'hpctoolkit', 'props': {}, 'nop': 10}, {'name': 'osu_bcast.1.10.2019-09-04_01-23-49', 'path': './data/osu_bcast_10/osu_bcast.1.10.2019-09-04_01-23-49', 'format': 'hpctoolkit', 'props': {}, 'nop': 10}, {'name': 'osu_bcast.1.10.2019-09-03_18-52-06', 'path': './data/osu_bcast_10/osu_bcast.1.10.2019-09-03_18-52-06', 'format': 'hpctoolkit', 'props': {}, 'nop': 10}, {'name': 'osu_bcast.1.10.2019-09-04_00-28-19', 'path': './data/osu_bcast_10/osu_bcast.1.10.2019-09-04_00-28-19', 'format': 'hpctoolkit', 'props': {}, 'nop': 10}, {'name': 'osu_bcast.1.10.2019-09-03_22-37-37', 'path': './data/osu_bcast_10/osu_bcast.1.10.2019-09-03_22-37-37', 'format': 'hpctoolkit', 'props': {}, 'nop': 10}, {'name': 'osu_bcast.1.10.2019-09-03_19-47-31', 'path': './data/osu_bcast_10/osu_bcast.1.10.2019-09-03_19-47-31', 'format': 'hpctoolkit', 'props': {}, 'nop': 10}, {'name': 'osu_bcast.1.10.2019-09-03_10-15-54', 'path': './data/osu_bcast_10/osu_bcast.1.10.2019-09-03_10-15-54', 'format': 'hpctoolkit', 'props': {}, 'nop': 10}, {'name': 'osu_bcast.1.10.2019-09-03_14-03-30', 'path': './data/osu_bcast_10/osu_bcast.1.10.2019-09-03_14-03-30', 'format': 'hpctoolkit', 'props': {}, 'nop': 10}, {'name': 'osu_bcast.1.10.2019-09-03_16-50-08', 'path': './data/osu_bcast_10/osu_bcast.1.10.2019-09-03_16-50-08', 'format': 'hpctoolkit', 'props': {}, 'nop': 10}, {'name': 'osu_bcast.1.10.2019-09-04_05-14-33', 'path': './data/osu_bcast_10/osu_bcast.1.10.2019-09-04_05-14-33', 'format': 'hpctoolkit', 'props': {}, 'nop': 10}, {'name': 'osu_bcast.1.10.2019-09-03_17-51-29', 'path': './data/osu_bcast_10/osu_bcast.1.10.2019-09-03_17-51-29', 'format': 'hpctoolkit', 'props': {}, 'nop': 10}, {'name': 'osu_bcast.1.10.2019-09-03_12-11-37', 'path': './data/osu_bcast_10/osu_bcast.1.10.2019-09-03_12-11-37', 'format': 'hpctoolkit', 'props': {}, 'nop': 10}, {'name': 'osu_bcast.1.10.2019-09-03_20-45-50', 'path': './data/osu_bcast_10/osu_bcast.1.10.2019-09-03_20-45-50', 'format': 'hpctoolkit', 'props': {}, 'nop': 10}], runName = 'osu_bcast_10', filter_perc = 5, callflow_path = '/home/vidi/Work/llnl/CallFlow/', processed_path = '/home/vidi/Work/llnl/CallFlow/data/processed', paths = {'osu_bcast.1.10.2019-09-04_07-05-12': './data/osu_bcast_10/osu_bcast.1.10.2019-09-04_07-05-12', 'osu_bcast.1.10.2019-09-03_23-33-03': './data/osu_bcast_10/osu_bcast.1.10.2019-09-03_23-33-03', 'osu_bcast.1.10.2019-09-04_08-07-45': './data/osu_bcast_10/osu_bcast.1.10.2019-09-04_08-07-45', 'osu_bcast.1.10.2019-09-03_13-07-55': './data/osu_bcast_10/osu_bcast.1.10.2019-09-03_13-07-55', 'osu_bcast.1.10.2019-09-04_03-18-07': './data/osu_bcast_10/osu_bcast.1.10.2019-09-04_03-18-07', 'osu_bcast.1.10.2019-09-03_21-42-03': './data/osu_bcast_10/osu_bcast.1.10.2019-09-03_21-42-03', 'osu_bcast.1.10.2019-09-03_11-12-50': './data/osu_bcast_10/osu_bcast.1.10.2019-09-03_11-12-50', 'osu_bcast.1.10.2019-09-04_06-10-08': './data/osu_bcast_10/osu_bcast.1.10.2019-09-04_06-10-08', 'osu_bcast.1.10.2019-09-04_04-14-14': './data/osu_bcast_10/osu_bcast.1.10.2019-09-04_04-14-14', 'osu_bcast.1.10.2019-09-04_02-21-56': './data/osu_bcast_10/osu_bcast.1.10.2019-09-04_02-21-56', 'osu_bcast.1.10.2019-09-03_14-59-00': './data/osu_bcast_10/osu_bcast.1.10.2019-09-03_14-59-00', 'osu_bcast.1.10.2019-09-03_15-54-46': './data/osu_bcast_10/osu_bcast.1.10.2019-09-03_15-54-46', 'osu_bcast.1.10.2019-09-04_01-23-49': './data/osu_bcast_10/osu_bcast.1.10.2019-09-04_01-23-49', 'osu_bcast.1.10.2019-09-03_18-52-06': './data/osu_bcast_10/osu_bcast.1.10.2019-09-03_18-52-06', 'osu_bcast.1.10.2019-09-04_00-28-19': './data/osu_bcast_10/osu_bcast.1.10.2019-09-04_00-28-19', 'osu_bcast.1.10.2019-09-03_22-37-37': './data/osu_bcast_10/osu_bcast.1.10.2019-09-03_22-37-37', 'osu_bcast.1.10.2019-09-03_19-47-31': './data/osu_bcast_10/osu_bcast.1.10.2019-09-03_19-47-31', 'osu_bcast.1.10.2019-09-03_10-15-54': './data/osu_bcast_10/osu_bcast.1.10.2019-09-03_10-15-54', 'osu_bcast.1.10.2019-09-03_14-03-30': './data/osu_bcast_10/osu_bcast.1.10.2019-09-03_14-03-30', 'osu_bcast.1.10.2019-09-03_16-50-08': './data/osu_bcast_10/osu_bcast.1.10.2019-09-03_16-50-08', 'osu_bcast.1.10.2019-09-04_05-14-33': './data/osu_bcast_10/osu_bcast.1.10.2019-09-04_05-14-33', 'osu_bcast.1.10.2019-09-03_17-51-29': './data/osu_bcast_10/osu_bcast.1.10.2019-09-03_17-51-29', 'osu_bcast.1.10.2019-09-03_12-11-37': './data/osu_bcast_10/osu_bcast.1.10.2019-09-03_12-11-37', 'osu_bcast.1.10.2019-09-03_20-45-50': './data/osu_bcast_10/osu_bcast.1.10.2019-09-03_20-45-50'}, props = {}, nop = {'osu_bcast.1.10.2019-09-04_07-05-12': 10, 'osu_bcast.1.10.2019-09-03_23-33-03': 10, 'osu_bcast.1.10.2019-09-04_08-07-45': 10, 'osu_bcast.1.10.2019-09-03_13-07-55': 10, 'osu_bcast.1.10.2019-09-04_03-18-07': 10, 'osu_bcast.1.10.2019-09-03_21-42-03': 10, 'osu_bcast.1.10.2019-09-03_11-12-50': 10, 'osu_bcast.1.10.2019-09-04_06-10-08': 10, 'osu_bcast.1.10.2019-09-04_04-14-14': 10, 'osu_bcast.1.10.2019-09-04_02-21-56': 10, 'osu_bcast.1.10.2019-09-03_14-59-00': 10, 'osu_bcast.1.10.2019-09-03_15-54-46': 10, 'osu_bcast.1.10.2019-09-04_01-23-49': 10, 'osu_bcast.1.10.2019-09-03_18-52-06': 10, 'osu_bcast.1.10.2019-09-04_00-28-19': 10, 'osu_bcast.1.10.2019-09-03_22-37-37': 10, 'osu_bcast.1.10.2019-09-03_19-47-31': 10, 'osu_bcast.1.10.2019-09-03_10-15-54': 10, 'osu_bcast.1.10.2019-09-03_14-03-30': 10, 'osu_bcast.1.10.2019-09-03_16-50-08': 10, 'osu_bcast.1.10.2019-09-04_05-14-33': 10, 'osu_bcast.1.10.2019-09-03_17-51-29': 10, 'osu_bcast.1.10.2019-09-03_12-11-37': 10, 'osu_bcast.1.10.2019-09-03_20-45-50': 10}, format = {'osu_bcast.1.10.2019-09-04_07-05-12': 'hpctoolkit', 'osu_bcast.1.10.2019-09-03_23-33-03': 'hpctoolkit', 'osu_bcast.1.10.2019-09-04_08-07-45': 'hpctoolkit', 'osu_bcast.1.10.2019-09-03_13-07-55': 'hpctoolkit', 'osu_bcast.1.10.2019-09-04_03-18-07': 'hpctoolkit', 'osu_bcast.1.10.2019-09-03_21-42-03': 'hpctoolkit', 'osu_bcast.1.10.2019-09-03_11-12-50': 'hpctoolkit', 'osu_bcast.1.10.2019-09-04_06-10-08': 'hpctoolkit', 'osu_bcast.1.10.2019-09-04_04-14-14': 'hpctoolkit', 'osu_bcast.1.10.2019-09-04_02-21-56': 'hpctoolkit', 'osu_bcast.1.10.2019-09-03_14-59-00': 'hpctoolkit', 'osu_bcast.1.10.2019-09-03_15-54-46': 'hpctoolkit', 'osu_bcast.1.10.2019-09-04_01-23-49': 'hpctoolkit', 'osu_bcast.1.10.2019-09-03_18-52-06': 'hpctoolkit', 'osu_bcast.1.10.2019-09-04_00-28-19': 'hpctoolkit', 'osu_bcast.1.10.2019-09-03_22-37-37': 'hpctoolkit', 'osu_bcast.1.10.2019-09-03_19-47-31': 'hpctoolkit', 'osu_bcast.1.10.2019-09-03_10-15-54': 'hpctoolkit', 'osu_bcast.1.10.2019-09-03_14-03-30': 'hpctoolkit', 'osu_bcast.1.10.2019-09-03_16-50-08': 'hpctoolkit', 'osu_bcast.1.10.2019-09-04_05-14-33': 'hpctoolkit', 'osu_bcast.1.10.2019-09-03_17-51-29': 'hpctoolkit', 'osu_bcast.1.10.2019-09-03_12-11-37': 'hpctoolkit', 'osu_bcast.1.10.2019-09-03_20-45-50': 'hpctoolkit'}, fnMap = {'osu_bcast.1.10.2019-09-04_07-05-12': {}, 'osu_bcast.1.10.2019-09-03_23-33-03': {}, 'osu_bcast.1.10.2019-09-04_08-07-45': {}, 'osu_bcast.1.10.2019-09-03_13-07-55': {}, 'osu_bcast.1.10.2019-09-04_03-18-07': {}, 'osu_bcast.1.10.2019-09-03_21-42-03': {}, 'osu_bcast.1.10.2019-09-03_11-12-50': {}, 'osu_bcast.1.10.2019-09-04_06-10-08': {}, 'osu_bcast.1.10.2019-09-04_04-14-14': {}, 'osu_bcast.1.10.2019-09-04_02-21-56': {}, 'osu_bcast.1.10.2019-09-03_14-59-00': {}, 'osu_bcast.1.10.2019-09-03_15-54-46': {}, 'osu_bcast.1.10.2019-09-04_01-23-49': {}, 'osu_bcast.1.10.2019-09-03_18-52-06': {}, 'osu_bcast.1.10.2019-09-04_00-28-19': {}, 'osu_bcast.1.10.2019-09-03_22-37-37': {}, 'osu_bcast.1.10.2019-09-03_19-47-31': {}, 'osu_bcast.1.10.2019-09-03_10-15-54': {}, 'osu_bcast.1.10.2019-09-03_14-03-30': {}, 'osu_bcast.1.10.2019-09-03_16-50-08': {}, 'osu_bcast.1.10.2019-09-04_05-14-33': {}, 'osu_bcast.1.10.2019-09-03_17-51-29': {}, 'osu_bcast.1.10.2019-09-03_12-11-37': {}, 'osu_bcast.1.10.2019-09-03_20-45-50': {}}, fileMap = {'osu_bcast.1.10.2019-09-04_07-05-12': {}, 'osu_bcast.1.10.2019-09-03_23-33-03': {}, 'osu_bcast.1.10.2019-09-04_08-07-45': {}, 'osu_bcast.1.10.2019-09-03_13-07-55': {}, 'osu_bcast.1.10.2019-09-04_03-18-07': {}, 'osu_bcast.1.10.2019-09-03_21-42-03': {}, 'osu_bcast.1.10.2019-09-03_11-12-50': {}, 'osu_bcast.1.10.2019-09-04_06-10-08': {}, 'osu_bcast.1.10.2019-09-04_04-14-14': {}, 'osu_bcast.1.10.2019-09-04_02-21-56': {}, 'osu_bcast.1.10.2019-09-03_14-59-00': {}, 'osu_bcast.1.10.2019-09-03_15-54-46': {}, 'osu_bcast.1.10.2019-09-04_01-23-49': {}, 'osu_bcast.1.10.2019-09-03_18-52-06': {}, 'osu_bcast.1.10.2019-09-04_00-28-19': {}, 'osu_bcast.1.10.2019-09-03_22-37-37': {}, 'osu_bcast.1.10.2019-09-03_19-47-31': {}, 'osu_bcast.1.10.2019-09-03_10-15-54': {}, 'osu_bcast.1.10.2019-09-03_14-03-30': {}, 'osu_bcast.1.10.2019-09-03_16-50-08': {}, 'osu_bcast.1.10.2019-09-04_05-14-33': {}, 'osu_bcast.1.10.2019-09-03_17-51-29': {}, 'osu_bcast.1.10.2019-09-03_12-11-37': {}, 'osu_bcast.1.10.2019-09-03_20-45-50': {}}, names = ['osu_bcast.1.10.2019-09-04_07-05-12', 'osu_bcast.1.10.2019-09-03_23-33-03', 'osu_bcast.1.10.2019-09-04_08-07-45', 'osu_bcast.1.10.2019-09-03_13-07-55', 'osu_bcast.1.10.2019-09-04_03-18-07', 'osu_bcast.1.10.2019-09-03_21-42-03', 'osu_bcast.1.10.2019-09-03_11-12-50', 'osu_bcast.1.10.2019-09-04_06-10-08', 'osu_bcast.1.10.2019-09-04_04-14-14', 'osu_bcast.1.10.2019-09-04_02-21-56', 'osu_bcast.1.10.2019-09-03_14-59-00', 'osu_bcast.1.10.2019-09-03_15-54-46', 'osu_bcast.1.10.2019-09-04_01-23-49', 'osu_bcast.1.10.2019-09-03_18-52-06', 'osu_bcast.1.10.2019-09-04_00-28-19', 'osu_bcast.1.10.2019-09-03_22-37-37', 'osu_bcast.1.10.2019-09-03_19-47-31', 'osu_bcast.1.10.2019-09-03_10-15-54', 'osu_bcast.1.10.2019-09-03_14-03-30', 'osu_bcast.1.10.2019-09-03_16-50-08', 'osu_bcast.1.10.2019-09-04_05-14-33', 'osu_bcast.1.10.2019-09-03_17-51-29', 'osu_bcast.1.10.2019-09-03_12-11-37', 'osu_bcast.1.10.2019-09-03_20-45-50'], dataset_names = ['osu_bcast.1.10.2019-09-04_07-05-12', 'osu_bcast.1.10.2019-09-03_23-33-03', 'osu_bcast.1.10.2019-09-04_08-07-45', 'osu_bcast.1.10.2019-09-03_13-07-55', 'osu_bcast.1.10.2019-09-04_03-18-07', 'osu_bcast.1.10.2019-09-03_21-42-03', 'osu_bcast.1.10.2019-09-03_11-12-50', 'osu_bcast.1.10.2019-09-04_06-10-08', 'osu_bcast.1.10.2019-09-04_04-14-14', 'osu_bcast.1.10.2019-09-04_02-21-56', 'osu_bcast.1.10.2019-09-03_14-59-00', 'osu_bcast.1.10.2019-09-03_15-54-46', 'osu_bcast.1.10.2019-09-04_01-23-49', 'osu_bcast.1.10.2019-09-03_18-52-06', 'osu_bcast.1.10.2019-09-04_00-28-19', 'osu_bcast.1.10.2019-09-03_22-37-37', 'osu_bcast.1.10.2019-09-03_19-47-31', 'osu_bcast.1.10.2019-09-03_10-15-54', 'osu_bcast.1.10.2019-09-03_14-03-30', 'osu_bcast.1.10.2019-09-03_16-50-08', 'osu_bcast.1.10.2019-09-04_05-14-33', 'osu_bcast.1.10.2019-09-03_17-51-29', 'osu_bcast.1.10.2019-09-03_12-11-37', 'osu_bcast.1.10.2019-09-03_20-45-50']}> \n",
      "\n"
     ]
    },
    {
     "ename": "KeyError",
     "evalue": "'osu_bcast.1.18.2019-09-03_11-33-15'",
     "output_type": "error",
     "traceback": [
      "\u001b[0;31m-------------------------------------------------------------\u001b[0m",
      "\u001b[0;31mKeyError\u001b[0m                    Traceback (most recent call last)",
      "\u001b[0;32m<ipython-input-8-4a6bd8463738>\u001b[0m in \u001b[0;36m<module>\u001b[0;34m\u001b[0m\n\u001b[1;32m      1\u001b[0m \u001b[0;32mfrom\u001b[0m \u001b[0mactions\u001b[0m\u001b[0;34m.\u001b[0m\u001b[0mcreate\u001b[0m \u001b[0;32mimport\u001b[0m \u001b[0mCreate\u001b[0m\u001b[0;34m\u001b[0m\u001b[0;34m\u001b[0m\u001b[0m\n\u001b[0;32m----> 2\u001b[0;31m \u001b[0mhpctoolkit_state\u001b[0m \u001b[0;34m=\u001b[0m \u001b[0mCreate\u001b[0m\u001b[0;34m(\u001b[0m\u001b[0mconfig\u001b[0m\u001b[0;34m,\u001b[0m \u001b[0mdataset\u001b[0m\u001b[0;34m)\u001b[0m\u001b[0;34m\u001b[0m\u001b[0;34m\u001b[0m\u001b[0m\n\u001b[0m",
      "\u001b[0;32m~/Work/llnl/CallFlow/src/server/actions/create.py\u001b[0m in \u001b[0;36m__init__\u001b[0;34m(self, config, name)\u001b[0m\n\u001b[1;32m     28\u001b[0m         \u001b[0mself\u001b[0m\u001b[0;34m.\u001b[0m\u001b[0mcallflow_path\u001b[0m \u001b[0;34m=\u001b[0m \u001b[0mconfig\u001b[0m\u001b[0;34m.\u001b[0m\u001b[0mcallflow_path\u001b[0m\u001b[0;34m\u001b[0m\u001b[0;34m\u001b[0m\u001b[0m\n\u001b[1;32m     29\u001b[0m         \u001b[0mself\u001b[0m\u001b[0;34m.\u001b[0m\u001b[0mname\u001b[0m \u001b[0;34m=\u001b[0m \u001b[0mname\u001b[0m\u001b[0;34m\u001b[0m\u001b[0;34m\u001b[0m\u001b[0m\n\u001b[0;32m---> 30\u001b[0;31m         \u001b[0mself\u001b[0m\u001b[0;34m.\u001b[0m\u001b[0mrun\u001b[0m\u001b[0;34m(\u001b[0m\u001b[0;34m)\u001b[0m\u001b[0;34m\u001b[0m\u001b[0;34m\u001b[0m\u001b[0m\n\u001b[0m\u001b[1;32m     31\u001b[0m \u001b[0;34m\u001b[0m\u001b[0m\n\u001b[1;32m     32\u001b[0m     \u001b[0;32mdef\u001b[0m \u001b[0mrun\u001b[0m\u001b[0;34m(\u001b[0m\u001b[0mself\u001b[0m\u001b[0;34m)\u001b[0m\u001b[0;34m:\u001b[0m\u001b[0;34m\u001b[0m\u001b[0;34m\u001b[0m\u001b[0m\n",
      "\u001b[0;32m~/Work/llnl/CallFlow/src/server/actions/create.py\u001b[0m in \u001b[0;36mrun\u001b[0;34m(self)\u001b[0m\n\u001b[1;32m     34\u001b[0m         \u001b[0;31m# data_path = os.path.abspath(os.path.join(self.callflow_path, self.config.paths[self.name]))\u001b[0m\u001b[0;34m\u001b[0m\u001b[0;34m\u001b[0m\u001b[0;34m\u001b[0m\u001b[0m\n\u001b[1;32m     35\u001b[0m \u001b[0;34m\u001b[0m\u001b[0m\n\u001b[0;32m---> 36\u001b[0;31m         \u001b[0;32mif\u001b[0m \u001b[0mself\u001b[0m\u001b[0;34m.\u001b[0m\u001b[0mconfig\u001b[0m\u001b[0;34m.\u001b[0m\u001b[0mformat\u001b[0m\u001b[0;34m[\u001b[0m\u001b[0mself\u001b[0m\u001b[0;34m.\u001b[0m\u001b[0mname\u001b[0m\u001b[0;34m]\u001b[0m \u001b[0;34m==\u001b[0m \u001b[0;34m'hpctoolkit'\u001b[0m\u001b[0;34m:\u001b[0m\u001b[0;34m\u001b[0m\u001b[0;34m\u001b[0m\u001b[0m\n\u001b[0m\u001b[1;32m     37\u001b[0m             \u001b[0mself\u001b[0m\u001b[0;34m.\u001b[0m\u001b[0mgf\u001b[0m \u001b[0;34m=\u001b[0m \u001b[0mht\u001b[0m\u001b[0;34m.\u001b[0m\u001b[0mGraphFrame\u001b[0m\u001b[0;34m.\u001b[0m\u001b[0mfrom_hpctoolkit\u001b[0m\u001b[0;34m(\u001b[0m\u001b[0mdata_path\u001b[0m\u001b[0;34m)\u001b[0m\u001b[0;34m\u001b[0m\u001b[0;34m\u001b[0m\u001b[0m\n\u001b[1;32m     38\u001b[0m         \u001b[0;32melif\u001b[0m \u001b[0mself\u001b[0m\u001b[0;34m.\u001b[0m\u001b[0mconfig\u001b[0m\u001b[0;34m.\u001b[0m\u001b[0mformat\u001b[0m\u001b[0;34m[\u001b[0m\u001b[0mself\u001b[0m\u001b[0;34m.\u001b[0m\u001b[0mname\u001b[0m\u001b[0;34m]\u001b[0m \u001b[0;34m==\u001b[0m \u001b[0;34m'caliper'\u001b[0m\u001b[0;34m:\u001b[0m\u001b[0;34m\u001b[0m\u001b[0;34m\u001b[0m\u001b[0m\n",
      "\u001b[0;31mKeyError\u001b[0m: 'osu_bcast.1.18.2019-09-03_11-33-15'"
     ]
    }
   ],
   "source": [
    "from actions.create import Create\n",
    "hpctoolkit_state = Create(config, dataset)"
   ]
  },
  {
   "cell_type": "code",
   "execution_count": null,
   "metadata": {},
   "outputs": [],
   "source": [
    "hpctoolkit_state.df.name.unique()"
   ]
  },
  {
   "cell_type": "code",
   "execution_count": 9,
   "metadata": {},
   "outputs": [],
   "source": [
    "def read_gf(dotdir, name):\n",
    "    state = State(name)\n",
    "    df_filepath = dotdir + '/' + name +  '/filter_df.csv'\n",
    "    entire_df_filepath = dotdir + '/' + name + '/entire_df.csv'\n",
    "    graph_filepath = dotdir + '/' + name + '/filter_graph.json'\n",
    "    entire_graph_filepath = dotdir + '/' + name + '/entire_graph.json'\n",
    "\n",
    "    group_df_filepath = dotdir + '/' + name + '/group_df.csv'\n",
    "\n",
    "    with open(entire_graph_filepath, 'r') as entire_graphFile:\n",
    "        entire_data = json.load(entire_graphFile)\n",
    "        \n",
    "    state.gf = ht.GraphFrame.from_literal(entire_data)\n",
    "    state.df = pd.read_csv(entire_df_filepath)\n",
    "    state.graph = state.gf.graph\n",
    "\n",
    "    return state"
   ]
  },
  {
   "cell_type": "markdown",
   "metadata": {},
   "source": [
    "# Create the props file"
   ]
  },
  {
   "cell_type": "code",
   "execution_count": 10,
   "metadata": {
    "scrolled": false
   },
   "outputs": [
    {
     "name": "stdout",
     "output_type": "stream",
     "text": [
      "/home/vidi/Work/llnl/CallFlow/data/processed/osu_bcast_18\n"
     ]
    },
    {
     "ename": "FileNotFoundError",
     "evalue": "[Errno 2] No such file or directory: '/home/vidi/Work/llnl/CallFlow/osu_bcast_18'",
     "output_type": "error",
     "traceback": [
      "\u001b[0;31m-------------------------------------------------------------\u001b[0m",
      "\u001b[0;31mFileNotFoundError\u001b[0m           Traceback (most recent call last)",
      "\u001b[0;32m<ipython-input-10-966f88aed345>\u001b[0m in \u001b[0;36m<module>\u001b[0;34m\u001b[0m\n\u001b[1;32m     20\u001b[0m         \"datasets\": ret }))\n\u001b[1;32m     21\u001b[0m \u001b[0mprint\u001b[0m\u001b[0;34m(\u001b[0m\u001b[0mexperimentDotPath\u001b[0m\u001b[0;34m)\u001b[0m\u001b[0;34m\u001b[0m\u001b[0;34m\u001b[0m\u001b[0m\n\u001b[0;32m---> 22\u001b[0;31m \u001b[0mdump_props_file\u001b[0m\u001b[0;34m(\u001b[0m\u001b[0mdataPath\u001b[0m\u001b[0;34m)\u001b[0m\u001b[0;34m\u001b[0m\u001b[0;34m\u001b[0m\u001b[0m\n\u001b[0m",
      "\u001b[0;32m<ipython-input-10-966f88aed345>\u001b[0m in \u001b[0;36mdump_props_file\u001b[0;34m(directory)\u001b[0m\n\u001b[1;32m      1\u001b[0m \u001b[0;32mdef\u001b[0m \u001b[0mdump_props_file\u001b[0m\u001b[0;34m(\u001b[0m\u001b[0mdirectory\u001b[0m\u001b[0;34m)\u001b[0m\u001b[0;34m:\u001b[0m\u001b[0;34m\u001b[0m\u001b[0;34m\u001b[0m\u001b[0m\n\u001b[1;32m      2\u001b[0m     \u001b[0mstates\u001b[0m \u001b[0;34m=\u001b[0m \u001b[0;34m{\u001b[0m\u001b[0;34m}\u001b[0m\u001b[0;34m\u001b[0m\u001b[0;34m\u001b[0m\u001b[0m\n\u001b[0;32m----> 3\u001b[0;31m     \u001b[0mfiles\u001b[0m \u001b[0;34m=\u001b[0m \u001b[0mlistdir\u001b[0m\u001b[0;34m(\u001b[0m\u001b[0mdirectory\u001b[0m\u001b[0;34m)\u001b[0m\u001b[0;34m\u001b[0m\u001b[0;34m\u001b[0m\u001b[0m\n\u001b[0m\u001b[1;32m      4\u001b[0m     \u001b[0mret\u001b[0m \u001b[0;34m=\u001b[0m \u001b[0;34m[\u001b[0m\u001b[0;34m]\u001b[0m\u001b[0;34m\u001b[0m\u001b[0;34m\u001b[0m\u001b[0m\n\u001b[1;32m      5\u001b[0m     \u001b[0;32mfor\u001b[0m \u001b[0mfile\u001b[0m \u001b[0;32min\u001b[0m \u001b[0mfiles\u001b[0m\u001b[0;34m:\u001b[0m\u001b[0;34m\u001b[0m\u001b[0;34m\u001b[0m\u001b[0m\n",
      "\u001b[0;31mFileNotFoundError\u001b[0m: [Errno 2] No such file or directory: '/home/vidi/Work/llnl/CallFlow/osu_bcast_18'"
     ]
    }
   ],
   "source": [
    "def dump_props_file(directory):\n",
    "    states = {}\n",
    "    files = listdir(directory)\n",
    "    ret = []\n",
    "    for file in files:\n",
    "        if file != 'ensemble_df.csv' and file != 'ensemble_graph.json' and file != 'similarity.json':\n",
    "#             state = read_gf(directory, file)\n",
    "#             nop = len(state.df['rank'].unique())\n",
    "#             states[file + ':' + str(nop)] = state\n",
    "            if(True):\n",
    "                ret.append({\n",
    "                    \"name\": file,\n",
    "                    \"path\": \"./data/osu_bcast_10/\"+ file,\n",
    "                    \"format\": \"hpctoolkit\",\n",
    "                    \"props\": {\n",
    "                    },\n",
    "                    \"nop\": 1024\n",
    "                })\n",
    "    print(json.dumps({\n",
    "        \"datasets\": ret }))\n",
    "print(experimentDotPath)\n",
    "dump_props_file(dataPath)"
   ]
  },
  {
   "cell_type": "markdown",
   "metadata": {},
   "source": [
    "# Read all states from a directory"
   ]
  },
  {
   "cell_type": "code",
   "execution_count": 11,
   "metadata": {},
   "outputs": [],
   "source": [
    "def read_gfs(directory):\n",
    "    states = {}\n",
    "    files = listdir(directory)\n",
    "    for file in files:\n",
    "        if file != 'ensemble_df.csv' and file != 'ensemble_graph.json' and file != 'similarity.json':\n",
    "            state = read_gf(directory, file)\n",
    "            states[file] = state\n",
    "    return states"
   ]
  },
  {
   "cell_type": "code",
   "execution_count": 12,
   "metadata": {},
   "outputs": [],
   "source": [
    "states = read_gfs(experimentDotPath)"
   ]
  },
  {
   "cell_type": "markdown",
   "metadata": {
    "scrolled": false
   },
   "source": [
    "# Convert hatchet graph to networkX graph"
   ]
  },
  {
   "cell_type": "code",
   "execution_count": 14,
   "metadata": {},
   "outputs": [],
   "source": [
    "dataset1 = 'osu_bcast.1.18.2019-09-03_11-33-15'\n",
    "dataset2 = 'osu_bcast.1.18.2019-09-03_12-29-49'\n",
    "dataset3 = 'osu_bcast.1.18.2019-09-03_10-33-44'"
   ]
  },
  {
   "cell_type": "code",
   "execution_count": null,
   "metadata": {},
   "outputs": [],
   "source": [
    "networkX_graphs = {}\n",
    "for idx, dataset in enumerate(states):\n",
    "    state = states[dataset]\n",
    "    networkX_graphs[dataset] = HatchetToNetworkX(state, 'path', construct_graph=True, add_data=False)\n",
    "    print(networkX_graphs[dataset].g.nodes())"
   ]
  },
  {
   "cell_type": "markdown",
   "metadata": {},
   "source": [
    "# Union of all graphs."
   ]
  },
  {
   "cell_type": "code",
   "execution_count": null,
   "metadata": {},
   "outputs": [],
   "source": [
    "u_graph = UnionGraph()\n",
    "u_df = pd.DataFrame()\n",
    "for idx, dataset in enumerate(networkX_graphs):\n",
    "    u_graph.unionize(networkX_graphs[dataset].g, dataset)\n",
    "    u_df = pd.concat([u_df, networkX_graphs[dataset].df])"
   ]
  },
  {
   "cell_type": "markdown",
   "metadata": {},
   "source": [
    "# Compare and check how it looks different with other graphs."
   ]
  },
  {
   "cell_type": "code",
   "execution_count": null,
   "metadata": {},
   "outputs": [],
   "source": [
    "def printEdges(nxGraph):\n",
    "    print(\"Total number of edges: \", len(nxGraph.edges()))\n",
    "    for edge in nxGraph.edges():\n",
    "        print(edge[0], '=> ', edge[1])"
   ]
  },
  {
   "cell_type": "code",
   "execution_count": null,
   "metadata": {},
   "outputs": [],
   "source": [
    "printEdges(networkX_graphs[dataset1].g)"
   ]
  },
  {
   "cell_type": "code",
   "execution_count": null,
   "metadata": {},
   "outputs": [],
   "source": [
    "printEdges(networkX_graphs[dataset2].g)"
   ]
  },
  {
   "cell_type": "code",
   "execution_count": null,
   "metadata": {},
   "outputs": [],
   "source": [
    "printEdges(u_graph.R)"
   ]
  },
  {
   "cell_type": "code",
   "execution_count": null,
   "metadata": {},
   "outputs": [],
   "source": [
    "print(u_df.info(), networkX_graphs[dataset].df.info())"
   ]
  },
  {
   "cell_type": "code",
   "execution_count": null,
   "metadata": {},
   "outputs": [],
   "source": [
    "print(u_df.groupby(['dataset', 'name']).count())"
   ]
  },
  {
   "cell_type": "code",
   "execution_count": null,
   "metadata": {},
   "outputs": [],
   "source": [
    "def print_df_count(df):\n",
    "    print(df.groupby(['name']).count())"
   ]
  },
  {
   "cell_type": "code",
   "execution_count": null,
   "metadata": {},
   "outputs": [],
   "source": [
    "for state in networkX_graphs:\n",
    "    print_df_count(networkX_graphs[state].df)"
   ]
  },
  {
   "cell_type": "markdown",
   "metadata": {},
   "source": [
    "# Filter the union graph and also be distribution aware."
   ]
  },
  {
   "cell_type": "code",
   "execution_count": null,
   "metadata": {},
   "outputs": [],
   "source": [
    "class FilterUnion():\n",
    "    def __init__(self, state):\n",
    "        self.df = state.df\n",
    "        self.dataset_df = self.df.groupby(['dataset'])\n",
    "        self.dataset_idx = {}\n",
    "        self.set_max_min_times()\n",
    "    \n",
    "    def set_max_min_times(self):\n",
    "        self.max_time_inc_list = np.array([])\n",
    "        self.min_time_inc_list = np.array([])\n",
    "        self.max_time_exc_list = np.array([])\n",
    "        self.min_time_exc_list = np.array([])\n",
    "        count = 0\n",
    "        for dataset, df in self.dataset_df:\n",
    "            self.dataset_idx[dataset] = count\n",
    "            self.max_time_inc_list = np.hstack([self.max_time_inc_list, df['time (inc)'].max()])\n",
    "            self.min_time_inc_list = np.hstack([self.min_time_inc_list, df['time (inc)'].min()])\n",
    "            self.max_time_exc_list = np.hstack([self.max_time_exc_list, df['time'].max()])\n",
    "            self.min_time_exc_list = np.hstack([self.min_time_exc_list, df['time'].min()])\n",
    "            count += 1\n",
    "        print(\"Dataset idx: \", self.dataset_idx)\n",
    "        print(\"Min. time (inc): \", self.min_time_inc_list)\n",
    "        print(\"Max. time (inc): \", self.max_time_inc_list)\n",
    "        print(\"Min. time (exc): \", self.min_time_exc_list)\n",
    "        print(\"Max. time (exc): \", self.max_time_exc_list)\n",
    "        self.max_time_inc = np.max(self.max_time_inc_list)\n",
    "        self.min_time_inc = np.min(self.min_time_inc_list)\n",
    "        self.max_time_exc = np.max(self.max_time_exc_list)\n",
    "        self.min_time_exc = np.min(self.min_time_exc_list)\n",
    "        \n",
    "    def filter_time_inc_overall(self, perc):\n",
    "        df = self.df.loc[self.df['time (inc)'] > perc*0.01*self.max_time_inc]\n",
    "        filter_call_sites = df['name'].unique()\n",
    "        print(\"Number of nodes left in dataframe: \", len(filter_call_sites))\n",
    "        return df[df['name'].isin(filter_call_sites)]\n",
    "    \n",
    "    def filter_graph_nodes(self, df, g):\n",
    "        call_sites = df['name'].unique()\n",
    "    \n",
    "        ret = nx.DiGraph()\n",
    "        \n",
    "        for edge in g.edges():\n",
    "            if edge[0] in call_sites and edge[1] in call_sites:\n",
    "                ret.add_edge(edge[0], edge[1])\n",
    "                \n",
    "        return ret\n",
    "    \n",
    "    def generic_map(self, df, g):\n",
    "        for column in df.columns:\n",
    "            values = {}\n",
    "            for node in g.nodes():\n",
    "                values[node] = df.loc[df['name'] == node][column].tolist()\n",
    "            nx.set_node_attributes(g, name=column, values = values)\n",
    "    \n",
    "    def add_node_attributes(self, df, g):            \n",
    "        generic_map = self.generic_map(df, g)\n",
    "        print(g.nodes(data=True))"
   ]
  },
  {
   "cell_type": "code",
   "execution_count": null,
   "metadata": {},
   "outputs": [],
   "source": [
    "states = {}\n",
    "states['ensemble'] = State('ensemble')\n",
    "states['ensemble'].df = u_df\n",
    "states['ensemble'].g = u_graph.R\n",
    "\n",
    "union_filter = FilterUnion(states['ensemble'])"
   ]
  },
  {
   "cell_type": "code",
   "execution_count": null,
   "metadata": {},
   "outputs": [],
   "source": [
    "states['ensemble'].df = union_filter.filter_time_inc_overall(5)"
   ]
  },
  {
   "cell_type": "code",
   "execution_count": null,
   "metadata": {},
   "outputs": [],
   "source": [
    "states['ensemble'].g = union_filter.filter_graph_nodes(states['ensemble'].df, states['ensemble'].g)"
   ]
  },
  {
   "cell_type": "code",
   "execution_count": null,
   "metadata": {},
   "outputs": [],
   "source": [
    "print(len(states['ensemble'].g.nodes()), len(states['ensemble'].g.edges()))"
   ]
  },
  {
   "cell_type": "code",
   "execution_count": null,
   "metadata": {},
   "outputs": [],
   "source": [
    "union_filter.add_node_attributes(states['ensemble'].df, states['ensemble'].g)"
   ]
  },
  {
   "cell_type": "markdown",
   "metadata": {},
   "source": [
    "# Check if the grouped dataframe is right."
   ]
  },
  {
   "cell_type": "code",
   "execution_count": null,
   "metadata": {},
   "outputs": [],
   "source": [
    "check_group_df = pd.read_csv('/home/vidi/Work/llnl/CallFlow/data/processed/osu_bcast_18/ensemble_df.csv')"
   ]
  },
  {
   "cell_type": "code",
   "execution_count": null,
   "metadata": {},
   "outputs": [],
   "source": [
    "print(check_group_df['module'].unique())"
   ]
  },
  {
   "cell_type": "markdown",
   "metadata": {},
   "source": [
    "# Pipeline"
   ]
  },
  {
   "cell_type": "code",
   "execution_count": 17,
   "metadata": {},
   "outputs": [],
   "source": [
    "from pipeline import Pipeline\n",
    "datasets = [dataset1, dataset2, dataset3]\n",
    "pipeline = Pipeline(config)"
   ]
  },
  {
   "cell_type": "code",
   "execution_count": 18,
   "metadata": {},
   "outputs": [
    {
     "name": "stderr",
     "output_type": "stream",
     "text": [
      "\u001b[1m #  \u001b[31m [callfow.py] Action: Creating graphframes:  \"osu_bcast.1.18.2019-09-03_11-33-15\"\u001b[0m\n"
     ]
    },
    {
     "name": "stdout",
     "output_type": "stream",
     "text": [
      "<configFileReader: {json = {'runName': 'osu_bcast_10', 'filter_perc': 5, 'callflow_path': '/home/vidi/Work/llnl/CallFlow/', 'save_path': 'data/processed', 'datasets': [{'name': 'osu_bcast.1.10.2019-09-04_07-05-12', 'path': './data/osu_bcast_10/osu_bcast.1.10.2019-09-04_07-05-12', 'format': 'hpctoolkit', 'props': {}, 'nop': 10}, {'name': 'osu_bcast.1.10.2019-09-03_23-33-03', 'path': './data/osu_bcast_10/osu_bcast.1.10.2019-09-03_23-33-03', 'format': 'hpctoolkit', 'props': {}, 'nop': 10}, {'name': 'osu_bcast.1.10.2019-09-04_08-07-45', 'path': './data/osu_bcast_10/osu_bcast.1.10.2019-09-04_08-07-45', 'format': 'hpctoolkit', 'props': {}, 'nop': 10}, {'name': 'osu_bcast.1.10.2019-09-03_13-07-55', 'path': './data/osu_bcast_10/osu_bcast.1.10.2019-09-03_13-07-55', 'format': 'hpctoolkit', 'props': {}, 'nop': 10}, {'name': 'osu_bcast.1.10.2019-09-04_03-18-07', 'path': './data/osu_bcast_10/osu_bcast.1.10.2019-09-04_03-18-07', 'format': 'hpctoolkit', 'props': {}, 'nop': 10}, {'name': 'osu_bcast.1.10.2019-09-03_21-42-03', 'path': './data/osu_bcast_10/osu_bcast.1.10.2019-09-03_21-42-03', 'format': 'hpctoolkit', 'props': {}, 'nop': 10}, {'name': 'osu_bcast.1.10.2019-09-03_11-12-50', 'path': './data/osu_bcast_10/osu_bcast.1.10.2019-09-03_11-12-50', 'format': 'hpctoolkit', 'props': {}, 'nop': 10}, {'name': 'osu_bcast.1.10.2019-09-04_06-10-08', 'path': './data/osu_bcast_10/osu_bcast.1.10.2019-09-04_06-10-08', 'format': 'hpctoolkit', 'props': {}, 'nop': 10}, {'name': 'osu_bcast.1.10.2019-09-04_04-14-14', 'path': './data/osu_bcast_10/osu_bcast.1.10.2019-09-04_04-14-14', 'format': 'hpctoolkit', 'props': {}, 'nop': 10}, {'name': 'osu_bcast.1.10.2019-09-04_02-21-56', 'path': './data/osu_bcast_10/osu_bcast.1.10.2019-09-04_02-21-56', 'format': 'hpctoolkit', 'props': {}, 'nop': 10}, {'name': 'osu_bcast.1.10.2019-09-03_14-59-00', 'path': './data/osu_bcast_10/osu_bcast.1.10.2019-09-03_14-59-00', 'format': 'hpctoolkit', 'props': {}, 'nop': 10}, {'name': 'osu_bcast.1.10.2019-09-03_15-54-46', 'path': './data/osu_bcast_10/osu_bcast.1.10.2019-09-03_15-54-46', 'format': 'hpctoolkit', 'props': {}, 'nop': 10}, {'name': 'osu_bcast.1.10.2019-09-04_01-23-49', 'path': './data/osu_bcast_10/osu_bcast.1.10.2019-09-04_01-23-49', 'format': 'hpctoolkit', 'props': {}, 'nop': 10}, {'name': 'osu_bcast.1.10.2019-09-03_18-52-06', 'path': './data/osu_bcast_10/osu_bcast.1.10.2019-09-03_18-52-06', 'format': 'hpctoolkit', 'props': {}, 'nop': 10}, {'name': 'osu_bcast.1.10.2019-09-04_00-28-19', 'path': './data/osu_bcast_10/osu_bcast.1.10.2019-09-04_00-28-19', 'format': 'hpctoolkit', 'props': {}, 'nop': 10}, {'name': 'osu_bcast.1.10.2019-09-03_22-37-37', 'path': './data/osu_bcast_10/osu_bcast.1.10.2019-09-03_22-37-37', 'format': 'hpctoolkit', 'props': {}, 'nop': 10}, {'name': 'osu_bcast.1.10.2019-09-03_19-47-31', 'path': './data/osu_bcast_10/osu_bcast.1.10.2019-09-03_19-47-31', 'format': 'hpctoolkit', 'props': {}, 'nop': 10}, {'name': 'osu_bcast.1.10.2019-09-03_10-15-54', 'path': './data/osu_bcast_10/osu_bcast.1.10.2019-09-03_10-15-54', 'format': 'hpctoolkit', 'props': {}, 'nop': 10}, {'name': 'osu_bcast.1.10.2019-09-03_14-03-30', 'path': './data/osu_bcast_10/osu_bcast.1.10.2019-09-03_14-03-30', 'format': 'hpctoolkit', 'props': {}, 'nop': 10}, {'name': 'osu_bcast.1.10.2019-09-03_16-50-08', 'path': './data/osu_bcast_10/osu_bcast.1.10.2019-09-03_16-50-08', 'format': 'hpctoolkit', 'props': {}, 'nop': 10}, {'name': 'osu_bcast.1.10.2019-09-04_05-14-33', 'path': './data/osu_bcast_10/osu_bcast.1.10.2019-09-04_05-14-33', 'format': 'hpctoolkit', 'props': {}, 'nop': 10}, {'name': 'osu_bcast.1.10.2019-09-03_17-51-29', 'path': './data/osu_bcast_10/osu_bcast.1.10.2019-09-03_17-51-29', 'format': 'hpctoolkit', 'props': {}, 'nop': 10}, {'name': 'osu_bcast.1.10.2019-09-03_12-11-37', 'path': './data/osu_bcast_10/osu_bcast.1.10.2019-09-03_12-11-37', 'format': 'hpctoolkit', 'props': {}, 'nop': 10}, {'name': 'osu_bcast.1.10.2019-09-03_20-45-50', 'path': './data/osu_bcast_10/osu_bcast.1.10.2019-09-03_20-45-50', 'format': 'hpctoolkit', 'props': {}, 'nop': 10}]}, datasets = [{'name': 'osu_bcast.1.10.2019-09-04_07-05-12', 'path': './data/osu_bcast_10/osu_bcast.1.10.2019-09-04_07-05-12', 'format': 'hpctoolkit', 'props': {}, 'nop': 10}, {'name': 'osu_bcast.1.10.2019-09-03_23-33-03', 'path': './data/osu_bcast_10/osu_bcast.1.10.2019-09-03_23-33-03', 'format': 'hpctoolkit', 'props': {}, 'nop': 10}, {'name': 'osu_bcast.1.10.2019-09-04_08-07-45', 'path': './data/osu_bcast_10/osu_bcast.1.10.2019-09-04_08-07-45', 'format': 'hpctoolkit', 'props': {}, 'nop': 10}, {'name': 'osu_bcast.1.10.2019-09-03_13-07-55', 'path': './data/osu_bcast_10/osu_bcast.1.10.2019-09-03_13-07-55', 'format': 'hpctoolkit', 'props': {}, 'nop': 10}, {'name': 'osu_bcast.1.10.2019-09-04_03-18-07', 'path': './data/osu_bcast_10/osu_bcast.1.10.2019-09-04_03-18-07', 'format': 'hpctoolkit', 'props': {}, 'nop': 10}, {'name': 'osu_bcast.1.10.2019-09-03_21-42-03', 'path': './data/osu_bcast_10/osu_bcast.1.10.2019-09-03_21-42-03', 'format': 'hpctoolkit', 'props': {}, 'nop': 10}, {'name': 'osu_bcast.1.10.2019-09-03_11-12-50', 'path': './data/osu_bcast_10/osu_bcast.1.10.2019-09-03_11-12-50', 'format': 'hpctoolkit', 'props': {}, 'nop': 10}, {'name': 'osu_bcast.1.10.2019-09-04_06-10-08', 'path': './data/osu_bcast_10/osu_bcast.1.10.2019-09-04_06-10-08', 'format': 'hpctoolkit', 'props': {}, 'nop': 10}, {'name': 'osu_bcast.1.10.2019-09-04_04-14-14', 'path': './data/osu_bcast_10/osu_bcast.1.10.2019-09-04_04-14-14', 'format': 'hpctoolkit', 'props': {}, 'nop': 10}, {'name': 'osu_bcast.1.10.2019-09-04_02-21-56', 'path': './data/osu_bcast_10/osu_bcast.1.10.2019-09-04_02-21-56', 'format': 'hpctoolkit', 'props': {}, 'nop': 10}, {'name': 'osu_bcast.1.10.2019-09-03_14-59-00', 'path': './data/osu_bcast_10/osu_bcast.1.10.2019-09-03_14-59-00', 'format': 'hpctoolkit', 'props': {}, 'nop': 10}, {'name': 'osu_bcast.1.10.2019-09-03_15-54-46', 'path': './data/osu_bcast_10/osu_bcast.1.10.2019-09-03_15-54-46', 'format': 'hpctoolkit', 'props': {}, 'nop': 10}, {'name': 'osu_bcast.1.10.2019-09-04_01-23-49', 'path': './data/osu_bcast_10/osu_bcast.1.10.2019-09-04_01-23-49', 'format': 'hpctoolkit', 'props': {}, 'nop': 10}, {'name': 'osu_bcast.1.10.2019-09-03_18-52-06', 'path': './data/osu_bcast_10/osu_bcast.1.10.2019-09-03_18-52-06', 'format': 'hpctoolkit', 'props': {}, 'nop': 10}, {'name': 'osu_bcast.1.10.2019-09-04_00-28-19', 'path': './data/osu_bcast_10/osu_bcast.1.10.2019-09-04_00-28-19', 'format': 'hpctoolkit', 'props': {}, 'nop': 10}, {'name': 'osu_bcast.1.10.2019-09-03_22-37-37', 'path': './data/osu_bcast_10/osu_bcast.1.10.2019-09-03_22-37-37', 'format': 'hpctoolkit', 'props': {}, 'nop': 10}, {'name': 'osu_bcast.1.10.2019-09-03_19-47-31', 'path': './data/osu_bcast_10/osu_bcast.1.10.2019-09-03_19-47-31', 'format': 'hpctoolkit', 'props': {}, 'nop': 10}, {'name': 'osu_bcast.1.10.2019-09-03_10-15-54', 'path': './data/osu_bcast_10/osu_bcast.1.10.2019-09-03_10-15-54', 'format': 'hpctoolkit', 'props': {}, 'nop': 10}, {'name': 'osu_bcast.1.10.2019-09-03_14-03-30', 'path': './data/osu_bcast_10/osu_bcast.1.10.2019-09-03_14-03-30', 'format': 'hpctoolkit', 'props': {}, 'nop': 10}, {'name': 'osu_bcast.1.10.2019-09-03_16-50-08', 'path': './data/osu_bcast_10/osu_bcast.1.10.2019-09-03_16-50-08', 'format': 'hpctoolkit', 'props': {}, 'nop': 10}, {'name': 'osu_bcast.1.10.2019-09-04_05-14-33', 'path': './data/osu_bcast_10/osu_bcast.1.10.2019-09-04_05-14-33', 'format': 'hpctoolkit', 'props': {}, 'nop': 10}, {'name': 'osu_bcast.1.10.2019-09-03_17-51-29', 'path': './data/osu_bcast_10/osu_bcast.1.10.2019-09-03_17-51-29', 'format': 'hpctoolkit', 'props': {}, 'nop': 10}, {'name': 'osu_bcast.1.10.2019-09-03_12-11-37', 'path': './data/osu_bcast_10/osu_bcast.1.10.2019-09-03_12-11-37', 'format': 'hpctoolkit', 'props': {}, 'nop': 10}, {'name': 'osu_bcast.1.10.2019-09-03_20-45-50', 'path': './data/osu_bcast_10/osu_bcast.1.10.2019-09-03_20-45-50', 'format': 'hpctoolkit', 'props': {}, 'nop': 10}], runName = 'osu_bcast_10', filter_perc = 5, callflow_path = '/home/vidi/Work/llnl/CallFlow/', processed_path = '/home/vidi/Work/llnl/CallFlow/data/processed', paths = {'osu_bcast.1.10.2019-09-04_07-05-12': './data/osu_bcast_10/osu_bcast.1.10.2019-09-04_07-05-12', 'osu_bcast.1.10.2019-09-03_23-33-03': './data/osu_bcast_10/osu_bcast.1.10.2019-09-03_23-33-03', 'osu_bcast.1.10.2019-09-04_08-07-45': './data/osu_bcast_10/osu_bcast.1.10.2019-09-04_08-07-45', 'osu_bcast.1.10.2019-09-03_13-07-55': './data/osu_bcast_10/osu_bcast.1.10.2019-09-03_13-07-55', 'osu_bcast.1.10.2019-09-04_03-18-07': './data/osu_bcast_10/osu_bcast.1.10.2019-09-04_03-18-07', 'osu_bcast.1.10.2019-09-03_21-42-03': './data/osu_bcast_10/osu_bcast.1.10.2019-09-03_21-42-03', 'osu_bcast.1.10.2019-09-03_11-12-50': './data/osu_bcast_10/osu_bcast.1.10.2019-09-03_11-12-50', 'osu_bcast.1.10.2019-09-04_06-10-08': './data/osu_bcast_10/osu_bcast.1.10.2019-09-04_06-10-08', 'osu_bcast.1.10.2019-09-04_04-14-14': './data/osu_bcast_10/osu_bcast.1.10.2019-09-04_04-14-14', 'osu_bcast.1.10.2019-09-04_02-21-56': './data/osu_bcast_10/osu_bcast.1.10.2019-09-04_02-21-56', 'osu_bcast.1.10.2019-09-03_14-59-00': './data/osu_bcast_10/osu_bcast.1.10.2019-09-03_14-59-00', 'osu_bcast.1.10.2019-09-03_15-54-46': './data/osu_bcast_10/osu_bcast.1.10.2019-09-03_15-54-46', 'osu_bcast.1.10.2019-09-04_01-23-49': './data/osu_bcast_10/osu_bcast.1.10.2019-09-04_01-23-49', 'osu_bcast.1.10.2019-09-03_18-52-06': './data/osu_bcast_10/osu_bcast.1.10.2019-09-03_18-52-06', 'osu_bcast.1.10.2019-09-04_00-28-19': './data/osu_bcast_10/osu_bcast.1.10.2019-09-04_00-28-19', 'osu_bcast.1.10.2019-09-03_22-37-37': './data/osu_bcast_10/osu_bcast.1.10.2019-09-03_22-37-37', 'osu_bcast.1.10.2019-09-03_19-47-31': './data/osu_bcast_10/osu_bcast.1.10.2019-09-03_19-47-31', 'osu_bcast.1.10.2019-09-03_10-15-54': './data/osu_bcast_10/osu_bcast.1.10.2019-09-03_10-15-54', 'osu_bcast.1.10.2019-09-03_14-03-30': './data/osu_bcast_10/osu_bcast.1.10.2019-09-03_14-03-30', 'osu_bcast.1.10.2019-09-03_16-50-08': './data/osu_bcast_10/osu_bcast.1.10.2019-09-03_16-50-08', 'osu_bcast.1.10.2019-09-04_05-14-33': './data/osu_bcast_10/osu_bcast.1.10.2019-09-04_05-14-33', 'osu_bcast.1.10.2019-09-03_17-51-29': './data/osu_bcast_10/osu_bcast.1.10.2019-09-03_17-51-29', 'osu_bcast.1.10.2019-09-03_12-11-37': './data/osu_bcast_10/osu_bcast.1.10.2019-09-03_12-11-37', 'osu_bcast.1.10.2019-09-03_20-45-50': './data/osu_bcast_10/osu_bcast.1.10.2019-09-03_20-45-50'}, props = {}, nop = {'osu_bcast.1.10.2019-09-04_07-05-12': 10, 'osu_bcast.1.10.2019-09-03_23-33-03': 10, 'osu_bcast.1.10.2019-09-04_08-07-45': 10, 'osu_bcast.1.10.2019-09-03_13-07-55': 10, 'osu_bcast.1.10.2019-09-04_03-18-07': 10, 'osu_bcast.1.10.2019-09-03_21-42-03': 10, 'osu_bcast.1.10.2019-09-03_11-12-50': 10, 'osu_bcast.1.10.2019-09-04_06-10-08': 10, 'osu_bcast.1.10.2019-09-04_04-14-14': 10, 'osu_bcast.1.10.2019-09-04_02-21-56': 10, 'osu_bcast.1.10.2019-09-03_14-59-00': 10, 'osu_bcast.1.10.2019-09-03_15-54-46': 10, 'osu_bcast.1.10.2019-09-04_01-23-49': 10, 'osu_bcast.1.10.2019-09-03_18-52-06': 10, 'osu_bcast.1.10.2019-09-04_00-28-19': 10, 'osu_bcast.1.10.2019-09-03_22-37-37': 10, 'osu_bcast.1.10.2019-09-03_19-47-31': 10, 'osu_bcast.1.10.2019-09-03_10-15-54': 10, 'osu_bcast.1.10.2019-09-03_14-03-30': 10, 'osu_bcast.1.10.2019-09-03_16-50-08': 10, 'osu_bcast.1.10.2019-09-04_05-14-33': 10, 'osu_bcast.1.10.2019-09-03_17-51-29': 10, 'osu_bcast.1.10.2019-09-03_12-11-37': 10, 'osu_bcast.1.10.2019-09-03_20-45-50': 10}, format = {'osu_bcast.1.10.2019-09-04_07-05-12': 'hpctoolkit', 'osu_bcast.1.10.2019-09-03_23-33-03': 'hpctoolkit', 'osu_bcast.1.10.2019-09-04_08-07-45': 'hpctoolkit', 'osu_bcast.1.10.2019-09-03_13-07-55': 'hpctoolkit', 'osu_bcast.1.10.2019-09-04_03-18-07': 'hpctoolkit', 'osu_bcast.1.10.2019-09-03_21-42-03': 'hpctoolkit', 'osu_bcast.1.10.2019-09-03_11-12-50': 'hpctoolkit', 'osu_bcast.1.10.2019-09-04_06-10-08': 'hpctoolkit', 'osu_bcast.1.10.2019-09-04_04-14-14': 'hpctoolkit', 'osu_bcast.1.10.2019-09-04_02-21-56': 'hpctoolkit', 'osu_bcast.1.10.2019-09-03_14-59-00': 'hpctoolkit', 'osu_bcast.1.10.2019-09-03_15-54-46': 'hpctoolkit', 'osu_bcast.1.10.2019-09-04_01-23-49': 'hpctoolkit', 'osu_bcast.1.10.2019-09-03_18-52-06': 'hpctoolkit', 'osu_bcast.1.10.2019-09-04_00-28-19': 'hpctoolkit', 'osu_bcast.1.10.2019-09-03_22-37-37': 'hpctoolkit', 'osu_bcast.1.10.2019-09-03_19-47-31': 'hpctoolkit', 'osu_bcast.1.10.2019-09-03_10-15-54': 'hpctoolkit', 'osu_bcast.1.10.2019-09-03_14-03-30': 'hpctoolkit', 'osu_bcast.1.10.2019-09-03_16-50-08': 'hpctoolkit', 'osu_bcast.1.10.2019-09-04_05-14-33': 'hpctoolkit', 'osu_bcast.1.10.2019-09-03_17-51-29': 'hpctoolkit', 'osu_bcast.1.10.2019-09-03_12-11-37': 'hpctoolkit', 'osu_bcast.1.10.2019-09-03_20-45-50': 'hpctoolkit'}, fnMap = {'osu_bcast.1.10.2019-09-04_07-05-12': {}, 'osu_bcast.1.10.2019-09-03_23-33-03': {}, 'osu_bcast.1.10.2019-09-04_08-07-45': {}, 'osu_bcast.1.10.2019-09-03_13-07-55': {}, 'osu_bcast.1.10.2019-09-04_03-18-07': {}, 'osu_bcast.1.10.2019-09-03_21-42-03': {}, 'osu_bcast.1.10.2019-09-03_11-12-50': {}, 'osu_bcast.1.10.2019-09-04_06-10-08': {}, 'osu_bcast.1.10.2019-09-04_04-14-14': {}, 'osu_bcast.1.10.2019-09-04_02-21-56': {}, 'osu_bcast.1.10.2019-09-03_14-59-00': {}, 'osu_bcast.1.10.2019-09-03_15-54-46': {}, 'osu_bcast.1.10.2019-09-04_01-23-49': {}, 'osu_bcast.1.10.2019-09-03_18-52-06': {}, 'osu_bcast.1.10.2019-09-04_00-28-19': {}, 'osu_bcast.1.10.2019-09-03_22-37-37': {}, 'osu_bcast.1.10.2019-09-03_19-47-31': {}, 'osu_bcast.1.10.2019-09-03_10-15-54': {}, 'osu_bcast.1.10.2019-09-03_14-03-30': {}, 'osu_bcast.1.10.2019-09-03_16-50-08': {}, 'osu_bcast.1.10.2019-09-04_05-14-33': {}, 'osu_bcast.1.10.2019-09-03_17-51-29': {}, 'osu_bcast.1.10.2019-09-03_12-11-37': {}, 'osu_bcast.1.10.2019-09-03_20-45-50': {}}, fileMap = {'osu_bcast.1.10.2019-09-04_07-05-12': {}, 'osu_bcast.1.10.2019-09-03_23-33-03': {}, 'osu_bcast.1.10.2019-09-04_08-07-45': {}, 'osu_bcast.1.10.2019-09-03_13-07-55': {}, 'osu_bcast.1.10.2019-09-04_03-18-07': {}, 'osu_bcast.1.10.2019-09-03_21-42-03': {}, 'osu_bcast.1.10.2019-09-03_11-12-50': {}, 'osu_bcast.1.10.2019-09-04_06-10-08': {}, 'osu_bcast.1.10.2019-09-04_04-14-14': {}, 'osu_bcast.1.10.2019-09-04_02-21-56': {}, 'osu_bcast.1.10.2019-09-03_14-59-00': {}, 'osu_bcast.1.10.2019-09-03_15-54-46': {}, 'osu_bcast.1.10.2019-09-04_01-23-49': {}, 'osu_bcast.1.10.2019-09-03_18-52-06': {}, 'osu_bcast.1.10.2019-09-04_00-28-19': {}, 'osu_bcast.1.10.2019-09-03_22-37-37': {}, 'osu_bcast.1.10.2019-09-03_19-47-31': {}, 'osu_bcast.1.10.2019-09-03_10-15-54': {}, 'osu_bcast.1.10.2019-09-03_14-03-30': {}, 'osu_bcast.1.10.2019-09-03_16-50-08': {}, 'osu_bcast.1.10.2019-09-04_05-14-33': {}, 'osu_bcast.1.10.2019-09-03_17-51-29': {}, 'osu_bcast.1.10.2019-09-03_12-11-37': {}, 'osu_bcast.1.10.2019-09-03_20-45-50': {}}, names = ['osu_bcast.1.10.2019-09-04_07-05-12', 'osu_bcast.1.10.2019-09-03_23-33-03', 'osu_bcast.1.10.2019-09-04_08-07-45', 'osu_bcast.1.10.2019-09-03_13-07-55', 'osu_bcast.1.10.2019-09-04_03-18-07', 'osu_bcast.1.10.2019-09-03_21-42-03', 'osu_bcast.1.10.2019-09-03_11-12-50', 'osu_bcast.1.10.2019-09-04_06-10-08', 'osu_bcast.1.10.2019-09-04_04-14-14', 'osu_bcast.1.10.2019-09-04_02-21-56', 'osu_bcast.1.10.2019-09-03_14-59-00', 'osu_bcast.1.10.2019-09-03_15-54-46', 'osu_bcast.1.10.2019-09-04_01-23-49', 'osu_bcast.1.10.2019-09-03_18-52-06', 'osu_bcast.1.10.2019-09-04_00-28-19', 'osu_bcast.1.10.2019-09-03_22-37-37', 'osu_bcast.1.10.2019-09-03_19-47-31', 'osu_bcast.1.10.2019-09-03_10-15-54', 'osu_bcast.1.10.2019-09-03_14-03-30', 'osu_bcast.1.10.2019-09-03_16-50-08', 'osu_bcast.1.10.2019-09-04_05-14-33', 'osu_bcast.1.10.2019-09-03_17-51-29', 'osu_bcast.1.10.2019-09-03_12-11-37', 'osu_bcast.1.10.2019-09-03_20-45-50'], dataset_names = ['osu_bcast.1.10.2019-09-04_07-05-12', 'osu_bcast.1.10.2019-09-03_23-33-03', 'osu_bcast.1.10.2019-09-04_08-07-45', 'osu_bcast.1.10.2019-09-03_13-07-55', 'osu_bcast.1.10.2019-09-04_03-18-07', 'osu_bcast.1.10.2019-09-03_21-42-03', 'osu_bcast.1.10.2019-09-03_11-12-50', 'osu_bcast.1.10.2019-09-04_06-10-08', 'osu_bcast.1.10.2019-09-04_04-14-14', 'osu_bcast.1.10.2019-09-04_02-21-56', 'osu_bcast.1.10.2019-09-03_14-59-00', 'osu_bcast.1.10.2019-09-03_15-54-46', 'osu_bcast.1.10.2019-09-04_01-23-49', 'osu_bcast.1.10.2019-09-03_18-52-06', 'osu_bcast.1.10.2019-09-04_00-28-19', 'osu_bcast.1.10.2019-09-03_22-37-37', 'osu_bcast.1.10.2019-09-03_19-47-31', 'osu_bcast.1.10.2019-09-03_10-15-54', 'osu_bcast.1.10.2019-09-03_14-03-30', 'osu_bcast.1.10.2019-09-03_16-50-08', 'osu_bcast.1.10.2019-09-04_05-14-33', 'osu_bcast.1.10.2019-09-03_17-51-29', 'osu_bcast.1.10.2019-09-03_12-11-37', 'osu_bcast.1.10.2019-09-03_20-45-50']}> \n",
      "\n"
     ]
    },
    {
     "ename": "KeyError",
     "evalue": "'osu_bcast.1.18.2019-09-03_11-33-15'",
     "output_type": "error",
     "traceback": [
      "\u001b[0;31m-------------------------------------------------------------\u001b[0m",
      "\u001b[0;31mKeyError\u001b[0m                    Traceback (most recent call last)",
      "\u001b[0;32m<ipython-input-18-73f7101db709>\u001b[0m in \u001b[0;36m<module>\u001b[0;34m\u001b[0m\n\u001b[1;32m      1\u001b[0m \u001b[0;32mfor\u001b[0m \u001b[0midx\u001b[0m\u001b[0;34m,\u001b[0m \u001b[0mdataset_name\u001b[0m \u001b[0;32min\u001b[0m \u001b[0menumerate\u001b[0m\u001b[0;34m(\u001b[0m\u001b[0mdatasets\u001b[0m\u001b[0;34m)\u001b[0m\u001b[0;34m:\u001b[0m\u001b[0;34m\u001b[0m\u001b[0;34m\u001b[0m\u001b[0m\n\u001b[0;32m----> 2\u001b[0;31m     \u001b[0mstates\u001b[0m\u001b[0;34m[\u001b[0m\u001b[0mdataset_name\u001b[0m\u001b[0;34m]\u001b[0m \u001b[0;34m=\u001b[0m \u001b[0mpipeline\u001b[0m\u001b[0;34m.\u001b[0m\u001b[0mcreate\u001b[0m\u001b[0;34m(\u001b[0m\u001b[0mdataset_name\u001b[0m\u001b[0;34m)\u001b[0m\u001b[0;34m\u001b[0m\u001b[0;34m\u001b[0m\u001b[0m\n\u001b[0m\u001b[1;32m      3\u001b[0m     \u001b[0mstates\u001b[0m\u001b[0;34m[\u001b[0m\u001b[0mdataset_name\u001b[0m\u001b[0;34m]\u001b[0m \u001b[0;34m=\u001b[0m \u001b[0mpipeline\u001b[0m\u001b[0;34m.\u001b[0m\u001b[0mprocess\u001b[0m\u001b[0;34m(\u001b[0m\u001b[0mstates\u001b[0m\u001b[0;34m[\u001b[0m\u001b[0mdataset_name\u001b[0m\u001b[0;34m]\u001b[0m\u001b[0;34m,\u001b[0m \u001b[0;34m'entire'\u001b[0m\u001b[0;34m)\u001b[0m\u001b[0;34m\u001b[0m\u001b[0;34m\u001b[0m\u001b[0m\n\u001b[1;32m      4\u001b[0m     \u001b[0mstates\u001b[0m\u001b[0;34m[\u001b[0m\u001b[0mdataset_name\u001b[0m\u001b[0;34m]\u001b[0m \u001b[0;34m=\u001b[0m \u001b[0mpipeline\u001b[0m\u001b[0;34m.\u001b[0m\u001b[0mconvertToNetworkX\u001b[0m\u001b[0;34m(\u001b[0m\u001b[0mstates\u001b[0m\u001b[0;34m[\u001b[0m\u001b[0mdataset_name\u001b[0m\u001b[0;34m]\u001b[0m\u001b[0;34m,\u001b[0m \u001b[0;34m'path'\u001b[0m\u001b[0;34m)\u001b[0m\u001b[0;34m\u001b[0m\u001b[0;34m\u001b[0m\u001b[0m\n\u001b[1;32m      5\u001b[0m     \u001b[0mpipeline\u001b[0m\u001b[0;34m.\u001b[0m\u001b[0mwrite_gf\u001b[0m\u001b[0;34m(\u001b[0m\u001b[0mstates\u001b[0m\u001b[0;34m[\u001b[0m\u001b[0mdataset_name\u001b[0m\u001b[0;34m]\u001b[0m\u001b[0;34m,\u001b[0m \u001b[0mdataset_name\u001b[0m\u001b[0;34m,\u001b[0m \u001b[0;34m'entire'\u001b[0m\u001b[0;34m)\u001b[0m\u001b[0;34m\u001b[0m\u001b[0;34m\u001b[0m\u001b[0m\n",
      "\u001b[0;32m~/Work/llnl/CallFlow/src/server/pipeline.py\u001b[0m in \u001b[0;36mcreate\u001b[0;34m(self, name)\u001b[0m\n\u001b[1;32m     27\u001b[0m     \u001b[0;32mdef\u001b[0m \u001b[0mcreate\u001b[0m\u001b[0;34m(\u001b[0m\u001b[0mself\u001b[0m\u001b[0;34m,\u001b[0m \u001b[0mname\u001b[0m\u001b[0;34m)\u001b[0m\u001b[0;34m:\u001b[0m\u001b[0;34m\u001b[0m\u001b[0;34m\u001b[0m\u001b[0m\n\u001b[1;32m     28\u001b[0m         \u001b[0mstate\u001b[0m \u001b[0;34m=\u001b[0m \u001b[0mState\u001b[0m\u001b[0;34m(\u001b[0m\u001b[0mname\u001b[0m\u001b[0;34m)\u001b[0m\u001b[0;34m\u001b[0m\u001b[0;34m\u001b[0m\u001b[0m\n\u001b[0;32m---> 29\u001b[0;31m         \u001b[0mcreate\u001b[0m \u001b[0;34m=\u001b[0m \u001b[0mCreate\u001b[0m\u001b[0;34m(\u001b[0m\u001b[0mself\u001b[0m\u001b[0;34m.\u001b[0m\u001b[0mconfig\u001b[0m\u001b[0;34m,\u001b[0m \u001b[0mname\u001b[0m\u001b[0;34m)\u001b[0m\u001b[0;34m\u001b[0m\u001b[0;34m\u001b[0m\u001b[0m\n\u001b[0m\u001b[1;32m     30\u001b[0m \u001b[0;34m\u001b[0m\u001b[0m\n\u001b[1;32m     31\u001b[0m         \u001b[0mstate\u001b[0m\u001b[0;34m.\u001b[0m\u001b[0mentire_gf\u001b[0m \u001b[0;34m=\u001b[0m \u001b[0mcreate\u001b[0m\u001b[0;34m.\u001b[0m\u001b[0mgf\u001b[0m\u001b[0;34m\u001b[0m\u001b[0;34m\u001b[0m\u001b[0m\n",
      "\u001b[0;32m~/Work/llnl/CallFlow/src/server/actions/create.py\u001b[0m in \u001b[0;36m__init__\u001b[0;34m(self, config, name)\u001b[0m\n\u001b[1;32m     28\u001b[0m         \u001b[0mself\u001b[0m\u001b[0;34m.\u001b[0m\u001b[0mcallflow_path\u001b[0m \u001b[0;34m=\u001b[0m \u001b[0mconfig\u001b[0m\u001b[0;34m.\u001b[0m\u001b[0mcallflow_path\u001b[0m\u001b[0;34m\u001b[0m\u001b[0;34m\u001b[0m\u001b[0m\n\u001b[1;32m     29\u001b[0m         \u001b[0mself\u001b[0m\u001b[0;34m.\u001b[0m\u001b[0mname\u001b[0m \u001b[0;34m=\u001b[0m \u001b[0mname\u001b[0m\u001b[0;34m\u001b[0m\u001b[0;34m\u001b[0m\u001b[0m\n\u001b[0;32m---> 30\u001b[0;31m         \u001b[0mself\u001b[0m\u001b[0;34m.\u001b[0m\u001b[0mrun\u001b[0m\u001b[0;34m(\u001b[0m\u001b[0;34m)\u001b[0m\u001b[0;34m\u001b[0m\u001b[0;34m\u001b[0m\u001b[0m\n\u001b[0m\u001b[1;32m     31\u001b[0m \u001b[0;34m\u001b[0m\u001b[0m\n\u001b[1;32m     32\u001b[0m     \u001b[0;32mdef\u001b[0m \u001b[0mrun\u001b[0m\u001b[0;34m(\u001b[0m\u001b[0mself\u001b[0m\u001b[0;34m)\u001b[0m\u001b[0;34m:\u001b[0m\u001b[0;34m\u001b[0m\u001b[0;34m\u001b[0m\u001b[0m\n",
      "\u001b[0;32m~/Work/llnl/CallFlow/src/server/actions/create.py\u001b[0m in \u001b[0;36mrun\u001b[0;34m(self)\u001b[0m\n\u001b[1;32m     34\u001b[0m         \u001b[0;31m# data_path = os.path.abspath(os.path.join(self.callflow_path, self.config.paths[self.name]))\u001b[0m\u001b[0;34m\u001b[0m\u001b[0;34m\u001b[0m\u001b[0;34m\u001b[0m\u001b[0m\n\u001b[1;32m     35\u001b[0m \u001b[0;34m\u001b[0m\u001b[0m\n\u001b[0;32m---> 36\u001b[0;31m         \u001b[0;32mif\u001b[0m \u001b[0mself\u001b[0m\u001b[0;34m.\u001b[0m\u001b[0mconfig\u001b[0m\u001b[0;34m.\u001b[0m\u001b[0mformat\u001b[0m\u001b[0;34m[\u001b[0m\u001b[0mself\u001b[0m\u001b[0;34m.\u001b[0m\u001b[0mname\u001b[0m\u001b[0;34m]\u001b[0m \u001b[0;34m==\u001b[0m \u001b[0;34m'hpctoolkit'\u001b[0m\u001b[0;34m:\u001b[0m\u001b[0;34m\u001b[0m\u001b[0;34m\u001b[0m\u001b[0m\n\u001b[0m\u001b[1;32m     37\u001b[0m             \u001b[0mself\u001b[0m\u001b[0;34m.\u001b[0m\u001b[0mgf\u001b[0m \u001b[0;34m=\u001b[0m \u001b[0mht\u001b[0m\u001b[0;34m.\u001b[0m\u001b[0mGraphFrame\u001b[0m\u001b[0;34m.\u001b[0m\u001b[0mfrom_hpctoolkit\u001b[0m\u001b[0;34m(\u001b[0m\u001b[0mdata_path\u001b[0m\u001b[0;34m)\u001b[0m\u001b[0;34m\u001b[0m\u001b[0;34m\u001b[0m\u001b[0m\n\u001b[1;32m     38\u001b[0m         \u001b[0;32melif\u001b[0m \u001b[0mself\u001b[0m\u001b[0;34m.\u001b[0m\u001b[0mconfig\u001b[0m\u001b[0;34m.\u001b[0m\u001b[0mformat\u001b[0m\u001b[0;34m[\u001b[0m\u001b[0mself\u001b[0m\u001b[0;34m.\u001b[0m\u001b[0mname\u001b[0m\u001b[0;34m]\u001b[0m \u001b[0;34m==\u001b[0m \u001b[0;34m'caliper'\u001b[0m\u001b[0;34m:\u001b[0m\u001b[0;34m\u001b[0m\u001b[0;34m\u001b[0m\u001b[0m\n",
      "\u001b[0;31mKeyError\u001b[0m: 'osu_bcast.1.18.2019-09-03_11-33-15'"
     ]
    }
   ],
   "source": [
    "for idx, dataset_name in enumerate(datasets):\n",
    "    states[dataset_name] = pipeline.create(dataset_name)\n",
    "    states[dataset_name] = pipeline.process(states[dataset_name], 'entire')\n",
    "    states[dataset_name] = pipeline.convertToNetworkX(states[dataset_name], 'path')\n",
    "    pipeline.write_gf(states[dataset_name], dataset_name, 'entire')\n",
    "    states[dataset_name] = pipeline.filterNetworkX(states, dataset_name, config.filter_perc)\n",
    "    pipeline.write_dataset_gf(states[dataset_name], dataset_name, 'filter')"
   ]
  },
  {
   "cell_type": "code",
   "execution_count": null,
   "metadata": {},
   "outputs": [],
   "source": [
    "states['ensemble'] = pipeline.union(states)\n",
    "states['ensemble'] = pipeline.filterNetworkX(states, 'ensemble', config.filter_perc)"
   ]
  },
  {
   "cell_type": "markdown",
   "metadata": {},
   "source": [
    "# Group the filtered union graph based on module. "
   ]
  },
  {
   "cell_type": "code",
   "execution_count": null,
   "metadata": {
    "scrolled": true
   },
   "outputs": [],
   "source": [
    "# Pipeline for the ensemble graph\n",
    "states['ensemble'] = pipeline.group(states, dataset_name, 'module')\n",
    "pipeline.write_ensemble_gf(states, 'ensemble')"
   ]
  }
 ],
 "metadata": {
  "kernelspec": {
   "display_name": "Python 3",
   "language": "python",
   "name": "python3"
  },
  "language_info": {
   "codemirror_mode": {
    "name": "ipython",
    "version": 3
   },
   "file_extension": ".py",
   "mimetype": "text/x-python",
   "name": "python",
   "nbconvert_exporter": "python",
   "pygments_lexer": "ipython3",
   "version": "3.6.8"
  }
 },
 "nbformat": 4,
 "nbformat_minor": 2
}
