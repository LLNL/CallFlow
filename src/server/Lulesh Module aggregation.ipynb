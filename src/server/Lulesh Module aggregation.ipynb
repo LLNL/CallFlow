{
 "cells": [
  {
   "cell_type": "code",
   "execution_count": 32,
   "metadata": {},
   "outputs": [],
   "source": [
    "import pandas as pd\n",
    "from ast import literal_eval as make_list\n",
    "import networkx as nx"
   ]
  },
  {
   "cell_type": "code",
   "execution_count": 33,
   "metadata": {},
   "outputs": [],
   "source": [
    "entire_path = '/home/suraj/Work/llnl/CallFlow/data/processed/lulesh-3-runs/ensemble_entire_df.csv'\n",
    "group_path = '/home/suraj/Work/llnl/CallFlow/data/processed/lulesh-3-runs/ensemble_group_df.csv'\n",
    "datasets = ['1-core', '27-cores', '512-cores']"
   ]
  },
  {
   "cell_type": "code",
   "execution_count": 34,
   "metadata": {},
   "outputs": [],
   "source": [
    "entire_df = pd.read_csv(entire_path)\n",
    "group_df = pd.read_csv(group_path)"
   ]
  },
  {
   "cell_type": "code",
   "execution_count": 35,
   "metadata": {},
   "outputs": [],
   "source": [
    "group_path_df = group_df.groupby(['name', 'dataset'])['group_path', 'path']"
   ]
  },
  {
   "cell_type": "code",
   "execution_count": 36,
   "metadata": {},
   "outputs": [
    {
     "data": {
      "text/plain": [
       "array(['main', 'MPI_Barrier', 'MPI_Finalize', 'MPI_Reduce',\n",
       "       'lulesh.cycle', 'LagrangeLeapFrog', 'CalcTimeConstraintsForElems',\n",
       "       'CalcCourantConstraintForElems', 'CalcHydroConstraintForElems',\n",
       "       'LagrangeElements', 'ApplyMaterialPropertiesForElems',\n",
       "       'EvalEOSForElems', 'CalcEnergyForElems', 'CalcPressureForElems',\n",
       "       'CalcSoundSpeedForElems', 'CalcLagrangeElements',\n",
       "       'CalcKinematicsForElems', 'CalcQForElems',\n",
       "       'CalcMonotonicQGradientsForElems', 'CalcMonotonicQRegionForElems',\n",
       "       'UpdateVolumesForElems', 'LagrangeNodal', 'CalcForceForNodes',\n",
       "       'CalcVolumeForceForElems', 'CalcHourglassControlForElems',\n",
       "       'CalcFBHourglassForceForElems', 'IntegrateStressForElems',\n",
       "       'TimeIncrement', 'MPI_Allreduce', 'MPI_Irecv', 'MPI_Isend',\n",
       "       'MPI_Wait', 'MPI_Waitall'], dtype=object)"
      ]
     },
     "execution_count": 36,
     "metadata": {},
     "output_type": "execute_result"
    }
   ],
   "source": [
    "group_df['name'].unique()"
   ]
  },
  {
   "cell_type": "code",
   "execution_count": 37,
   "metadata": {},
   "outputs": [
    {
     "name": "stdout",
     "output_type": "stream",
     "text": [
      "[\"['main', 'lulesh.cycle', 'LagrangeLeapFrog', 'LagrangeElements', 'ApplyMaterialPropertiesForElems']\"] [\"['Lulesh=main', 'Timer=TimeIncrement', 'MPI=MPI_Allreduce']\"]\n",
      "[\"['main', 'lulesh.cycle', 'LagrangeLeapFrog', 'LagrangeElements', 'ApplyMaterialPropertiesForElems']\"] [\"['Lulesh=main', 'Timer=TimeIncrement', 'MPI=MPI_Allreduce']\"]\n",
      "[\"['main', 'lulesh.cycle', 'LagrangeLeapFrog', 'LagrangeElements', 'ApplyMaterialPropertiesForElems']\"] [\"['Lulesh=main', 'Timer=TimeIncrement', 'MPI=MPI_Allreduce']\"]\n"
     ]
    }
   ],
   "source": [
    "for dataset in datasets:\n",
    "    a = group_path_df.get_group(('ApplyMaterialPropertiesForElems', dataset))['path'].unique()\n",
    "    b = group_path_df.get_group(('MPI_Allreduce', dataset))['group_path'].unique()\n",
    "\n",
    "    print(a, b)"
   ]
  },
  {
   "cell_type": "code",
   "execution_count": 38,
   "metadata": {},
   "outputs": [],
   "source": [
    "def get_group(g, key):\n",
    "    if key in g.groups: return g.get_group(key)\n",
    "    return pd.DataFrame()"
   ]
  },
  {
   "cell_type": "code",
   "execution_count": 39,
   "metadata": {},
   "outputs": [],
   "source": [
    "def check_path_equivalence_across_runs(group_path_df, callsite, path_attr):\n",
    "    paths = {}\n",
    "    for dataset in datasets:\n",
    "        # Assuming all ranks have the same path. \n",
    "        print(callsite, dataset)\n",
    "        group = get_group(group_path_df, (callsite, dataset))\n",
    "        print(group)\n",
    "        key = group[path_attr].unique()[0]\n",
    "        print(key)\n",
    "        if key not in paths:\n",
    "            paths[key] = []\n",
    "        paths[key].append(dataset)"
   ]
  },
  {
   "cell_type": "code",
   "execution_count": 40,
   "metadata": {},
   "outputs": [],
   "source": [
    "g = nx.DiGraph()\n",
    "agg_g = nx.DiGraph()"
   ]
  },
  {
   "cell_type": "code",
   "execution_count": 41,
   "metadata": {},
   "outputs": [],
   "source": [
    "def add_paths(path_attr='group_path'):\n",
    "    ensemble_callsites = group_df['name'].unique()\n",
    "    group_path_df = group_df.groupby(['name', 'dataset'])[path_attr].unique()\n",
    "    for callsite in ensemble_callsites:\n",
    "        check_path_equivalence_across_runs(group_path_df, callsite, path_attr)"
   ]
  },
  {
   "cell_type": "code",
   "execution_count": 48,
   "metadata": {},
   "outputs": [
    {
     "ename": "TypeError",
     "evalue": "add_paths() missing 1 required positional argument: 'path'",
     "output_type": "error",
     "traceback": [
      "\u001b[0;31m-----------\u001b[0m",
      "\u001b[0;31mTypeError\u001b[0mTraceback (most recent call last)",
      "\u001b[0;32m<ipython-input-48-9a78fe77254b>\u001b[0m in \u001b[0;36m<module>\u001b[0;34m\u001b[0m\n\u001b[0;32m----> 1\u001b[0;31m \u001b[0madd_paths\u001b[0m\u001b[0;34m(\u001b[0m\u001b[0;34m'group_path'\u001b[0m\u001b[0;34m)\u001b[0m\u001b[0;34m\u001b[0m\u001b[0;34m\u001b[0m\u001b[0m\n\u001b[0m",
      "\u001b[0;31mTypeError\u001b[0m: add_paths() missing 1 required positional argument: 'path'"
     ]
    }
   ],
   "source": [
    "add_paths('group_path')"
   ]
  },
  {
   "cell_type": "code",
   "execution_count": 47,
   "metadata": {},
   "outputs": [],
   "source": [
    "def add_paths(group_df, path):\n",
    "    print(group_df[['dataset', 'name', 'module', 'group_path']])\n",
    "    paths = group_df[path].unique()\n",
    "\n",
    "    for idx, path_str in enumerate(paths):\n",
    "        path_list = rename_cycle_path(path_str)\n",
    "\n",
    "        for callsite_idx, callsite in enumerate(path_list):\n",
    "            if callsite_idx != len(path_list) - 1:\n",
    "                source = path_list[callsite_idx]\n",
    "                target = path_list[callsite_idx + 1]\n",
    "\n",
    "                print(source['module'], target['module'], source['callsite'], target['callsite'])\n",
    "\n",
    "                source_module = source['module']\n",
    "                target_module = target['module']\n",
    "\n",
    "                source_name = source['callsite']\n",
    "                target_name = target['callsite']\n",
    "                if(self.g.has_edge(target['module'], source['module'])):\n",
    "                    edge_type = 'callback'\n",
    "                else:\n",
    "                    edge_type = 'normal'\n",
    "\n",
    "                if(edge_type == 'normal'):\n",
    "                    self.g.add_edge(source_module, target_module,   attr_dict={\n",
    "                        \"source_callsite\": source_name,\n",
    "                        \"target_callsite\": target_name,\n",
    "                        \"edge_type\": edge_type\n",
    "                    })"
   ]
  }
 ],
 "metadata": {
  "kernelspec": {
   "display_name": "Python 3",
   "language": "python",
   "name": "python3"
  },
  "language_info": {
   "codemirror_mode": {
    "name": "ipython",
    "version": 3
   },
   "file_extension": ".py",
   "mimetype": "text/x-python",
   "name": "python",
   "nbconvert_exporter": "python",
   "pygments_lexer": "ipython3",
   "version": "3.7.4"
  }
 },
 "nbformat": 4,
 "nbformat_minor": 2
}
