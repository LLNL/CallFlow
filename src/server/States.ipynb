{
 "cells": [
  {
   "cell_type": "code",
   "execution_count": 1,
   "metadata": {},
   "outputs": [
    {
     "name": "stderr",
     "output_type": "stream",
     "text": [
      "/usr/local/lib/python3.6/dist-packages/matplotlib/__init__.py:855: MatplotlibDeprecationWarning: \n",
      "examples.directory is deprecated; in the future, examples will be found relative to the 'datapath' directory.\n",
      "  \"found relative to the 'datapath' directory.\".format(key))\n",
      "/usr/local/lib/python3.6/dist-packages/matplotlib/__init__.py:846: MatplotlibDeprecationWarning: \n",
      "The text.latex.unicode rcparam was deprecated in Matplotlib 2.2 and will be removed in 3.1.\n",
      "  \"2.2\", name=key, obj_type=\"rcparam\", addendum=addendum)\n",
      "/usr/local/lib/python3.6/dist-packages/seaborn/apionly.py:9: UserWarning: As seaborn no longer sets a default style on import, the seaborn.apionly module is deprecated. It will be removed in a future version.\n",
      "  warnings.warn(msg, UserWarning)\n"
     ]
    }
   ],
   "source": [
    "import networkx as nx\n",
    "import pandas\n",
    "from hatchet import *\n",
    "import os\n",
    "import matplotlib.pyplot as plt\n",
    "import seaborn.apionly as sns\n",
    "import igraph\n",
    "import platform"
   ]
  },
  {
   "cell_type": "code",
   "execution_count": 2,
   "metadata": {},
   "outputs": [],
   "source": [
    "# libraries for gromov distance computation.\n",
    "import numpy as np\n",
    "import scipy as sp\n",
    "import ot\n",
    "from sklearn.decomposition import PCA\n",
    "from sklearn import manifold"
   ]
  },
  {
   "cell_type": "code",
   "execution_count": 3,
   "metadata": {},
   "outputs": [],
   "source": [
    "\n",
    "from actions.groupBy import groupBy\n",
    "from state import State\n",
    "from callgraph import CallGraph\n",
    "from preprocess import PreProcess"
   ]
  },
  {
   "cell_type": "code",
   "execution_count": 4,
   "metadata": {},
   "outputs": [],
   "source": [
    "pd.options.display.max_rows = 10\n",
    "pd.options.display.float_format = '{:,.2f}'.format\n",
    "plt.rcParams['figure.figsize'] = (16, 12)"
   ]
  },
  {
   "cell_type": "code",
   "execution_count": 5,
   "metadata": {},
   "outputs": [],
   "source": [
    "# Linux path\n",
    "if platform.system() == \"Linux\":\n",
    "\tcallflow_path = \"/home/vidi/Work/llnl/CallFlow/\"\n",
    "else:\n",
    "\t#Mac OSx path\n",
    "\tcallflow_path = \"/Users/jarus/ucd/Research/Visualisation/projects/CallFlow\"\n",
    "\n",
    "dataset_path = [\"data/lulesh-1/db-ampi4-100-1\", \"data/lulesh-1/db-ampi4-100-8\"]\n",
    "dataset = ['db-ampi4-100-1', 'db-ampi4-100-8']  "
   ]
  },
  {
   "cell_type": "code",
   "execution_count": 6,
   "metadata": {},
   "outputs": [],
   "source": [
    "# Create Graphframes.\n",
    "def create_gfs(file_format, paths):    \n",
    "\tprint(\"Creating graphframes....\")                                                                                             \n",
    "\tret = []                                                                                                                         \n",
    "\tfor idx, path in enumerate(paths):\n",
    "\t\tpath = os.path.abspath(os.path.join(callflow_path, path)) \n",
    "\t\tgf = GraphFrame()   \n",
    "\t\tgf.from_hpctoolkit(path, 3)                                                                            \n",
    "\t\tret.append(gf) \n",
    "\t\tprint(str(idx) + \":\" + path)                                                                                              \n",
    "\treturn ret "
   ]
  },
  {
   "cell_type": "code",
   "execution_count": 7,
   "metadata": {},
   "outputs": [],
   "source": [
    "# util functions\n",
    "def lookup(df, node):                                                                                                                    \n",
    "\treturn df.loc[df['node'] == node] \n",
    "\n",
    "def lookup_with_name(df, name):\n",
    "\treturn df.loc[df['name'] == name]\n",
    "\n",
    "def getMaxIncTime(gf):                                                                                                                   \n",
    "\tret = 0.0                                                                                                                            \n",
    "\tfor root in gf.graph.roots:                                                                                                          \n",
    "\t\tret = max(ret, lookup(gf.dataframe, root)['CPUTIME (usec) (I)'].max())                                                           \n",
    "\treturn ret                                                                                                                           \n",
    "\t\t\t\t\t\t\t\t\t\t\t\t\t\t\t\t\t\t\t\t\t\t\t\t\t\t\t\t\t\t\t\t\t\t \n",
    "def getMaxExcTime(gf):                                                                                                                   \n",
    "\tret  = gf.dataframe['CPUTIME (usec) (E)'].max()                                                                                      \n",
    "\treturn ret                                                                                                                           \n",
    "\t\t\t   \n",
    "def special_lookup(gf, df_index):   \n",
    "\treturn gf.dataframe.loc[gf.dataframe['name'] == df_index] "
   ]
  },
  {
   "cell_type": "code",
   "execution_count": 8,
   "metadata": {},
   "outputs": [],
   "source": [
    "# Filter graphframe and graph\n",
    "def filter_gfs(gfs, filterBy):                                                                                                   \n",
    "\t# Create the graph frames from the paths and corresponding format using hatchet                                                  \n",
    "\tfgfs = []                                                                                                                        \n",
    "\t# Filter graphframes based on threshold                                                                                          \n",
    "\tfor idx, gf in enumerate(gfs):                                                                                              \n",
    "\t\tprint(\"Filtering the dataframe!\")                                                                                         \n",
    "\t\tif filterBy == \"IncTime\":                                                                                          \n",
    "\t\t\tmax_inclusive_time = getMaxIncTime(gf)                                                                             \n",
    "\t\t\tfilter_gf = gf.filter(lambda x: True if(x['CPUTIME (usec) (I)'] > 0.01*max_inclusive_time) else False)                   \n",
    "\t\telif self.args.filterBy == \"ExcTime\":                                                                                        \n",
    "\t\t\tmax_exclusive_time = getMaxExcTime(gf)                                                                             \n",
    "\t\t\tprint('[Filter] By Exclusive time = {0})'.format(max_exclusive_time))                                                 \n",
    "\t\t\tfilter_gf = gf.filter(lambda x: True if (x['CPUTIME (usec) (E)'] > 0.01*max_exclusive_time) else False)                  \n",
    "\t\telse:                                                                                                                        \n",
    "\t\t\tprint(\"Not filtering.... Can take forever. Thou were warned\")                                                         \n",
    "\t\t\tfilter_gf = gf                                                                                                           \n",
    "\t\tprint('[Filter] Removed {0} rows.)'.format(gf.dataframe.shape[0] - filter_gf.dataframe.shape[0]))                                                                                                                            \n",
    "\t\tprint(\"Grafting the graph!\")                                                                                            \n",
    "\t\tfilter_gf = filter_gf.graft()                                                                                                \n",
    "\t\tprint(\"[Graft] {0} rows left\".format(filter_gf.dataframe.shape[0]))                           \n",
    "\t\tfgfs.append(filter_gf)                                                                                                       \n",
    "\treturn fgfs"
   ]
  },
  {
   "cell_type": "code",
   "execution_count": 12,
   "metadata": {},
   "outputs": [],
   "source": [
    "# add n_index to the dataframe.\n",
    "def add_n_index(gf):\n",
    "\tgf.dataframe['n_index'] = gf.dataframe.groupby('nid').ngroup()\n",
    "\n",
    "def df_index_name_mapper(graph, df):\n",
    "\tret = {}\n",
    "\tnode_count = 0\n",
    "\troot = graph.roots[0]\n",
    "\tnode_gen = graph.roots[0].traverse()\n",
    "\ttry:\n",
    "\t\twhile root.callpath != None:\n",
    "\t\t\tnode_count += 1\n",
    "\t\t\troot = next(node_gen)\n",
    "\t\t\tret[root.callpath[-1]] = root.df_index\n",
    "\texcept StopIteration:\n",
    "\t\tpass\n",
    "\tfinally:\n",
    "\t\tprint(\"Total nodes in graph: \", node_count)\n",
    "\t\tdel root\n",
    "\treturn ret\n",
    "\n",
    "# add df_index to the dataframe\n",
    "def add_df_index(gf):\n",
    "\tdf_index_name_map = df_index_name_mapper(gf.graph, gf.dataframe)\n",
    "\tgf.dataframe['df_index'] = gf.dataframe['name'].apply(lambda node: df_index_name_map[node] if node in df_index_name_map else 'as ')   "
   ]
  },
  {
   "cell_type": "code",
   "execution_count": 11,
   "metadata": {},
   "outputs": [],
   "source": [
    "# add callee and caller data into the dataframe\n",
    "def add_callers_and_callee(graph, df):\n",
    "\tcallees = {}\n",
    "\tcallers = {}\n",
    "\troot = graph.roots[0]\n",
    "\tnode_gen = graph.roots[0].traverse()\n",
    "\troot_df = root.callpath[-1]\n",
    "\tcallers[root_df] = []\n",
    "\tcallees[root_df] = []\n",
    "\ttry:                                                                                                                        \n",
    "\t\twhile root.callpath != None:                                                                                            \n",
    "\t\t\troot = next(node_gen)                                                                                               \n",
    "\t\t\tif root.parent:                                                                                                     \n",
    "\t\t\t\troot_df = root.callpath[-1]                                                                                     \n",
    "\t\t\t\tparent_df = root.parent.callpath[-1]                                                                            \n",
    "\t\t\t\tif parent_df not in callees:                                                                                    \n",
    "\t\t\t\t\tcallees[parent_df] = []              \n",
    "\t\t\t\tcallees[parent_df].append(root_df)                                                                              \n",
    "\t\t\t\t\t\t\t\t\t\t\t\t\t\t\t\t\t\t\t\t\t\t\t\t\t\t\t\t\t\t\t\t\t\t\n",
    "\t\t\t\tif root_df not in callers:                                                                                      \n",
    "\t\t\t\t\tcallers[root_df] = []                                                                                       \n",
    "\t\t\t\tcallers[root_df].append(parent_df)                                                                              \n",
    "\t\t\t\t\t\t\t\t\t\t\t\t\t\t\t\t\t\t\t\t\t\t\t\t\t\t\t\t\t\t\t\t\t\t\n",
    "\texcept StopIteration:                                                                                                       \n",
    "\t\tpass                                                                                                                    \n",
    "\tfinally:                                                                                                                    \n",
    "\t\tdel root                                                                                                                \n",
    "\t\t\t\t\t\t\t\t\t\t\t\t\t\t\t\t\t\t\t\t\t\t\t\t\t\t\t\t\t\t\t\t\t\t\n",
    "\tdf['callees'] = df['name'].apply(lambda node: callees[node] if node in callees else [])                           \n",
    "\tdf['callers'] = df['name'].apply(lambda node: callers[node] if node in callers else []) "
   ]
  },
  {
   "cell_type": "code",
   "execution_count": 10,
   "metadata": {},
   "outputs": [],
   "source": [
    "#pre-process dataframe to add more information. \n",
    "def preprocess(state):\n",
    "\tpreprocess = PreProcess.Builder(state).add_df_index().add_n_index().add_mod_index().add_path().add_callers_and_callees().add_show_node().add_vis_node_name().update_module_name().clean_lib_monitor().add_max_incTime().add_incTime().add_excTime().add_avg_incTime().add_imbalance_perc().build() \n",
    "\n",
    "\n",
    "#NetworkX stuff.\n",
    "def create_nx_graph(state):\n",
    "\tg = nx.DiGraph()\n",
    "\treturn g"
   ]
  },
  {
   "cell_type": "code",
   "execution_count": 40,
   "metadata": {},
   "outputs": [],
   "source": [
    "def main(dataset_path):\n",
    "\tdataset = []\n",
    "\tfor idx, path in enumerate(dataset_path):\n",
    "\t\tdataset.append(path.split('/')[0])\n",
    "\n",
    "\tgfs = create_gfs('hpctoolkit', dataset_path)\n",
    "\t# filtered graph frames.\n",
    "\tfgfs = filter_gfs(gfs, 'IncTime')  \n",
    "\t\n",
    "\tstates = []\n",
    "\tfor idx, fgf in enumerate(fgfs):\n",
    "\t\tprint(\"Shape of the dataframe from graph ({0}): {1}\".format(dataset[idx], fgf.dataframe.shape))\n",
    "\t\tstate = State(fgf)\n",
    "\t\tpreprocess(state)\n",
    "\t\t#groupBy(state, 'module')\n",
    "\t\t#create_nx_graph(state)\n",
    "\t\tstates.append(state)\n",
    "\treturn states"
   ]
  },
  {
   "cell_type": "code",
   "execution_count": 41,
   "metadata": {},
   "outputs": [
    {
     "name": "stdout",
     "output_type": "stream",
     "text": [
      "Creating graphframes....\n",
      "0:/home/vidi/Work/llnl/CallFlow/data/lulesh-1/db-ampi4-100-1\n",
      "Filtering the dataframe!\n",
      "(185290, 10)\n",
      "[Filter] Removed 184465 rows.)\n",
      "Grafting the graph!\n",
      "[Graft] 825 rows left\n",
      "Shape of the dataframe from graph (data): (825, 10)\n",
      "Total nodes in the graph 114\n"
     ]
    }
   ],
   "source": [
    "dataset_path = [\"data/lulesh-1/db-ampi4-100-1\"]\n",
    "states = main(dataset_path)"
   ]
  },
  {
   "cell_type": "code",
   "execution_count": 21,
   "metadata": {},
   "outputs": [],
   "source": [
    "props = {\n",
    "    \"lulesh2.0\" :{\n",
    "        \"name\" : \"lulesh\",\n",
    "        \"files\" : [ \"mpi-linux-x86_64-ifort-mpicxx/tmp/\", \"mpi-linux-x86_64-ifort-mpicxx/\", \"mpi-linux-x86_64-ifort-mpicxx/tmp/libs/ck-libs/\", \"mpi-linux-x86_64-ifort-mpicxx/tmp/libs/conv-libs/\"],\n",
    "        \"functions\" : [] \n",
    "    },\n",
    "    \"libmpi.so.12.0.5\" :{\n",
    "        \"name\" : \"MPI\",\n",
    "        \"files\" : [\"../src/mpi/\"],\n",
    "        \"functions\" : []\n",
    "    }\n",
    "}"
   ]
  },
  {
   "cell_type": "code",
   "execution_count": 23,
   "metadata": {},
   "outputs": [],
   "source": [
    "def groupby(df, keys, metric = 'mean'):\n",
    "    # Groups data by the keys provided\n",
    "    groups = df.groupby(keys)\n",
    "    measure = getattr(groups, metric)\n",
    "    data = measure() \n",
    "    return data"
   ]
  },
  {
   "cell_type": "code",
   "execution_count": 68,
   "metadata": {},
   "outputs": [
    {
     "name": "stdout",
     "output_type": "stream",
     "text": [
      "node                  rank\n",
      "<partial call paths>  0.00    False\n",
      "                      1.00    False\n",
      "                      2.00    False\n",
      "                      3.00    False\n",
      "                      4.00    False\n",
      "                              ...  \n",
      "Loop@lulesh.cc:2327   0.00    False\n",
      "                      2.00    False\n",
      "                      4.00    False\n",
      "                      5.00    False\n",
      "                      6.00    False\n",
      "Name: file, Length: 825, dtype: bool\n",
      "node                  rank\n",
      "<partial call paths>  0.00    False\n",
      "                      1.00    False\n",
      "                      2.00    False\n",
      "                      3.00    False\n",
      "                      4.00    False\n",
      "                              ...  \n",
      "Loop@lulesh.cc:2327   0.00    False\n",
      "                      2.00    False\n",
      "                      4.00    False\n",
      "                      5.00    False\n",
      "                      6.00    False\n",
      "Name: file, Length: 825, dtype: bool\n",
      "['<unknown load module>', 'libc-2.17.so', 'lulesh', 'Unkno']\n",
      "['Loop@lulesh.cc:2790', 'Loop@lulesh.cc:550', 'Loop@lulesh.cc:1038', 'Stmt39229@lulesh.cc:1051', 'Stmt39230@lulesh.cc:1052', 'Stmt39231@lulesh.cc:1053', 'Stmt39232@lulesh.cc:1054', 'Stmt39233@lulesh.cc:1055', 'Stmt39234@lulesh.cc:1056', 'Loop@lulesh.cc:811', 'Loop@lulesh.cc:824', 'Stmt39391@<unknown file>:0', 'Stmt39393@<unknown file>:0', 'Stmt39394@<unknown file>:0', 'Stmt39395@<unknown file>:0', 'Stmt39396@<unknown file>:0', 'Stmt39397@<unknown file>:0', 'Loop@lulesh.cc:1539', 'Loop@lulesh.cc:1647', 'Loop@lulesh.cc:1964', 'Loop@lulesh.cc:1799', 'Loop@lulesh.cc:2429', 'Loop@lulesh.cc:2267', 'Loop@lulesh.cc:2272', 'Stmt44918@lulesh.cc:2274', 'Stmt44919@lulesh.cc:2275', 'Stmt44920@lulesh.cc:2276', 'Stmt44921@lulesh.cc:2277', 'Stmt44922@lulesh.cc:2278', 'Loop@lulesh.cc:2283', 'Stmt44942@lulesh.cc:2286', 'Loop@lulesh.cc:2294', 'Stmt44952@lulesh.cc:2296', 'Loop@lulesh.cc:2092', 'Stmt44976@lulesh.cc:2093', 'Loop@lulesh.cc:2052', 'Stmt44994@lulesh.cc:2055', 'Loop@lulesh.cc:2059', 'Stmt45013@lulesh.cc:2067', 'Loop@lulesh.cc:2105', 'Stmt45040@lulesh.cc:2126', 'Stmt45057@lulesh.cc:2055', 'Stmt45076@lulesh.cc:2067', 'Loop@lulesh.cc:2146', 'Stmt45095@lulesh.cc:2155', 'Stmt45111@lulesh.cc:2055', 'Stmt45129@lulesh.cc:2067', 'Loop@lulesh.cc:2183', 'Stmt45146@lulesh.cc:2187', 'Loop@lulesh.cc:2327']\n",
      "                                     CPUTIME (usec) (I)  CPUTIME (usec) (E)  \\\n",
      "name                           rank                                           \n",
      "<partial call paths>           0.00      107,278,148.00                0.00   \n",
      "                               1.00       65,437,198.00                0.00   \n",
      "                               2.00      103,163,693.00                0.00   \n",
      "                               3.00       65,043,289.00                0.00   \n",
      "                               4.00      107,708,549.00                0.00   \n",
      "...                                                 ...                 ...   \n",
      "void Release<double>(double**) 5.00        1,373,593.00                0.00   \n",
      "                               6.00        1,328,195.50                0.00   \n",
      "                               7.00        1,399,581.33                0.00   \n",
      "                               8.00        1,352,132.40                0.00   \n",
      "                               9.00        1,380,308.33                0.00   \n",
      "\n",
      "                                                         df_index  n_index  \\\n",
      "name                           rank                                          \n",
      "<partial call paths>           0.00 -2,427,197,657,630,123,008.00     0.00   \n",
      "                               1.00 -2,427,197,657,630,123,008.00     0.00   \n",
      "                               2.00 -2,427,197,657,630,123,008.00     0.00   \n",
      "                               3.00 -2,427,197,657,630,123,008.00     0.00   \n",
      "                               4.00 -2,427,197,657,630,123,008.00     0.00   \n",
      "...                                                           ...      ...   \n",
      "void Release<double>(double**) 5.00  7,272,507,737,051,102,208.00    37.50   \n",
      "                               6.00  7,272,507,737,051,102,208.00    37.50   \n",
      "                               7.00  7,272,507,737,051,102,208.00    37.50   \n",
      "                               8.00  7,272,507,737,051,102,208.00    39.00   \n",
      "                               9.00  7,272,507,737,051,102,208.00    37.50   \n",
      "\n",
      "                                     mod_index  show_node    max_incTime  \\\n",
      "name                           rank                                        \n",
      "<partial call paths>           0.00       2.00       True 108,164,217.00   \n",
      "                               1.00       2.00       True 108,164,217.00   \n",
      "                               2.00       2.00       True 108,164,217.00   \n",
      "                               3.00       2.00       True 108,164,217.00   \n",
      "                               4.00       2.00       True 108,164,217.00   \n",
      "...                                        ...        ...            ...   \n",
      "void Release<double>(double**) 5.00       1.00       True   2,068,419.00   \n",
      "                               6.00       1.00       True   2,068,419.00   \n",
      "                               7.00       1.00       True   2,068,419.00   \n",
      "                               8.00       1.00       True   2,068,419.00   \n",
      "                               9.00       1.00       True   2,068,419.00   \n",
      "\n",
      "                                      avg_incTime  imbalance_perc  \n",
      "name                           rank                                \n",
      "<partial call paths>           0.00 85,963,565.20            0.21  \n",
      "                               1.00 85,963,565.20            0.21  \n",
      "                               2.00 85,963,565.20            0.21  \n",
      "                               3.00 85,963,565.20            0.21  \n",
      "                               4.00 85,963,565.20            0.21  \n",
      "...                                           ...             ...  \n",
      "void Release<double>(double**) 5.00  1,368,740.48            0.34  \n",
      "                               6.00  1,368,740.48            0.34  \n",
      "                               7.00  1,368,740.48            0.34  \n",
      "                               8.00  1,368,740.48            0.34  \n",
      "                               9.00  1,368,740.48            0.34  \n",
      "\n",
      "[688 rows x 9 columns]\n"
     ]
    },
    {
     "name": "stderr",
     "output_type": "stream",
     "text": [
      "/usr/local/lib/python3.6/dist-packages/ipykernel_launcher.py:3: FutureWarning: 'rank' is both a column name and an index level.\n",
      "Defaulting to column but this will raise an ambiguity error in a future version\n",
      "  This is separate from the ipykernel package so we can avoid doing imports until\n"
     ]
    }
   ],
   "source": [
    "df = states[0].df\n",
    "\n",
    "def rename_module_names(df, props):\n",
    "    module_names = list(props.keys())\n",
    "    for module_name in module_names:\n",
    "        rename_to = props[module_name]['name']\n",
    "        files = props[module_name]['files']\n",
    "        function = props[module_name]['functions']\n",
    "        for idx, row in df.iterrows():\n",
    "            if row.module:\n",
    "                if(row.module == module_name):\n",
    "                    df.set_value(idx, 'module', rename_to)\n",
    "                else:\n",
    "                    pass\n",
    "                \n",
    "        print(df['file'].str.contains(files[0], regex=True))\n",
    "\n",
    "    print(df['module'].unique().tolist())\n",
    "\n",
    "\n",
    "rename_module_names(df, props)\n",
    "print(df[df['module']=='Unkno']['name'].unique().tolist())\n",
    "group_df = groupby(df, ['name', 'rank'])\n",
    "print(group_df)\n",
    "for idx, row in df.iterrows():\n",
    "    pass"
   ]
  },
  {
   "cell_type": "code",
   "execution_count": null,
   "metadata": {},
   "outputs": [],
   "source": []
  }
 ],
 "metadata": {
  "kernelspec": {
   "display_name": "Python 3",
   "language": "python",
   "name": "python3"
  },
  "language_info": {
   "codemirror_mode": {
    "name": "ipython",
    "version": 3
   },
   "file_extension": ".py",
   "mimetype": "text/x-python",
   "name": "python",
   "nbconvert_exporter": "python",
   "pygments_lexer": "ipython3",
   "version": "3.6.7"
  }
 },
 "nbformat": 4,
 "nbformat_minor": 2
}
