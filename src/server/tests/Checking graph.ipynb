{
 "cells": [
  {
   "cell_type": "code",
   "execution_count": 4,
   "metadata": {},
   "outputs": [],
   "source": [
    "from hatchet import *\n",
    "import pandas as pd\n",
    "import json"
   ]
  },
  {
   "cell_type": "code",
   "execution_count": 40,
   "metadata": {},
   "outputs": [
    {
     "name": "stdout",
     "output_type": "stream",
     "text": [
      "{'impi': <hatchet.graphframe.GraphFrame object at 0x7f28f38f6e10>, 'mvapich2': <hatchet.graphframe.GraphFrame object at 0x7f28f3874198>}\n"
     ]
    }
   ],
   "source": [
    "path = \"/home/vidi/Work/llnl/CallFlow/data/kripke/\"\n",
    "datasets = ['impi', 'mvapich2']\n",
    "\n",
    "graph_files = {}\n",
    "df_files = {}\n",
    "graph_file = 'graph.json'\n",
    "for dataset in datasets:\n",
    "    graph_files[dataset] = path + dataset + '/' + graph_file\n",
    "    \n",
    "df_file = 'df.csv'\n",
    "for dataset in datasets:\n",
    "    df_files[dataset] = path + dataset + '/' + df_file\n",
    "    \n",
    "gfs = {}\n",
    "for idx, dataset in enumerate(graph_files):\n",
    "    with open(graph_files[dataset], 'r') as graphFile:\n",
    "        data = json.load(graphFile)\n",
    "        gf = GraphFrame()\n",
    "        gf.from_literal(data)\n",
    "        gfs[dataset] = gf\n",
    "        gfs[dataset].df = pd.read_csv(df_files[dataset])\n",
    "print(gfs)"
   ]
  },
  {
   "cell_type": "code",
   "execution_count": 98,
   "metadata": {},
   "outputs": [],
   "source": [
    "graph = gfs['impi'].graph\n",
    "df = gfs['impi'].df"
   ]
  },
  {
   "cell_type": "code",
   "execution_count": 23,
   "metadata": {},
   "outputs": [],
   "source": [
    "def dfs(graph, limit):\n",
    "    \n",
    "    def dfs_recurse(root):\n",
    "        for node in root.children:\n",
    "#             if(level < limit):\n",
    "            print(\"Node : \", node)\n",
    "            dfs_recurse(node)\n",
    "        \n",
    "    for root in graph.roots:\n",
    "        dfs_recurse(root)"
   ]
  },
  {
   "cell_type": "code",
   "execution_count": 100,
   "metadata": {},
   "outputs": [],
   "source": [
    "class GroupNode:\n",
    "    def __init__(self, module):\n",
    "        self.module = module\n",
    "        \n",
    "    def add_properties(self, nid, callpath_tuple, parent):\n",
    "        self.n_propertiesadd\n",
    "        self.module = module\n",
    "        self.callpath = callpath_tuple\n",
    "        \n",
    "        self.parents = []\n",
    "        if parent is not None:\n",
    "            self.add_parent(parent)\n",
    "        self.children = []\n",
    "        self.entry_funcs = []\n",
    "        self.inner_nodes = []\n",
    "\n",
    "    def add_parent(self, node):\n",
    "        assert isinstance(node, groupNode)\n",
    "        self.parents.append(node)\n",
    "\n",
    "    def add_child(self, node):\n",
    "        assert isinstance(node, groupNode)\n",
    "        self.children.append(node)\n",
    "\n",
    "    def add_entry_funcs(self, node):\n",
    "        assert isinstance(node, Node)\n",
    "        self.entry_funcs.append(node)\n",
    "\n",
    "    def __str__(self):\n",
    "        \"\"\" Returns a string representation of the node.\n",
    "        \"\"\"\n",
    "        return 'nid: {0}, number_of_parents: {1}, number_of_children: {2}, entry_funcs: {3}'.format(self.nid, len(self.parents), len(self.children), len(self.entry_funcs))\n"
   ]
  },
  {
   "cell_type": "code",
   "execution_count": 93,
   "metadata": {},
   "outputs": [],
   "source": [
    "class groupGraph:\n",
    "    \"\"\" A group node in the call graph.\n",
    "    \"\"\"\n",
    "    def __init__(self):\n",
    "        self.nodes = {}\n",
    "        self.inner_nodes = []\n",
    "\n",
    "    def add_module_name(self, name):\n",
    "        self.modules.append(name)\n",
    "        \n",
    "    def add_group_node(self, node, name):\n",
    "        assert isinstance(node, groupNode)\n",
    "        self.nodes[name] = node"
   ]
  },
  {
   "cell_type": "code",
   "execution_count": 72,
   "metadata": {},
   "outputs": [],
   "source": [
    "def create_group_path(path):\n",
    "    group_path = []\n",
    "    temp = None\n",
    "    for i, elem in enumerate(path):\n",
    "        elem_df = df.loc[df.name == elem]\n",
    "        if(elem_df.empty):\n",
    "            grouping = 'Unkno'\n",
    "        else:\n",
    "            grouping = elem_df['module'].unique()[0]\n",
    "        if temp == None or grouping != temp:\n",
    "            group_path.append(grouping)\n",
    "            temp = grouping\n",
    "    return tuple(group_path)"
   ]
  },
  {
   "cell_type": "code",
   "execution_count": 82,
   "metadata": {},
   "outputs": [],
   "source": [
    "# Assign a \"Module\" name to a given hatchet node. \n",
    "def group_by_name(df, node):\n",
    "    # start = time.time()\n",
    "    df = df.loc[df.name == node.callpath[-1]]\n",
    "    unique_modules = df['module'].unique()\n",
    "    if(len(unique_modules) == 1):\n",
    "        return unique_modules[0]\n",
    "    elif(len(unique_modules) == 0): \n",
    "        return 'Unkno'\n",
    "    else:\n",
    "        print('Error! Multiple modules for a node.')\n",
    "        return None"
   ]
  },
  {
   "cell_type": "code",
   "execution_count": 103,
   "metadata": {},
   "outputs": [
    {
     "ename": "TypeError",
     "evalue": "'groupNode' object is not callable",
     "output_type": "error",
     "traceback": [
      "\u001b[0;31m---------------------------------------------------------------------------\u001b[0m",
      "\u001b[0;31mTypeError\u001b[0m                                 Traceback (most recent call last)",
      "\u001b[0;32m<ipython-input-103-6d1cee6db206>\u001b[0m in \u001b[0;36m<module>\u001b[0;34m\u001b[0m\n\u001b[1;32m      3\u001b[0m \u001b[0mg_graph\u001b[0m \u001b[0;34m=\u001b[0m \u001b[0mgroupGraph\u001b[0m\u001b[0;34m(\u001b[0m\u001b[0;34m)\u001b[0m\u001b[0;34m\u001b[0m\u001b[0;34m\u001b[0m\u001b[0m\n\u001b[1;32m      4\u001b[0m \u001b[0;32mfor\u001b[0m \u001b[0midx\u001b[0m\u001b[0;34m,\u001b[0m \u001b[0mmodule\u001b[0m \u001b[0;32min\u001b[0m \u001b[0menumerate\u001b[0m\u001b[0;34m(\u001b[0m\u001b[0mmodules\u001b[0m\u001b[0;34m)\u001b[0m\u001b[0;34m:\u001b[0m\u001b[0;34m\u001b[0m\u001b[0;34m\u001b[0m\u001b[0m\n\u001b[0;32m----> 5\u001b[0;31m     \u001b[0mmodule_groupNode\u001b[0m \u001b[0;34m=\u001b[0m \u001b[0mgroupNode\u001b[0m\u001b[0;34m(\u001b[0m\u001b[0mmodule\u001b[0m\u001b[0;34m)\u001b[0m\u001b[0;34m\u001b[0m\u001b[0;34m\u001b[0m\u001b[0m\n\u001b[0m\u001b[1;32m      6\u001b[0m     \u001b[0mg_graph\u001b[0m\u001b[0;34m.\u001b[0m\u001b[0madd_group_node\u001b[0m\u001b[0;34m(\u001b[0m\u001b[0mmodule_groupNode\u001b[0m\u001b[0;34m,\u001b[0m \u001b[0mmodule\u001b[0m\u001b[0;34m)\u001b[0m\u001b[0;34m\u001b[0m\u001b[0;34m\u001b[0m\u001b[0m\n\u001b[1;32m      7\u001b[0m \u001b[0;34m\u001b[0m\u001b[0m\n",
      "\u001b[0;31mTypeError\u001b[0m: 'groupNode' object is not callable"
     ]
    }
   ],
   "source": [
    "modules = df['module'].unique()\n",
    "\n",
    "g_graph = groupGraph()\n",
    "for idx, module in enumerate(modules):\n",
    "    module_groupNode = groupNode(module)\n",
    "    g_graph.add_group_node(module_groupNode, module)\n",
    "\n",
    "print(g_graph.nodes)"
   ]
  },
  {
   "cell_type": "code",
   "execution_count": 96,
   "metadata": {},
   "outputs": [
    {
     "ename": "TypeError",
     "evalue": "'groupNode' object is not callable",
     "output_type": "error",
     "traceback": [
      "\u001b[0;31m---------------------------------------------------------------------------\u001b[0m",
      "\u001b[0;31mTypeError\u001b[0m                                 Traceback (most recent call last)",
      "\u001b[0;32m<ipython-input-96-cdeac9fdc347>\u001b[0m in \u001b[0;36m<module>\u001b[0;34m\u001b[0m\n\u001b[1;32m      3\u001b[0m \u001b[0mg_graph\u001b[0m \u001b[0;34m=\u001b[0m \u001b[0mgroupGraph\u001b[0m\u001b[0;34m(\u001b[0m\u001b[0;34m)\u001b[0m\u001b[0;34m\u001b[0m\u001b[0;34m\u001b[0m\u001b[0m\n\u001b[1;32m      4\u001b[0m \u001b[0;32mfor\u001b[0m \u001b[0midx\u001b[0m\u001b[0;34m,\u001b[0m \u001b[0mmodule\u001b[0m \u001b[0;32min\u001b[0m \u001b[0menumerate\u001b[0m\u001b[0;34m(\u001b[0m\u001b[0mmodules\u001b[0m\u001b[0;34m)\u001b[0m\u001b[0;34m:\u001b[0m\u001b[0;34m\u001b[0m\u001b[0;34m\u001b[0m\u001b[0m\n\u001b[0;32m----> 5\u001b[0;31m     \u001b[0mmodule_groupNode\u001b[0m \u001b[0;34m=\u001b[0m \u001b[0mgroupNode\u001b[0m\u001b[0;34m(\u001b[0m\u001b[0mmodule\u001b[0m\u001b[0;34m)\u001b[0m\u001b[0;34m\u001b[0m\u001b[0;34m\u001b[0m\u001b[0m\n\u001b[0m\u001b[1;32m      6\u001b[0m     \u001b[0mg_graph\u001b[0m\u001b[0;34m.\u001b[0m\u001b[0madd_group_node\u001b[0m\u001b[0;34m(\u001b[0m\u001b[0mmodule_groupNode\u001b[0m\u001b[0;34m,\u001b[0m \u001b[0mmodule\u001b[0m\u001b[0;34m)\u001b[0m\u001b[0;34m\u001b[0m\u001b[0;34m\u001b[0m\u001b[0m\n\u001b[1;32m      7\u001b[0m \u001b[0;34m\u001b[0m\u001b[0m\n",
      "\u001b[0;31mTypeError\u001b[0m: 'groupNode' object is not callable"
     ]
    }
   ],
   "source": [
    "for root in graph.roots:\n",
    "    node_gen = root.traverse()\n",
    "    new_name = group_by_name(df, root)\n",
    "    new_callpath = create_group_path(root.callpath)\n",
    "    hatchet_hash = df.loc[df.name == root.callpath[-1]]['node'].unique()\n",
    "    \n",
    "    count = 0\n",
    "    \n",
    "    groupNode = g_graph.nodes[new_name]\n",
    "    print(groupNode)\n",
    "    new_group_node = groupNode.add(count, new_callpath, None)\n",
    "    new_group_node.add_entry_funcs(root)\n",
    "    \n",
    "    try: \n",
    "        while root.callpath != None:\n",
    "            root = next(node_gen)\n",
    "            new_name = group_by_name(df, root)\n",
    "            new_callpath = create_group_path(root.callpath)\n",
    "            hatchet_hash = df.loc[df.name == root.callpath[-1]]['node'].unique()\n",
    "            \n",
    "            new_group_node = groupNode(count, new_name, new_callpath, None)\n",
    "            new_group_node.add_entry_funcs(root)\n",
    "            \n",
    "            print(root, new_name)\n",
    "    except StopIteration:\n",
    "        pass\n",
    "    finally:\n",
    "        del root"
   ]
  }
 ],
 "metadata": {
  "kernelspec": {
   "display_name": "Python 3",
   "language": "python",
   "name": "python3"
  },
  "language_info": {
   "codemirror_mode": {
    "name": "ipython",
    "version": 3
   },
   "file_extension": ".py",
   "mimetype": "text/x-python",
   "name": "python",
   "nbconvert_exporter": "python",
   "pygments_lexer": "ipython3",
   "version": "3.6.7"
  }
 },
 "nbformat": 4,
 "nbformat_minor": 2
}
