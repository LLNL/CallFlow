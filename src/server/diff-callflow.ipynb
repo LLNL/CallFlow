{
 "cells": [
  {
   "cell_type": "code",
   "execution_count": 1,
   "metadata": {
    "scrolled": true
   },
   "outputs": [
    {
     "name": "stderr",
     "output_type": "stream",
     "text": [
      "/Users/jarus/miniconda3/lib/python3.6/site-packages/matplotlib/__init__.py:855: MatplotlibDeprecationWarning: \n",
      "examples.directory is deprecated; in the future, examples will be found relative to the 'datapath' directory.\n",
      "  \"found relative to the 'datapath' directory.\".format(key))\n",
      "/Users/jarus/miniconda3/lib/python3.6/site-packages/matplotlib/__init__.py:846: MatplotlibDeprecationWarning: \n",
      "The text.latex.unicode rcparam was deprecated in Matplotlib 2.2 and will be removed in 3.1.\n",
      "  \"2.2\", name=key, obj_type=\"rcparam\", addendum=addendum)\n",
      "/Users/jarus/miniconda3/lib/python3.6/site-packages/seaborn/apionly.py:9: UserWarning: As seaborn no longer sets a default style on import, the seaborn.apionly module is deprecated. It will be removed in a future version.\n",
      "  warnings.warn(msg, UserWarning)\n"
     ]
    }
   ],
   "source": [
    "import networkx as nx\n",
    "import pandas\n",
    "from hatchet import *\n",
    "import os\n",
    "import matplotlib.pyplot as plt\n",
    "import seaborn.apionly as sns\n",
    "import igraph\n",
    "import platform"
   ]
  },
  {
   "cell_type": "code",
   "execution_count": 2,
   "metadata": {},
   "outputs": [],
   "source": [
    "# libraries for gromov distance computation.\n",
    "import numpy as np\n",
    "import scipy as sp\n",
    "import ot\n",
    "from sklearn.decomposition import PCA\n",
    "#from dim_reduction import incPCA\n",
    "from sklearn import manifold\n",
    "#from grave import plot_network"
   ]
  },
  {
   "cell_type": "code",
   "execution_count": 3,
   "metadata": {},
   "outputs": [],
   "source": [
    "from actions.groupBy import groupBy\n",
    "from state import State\n",
    "from callgraph import CallGraph\n",
    "from preprocess import PreProcess\n",
    "import diff_callflow_states as diff "
   ]
  },
  {
   "cell_type": "code",
   "execution_count": 4,
   "metadata": {},
   "outputs": [],
   "source": [
    "%matplotlib inline"
   ]
  },
  {
   "cell_type": "code",
   "execution_count": 5,
   "metadata": {},
   "outputs": [],
   "source": [
    "pd.options.display.max_rows = 10\n",
    "pd.options.display.float_format = '{:,.2f}'.format\n",
    "plt.rcParams['figure.figsize'] = (16, 12)"
   ]
  },
  {
   "cell_type": "code",
   "execution_count": 6,
   "metadata": {},
   "outputs": [
    {
     "name": "stdout",
     "output_type": "stream",
     "text": [
      "Creating graphframes....\n",
      "0:/Users/jarus/ucd/Research/Visualisation/projects/CallFlow/data/lulesh-1/db-ampi4-100-1\n",
      "1:/Users/jarus/ucd/Research/Visualisation/projects/CallFlow/data/lulesh-1/db-ampi4-100-8\n",
      "Filtering the dataframe!\n",
      "[Filter] Removed 184457 rows.)\n",
      "Grafting the graph!\n",
      "[Graft] 833 rows left\n",
      "Filtering the dataframe!\n",
      "[Filter] Removed 300356 rows.)\n",
      "Grafting the graph!\n",
      "[Graft] 534 rows left\n",
      "Shape of the dataframe from graph (data): (833, 10)\n",
      "Total nodes in the graph 114\n",
      "3.2981510162353516\n",
      "Shape of the dataframe from graph (data): (534, 10)\n",
      "Total nodes in the graph 91\n",
      "2.56158185005188\n"
     ]
    },
    {
     "name": "stderr",
     "output_type": "stream",
     "text": [
      "Process ForkPoolWorker-6:\n",
      "Process ForkPoolWorker-7:\n",
      "Process ForkPoolWorker-8:\n",
      "Process ForkPoolWorker-2:\n",
      "Process ForkPoolWorker-5:\n",
      "Process ForkPoolWorker-1:\n",
      "Process ForkPoolWorker-4:\n",
      "Process ForkPoolWorker-3:\n",
      "Traceback (most recent call last):\n",
      "Traceback (most recent call last):\n",
      "Traceback (most recent call last):\n",
      "Traceback (most recent call last):\n",
      "Traceback (most recent call last):\n",
      "Traceback (most recent call last):\n",
      "Traceback (most recent call last):\n",
      "Traceback (most recent call last):\n",
      "  File \"/Users/jarus/miniconda3/lib/python3.6/multiprocessing/process.py\", line 258, in _bootstrap\n",
      "    self.run()\n",
      "  File \"/Users/jarus/miniconda3/lib/python3.6/multiprocessing/process.py\", line 258, in _bootstrap\n",
      "    self.run()\n",
      "  File \"/Users/jarus/miniconda3/lib/python3.6/multiprocessing/process.py\", line 258, in _bootstrap\n",
      "    self.run()\n",
      "  File \"/Users/jarus/miniconda3/lib/python3.6/multiprocessing/process.py\", line 258, in _bootstrap\n",
      "    self.run()\n",
      "  File \"/Users/jarus/miniconda3/lib/python3.6/multiprocessing/process.py\", line 258, in _bootstrap\n",
      "    self.run()\n",
      "  File \"/Users/jarus/miniconda3/lib/python3.6/multiprocessing/process.py\", line 258, in _bootstrap\n",
      "    self.run()\n",
      "  File \"/Users/jarus/miniconda3/lib/python3.6/multiprocessing/process.py\", line 258, in _bootstrap\n",
      "    self.run()\n",
      "  File \"/Users/jarus/miniconda3/lib/python3.6/multiprocessing/process.py\", line 258, in _bootstrap\n",
      "    self.run()\n",
      "  File \"/Users/jarus/miniconda3/lib/python3.6/multiprocessing/process.py\", line 93, in run\n",
      "    self._target(*self._args, **self._kwargs)\n",
      "  File \"/Users/jarus/miniconda3/lib/python3.6/multiprocessing/process.py\", line 93, in run\n",
      "    self._target(*self._args, **self._kwargs)\n",
      "  File \"/Users/jarus/miniconda3/lib/python3.6/multiprocessing/process.py\", line 93, in run\n",
      "    self._target(*self._args, **self._kwargs)\n",
      "  File \"/Users/jarus/miniconda3/lib/python3.6/multiprocessing/process.py\", line 93, in run\n",
      "    self._target(*self._args, **self._kwargs)\n",
      "  File \"/Users/jarus/miniconda3/lib/python3.6/multiprocessing/process.py\", line 93, in run\n",
      "    self._target(*self._args, **self._kwargs)\n",
      "  File \"/Users/jarus/miniconda3/lib/python3.6/multiprocessing/process.py\", line 93, in run\n",
      "    self._target(*self._args, **self._kwargs)\n",
      "  File \"/Users/jarus/miniconda3/lib/python3.6/multiprocessing/process.py\", line 93, in run\n",
      "    self._target(*self._args, **self._kwargs)\n",
      "  File \"/Users/jarus/miniconda3/lib/python3.6/multiprocessing/process.py\", line 93, in run\n",
      "    self._target(*self._args, **self._kwargs)\n",
      "  File \"/Users/jarus/miniconda3/lib/python3.6/multiprocessing/pool.py\", line 108, in worker\n",
      "    task = get()\n",
      "  File \"/Users/jarus/miniconda3/lib/python3.6/multiprocessing/pool.py\", line 108, in worker\n",
      "    task = get()\n",
      "  File \"/Users/jarus/miniconda3/lib/python3.6/multiprocessing/pool.py\", line 108, in worker\n",
      "    task = get()\n",
      "  File \"/Users/jarus/miniconda3/lib/python3.6/multiprocessing/pool.py\", line 108, in worker\n",
      "    task = get()\n",
      "  File \"/Users/jarus/miniconda3/lib/python3.6/multiprocessing/pool.py\", line 108, in worker\n",
      "    task = get()\n",
      "  File \"/Users/jarus/miniconda3/lib/python3.6/multiprocessing/pool.py\", line 108, in worker\n",
      "    task = get()\n",
      "  File \"/Users/jarus/miniconda3/lib/python3.6/multiprocessing/pool.py\", line 108, in worker\n",
      "    task = get()\n",
      "  File \"/Users/jarus/miniconda3/lib/python3.6/multiprocessing/queues.py\", line 334, in get\n",
      "    with self._rlock:\n",
      "  File \"/Users/jarus/miniconda3/lib/python3.6/multiprocessing/pool.py\", line 108, in worker\n",
      "    task = get()\n",
      "  File \"/Users/jarus/miniconda3/lib/python3.6/multiprocessing/queues.py\", line 334, in get\n",
      "    with self._rlock:\n",
      "  File \"/Users/jarus/miniconda3/lib/python3.6/multiprocessing/queues.py\", line 335, in get\n",
      "    res = self._reader.recv_bytes()\n",
      "  File \"/Users/jarus/miniconda3/lib/python3.6/multiprocessing/queues.py\", line 334, in get\n",
      "    with self._rlock:\n",
      "  File \"/Users/jarus/miniconda3/lib/python3.6/multiprocessing/queues.py\", line 335, in get\n",
      "    res = self._reader.recv_bytes()\n",
      "  File \"/Users/jarus/miniconda3/lib/python3.6/multiprocessing/queues.py\", line 334, in get\n",
      "    with self._rlock:\n",
      "  File \"/Users/jarus/miniconda3/lib/python3.6/multiprocessing/queues.py\", line 334, in get\n",
      "    with self._rlock:\n",
      "  File \"/Users/jarus/miniconda3/lib/python3.6/multiprocessing/synchronize.py\", line 95, in __enter__\n",
      "    return self._semlock.__enter__()\n",
      "  File \"/Users/jarus/miniconda3/lib/python3.6/multiprocessing/queues.py\", line 334, in get\n",
      "    with self._rlock:\n",
      "  File \"/Users/jarus/miniconda3/lib/python3.6/multiprocessing/synchronize.py\", line 95, in __enter__\n",
      "    return self._semlock.__enter__()\n",
      "  File \"/Users/jarus/miniconda3/lib/python3.6/multiprocessing/synchronize.py\", line 95, in __enter__\n",
      "    return self._semlock.__enter__()\n",
      "  File \"/Users/jarus/miniconda3/lib/python3.6/multiprocessing/connection.py\", line 216, in recv_bytes\n",
      "    buf = self._recv_bytes(maxlength)\n",
      "  File \"/Users/jarus/miniconda3/lib/python3.6/multiprocessing/synchronize.py\", line 95, in __enter__\n",
      "    return self._semlock.__enter__()\n",
      "  File \"/Users/jarus/miniconda3/lib/python3.6/multiprocessing/connection.py\", line 216, in recv_bytes\n",
      "    buf = self._recv_bytes(maxlength)\n",
      "  File \"/Users/jarus/miniconda3/lib/python3.6/multiprocessing/synchronize.py\", line 95, in __enter__\n",
      "    return self._semlock.__enter__()\n",
      "KeyboardInterrupt\n",
      "  File \"/Users/jarus/miniconda3/lib/python3.6/multiprocessing/synchronize.py\", line 95, in __enter__\n",
      "    return self._semlock.__enter__()\n",
      "  File \"/Users/jarus/miniconda3/lib/python3.6/multiprocessing/connection.py\", line 407, in _recv_bytes\n",
      "    buf = self._recv(4)\n",
      "KeyboardInterrupt\n",
      "KeyboardInterrupt\n",
      "  File \"/Users/jarus/miniconda3/lib/python3.6/multiprocessing/connection.py\", line 407, in _recv_bytes\n",
      "    buf = self._recv(4)\n",
      "KeyboardInterrupt\n",
      "KeyboardInterrupt\n",
      "KeyboardInterrupt\n",
      "  File \"/Users/jarus/miniconda3/lib/python3.6/multiprocessing/connection.py\", line 379, in _recv\n",
      "    chunk = read(handle, remaining)\n",
      "  File \"/Users/jarus/miniconda3/lib/python3.6/multiprocessing/connection.py\", line 379, in _recv\n",
      "    chunk = read(handle, remaining)\n",
      "KeyboardInterrupt\n",
      "KeyboardInterrupt\n"
     ]
    }
   ],
   "source": [
    "dataset_path = [\"data/lulesh-1/db-ampi4-100-1\", \"data/lulesh-1/db-ampi4-100-8\"]\n",
    "states = diff.main(dataset_path)"
   ]
  },
  {
   "cell_type": "code",
   "execution_count": 7,
   "metadata": {},
   "outputs": [],
   "source": [
    "def getHierarchy(state, module):\n",
    "    df = state.df\n",
    "    paths = []\n",
    "    func_in_module = df.loc[df['module'] == module]['name'].unique().tolist()\n",
    "    print(\"Number of functions inside the {0} module: {1}\".format(module, len(func_in_module)))\n",
    "    for idx, func in enumerate(func_in_module):\n",
    "        mean_inc_time = df.loc[df['name'] == func]['CPUTIME (usec) (I)'].mean()\n",
    "        mean_exc_time = df.loc[df['name'] == func]['CPUTIME (usec) (E)'].mean()\n",
    "        paths.append({\n",
    "            \"module\": module,\n",
    "            \"opath\": df.loc[df['name'] == func]['path'].unique().tolist()[0],\n",
    "            \"path\": df.loc[df['name'] == func]['component_path'].unique().tolist()[0],\n",
    "            \"inc_time\" : df.loc[df['name'] == func]['CPUTIME (usec) (I)'].mean(),\n",
    "            \"exclusive\" : df.loc[df['name'] == func]['CPUTIME (usec) (E)'].mean(),\n",
    "            \"imbalance_perc\" : df.loc[df['name'] == func]['imbalance_perc'].mean(),\n",
    "            \"component_level\": df.loc[df['name'] == func]['component_level'].unique().tolist()[0],\n",
    "        })\n",
    "    return pd.DataFrame(paths)"
   ]
  },
  {
   "cell_type": "code",
   "execution_count": 8,
   "metadata": {},
   "outputs": [
    {
     "name": "stdout",
     "output_type": "stream",
     "text": [
      "In dataset data/lulesh-1/db-ampi4-100-1\n",
      "Number of functions inside the lulesh2.0 module: 32\n",
      "In dataset data/lulesh-1/db-ampi4-100-8\n",
      "Number of functions inside the lulesh2.0 module: 28\n"
     ]
    }
   ],
   "source": [
    "for idx, state in enumerate(states):\n",
    "    print(\"In dataset {0}\".format(dataset_path[idx]))\n",
    "    modules = state.df['module'].unique().tolist()\n",
    "    for idx, module in enumerate(modules):\n",
    "        if module =='lulesh2.0':\n",
    "            paths = getHierarchy(state, module)\n",
    "            state.paths_df = paths \n",
    "            paths.to_csv(str(module + \".csv\"))"
   ]
  },
  {
   "cell_type": "code",
   "execution_count": 9,
   "metadata": {},
   "outputs": [
    {
     "name": "stdout",
     "output_type": "stream",
     "text": [
      "3 ('<partial call paths>', '__correctly_grouped_prefixwc', 'CthStartThread')\n",
      "2 ('lulesh2.0', 'CthStartThread')\n",
      "\n",
      "\n",
      "4 ('<partial call paths>', '__correctly_grouped_prefixwc', 'CthStartThread', '_INTERNAL_8_tcharm_C_22509075::startTCharmThread(TCharmInitMsg*)')\n",
      "3 ('lulesh2.0', 'CthStartThread', '_INTERNAL_8_tcharm_C_22509075::startTCharmThread(TCharmInitMsg*)')\n",
      "\n",
      "\n",
      "5 ('<partial call paths>', '__correctly_grouped_prefixwc', 'CthStartThread', '_INTERNAL_8_tcharm_C_22509075::startTCharmThread(TCharmInitMsg*)', 'AMPI_threadstart')\n",
      "4 ('lulesh2.0', 'CthStartThread', '_INTERNAL_8_tcharm_C_22509075::startTCharmThread(TCharmInitMsg*)', 'AMPI_threadstart')\n",
      "\n",
      "\n",
      "6 ('<partial call paths>', '__correctly_grouped_prefixwc', 'CthStartThread', '_INTERNAL_8_tcharm_C_22509075::startTCharmThread(TCharmInitMsg*)', 'AMPI_threadstart', 'MPI_threadstart_t::start()')\n",
      "5 ('lulesh2.0', 'CthStartThread', '_INTERNAL_8_tcharm_C_22509075::startTCharmThread(TCharmInitMsg*)', 'AMPI_threadstart', 'MPI_threadstart_t::start()')\n",
      "\n",
      "\n",
      "7 ('<partial call paths>', '__correctly_grouped_prefixwc', 'CthStartThread', '_INTERNAL_8_tcharm_C_22509075::startTCharmThread(TCharmInitMsg*)', 'AMPI_threadstart', 'MPI_threadstart_t::start()', 'AMPI_Fallback_Main')\n",
      "6 ('lulesh2.0', 'CthStartThread', '_INTERNAL_8_tcharm_C_22509075::startTCharmThread(TCharmInitMsg*)', 'AMPI_threadstart', 'MPI_threadstart_t::start()', 'AMPI_Fallback_Main')\n",
      "\n",
      "\n",
      "8 ('<partial call paths>', '__correctly_grouped_prefixwc', 'CthStartThread', '_INTERNAL_8_tcharm_C_22509075::startTCharmThread(TCharmInitMsg*)', 'AMPI_threadstart', 'MPI_threadstart_t::start()', 'AMPI_Fallback_Main', 'AMPI_Main_cpp(int, char**)')\n",
      "7 ('lulesh2.0', 'CthStartThread', '_INTERNAL_8_tcharm_C_22509075::startTCharmThread(TCharmInitMsg*)', 'AMPI_threadstart', 'MPI_threadstart_t::start()', 'AMPI_Fallback_Main', 'AMPI_Main_cpp(int, char**)')\n",
      "\n",
      "\n",
      "10 ('<partial call paths>', '__correctly_grouped_prefixwc', 'CthStartThread', '_INTERNAL_8_tcharm_C_22509075::startTCharmThread(TCharmInitMsg*)', 'AMPI_threadstart', 'MPI_threadstart_t::start()', 'AMPI_Fallback_Main', 'AMPI_Main_cpp(int, char**)', 'Loop@lulesh.cc:2790', '_INTERNAL_9_lulesh_cc_07ac9422::LagrangeLeapFrog(Domain&)')\n",
      "8 ('lulesh2.0', 'CthStartThread', '_INTERNAL_8_tcharm_C_22509075::startTCharmThread(TCharmInitMsg*)', 'AMPI_threadstart', 'MPI_threadstart_t::start()', 'AMPI_Fallback_Main', 'AMPI_Main_cpp(int, char**)', '_INTERNAL_9_lulesh_cc_07ac9422::LagrangeLeapFrog(Domain&)')\n",
      "\n",
      "\n",
      "11 ('<partial call paths>', '__correctly_grouped_prefixwc', 'CthStartThread', '_INTERNAL_8_tcharm_C_22509075::startTCharmThread(TCharmInitMsg*)', 'AMPI_threadstart', 'MPI_threadstart_t::start()', 'AMPI_Fallback_Main', 'AMPI_Main_cpp(int, char**)', 'Loop@lulesh.cc:2790', '_INTERNAL_9_lulesh_cc_07ac9422::LagrangeLeapFrog(Domain&)', '_INTERNAL_9_lulesh_cc_07ac9422::LagrangeNodal(Domain&)')\n",
      "9 ('lulesh2.0', 'CthStartThread', '_INTERNAL_8_tcharm_C_22509075::startTCharmThread(TCharmInitMsg*)', 'AMPI_threadstart', 'MPI_threadstart_t::start()', 'AMPI_Fallback_Main', 'AMPI_Main_cpp(int, char**)', '_INTERNAL_9_lulesh_cc_07ac9422::LagrangeLeapFrog(Domain&)', '_INTERNAL_9_lulesh_cc_07ac9422::LagrangeNodal(Domain&)')\n",
      "\n",
      "\n",
      "12 ('<partial call paths>', '__correctly_grouped_prefixwc', 'CthStartThread', '_INTERNAL_8_tcharm_C_22509075::startTCharmThread(TCharmInitMsg*)', 'AMPI_threadstart', 'MPI_threadstart_t::start()', 'AMPI_Fallback_Main', 'AMPI_Main_cpp(int, char**)', 'Loop@lulesh.cc:2790', '_INTERNAL_9_lulesh_cc_07ac9422::LagrangeLeapFrog(Domain&)', '_INTERNAL_9_lulesh_cc_07ac9422::LagrangeNodal(Domain&)', '_INTERNAL_9_lulesh_cc_07ac9422::CalcForceForNodes(Domain&)')\n",
      "10 ('lulesh2.0', 'CthStartThread', '_INTERNAL_8_tcharm_C_22509075::startTCharmThread(TCharmInitMsg*)', 'AMPI_threadstart', 'MPI_threadstart_t::start()', 'AMPI_Fallback_Main', 'AMPI_Main_cpp(int, char**)', '_INTERNAL_9_lulesh_cc_07ac9422::LagrangeLeapFrog(Domain&)', '_INTERNAL_9_lulesh_cc_07ac9422::LagrangeNodal(Domain&)', '_INTERNAL_9_lulesh_cc_07ac9422::CalcForceForNodes(Domain&)')\n",
      "\n",
      "\n",
      "13 ('<partial call paths>', '__correctly_grouped_prefixwc', 'CthStartThread', '_INTERNAL_8_tcharm_C_22509075::startTCharmThread(TCharmInitMsg*)', 'AMPI_threadstart', 'MPI_threadstart_t::start()', 'AMPI_Fallback_Main', 'AMPI_Main_cpp(int, char**)', 'Loop@lulesh.cc:2790', '_INTERNAL_9_lulesh_cc_07ac9422::LagrangeLeapFrog(Domain&)', '_INTERNAL_9_lulesh_cc_07ac9422::LagrangeNodal(Domain&)', '_INTERNAL_9_lulesh_cc_07ac9422::CalcForceForNodes(Domain&)', '_INTERNAL_9_lulesh_cc_07ac9422::CalcVolumeForceForElems(Domain&)')\n",
      "11 ('lulesh2.0', 'CthStartThread', '_INTERNAL_8_tcharm_C_22509075::startTCharmThread(TCharmInitMsg*)', 'AMPI_threadstart', 'MPI_threadstart_t::start()', 'AMPI_Fallback_Main', 'AMPI_Main_cpp(int, char**)', '_INTERNAL_9_lulesh_cc_07ac9422::LagrangeLeapFrog(Domain&)', '_INTERNAL_9_lulesh_cc_07ac9422::LagrangeNodal(Domain&)', '_INTERNAL_9_lulesh_cc_07ac9422::CalcForceForNodes(Domain&)', '_INTERNAL_9_lulesh_cc_07ac9422::CalcVolumeForceForElems(Domain&)')\n",
      "\n",
      "\n",
      "14 ('<partial call paths>', '__correctly_grouped_prefixwc', 'CthStartThread', '_INTERNAL_8_tcharm_C_22509075::startTCharmThread(TCharmInitMsg*)', 'AMPI_threadstart', 'MPI_threadstart_t::start()', 'AMPI_Fallback_Main', 'AMPI_Main_cpp(int, char**)', 'Loop@lulesh.cc:2790', '_INTERNAL_9_lulesh_cc_07ac9422::LagrangeLeapFrog(Domain&)', '_INTERNAL_9_lulesh_cc_07ac9422::LagrangeNodal(Domain&)', '_INTERNAL_9_lulesh_cc_07ac9422::CalcForceForNodes(Domain&)', '_INTERNAL_9_lulesh_cc_07ac9422::CalcVolumeForceForElems(Domain&)', '_INTERNAL_9_lulesh_cc_07ac9422::IntegrateStressForElems(Domain&, double*, double*, double*, double*, int, int)')\n",
      "12 ('lulesh2.0', 'CthStartThread', '_INTERNAL_8_tcharm_C_22509075::startTCharmThread(TCharmInitMsg*)', 'AMPI_threadstart', 'MPI_threadstart_t::start()', 'AMPI_Fallback_Main', 'AMPI_Main_cpp(int, char**)', '_INTERNAL_9_lulesh_cc_07ac9422::LagrangeLeapFrog(Domain&)', '_INTERNAL_9_lulesh_cc_07ac9422::LagrangeNodal(Domain&)', '_INTERNAL_9_lulesh_cc_07ac9422::CalcForceForNodes(Domain&)', '_INTERNAL_9_lulesh_cc_07ac9422::CalcVolumeForceForElems(Domain&)', '_INTERNAL_9_lulesh_cc_07ac9422::IntegrateStressForElems(Domain&, double*, double*, double*, double*, int, int)')\n",
      "\n",
      "\n",
      "16 ('<partial call paths>', '__correctly_grouped_prefixwc', 'CthStartThread', '_INTERNAL_8_tcharm_C_22509075::startTCharmThread(TCharmInitMsg*)', 'AMPI_threadstart', 'MPI_threadstart_t::start()', 'AMPI_Fallback_Main', 'AMPI_Main_cpp(int, char**)', 'Loop@lulesh.cc:2790', '_INTERNAL_9_lulesh_cc_07ac9422::LagrangeLeapFrog(Domain&)', '_INTERNAL_9_lulesh_cc_07ac9422::LagrangeNodal(Domain&)', '_INTERNAL_9_lulesh_cc_07ac9422::CalcForceForNodes(Domain&)', '_INTERNAL_9_lulesh_cc_07ac9422::CalcVolumeForceForElems(Domain&)', '_INTERNAL_9_lulesh_cc_07ac9422::IntegrateStressForElems(Domain&, double*, double*, double*, double*, int, int)', 'Loop@lulesh.cc:550', '_INTERNAL_9_lulesh_cc_07ac9422::CalcElemShapeFunctionDerivatives(double const*, double const*, double const*, double (*) [8], double*)')\n",
      "13 ('lulesh2.0', 'CthStartThread', '_INTERNAL_8_tcharm_C_22509075::startTCharmThread(TCharmInitMsg*)', 'AMPI_threadstart', 'MPI_threadstart_t::start()', 'AMPI_Fallback_Main', 'AMPI_Main_cpp(int, char**)', '_INTERNAL_9_lulesh_cc_07ac9422::LagrangeLeapFrog(Domain&)', '_INTERNAL_9_lulesh_cc_07ac9422::LagrangeNodal(Domain&)', '_INTERNAL_9_lulesh_cc_07ac9422::CalcForceForNodes(Domain&)', '_INTERNAL_9_lulesh_cc_07ac9422::CalcVolumeForceForElems(Domain&)', '_INTERNAL_9_lulesh_cc_07ac9422::IntegrateStressForElems(Domain&, double*, double*, double*, double*, int, int)', '_INTERNAL_9_lulesh_cc_07ac9422::CalcElemShapeFunctionDerivatives(double const*, double const*, double const*, double (*) [8], double*)')\n",
      "\n",
      "\n",
      "16 ('<partial call paths>', '__correctly_grouped_prefixwc', 'CthStartThread', '_INTERNAL_8_tcharm_C_22509075::startTCharmThread(TCharmInitMsg*)', 'AMPI_threadstart', 'MPI_threadstart_t::start()', 'AMPI_Fallback_Main', 'AMPI_Main_cpp(int, char**)', 'Loop@lulesh.cc:2790', '_INTERNAL_9_lulesh_cc_07ac9422::LagrangeLeapFrog(Domain&)', '_INTERNAL_9_lulesh_cc_07ac9422::LagrangeNodal(Domain&)', '_INTERNAL_9_lulesh_cc_07ac9422::CalcForceForNodes(Domain&)', '_INTERNAL_9_lulesh_cc_07ac9422::CalcVolumeForceForElems(Domain&)', '_INTERNAL_9_lulesh_cc_07ac9422::IntegrateStressForElems(Domain&, double*, double*, double*, double*, int, int)', 'Loop@lulesh.cc:550', '_INTERNAL_9_lulesh_cc_07ac9422::CalcElemNodeNormals(double*, double*, double*, double const*, double const*, double const*)')\n",
      "13 ('lulesh2.0', 'CthStartThread', '_INTERNAL_8_tcharm_C_22509075::startTCharmThread(TCharmInitMsg*)', 'AMPI_threadstart', 'MPI_threadstart_t::start()', 'AMPI_Fallback_Main', 'AMPI_Main_cpp(int, char**)', '_INTERNAL_9_lulesh_cc_07ac9422::LagrangeLeapFrog(Domain&)', '_INTERNAL_9_lulesh_cc_07ac9422::LagrangeNodal(Domain&)', '_INTERNAL_9_lulesh_cc_07ac9422::CalcForceForNodes(Domain&)', '_INTERNAL_9_lulesh_cc_07ac9422::CalcVolumeForceForElems(Domain&)', '_INTERNAL_9_lulesh_cc_07ac9422::IntegrateStressForElems(Domain&, double*, double*, double*, double*, int, int)', '_INTERNAL_9_lulesh_cc_07ac9422::CalcElemNodeNormals(double*, double*, double*, double const*, double const*, double const*)')\n",
      "\n",
      "\n",
      "14 ('<partial call paths>', '__correctly_grouped_prefixwc', 'CthStartThread', '_INTERNAL_8_tcharm_C_22509075::startTCharmThread(TCharmInitMsg*)', 'AMPI_threadstart', 'MPI_threadstart_t::start()', 'AMPI_Fallback_Main', 'AMPI_Main_cpp(int, char**)', 'Loop@lulesh.cc:2790', '_INTERNAL_9_lulesh_cc_07ac9422::LagrangeLeapFrog(Domain&)', '_INTERNAL_9_lulesh_cc_07ac9422::LagrangeNodal(Domain&)', '_INTERNAL_9_lulesh_cc_07ac9422::CalcForceForNodes(Domain&)', '_INTERNAL_9_lulesh_cc_07ac9422::CalcVolumeForceForElems(Domain&)', '_INTERNAL_9_lulesh_cc_07ac9422::CalcHourglassControlForElems(Domain&, double*, double)')\n",
      "12 ('lulesh2.0', 'CthStartThread', '_INTERNAL_8_tcharm_C_22509075::startTCharmThread(TCharmInitMsg*)', 'AMPI_threadstart', 'MPI_threadstart_t::start()', 'AMPI_Fallback_Main', 'AMPI_Main_cpp(int, char**)', '_INTERNAL_9_lulesh_cc_07ac9422::LagrangeLeapFrog(Domain&)', '_INTERNAL_9_lulesh_cc_07ac9422::LagrangeNodal(Domain&)', '_INTERNAL_9_lulesh_cc_07ac9422::CalcForceForNodes(Domain&)', '_INTERNAL_9_lulesh_cc_07ac9422::CalcVolumeForceForElems(Domain&)', '_INTERNAL_9_lulesh_cc_07ac9422::CalcHourglassControlForElems(Domain&, double*, double)')\n",
      "\n",
      "\n",
      "16 ('<partial call paths>', '__correctly_grouped_prefixwc', 'CthStartThread', '_INTERNAL_8_tcharm_C_22509075::startTCharmThread(TCharmInitMsg*)', 'AMPI_threadstart', 'MPI_threadstart_t::start()', 'AMPI_Fallback_Main', 'AMPI_Main_cpp(int, char**)', 'Loop@lulesh.cc:2790', '_INTERNAL_9_lulesh_cc_07ac9422::LagrangeLeapFrog(Domain&)', '_INTERNAL_9_lulesh_cc_07ac9422::LagrangeNodal(Domain&)', '_INTERNAL_9_lulesh_cc_07ac9422::CalcForceForNodes(Domain&)', '_INTERNAL_9_lulesh_cc_07ac9422::CalcVolumeForceForElems(Domain&)', '_INTERNAL_9_lulesh_cc_07ac9422::CalcHourglassControlForElems(Domain&, double*, double)', 'Loop@lulesh.cc:1038', '_INTERNAL_9_lulesh_cc_07ac9422::CalcElemVolumeDerivative(double*, double*, double*, double const*, double const*, double const*)')\n",
      "13 ('lulesh2.0', 'CthStartThread', '_INTERNAL_8_tcharm_C_22509075::startTCharmThread(TCharmInitMsg*)', 'AMPI_threadstart', 'MPI_threadstart_t::start()', 'AMPI_Fallback_Main', 'AMPI_Main_cpp(int, char**)', '_INTERNAL_9_lulesh_cc_07ac9422::LagrangeLeapFrog(Domain&)', '_INTERNAL_9_lulesh_cc_07ac9422::LagrangeNodal(Domain&)', '_INTERNAL_9_lulesh_cc_07ac9422::CalcForceForNodes(Domain&)', '_INTERNAL_9_lulesh_cc_07ac9422::CalcVolumeForceForElems(Domain&)', '_INTERNAL_9_lulesh_cc_07ac9422::CalcHourglassControlForElems(Domain&, double*, double)', '_INTERNAL_9_lulesh_cc_07ac9422::CalcElemVolumeDerivative(double*, double*, double*, double const*, double const*, double const*)')\n",
      "\n",
      "\n",
      "15 ('<partial call paths>', '__correctly_grouped_prefixwc', 'CthStartThread', '_INTERNAL_8_tcharm_C_22509075::startTCharmThread(TCharmInitMsg*)', 'AMPI_threadstart', 'MPI_threadstart_t::start()', 'AMPI_Fallback_Main', 'AMPI_Main_cpp(int, char**)', 'Loop@lulesh.cc:2790', '_INTERNAL_9_lulesh_cc_07ac9422::LagrangeLeapFrog(Domain&)', '_INTERNAL_9_lulesh_cc_07ac9422::LagrangeNodal(Domain&)', '_INTERNAL_9_lulesh_cc_07ac9422::CalcForceForNodes(Domain&)', '_INTERNAL_9_lulesh_cc_07ac9422::CalcVolumeForceForElems(Domain&)', '_INTERNAL_9_lulesh_cc_07ac9422::CalcHourglassControlForElems(Domain&, double*, double)', '_INTERNAL_9_lulesh_cc_07ac9422::CalcFBHourglassForceForElems(Domain&, double*, double*, double*, double*, double*, double*, double*, double, int, int)')\n",
      "13 ('lulesh2.0', 'CthStartThread', '_INTERNAL_8_tcharm_C_22509075::startTCharmThread(TCharmInitMsg*)', 'AMPI_threadstart', 'MPI_threadstart_t::start()', 'AMPI_Fallback_Main', 'AMPI_Main_cpp(int, char**)', '_INTERNAL_9_lulesh_cc_07ac9422::LagrangeLeapFrog(Domain&)', '_INTERNAL_9_lulesh_cc_07ac9422::LagrangeNodal(Domain&)', '_INTERNAL_9_lulesh_cc_07ac9422::CalcForceForNodes(Domain&)', '_INTERNAL_9_lulesh_cc_07ac9422::CalcVolumeForceForElems(Domain&)', '_INTERNAL_9_lulesh_cc_07ac9422::CalcHourglassControlForElems(Domain&, double*, double)', '_INTERNAL_9_lulesh_cc_07ac9422::CalcFBHourglassForceForElems(Domain&, double*, double*, double*, double*, double*, double*, double*, double, int, int)')\n",
      "\n",
      "\n",
      "17 ('<partial call paths>', '__correctly_grouped_prefixwc', 'CthStartThread', '_INTERNAL_8_tcharm_C_22509075::startTCharmThread(TCharmInitMsg*)', 'AMPI_threadstart', 'MPI_threadstart_t::start()', 'AMPI_Fallback_Main', 'AMPI_Main_cpp(int, char**)', 'Loop@lulesh.cc:2790', '_INTERNAL_9_lulesh_cc_07ac9422::LagrangeLeapFrog(Domain&)', '_INTERNAL_9_lulesh_cc_07ac9422::LagrangeNodal(Domain&)', '_INTERNAL_9_lulesh_cc_07ac9422::CalcForceForNodes(Domain&)', '_INTERNAL_9_lulesh_cc_07ac9422::CalcVolumeForceForElems(Domain&)', '_INTERNAL_9_lulesh_cc_07ac9422::CalcHourglassControlForElems(Domain&, double*, double)', '_INTERNAL_9_lulesh_cc_07ac9422::CalcFBHourglassForceForElems(Domain&, double*, double*, double*, double*, double*, double*, double*, double, int, int)', 'Loop@lulesh.cc:811', '_INTERNAL_9_lulesh_cc_07ac9422::CalcElemFBHourglassForce(double*, double*, double*, double (*) [4], double, double*, double*, double*)')\n",
      "14 ('lulesh2.0', 'CthStartThread', '_INTERNAL_8_tcharm_C_22509075::startTCharmThread(TCharmInitMsg*)', 'AMPI_threadstart', 'MPI_threadstart_t::start()', 'AMPI_Fallback_Main', 'AMPI_Main_cpp(int, char**)', '_INTERNAL_9_lulesh_cc_07ac9422::LagrangeLeapFrog(Domain&)', '_INTERNAL_9_lulesh_cc_07ac9422::LagrangeNodal(Domain&)', '_INTERNAL_9_lulesh_cc_07ac9422::CalcForceForNodes(Domain&)', '_INTERNAL_9_lulesh_cc_07ac9422::CalcVolumeForceForElems(Domain&)', '_INTERNAL_9_lulesh_cc_07ac9422::CalcHourglassControlForElems(Domain&, double*, double)', '_INTERNAL_9_lulesh_cc_07ac9422::CalcFBHourglassForceForElems(Domain&, double*, double*, double*, double*, double*, double*, double*, double, int, int)', '_INTERNAL_9_lulesh_cc_07ac9422::CalcElemFBHourglassForce(double*, double*, double*, double (*) [4], double, double*, double*, double*)')\n",
      "\n",
      "\n",
      "15 ('<partial call paths>', '__correctly_grouped_prefixwc', 'CthStartThread', '_INTERNAL_8_tcharm_C_22509075::startTCharmThread(TCharmInitMsg*)', 'AMPI_threadstart', 'MPI_threadstart_t::start()', 'AMPI_Fallback_Main', 'AMPI_Main_cpp(int, char**)', 'Loop@lulesh.cc:2790', '_INTERNAL_9_lulesh_cc_07ac9422::LagrangeLeapFrog(Domain&)', '_INTERNAL_9_lulesh_cc_07ac9422::LagrangeNodal(Domain&)', '_INTERNAL_9_lulesh_cc_07ac9422::CalcForceForNodes(Domain&)', '_INTERNAL_9_lulesh_cc_07ac9422::CalcVolumeForceForElems(Domain&)', '_INTERNAL_9_lulesh_cc_07ac9422::CalcHourglassControlForElems(Domain&, double*, double)', 'void Release<double>(double**)')\n",
      "13 ('lulesh2.0', 'CthStartThread', '_INTERNAL_8_tcharm_C_22509075::startTCharmThread(TCharmInitMsg*)', 'AMPI_threadstart', 'MPI_threadstart_t::start()', 'AMPI_Fallback_Main', 'AMPI_Main_cpp(int, char**)', '_INTERNAL_9_lulesh_cc_07ac9422::LagrangeLeapFrog(Domain&)', '_INTERNAL_9_lulesh_cc_07ac9422::LagrangeNodal(Domain&)', '_INTERNAL_9_lulesh_cc_07ac9422::CalcForceForNodes(Domain&)', '_INTERNAL_9_lulesh_cc_07ac9422::CalcVolumeForceForElems(Domain&)', '_INTERNAL_9_lulesh_cc_07ac9422::CalcHourglassControlForElems(Domain&, double*, double)', 'void Release<double>(double**)')\n",
      "\n",
      "\n",
      "11 ('<partial call paths>', '__correctly_grouped_prefixwc', 'CthStartThread', '_INTERNAL_8_tcharm_C_22509075::startTCharmThread(TCharmInitMsg*)', 'AMPI_threadstart', 'MPI_threadstart_t::start()', 'AMPI_Fallback_Main', 'AMPI_Main_cpp(int, char**)', 'Loop@lulesh.cc:2790', '_INTERNAL_9_lulesh_cc_07ac9422::LagrangeLeapFrog(Domain&)', '_INTERNAL_9_lulesh_cc_07ac9422::LagrangeElements(Domain&, int)')\n",
      "9 ('lulesh2.0', 'CthStartThread', '_INTERNAL_8_tcharm_C_22509075::startTCharmThread(TCharmInitMsg*)', 'AMPI_threadstart', 'MPI_threadstart_t::start()', 'AMPI_Fallback_Main', 'AMPI_Main_cpp(int, char**)', '_INTERNAL_9_lulesh_cc_07ac9422::LagrangeLeapFrog(Domain&)', '_INTERNAL_9_lulesh_cc_07ac9422::LagrangeElements(Domain&, int)')\n",
      "\n",
      "\n",
      "12 ('<partial call paths>', '__correctly_grouped_prefixwc', 'CthStartThread', '_INTERNAL_8_tcharm_C_22509075::startTCharmThread(TCharmInitMsg*)', 'AMPI_threadstart', 'MPI_threadstart_t::start()', 'AMPI_Fallback_Main', 'AMPI_Main_cpp(int, char**)', 'Loop@lulesh.cc:2790', '_INTERNAL_9_lulesh_cc_07ac9422::LagrangeLeapFrog(Domain&)', '_INTERNAL_9_lulesh_cc_07ac9422::LagrangeElements(Domain&, int)', '_INTERNAL_9_lulesh_cc_07ac9422::CalcLagrangeElements(Domain&, double*)')\n",
      "10 ('lulesh2.0', 'CthStartThread', '_INTERNAL_8_tcharm_C_22509075::startTCharmThread(TCharmInitMsg*)', 'AMPI_threadstart', 'MPI_threadstart_t::start()', 'AMPI_Fallback_Main', 'AMPI_Main_cpp(int, char**)', '_INTERNAL_9_lulesh_cc_07ac9422::LagrangeLeapFrog(Domain&)', '_INTERNAL_9_lulesh_cc_07ac9422::LagrangeElements(Domain&, int)', '_INTERNAL_9_lulesh_cc_07ac9422::CalcLagrangeElements(Domain&, double*)')\n",
      "\n",
      "\n",
      "13 ('<partial call paths>', '__correctly_grouped_prefixwc', 'CthStartThread', '_INTERNAL_8_tcharm_C_22509075::startTCharmThread(TCharmInitMsg*)', 'AMPI_threadstart', 'MPI_threadstart_t::start()', 'AMPI_Fallback_Main', 'AMPI_Main_cpp(int, char**)', 'Loop@lulesh.cc:2790', '_INTERNAL_9_lulesh_cc_07ac9422::LagrangeLeapFrog(Domain&)', '_INTERNAL_9_lulesh_cc_07ac9422::LagrangeElements(Domain&, int)', '_INTERNAL_9_lulesh_cc_07ac9422::CalcLagrangeElements(Domain&, double*)', 'CalcKinematicsForElems(Domain&, double*, double, int)')\n",
      "11 ('lulesh2.0', 'CthStartThread', '_INTERNAL_8_tcharm_C_22509075::startTCharmThread(TCharmInitMsg*)', 'AMPI_threadstart', 'MPI_threadstart_t::start()', 'AMPI_Fallback_Main', 'AMPI_Main_cpp(int, char**)', '_INTERNAL_9_lulesh_cc_07ac9422::LagrangeLeapFrog(Domain&)', '_INTERNAL_9_lulesh_cc_07ac9422::LagrangeElements(Domain&, int)', '_INTERNAL_9_lulesh_cc_07ac9422::CalcLagrangeElements(Domain&, double*)', 'CalcKinematicsForElems(Domain&, double*, double, int)')\n",
      "\n",
      "\n",
      "15 ('<partial call paths>', '__correctly_grouped_prefixwc', 'CthStartThread', '_INTERNAL_8_tcharm_C_22509075::startTCharmThread(TCharmInitMsg*)', 'AMPI_threadstart', 'MPI_threadstart_t::start()', 'AMPI_Fallback_Main', 'AMPI_Main_cpp(int, char**)', 'Loop@lulesh.cc:2790', '_INTERNAL_9_lulesh_cc_07ac9422::LagrangeLeapFrog(Domain&)', '_INTERNAL_9_lulesh_cc_07ac9422::LagrangeElements(Domain&, int)', '_INTERNAL_9_lulesh_cc_07ac9422::CalcLagrangeElements(Domain&, double*)', 'CalcKinematicsForElems(Domain&, double*, double, int)', 'Loop@lulesh.cc:1539', 'CalcElemVolume(double const*, double const*, double const*)')\n",
      "12 ('lulesh2.0', 'CthStartThread', '_INTERNAL_8_tcharm_C_22509075::startTCharmThread(TCharmInitMsg*)', 'AMPI_threadstart', 'MPI_threadstart_t::start()', 'AMPI_Fallback_Main', 'AMPI_Main_cpp(int, char**)', '_INTERNAL_9_lulesh_cc_07ac9422::LagrangeLeapFrog(Domain&)', '_INTERNAL_9_lulesh_cc_07ac9422::LagrangeElements(Domain&, int)', '_INTERNAL_9_lulesh_cc_07ac9422::CalcLagrangeElements(Domain&, double*)', 'CalcKinematicsForElems(Domain&, double*, double, int)', 'CalcElemVolume(double const*, double const*, double const*)')\n",
      "\n",
      "\n",
      "16 ('<partial call paths>', '__correctly_grouped_prefixwc', 'CthStartThread', '_INTERNAL_8_tcharm_C_22509075::startTCharmThread(TCharmInitMsg*)', 'AMPI_threadstart', 'MPI_threadstart_t::start()', 'AMPI_Fallback_Main', 'AMPI_Main_cpp(int, char**)', 'Loop@lulesh.cc:2790', '_INTERNAL_9_lulesh_cc_07ac9422::LagrangeLeapFrog(Domain&)', '_INTERNAL_9_lulesh_cc_07ac9422::LagrangeElements(Domain&, int)', '_INTERNAL_9_lulesh_cc_07ac9422::CalcLagrangeElements(Domain&, double*)', 'CalcKinematicsForElems(Domain&, double*, double, int)', 'Loop@lulesh.cc:1539', 'CalcElemVolume(double const*, double const*, double const*)', '_INTERNAL_9_lulesh_cc_07ac9422::CalcElemVolume(double, double, double, double, double, double, double, double, double, double, double, double, double, double, double, double, double, double, double, double, double, double, double, double)')\n",
      "13 ('lulesh2.0', 'CthStartThread', '_INTERNAL_8_tcharm_C_22509075::startTCharmThread(TCharmInitMsg*)', 'AMPI_threadstart', 'MPI_threadstart_t::start()', 'AMPI_Fallback_Main', 'AMPI_Main_cpp(int, char**)', '_INTERNAL_9_lulesh_cc_07ac9422::LagrangeLeapFrog(Domain&)', '_INTERNAL_9_lulesh_cc_07ac9422::LagrangeElements(Domain&, int)', '_INTERNAL_9_lulesh_cc_07ac9422::CalcLagrangeElements(Domain&, double*)', 'CalcKinematicsForElems(Domain&, double*, double, int)', 'CalcElemVolume(double const*, double const*, double const*)', '_INTERNAL_9_lulesh_cc_07ac9422::CalcElemVolume(double, double, double, double, double, double, double, double, double, double, double, double, double, double, double, double, double, double, double, double, double, double, double, double)')\n",
      "\n",
      "\n",
      "15 ('<partial call paths>', '__correctly_grouped_prefixwc', 'CthStartThread', '_INTERNAL_8_tcharm_C_22509075::startTCharmThread(TCharmInitMsg*)', 'AMPI_threadstart', 'MPI_threadstart_t::start()', 'AMPI_Fallback_Main', 'AMPI_Main_cpp(int, char**)', 'Loop@lulesh.cc:2790', '_INTERNAL_9_lulesh_cc_07ac9422::LagrangeLeapFrog(Domain&)', '_INTERNAL_9_lulesh_cc_07ac9422::LagrangeElements(Domain&, int)', '_INTERNAL_9_lulesh_cc_07ac9422::CalcLagrangeElements(Domain&, double*)', 'CalcKinematicsForElems(Domain&, double*, double, int)', 'Loop@lulesh.cc:1539', '_INTERNAL_9_lulesh_cc_07ac9422::CalcElemCharacteristicLength(double const*, double const*, double const*, double)')\n",
      "12 ('lulesh2.0', 'CthStartThread', '_INTERNAL_8_tcharm_C_22509075::startTCharmThread(TCharmInitMsg*)', 'AMPI_threadstart', 'MPI_threadstart_t::start()', 'AMPI_Fallback_Main', 'AMPI_Main_cpp(int, char**)', '_INTERNAL_9_lulesh_cc_07ac9422::LagrangeLeapFrog(Domain&)', '_INTERNAL_9_lulesh_cc_07ac9422::LagrangeElements(Domain&, int)', '_INTERNAL_9_lulesh_cc_07ac9422::CalcLagrangeElements(Domain&, double*)', 'CalcKinematicsForElems(Domain&, double*, double, int)', '_INTERNAL_9_lulesh_cc_07ac9422::CalcElemCharacteristicLength(double const*, double const*, double const*, double)')\n",
      "\n",
      "\n",
      "12 ('<partial call paths>', '__correctly_grouped_prefixwc', 'CthStartThread', '_INTERNAL_8_tcharm_C_22509075::startTCharmThread(TCharmInitMsg*)', 'AMPI_threadstart', 'MPI_threadstart_t::start()', 'AMPI_Fallback_Main', 'AMPI_Main_cpp(int, char**)', 'Loop@lulesh.cc:2790', '_INTERNAL_9_lulesh_cc_07ac9422::LagrangeLeapFrog(Domain&)', '_INTERNAL_9_lulesh_cc_07ac9422::LagrangeElements(Domain&, int)', '_INTERNAL_9_lulesh_cc_07ac9422::CalcQForElems(Domain&, double*)')\n",
      "10 ('lulesh2.0', 'CthStartThread', '_INTERNAL_8_tcharm_C_22509075::startTCharmThread(TCharmInitMsg*)', 'AMPI_threadstart', 'MPI_threadstart_t::start()', 'AMPI_Fallback_Main', 'AMPI_Main_cpp(int, char**)', '_INTERNAL_9_lulesh_cc_07ac9422::LagrangeLeapFrog(Domain&)', '_INTERNAL_9_lulesh_cc_07ac9422::LagrangeElements(Domain&, int)', '_INTERNAL_9_lulesh_cc_07ac9422::CalcQForElems(Domain&, double*)')\n",
      "\n",
      "\n",
      "13 ('<partial call paths>', '__correctly_grouped_prefixwc', 'CthStartThread', '_INTERNAL_8_tcharm_C_22509075::startTCharmThread(TCharmInitMsg*)', 'AMPI_threadstart', 'MPI_threadstart_t::start()', 'AMPI_Fallback_Main', 'AMPI_Main_cpp(int, char**)', 'Loop@lulesh.cc:2790', '_INTERNAL_9_lulesh_cc_07ac9422::LagrangeLeapFrog(Domain&)', '_INTERNAL_9_lulesh_cc_07ac9422::LagrangeElements(Domain&, int)', '_INTERNAL_9_lulesh_cc_07ac9422::CalcQForElems(Domain&, double*)', '_INTERNAL_9_lulesh_cc_07ac9422::CalcMonotonicQGradientsForElems(Domain&, double*)')\n",
      "11 ('lulesh2.0', 'CthStartThread', '_INTERNAL_8_tcharm_C_22509075::startTCharmThread(TCharmInitMsg*)', 'AMPI_threadstart', 'MPI_threadstart_t::start()', 'AMPI_Fallback_Main', 'AMPI_Main_cpp(int, char**)', '_INTERNAL_9_lulesh_cc_07ac9422::LagrangeLeapFrog(Domain&)', '_INTERNAL_9_lulesh_cc_07ac9422::LagrangeElements(Domain&, int)', '_INTERNAL_9_lulesh_cc_07ac9422::CalcQForElems(Domain&, double*)', '_INTERNAL_9_lulesh_cc_07ac9422::CalcMonotonicQGradientsForElems(Domain&, double*)')\n",
      "\n",
      "\n",
      "13 ('<partial call paths>', '__correctly_grouped_prefixwc', 'CthStartThread', '_INTERNAL_8_tcharm_C_22509075::startTCharmThread(TCharmInitMsg*)', 'AMPI_threadstart', 'MPI_threadstart_t::start()', 'AMPI_Fallback_Main', 'AMPI_Main_cpp(int, char**)', 'Loop@lulesh.cc:2790', '_INTERNAL_9_lulesh_cc_07ac9422::LagrangeLeapFrog(Domain&)', '_INTERNAL_9_lulesh_cc_07ac9422::LagrangeElements(Domain&, int)', '_INTERNAL_9_lulesh_cc_07ac9422::CalcQForElems(Domain&, double*)', '_INTERNAL_9_lulesh_cc_07ac9422::CalcMonotonicQForElems(Domain&, double*)')\n",
      "11 ('lulesh2.0', 'CthStartThread', '_INTERNAL_8_tcharm_C_22509075::startTCharmThread(TCharmInitMsg*)', 'AMPI_threadstart', 'MPI_threadstart_t::start()', 'AMPI_Fallback_Main', 'AMPI_Main_cpp(int, char**)', '_INTERNAL_9_lulesh_cc_07ac9422::LagrangeLeapFrog(Domain&)', '_INTERNAL_9_lulesh_cc_07ac9422::LagrangeElements(Domain&, int)', '_INTERNAL_9_lulesh_cc_07ac9422::CalcQForElems(Domain&, double*)', '_INTERNAL_9_lulesh_cc_07ac9422::CalcMonotonicQForElems(Domain&, double*)')\n",
      "\n",
      "\n",
      "15 ('<partial call paths>', '__correctly_grouped_prefixwc', 'CthStartThread', '_INTERNAL_8_tcharm_C_22509075::startTCharmThread(TCharmInitMsg*)', 'AMPI_threadstart', 'MPI_threadstart_t::start()', 'AMPI_Fallback_Main', 'AMPI_Main_cpp(int, char**)', 'Loop@lulesh.cc:2790', '_INTERNAL_9_lulesh_cc_07ac9422::LagrangeLeapFrog(Domain&)', '_INTERNAL_9_lulesh_cc_07ac9422::LagrangeElements(Domain&, int)', '_INTERNAL_9_lulesh_cc_07ac9422::CalcQForElems(Domain&, double*)', '_INTERNAL_9_lulesh_cc_07ac9422::CalcMonotonicQForElems(Domain&, double*)', 'Loop@lulesh.cc:1964', '_INTERNAL_9_lulesh_cc_07ac9422::CalcMonotonicQRegionForElems(Domain&, int, double*, double)')\n",
      "12 ('lulesh2.0', 'CthStartThread', '_INTERNAL_8_tcharm_C_22509075::startTCharmThread(TCharmInitMsg*)', 'AMPI_threadstart', 'MPI_threadstart_t::start()', 'AMPI_Fallback_Main', 'AMPI_Main_cpp(int, char**)', '_INTERNAL_9_lulesh_cc_07ac9422::LagrangeLeapFrog(Domain&)', '_INTERNAL_9_lulesh_cc_07ac9422::LagrangeElements(Domain&, int)', '_INTERNAL_9_lulesh_cc_07ac9422::CalcQForElems(Domain&, double*)', '_INTERNAL_9_lulesh_cc_07ac9422::CalcMonotonicQForElems(Domain&, double*)', '_INTERNAL_9_lulesh_cc_07ac9422::CalcMonotonicQRegionForElems(Domain&, int, double*, double)')\n",
      "\n",
      "\n",
      "12 ('<partial call paths>', '__correctly_grouped_prefixwc', 'CthStartThread', '_INTERNAL_8_tcharm_C_22509075::startTCharmThread(TCharmInitMsg*)', 'AMPI_threadstart', 'MPI_threadstart_t::start()', 'AMPI_Fallback_Main', 'AMPI_Main_cpp(int, char**)', 'Loop@lulesh.cc:2790', '_INTERNAL_9_lulesh_cc_07ac9422::LagrangeLeapFrog(Domain&)', '_INTERNAL_9_lulesh_cc_07ac9422::LagrangeElements(Domain&, int)', '_INTERNAL_9_lulesh_cc_07ac9422::ApplyMaterialPropertiesForElems(Domain&, double*)')\n",
      "10 ('lulesh2.0', 'CthStartThread', '_INTERNAL_8_tcharm_C_22509075::startTCharmThread(TCharmInitMsg*)', 'AMPI_threadstart', 'MPI_threadstart_t::start()', 'AMPI_Fallback_Main', 'AMPI_Main_cpp(int, char**)', '_INTERNAL_9_lulesh_cc_07ac9422::LagrangeLeapFrog(Domain&)', '_INTERNAL_9_lulesh_cc_07ac9422::LagrangeElements(Domain&, int)', '_INTERNAL_9_lulesh_cc_07ac9422::ApplyMaterialPropertiesForElems(Domain&, double*)')\n",
      "\n",
      "\n",
      "14 ('<partial call paths>', '__correctly_grouped_prefixwc', 'CthStartThread', '_INTERNAL_8_tcharm_C_22509075::startTCharmThread(TCharmInitMsg*)', 'AMPI_threadstart', 'MPI_threadstart_t::start()', 'AMPI_Fallback_Main', 'AMPI_Main_cpp(int, char**)', 'Loop@lulesh.cc:2790', '_INTERNAL_9_lulesh_cc_07ac9422::LagrangeLeapFrog(Domain&)', '_INTERNAL_9_lulesh_cc_07ac9422::LagrangeElements(Domain&, int)', '_INTERNAL_9_lulesh_cc_07ac9422::ApplyMaterialPropertiesForElems(Domain&, double*)', 'Loop@lulesh.cc:2429', '_INTERNAL_9_lulesh_cc_07ac9422::EvalEOSForElems(Domain&, double*, int, int*, int)')\n",
      "11 ('lulesh2.0', 'CthStartThread', '_INTERNAL_8_tcharm_C_22509075::startTCharmThread(TCharmInitMsg*)', 'AMPI_threadstart', 'MPI_threadstart_t::start()', 'AMPI_Fallback_Main', 'AMPI_Main_cpp(int, char**)', '_INTERNAL_9_lulesh_cc_07ac9422::LagrangeLeapFrog(Domain&)', '_INTERNAL_9_lulesh_cc_07ac9422::LagrangeElements(Domain&, int)', '_INTERNAL_9_lulesh_cc_07ac9422::ApplyMaterialPropertiesForElems(Domain&, double*)', '_INTERNAL_9_lulesh_cc_07ac9422::EvalEOSForElems(Domain&, double*, int, int*, int)')\n",
      "\n",
      "\n",
      "16 ('<partial call paths>', '__correctly_grouped_prefixwc', 'CthStartThread', '_INTERNAL_8_tcharm_C_22509075::startTCharmThread(TCharmInitMsg*)', 'AMPI_threadstart', 'MPI_threadstart_t::start()', 'AMPI_Fallback_Main', 'AMPI_Main_cpp(int, char**)', 'Loop@lulesh.cc:2790', '_INTERNAL_9_lulesh_cc_07ac9422::LagrangeLeapFrog(Domain&)', '_INTERNAL_9_lulesh_cc_07ac9422::LagrangeElements(Domain&, int)', '_INTERNAL_9_lulesh_cc_07ac9422::ApplyMaterialPropertiesForElems(Domain&, double*)', 'Loop@lulesh.cc:2429', '_INTERNAL_9_lulesh_cc_07ac9422::EvalEOSForElems(Domain&, double*, int, int*, int)', 'Loop@lulesh.cc:2267', '_INTERNAL_9_lulesh_cc_07ac9422::CalcEnergyForElems(double*, double*, double*, double*, double*, double*, double*, double*, double*, double*, double*, double*, double*, double, double, double, double, double, double*, double*, double, double, int, int*)')\n",
      "12 ('lulesh2.0', 'CthStartThread', '_INTERNAL_8_tcharm_C_22509075::startTCharmThread(TCharmInitMsg*)', 'AMPI_threadstart', 'MPI_threadstart_t::start()', 'AMPI_Fallback_Main', 'AMPI_Main_cpp(int, char**)', '_INTERNAL_9_lulesh_cc_07ac9422::LagrangeLeapFrog(Domain&)', '_INTERNAL_9_lulesh_cc_07ac9422::LagrangeElements(Domain&, int)', '_INTERNAL_9_lulesh_cc_07ac9422::ApplyMaterialPropertiesForElems(Domain&, double*)', '_INTERNAL_9_lulesh_cc_07ac9422::EvalEOSForElems(Domain&, double*, int, int*, int)', '_INTERNAL_9_lulesh_cc_07ac9422::CalcEnergyForElems(double*, double*, double*, double*, double*, double*, double*, double*, double*, double*, double*, double*, double*, double, double, double, double, double, double*, double*, double, double, int, int*)')\n",
      "\n",
      "\n",
      "17 ('<partial call paths>', '__correctly_grouped_prefixwc', 'CthStartThread', '_INTERNAL_8_tcharm_C_22509075::startTCharmThread(TCharmInitMsg*)', 'AMPI_threadstart', 'MPI_threadstart_t::start()', 'AMPI_Fallback_Main', 'AMPI_Main_cpp(int, char**)', 'Loop@lulesh.cc:2790', '_INTERNAL_9_lulesh_cc_07ac9422::LagrangeLeapFrog(Domain&)', '_INTERNAL_9_lulesh_cc_07ac9422::LagrangeElements(Domain&, int)', '_INTERNAL_9_lulesh_cc_07ac9422::ApplyMaterialPropertiesForElems(Domain&, double*)', 'Loop@lulesh.cc:2429', '_INTERNAL_9_lulesh_cc_07ac9422::EvalEOSForElems(Domain&, double*, int, int*, int)', 'Loop@lulesh.cc:2267', '_INTERNAL_9_lulesh_cc_07ac9422::CalcEnergyForElems(double*, double*, double*, double*, double*, double*, double*, double*, double*, double*, double*, double*, double*, double, double, double, double, double, double*, double*, double, double, int, int*)', '_INTERNAL_9_lulesh_cc_07ac9422::CalcPressureForElems(double*, double*, double*, double*, double*, double*, double, double, double, int, int*)')\n",
      "13 ('lulesh2.0', 'CthStartThread', '_INTERNAL_8_tcharm_C_22509075::startTCharmThread(TCharmInitMsg*)', 'AMPI_threadstart', 'MPI_threadstart_t::start()', 'AMPI_Fallback_Main', 'AMPI_Main_cpp(int, char**)', '_INTERNAL_9_lulesh_cc_07ac9422::LagrangeLeapFrog(Domain&)', '_INTERNAL_9_lulesh_cc_07ac9422::LagrangeElements(Domain&, int)', '_INTERNAL_9_lulesh_cc_07ac9422::ApplyMaterialPropertiesForElems(Domain&, double*)', '_INTERNAL_9_lulesh_cc_07ac9422::EvalEOSForElems(Domain&, double*, int, int*, int)', '_INTERNAL_9_lulesh_cc_07ac9422::CalcEnergyForElems(double*, double*, double*, double*, double*, double*, double*, double*, double*, double*, double*, double*, double*, double, double, double, double, double, double*, double*, double, double, int, int*)', '_INTERNAL_9_lulesh_cc_07ac9422::CalcPressureForElems(double*, double*, double*, double*, double*, double*, double, double, double, int, int*)')\n",
      "\n",
      "\n"
     ]
    }
   ],
   "source": [
    "opath, cpath = states[0].paths_df['opath'].tolist(), states[0].paths_df['path'].tolist()\n",
    "for idx in range(0, len(opath)):\n",
    "    print(len(opath[idx]), opath[idx])\n",
    "    print(len(cpath[idx]), cpath[idx])\n",
    "    print(\"\\n\")"
   ]
  },
  {
   "cell_type": "code",
   "execution_count": 10,
   "metadata": {},
   "outputs": [
    {
     "name": "stdout",
     "output_type": "stream",
     "text": [
      "<class 'pandas.core.frame.DataFrame'> <class 'pandas.core.frame.DataFrame'>\n"
     ]
    },
    {
     "ename": "AttributeError",
     "evalue": "'DataFrame' object has no attribute 'name'",
     "output_type": "error",
     "traceback": [
      "\u001b[0;31m---------------------------------------------------------------------------\u001b[0m",
      "\u001b[0;31mAttributeError\u001b[0m                            Traceback (most recent call last)",
      "\u001b[0;32m<ipython-input-10-3679c55e9e1c>\u001b[0m in \u001b[0;36m<module>\u001b[0;34m\u001b[0m\n\u001b[1;32m      4\u001b[0m \u001b[0mmerged\u001b[0m \u001b[0;34m=\u001b[0m \u001b[0mdf1\u001b[0m\u001b[0;34m.\u001b[0m\u001b[0mmerge\u001b[0m\u001b[0;34m(\u001b[0m\u001b[0mdf2\u001b[0m\u001b[0;34m,\u001b[0m \u001b[0mindicator\u001b[0m\u001b[0;34m=\u001b[0m\u001b[0;32mTrue\u001b[0m\u001b[0;34m,\u001b[0m \u001b[0mhow\u001b[0m\u001b[0;34m=\u001b[0m\u001b[0;34m'outer'\u001b[0m\u001b[0;34m)\u001b[0m\u001b[0;34m\u001b[0m\u001b[0;34m\u001b[0m\u001b[0m\n\u001b[1;32m      5\u001b[0m \u001b[0mmerged\u001b[0m\u001b[0;34m[\u001b[0m\u001b[0mmerged\u001b[0m\u001b[0;34m[\u001b[0m\u001b[0;34m'_merge'\u001b[0m\u001b[0;34m]\u001b[0m \u001b[0;34m==\u001b[0m \u001b[0;34m'right_only'\u001b[0m\u001b[0;34m]\u001b[0m\u001b[0;34m\u001b[0m\u001b[0;34m\u001b[0m\u001b[0m\n\u001b[0;32m----> 6\u001b[0;31m \u001b[0mdiff\u001b[0m \u001b[0;34m=\u001b[0m \u001b[0mset\u001b[0m\u001b[0;34m(\u001b[0m\u001b[0mzip\u001b[0m\u001b[0;34m(\u001b[0m\u001b[0mdf2\u001b[0m\u001b[0;34m.\u001b[0m\u001b[0mname\u001b[0m\u001b[0;34m,\u001b[0m \u001b[0mdf2\u001b[0m\u001b[0;34m.\u001b[0m\u001b[0minc_time\u001b[0m\u001b[0;34m)\u001b[0m\u001b[0;34m)\u001b[0m \u001b[0;34m-\u001b[0m \u001b[0mset\u001b[0m\u001b[0;34m(\u001b[0m\u001b[0mzip\u001b[0m\u001b[0;34m(\u001b[0m\u001b[0mdf1\u001b[0m\u001b[0;34m.\u001b[0m\u001b[0mname\u001b[0m\u001b[0;34m,\u001b[0m \u001b[0mdf1\u001b[0m\u001b[0;34m.\u001b[0m\u001b[0minc_time\u001b[0m\u001b[0;34m)\u001b[0m\u001b[0;34m)\u001b[0m\u001b[0;34m\u001b[0m\u001b[0;34m\u001b[0m\u001b[0m\n\u001b[0m\u001b[1;32m      7\u001b[0m \u001b[0mprint\u001b[0m\u001b[0;34m(\u001b[0m\u001b[0mlen\u001b[0m\u001b[0;34m(\u001b[0m\u001b[0mdiff\u001b[0m\u001b[0;34m)\u001b[0m\u001b[0;34m)\u001b[0m\u001b[0;34m\u001b[0m\u001b[0;34m\u001b[0m\u001b[0m\n",
      "\u001b[0;32m~/miniconda3/lib/python3.6/site-packages/pandas/core/generic.py\u001b[0m in \u001b[0;36m__getattr__\u001b[0;34m(self, name)\u001b[0m\n\u001b[1;32m   4374\u001b[0m             \u001b[0;32mif\u001b[0m \u001b[0mself\u001b[0m\u001b[0;34m.\u001b[0m\u001b[0m_info_axis\u001b[0m\u001b[0;34m.\u001b[0m\u001b[0m_can_hold_identifiers_and_holds_name\u001b[0m\u001b[0;34m(\u001b[0m\u001b[0mname\u001b[0m\u001b[0;34m)\u001b[0m\u001b[0;34m:\u001b[0m\u001b[0;34m\u001b[0m\u001b[0;34m\u001b[0m\u001b[0m\n\u001b[1;32m   4375\u001b[0m                 \u001b[0;32mreturn\u001b[0m \u001b[0mself\u001b[0m\u001b[0;34m[\u001b[0m\u001b[0mname\u001b[0m\u001b[0;34m]\u001b[0m\u001b[0;34m\u001b[0m\u001b[0;34m\u001b[0m\u001b[0m\n\u001b[0;32m-> 4376\u001b[0;31m             \u001b[0;32mreturn\u001b[0m \u001b[0mobject\u001b[0m\u001b[0;34m.\u001b[0m\u001b[0m__getattribute__\u001b[0m\u001b[0;34m(\u001b[0m\u001b[0mself\u001b[0m\u001b[0;34m,\u001b[0m \u001b[0mname\u001b[0m\u001b[0;34m)\u001b[0m\u001b[0;34m\u001b[0m\u001b[0;34m\u001b[0m\u001b[0m\n\u001b[0m\u001b[1;32m   4377\u001b[0m \u001b[0;34m\u001b[0m\u001b[0m\n\u001b[1;32m   4378\u001b[0m     \u001b[0;32mdef\u001b[0m \u001b[0m__setattr__\u001b[0m\u001b[0;34m(\u001b[0m\u001b[0mself\u001b[0m\u001b[0;34m,\u001b[0m \u001b[0mname\u001b[0m\u001b[0;34m,\u001b[0m \u001b[0mvalue\u001b[0m\u001b[0;34m)\u001b[0m\u001b[0;34m:\u001b[0m\u001b[0;34m\u001b[0m\u001b[0;34m\u001b[0m\u001b[0m\n",
      "\u001b[0;31mAttributeError\u001b[0m: 'DataFrame' object has no attribute 'name'"
     ]
    }
   ],
   "source": [
    "df1 = states[0].paths_df\n",
    "df2 = states[1].paths_df\n",
    "print(type(df1), type(df2))\n",
    "merged = df1.merge(df2, indicator=True, how='outer')\n",
    "merged[merged['_merge'] == 'right_only']\n",
    "diff = set(zip(df2.name, df2.inc_time)) - set(zip(df1.name, df1.inc_time))\n",
    "print(len(diff))"
   ]
  },
  {
   "cell_type": "code",
   "execution_count": 10,
   "metadata": {},
   "outputs": [
    {
     "data": {
      "image/png": "[encoded data removed]",
      "text/plain": [
       "<Figure size 576x576 with 3 Axes>"
      ]
     },
     "metadata": {
      "needs_background": "light"
     },
     "output_type": "display_data"
    },
    {
     "data": {
      "image/png": "[encoded data removed]",
      "text/plain": [
       "<Figure size 576x576 with 3 Axes>"
      ]
     },
     "metadata": {
      "needs_background": "light"
     },
     "output_type": "display_data"
    }
   ],
   "source": [
    "# Joint plot of the Inclusive and Exclusive times.\n",
    "df = states[0].df\n",
    "df2 = states[1].df\n",
    "root_max_df = 107348942.00\n",
    "root_max_df2 = 145114370.00\n",
    "sns.jointplot('CPUTIME (usec) (I)', 'CPUTIME (usec) (E)',\n",
    "              df.loc[(df['CPUTIME (usec) (I)'] < 0.10*107348942.00) &\n",
    "                     (df['CPUTIME (usec) (E)'] > 0)],\n",
    "              alpha=.25, marker='.', height=8);\n",
    "sns.jointplot('CPUTIME (usec) (I)', 'CPUTIME (usec) (E)',\n",
    "              df2.loc[(df2['CPUTIME (usec) (I)'] < 0.10*145114370.00) &\n",
    "                     (df2['CPUTIME (usec) (E)'] > 0)],\n",
    "              alpha=.25, marker='.', height=8);"
   ]
  },
  {
   "cell_type": "code",
   "execution_count": 11,
   "metadata": {},
   "outputs": [],
   "source": [
    "def add_paths(state, path_name):\n",
    "    for idx, row in state.df.iterrows():\n",
    "        state.g.add_path(row[path_name])"
   ]
  },
  {
   "cell_type": "code",
   "execution_count": 12,
   "metadata": {},
   "outputs": [],
   "source": [
    "def print_graph(states):\n",
    "    for idx, state in enumerate(states):\n",
    "        print(state.g.nodes())"
   ]
  },
  {
   "cell_type": "code",
   "execution_count": 13,
   "metadata": {},
   "outputs": [],
   "source": [
    "def draw_graph(g):\n",
    "    fig, ax = plt.subplots()\n",
    "    plot_network(g, )\n",
    "    plt.show()\n",
    "    #pos = nx.spectral_layout(g)\n",
    "    #nx.draw_networkx_nodes(g, pos, cmap=plt.get_cmap('jet'), \n",
    "    #                    node_size = 50)\n",
    "    #nx.draw_networkx_edges(g, pos, edge_color='b', arrows=True)\n"
   ]
  },
  {
   "cell_type": "code",
   "execution_count": 14,
   "metadata": {},
   "outputs": [],
   "source": [
    "def add_levels(state):\n",
    "    levelMap = {}\n",
    "    track_level = 0\n",
    "    nodes = state.g.nbunch_iter(state.root)\n",
    "    \n",
    "    for start_node in nodes:\n",
    "        print(\"Start node\", start_node)\n",
    "        active_nodes = [start_node]\n",
    "        levelMap[state.root] = 0\n",
    "        \n",
    "        for edge in nx.edge_dfs(state.g, start_node, 'original'):\n",
    "            #rint(\"Edge {0}\".format(edge))\n",
    "            head_level = None\n",
    "            tail_level = None\n",
    "            head, tail = edge[0], edge[1]\n",
    "            \n",
    "            if head != start_node:\n",
    "                active_nodes.append(head)\n",
    "                \n",
    "            if head in active_nodes and head != start_node and tail in active_nodes:\n",
    "                #rint(\"Cycle\", edge)\n",
    "                edge_data = state.g.get_edge_data(*edge)                                                                             \n",
    "                state.g.add_node(tail+'_')                                                                                           \n",
    "                state.g.add_edge(head, tail+'_', data=edge_data)                                                                     \n",
    "                state.g.node[tail+'_']['name'] = [tail + '_']                                                                        \n",
    "                #state.g.node[tail+'_']['weight'] = state.g.node[tail]['weight']   \n",
    "                state.g.remove_edge(edge[0], edge[1])\n",
    "    return levelMap"
   ]
  },
  {
   "cell_type": "code",
   "execution_count": 15,
   "metadata": {},
   "outputs": [],
   "source": [
    " def flow_map(state):                                                                                                                 \n",
    "        flowMap = {}                                                                                                                    \n",
    "        nodes = state.g.nbunch_iter(state.root)                                                                                           \n",
    "        for start_node in nodes:                                                                                                        \n",
    "            for edge in nx.edge_dfs(state.g, start_node, 'original'):                                                                    \n",
    "                head_level = None                                                                                                       \n",
    "                tail_level = None                                                                                                       \n",
    "                head, tail = self.tailhead(edge)                                                                                        \n",
    "                                                                                                                                        \n",
    "                # Check if there is an existing level mapping for the head node and assign.                                             \n",
    "                if head in self.level_mapping.keys():                                                                                   \n",
    "                    head_level =  self.level_mapping[head]                                                                              \n",
    "                                                                                                                                        \n",
    "                # Check if there is an existing level mapping for the tail node and assign.                                             \n",
    "                if tail in self.level_mapping.keys():                                                                                   \n",
    "                    tail_level = self.level_mapping[tail]                                                                               \n",
    "                                                                                                                                        \n",
    "                flowMap[(edge[0], edge[1])] = (int(head_level), int(tail_level))                                                        \n",
    "        return flowMap "
   ]
  },
  {
   "cell_type": "code",
   "execution_count": 16,
   "metadata": {},
   "outputs": [],
   "source": [
    "def calculate_flows(state):\n",
    "    graph = state.g\n",
    "    ret = {}                                                                                                                                                                                                                                                                          \n",
    "    edges = graph.edges()                                                                                                                                                                                                                                                             \n",
    "    additional_flow = {}                                                                                                                                                                                                                                                              \n",
    "                                                                                                                                                                                                                                                                                          \n",
    "    # Calculates the costs in cycles and aggregates to one node.                                                                                                                                                                                                                      \n",
    "    for edge in edges:                                                                                                                                                                                                                                                                \n",
    "        source = edge[0]                                                                                                                                                                                                                                                              \n",
    "        target = edge[1]                                                                                                                                                                                                                                                              \n",
    "                                                                                                                                                                                                                                                                                          \n",
    "        if source.endswith('_'):                                                                                                                                                                                                                                                      \n",
    "            cycle_node = source                                                                                                                                                                                                                                                       \n",
    "            cycle_node_df = self.state.lookup_with_nodeName(cycle_node[:-1])                                                                                                                                                                                                      \n",
    "            additional_flow[cycle_node] = cycle_node_df['CPUTIME (usec) (I)'].max()                                                                                                                                                                                                   \n",
    "        elif target.endswith('_'):                                                                                                                                                                                                                                                    \n",
    "            cycle_node = target                                                                                                                                                                                                                                                       \n",
    "            cycle_node_df = state.lookup_with_nodeName(cycle_node[:-1])                                                                                                                                                                                                      \n",
    "            additional_flow[cycle_node] = cycle_node_df['CPUTIME (usec) (I)'].max()                                                                                                                                                                                                   \n",
    "                                                                                                                                                                                                                                                                                          \n",
    "    for edge in edges:                                                                                                                                                                                                                                                                \n",
    "        added_flow = 0                                                                                                                                                                                                                                                                \n",
    "        if edge[0].endswith('_'):                                                                                                                                                                                                                                                     \n",
    "            ret[edge] = additional_flow[edge[0]]                                                                                                                                                                                                                                      \n",
    "            continue                                                                                                                                                                                                                                                                  \n",
    "        elif edge[1].endswith('_'):                                                                                                                                                                                                                                                   \n",
    "            ret[edge] = additional_flow[edge[1]]                                                                                                                                                                                                                                      \n",
    "            continue                                                                                                                                                                                                                                                                  \n",
    "        source = state.lookup_with_nodeName(edge[0])                                                                                                                                                                                                                         \n",
    "        target = state.lookup_with_nodeName(edge[1])                                                                                                                                                                                                                         \n",
    "                                                                                                                                                                                                                                                                                          \n",
    "        source_inc = source['CPUTIME (usec) (I)'].max()                                                                                                                                                                                                                               \n",
    "        target_inc = target['CPUTIME (usec) (I)'].max()                                                                         \n",
    "                                                                                                                                                                                                                                                                                          \n",
    "        if source_inc == target_inc:                                                                                                                                                                                                                                                  \n",
    "            ret[edge] = source_inc                                                                                                                                                                                                                                                    \n",
    "        else:                                                                                                                                                                                                                                                                         \n",
    "            ret[edge] = target_inc    \n",
    "    return ret   "
   ]
  },
  {
   "cell_type": "code",
   "execution_count": 17,
   "metadata": {},
   "outputs": [],
   "source": [
    "def add_edge_attributes(state):\n",
    "    capacity_mapping = calculate_flows(state)    \n",
    "    nx.set_edge_attributes(state.g, name='weight', values=capacity_mapping)"
   ]
  },
  {
   "cell_type": "code",
   "execution_count": 18,
   "metadata": {},
   "outputs": [
    {
     "name": "stdout",
     "output_type": "stream",
     "text": [
      "Start node <partial call paths>\n",
      "Start node <partial call paths>\n"
     ]
    }
   ],
   "source": [
    "for idx, state in enumerate(states):\n",
    "    state.g = nx.DiGraph()\n",
    "    state.root = state.lookup_with_node(state.graph.roots[0])['name'][0]\n",
    "    state.rootInc = state.lookup_with_node(state.graph.roots[0])['CPUTIME (usec) (I)'].max()\n",
    "    add_paths(state, 'path')\n",
    "    state.levelMap = add_levels(state)\n",
    "    add_edge_attributes(state)  \n",
    "   # draw_graph(state.g)"
   ]
  },
  {
   "cell_type": "code",
   "execution_count": 19,
   "metadata": {},
   "outputs": [],
   "source": [
    "def generic_map(df, nodes, attr):\n",
    "    ret = {}\n",
    "    for node in nodes:            \n",
    "        if attr == 'CPUTIME (usec) (I)':\n",
    "            ret[node] = df[df['name'] == node][attr].mean()\n",
    "        else:\n",
    "            ret[node] = df[df['name'] == node][attr].unique().tolist()     \n",
    "    return ret"
   ]
  },
  {
   "cell_type": "code",
   "execution_count": 20,
   "metadata": {},
   "outputs": [],
   "source": [
    "def add_node_attributes(state):\n",
    "    module_mapping = generic_map(state.df, state.g.nodes(), 'module')\n",
    "    nx.set_node_attributes(state.g, name='module', values=module_mapping)\n",
    "    \n",
    "    time_mapping = generic_map(state.df, state.g.nodes(), 'CPUTIME (usec) (I)')\n",
    "    nx.set_node_attributes(state.g, name='time', values=time_mapping)"
   ]
  },
  {
   "cell_type": "code",
   "execution_count": 57,
   "metadata": {},
   "outputs": [],
   "source": [
    "def create_flow_matrix(state, module):\n",
    "    g = state.g\n",
    "    add_node_attributes(state)\n",
    "    all_nodes = g.nodes(data=True)\n",
    "    nodes = [x for x,y in g.nodes(data=True) if y['module'] == [module]]\n",
    "    # nodesInModule = filter(lambda (n, d): d['module'] == start_node, g.nodes(data=True))\n",
    "    state.nodeKey = {}\n",
    "    for idx, node in enumerate(all_nodes):\n",
    "        state.nodeKey[node[0]] = idx\n",
    "    \n",
    "    flow_matrix = np.zeros(shape=(len(all_nodes),len(all_nodes)))\n",
    "    flow_matrix.astype(float)\n",
    "\n",
    "    root_inc = g.node[nodes[0]]['time']\n",
    "    \n",
    "    for idx, node in enumerate(nodes):\n",
    "        neighbors = sorted(g[node].items(), key=lambda edge: edge[1]['weight'])\n",
    "        for idx, n in enumerate(neighbors):\n",
    "            sourceKey = int(state.nodeKey[node])\n",
    "#            print(state.df[state.df['node' == n[0]]])\n",
    "            targetKey = int(state.nodeKey[n[0]])\n",
    "            weight = n[1]['weight']\n",
    "            flow_matrix[sourceKey][targetKey] = n[1]['weight']/(1.0*root_inc)\n",
    "    return flow_matrix\n",
    "\n",
    "start_node = 'lulesh2.0'\n",
    "for idx, state in enumerate(states):\n",
    "    state.flow_matrix = create_flow_matrix(state, start_node)\n",
    "    #print(state.flow_matrix)\n",
    "    #plt.matshow(state.flow_matrix)"
   ]
  },
  {
   "cell_type": "code",
   "execution_count": 206,
   "metadata": {},
   "outputs": [],
   "source": [
    "def source_target_to_adj_matrix(arr):\n",
    "    key_map = {}\n",
    "    x_arr = []\n",
    "    for idx, elem in enumerate(arr):\n",
    "        if elem['source'] not in x_arr and elem['source'] not in key_map:\n",
    "            key_map[elem['source']] = len(x_arr)\n",
    "            x_arr.append(elem['source'])\n",
    "        if elem['target'] not in x_arr and elem['target'] not in key_map:\n",
    "            key_map[elem['target']] = len(x_arr)\n",
    "            x_arr.append(elem['target'])\n",
    "            \n",
    "    x, y = len(list(set(x_arr))), len(list(set(x_arr)))\n",
    "    adj_matrix = np.zeros(shape=(x, y))\n",
    "    \n",
    "    for idx, elem in enumerate(arr):\n",
    "        source_elem_pos = key_map[elem['source']]\n",
    "        target_elem_pos = key_map[elem['target']]\n",
    "        adj_matrix[source_elem_pos][target_elem_pos] = elem['weight']\n",
    "    \n",
    "    print(key_map)\n",
    "    return adj_matrix"
   ]
  },
  {
   "cell_type": "code",
   "execution_count": 223,
   "metadata": {},
   "outputs": [],
   "source": [
    "def module_hierarchy(state, module):\n",
    "    g = state.g\n",
    "    hierarchy = nx.Graph()\n",
    "    source_target_data = []\n",
    "    nodes = [x for x,y in g.nodes(data=True) if y['module'] == [module]]\n",
    "    entry_node = nodes[0]\n",
    "    for idx, node in enumerate(nodes):\n",
    "        hierarchy_pd = pd.DataFrame(columns=['source', 'target', 'weight', 'level', 'type'])\n",
    "        neighbors = sorted(g[node].items(), key=lambda edge: edge[1]['weight'])\n",
    "        for idx, n in enumerate(neighbors):\n",
    "            source_node = node\n",
    "            target_node = n[0]\n",
    "            weight = n[1]['weight']\n",
    "            level = idx\n",
    "            curr_module = state.df[state.df['name'] == n[0]]['module'].unique()[0]\n",
    "            #print(n[0], curr_module)\n",
    "            if(curr_module != module):\n",
    "                type_node = 'exit'\n",
    "                level = -1\n",
    "                #print('{0} is an exit node'.format(n[0]))\n",
    "            else:\n",
    "                type_node = 'normal'\n",
    "            source_target_data.append({\n",
    "                \"source\": source_node,\n",
    "                \"target\": target_node,\n",
    "                \"weight\": weight,\n",
    "                \"level\": level,\n",
    "                \"type\": type_node\n",
    "            })\n",
    "    hierarchy_adj_matrix = source_target_to_adj_matrix(source_target_data)\n",
    "    #hierarchy_adj_matrix[1][1] = 0.0\n",
    "    #print(nx.find_cycle(state.hg, orientation=\"original\"))\n",
    "    #print(nx.is_tree(state.hg))\n",
    "    state.hg = nx.from_numpy_matrix(hierarchy_adj_matrix)\n",
    "    state.bfs_tree = nx.maximum_spanning_tree(state.hg)\n",
    "    pos = hierarchy_pos(state.bfs_tree, 1)\n",
    "    nx.draw(state.bfs_tree, pos=pos, with_labels=True)\n",
    "    plt.show()\n",
    "    return source_target_data"
   ]
  },
  {
   "cell_type": "code",
   "execution_count": 224,
   "metadata": {},
   "outputs": [
    {
     "name": "stdout",
     "output_type": "stream",
     "text": [
      "{'CthStartThread': 0, '_INTERNAL_8_tcharm_C_22509075::startTCharmThread(TCharmInitMsg*)': 1, 'AMPI_threadstart': 2, 'MPI_threadstart_t::start()': 3, 'AMPI_Fallback_Main': 4, 'AMPI_Main_cpp(int, char**)': 5, 'Loop@lulesh.cc:2790': 6, '_INTERNAL_9_lulesh_cc_07ac9422::LagrangeLeapFrog(Domain&)': 7, '_INTERNAL_9_lulesh_cc_07ac9422::LagrangeNodal(Domain&)': 8, '_INTERNAL_9_lulesh_cc_07ac9422::LagrangeElements(Domain&, int)': 9, '_INTERNAL_9_lulesh_cc_07ac9422::CalcForceForNodes(Domain&)': 10, '_INTERNAL_9_lulesh_cc_07ac9422::CalcVolumeForceForElems(Domain&)': 11, '_INTERNAL_9_lulesh_cc_07ac9422::IntegrateStressForElems(Domain&, double*, double*, double*, double*, int, int)': 12, '_INTERNAL_9_lulesh_cc_07ac9422::CalcHourglassControlForElems(Domain&, double*, double)': 13, 'Loop@lulesh.cc:550': 14, 'void Release<double>(double**)': 15, '_INTERNAL_9_lulesh_cc_07ac9422::CalcFBHourglassForceForElems(Domain&, double*, double*, double*, double*, double*, double*, double*, double, int, int)': 16, 'Loop@lulesh.cc:1038': 17, 'Loop@lulesh.cc:811': 18, '__munmap': 19, '_INTERNAL_9_lulesh_cc_07ac9422::CalcQForElems(Domain&, double*)': 20, '_INTERNAL_9_lulesh_cc_07ac9422::CalcLagrangeElements(Domain&, double*)': 21, '_INTERNAL_9_lulesh_cc_07ac9422::ApplyMaterialPropertiesForElems(Domain&, double*)': 22, 'CalcKinematicsForElems(Domain&, double*, double, int)': 23, 'Loop@lulesh.cc:1539': 24, 'CalcElemVolume(double const*, double const*, double const*)': 25, '_INTERNAL_9_lulesh_cc_07ac9422::CalcElemVolume(double, double, double, double, double, double, double, double, double, double, double, double, double, double, double, double, double, double, double, double, double, double, double, double)': 26, '_INTERNAL_9_lulesh_cc_07ac9422::CalcMonotonicQGradientsForElems(Domain&, double*)': 27, '_INTERNAL_9_lulesh_cc_07ac9422::CalcMonotonicQForElems(Domain&, double*)': 28, 'Loop@lulesh.cc:1647': 29, 'Loop@lulesh.cc:1964': 30, '_INTERNAL_9_lulesh_cc_07ac9422::CalcMonotonicQRegionForElems(Domain&, int, double*, double)': 31, 'Loop@lulesh.cc:1799': 32, 'Loop@lulesh.cc:2429': 33, '_INTERNAL_9_lulesh_cc_07ac9422::EvalEOSForElems(Domain&, double*, int, int*, int)': 34, 'Loop@lulesh.cc:2327': 35, 'Loop@lulesh.cc:2267': 36, '_INTERNAL_9_lulesh_cc_07ac9422::CalcEnergyForElems(double*, double*, double*, double*, double*, double*, double*, double*, double*, double*, double*, double*, double*, double, double, double, double, double, double*, double*, double, double, int, int*)': 37, 'Loop@lulesh.cc:2130': 38, 'Loop@lulesh.cc:2092': 39, 'Loop@lulesh.cc:2183': 40, '_INTERNAL_9_lulesh_cc_07ac9422::CalcPressureForElems(double*, double*, double*, double*, double*, double*, double, double, double, int, int*)': 41, 'Loop@lulesh.cc:2105': 42, 'Loop@lulesh.cc:2146': 43, 'Loop@lulesh.cc:2052': 44, 'Loop@lulesh.cc:2059': 45}\n",
      "1\n",
      "0\n",
      "2\n",
      "3\n",
      "4\n",
      "5\n",
      "6\n"
     ]
    },
    {
     "ename": "NetworkXError",
     "evalue": "Node 7 has no position.",
     "output_type": "error",
     "traceback": [
      "\u001b[0;31m---------------------------------------------------------------------------\u001b[0m",
      "\u001b[0;31mKeyError\u001b[0m                                  Traceback (most recent call last)",
      "\u001b[0;32m~/miniconda3/lib/python3.6/site-packages/networkx/drawing/nx_pylab.py\u001b[0m in \u001b[0;36mdraw_networkx_nodes\u001b[0;34m(G, pos, nodelist, node_size, node_color, node_shape, alpha, cmap, vmin, vmax, ax, linewidths, edgecolors, label, **kwds)\u001b[0m\n\u001b[1;32m    393\u001b[0m     \u001b[0;32mtry\u001b[0m\u001b[0;34m:\u001b[0m\u001b[0;34m\u001b[0m\u001b[0;34m\u001b[0m\u001b[0m\n\u001b[0;32m--> 394\u001b[0;31m         \u001b[0mxy\u001b[0m \u001b[0;34m=\u001b[0m \u001b[0mnp\u001b[0m\u001b[0;34m.\u001b[0m\u001b[0masarray\u001b[0m\u001b[0;34m(\u001b[0m\u001b[0;34m[\u001b[0m\u001b[0mpos\u001b[0m\u001b[0;34m[\u001b[0m\u001b[0mv\u001b[0m\u001b[0;34m]\u001b[0m \u001b[0;32mfor\u001b[0m \u001b[0mv\u001b[0m \u001b[0;32min\u001b[0m \u001b[0mnodelist\u001b[0m\u001b[0;34m]\u001b[0m\u001b[0;34m)\u001b[0m\u001b[0;34m\u001b[0m\u001b[0;34m\u001b[0m\u001b[0m\n\u001b[0m\u001b[1;32m    395\u001b[0m     \u001b[0;32mexcept\u001b[0m \u001b[0mKeyError\u001b[0m \u001b[0;32mas\u001b[0m \u001b[0me\u001b[0m\u001b[0;34m:\u001b[0m\u001b[0;34m\u001b[0m\u001b[0;34m\u001b[0m\u001b[0m\n",
      "\u001b[0;32m~/miniconda3/lib/python3.6/site-packages/networkx/drawing/nx_pylab.py\u001b[0m in \u001b[0;36m<listcomp>\u001b[0;34m(.0)\u001b[0m\n\u001b[1;32m    393\u001b[0m     \u001b[0;32mtry\u001b[0m\u001b[0;34m:\u001b[0m\u001b[0;34m\u001b[0m\u001b[0;34m\u001b[0m\u001b[0m\n\u001b[0;32m--> 394\u001b[0;31m         \u001b[0mxy\u001b[0m \u001b[0;34m=\u001b[0m \u001b[0mnp\u001b[0m\u001b[0;34m.\u001b[0m\u001b[0masarray\u001b[0m\u001b[0;34m(\u001b[0m\u001b[0;34m[\u001b[0m\u001b[0mpos\u001b[0m\u001b[0;34m[\u001b[0m\u001b[0mv\u001b[0m\u001b[0;34m]\u001b[0m \u001b[0;32mfor\u001b[0m \u001b[0mv\u001b[0m \u001b[0;32min\u001b[0m \u001b[0mnodelist\u001b[0m\u001b[0;34m]\u001b[0m\u001b[0;34m)\u001b[0m\u001b[0;34m\u001b[0m\u001b[0;34m\u001b[0m\u001b[0m\n\u001b[0m\u001b[1;32m    395\u001b[0m     \u001b[0;32mexcept\u001b[0m \u001b[0mKeyError\u001b[0m \u001b[0;32mas\u001b[0m \u001b[0me\u001b[0m\u001b[0;34m:\u001b[0m\u001b[0;34m\u001b[0m\u001b[0;34m\u001b[0m\u001b[0m\n",
      "\u001b[0;31mKeyError\u001b[0m: 7",
      "\nDuring handling of the above exception, another exception occurred:\n",
      "\u001b[0;31mNetworkXError\u001b[0m                             Traceback (most recent call last)",
      "\u001b[0;32m<ipython-input-224-66b8943a808c>\u001b[0m in \u001b[0;36m<module>\u001b[0;34m\u001b[0m\n\u001b[1;32m      1\u001b[0m \u001b[0mmodule\u001b[0m \u001b[0;34m=\u001b[0m \u001b[0;34m'lulesh2.0'\u001b[0m\u001b[0;34m\u001b[0m\u001b[0;34m\u001b[0m\u001b[0m\n\u001b[1;32m      2\u001b[0m \u001b[0;31m#module = 'Unkno'\u001b[0m\u001b[0;34m\u001b[0m\u001b[0;34m\u001b[0m\u001b[0;34m\u001b[0m\u001b[0m\n\u001b[0;32m----> 3\u001b[0;31m \u001b[0mhierarchy_data\u001b[0m \u001b[0;34m=\u001b[0m \u001b[0mmodule_hierarchy\u001b[0m\u001b[0;34m(\u001b[0m\u001b[0mstates\u001b[0m\u001b[0;34m[\u001b[0m\u001b[0;36m0\u001b[0m\u001b[0;34m]\u001b[0m\u001b[0;34m,\u001b[0m \u001b[0mmodule\u001b[0m\u001b[0;34m)\u001b[0m\u001b[0;34m\u001b[0m\u001b[0;34m\u001b[0m\u001b[0m\n\u001b[0m\u001b[1;32m      4\u001b[0m \u001b[0mhierarchy_data2\u001b[0m \u001b[0;34m=\u001b[0m \u001b[0mmodule_hierarchy\u001b[0m\u001b[0;34m(\u001b[0m\u001b[0mstates\u001b[0m\u001b[0;34m[\u001b[0m\u001b[0;36m1\u001b[0m\u001b[0;34m]\u001b[0m\u001b[0;34m,\u001b[0m \u001b[0mmodule\u001b[0m\u001b[0;34m)\u001b[0m\u001b[0;34m\u001b[0m\u001b[0;34m\u001b[0m\u001b[0m\n",
      "\u001b[0;32m<ipython-input-223-b88f2d07afae>\u001b[0m in \u001b[0;36mmodule_hierarchy\u001b[0;34m(state, module)\u001b[0m\n\u001b[1;32m     35\u001b[0m     \u001b[0mstate\u001b[0m\u001b[0;34m.\u001b[0m\u001b[0mbfs_tree\u001b[0m \u001b[0;34m=\u001b[0m \u001b[0mnx\u001b[0m\u001b[0;34m.\u001b[0m\u001b[0mmaximum_spanning_tree\u001b[0m\u001b[0;34m(\u001b[0m\u001b[0mstate\u001b[0m\u001b[0;34m.\u001b[0m\u001b[0mhg\u001b[0m\u001b[0;34m)\u001b[0m\u001b[0;34m\u001b[0m\u001b[0;34m\u001b[0m\u001b[0m\n\u001b[1;32m     36\u001b[0m     \u001b[0mpos\u001b[0m \u001b[0;34m=\u001b[0m \u001b[0mhierarchy_pos\u001b[0m\u001b[0;34m(\u001b[0m\u001b[0mstate\u001b[0m\u001b[0;34m.\u001b[0m\u001b[0mbfs_tree\u001b[0m\u001b[0;34m,\u001b[0m \u001b[0;36m1\u001b[0m\u001b[0;34m)\u001b[0m\u001b[0;34m\u001b[0m\u001b[0;34m\u001b[0m\u001b[0m\n\u001b[0;32m---> 37\u001b[0;31m     \u001b[0mnx\u001b[0m\u001b[0;34m.\u001b[0m\u001b[0mdraw\u001b[0m\u001b[0;34m(\u001b[0m\u001b[0mstate\u001b[0m\u001b[0;34m.\u001b[0m\u001b[0mbfs_tree\u001b[0m\u001b[0;34m,\u001b[0m \u001b[0mpos\u001b[0m\u001b[0;34m=\u001b[0m\u001b[0mpos\u001b[0m\u001b[0;34m,\u001b[0m \u001b[0mwith_labels\u001b[0m\u001b[0;34m=\u001b[0m\u001b[0;32mTrue\u001b[0m\u001b[0;34m)\u001b[0m\u001b[0;34m\u001b[0m\u001b[0;34m\u001b[0m\u001b[0m\n\u001b[0m\u001b[1;32m     38\u001b[0m     \u001b[0mplt\u001b[0m\u001b[0;34m.\u001b[0m\u001b[0mshow\u001b[0m\u001b[0;34m(\u001b[0m\u001b[0;34m)\u001b[0m\u001b[0;34m\u001b[0m\u001b[0;34m\u001b[0m\u001b[0m\n\u001b[1;32m     39\u001b[0m     \u001b[0;32mreturn\u001b[0m \u001b[0msource_target_data\u001b[0m\u001b[0;34m\u001b[0m\u001b[0;34m\u001b[0m\u001b[0m\n",
      "\u001b[0;32m~/miniconda3/lib/python3.6/site-packages/networkx/drawing/nx_pylab.py\u001b[0m in \u001b[0;36mdraw\u001b[0;34m(G, pos, ax, **kwds)\u001b[0m\n\u001b[1;32m    124\u001b[0m \u001b[0;34m\u001b[0m\u001b[0m\n\u001b[1;32m    125\u001b[0m     \u001b[0;32mtry\u001b[0m\u001b[0;34m:\u001b[0m\u001b[0;34m\u001b[0m\u001b[0;34m\u001b[0m\u001b[0m\n\u001b[0;32m--> 126\u001b[0;31m         \u001b[0mdraw_networkx\u001b[0m\u001b[0;34m(\u001b[0m\u001b[0mG\u001b[0m\u001b[0;34m,\u001b[0m \u001b[0mpos\u001b[0m\u001b[0;34m=\u001b[0m\u001b[0mpos\u001b[0m\u001b[0;34m,\u001b[0m \u001b[0max\u001b[0m\u001b[0;34m=\u001b[0m\u001b[0max\u001b[0m\u001b[0;34m,\u001b[0m \u001b[0;34m**\u001b[0m\u001b[0mkwds\u001b[0m\u001b[0;34m)\u001b[0m\u001b[0;34m\u001b[0m\u001b[0;34m\u001b[0m\u001b[0m\n\u001b[0m\u001b[1;32m    127\u001b[0m         \u001b[0max\u001b[0m\u001b[0;34m.\u001b[0m\u001b[0mset_axis_off\u001b[0m\u001b[0;34m(\u001b[0m\u001b[0;34m)\u001b[0m\u001b[0;34m\u001b[0m\u001b[0;34m\u001b[0m\u001b[0m\n\u001b[1;32m    128\u001b[0m         \u001b[0mplt\u001b[0m\u001b[0;34m.\u001b[0m\u001b[0mdraw_if_interactive\u001b[0m\u001b[0;34m(\u001b[0m\u001b[0;34m)\u001b[0m\u001b[0;34m\u001b[0m\u001b[0;34m\u001b[0m\u001b[0m\n",
      "\u001b[0;32m~/miniconda3/lib/python3.6/site-packages/networkx/drawing/nx_pylab.py\u001b[0m in \u001b[0;36mdraw_networkx\u001b[0;34m(G, pos, arrows, with_labels, **kwds)\u001b[0m\n\u001b[1;32m    275\u001b[0m         \u001b[0mpos\u001b[0m \u001b[0;34m=\u001b[0m \u001b[0mnx\u001b[0m\u001b[0;34m.\u001b[0m\u001b[0mdrawing\u001b[0m\u001b[0;34m.\u001b[0m\u001b[0mspring_layout\u001b[0m\u001b[0;34m(\u001b[0m\u001b[0mG\u001b[0m\u001b[0;34m)\u001b[0m  \u001b[0;31m# default to spring layout\u001b[0m\u001b[0;34m\u001b[0m\u001b[0;34m\u001b[0m\u001b[0m\n\u001b[1;32m    276\u001b[0m \u001b[0;34m\u001b[0m\u001b[0m\n\u001b[0;32m--> 277\u001b[0;31m     \u001b[0mnode_collection\u001b[0m \u001b[0;34m=\u001b[0m \u001b[0mdraw_networkx_nodes\u001b[0m\u001b[0;34m(\u001b[0m\u001b[0mG\u001b[0m\u001b[0;34m,\u001b[0m \u001b[0mpos\u001b[0m\u001b[0;34m,\u001b[0m \u001b[0;34m**\u001b[0m\u001b[0mkwds\u001b[0m\u001b[0;34m)\u001b[0m\u001b[0;34m\u001b[0m\u001b[0;34m\u001b[0m\u001b[0m\n\u001b[0m\u001b[1;32m    278\u001b[0m     \u001b[0medge_collection\u001b[0m \u001b[0;34m=\u001b[0m \u001b[0mdraw_networkx_edges\u001b[0m\u001b[0;34m(\u001b[0m\u001b[0mG\u001b[0m\u001b[0;34m,\u001b[0m \u001b[0mpos\u001b[0m\u001b[0;34m,\u001b[0m \u001b[0marrows\u001b[0m\u001b[0;34m=\u001b[0m\u001b[0marrows\u001b[0m\u001b[0;34m,\u001b[0m \u001b[0;34m**\u001b[0m\u001b[0mkwds\u001b[0m\u001b[0;34m)\u001b[0m\u001b[0;34m\u001b[0m\u001b[0;34m\u001b[0m\u001b[0m\n\u001b[1;32m    279\u001b[0m     \u001b[0;32mif\u001b[0m \u001b[0mwith_labels\u001b[0m\u001b[0;34m:\u001b[0m\u001b[0;34m\u001b[0m\u001b[0;34m\u001b[0m\u001b[0m\n",
      "\u001b[0;32m~/miniconda3/lib/python3.6/site-packages/networkx/drawing/nx_pylab.py\u001b[0m in \u001b[0;36mdraw_networkx_nodes\u001b[0;34m(G, pos, nodelist, node_size, node_color, node_shape, alpha, cmap, vmin, vmax, ax, linewidths, edgecolors, label, **kwds)\u001b[0m\n\u001b[1;32m    394\u001b[0m         \u001b[0mxy\u001b[0m \u001b[0;34m=\u001b[0m \u001b[0mnp\u001b[0m\u001b[0;34m.\u001b[0m\u001b[0masarray\u001b[0m\u001b[0;34m(\u001b[0m\u001b[0;34m[\u001b[0m\u001b[0mpos\u001b[0m\u001b[0;34m[\u001b[0m\u001b[0mv\u001b[0m\u001b[0;34m]\u001b[0m \u001b[0;32mfor\u001b[0m \u001b[0mv\u001b[0m \u001b[0;32min\u001b[0m \u001b[0mnodelist\u001b[0m\u001b[0;34m]\u001b[0m\u001b[0;34m)\u001b[0m\u001b[0;34m\u001b[0m\u001b[0;34m\u001b[0m\u001b[0m\n\u001b[1;32m    395\u001b[0m     \u001b[0;32mexcept\u001b[0m \u001b[0mKeyError\u001b[0m \u001b[0;32mas\u001b[0m \u001b[0me\u001b[0m\u001b[0;34m:\u001b[0m\u001b[0;34m\u001b[0m\u001b[0;34m\u001b[0m\u001b[0m\n\u001b[0;32m--> 396\u001b[0;31m         \u001b[0;32mraise\u001b[0m \u001b[0mnx\u001b[0m\u001b[0;34m.\u001b[0m\u001b[0mNetworkXError\u001b[0m\u001b[0;34m(\u001b[0m\u001b[0;34m'Node %s has no position.'\u001b[0m \u001b[0;34m%\u001b[0m \u001b[0me\u001b[0m\u001b[0;34m)\u001b[0m\u001b[0;34m\u001b[0m\u001b[0;34m\u001b[0m\u001b[0m\n\u001b[0m\u001b[1;32m    397\u001b[0m     \u001b[0;32mexcept\u001b[0m \u001b[0mValueError\u001b[0m\u001b[0;34m:\u001b[0m\u001b[0;34m\u001b[0m\u001b[0;34m\u001b[0m\u001b[0m\n\u001b[1;32m    398\u001b[0m         \u001b[0;32mraise\u001b[0m \u001b[0mnx\u001b[0m\u001b[0;34m.\u001b[0m\u001b[0mNetworkXError\u001b[0m\u001b[0;34m(\u001b[0m\u001b[0;34m'Bad value in node positions.'\u001b[0m\u001b[0;34m)\u001b[0m\u001b[0;34m\u001b[0m\u001b[0;34m\u001b[0m\u001b[0m\n",
      "\u001b[0;31mNetworkXError\u001b[0m: Node 7 has no position."
     ]
    },
    {
     "name": "stderr",
     "output_type": "stream",
     "text": [
      "DEBUG:matplotlib.axes._base:update_title_pos\n",
      "DEBUG:matplotlib.axes._base:update_title_pos\n",
      "DEBUG:matplotlib.axes._base:update_title_pos\n",
      "DEBUG:matplotlib.axes._base:update_title_pos\n",
      "DEBUG:matplotlib.axes._base:update_title_pos\n"
     ]
    },
    {
     "data": {
      "image/png": "[encoded data removed]",
      "text/plain": [
       "<Figure size 1152x864 with 1 Axes>"
      ]
     },
     "metadata": {},
     "output_type": "display_data"
    }
   ],
   "source": [
    "module = 'lulesh2.0'\n",
    "#module = 'Unkno'\n",
    "hierarchy_data = module_hierarchy(states[0], module)\n",
    "hierarchy_data2 = module_hierarchy(states[1], module)\n"
   ]
  },
  {
   "cell_type": "code",
   "execution_count": 121,
   "metadata": {},
   "outputs": [
    {
     "name": "stdout",
     "output_type": "stream",
     "text": [
      "Loop@lulesh.cc:2790 is an exit node\n",
      "Loop@lulesh.cc:550 is an exit node\n",
      "Loop@lulesh.cc:1038 is an exit node\n",
      "Loop@lulesh.cc:811 is an exit node\n",
      "__munmap is an exit node\n",
      "Loop@lulesh.cc:1539 is an exit node\n",
      "Loop@lulesh.cc:1647 is an exit node\n",
      "Loop@lulesh.cc:1964 is an exit node\n",
      "Loop@lulesh.cc:1799 is an exit node\n",
      "Loop@lulesh.cc:2429 is an exit node\n",
      "Loop@lulesh.cc:2327 is an exit node\n",
      "Loop@lulesh.cc:2267 is an exit node\n",
      "Loop@lulesh.cc:2130 is an exit node\n",
      "Loop@lulesh.cc:2092 is an exit node\n",
      "Loop@lulesh.cc:2183 is an exit node\n",
      "Loop@lulesh.cc:2105 is an exit node\n",
      "Loop@lulesh.cc:2146 is an exit node\n",
      "Loop@lulesh.cc:2052 is an exit node\n",
      "Loop@lulesh.cc:2059 is an exit node\n",
      "(40, 5)\n"
     ]
    },
    {
     "ename": "AttributeError",
     "evalue": "'numpy.ndarray' object has no attribute 'values'",
     "output_type": "error",
     "traceback": [
      "\u001b[0;31m---------------------------------------------------------------------------\u001b[0m",
      "\u001b[0;31mAttributeError\u001b[0m                            Traceback (most recent call last)",
      "\u001b[0;32m<ipython-input-121-43b9550496df>\u001b[0m in \u001b[0;36m<module>\u001b[0;34m\u001b[0m\n\u001b[1;32m     35\u001b[0m     \u001b[0mplt\u001b[0m\u001b[0;34m.\u001b[0m\u001b[0mshow\u001b[0m\u001b[0;34m(\u001b[0m\u001b[0;34m)\u001b[0m\u001b[0;34m\u001b[0m\u001b[0;34m\u001b[0m\u001b[0m\n\u001b[1;32m     36\u001b[0m \u001b[0;34m\u001b[0m\u001b[0m\n\u001b[0;32m---> 37\u001b[0;31m \u001b[0mdraw_graph\u001b[0m\u001b[0;34m(\u001b[0m\u001b[0mstates\u001b[0m\u001b[0;34m[\u001b[0m\u001b[0;36m0\u001b[0m\u001b[0;34m]\u001b[0m\u001b[0;34m,\u001b[0m \u001b[0;34m'lulesh2.0'\u001b[0m\u001b[0;34m)\u001b[0m\u001b[0;34m\u001b[0m\u001b[0;34m\u001b[0m\u001b[0m\n\u001b[0m",
      "\u001b[0;32m<ipython-input-121-43b9550496df>\u001b[0m in \u001b[0;36mdraw_graph\u001b[0;34m(state, module)\u001b[0m\n\u001b[1;32m     30\u001b[0m     \u001b[0mprint\u001b[0m\u001b[0;34m(\u001b[0m\u001b[0mhierarchy_df\u001b[0m\u001b[0;34m.\u001b[0m\u001b[0mshape\u001b[0m\u001b[0;34m)\u001b[0m\u001b[0;34m\u001b[0m\u001b[0;34m\u001b[0m\u001b[0m\n\u001b[1;32m     31\u001b[0m     \u001b[0mhierarchy_adjacency\u001b[0m \u001b[0;34m=\u001b[0m \u001b[0msource_target_to_adj_matrix\u001b[0m\u001b[0;34m(\u001b[0m\u001b[0msource_target_data\u001b[0m\u001b[0;34m)\u001b[0m\u001b[0;34m\u001b[0m\u001b[0;34m\u001b[0m\u001b[0m\n\u001b[0;32m---> 32\u001b[0;31m     \u001b[0mstate\u001b[0m\u001b[0;34m.\u001b[0m\u001b[0mhg\u001b[0m \u001b[0;34m=\u001b[0m \u001b[0mnx\u001b[0m\u001b[0;34m.\u001b[0m\u001b[0mfrom_numpy_matrix\u001b[0m\u001b[0;34m(\u001b[0m\u001b[0mhierarchy_adjacency\u001b[0m\u001b[0;34m.\u001b[0m\u001b[0mvalues\u001b[0m\u001b[0;34m)\u001b[0m\u001b[0;34m\u001b[0m\u001b[0;34m\u001b[0m\u001b[0m\n\u001b[0m\u001b[1;32m     33\u001b[0m     \u001b[0mpos\u001b[0m \u001b[0;34m=\u001b[0m \u001b[0mhierarchy_pos\u001b[0m\u001b[0;34m(\u001b[0m\u001b[0mstate\u001b[0m\u001b[0;34m.\u001b[0m\u001b[0mhg\u001b[0m\u001b[0;34m,\u001b[0m \u001b[0;36m1\u001b[0m\u001b[0;34m)\u001b[0m\u001b[0;34m\u001b[0m\u001b[0;34m\u001b[0m\u001b[0m\n\u001b[1;32m     34\u001b[0m     \u001b[0mnx\u001b[0m\u001b[0;34m.\u001b[0m\u001b[0mdraw\u001b[0m\u001b[0;34m(\u001b[0m\u001b[0mstate\u001b[0m\u001b[0;34m.\u001b[0m\u001b[0mhg\u001b[0m\u001b[0;34m,\u001b[0m \u001b[0mpos\u001b[0m\u001b[0;34m=\u001b[0m\u001b[0mpos\u001b[0m\u001b[0;34m,\u001b[0m \u001b[0mwith_labels\u001b[0m\u001b[0;34m=\u001b[0m\u001b[0;32mTrue\u001b[0m\u001b[0;34m)\u001b[0m\u001b[0;34m\u001b[0m\u001b[0;34m\u001b[0m\u001b[0m\n",
      "\u001b[0;31mAttributeError\u001b[0m: 'numpy.ndarray' object has no attribute 'values'"
     ]
    }
   ],
   "source": [
    "def draw_graph(state, module):\n",
    "    g = state.g\n",
    "    hierarchy = nx.Graph()\n",
    "    source_target_data = []\n",
    "    nodes = [x for x,y in g.nodes(data=True) if y['module'] == [module]]\n",
    "    node = 'CthStartThread'\n",
    "    for idx, node in enumerate(nodes):\n",
    "        hierarchy_pd = pd.DataFrame(columns=['source', 'target', 'weight', 'level', 'type'])\n",
    "        neighbors = sorted(g[node].items(), key=lambda edge: edge[1]['weight'])\n",
    "        for idx, n in enumerate(neighbors):\n",
    "            #print(\"source: {0}, target: {1}\".format(node, n[0]))\n",
    "            source_node = node\n",
    "            target_node = n[0]\n",
    "            weight = n[1]['weight']\n",
    "            level = idx\n",
    "            if(state.df[state.df['name'] == n[0]]['module'].unique()[0] != module):\n",
    "                type_node = 'exit'\n",
    "                level = -1\n",
    "                print('{0} is an exit node'.format(n[0]))\n",
    "            else:\n",
    "                type_node = 'normal'\n",
    "            source_target_data.append({\n",
    "                \"source\": source_node,\n",
    "                \"target\": target_node,\n",
    "                \"weight\": weight,\n",
    "                \"level\": level,\n",
    "                \"type\": type_node\n",
    "            })\n",
    "    hierarchy_df = pd.DataFrame.from_dict(source_target_data)\n",
    "    print(hierarchy_df.shape)\n",
    "    hierarchy_adjacency = source_target_to_adj_matrix(source_target_data)\n",
    "    state.hg = nx.from_numpy_matrix(hierarchy_adjacency.values)\n",
    "    pos = hierarchy_pos(state.hg, 1)\n",
    "    nx.draw(state.hg, pos=pos, with_labels=True)\n",
    "    plt.show()\n",
    "\n",
    "draw_graph(states[0], 'lulesh2.0')"
   ]
  },
  {
   "cell_type": "code",
   "execution_count": 26,
   "metadata": {},
   "outputs": [],
   "source": [
    "def get_adjcency(nodelist):\n",
    "    x_pd = nx.to_pandas_adjacency(g, nodelist=nodes, dtype=int)   "
   ]
  },
  {
   "cell_type": "code",
   "execution_count": 204,
   "metadata": {},
   "outputs": [],
   "source": [
    "def hierarchy_pos(G, root=None, width=1., vert_gap = 0.2, vert_loc = 0, xcenter = 0.5):\n",
    "\n",
    "    '''\n",
    "    From Joel's answer at https://stackoverflow.com/a/29597209/2966723 \n",
    "\n",
    "    If the graph is a tree this will return the positions to plot this in a \n",
    "    hierarchical layout.\n",
    "\n",
    "    G: the graph (must be a tree)\n",
    "\n",
    "    root: the root node of current branch \n",
    "    - if the tree is directed and this is not given, the root will be found and used\n",
    "    - if the tree is directed and this is given, then the positions will be just for the descendants of this node.\n",
    "    - if the tree is undirected and not given, then a random choice will be used.\n",
    "\n",
    "    width: horizontal space allocated for this branch - avoids overlap with other branches\n",
    "\n",
    "    vert_gap: gap between levels of hierarchy\n",
    "\n",
    "    vert_loc: vertical location of root\n",
    "\n",
    "    xcenter: horizontal location of root\n",
    "    '''\n",
    "    #if not nx.is_tree(G):\n",
    "     #   raise TypeError('cannot use hierarchy_pos on a graph that is not a tree')\n",
    "\n",
    "    if root is None:\n",
    "        if isinstance(G, nx.DiGraph):\n",
    "            root = next(iter(nx.topological_sort(G)))  #allows back compatibility with nx version 1.11\n",
    "        else:\n",
    "            root = random.choice(list(G.nodes))\n",
    "\n",
    "    def _hierarchy_pos(G, root, width=1., vert_gap = 0.2, vert_loc = 0, xcenter = 0.5, pos = None, parent = None):\n",
    "        '''\n",
    "        see hierarchy_pos docstring for most arguments\n",
    "\n",
    "        pos: a dict saying where all nodes go if they have been assigned\n",
    "        parent: parent of this branch. - only affects it if non-directed\n",
    "\n",
    "        '''\n",
    "        print(root)\n",
    "        if pos is None:\n",
    "            pos = {root:(xcenter,vert_loc)}\n",
    "        else:\n",
    "            pos[root] = (xcenter, vert_loc)\n",
    "        children = list(G.neighbors(root))\n",
    "        if not isinstance(G, nx.DiGraph) and parent is not None:\n",
    "            children.remove(parent)  \n",
    "        if len(children)!=0:\n",
    "            dx = width/len(children) \n",
    "            nextx = xcenter - width/2 - dx/2\n",
    "            for child in children:\n",
    "                nextx += dx\n",
    "                pos = _hierarchy_pos(G,child, width = dx, vert_gap = vert_gap, \n",
    "                                    vert_loc = vert_loc-vert_gap, xcenter=nextx,\n",
    "                                    pos=pos, parent = root)\n",
    "        return pos\n",
    "\n",
    "\n",
    "    return _hierarchy_pos(G, root, width, vert_gap, vert_loc, xcenter)"
   ]
  },
  {
   "cell_type": "code",
   "execution_count": 27,
   "metadata": {},
   "outputs": [
    {
     "name": "stdout",
     "output_type": "stream",
     "text": [
      "[ array([[ 0.,  0.,  0., ...,  0.,  0.,  0.],\n",
      "       [ 0.,  0.,  0., ...,  0.,  0.,  0.],\n",
      "       [ 0.,  0.,  0., ...,  0.,  0.,  0.],\n",
      "       ..., \n",
      "       [ 0.,  0.,  0., ...,  0.,  0.,  0.],\n",
      "       [ 0.,  0.,  0., ...,  0.,  0.,  0.],\n",
      "       [ 0.,  0.,  0., ...,  0.,  0.,  0.]])\n",
      " array([[ 0.,  0.,  0., ...,  0.,  0.,  0.],\n",
      "       [ 0.,  0.,  0., ...,  0.,  0.,  0.],\n",
      "       [ 0.,  0.,  0., ...,  0.,  0.,  0.],\n",
      "       ..., \n",
      "       [ 0.,  0.,  0., ...,  0.,  0.,  0.],\n",
      "       [ 0.,  0.,  0., ...,  0.,  0.,  0.],\n",
      "       [ 0.,  0.,  0., ...,  0.,  0.,  0.]])]\n"
     ]
    }
   ],
   "source": [
    "xs = np.array([states[0].flow_matrix, states[1].flow_matrix])\n",
    "print(xs)"
   ]
  },
  {
   "cell_type": "code",
   "execution_count": 120,
   "metadata": {},
   "outputs": [
    {
     "ename": "AttributeError",
     "evalue": "'list' object has no attribute 'max'",
     "output_type": "error",
     "traceback": [
      "\u001b[0;31m---------------------------------------------------------------------------\u001b[0m",
      "\u001b[0;31mAttributeError\u001b[0m                            Traceback (most recent call last)",
      "\u001b[0;32m<ipython-input-120-afd0dd20a08b>\u001b[0m in \u001b[0;36m<module>\u001b[0;34m\u001b[0m\n\u001b[1;32m     16\u001b[0m \u001b[0;34m\u001b[0m\u001b[0m\n\u001b[1;32m     17\u001b[0m \u001b[0;31m# We'll color code by height, but you could use any scalar\u001b[0m\u001b[0;34m\u001b[0m\u001b[0;34m\u001b[0m\u001b[0;34m\u001b[0m\u001b[0m\n\u001b[0;32m---> 18\u001b[0;31m \u001b[0mfracs\u001b[0m \u001b[0;34m=\u001b[0m \u001b[0mN\u001b[0m \u001b[0;34m/\u001b[0m \u001b[0mN\u001b[0m\u001b[0;34m.\u001b[0m\u001b[0mmax\u001b[0m\u001b[0;34m(\u001b[0m\u001b[0;34m)\u001b[0m\u001b[0;34m\u001b[0m\u001b[0;34m\u001b[0m\u001b[0m\n\u001b[0m\u001b[1;32m     19\u001b[0m \u001b[0;34m\u001b[0m\u001b[0m\n\u001b[1;32m     20\u001b[0m \u001b[0;31m# we need to normalize the data to 0..1 for the full range of the colormap\u001b[0m\u001b[0;34m\u001b[0m\u001b[0;34m\u001b[0m\u001b[0;34m\u001b[0m\u001b[0m\n",
      "\u001b[0;31mAttributeError\u001b[0m: 'list' object has no attribute 'max'"
     ]
    },
    {
     "name": "stderr",
     "output_type": "stream",
     "text": [
      "DEBUG:matplotlib.axes._base:update_title_pos\n",
      "DEBUG:matplotlib.axes._base:update_title_pos\n",
      "DEBUG:matplotlib.axes._base:update_title_pos\n",
      "DEBUG:matplotlib.axes._base:update_title_pos\n",
      "DEBUG:matplotlib.axes._base:update_title_pos\n"
     ]
    },
    {
     "data": {
      "image/png": "[encoded data removed]",
      "text/plain": [
       "<Figure size 1152x864 with 1 Axes>"
      ]
     },
     "metadata": {
      "needs_background": "light"
     },
     "output_type": "display_data"
    }
   ],
   "source": [
    "S = len(states)\n",
    "\n",
    "n_samples = 76\n",
    "ns = [len(xs[s]) for s in range(S)]\n",
    "\n",
    "Cs = [sp.spatial.distance.cdist(xs[s], xs[s]) for s in range(S)]\n",
    "Cs = [cs / cs.max() for cs in Cs]\n",
    "\n",
    "ps = [ot.unif(ns[s]) for s in range(S)]\n",
    "p = ot.unif(n_samples)\n",
    "\n",
    "n_bins = 2\n",
    "\n",
    "# N is the count in each bin, bins is the lower-limit of the bin\n",
    "N, bins, patches = plt.hist(ps, bins=n_bins)\n",
    "\n",
    "# We'll color code by height, but you could use any scalar\n",
    "fracs = N / N.max()\n",
    "\n",
    "# we need to normalize the data to 0..1 for the full range of the colormap\n",
    "norm = colors.Normalize(fracs.min(), fracs.max())\n",
    "\n",
    "# Now, we'll loop through our objects and set the color of each accordingly\n",
    "for thisfrac, thispatch in zip(fracs, patches):\n",
    "    color = plt.cm.viridis(norm(thisfrac))\n",
    "    thispatch.set_facecolor(color)\n",
    "\n",
    "plt.yaxis.set_major_formatter(PercentFormatter(xmax=1))"
   ]
  },
  {
   "cell_type": "code",
   "execution_count": 29,
   "metadata": {},
   "outputs": [
    {
     "name": "stdout",
     "output_type": "stream",
     "text": [
      "[[0.3333333333333333, 0.6666666666666666], [0.6666666666666666, 0.3333333333333333]]\n"
     ]
    },
    {
     "data": {
      "image/png": "[encoded data removed]",
      "text/plain": [
       "<Figure size 1152x864 with 1 Axes>"
      ]
     },
     "metadata": {
      "needs_background": "light"
     },
     "output_type": "display_data"
    }
   ],
   "source": [
    "lambdast = [[float(i) / 3, float(3 - i) / 3] for i in [1, 2]]\n",
    "print(lambdast)\n",
    "Ct01 = [0 for i in range(2)]\n",
    "for i in range(S):\n",
    "    Ct01[i] = ot.gromov.gromov_barycenters(n_samples, [Cs[0], Cs[1]],\n",
    "                                           [ps[0], ps[1]\n",
    "                                            ], p, lambdast[i], 'square_loss',  # 5e-4,\n",
    "                                           max_iter=100, tol=1e-3)\n",
    "\n",
    "\n",
    "plt.plot(Ct01[0], Ct01[1], 'o', label = 'Ct01')\n",
    "plt.show()\n"
   ]
  },
  {
   "cell_type": "code",
   "execution_count": 30,
   "metadata": {},
   "outputs": [],
   "source": [
    "def smacof_mds(C, dim, max_iter=3000, eps=1e-9):\n",
    "    \"\"\"\n",
    "    Returns an interpolated point cloud following the dissimilarity matrix C\n",
    "    using SMACOF multidimensional scaling (MDS) in specific dimensionned\n",
    "    target space\n",
    "\n",
    "    Parameters\n",
    "    ----------\n",
    "    C : ndarray, shape (ns, ns)\n",
    "        dissimilarity matrix\n",
    "    dim : int\n",
    "          dimension of the targeted space\n",
    "    max_iter :  int\n",
    "        Maximum number of iterations of the SMACOF algorithm for a single run\n",
    "    eps : float\n",
    "        relative tolerance w.r.t stress to declare converge\n",
    "\n",
    "    Returns\n",
    "    -------\n",
    "    npos : ndarray, shape (R, dim)\n",
    "           Embedded coordinates of the interpolated point cloud (defined with\n",
    "           one isometry)\n",
    "    \"\"\"\n",
    "\n",
    "    rng = np.random.RandomState(seed=3)\n",
    "\n",
    "    mds = manifold.MDS(\n",
    "        dim,\n",
    "        max_iter=max_iter,\n",
    "        eps=1e-9,\n",
    "        dissimilarity='precomputed',\n",
    "        n_init=1)\n",
    "    pos = mds.fit(C).embedding_\n",
    "\n",
    "    nmds = manifold.MDS(\n",
    "        2,\n",
    "        max_iter=max_iter,\n",
    "        eps=1e-9,\n",
    "        dissimilarity=\"precomputed\",\n",
    "        random_state=rng,\n",
    "        n_init=1)\n",
    "    npos = nmds.fit_transform(C, init=pos)\n",
    "\n",
    "    return npos"
   ]
  },
  {
   "cell_type": "code",
   "execution_count": 31,
   "metadata": {
    "scrolled": false
   },
   "outputs": [
    {
     "ename": "ValueError",
     "evalue": "invalid number of arguments",
     "output_type": "error",
     "traceback": [
      "\u001b[0;31m---------------------------------------------------------------------------\u001b[0m",
      "\u001b[0;31mValueError\u001b[0m                                Traceback (most recent call last)",
      "\u001b[0;32m<ipython-input-31-bb33fa1f227c>\u001b[0m in \u001b[0;36m<module>\u001b[0;34m\u001b[0m\n\u001b[1;32m     86\u001b[0m \u001b[0my2\u001b[0m \u001b[0;34m=\u001b[0m \u001b[0mnp\u001b[0m\u001b[0;34m.\u001b[0m\u001b[0masarray\u001b[0m\u001b[0;34m(\u001b[0m\u001b[0my2\u001b[0m\u001b[0;34m)\u001b[0m\u001b[0;34m\u001b[0m\u001b[0;34m\u001b[0m\u001b[0m\n\u001b[1;32m     87\u001b[0m \u001b[0;34m\u001b[0m\u001b[0m\n\u001b[0;32m---> 88\u001b[0;31m \u001b[0mx1min\u001b[0m \u001b[0;34m=\u001b[0m \u001b[0mnp\u001b[0m\u001b[0;34m.\u001b[0m\u001b[0mminimum\u001b[0m\u001b[0;34m(\u001b[0m\u001b[0mx1\u001b[0m\u001b[0;34m)\u001b[0m\u001b[0;34m\u001b[0m\u001b[0;34m\u001b[0m\u001b[0m\n\u001b[0m\u001b[1;32m     89\u001b[0m \u001b[0mx2min\u001b[0m \u001b[0;34m=\u001b[0m \u001b[0mnp\u001b[0m\u001b[0;34m.\u001b[0m\u001b[0mminimum\u001b[0m\u001b[0;34m(\u001b[0m\u001b[0mx2\u001b[0m\u001b[0;34m)\u001b[0m\u001b[0;34m\u001b[0m\u001b[0;34m\u001b[0m\u001b[0m\n\u001b[1;32m     90\u001b[0m \u001b[0mx1max\u001b[0m \u001b[0;34m=\u001b[0m \u001b[0mnp\u001b[0m\u001b[0;34m.\u001b[0m\u001b[0mmaximum\u001b[0m\u001b[0;34m(\u001b[0m\u001b[0mx1\u001b[0m\u001b[0;34m)\u001b[0m\u001b[0;34m\u001b[0m\u001b[0;34m\u001b[0m\u001b[0m\n",
      "\u001b[0;31mValueError\u001b[0m: invalid number of arguments"
     ]
    },
    {
     "data": {
      "image/png": "[encoded data removed]",
      "text/plain": [
       "<Figure size 1152x864 with 1 Axes>"
      ]
     },
     "metadata": {
      "needs_background": "light"
     },
     "output_type": "display_data"
    },
    {
     "data": {
      "text/plain": [
       "<Figure size 720x720 with 0 Axes>"
      ]
     },
     "metadata": {},
     "output_type": "display_data"
    }
   ],
   "source": [
    "clf = PCA(n_components=2)\n",
    "npos = [0, 0]\n",
    "npos = [smacof_mds(Cs[s], 2) for s in range(S)]\n",
    "\n",
    "npost01 = [0, 0]\n",
    "npost01 = [smacof_mds(Ct01[s], 2) for s in range(2)]\n",
    "npost01 = [clf.fit_transform(npost01[s]) for s in range(2)] \n",
    "\n",
    "#print(npost01)\n",
    "plt.plot(npost01[0], npost01[1], 'o', label = 'npost01')\n",
    "#plt.show()\n",
    "\n",
    "#plt.plot(npos[0], npos[1], 'o', label = 'npos')\n",
    "#plt.show()\n",
    "\n",
    "nx01min = npos[0][0][0]\n",
    "nx01max = npos[0][0][0]\n",
    "ny01min = npos[0][1][1]\n",
    "ny01max = npos[0][1][1]\n",
    "\n",
    "nx02min = npos[1][0][0]\n",
    "nx02max = npos[1][0][0]\n",
    "ny02min = npos[1][1][1]\n",
    "ny02max = npos[1][1][1]\n",
    "\n",
    "for idx, arr in enumerate(npos):\n",
    "    if arr[0][0] < nx01min:\n",
    "        nx01min = arr[0][0]\n",
    "    else:\n",
    "        pass\n",
    "    \n",
    "    if arr[0][1] > nx01max:\n",
    "        nx01max = arr[0][1]\n",
    "    else:\n",
    "        pass\n",
    "    \n",
    "    if arr[1][0] < ny01min:\n",
    "        ny01min = arr[1][0]\n",
    "    else:\n",
    "        pass\n",
    "    \n",
    "    if arr[1][1] > ny01max:\n",
    "        ny01max = arr[1][1]\n",
    "    else:\n",
    "        pass\n",
    "\n",
    "\n",
    "for idx, arr in enumerate(npost01):\n",
    "    if arr[0][0] < nx02min:\n",
    "        nx02min = arr[0][0]\n",
    "    else:\n",
    "        pass\n",
    "    \n",
    "    if arr[0][1] > nx02max:\n",
    "        nx02max = arr[0][1]\n",
    "    else:\n",
    "        pass\n",
    "    \n",
    "    if arr[1][0] < ny02min:\n",
    "        ny02min = arr[1][0]\n",
    "    else:\n",
    "        pass\n",
    "    \n",
    "    if arr[1][1] > ny02max:\n",
    "        ny02max = arr[1][1]\n",
    "    else:\n",
    "        pass\n",
    "\n",
    "fig = plt.figure(figsize=(10, 10))\n",
    "\n",
    "x1 = []\n",
    "y1 = []\n",
    "for idx, val in enumerate(npost01[0]):\n",
    "    x1.append(val[0])\n",
    "    y1.append(val[1])\n",
    "    \n",
    "x2 = []\n",
    "y2 = []\n",
    "for idx, val in enumerate(npost01[1]):\n",
    "    x2.append(val[0])\n",
    "    y2.append(val[1])\n",
    "\n",
    "x1 = np.asarray(x1)\n",
    "x2 = np.asarray(x2)\n",
    "y1 = np.asarray(y1)\n",
    "y2 = np.asarray(y2)\n",
    "\n",
    "x1min = np.minimum(x1)\n",
    "x2min = np.minimum(x2)\n",
    "x1max = np.maximum(x1)\n",
    "x2max = np.maximum(x2)\n",
    "\n",
    "y1min = np.minimum(y1)\n",
    "y2min = np.minimum(y2)\n",
    "y1max = np.maximum(y1)\n",
    "y2max = np.maximum(y2)\n",
    "#ax1 = plt.subplot2grid((1, 1), (0, 0))  \n",
    "#plt.xlim((nx01min - 0.1, nx01max + 0.1))\n",
    "#plt.ylim((ny01min - 0.1, ny01max + 0.1))\n",
    "#ax1.scatter(npos[0][:, 0], npos[0][:, 1], color='r')\n",
    "\n",
    "ax2 = plt.subplot2grid((1, 2), (0, 1))\n",
    "plt.xlim(x1min, x1max)\n",
    "plt.ylim(y1min, y1max)\n",
    "ax2.scatter(x1, y1, color='b')\n",
    "ax2.scatter(x2, y2, color='r')\n",
    "\n",
    "print(x1, x2)\n",
    "print(y1, y2)"
   ]
  }
 ],
 "metadata": {
  "kernelspec": {
   "display_name": "Python 3",
   "language": "python",
   "name": "python3"
  },
  "language_info": {
   "codemirror_mode": {
    "name": "ipython",
    "version": 3
   },
   "file_extension": ".py",
   "mimetype": "text/x-python",
   "name": "python",
   "nbconvert_exporter": "python",
   "pygments_lexer": "ipython3",
   "version": "3.6.8"
  }
 },
 "nbformat": 4,
 "nbformat_minor": 2
}
