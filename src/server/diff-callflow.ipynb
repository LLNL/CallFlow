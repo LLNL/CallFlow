{
 "cells": [
  {
   "cell_type": "code",
   "execution_count": 161,
   "metadata": {},
   "outputs": [],
   "source": [
    "import networkx as nx\n",
    "import pandas\n",
    "from hatchet import *\n",
    "import os\n",
    "import matplotlib.pyplot as plt\n",
    "import seaborn.apionly as sns\n",
    "import igraph\n",
    "import platform"
   ]
  },
  {
   "cell_type": "code",
   "execution_count": 162,
   "metadata": {},
   "outputs": [],
   "source": [
    "# libraries for gromov distance computation.\n",
    "import numpy as np\n",
    "import scipy as sp\n",
    "import ot\n",
    "from sklearn.decomposition import PCA\n",
    "from sklearn import manifold"
   ]
  },
  {
   "cell_type": "code",
   "execution_count": 2,
   "metadata": {},
   "outputs": [],
   "source": [
    "from actions.groupBy import groupBy\n",
    "from state import State\n",
    "from callgraph import CallGraph\n",
    "from preprocess import PreProcess"
   ]
  },
  {
   "cell_type": "code",
   "execution_count": 3,
   "metadata": {},
   "outputs": [],
   "source": [
    "%matplotlib inline"
   ]
  },
  {
   "cell_type": "code",
   "execution_count": 4,
   "metadata": {},
   "outputs": [],
   "source": [
    "pd.options.display.max_rows = 10\n",
    "pd.options.display.float_format = '{:,.2f}'.format\n",
    "plt.rcParams['figure.figsize'] = (16, 12)"
   ]
  },
  {
   "cell_type": "code",
   "execution_count": 197,
   "metadata": {},
   "outputs": [],
   "source": [
    "# Linux path\n",
    "if platform.system() == \"Linux\":\n",
    "    callflow_path = \"/home/vidi/Work/llnl/CallFlow/\"\n",
    "else:\n",
    "    #Mac OSx path\n",
    "    callflow_path = \"/Users/jarus/ucd/Research/Visualisation/projects/CallFlow\"\n",
    "\n",
    "dataset_path = [\"data/lulesh-1/db-ampi4-100-1\", \"data/lulesh-1/hpctoolkit-database\"]\n",
    "dataset = ['db-ampi4-100-1', 'hpctoolkit-database']    "
   ]
  },
  {
   "cell_type": "code",
   "execution_count": 198,
   "metadata": {
    "scrolled": true
   },
   "outputs": [
    {
     "name": "stdout",
     "output_type": "stream",
     "text": [
      "Creating graphframes....\n",
      "0:/home/vidi/Work/llnl/CallFlow/data/lulesh-1/db-ampi4-100-1\n",
      "[Create] Rows in dataframe: 185290\n",
      "1:/home/vidi/Work/llnl/CallFlow/data/lulesh-1/hpctoolkit-database\n",
      "[Create] Rows in dataframe: 470580\n"
     ]
    }
   ],
   "source": [
    "# Create Graphframes.\n",
    "def create_gfs(file_format, paths):    \n",
    "        print(\"Creating graphframes....\")                                                                                             \n",
    "        ret = []                                                                                                                         \n",
    "        for idx, path in enumerate(paths):\n",
    "            path = os.path.abspath(os.path.join(callflow_path, path)) \n",
    "            gf = GraphFrame()   \n",
    "            gf.from_hpctoolkit(path, 3)                                                                            \n",
    "            ret.append(gf) \n",
    "            print(str(idx) + \":\" + path)                                                                                              \n",
    "            print(\"[Create] Rows in dataframe: {0}\".format(gf.dataframe.shape[0]))                       \n",
    "        return ret \n",
    "\n",
    "gfs = create_gfs('hpctoolkit', dataset_path)"
   ]
  },
  {
   "cell_type": "code",
   "execution_count": 199,
   "metadata": {},
   "outputs": [],
   "source": [
    "# util functions\n",
    "def lookup(df, node):                                                                                                                    \n",
    "    return df.loc[df['node'] == node] \n",
    "\n",
    "def lookup_with_name(df, name):\n",
    "    return df.loc[df['name'] == name]\n",
    "\n",
    "def getMaxIncTime(gf):                                                                                                                   \n",
    "    ret = 0.0                                                                                                                            \n",
    "    for root in gf.graph.roots:                                                                                                          \n",
    "        ret = max(ret, lookup(gf.dataframe, root)['CPUTIME (usec) (I)'].max())                                                           \n",
    "    return ret                                                                                                                           \n",
    "                                                                                                                                         \n",
    "def getMaxExcTime(gf):                                                                                                                   \n",
    "    ret  = gf.dataframe['CPUTIME (usec) (E)'].max()                                                                                      \n",
    "    return ret                                                                                                                           \n",
    "               \n",
    "def special_lookup(gf, df_index):   \n",
    "    return gf.dataframe.loc[gf.dataframe['name'] == df_index] "
   ]
  },
  {
   "cell_type": "code",
   "execution_count": 200,
   "metadata": {
    "scrolled": true
   },
   "outputs": [
    {
     "name": "stdout",
     "output_type": "stream",
     "text": [
      "Filtering the dataframe!\n",
      "(185290, 10)\n",
      "[Filter] Removed 184465 rows.)\n",
      "Grafting the graph!\n",
      "[Graft] 825 rows left\n",
      "Filtering the dataframe!\n",
      "(470580, 10)\n",
      "[Filter] Removed 469985 rows.)\n",
      "Grafting the graph!\n",
      "[Graft] 595 rows left\n"
     ]
    }
   ],
   "source": [
    "# Filter graphframe and graph\n",
    "def filter_gfs(gfs, filterBy):                                                                                                   \n",
    "    # Create the graph frames from the paths and corresponding format using hatchet                                                  \n",
    "    fgfs = []                                                                                                                        \n",
    "    # Filter graphframes based on threshold                                                                                          \n",
    "    for idx, gf in enumerate(gfs):                                                                                              \n",
    "        print(\"Filtering the dataframe!\")                                                                                         \n",
    "        if filterBy == \"IncTime\":                                                                                          \n",
    "            max_inclusive_time = getMaxIncTime(gf)                                                                             \n",
    "            filter_gf = gf.filter(lambda x: True if(x['CPUTIME (usec) (I)'] > 0.01*max_inclusive_time) else False)                   \n",
    "        elif self.args.filterBy == \"ExcTime\":                                                                                        \n",
    "            max_exclusive_time = getMaxExcTime(gf)                                                                             \n",
    "            print('[Filter] By Exclusive time = {0})'.format(max_exclusive_time))                                                 \n",
    "            filter_gf = gf.filter(lambda x: True if (x['CPUTIME (usec) (E)'] > 0.01*max_exclusive_time) else False)                  \n",
    "        else:                                                                                                                        \n",
    "            print(\"Not filtering.... Can take forever. Thou were warned\")                                                         \n",
    "            filter_gf = gf                                                                                                           \n",
    "        print('[Filter] Removed {0} rows.)'.format(gf.dataframe.shape[0] - filter_gf.dataframe.shape[0]))                                                                                                                            \n",
    "        print(\"Grafting the graph!\")                                                                                            \n",
    "        filter_gf = filter_gf.graft()                                                                                                \n",
    "        print(\"[Graft] {0} rows left\".format(filter_gf.dataframe.shape[0]))                           \n",
    "        fgfs.append(filter_gf)                                                                                                       \n",
    "    return fgfs      \n",
    "\n",
    "# filtered graph frames.\n",
    "fgfs = filter_gfs(gfs, 'IncTime')    "
   ]
  },
  {
   "cell_type": "code",
   "execution_count": 201,
   "metadata": {},
   "outputs": [
    {
     "name": "stdout",
     "output_type": "stream",
     "text": [
      "Shape of the dataframe from graph (db-ampi4-100-1): (825, 10)\n",
      "Shape of the dataframe from graph (hpctoolkit-database): (595, 10)\n"
     ]
    }
   ],
   "source": [
    "# Print filtered graph information. \n",
    "for idx, fgf in enumerate(fgfs):\n",
    "    print(\"Shape of the dataframe from graph ({0}): {1}\".format(dataset[idx], fgf.dataframe.shape))"
   ]
  },
  {
   "cell_type": "code",
   "execution_count": 202,
   "metadata": {
    "scrolled": true
   },
   "outputs": [],
   "source": [
    "# add n_index to the dataframe.\n",
    "def add_n_index(gf):\n",
    "    gf.dataframe['n_index'] = gf.dataframe.groupby('nid').ngroup()"
   ]
  },
  {
   "cell_type": "code",
   "execution_count": 203,
   "metadata": {},
   "outputs": [],
   "source": [
    "# ret = {\n",
    "#   node_name : df_index\n",
    "#}\n",
    "def df_index_name_mapper(graph, df):\n",
    "    ret = {}\n",
    "    node_count = 0\n",
    "    root = graph.roots[0]\n",
    "    node_gen = graph.roots[0].traverse()\n",
    "    try:\n",
    "        while root.callpath != None:\n",
    "            node_count += 1\n",
    "            root = next(node_gen)\n",
    "            ret[root.callpath[-1]] = root.df_index\n",
    "    except StopIteration:\n",
    "        pass\n",
    "    finally:\n",
    "        print(\"Total nodes in graph: \", node_count)\n",
    "        del root\n",
    "    return ret\n",
    "\n",
    "# add df_index to the dataframe\n",
    "def add_df_index(gf):\n",
    "    df_index_name_map = df_index_name_mapper(gf.graph, gf.dataframe)\n",
    "    gf.dataframe['df_index'] = gf.dataframe['name'].apply(lambda node: df_index_name_map[node] if node in df_index_name_map else 'as ')   "
   ]
  },
  {
   "cell_type": "code",
   "execution_count": 204,
   "metadata": {},
   "outputs": [],
   "source": [
    "# add callee and caller data into the dataframe\n",
    "def add_callers_and_callee(graph, df):\n",
    "    callees = {}\n",
    "    callers = {}\n",
    "    root = graph.roots[0]\n",
    "    node_gen = graph.roots[0].traverse()\n",
    "    root_df = root.callpath[-1]\n",
    "    callers[root_df] = []\n",
    "    callees[root_df] = []\n",
    "    try:                                                                                                                        \n",
    "        while root.callpath != None:                                                                                            \n",
    "            root = next(node_gen)                                                                                               \n",
    "            if root.parent:                                                                                                     \n",
    "                root_df = root.callpath[-1]                                                                                     \n",
    "                parent_df = root.parent.callpath[-1]                                                                            \n",
    "                if parent_df not in callees:                                                                                    \n",
    "                    callees[parent_df] = []              \n",
    "                callees[parent_df].append(root_df)                                                                              \n",
    "                                                                                                                                        \n",
    "                if root_df not in callers:                                                                                      \n",
    "                    callers[root_df] = []                                                                                       \n",
    "                callers[root_df].append(parent_df)                                                                              \n",
    "                                                                                                                                        \n",
    "    except StopIteration:                                                                                                       \n",
    "        pass                                                                                                                    \n",
    "    finally:                                                                                                                    \n",
    "        del root                                                                                                                \n",
    "                                                                                                                                        \n",
    "    df['callees'] = df['name'].apply(lambda node: callees[node] if node in callees else [])                           \n",
    "    df['callers'] = df['name'].apply(lambda node: callers[node] if node in callers else []) "
   ]
  },
  {
   "cell_type": "code",
   "execution_count": 205,
   "metadata": {},
   "outputs": [],
   "source": [
    "#pre-process dataframe to add more information. \n",
    "def preprocess(state):\n",
    "    preprocess = PreProcess.Builder(state).add_df_index().add_n_index().add_mod_index().add_path().add_callers_and_callees().add_show_node().add_vis_node_name().update_module_name().clean_lib_monitor().add_max_incTime().add_incTime().add_excTime().add_avg_incTime().add_imbalance_perc().build() "
   ]
  },
  {
   "cell_type": "code",
   "execution_count": 206,
   "metadata": {},
   "outputs": [],
   "source": [
    "#NetworkX stuff.\n",
    "def create_nx_graph(state):\n",
    "    g = nx.DiGraph()\n",
    "    return g"
   ]
  },
  {
   "cell_type": "code",
   "execution_count": 207,
   "metadata": {},
   "outputs": [],
   "source": [
    "states = []\n",
    "def main(fgfs):\n",
    "    for idx, fgf in enumerate(fgfs):\n",
    "        state = State(fgf)\n",
    "        preprocess(state)\n",
    "        groupBy(state, 'module')\n",
    "        create_nx_graph(state)\n",
    "        states.append(state)"
   ]
  },
  {
   "cell_type": "code",
   "execution_count": 208,
   "metadata": {},
   "outputs": [
    {
     "name": "stdout",
     "output_type": "stream",
     "text": [
      "Total nodes in the graph 114\n",
      "3.384563446044922\n",
      "Total nodes in the graph 73\n",
      "1.9086804389953613\n"
     ]
    }
   ],
   "source": [
    "main(fgfs)"
   ]
  },
  {
   "cell_type": "code",
   "execution_count": 209,
   "metadata": {},
   "outputs": [],
   "source": [
    "def getHierarchy(state, module):\n",
    "    df = state.df\n",
    "    paths = []\n",
    "    func_in_module = df.loc[df['module'] == module]['name'].unique().tolist()\n",
    "    print(\"Number of functions inside the {0} module: {1}\".format(module, len(func_in_module)))\n",
    "    for idx, func in enumerate(func_in_module):\n",
    "        paths.append({\n",
    "            \"module\": module,\n",
    "            \"path\": [df.loc[df['name'] == func]['component_path'].unique().tolist()[0]],\n",
    "            \"inc_time\" : df.loc[df['name'] == func]['CPUTIME (usec) (I)'].mean()\n",
    "        })\n",
    "    return pd.DataFrame(paths)"
   ]
  },
  {
   "cell_type": "code",
   "execution_count": 210,
   "metadata": {},
   "outputs": [
    {
     "name": "stdout",
     "output_type": "stream",
     "text": [
      "In dataset data/lulesh-1/db-ampi4-100-1\n",
      "Number of functions inside the lulesh2.0 module: 32\n",
      "In dataset data/lulesh-1/hpctoolkit-database\n",
      "Number of functions inside the lulesh2.0 module: 36\n"
     ]
    }
   ],
   "source": [
    "for idx, state in enumerate(states):\n",
    "    print(\"In dataset {0}\".format(dataset_path[idx]))\n",
    "    modules = state.df['module'].unique().tolist()\n",
    "    for idx, module in enumerate(modules):\n",
    "        if module =='lulesh2.0':\n",
    "            paths = getHierarchy(state, module)\n",
    "            paths.to_csv(str(module + \".csv\"))"
   ]
  },
  {
   "cell_type": "code",
   "execution_count": 211,
   "metadata": {},
   "outputs": [
    {
     "data": {
      "image/png": "[encoded data removed]",
      "text/plain": [
       "<Figure size 576x576 with 3 Axes>"
      ]
     },
     "metadata": {
      "needs_background": "light"
     },
     "output_type": "display_data"
    },
    {
     "data": {
      "image/png": "[encoded data removed]",
      "text/plain": [
       "<Figure size 576x576 with 3 Axes>"
      ]
     },
     "metadata": {
      "needs_background": "light"
     },
     "output_type": "display_data"
    }
   ],
   "source": [
    "# Joint plot of the Inclusive and Exclusive times.\n",
    "df = fgfs[0].dataframe\n",
    "df2 = fgfs[1].dataframe\n",
    "root_max_df = 107348942.00\n",
    "root_max_df2 = 145114370.00\n",
    "sns.jointplot('CPUTIME (usec) (I)', 'CPUTIME (usec) (E)',\n",
    "              df.loc[(df['CPUTIME (usec) (I)'] < 0.10*107348942.00) &\n",
    "                     (df['CPUTIME (usec) (E)'] > 0)],\n",
    "              alpha=.25, marker='.', height=8);\n",
    "sns.jointplot('CPUTIME (usec) (I)', 'CPUTIME (usec) (E)',\n",
    "              df2.loc[(df2['CPUTIME (usec) (I)'] < 0.10*145114370.00) &\n",
    "                     (df2['CPUTIME (usec) (E)'] > 0)],\n",
    "              alpha=.25, marker='.', height=8);"
   ]
  },
  {
   "cell_type": "code",
   "execution_count": 212,
   "metadata": {},
   "outputs": [],
   "source": [
    "def add_paths(state, path_name):\n",
    "    for idx, row in state.df.iterrows():\n",
    "        state.g.add_path(row[path_name])"
   ]
  },
  {
   "cell_type": "code",
   "execution_count": 213,
   "metadata": {},
   "outputs": [],
   "source": [
    "def print_graph(states):\n",
    "    for idx, state in enumerate(states):\n",
    "        print(state.g.nodes())"
   ]
  },
  {
   "cell_type": "code",
   "execution_count": 214,
   "metadata": {},
   "outputs": [],
   "source": [
    "def draw_graph(g):\n",
    "    pos = nx.spectral_layout(g)\n",
    "    nx.draw_networkx_nodes(g, pos, cmap=plt.get_cmap('jet'), \n",
    "                        node_size = 50)\n",
    "    nx.draw_networkx_edges(g, pos, edge_color='b', arrows=True)\n"
   ]
  },
  {
   "cell_type": "code",
   "execution_count": 215,
   "metadata": {},
   "outputs": [],
   "source": [
    "def add_levels(state):\n",
    "    levelMap = {}\n",
    "    track_level = 0\n",
    "    nodes = state.g.nbunch_iter(state.root)\n",
    "    \n",
    "    for start_node in nodes:\n",
    "        print(\"Start node\", start_node)\n",
    "        active_nodes = [start_node]\n",
    "        levelMap[state.root] = 0\n",
    "        \n",
    "        for edge in nx.edge_dfs(state.g, start_node, 'original'):\n",
    "            #rint(\"Edge {0}\".format(edge))\n",
    "            head_level = None\n",
    "            tail_level = None\n",
    "            head, tail = edge[0], edge[1]\n",
    "            \n",
    "            if head != start_node:\n",
    "                active_nodes.append(head)\n",
    "                \n",
    "            if head in active_nodes and head != start_node and tail in active_nodes:\n",
    "                #rint(\"Cycle\", edge)\n",
    "                edge_data = state.g.get_edge_data(*edge)                                                                             \n",
    "                state.g.add_node(tail+'_')                                                                                           \n",
    "                state.g.add_edge(head, tail+'_', data=edge_data)                                                                     \n",
    "                state.g.node[tail+'_']['name'] = [tail + '_']                                                                        \n",
    "                #state.g.node[tail+'_']['weight'] = state.g.node[tail]['weight']   \n",
    "                state.g.remove_edge(edge[0], edge[1])\n",
    "    return levelMap"
   ]
  },
  {
   "cell_type": "code",
   "execution_count": 216,
   "metadata": {},
   "outputs": [],
   "source": [
    " def flow_map(state):                                                                                                                 \n",
    "        flowMap = {}                                                                                                                    \n",
    "        nodes = state.g.nbunch_iter(state.root)                                                                                           \n",
    "        for start_node in nodes:                                                                                                        \n",
    "            for edge in nx.edge_dfs(state.g, start_node, 'original'):                                                                    \n",
    "                head_level = None                                                                                                       \n",
    "                tail_level = None                                                                                                       \n",
    "                head, tail = self.tailhead(edge)                                                                                        \n",
    "                                                                                                                                        \n",
    "                # Check if there is an existing level mapping for the head node and assign.                                             \n",
    "                if head in self.level_mapping.keys():                                                                                   \n",
    "                    head_level =  self.level_mapping[head]                                                                              \n",
    "                                                                                                                                        \n",
    "                # Check if there is an existing level mapping for the tail node and assign.                                             \n",
    "                if tail in self.level_mapping.keys():                                                                                   \n",
    "                    tail_level = self.level_mapping[tail]                                                                               \n",
    "                                                                                                                                        \n",
    "                flowMap[(edge[0], edge[1])] = (int(head_level), int(tail_level))                                                        \n",
    "        return flowMap "
   ]
  },
  {
   "cell_type": "code",
   "execution_count": 217,
   "metadata": {},
   "outputs": [],
   "source": [
    "def calculate_flows(state):\n",
    "    graph = state.g\n",
    "    ret = {}                                                                                                                                                                                                                                                                          \n",
    "    edges = graph.edges()                                                                                                                                                                                                                                                             \n",
    "    additional_flow = {}                                                                                                                                                                                                                                                              \n",
    "                                                                                                                                                                                                                                                                                          \n",
    "    # Calculates the costs in cycles and aggregates to one node.                                                                                                                                                                                                                      \n",
    "    for edge in edges:                                                                                                                                                                                                                                                                \n",
    "        source = edge[0]                                                                                                                                                                                                                                                              \n",
    "        target = edge[1]                                                                                                                                                                                                                                                              \n",
    "                                                                                                                                                                                                                                                                                          \n",
    "        if source.endswith('_'):                                                                                                                                                                                                                                                      \n",
    "            cycle_node = source                                                                                                                                                                                                                                                       \n",
    "            cycle_node_df = self.state.lookup_with_nodeName(cycle_node[:-1])                                                                                                                                                                                                      \n",
    "            additional_flow[cycle_node] = cycle_node_df['CPUTIME (usec) (I)'].max()                                                                                                                                                                                                   \n",
    "        elif target.endswith('_'):                                                                                                                                                                                                                                                    \n",
    "            cycle_node = target                                                                                                                                                                                                                                                       \n",
    "            cycle_node_df = state.lookup_with_nodeName(cycle_node[:-1])                                                                                                                                                                                                      \n",
    "            additional_flow[cycle_node] = cycle_node_df['CPUTIME (usec) (I)'].max()                                                                                                                                                                                                   \n",
    "                                                                                                                                                                                                                                                                                          \n",
    "    for edge in edges:                                                                                                                                                                                                                                                                \n",
    "        added_flow = 0                                                                                                                                                                                                                                                                \n",
    "        if edge[0].endswith('_'):                                                                                                                                                                                                                                                     \n",
    "            ret[edge] = additional_flow[edge[0]]                                                                                                                                                                                                                                      \n",
    "            continue                                                                                                                                                                                                                                                                  \n",
    "        elif edge[1].endswith('_'):                                                                                                                                                                                                                                                   \n",
    "            ret[edge] = additional_flow[edge[1]]                                                                                                                                                                                                                                      \n",
    "            continue                                                                                                                                                                                                                                                                  \n",
    "        source = state.lookup_with_nodeName(edge[0])                                                                                                                                                                                                                         \n",
    "        target = state.lookup_with_nodeName(edge[1])                                                                                                                                                                                                                         \n",
    "                                                                                                                                                                                                                                                                                          \n",
    "        source_inc = source['CPUTIME (usec) (I)'].max()                                                                                                                                                                                                                               \n",
    "        target_inc = target['CPUTIME (usec) (I)'].max()                                                                         \n",
    "                                                                                                                                                                                                                                                                                          \n",
    "        if source_inc == target_inc:                                                                                                                                                                                                                                                  \n",
    "            ret[edge] = source_inc                                                                                                                                                                                                                                                    \n",
    "        else:                                                                                                                                                                                                                                                                         \n",
    "            ret[edge] = target_inc    \n",
    "    return ret   "
   ]
  },
  {
   "cell_type": "code",
   "execution_count": 218,
   "metadata": {},
   "outputs": [],
   "source": [
    "def add_edge_attributes(state):\n",
    "    capacity_mapping = calculate_flows(state)    \n",
    "    nx.set_edge_attributes(state.g, name='weight', values=capacity_mapping)"
   ]
  },
  {
   "cell_type": "code",
   "execution_count": 219,
   "metadata": {},
   "outputs": [
    {
     "name": "stdout",
     "output_type": "stream",
     "text": [
      "Start node <partial call paths>\n",
      "Start node <partial call paths>\n"
     ]
    }
   ],
   "source": [
    "for idx, state in enumerate(states):\n",
    "    state.g = nx.DiGraph()\n",
    "    state.root = state.lookup_with_node(state.graph.roots[0])['name'][0]\n",
    "    state.rootInc = state.lookup_with_node(state.graph.roots[0])['CPUTIME (usec) (I)'].max()\n",
    "    add_paths(state, 'path')\n",
    "    state.levelMap = add_levels(state)\n",
    "    add_edge_attributes(state)  \n",
    "    #draw_graph(state.g)"
   ]
  },
  {
   "cell_type": "code",
   "execution_count": 220,
   "metadata": {},
   "outputs": [
    {
     "name": "stdout",
     "output_type": "stream",
     "text": [
      "[[0. 1. 0. ... 0. 0. 0.]\n",
      " [0. 0. 0. ... 0. 0. 0.]\n",
      " [0. 0. 0. ... 0. 0. 0.]\n",
      " ...\n",
      " [0. 0. 0. ... 0. 0. 0.]\n",
      " [0. 0. 0. ... 0. 0. 0.]\n",
      " [0. 0. 0. ... 0. 0. 0.]]\n",
      "[[0.         0.99996864 0.         ... 0.         0.         0.        ]\n",
      " [0.         0.         0.         ... 0.         0.         0.        ]\n",
      " [0.         0.         0.         ... 0.         0.         0.        ]\n",
      " ...\n",
      " [0.         0.         0.         ... 0.         0.         0.        ]\n",
      " [0.         0.         0.         ... 0.         0.         0.        ]\n",
      " [0.         0.         0.         ... 0.         0.         0.        ]]\n"
     ]
    }
   ],
   "source": [
    "def create_flow_matrix(state):\n",
    "    g = state.g\n",
    "    nodes = g.nodes()\n",
    "    \n",
    "    state.nodeKey = {}\n",
    "    for idx, node in enumerate(nodes):\n",
    "        state.nodeKey[node] = idx\n",
    "    \n",
    "    flow_matrix = np.zeros(shape=(len(nodes),len(nodes)))\n",
    "    flow_matrix.astype(float)\n",
    "    \n",
    "    for idx, node in enumerate(nodes):\n",
    "        if idx == 0:\n",
    "            neighbors = sorted(g[node].items(), key=lambda edge: edge[1]['weight'])\n",
    "            for idx, n in enumerate(neighbors):\n",
    "                sourceKey = int(state.nodeKey[node])\n",
    "                targetKey = int(state.nodeKey[n[0]])\n",
    "                weight = n[1]['weight']\n",
    "                flow_matrix[sourceKey][targetKey] = n[1]['weight']/(1.0*state.rootInc)\n",
    "    return flow_matrix\n",
    "\n",
    "for idx, state in enumerate(states):\n",
    "     state.flow_matrix = create_flow_matrix(state)"
   ]
  },
  {
   "cell_type": "code",
   "execution_count": 221,
   "metadata": {},
   "outputs": [
    {
     "name": "stdout",
     "output_type": "stream",
     "text": [
      "[array([[0., 1., 0., ..., 0., 0., 0.],\n",
      "       [0., 0., 0., ..., 0., 0., 0.],\n",
      "       [0., 0., 0., ..., 0., 0., 0.],\n",
      "       ...,\n",
      "       [0., 0., 0., ..., 0., 0., 0.],\n",
      "       [0., 0., 0., ..., 0., 0., 0.],\n",
      "       [0., 0., 0., ..., 0., 0., 0.]])\n",
      " array([[0.        , 0.99996864, 0.        , ..., 0.        , 0.        ,\n",
      "        0.        ],\n",
      "       [0.        , 0.        , 0.        , ..., 0.        , 0.        ,\n",
      "        0.        ],\n",
      "       [0.        , 0.        , 0.        , ..., 0.        , 0.        ,\n",
      "        0.        ],\n",
      "       ...,\n",
      "       [0.        , 0.        , 0.        , ..., 0.        , 0.        ,\n",
      "        0.        ],\n",
      "       [0.        , 0.        , 0.        , ..., 0.        , 0.        ,\n",
      "        0.        ],\n",
      "       [0.        , 0.        , 0.        , ..., 0.        , 0.        ,\n",
      "        0.        ]])]\n"
     ]
    }
   ],
   "source": [
    "xs = np.array([states[0].flow_matrix, states[1].flow_matrix])\n",
    "print(xs)"
   ]
  },
  {
   "cell_type": "code",
   "execution_count": 310,
   "metadata": {},
   "outputs": [
    {
     "name": "stdout",
     "output_type": "stream",
     "text": [
      "[array([[0., 1., 1., ..., 1., 1., 1.],\n",
      "       [1., 0., 0., ..., 0., 0., 0.],\n",
      "       [1., 0., 0., ..., 0., 0., 0.],\n",
      "       ...,\n",
      "       [1., 0., 0., ..., 0., 0., 0.],\n",
      "       [1., 0., 0., ..., 0., 0., 0.],\n",
      "       [1., 0., 0., ..., 0., 0., 0.]]), array([[0., 1., 1., ..., 1., 1., 1.],\n",
      "       [1., 0., 0., ..., 0., 0., 0.],\n",
      "       [1., 0., 0., ..., 0., 0., 0.],\n",
      "       ...,\n",
      "       [1., 0., 0., ..., 0., 0., 0.],\n",
      "       [1., 0., 0., ..., 0., 0., 0.],\n",
      "       [1., 0., 0., ..., 0., 0., 0.]])]\n",
      "[array([0.01162791, 0.01162791, 0.01162791, 0.01162791, 0.01162791,\n",
      "       0.01162791, 0.01162791, 0.01162791, 0.01162791, 0.01162791,\n",
      "       0.01162791, 0.01162791, 0.01162791, 0.01162791, 0.01162791,\n",
      "       0.01162791, 0.01162791, 0.01162791, 0.01162791, 0.01162791,\n",
      "       0.01162791, 0.01162791, 0.01162791, 0.01162791, 0.01162791,\n",
      "       0.01162791, 0.01162791, 0.01162791, 0.01162791, 0.01162791,\n",
      "       0.01162791, 0.01162791, 0.01162791, 0.01162791, 0.01162791,\n",
      "       0.01162791, 0.01162791, 0.01162791, 0.01162791, 0.01162791,\n",
      "       0.01162791, 0.01162791, 0.01162791, 0.01162791, 0.01162791,\n",
      "       0.01162791, 0.01162791, 0.01162791, 0.01162791, 0.01162791,\n",
      "       0.01162791, 0.01162791, 0.01162791, 0.01162791, 0.01162791,\n",
      "       0.01162791, 0.01162791, 0.01162791, 0.01162791, 0.01162791,\n",
      "       0.01162791, 0.01162791, 0.01162791, 0.01162791, 0.01162791,\n",
      "       0.01162791, 0.01162791, 0.01162791, 0.01162791, 0.01162791,\n",
      "       0.01162791, 0.01162791, 0.01162791, 0.01162791, 0.01162791,\n",
      "       0.01162791, 0.01162791, 0.01162791, 0.01162791, 0.01162791,\n",
      "       0.01162791, 0.01162791, 0.01162791, 0.01162791, 0.01162791,\n",
      "       0.01162791]), array([0.015625, 0.015625, 0.015625, 0.015625, 0.015625, 0.015625,\n",
      "       0.015625, 0.015625, 0.015625, 0.015625, 0.015625, 0.015625,\n",
      "       0.015625, 0.015625, 0.015625, 0.015625, 0.015625, 0.015625,\n",
      "       0.015625, 0.015625, 0.015625, 0.015625, 0.015625, 0.015625,\n",
      "       0.015625, 0.015625, 0.015625, 0.015625, 0.015625, 0.015625,\n",
      "       0.015625, 0.015625, 0.015625, 0.015625, 0.015625, 0.015625,\n",
      "       0.015625, 0.015625, 0.015625, 0.015625, 0.015625, 0.015625,\n",
      "       0.015625, 0.015625, 0.015625, 0.015625, 0.015625, 0.015625,\n",
      "       0.015625, 0.015625, 0.015625, 0.015625, 0.015625, 0.015625,\n",
      "       0.015625, 0.015625, 0.015625, 0.015625, 0.015625, 0.015625,\n",
      "       0.015625, 0.015625, 0.015625, 0.015625])]\n"
     ]
    },
    {
     "data": {
      "image/png": "[encoded data removed]",
      "text/plain": [
       "<Figure size 1152x864 with 1 Axes>"
      ]
     },
     "metadata": {
      "needs_background": "light"
     },
     "output_type": "display_data"
    }
   ],
   "source": [
    "S = len(states)\n",
    "\n",
    "ns = [len(xs[s]) for s in range(S)]\n",
    "n_samples = 30\n",
    "\n",
    "\"\"\"Compute all distances matrices for the four shapes\"\"\"\n",
    "Cs = [sp.spatial.distance.cdist(xs[s], xs[s]) for s in range(S)]\n",
    "Cs = [cs / cs.max() for cs in Cs]\n",
    "\n",
    "print(Cs)\n",
    "ps = [ot.unif(ns[s]) for s in range(S)]\n",
    "p = ot.unif(n_samples)\n",
    "print(ps)\n",
    "\n",
    "lambdast = [[float(i) / 3, float(3 - i) / 3] for i in [1, 2]]\n",
    "\n",
    "Ct01 = [0 for i in range(2)]\n",
    "for i in range(S):\n",
    "    Ct01[i] = ot.gromov.gromov_barycenters(n_samples, [Cs[0], Cs[1]],\n",
    "                                           [ps[0], ps[1]\n",
    "                                            ], p, lambdast[i], 'square_loss',  # 5e-4,\n",
    "                                           max_iter=100, tol=1e-3)\n",
    "\n",
    "\n",
    "plt.plot(Ct01[0], Ct01[1], 'o', label = 'Ct01')\n",
    "plt.show()\n"
   ]
  },
  {
   "cell_type": "code",
   "execution_count": 223,
   "metadata": {},
   "outputs": [],
   "source": [
    "def smacof_mds(C, dim, max_iter=3000, eps=1e-9):\n",
    "    \"\"\"\n",
    "    Returns an interpolated point cloud following the dissimilarity matrix C\n",
    "    using SMACOF multidimensional scaling (MDS) in specific dimensionned\n",
    "    target space\n",
    "\n",
    "    Parameters\n",
    "    ----------\n",
    "    C : ndarray, shape (ns, ns)\n",
    "        dissimilarity matrix\n",
    "    dim : int\n",
    "          dimension of the targeted space\n",
    "    max_iter :  int\n",
    "        Maximum number of iterations of the SMACOF algorithm for a single run\n",
    "    eps : float\n",
    "        relative tolerance w.r.t stress to declare converge\n",
    "\n",
    "    Returns\n",
    "    -------\n",
    "    npos : ndarray, shape (R, dim)\n",
    "           Embedded coordinates of the interpolated point cloud (defined with\n",
    "           one isometry)\n",
    "    \"\"\"\n",
    "\n",
    "    rng = np.random.RandomState(seed=3)\n",
    "\n",
    "    mds = manifold.MDS(\n",
    "        dim,\n",
    "        max_iter=max_iter,\n",
    "        eps=1e-9,\n",
    "        dissimilarity='precomputed',\n",
    "        n_init=1)\n",
    "    pos = mds.fit(C).embedding_\n",
    "\n",
    "    nmds = manifold.MDS(\n",
    "        2,\n",
    "        max_iter=max_iter,\n",
    "        eps=1e-9,\n",
    "        dissimilarity=\"precomputed\",\n",
    "        random_state=rng,\n",
    "        n_init=1)\n",
    "    npos = nmds.fit_transform(C, init=pos)\n",
    "\n",
    "    return npos"
   ]
  },
  {
   "cell_type": "code",
   "execution_count": 312,
   "metadata": {},
   "outputs": [
    {
     "name": "stdout",
     "output_type": "stream",
     "text": [
      "[array([[-1.42926355e-02,  1.27414000e-10],\n",
      "       [-1.42926355e-02, -6.58769081e-11],\n",
      "       [-1.42926355e-02, -6.34832268e-11],\n",
      "       [-1.42926355e-02, -1.97438599e-10],\n",
      "       [-1.42926355e-02,  1.54025089e-11],\n",
      "       [-1.42926355e-02,  1.91973191e-10],\n",
      "       [-1.42926355e-02,  2.14949563e-10],\n",
      "       [-1.42926355e-02, -1.12927467e-10],\n",
      "       [-1.42926355e-02,  3.51367241e-11],\n",
      "       [-1.42926355e-02, -1.84019828e-10],\n",
      "       [-1.42926355e-02,  1.49656157e-10],\n",
      "       [-1.42926355e-02, -2.01417117e-10],\n",
      "       [-1.42926355e-02,  1.93870197e-10],\n",
      "       [-1.42926355e-02,  1.25966535e-10],\n",
      "       [-1.42926355e-02,  1.26698861e-10],\n",
      "       [-1.42926355e-02,  8.51292341e-11],\n",
      "       [ 4.14486430e-01,  1.76909549e-18],\n",
      "       [-1.42926355e-02, -1.08515680e-10],\n",
      "       [-1.42926355e-02, -2.15420533e-10],\n",
      "       [-1.42926355e-02,  1.97587447e-10],\n",
      "       [-1.42926355e-02,  1.08638290e-10],\n",
      "       [-1.42926355e-02,  4.89206965e-11],\n",
      "       [-1.42926355e-02, -1.59694350e-10],\n",
      "       [-1.42926355e-02,  5.81237907e-11],\n",
      "       [-1.42926355e-02,  3.58470104e-11],\n",
      "       [-1.42926355e-02, -1.87696689e-10],\n",
      "       [-1.42926355e-02, -6.14806110e-11],\n",
      "       [-1.42926355e-02, -2.14528490e-10],\n",
      "       [-1.42926355e-02, -1.68549439e-10],\n",
      "       [-1.42926355e-02,  2.25734783e-10]]), array([[-1.29602712e-02, -5.90584124e-11],\n",
      "       [-1.29602712e-02,  1.02422323e-10],\n",
      "       [-1.29602712e-02, -4.62286884e-11],\n",
      "       [-1.29602712e-02, -1.21899602e-10],\n",
      "       [ 3.75847865e-01, -4.67760622e-18],\n",
      "       [-1.29602712e-02,  1.37382384e-10],\n",
      "       [-1.29602712e-02,  1.33961321e-10],\n",
      "       [-1.29602712e-02,  2.53144255e-11],\n",
      "       [-1.29602712e-02, -9.13280695e-11],\n",
      "       [-1.29602712e-02,  1.37512905e-10],\n",
      "       [-1.29602712e-02,  4.85431460e-11],\n",
      "       [-1.29602712e-02,  1.12218919e-10],\n",
      "       [-1.29602712e-02,  7.08885923e-11],\n",
      "       [-1.29602712e-02,  1.62574316e-10],\n",
      "       [-1.29602712e-02, -7.04603016e-11],\n",
      "       [-1.29602712e-02,  9.75521127e-11],\n",
      "       [-1.29602712e-02, -1.45770917e-10],\n",
      "       [-1.29602712e-02,  2.22621960e-11],\n",
      "       [-1.29602712e-02, -8.97509164e-11],\n",
      "       [-1.29602712e-02,  1.65552910e-10],\n",
      "       [-1.29602712e-02,  1.30916554e-10],\n",
      "       [-1.29602712e-02, -1.57253113e-10],\n",
      "       [-1.29602712e-02, -1.51935286e-10],\n",
      "       [-1.29602712e-02, -1.58454323e-10],\n",
      "       [-1.29602712e-02, -1.47887355e-10],\n",
      "       [-1.29602712e-02,  1.42167872e-10],\n",
      "       [-1.29602712e-02,  1.44555064e-10],\n",
      "       [-1.29602712e-02, -1.43570689e-10],\n",
      "       [-1.29602712e-02, -9.57547958e-11],\n",
      "       [-1.29602712e-02, -1.54472707e-10]])]\n"
     ]
    },
    {
     "data": {
      "image/png": "[encoded data removed]",
      "text/plain": [
       "<Figure size 1152x864 with 1 Axes>"
      ]
     },
     "metadata": {
      "needs_background": "light"
     },
     "output_type": "display_data"
    },
    {
     "ename": "ValueError",
     "evalue": "x and y must have same first dimension, but have shapes (86, 2) and (64, 2)",
     "output_type": "error",
     "traceback": [
      "\u001b[0;31m---------------------------------------------------------------------------\u001b[0m",
      "\u001b[0;31mValueError\u001b[0m                                Traceback (most recent call last)",
      "\u001b[0;32m<ipython-input-312-89bc91243c34>\u001b[0m in \u001b[0;36m<module>\u001b[0;34m\u001b[0m\n\u001b[1;32m     11\u001b[0m \u001b[0mplt\u001b[0m\u001b[0;34m.\u001b[0m\u001b[0mshow\u001b[0m\u001b[0;34m(\u001b[0m\u001b[0;34m)\u001b[0m\u001b[0;34m\u001b[0m\u001b[0;34m\u001b[0m\u001b[0m\n\u001b[1;32m     12\u001b[0m \u001b[0;34m\u001b[0m\u001b[0m\n\u001b[0;32m---> 13\u001b[0;31m \u001b[0mplt\u001b[0m\u001b[0;34m.\u001b[0m\u001b[0mplot\u001b[0m\u001b[0;34m(\u001b[0m\u001b[0mnpos\u001b[0m\u001b[0;34m[\u001b[0m\u001b[0;36m0\u001b[0m\u001b[0;34m]\u001b[0m\u001b[0;34m,\u001b[0m \u001b[0mnpos\u001b[0m\u001b[0;34m[\u001b[0m\u001b[0;36m1\u001b[0m\u001b[0;34m]\u001b[0m\u001b[0;34m,\u001b[0m \u001b[0;34m'o'\u001b[0m\u001b[0;34m,\u001b[0m \u001b[0mlabel\u001b[0m \u001b[0;34m=\u001b[0m \u001b[0;34m'npos'\u001b[0m\u001b[0;34m)\u001b[0m\u001b[0;34m\u001b[0m\u001b[0;34m\u001b[0m\u001b[0m\n\u001b[0m\u001b[1;32m     14\u001b[0m \u001b[0mplt\u001b[0m\u001b[0;34m.\u001b[0m\u001b[0mshow\u001b[0m\u001b[0;34m(\u001b[0m\u001b[0;34m)\u001b[0m\u001b[0;34m\u001b[0m\u001b[0;34m\u001b[0m\u001b[0m\n\u001b[1;32m     15\u001b[0m \u001b[0;34m\u001b[0m\u001b[0m\n",
      "\u001b[0;32m/usr/local/lib/python3.6/dist-packages/matplotlib/pyplot.py\u001b[0m in \u001b[0;36mplot\u001b[0;34m(scalex, scaley, data, *args, **kwargs)\u001b[0m\n\u001b[1;32m   2811\u001b[0m     return gca().plot(\n\u001b[1;32m   2812\u001b[0m         *args, scalex=scalex, scaley=scaley, **({\"data\": data} if data\n\u001b[0;32m-> 2813\u001b[0;31m         is not None else {}), **kwargs)\n\u001b[0m\u001b[1;32m   2814\u001b[0m \u001b[0;34m\u001b[0m\u001b[0m\n\u001b[1;32m   2815\u001b[0m \u001b[0;34m\u001b[0m\u001b[0m\n",
      "\u001b[0;32m/usr/local/lib/python3.6/dist-packages/matplotlib/__init__.py\u001b[0m in \u001b[0;36minner\u001b[0;34m(ax, data, *args, **kwargs)\u001b[0m\n\u001b[1;32m   1808\u001b[0m                         \u001b[0;34m\"the Matplotlib list!)\"\u001b[0m \u001b[0;34m%\u001b[0m \u001b[0;34m(\u001b[0m\u001b[0mlabel_namer\u001b[0m\u001b[0;34m,\u001b[0m \u001b[0mfunc\u001b[0m\u001b[0;34m.\u001b[0m\u001b[0m__name__\u001b[0m\u001b[0;34m)\u001b[0m\u001b[0;34m,\u001b[0m\u001b[0;34m\u001b[0m\u001b[0;34m\u001b[0m\u001b[0m\n\u001b[1;32m   1809\u001b[0m                         RuntimeWarning, stacklevel=2)\n\u001b[0;32m-> 1810\u001b[0;31m             \u001b[0;32mreturn\u001b[0m \u001b[0mfunc\u001b[0m\u001b[0;34m(\u001b[0m\u001b[0max\u001b[0m\u001b[0;34m,\u001b[0m \u001b[0;34m*\u001b[0m\u001b[0margs\u001b[0m\u001b[0;34m,\u001b[0m \u001b[0;34m**\u001b[0m\u001b[0mkwargs\u001b[0m\u001b[0;34m)\u001b[0m\u001b[0;34m\u001b[0m\u001b[0;34m\u001b[0m\u001b[0m\n\u001b[0m\u001b[1;32m   1811\u001b[0m \u001b[0;34m\u001b[0m\u001b[0m\n\u001b[1;32m   1812\u001b[0m         inner.__doc__ = _add_data_doc(inner.__doc__,\n",
      "\u001b[0;32m/usr/local/lib/python3.6/dist-packages/matplotlib/axes/_axes.py\u001b[0m in \u001b[0;36mplot\u001b[0;34m(self, scalex, scaley, *args, **kwargs)\u001b[0m\n\u001b[1;32m   1609\u001b[0m         \u001b[0mkwargs\u001b[0m \u001b[0;34m=\u001b[0m \u001b[0mcbook\u001b[0m\u001b[0;34m.\u001b[0m\u001b[0mnormalize_kwargs\u001b[0m\u001b[0;34m(\u001b[0m\u001b[0mkwargs\u001b[0m\u001b[0;34m,\u001b[0m \u001b[0mmlines\u001b[0m\u001b[0;34m.\u001b[0m\u001b[0mLine2D\u001b[0m\u001b[0;34m.\u001b[0m\u001b[0m_alias_map\u001b[0m\u001b[0;34m)\u001b[0m\u001b[0;34m\u001b[0m\u001b[0;34m\u001b[0m\u001b[0m\n\u001b[1;32m   1610\u001b[0m \u001b[0;34m\u001b[0m\u001b[0m\n\u001b[0;32m-> 1611\u001b[0;31m         \u001b[0;32mfor\u001b[0m \u001b[0mline\u001b[0m \u001b[0;32min\u001b[0m \u001b[0mself\u001b[0m\u001b[0;34m.\u001b[0m\u001b[0m_get_lines\u001b[0m\u001b[0;34m(\u001b[0m\u001b[0;34m*\u001b[0m\u001b[0margs\u001b[0m\u001b[0;34m,\u001b[0m \u001b[0;34m**\u001b[0m\u001b[0mkwargs\u001b[0m\u001b[0;34m)\u001b[0m\u001b[0;34m:\u001b[0m\u001b[0;34m\u001b[0m\u001b[0;34m\u001b[0m\u001b[0m\n\u001b[0m\u001b[1;32m   1612\u001b[0m             \u001b[0mself\u001b[0m\u001b[0;34m.\u001b[0m\u001b[0madd_line\u001b[0m\u001b[0;34m(\u001b[0m\u001b[0mline\u001b[0m\u001b[0;34m)\u001b[0m\u001b[0;34m\u001b[0m\u001b[0;34m\u001b[0m\u001b[0m\n\u001b[1;32m   1613\u001b[0m             \u001b[0mlines\u001b[0m\u001b[0;34m.\u001b[0m\u001b[0mappend\u001b[0m\u001b[0;34m(\u001b[0m\u001b[0mline\u001b[0m\u001b[0;34m)\u001b[0m\u001b[0;34m\u001b[0m\u001b[0;34m\u001b[0m\u001b[0m\n",
      "\u001b[0;32m/usr/local/lib/python3.6/dist-packages/matplotlib/axes/_base.py\u001b[0m in \u001b[0;36m_grab_next_args\u001b[0;34m(self, *args, **kwargs)\u001b[0m\n\u001b[1;32m    391\u001b[0m                 \u001b[0mthis\u001b[0m \u001b[0;34m+=\u001b[0m \u001b[0margs\u001b[0m\u001b[0;34m[\u001b[0m\u001b[0;36m0\u001b[0m\u001b[0;34m]\u001b[0m\u001b[0;34m,\u001b[0m\u001b[0;34m\u001b[0m\u001b[0;34m\u001b[0m\u001b[0m\n\u001b[1;32m    392\u001b[0m                 \u001b[0margs\u001b[0m \u001b[0;34m=\u001b[0m \u001b[0margs\u001b[0m\u001b[0;34m[\u001b[0m\u001b[0;36m1\u001b[0m\u001b[0;34m:\u001b[0m\u001b[0;34m]\u001b[0m\u001b[0;34m\u001b[0m\u001b[0;34m\u001b[0m\u001b[0m\n\u001b[0;32m--> 393\u001b[0;31m             \u001b[0;32myield\u001b[0m \u001b[0;32mfrom\u001b[0m \u001b[0mself\u001b[0m\u001b[0;34m.\u001b[0m\u001b[0m_plot_args\u001b[0m\u001b[0;34m(\u001b[0m\u001b[0mthis\u001b[0m\u001b[0;34m,\u001b[0m \u001b[0mkwargs\u001b[0m\u001b[0;34m)\u001b[0m\u001b[0;34m\u001b[0m\u001b[0;34m\u001b[0m\u001b[0m\n\u001b[0m\u001b[1;32m    394\u001b[0m \u001b[0;34m\u001b[0m\u001b[0m\n\u001b[1;32m    395\u001b[0m \u001b[0;34m\u001b[0m\u001b[0m\n",
      "\u001b[0;32m/usr/local/lib/python3.6/dist-packages/matplotlib/axes/_base.py\u001b[0m in \u001b[0;36m_plot_args\u001b[0;34m(self, tup, kwargs)\u001b[0m\n\u001b[1;32m    368\u001b[0m             \u001b[0mx\u001b[0m\u001b[0;34m,\u001b[0m \u001b[0my\u001b[0m \u001b[0;34m=\u001b[0m \u001b[0mindex_of\u001b[0m\u001b[0;34m(\u001b[0m\u001b[0mtup\u001b[0m\u001b[0;34m[\u001b[0m\u001b[0;34m-\u001b[0m\u001b[0;36m1\u001b[0m\u001b[0;34m]\u001b[0m\u001b[0;34m)\u001b[0m\u001b[0;34m\u001b[0m\u001b[0;34m\u001b[0m\u001b[0m\n\u001b[1;32m    369\u001b[0m \u001b[0;34m\u001b[0m\u001b[0m\n\u001b[0;32m--> 370\u001b[0;31m         \u001b[0mx\u001b[0m\u001b[0;34m,\u001b[0m \u001b[0my\u001b[0m \u001b[0;34m=\u001b[0m \u001b[0mself\u001b[0m\u001b[0;34m.\u001b[0m\u001b[0m_xy_from_xy\u001b[0m\u001b[0;34m(\u001b[0m\u001b[0mx\u001b[0m\u001b[0;34m,\u001b[0m \u001b[0my\u001b[0m\u001b[0;34m)\u001b[0m\u001b[0;34m\u001b[0m\u001b[0;34m\u001b[0m\u001b[0m\n\u001b[0m\u001b[1;32m    371\u001b[0m \u001b[0;34m\u001b[0m\u001b[0m\n\u001b[1;32m    372\u001b[0m         \u001b[0;32mif\u001b[0m \u001b[0mself\u001b[0m\u001b[0;34m.\u001b[0m\u001b[0mcommand\u001b[0m \u001b[0;34m==\u001b[0m \u001b[0;34m'plot'\u001b[0m\u001b[0;34m:\u001b[0m\u001b[0;34m\u001b[0m\u001b[0;34m\u001b[0m\u001b[0m\n",
      "\u001b[0;32m/usr/local/lib/python3.6/dist-packages/matplotlib/axes/_base.py\u001b[0m in \u001b[0;36m_xy_from_xy\u001b[0;34m(self, x, y)\u001b[0m\n\u001b[1;32m    229\u001b[0m         \u001b[0;32mif\u001b[0m \u001b[0mx\u001b[0m\u001b[0;34m.\u001b[0m\u001b[0mshape\u001b[0m\u001b[0;34m[\u001b[0m\u001b[0;36m0\u001b[0m\u001b[0;34m]\u001b[0m \u001b[0;34m!=\u001b[0m \u001b[0my\u001b[0m\u001b[0;34m.\u001b[0m\u001b[0mshape\u001b[0m\u001b[0;34m[\u001b[0m\u001b[0;36m0\u001b[0m\u001b[0;34m]\u001b[0m\u001b[0;34m:\u001b[0m\u001b[0;34m\u001b[0m\u001b[0;34m\u001b[0m\u001b[0m\n\u001b[1;32m    230\u001b[0m             raise ValueError(\"x and y must have same first dimension, but \"\n\u001b[0;32m--> 231\u001b[0;31m                              \"have shapes {} and {}\".format(x.shape, y.shape))\n\u001b[0m\u001b[1;32m    232\u001b[0m         \u001b[0;32mif\u001b[0m \u001b[0mx\u001b[0m\u001b[0;34m.\u001b[0m\u001b[0mndim\u001b[0m \u001b[0;34m>\u001b[0m \u001b[0;36m2\u001b[0m \u001b[0;32mor\u001b[0m \u001b[0my\u001b[0m\u001b[0;34m.\u001b[0m\u001b[0mndim\u001b[0m \u001b[0;34m>\u001b[0m \u001b[0;36m2\u001b[0m\u001b[0;34m:\u001b[0m\u001b[0;34m\u001b[0m\u001b[0;34m\u001b[0m\u001b[0m\n\u001b[1;32m    233\u001b[0m             raise ValueError(\"x and y can be no greater than 2-D, but have \"\n",
      "\u001b[0;31mValueError\u001b[0m: x and y must have same first dimension, but have shapes (86, 2) and (64, 2)"
     ]
    },
    {
     "data": {
      "image/png": "[encoded data removed]",
      "text/plain": [
       "<Figure size 1152x864 with 1 Axes>"
      ]
     },
     "metadata": {
      "needs_background": "light"
     },
     "output_type": "display_data"
    }
   ],
   "source": [
    "clf = PCA(n_components=2)\n",
    "npos = [0, 0]\n",
    "npos = [smacof_mds(Cs[s], 2) for s in range(S)]\n",
    "\n",
    "npost01 = [0, 0]\n",
    "npost01 = [smacof_mds(Ct01[s], 2) for s in range(2)]\n",
    "npost01 = [clf.fit_transform(npost01[s]) for s in range(2)] \n",
    "\n",
    "print(npost01)\n",
    "plt.plot(npost01[0], npost01[1], 'o', label = 'npost01')\n",
    "plt.show()\n",
    "\n",
    "plt.plot(npos[0], npos[1], 'o', label = 'npos')\n",
    "plt.show()\n",
    "\n",
    "nx01min = npos[0][0][0]\n",
    "nx01max = npos[0][0][0]\n",
    "ny01min = npos[0][1][1]\n",
    "ny01max = npos[0][1][1]\n",
    "\n",
    "nx02min = npos[1][0][0]\n",
    "nx02max = npos[1][0][0]\n",
    "ny02min = npos[1][1][1]\n",
    "ny02max = npos[1][1][1]\n",
    "\n",
    "for idx, arr in enumerate(npos):\n",
    "    if arr[0][0] < nx01min:\n",
    "        nx01min = arr[0][0]\n",
    "    else:\n",
    "        pass\n",
    "    \n",
    "    if arr[0][1] > nx01max:\n",
    "        nx01max = arr[0][1]\n",
    "    else:\n",
    "        pass\n",
    "    \n",
    "    if arr[1][0] < ny01min:\n",
    "        ny01min = arr[1][0]\n",
    "    else:\n",
    "        pass\n",
    "    \n",
    "    if arr[1][1] > ny01max:\n",
    "        ny01max = arr[1][1]\n",
    "    else:\n",
    "        pass\n",
    "\n",
    "\n",
    "for idx, arr in enumerate(npost01):\n",
    "    if arr[0][0] < nx02min:\n",
    "        nx02min = arr[0][0]\n",
    "    else:\n",
    "        pass\n",
    "    \n",
    "    if arr[0][1] > nx02max:\n",
    "        nx02max = arr[0][1]\n",
    "    else:\n",
    "        pass\n",
    "    \n",
    "    if arr[1][0] < ny02min:\n",
    "        ny02min = arr[1][0]\n",
    "    else:\n",
    "        pass\n",
    "    \n",
    "    if arr[1][1] > ny02max:\n",
    "        ny02max = arr[1][1]\n",
    "    else:\n",
    "        pass\n",
    "\n",
    "fig = plt.figure(figsize=(10, 10))\n",
    "\n",
    "x1 = []\n",
    "y1 = []\n",
    "for idx, val in enumerate(npost01[0]):\n",
    "    x1.append(val[0])\n",
    "    y1.append(val[1])\n",
    "    \n",
    "x2 = []\n",
    "y2 = []\n",
    "for idx, val in enumerate(npost01[1]):\n",
    "    x2.append(val[0])\n",
    "    y2.append(val[1])\n",
    "\n",
    "x1 = np.asarray(x1)\n",
    "x2 = np.asarray(x2)\n",
    "y1 = np.asarray(y1)\n",
    "y2 = np.asarray(y2)\n",
    "\n",
    "x1min = np.minimum(x1)\n",
    "x2min = np.minimum(x2)\n",
    "x1max = np.maximum(x1)\n",
    "x2max = np.maximum(x2)\n",
    "\n",
    "y1min = np.minimum(y1)\n",
    "y2min = np.minimum(y2)\n",
    "y1max = np.maximum(y1)\n",
    "y2max = np.maximum(y2)\n",
    "#ax1 = plt.subplot2grid((1, 1), (0, 0))  \n",
    "#plt.xlim((nx01min - 0.1, nx01max + 0.1))\n",
    "#plt.ylim((ny01min - 0.1, ny01max + 0.1))\n",
    "#ax1.scatter(npos[0][:, 0], npos[0][:, 1], color='r')\n",
    "\n",
    "ax2 = plt.subplot2grid((1, 2), (0, 1))\n",
    "plt.xlim(x1min, x1max)\n",
    "plt.ylim(y1min, y1max)\n",
    "ax2.scatter(x1, y1, color='b')\n",
    "ax2.scatter(x2, y2, color='r')\n",
    "\n",
    "print(x1, x2)\n",
    "print(y1, y2)"
   ]
  }
 ],
 "metadata": {
  "kernelspec": {
   "display_name": "Python 3",
   "language": "python",
   "name": "python3"
  },
  "language_info": {
   "codemirror_mode": {
    "name": "ipython",
    "version": 3
   },
   "file_extension": ".py",
   "mimetype": "text/x-python",
   "name": "python",
   "nbconvert_exporter": "python",
   "pygments_lexer": "ipython3",
   "version": "3.6.7"
  }
 },
 "nbformat": 4,
 "nbformat_minor": 2
}
