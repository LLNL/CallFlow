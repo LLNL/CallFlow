{
 "cells": [
  {
   "cell_type": "code",
   "execution_count": 1,
   "metadata": {},
   "outputs": [
    {
     "name": "stderr",
     "output_type": "stream",
     "text": [
      "/usr/local/lib/python3.6/dist-packages/matplotlib/__init__.py:855: MatplotlibDeprecationWarning: \n",
      "examples.directory is deprecated; in the future, examples will be found relative to the 'datapath' directory.\n",
      "  \"found relative to the 'datapath' directory.\".format(key))\n",
      "/usr/local/lib/python3.6/dist-packages/matplotlib/__init__.py:846: MatplotlibDeprecationWarning: \n",
      "The text.latex.unicode rcparam was deprecated in Matplotlib 2.2 and will be removed in 3.1.\n",
      "  \"2.2\", name=key, obj_type=\"rcparam\", addendum=addendum)\n",
      "/usr/local/lib/python3.6/dist-packages/seaborn/apionly.py:9: UserWarning: As seaborn no longer sets a default style on import, the seaborn.apionly module is deprecated. It will be removed in a future version.\n",
      "  warnings.warn(msg, UserWarning)\n"
     ]
    }
   ],
   "source": [
    "import networkx as nx\n",
    "import pandas\n",
    "from hatchet import *\n",
    "import os\n",
    "import matplotlib.pyplot as plt\n",
    "import seaborn.apionly as sns\n",
    "import igraph\n",
    "import platform\n",
    "from graph_tool.all import *"
   ]
  },
  {
   "cell_type": "code",
   "execution_count": 2,
   "metadata": {},
   "outputs": [],
   "source": [
    "from actions.groupBy import groupBy\n",
    "from state import State\n",
    "from callgraph import CallGraph\n",
    "from preprocess import PreProcess"
   ]
  },
  {
   "cell_type": "code",
   "execution_count": 3,
   "metadata": {},
   "outputs": [],
   "source": [
    "%matplotlib inline"
   ]
  },
  {
   "cell_type": "code",
   "execution_count": 4,
   "metadata": {},
   "outputs": [],
   "source": [
    "pd.options.display.max_rows = 10\n",
    "pd.options.display.float_format = '{:,.2f}'.format\n",
    "plt.rcParams['figure.figsize'] = (16, 12)"
   ]
  },
  {
   "cell_type": "code",
   "execution_count": 5,
   "metadata": {},
   "outputs": [],
   "source": [
    "# Linux path\n",
    "if platform.system() == \"Linux\":\n",
    "    callflow_path = \"/home/vidi/Work/llnl/CallFlow/\"\n",
    "else:\n",
    "    #Mac OSx path\n",
    "    callflow_path = \"/Users/jarus/ucd/Research/Visualisation/projects/CallFlow\"\n",
    "\n",
    "dataset_path = [\"data/lulesh-1/db-ampi4-100-1\", \"data/lulesh-1/db-ampi4-100-8\"]\n",
    "dataset = ['db-ampi4-100-1', 'db-ampi4-100-8']    "
   ]
  },
  {
   "cell_type": "code",
   "execution_count": 6,
   "metadata": {
    "scrolled": true
   },
   "outputs": [
    {
     "name": "stdout",
     "output_type": "stream",
     "text": [
      "Creating graphframes....\n",
      "0:/home/vidi/Work/llnl/CallFlow/data/lulesh-1/db-ampi4-100-1\n",
      "[Create] Rows in dataframe: 185290\n",
      "1:/home/vidi/Work/llnl/CallFlow/data/lulesh-1/db-ampi4-100-8\n",
      "[Create] Rows in dataframe: 300890\n"
     ]
    }
   ],
   "source": [
    "# Create Graphframes.\n",
    "def create_gfs(file_format, paths):    \n",
    "        print(\"Creating graphframes....\")                                                                                             \n",
    "        ret = []                                                                                                                         \n",
    "        for idx, path in enumerate(paths):\n",
    "            path = os.path.abspath(os.path.join(callflow_path, path)) \n",
    "            gf = GraphFrame()   \n",
    "            gf.from_hpctoolkit(path, 3)                                                                            \n",
    "            ret.append(gf) \n",
    "            print(str(idx) + \":\" + path)                                                                                              \n",
    "            print(\"[Create] Rows in dataframe: {0}\".format(gf.dataframe.shape[0]))                       \n",
    "        return ret \n",
    "\n",
    "gfs = create_gfs('hpctoolkit', dataset_path)"
   ]
  },
  {
   "cell_type": "code",
   "execution_count": 7,
   "metadata": {},
   "outputs": [],
   "source": [
    "# util functions\n",
    "\n",
    "def lookup(df, node):                                                                                                                    \n",
    "    return df.loc[df['node'] == node] \n",
    "\n",
    "def lookup_with_name(df, name):\n",
    "    return df.loc[df['name'] == name]\n",
    "\n",
    "def getMaxIncTime(gf):                                                                                                                   \n",
    "    ret = 0.0                                                                                                                            \n",
    "    for root in gf.graph.roots:                                                                                                          \n",
    "        ret = max(ret, lookup(gf.dataframe, root)['CPUTIME (usec) (I)'].max())                                                           \n",
    "    return ret                                                                                                                           \n",
    "                                                                                                                                         \n",
    "def getMaxExcTime(gf):                                                                                                                   \n",
    "    ret  = gf.dataframe['CPUTIME (usec) (E)'].max()                                                                                      \n",
    "    return ret                                                                                                                           \n",
    "               \n",
    "def special_lookup(gf, df_index):   \n",
    "    return gf.dataframe.loc[gf.dataframe['name'] == df_index] "
   ]
  },
  {
   "cell_type": "code",
   "execution_count": 8,
   "metadata": {
    "scrolled": true
   },
   "outputs": [
    {
     "name": "stdout",
     "output_type": "stream",
     "text": [
      "Filtering the dataframe!\n",
      "(185290, 10)\n",
      "[Filter] Removed 184465 rows.)\n",
      "Grafting the graph!\n",
      "[Graft] 825 rows left\n",
      "Filtering the dataframe!\n",
      "(300890, 10)\n",
      "[Filter] Removed 300045 rows.)\n",
      "Grafting the graph!\n",
      "[Graft] 845 rows left\n"
     ]
    }
   ],
   "source": [
    "# Filter graphframe and graph\n",
    "def filter_gfs(gfs, filterBy):                                                                                                   \n",
    "    # Create the graph frames from the paths and corresponding format using hatchet                                                  \n",
    "    fgfs = []                                                                                                                        \n",
    "    # Filter graphframes based on threshold                                                                                          \n",
    "    for idx, gf in enumerate(gfs):                                                                                              \n",
    "        print(\"Filtering the dataframe!\")                                                                                         \n",
    "        if filterBy == \"IncTime\":                                                                                          \n",
    "            max_inclusive_time = getMaxIncTime(gf)                                                                             \n",
    "            filter_gf = gf.filter(lambda x: True if(x['CPUTIME (usec) (I)'] > 0.01*max_inclusive_time) else False)                   \n",
    "        elif self.args.filterBy == \"ExcTime\":                                                                                        \n",
    "            max_exclusive_time = getMaxExcTime(gf)                                                                             \n",
    "            print('[Filter] By Exclusive time = {0})'.format(max_exclusive_time))                                                 \n",
    "            filter_gf = gf.filter(lambda x: True if (x['CPUTIME (usec) (E)'] > 0.01*max_exclusive_time) else False)                  \n",
    "        else:                                                                                                                        \n",
    "            print(\"Not filtering.... Can take forever. Thou were warned\")                                                         \n",
    "            filter_gf = gf                                                                                                           \n",
    "        print('[Filter] Removed {0} rows.)'.format(gf.dataframe.shape[0] - filter_gf.dataframe.shape[0]))                                                                                                                            \n",
    "        print(\"Grafting the graph!\")                                                                                            \n",
    "        filter_gf = filter_gf.graft()                                                                                                \n",
    "        print(\"[Graft] {0} rows left\".format(filter_gf.dataframe.shape[0]))                           \n",
    "        fgfs.append(filter_gf)                                                                                                       \n",
    "    return fgfs      \n",
    "\n",
    "# filtered graph frames.\n",
    "fgfs = filter_gfs(gfs, 'IncTime')    "
   ]
  },
  {
   "cell_type": "code",
   "execution_count": 9,
   "metadata": {},
   "outputs": [
    {
     "name": "stdout",
     "output_type": "stream",
     "text": [
      "Shape of the dataframe from graph (db-ampi4-100-1): (825, 10)\n",
      "Shape of the dataframe from graph (db-ampi4-100-8): (845, 10)\n"
     ]
    }
   ],
   "source": [
    "# Print filtered graph information. \n",
    "for idx, fgf in enumerate(fgfs):\n",
    "    print(\"Shape of the dataframe from graph ({0}): {1}\".format(dataset[idx], fgf.dataframe.shape))"
   ]
  },
  {
   "cell_type": "code",
   "execution_count": 10,
   "metadata": {
    "scrolled": true
   },
   "outputs": [],
   "source": [
    "# add n_index to the dataframe.\n",
    "def add_n_index(gf):\n",
    "    gf.dataframe['n_index'] = gf.dataframe.groupby('nid').ngroup()"
   ]
  },
  {
   "cell_type": "code",
   "execution_count": 11,
   "metadata": {},
   "outputs": [],
   "source": [
    "# ret = {\n",
    "#   node_name : df_index\n",
    "#}\n",
    "def df_index_name_mapper(graph, df):\n",
    "    ret = {}\n",
    "    node_count = 0\n",
    "    root = graph.roots[0]\n",
    "    node_gen = graph.roots[0].traverse()\n",
    "    try:\n",
    "        while root.callpath != None:\n",
    "            node_count += 1\n",
    "            root = next(node_gen)\n",
    "            ret[root.callpath[-1]] = root.df_index\n",
    "    except StopIteration:\n",
    "        pass\n",
    "    finally:\n",
    "        print(\"Total nodes in graph: \", node_count)\n",
    "        del root\n",
    "    return ret\n",
    "\n",
    "# add df_index to the dataframe\n",
    "def add_df_index(gf):\n",
    "    df_index_name_map = df_index_name_mapper(gf.graph, gf.dataframe)\n",
    "    gf.dataframe['df_index'] = gf.dataframe['name'].apply(lambda node: df_index_name_map[node] if node in df_index_name_map else 'as ')   "
   ]
  },
  {
   "cell_type": "code",
   "execution_count": 12,
   "metadata": {},
   "outputs": [],
   "source": [
    "# add callee and caller data into the dataframe\n",
    "def add_callers_and_callee(graph, df):\n",
    "    callees = {}\n",
    "    callers = {}\n",
    "    root = graph.roots[0]\n",
    "    node_gen = graph.roots[0].traverse()\n",
    "    root_df = root.callpath[-1]\n",
    "    callers[root_df] = []\n",
    "    callees[root_df] = []\n",
    "    try:                                                                                                                        \n",
    "        while root.callpath != None:                                                                                            \n",
    "            root = next(node_gen)                                                                                               \n",
    "            if root.parent:                                                                                                     \n",
    "                root_df = root.callpath[-1]                                                                                     \n",
    "                parent_df = root.parent.callpath[-1]                                                                            \n",
    "                if parent_df not in callees:                                                                                    \n",
    "                    callees[parent_df] = []              \n",
    "                callees[parent_df].append(root_df)                                                                              \n",
    "                                                                                                                                        \n",
    "                if root_df not in callers:                                                                                      \n",
    "                    callers[root_df] = []                                                                                       \n",
    "                callers[root_df].append(parent_df)                                                                              \n",
    "                                                                                                                                        \n",
    "    except StopIteration:                                                                                                       \n",
    "        pass                                                                                                                    \n",
    "    finally:                                                                                                                    \n",
    "        del root                                                                                                                \n",
    "                                                                                                                                        \n",
    "    df['callees'] = df['name'].apply(lambda node: callees[node] if node in callees else [])                           \n",
    "    df['callers'] = df['name'].apply(lambda node: callers[node] if node in callers else []) "
   ]
  },
  {
   "cell_type": "code",
   "execution_count": 13,
   "metadata": {},
   "outputs": [],
   "source": [
    "#pre-process dataframe to add more information. \n",
    "def preprocess(state):\n",
    "    preprocess = PreProcess.Builder(state).add_df_index().add_n_index().add_mod_index().add_path().add_callers_and_callees().add_show_node().add_vis_node_name().update_module_name().clean_lib_monitor().add_max_incTime().add_incTime().add_excTime().add_avg_incTime().add_imbalance_perc().build() "
   ]
  },
  {
   "cell_type": "code",
   "execution_count": 14,
   "metadata": {},
   "outputs": [],
   "source": [
    "#NetworkX stuff.\n",
    "def create_nx_graph(state):\n",
    "    g = nx.DiGraph()\n",
    "    return g"
   ]
  },
  {
   "cell_type": "code",
   "execution_count": 15,
   "metadata": {},
   "outputs": [],
   "source": [
    "def main(fgfs):\n",
    "    states = []\n",
    "    for idx, fgf in enumerate(fgfs):\n",
    "        state = State(fgf)\n",
    "        preprocess(state)\n",
    "        groupBy(state, 'module')\n",
    "        create_nx_graph(state)"
   ]
  },
  {
   "cell_type": "code",
   "execution_count": 16,
   "metadata": {},
   "outputs": [
    {
     "name": "stdout",
     "output_type": "stream",
     "text": [
      "Total nodes in the graph 114\n",
      "__correctly_grouped_prefixwc 1\n",
      "CthStartThread 1\n",
      "_INTERNAL_8_tcharm_C_22509075::startTCharmThread(TCharmInitMsg*) 2\n",
      "AMPI_threadstart 3\n",
      "MPI_threadstart_t::start() 4\n",
      "AMPI_Fallback_Main 5\n",
      "AMPI_Main_cpp(int, char**) 6\n",
      "Loop@lulesh.cc:2790 1\n",
      "_INTERNAL_9_lulesh_cc_07ac9422::LagrangeLeapFrog(Domain&) 7\n",
      "_INTERNAL_9_lulesh_cc_07ac9422::LagrangeNodal(Domain&) 8\n",
      "_INTERNAL_9_lulesh_cc_07ac9422::CalcForceForNodes(Domain&) 9\n",
      "_INTERNAL_9_lulesh_cc_07ac9422::CalcVolumeForceForElems(Domain&) 10\n",
      "_INTERNAL_9_lulesh_cc_07ac9422::IntegrateStressForElems(Domain&, double*, double*, double*, double*, int, int) 11\n",
      "Loop@lulesh.cc:550 2\n",
      "_INTERNAL_9_lulesh_cc_07ac9422::CalcElemShapeFunctionDerivatives(double const*, double const*, double const*, double (*) [8], double*) 12\n",
      "_INTERNAL_9_lulesh_cc_07ac9422::CalcElemNodeNormals(double*, double*, double*, double const*, double const*, double const*) 13\n",
      "_INTERNAL_9_lulesh_cc_07ac9422::CalcHourglassControlForElems(Domain&, double*, double) 14\n",
      "Loop@lulesh.cc:1038 3\n",
      "_INTERNAL_9_lulesh_cc_07ac9422::CalcElemVolumeDerivative(double*, double*, double*, double const*, double const*, double const*) 15\n",
      "Stmt1682@lulesh.cc:1051 4\n",
      "Stmt1683@lulesh.cc:1052 5\n",
      "Stmt1684@lulesh.cc:1053 6\n",
      "Stmt1685@lulesh.cc:1054 7\n",
      "Stmt1686@lulesh.cc:1055 8\n",
      "Stmt1687@lulesh.cc:1056 9\n",
      "_INTERNAL_9_lulesh_cc_07ac9422::CalcFBHourglassForceForElems(Domain&, double*, double*, double*, double*, double*, double*, double*, double, int, int) 16\n",
      "Loop@lulesh.cc:811 10\n",
      "Loop@lulesh.cc:824 11\n",
      "_INTERNAL_9_lulesh_cc_07ac9422::CalcElemFBHourglassForce(double*, double*, double*, double (*) [4], double, double*, double*, double*) 17\n",
      "void Release<double>(double**) 18\n",
      "__munmap 2\n",
      "Stmt1844@<unknown file>:0 12\n",
      "Stmt1846@<unknown file>:0 13\n",
      "Stmt1847@<unknown file>:0 14\n",
      "Stmt1848@<unknown file>:0 15\n",
      "Stmt1849@<unknown file>:0 16\n",
      "Stmt1850@<unknown file>:0 17\n",
      "void Release<double>(double**) 19\n",
      "__munmap 3\n",
      "Stmt1846@<unknown file>:0 18\n",
      "void Release<double>(double**) 20\n",
      "__munmap 4\n",
      "Stmt1847@<unknown file>:0 19\n",
      "void Release<double>(double**) 21\n",
      "__munmap 5\n",
      "Stmt1848@<unknown file>:0 20\n",
      "void Release<double>(double**) 22\n",
      "__munmap 6\n",
      "Stmt1849@<unknown file>:0 21\n",
      "void Release<double>(double**) 23\n",
      "__munmap 7\n",
      "Stmt1850@<unknown file>:0 22\n",
      "_INTERNAL_9_lulesh_cc_07ac9422::LagrangeElements(Domain&, int) 24\n",
      "_INTERNAL_9_lulesh_cc_07ac9422::CalcLagrangeElements(Domain&, double*) 25\n",
      "CalcKinematicsForElems(Domain&, double*, double, int) 26\n",
      "Loop@lulesh.cc:1539 23\n",
      "CalcElemVolume(double const*, double const*, double const*) 27\n",
      "_INTERNAL_9_lulesh_cc_07ac9422::CalcElemVolume(double, double, double, double, double, double, double, double, double, double, double, double, double, double, double, double, double, double, double, double, double, double, double, double) 28\n",
      "_INTERNAL_9_lulesh_cc_07ac9422::CalcElemCharacteristicLength(double const*, double const*, double const*, double) 29\n",
      "_INTERNAL_9_lulesh_cc_07ac9422::CalcQForElems(Domain&, double*) 30\n",
      "_INTERNAL_9_lulesh_cc_07ac9422::CalcMonotonicQGradientsForElems(Domain&, double*) 31\n",
      "Loop@lulesh.cc:1647 24\n",
      "_INTERNAL_9_lulesh_cc_07ac9422::CalcMonotonicQForElems(Domain&, double*) 32\n",
      "Loop@lulesh.cc:1964 25\n",
      "_INTERNAL_9_lulesh_cc_07ac9422::CalcMonotonicQRegionForElems(Domain&, int, double*, double) 33\n",
      "Loop@lulesh.cc:1799 26\n",
      "_INTERNAL_9_lulesh_cc_07ac9422::ApplyMaterialPropertiesForElems(Domain&, double*) 34\n",
      "Loop@lulesh.cc:2429 27\n",
      "_INTERNAL_9_lulesh_cc_07ac9422::EvalEOSForElems(Domain&, double*, int, int*, int) 35\n",
      "Loop@lulesh.cc:2267 28\n",
      "Loop@lulesh.cc:2272 29\n",
      "Stmt7371@lulesh.cc:2274 30\n",
      "Stmt7372@lulesh.cc:2275 31\n",
      "Stmt7373@lulesh.cc:2276 32\n",
      "Stmt7374@lulesh.cc:2277 33\n",
      "Stmt7375@lulesh.cc:2278 34\n",
      "Loop@lulesh.cc:2283 35\n",
      "Stmt7395@lulesh.cc:2286 36\n",
      "Loop@lulesh.cc:2294 37\n",
      "Stmt7405@lulesh.cc:2296 38\n",
      "_INTERNAL_9_lulesh_cc_07ac9422::CalcEnergyForElems(double*, double*, double*, double*, double*, double*, double*, double*, double*, double*, double*, double*, double*, double, double, double, double, double, double*, double*, double, double, int, int*) 36\n",
      "Loop@lulesh.cc:2092 39\n",
      "Stmt7429@lulesh.cc:2093 40\n",
      "_INTERNAL_9_lulesh_cc_07ac9422::CalcPressureForElems(double*, double*, double*, double*, double*, double*, double, double, double, int, int*) 37\n",
      "Loop@lulesh.cc:2052 41\n",
      "Stmt7447@lulesh.cc:2055 42\n",
      "Stmt7510@lulesh.cc:2055 43\n",
      "Stmt7564@lulesh.cc:2055 44\n",
      "Loop@lulesh.cc:2059 45\n",
      "Loop@lulesh.cc:2059 46\n",
      "Stmt7466@lulesh.cc:2067 47\n",
      "Stmt7529@lulesh.cc:2067 48\n",
      "Stmt7582@lulesh.cc:2067 49\n",
      "Loop@lulesh.cc:2105 50\n",
      "Stmt7493@lulesh.cc:2126 51\n",
      "_INTERNAL_9_lulesh_cc_07ac9422::CalcPressureForElems(double*, double*, double*, double*, double*, double*, double, double, double, int, int*) 38\n",
      "Loop@lulesh.cc:2052 52\n",
      "Stmt7510@lulesh.cc:2055 53\n",
      "Loop@lulesh.cc:2059 54\n",
      "Loop@lulesh.cc:2059 55\n",
      "Stmt7529@lulesh.cc:2067 56\n",
      "Loop@lulesh.cc:2146 57\n",
      "Stmt7548@lulesh.cc:2155 58\n",
      "_INTERNAL_9_lulesh_cc_07ac9422::CalcPressureForElems(double*, double*, double*, double*, double*, double*, double, double, double, int, int*) 39\n",
      "Loop@lulesh.cc:2052 59\n",
      "Stmt7564@lulesh.cc:2055 60\n",
      "Loop@lulesh.cc:2059 61\n",
      "Loop@lulesh.cc:2059 62\n",
      "Stmt7582@lulesh.cc:2067 63\n",
      "Loop@lulesh.cc:2183 64\n",
      "Stmt7599@lulesh.cc:2187 65\n",
      "Loop@lulesh.cc:2327 66\n",
      "3.300567388534546\n",
      "Total nodes in the graph 96\n",
      "__correctly_grouped_prefixwc 1\n",
      "CthStartThread 1\n",
      "_INTERNAL_8_tcharm_C_22509075::startTCharmThread(TCharmInitMsg*) 2\n",
      "AMPI_threadstart 3\n",
      "MPI_threadstart_t::start() 4\n",
      "AMPI_Fallback_Main 5\n",
      "AMPI_Main_cpp(int, char**) 6\n",
      "Loop@lulesh.cc:2790 1\n",
      "_INTERNAL_9_lulesh_cc_07ac9422::LagrangeLeapFrog(Domain&) 7\n",
      "_INTERNAL_9_lulesh_cc_07ac9422::LagrangeNodal(Domain&) 8\n",
      "_INTERNAL_9_lulesh_cc_07ac9422::CalcForceForNodes(Domain&) 9\n",
      "_INTERNAL_9_lulesh_cc_07ac9422::CalcVolumeForceForElems(Domain&) 10\n",
      "_INTERNAL_9_lulesh_cc_07ac9422::IntegrateStressForElems(Domain&, double*, double*, double*, double*, int, int) 11\n",
      "Loop@lulesh.cc:550 2\n",
      "_INTERNAL_9_lulesh_cc_07ac9422::CalcElemShapeFunctionDerivatives(double const*, double const*, double const*, double (*) [8], double*) 12\n",
      "_INTERNAL_9_lulesh_cc_07ac9422::CalcElemNodeNormals(double*, double*, double*, double const*, double const*, double const*) 13\n",
      "_INTERNAL_9_lulesh_cc_07ac9422::SumElemFaceNormal(double*, double*, double*, double*, double*, double*, double*, double*, double*, double*, double*, double*, double, double, double, double, double, double, double, double, double, double, double, double) 14\n",
      "_INTERNAL_9_lulesh_cc_07ac9422::SumElemFaceNormal(double*, double*, double*, double*, double*, double*, double*, double*, double*, double*, double*, double*, double, double, double, double, double, double, double, double, double, double, double, double) 15\n",
      "_INTERNAL_9_lulesh_cc_07ac9422::SumElemFaceNormal(double*, double*, double*, double*, double*, double*, double*, double*, double*, double*, double*, double*, double, double, double, double, double, double, double, double, double, double, double, double) 16\n",
      "_INTERNAL_9_lulesh_cc_07ac9422::CalcHourglassControlForElems(Domain&, double*, double) 17\n",
      "Loop@lulesh.cc:1038 3\n",
      "_INTERNAL_9_lulesh_cc_07ac9422::CollectDomainNodesToElemNodes(Domain&, int const*, double*, double*, double*) 18\n",
      "Stmt10742@stl_vector.h:1043 4\n",
      "_INTERNAL_9_lulesh_cc_07ac9422::CalcElemVolumeDerivative(double*, double*, double*, double const*, double const*, double const*) 19\n",
      "_INTERNAL_9_lulesh_cc_07ac9422::VoluDer(double, double, double, double, double, double, double, double, double, double, double, double, double, double, double, double, double, double, double*, double*, double*) 20\n",
      "Stmt10840@lulesh.cc:1051 5\n",
      "Stmt10841@lulesh.cc:1052 6\n",
      "Stmt10842@lulesh.cc:1053 7\n",
      "Stmt10843@lulesh.cc:1054 8\n",
      "Stmt10844@lulesh.cc:1055 9\n",
      "Stmt10845@lulesh.cc:1056 10\n",
      "_INTERNAL_9_lulesh_cc_07ac9422::CalcFBHourglassForceForElems(Domain&, double*, double*, double*, double*, double*, double*, double*, double, int, int) 21\n",
      "Loop@lulesh.cc:811 11\n",
      "Loop@lulesh.cc:824 12\n",
      "_INTERNAL_9_lulesh_cc_07ac9422::CalcElemFBHourglassForce(double*, double*, double*, double (*) [4], double, double*, double*, double*) 22\n",
      "void Release<double>(double**) 23\n",
      "_int_free 2\n",
      "systrim.isra.3 3\n",
      "__GI___default_morecore 4\n",
      "__GI___sbrk 5\n",
      "__brk 6\n",
      "Stmt11019@<unknown file>:0 13\n",
      "Stmt11038@<unknown file>:0 14\n",
      "Stmt11058@<unknown file>:0 15\n",
      "void Release<double>(double**) 24\n",
      "_int_free 7\n",
      "systrim.isra.3 8\n",
      "__GI___default_morecore 9\n",
      "__GI___sbrk 10\n",
      "__brk 11\n",
      "Stmt11038@<unknown file>:0 16\n"
     ]
    },
    {
     "name": "stdout",
     "output_type": "stream",
     "text": [
      "void Release<double>(double**) 25\n",
      "_int_free 12\n",
      "systrim.isra.3 13\n",
      "__GI___default_morecore 14\n",
      "__GI___sbrk 15\n",
      "__brk 16\n",
      "Stmt11058@<unknown file>:0 17\n",
      "CommSyncPosVel(Domain&) 26\n",
      "Loop@lulesh-comm.cc:1403 18\n",
      "Loop@lulesh-comm.cc:1405 19\n",
      "Loop@lulesh-comm.cc:1406 20\n",
      "_INTERNAL_9_lulesh_cc_07ac9422::LagrangeElements(Domain&, int) 27\n",
      "_INTERNAL_9_lulesh_cc_07ac9422::CalcLagrangeElements(Domain&, double*) 28\n",
      "CalcKinematicsForElems(Domain&, double*, double, int) 29\n",
      "Loop@lulesh.cc:1539 21\n",
      "CalcElemVolume(double const*, double const*, double const*) 30\n",
      "_INTERNAL_9_lulesh_cc_07ac9422::CalcElemVolume(double, double, double, double, double, double, double, double, double, double, double, double, double, double, double, double, double, double, double, double, double, double, double, double) 31\n",
      "_INTERNAL_9_lulesh_cc_07ac9422::CalcElemCharacteristicLength(double const*, double const*, double const*, double) 32\n",
      "_INTERNAL_9_lulesh_cc_07ac9422::CalcElemShapeFunctionDerivatives(double const*, double const*, double const*, double (*) [8], double*) 33\n",
      "_INTERNAL_9_lulesh_cc_07ac9422::CalcQForElems(Domain&, double*) 34\n",
      "_INTERNAL_9_lulesh_cc_07ac9422::CalcMonotonicQGradientsForElems(Domain&, double*) 35\n",
      "Loop@lulesh.cc:1647 22\n",
      "_INTERNAL_9_lulesh_cc_07ac9422::CalcMonotonicQForElems(Domain&, double*) 36\n",
      "Loop@lulesh.cc:1964 23\n",
      "_INTERNAL_9_lulesh_cc_07ac9422::CalcMonotonicQRegionForElems(Domain&, int, double*, double) 37\n",
      "Loop@lulesh.cc:1799 24\n",
      "_INTERNAL_9_lulesh_cc_07ac9422::ApplyMaterialPropertiesForElems(Domain&, double*) 38\n",
      "Loop@lulesh.cc:2429 25\n",
      "_INTERNAL_9_lulesh_cc_07ac9422::EvalEOSForElems(Domain&, double*, int, int*, int) 39\n",
      "Loop@lulesh.cc:2267 26\n",
      "Loop@lulesh.cc:2272 27\n",
      "Stmt21493@lulesh.cc:2274 28\n",
      "Loop@lulesh.cc:2283 29\n",
      "_INTERNAL_9_lulesh_cc_07ac9422::CalcEnergyForElems(double*, double*, double*, double*, double*, double*, double*, double*, double*, double*, double*, double*, double*, double, double, double, double, double, double*, double*, double, double, int, int*) 40\n",
      "_INTERNAL_9_lulesh_cc_07ac9422::CalcPressureForElems(double*, double*, double*, double*, double*, double*, double, double, double, int, int*) 41\n",
      "Loop@lulesh.cc:2052 30\n",
      "Loop@lulesh.cc:2059 31\n",
      "Loop@lulesh.cc:2105 32\n",
      "_INTERNAL_9_lulesh_cc_07ac9422::CalcPressureForElems(double*, double*, double*, double*, double*, double*, double, double, double, int, int*) 42\n",
      "Loop@lulesh.cc:2146 33\n",
      "_INTERNAL_9_lulesh_cc_07ac9422::CalcPressureForElems(double*, double*, double*, double*, double*, double*, double, double, double, int, int*) 43\n",
      "Loop@lulesh.cc:2183 34\n",
      "Loop@lulesh.cc:2327 35\n",
      "2.721251964569092\n"
     ]
    }
   ],
   "source": [
    "main(fgfs)"
   ]
  },
  {
   "cell_type": "code",
   "execution_count": 17,
   "metadata": {},
   "outputs": [
    {
     "data": {
      "image/png": "[encoded data removed]",
      "text/plain": [
       "<Figure size 576x576 with 3 Axes>"
      ]
     },
     "metadata": {
      "needs_background": "light"
     },
     "output_type": "display_data"
    },
    {
     "data": {
      "image/png": "[encoded data removed]",
      "text/plain": [
       "<Figure size 576x576 with 3 Axes>"
      ]
     },
     "metadata": {
      "needs_background": "light"
     },
     "output_type": "display_data"
    }
   ],
   "source": [
    "# Joint plot of the Inclusive and Exclusive times.\n",
    "df = fgfs[0].dataframe\n",
    "df2 = fgfs[1].dataframe\n",
    "root_max_df = 107348942.00\n",
    "root_max_df2 = 145114370.00\n",
    "sns.jointplot('CPUTIME (usec) (I)', 'CPUTIME (usec) (E)',\n",
    "              df.loc[(df['CPUTIME (usec) (I)'] < 0.10*107348942.00) &\n",
    "                     (df['CPUTIME (usec) (E)'] > 0)],\n",
    "              alpha=.25, marker='.', height=8);\n",
    "sns.jointplot('CPUTIME (usec) (I)', 'CPUTIME (usec) (E)',\n",
    "              df2.loc[(df2['CPUTIME (usec) (I)'] < 0.10*145114370.00) &\n",
    "                     (df2['CPUTIME (usec) (E)'] > 0)],\n",
    "              alpha=.25, marker='.', height=8);"
   ]
  },
  {
   "cell_type": "code",
   "execution_count": 18,
   "metadata": {},
   "outputs": [
    {
     "ename": "NameError",
     "evalue": "name 'state_gf1' is not defined",
     "output_type": "error",
     "traceback": [
      "\u001b[0;31m---------------------------------------------------------------------------\u001b[0m",
      "\u001b[0;31mNameError\u001b[0m                                 Traceback (most recent call last)",
      "\u001b[0;32m<ipython-input-18-8e492a1b3d47>\u001b[0m in \u001b[0;36m<module>\u001b[0;34m\u001b[0m\n\u001b[0;32m----> 1\u001b[0;31m \u001b[0mstate_gf1\u001b[0m\u001b[0;34m.\u001b[0m\u001b[0mgraph\u001b[0m \u001b[0;34m=\u001b[0m \u001b[0mfgfs\u001b[0m\u001b[0;34m[\u001b[0m\u001b[0;36m0\u001b[0m\u001b[0;34m]\u001b[0m\u001b[0;34m.\u001b[0m\u001b[0mgraph\u001b[0m\u001b[0;34m\u001b[0m\u001b[0;34m\u001b[0m\u001b[0m\n\u001b[0m\u001b[1;32m      2\u001b[0m \u001b[0mstate_gf1\u001b[0m\u001b[0;34m.\u001b[0m\u001b[0mdf\u001b[0m \u001b[0;34m=\u001b[0m \u001b[0mfgfs\u001b[0m\u001b[0;34m[\u001b[0m\u001b[0;36m0\u001b[0m\u001b[0;34m]\u001b[0m\u001b[0;34m.\u001b[0m\u001b[0mdataframe\u001b[0m\u001b[0;34m\u001b[0m\u001b[0;34m\u001b[0m\u001b[0m\n\u001b[1;32m      3\u001b[0m \u001b[0;34m\u001b[0m\u001b[0m\n\u001b[1;32m      4\u001b[0m \u001b[0mstate_gf2\u001b[0m\u001b[0;34m.\u001b[0m\u001b[0mgraph\u001b[0m \u001b[0;34m=\u001b[0m \u001b[0mfgfs\u001b[0m\u001b[0;34m[\u001b[0m\u001b[0;36m1\u001b[0m\u001b[0;34m]\u001b[0m\u001b[0;34m.\u001b[0m\u001b[0mgraph\u001b[0m\u001b[0;34m\u001b[0m\u001b[0;34m\u001b[0m\u001b[0m\n\u001b[1;32m      5\u001b[0m \u001b[0mstate_gf2\u001b[0m\u001b[0;34m.\u001b[0m\u001b[0mdf\u001b[0m \u001b[0;34m=\u001b[0m \u001b[0mfgfs\u001b[0m\u001b[0;34m[\u001b[0m\u001b[0;36m1\u001b[0m\u001b[0;34m]\u001b[0m\u001b[0;34m.\u001b[0m\u001b[0mdataframe\u001b[0m\u001b[0;34m\u001b[0m\u001b[0;34m\u001b[0m\u001b[0m\n",
      "\u001b[0;31mNameError\u001b[0m: name 'state_gf1' is not defined"
     ]
    }
   ],
   "source": [
    "state_gf1.graph = fgfs[0].graph\n",
    "state_gf1.df = fgfs[0].dataframe\n",
    "\n",
    "state_gf2.graph = fgfs[1].graph\n",
    "state_gf2.df = fgfs[1].dataframe\n",
    "groupBy(fgfs[0], 'path')"
   ]
  },
  {
   "cell_type": "code",
   "execution_count": null,
   "metadata": {},
   "outputs": [],
   "source": [
    "g1 = nx.DiGraph()\n",
    "g2 = nx.DiGraph()\n",
    "\n",
    "def add_paths(g, df, path_name):\n",
    "    for idx, row in df.iterrows():\n",
    "        print(row)\n",
    "        g.add_path(row[path_name])\n",
    "\n",
    "add_paths(g1, df, 'path')\n",
    "add_paths(g2, df, 'path')"
   ]
  }
 ],
 "metadata": {
  "kernelspec": {
   "display_name": "Python 3",
   "language": "python",
   "name": "python3"
  },
  "language_info": {
   "codemirror_mode": {
    "name": "ipython",
    "version": 3
   },
   "file_extension": ".py",
   "mimetype": "text/x-python",
   "name": "python",
   "nbconvert_exporter": "python",
   "pygments_lexer": "ipython3",
   "version": "3.6.7"
  }
 },
 "nbformat": 4,
 "nbformat_minor": 2
}
