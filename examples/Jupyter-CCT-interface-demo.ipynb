{
 "cells": [
  {
   "cell_type": "markdown",
   "metadata": {},
   "source": [
    "# CCT in the Jupyter Notebook"
   ]
  },
  {
   "cell_type": "markdown",
   "metadata": {},
   "source": [
    "CallFlow's python interface lets users integrate with the Jupyter notebook, through Roundtrip. This example renders the CCT using `callflow.layout.node_link`. \n",
    "\n",
    "`callflow.layout.node_link` exposes the `compute(gf=Hatchet.GraphFrame, graph_type='callgraph|cct')`. "
   ]
  },
  {
   "cell_type": "code",
   "execution_count": 1,
   "metadata": {},
   "outputs": [],
   "source": [
    "import os\n",
    "import json\n",
    "import callflow as cf\n",
    "import hatchet as ht\n",
    "import roundtrip\n",
    "from networkx.readwrite import json_graph"
   ]
  },
  {
   "cell_type": "code",
   "execution_count": 2,
   "metadata": {},
   "outputs": [],
   "source": [
    "datapath1 = os.path.abspath(\"../data/hpctoolkit-cpi-database\")"
   ]
  },
  {
   "cell_type": "code",
   "execution_count": 3,
   "metadata": {},
   "outputs": [],
   "source": [
    "hpctoolkit_gf = ht.GraphFrame.from_hpctoolkit(datapath1)"
   ]
  },
  {
   "cell_type": "markdown",
   "metadata": {},
   "source": [
    "Create a CallFlow GraphFrame. Under the hood, `callflow.GraphFrame.from_hatchet` inherits the hatchet's GraphFrame and adds vis, and ensemble-related information. "
   ]
  },
  {
   "cell_type": "code",
   "execution_count": 4,
   "metadata": {},
   "outputs": [
    {
     "name": "stdout",
     "output_type": "stream",
     "text": [
      "Computing callgraph for graphframe with ? entries\n"
     ]
    }
   ],
   "source": [
    "cgf = cf.GraphFrame.from_hatchet(hpctoolkit_gf)\n",
    "# Process using the callflow.NodeLinkLayout class\n",
    "nxg = cf.layout.NodeLinkLayout.compute(cgf, graph_type=\"callgraph\")"
   ]
  },
  {
   "cell_type": "code",
   "execution_count": 5,
   "metadata": {},
   "outputs": [],
   "source": [
    "result = cf.layout.NodeLinkLayout.to_json(nxg)"
   ]
  },
  {
   "cell_type": "code",
   "execution_count": 6,
   "metadata": {},
   "outputs": [
    {
     "name": "stdout",
     "output_type": "stream",
     "text": [
      "{\"directed\": true, \"multigraph\": false, \"graph\": {}, \"nodes\": [{\"label\": \"<program root>\", \"time (inc)\": 1000306.0, \"time\": 0.0, \"name\": \"<program root>\", \"module\": \"/collab/usr/global/tools/hpctoolkit/chaos_5_x86_64_ib/hpctoolkit-2017-03-16/lib/hpctoolkit/ext-libs/libmonitor.so.0.0.0\", \"id\": \"<program root>\"}, {\"label\": \"main\", \"time (inc)\": 1000306.0, \"time\": 0.0, \"name\": \"main\", \"module\": \"cpi\", \"id\": \"main\"}, {\"label\": \"27:MPI_Init\", \"time (inc)\": 0.0, \"time\": 0.0, \"name\": \"27:MPI_Init\", \"module\": \"/collab/usr/global/tools/hpctoolkit/chaos_5_x86_64_ib/hpctoolkit-2017-03-16/lib/hpctoolkit/ext-libs/libmonitor.so.0.0.0\", \"id\": \"27:MPI_Init\"}, {\"label\": \"62:MPI_Finalize\", \"time (inc)\": 1000306.0, \"time\": 0.0, \"name\": \"62:MPI_Finalize\", \"module\": \"/collab/usr/global/tools/hpctoolkit/chaos_5_x86_64_ib/hpctoolkit-2017-03-16/lib/hpctoolkit/ext-libs/libmonitor.so.0.0.0\", \"id\": \"62:MPI_Finalize\"}, {\"label\": \"PMPI_Init\", \"time (inc)\": 0.0, \"time\": 0.0, \"name\": \"PMPI_Init\", \"module\": \"/usr/local/tools/mvapich2-intel-debug-2.2/lib/libmpi.so.12.0.5\", \"id\": \"PMPI_Init\"}, {\"label\": \"198:MPIR_Init_thread\", \"time (inc)\": 0.0, \"time\": 0.0, \"name\": \"198:MPIR_Init_thread\", \"module\": \"/usr/local/tools/mvapich2-intel-debug-2.2/lib/libmpi.so.12.0.5\", \"id\": \"198:MPIR_Init_thread\"}, {\"label\": \"512:MPID_Init\", \"time (inc)\": 0.0, \"time\": 0.0, \"name\": \"512:MPID_Init\", \"module\": \"/usr/local/tools/mvapich2-intel-debug-2.2/lib/libmpi.so.12.0.5\", \"id\": \"512:MPID_Init\"}, {\"label\": \"363:MPIDI_CH3_Init\", \"time (inc)\": 0.0, \"time\": 0.0, \"name\": \"363:MPIDI_CH3_Init\", \"module\": \"/usr/local/tools/mvapich2-intel-debug-2.2/lib/libmpi.so.12.0.5\", \"id\": \"363:MPIDI_CH3_Init\"}, {\"label\": \"24:psm_doinit\", \"time (inc)\": 0.0, \"time\": 0.0, \"name\": \"24:psm_doinit\", \"module\": \"/usr/local/tools/mvapich2-intel-debug-2.2/lib/libmpi.so.12.0.5\", \"id\": \"24:psm_doinit\"}, {\"label\": \"348:<unknown procedure>\", \"time (inc)\": 0.0, \"time\": 0.0, \"name\": \"348:<unknown procedure>\", \"module\": \"/usr/lib64/libpsm_infinipath.so.1.14\", \"id\": \"348:<unknown procedure>\"}, {\"label\": \"<unknown procedure>\", \"time (inc)\": 1000306.0, \"time\": 0.0, \"name\": \"<unknown procedure>\", \"module\": \"/usr/lib64/libpsm_infinipath.so.1.14\", \"id\": \"<unknown procedure>\"}, {\"label\": \"pthread_create\", \"time (inc)\": 0.0, \"time\": 0.0, \"name\": \"pthread_create\", \"module\": \"/collab/usr/global/tools/hpctoolkit/chaos_5_x86_64_ib/hpctoolkit-2017-03-16/lib/hpctoolkit/ext-libs/libmonitor.so.0.0.0\", \"id\": \"pthread_create\"}, {\"label\": \"PMPI_Finalize\", \"time (inc)\": 1000306.0, \"time\": 0.0, \"name\": \"PMPI_Finalize\", \"module\": \"/usr/local/tools/mvapich2-intel-debug-2.2/lib/libmpi.so.12.0.5\", \"id\": \"PMPI_Finalize\"}, {\"label\": \"294:MPID_Finalize\", \"time (inc)\": 1000306.0, \"time\": 0.0, \"name\": \"294:MPID_Finalize\", \"module\": \"/usr/local/tools/mvapich2-intel-debug-2.2/lib/libmpi.so.12.0.5\", \"id\": \"294:MPID_Finalize\"}, {\"label\": \"162:MPIDI_CH3_Finalize\", \"time (inc)\": 1000306.0, \"time\": 0.0, \"name\": \"162:MPIDI_CH3_Finalize\", \"module\": \"/usr/local/tools/mvapich2-intel-debug-2.2/lib/libmpi.so.12.0.5\", \"id\": \"162:MPIDI_CH3_Finalize\"}, {\"label\": \"230:psm_dofinalize\", \"time (inc)\": 1000306.0, \"time\": 0.0, \"name\": \"230:psm_dofinalize\", \"module\": \"/usr/local/tools/mvapich2-intel-debug-2.2/lib/libmpi.so.12.0.5\", \"id\": \"230:psm_dofinalize\"}, {\"label\": \"36:<unknown procedure>\", \"time (inc)\": 1000306.0, \"time\": 0.0, \"name\": \"36:<unknown procedure>\", \"module\": \"/usr/lib64/libpsm_infinipath.so.1.14\", \"id\": \"36:<unknown procedure>\"}, {\"label\": \"__GI_sched_yield\", \"time (inc)\": 17991.0, \"time\": 0.0, \"name\": \"__GI_sched_yield\", \"module\": \"/lib64/libc-2.12.so\", \"id\": \"__GI_sched_yield\"}], \"links\": [{\"count\": 1, \"source\": \"<program root>\", \"target\": \"main\"}, {\"count\": 2, \"source\": \"main\", \"target\": \"27:MPI_Init\"}, {\"count\": 2, \"source\": \"main\", \"target\": \"62:MPI_Finalize\"}, {\"count\": 3, \"source\": \"27:MPI_Init\", \"target\": \"PMPI_Init\"}, {\"count\": 3, \"source\": \"62:MPI_Finalize\", \"target\": \"PMPI_Finalize\"}, {\"count\": 4, \"source\": \"PMPI_Init\", \"target\": \"198:MPIR_Init_thread\"}, {\"count\": 5, \"source\": \"198:MPIR_Init_thread\", \"target\": \"512:MPID_Init\"}, {\"count\": 6, \"source\": \"512:MPID_Init\", \"target\": \"363:MPIDI_CH3_Init\"}, {\"count\": 7, \"source\": \"363:MPIDI_CH3_Init\", \"target\": \"24:psm_doinit\"}, {\"count\": 8, \"source\": \"24:psm_doinit\", \"target\": \"348:<unknown procedure>\"}, {\"count\": 9, \"source\": \"348:<unknown procedure>\", \"target\": \"<unknown procedure>\"}, {\"count\": 16, \"source\": \"<unknown procedure>\", \"target\": \"<unknown procedure>\"}, {\"count\": 16, \"source\": \"<unknown procedure>\", \"target\": \"pthread_create\"}, {\"count\": 16, \"source\": \"<unknown procedure>\", \"target\": \"__GI_sched_yield\"}, {\"count\": 4, \"source\": \"PMPI_Finalize\", \"target\": \"294:MPID_Finalize\"}, {\"count\": 5, \"source\": \"294:MPID_Finalize\", \"target\": \"162:MPIDI_CH3_Finalize\"}, {\"count\": 6, \"source\": \"162:MPIDI_CH3_Finalize\", \"target\": \"230:psm_dofinalize\"}, {\"count\": 7, \"source\": \"230:psm_dofinalize\", \"target\": \"36:<unknown procedure>\"}, {\"count\": 8, \"source\": \"36:<unknown procedure>\", \"target\": \"<unknown procedure>\"}]}\n"
     ]
    }
   ],
   "source": [
    "print(result)"
   ]
  },
  {
   "cell_type": "code",
   "execution_count": 7,
   "metadata": {},
   "outputs": [],
   "source": [
    "metric=\"time (inc)\""
   ]
  },
  {
   "cell_type": "code",
   "execution_count": 8,
   "metadata": {},
   "outputs": [
    {
     "data": {
      "application/javascript": [
       "require.config({                                             baseUrl: './',                                             paths: { 'd3': 'https://d3js.org/d3.v5.min'\n",
       "} });"
      ],
      "text/plain": [
       "<IPython.core.display.Javascript object>"
      ]
     },
     "metadata": {},
     "output_type": "display_data"
    },
    {
     "data": {
      "text/html": [
       "<script>function cleanUp() { argList =[]; element = null; cell_idx = -1}</script>"
      ],
      "text/plain": [
       "<IPython.core.display.HTML object>"
      ]
     },
     "metadata": {},
     "output_type": "display_data"
    }
   ],
   "source": [
    "%load_ext magics"
   ]
  },
  {
   "cell_type": "code",
   "execution_count": 9,
   "metadata": {},
   "outputs": [
    {
     "data": {
      "application/javascript": [
       "\n",
       "        // Grab current context\n",
       "        elementTop = element.get(0);"
      ],
      "text/plain": [
       "<IPython.core.display.Javascript object>"
      ]
     },
     "metadata": {},
     "output_type": "display_data"
    },
    {
     "data": {
      "text/html": [
       "<!DOCTYPE html>\n",
       "<meta charset=\"utf-8\">\n",
       "<style>\n",
       "    .cct-node {\n",
       "        cursor: pointer;\n",
       "    }\n",
       "\n",
       "    .cct-edge {\n",
       "        color: red;\n",
       "    }\n",
       "\n",
       "    .white-text {\n",
       "        color: white !important;\n",
       "        text-align: center;\n",
       "    }\n",
       "\n",
       "    .black-text {\n",
       "        color: black !important;\n",
       "        text-align: center;\n",
       "    }\n",
       "\n",
       "    .description {\n",
       "        display: block;\n",
       "    }\n",
       "\n",
       "    .highLight>rect,\n",
       "    .highLight>circle {\n",
       "        stroke: red;\n",
       "        stroke-width: 2px;\n",
       "    }\n",
       "\n",
       "    .white-text>.description {\n",
       "        color: rgb(200, 195, 195);\n",
       "        font-size: 10pt;\n",
       "    }\n",
       "\n",
       "    .black-text>.description {\n",
       "        color: rgb(26, 26, 49);\n",
       "        font-size: 10pt;\n",
       "    }\n",
       "</style>"
      ],
      "text/plain": [
       "<IPython.core.display.HTML object>"
      ]
     },
     "metadata": {},
     "output_type": "display_data"
    },
    {
     "data": {
      "text/html": [
       "\n",
       "                  <div id=\"cct_vis\"></div>\n",
       "                  <script>\n",
       "                  elementTop.appendChild(document.getElementById('cct_vis'));\n",
       "                  element = document.getElementById('cct_vis');/*\n",
       "    Build bar chart for # of species currently selected in cell above\n",
       "*/\n",
       "(function (element) {\n",
       "    require(['d3', 'dagreD3'], function (d3, dagreD3) {\n",
       "\n",
       "        /**\n",
       "\t\t * Create a dagre-d3 instance.\n",
       "\t\t * \n",
       "\t\t * @return {dagreD3 Graph}\n",
       "\t\t */\n",
       "        function createGraph() {\n",
       "            const g = new dagreD3.graphlib.Graph({\n",
       "                directed: true,\n",
       "                multigraph: false,\n",
       "                compound: true\n",
       "            });\n",
       "\n",
       "            g.setGraph({\n",
       "                rankDir: 'TD',\n",
       "                rankSep: 50,\n",
       "                marginx: 30,\n",
       "                marginy: 30\n",
       "            });\n",
       "\n",
       "            return g;\n",
       "        }\n",
       "\n",
       "        \t\t/**\n",
       "\t\t * Sets callsite's name. \n",
       "\t\t * if key \"name\" is present, then use it, else use nxg node's id. \n",
       "\t\t * \n",
       "\t\t * @param {Object} callsite \n",
       "\t\t * @return {String} callsite's name\n",
       "\t\t */\n",
       "\t\tfunction setCallsiteName(callsite) {\n",
       "\t\t\tif (callsite[\"name\"] == undefined) {\n",
       "\t\t\t\treturn callsite[\"id\"];\n",
       "\t\t\t}\n",
       "\t\t\treturn callsite[\"name\"];\n",
       "        }\n",
       "\n",
       "        function hexToRgb(hex) {\n",
       "            const result = /^#?([a-f\\d]{2})([a-f\\d]{2})([a-f\\d]{2})$/i.exec(hex);\n",
       "            return result ? {\n",
       "                r: parseInt(result[1], 16),\n",
       "                g: parseInt(result[2], 16),\n",
       "                b: parseInt(result[3], 16),\n",
       "            } : null;\n",
       "        }\n",
       "        \n",
       "        function setContrast(hex) {\n",
       "            const rgb = hexToRgb(hex);\n",
       "            const o = Math.round(((parseInt(rgb.r) * 299) +\n",
       "                (parseInt(rgb.g) * 587) +\n",
       "                (parseInt(rgb.b) * 114)) / 1000);\n",
       "    \n",
       "            return (o > 128) ? \"#000\" : \"#fff\";\n",
       "        }\n",
       "\n",
       "        function rgbToHex(r, g, b) {\n",
       "            return \"#\" + ((1 << 24) + (r << 16) + (g << 8) + b).toString(16).slice(1);\n",
       "        }\n",
       "\n",
       "\t\t/**\n",
       "\t\t * Set callsite's text and fill color.\n",
       "\t\t *\n",
       "\t\t * @param {Object} callsite \n",
       "\t\t * @return {JSON<{'node': Color, 'text': Color}>} 'node': fill color, 'text': text color\n",
       "\t\t */\n",
       "\t\tfunction setCallsiteColor(callsite, metric, colorScale) {\n",
       "            // Set node fill color.\n",
       "            const fillColor = colorScale(callsite[metric]);\n",
       "            console.log(fillColor)\n",
       "\n",
       "\t\t\t// Set node text color.\n",
       "            const textColor = setContrast(d3.color(fillColor).formatHex());\n",
       "            \n",
       "            // console.log(fillColor, textColor)\n",
       "\n",
       "\t\t\treturn {\n",
       "\t\t\t\t'node': fillColor,\n",
       "\t\t\t\t'text': textColor\n",
       "\t\t\t}\n",
       "\t\t}\n",
       "\n",
       "\t\t/**\n",
       "\t\t * Sets the html content for rendering inside a node.\n",
       "\t\t * \n",
       "\t\t * @param {String} callsite \n",
       "\t\t * @param {JSON<{'node': Color, 'text': Color}>} callsite_color\n",
       "\t\t * @return {HTML} html for rendering. \n",
       "\t\t */\n",
       "\t\tfunction setCallsiteHTML(callsite, callsite_color) {\n",
       "            \n",
       "\t\t\tlet html = (callsite_color['text'] === \"#fff\")\n",
       "\t\t\t\t? '<div class=\"white-text\"><span>' + callsite['name'] + '</span>'\n",
       "\t\t\t\t: '<div class=\"black-text\"><span>' + callsite['name'] + '</span>';\n",
       "\t\t\t\n",
       "\t\t\t// if (this.has_data_map[\"module\"]) {\n",
       "            module = callsite[\"module\"];\n",
       "\t\t\t\t// html = html + '<br/><span class=\"description\"><b>Module :</b> ' + module + '</span> </div>';\n",
       "\t\t\t// }\n",
       "\t\t\treturn html;\n",
       "\t\t}\n",
       "\n",
       "        /**\n",
       "\t\t * Renders the nodes in the dagre d3 graph.\n",
       "\t\t * \n",
       "\t\t * @param {JSON} data - networkX graph. \n",
       "\t\t */\n",
       "        function nodes(g, data, metric, colorScale) {\n",
       "            data.forEach((node, i) => {\n",
       "                const callsite_name = setCallsiteName(node);\n",
       "                const callsite_color = setCallsiteColor(node, metric, colorScale);\n",
       "                const label = setCallsiteHTML(node, callsite_color);\n",
       "\n",
       "                const payload = {\n",
       "                    ...node,\n",
       "                    class: 'cct-node',\n",
       "                    labelType: 'html',\n",
       "                    label: label,\n",
       "                    fillColor: callsite_color['node'],\n",
       "                };\n",
       "\n",
       "                g.setNode(callsite_name, payload);\n",
       "            });\n",
       "\n",
       "            // set styles.\n",
       "            g.nodes().forEach(function (v) {\n",
       "                let node = g.node(v);\n",
       "                if (node != undefined) {\n",
       "                    node.style = \"fill:\" + node.fillColor;\n",
       "                    node.rx = node.ry = 4;\n",
       "                }\n",
       "            });\n",
       "\n",
       "            return g\n",
       "        }\n",
       "\n",
       "\t\t/**\n",
       "\t\t * Renders the edges in the dagre D3 graph.\n",
       "\t\t * \n",
       "\t\t * @param {JSON} links - nxGraph edges.\n",
       "\t\t */\n",
       "        function edges(g, links) {\n",
       "            for (let i = 0; i < links.length; i += 1) {\n",
       "                let edge_label = \"\";\n",
       "                if (links[i][\"count\"] != 1) {\n",
       "                    edge_label = \"\" + links[i][\"count\"];\n",
       "                }\n",
       "                else {\n",
       "                    edge_label = \"\";\n",
       "                }\n",
       "                g.setEdge(links[i][\"source\"], links[i][\"target\"], {\n",
       "                    // label: edge_label,\n",
       "                    arrowhead: \"vee\",\n",
       "                });\n",
       "            }\n",
       "\n",
       "            g.edges().forEach((e) => {\n",
       "                let edge = g.edge(e);\n",
       "                edge.id = \"cct-edge\";    \n",
       "                edge.style = \"stroke: #000; fill: #fff\";\n",
       "            });\n",
       "\n",
       "            return g\n",
       "        }\n",
       "\n",
       "        function getColorMinMax(data, metric) {\n",
       "            let colorMin = 0;\n",
       "            let colorMax = 0;\n",
       "            data.forEach((d) => {\n",
       "                colorMin = Math.min(d[metric], colorMin);\n",
       "                colorMax = Math.max(d[metric], colorMax);\n",
       "            })\n",
       "            return [colorMin, colorMax]\n",
       "        }\n",
       "\n",
       "        /**\n",
       "\t\t * Translate and zoom to fit the graph to the entire SVG's context.\n",
       "\t\t * \n",
       "\t\t */\n",
       "\t\tfunction zoomTranslate(g, zoom) {\n",
       "\t\t\tconst graphWidth = g.graph().width + 80;\n",
       "\t\t\tconst graphHeight = g.graph().height + 40;\n",
       "\t\t\t\n",
       "\t\t\tconst width = parseInt(svg.style(\"width\").replace(/px/, \"\"));\n",
       "\t\t\tconst height = parseInt(svg.style(\"height\").replace(/px/, \"\"));\n",
       "\n",
       "\t\t\t// Set the zoom scale\n",
       "\t\t\tlet zoomScale = Math.min(width / graphWidth, height / graphHeight);\n",
       "\t\t\tif (zoomScale > 1.4) zoomScale -= 0.1;\n",
       "\n",
       "\t\t\t// Set the translate\n",
       "\t\t\tconst translate = [(width - (graphWidth * zoomScale)) * 0.5, (height - (graphHeight * zoomScale)) * 0.5 ];\n",
       "\n",
       "\t\t\t// Move the svg based on translate.\n",
       "\t\t\tsvg.call(zoom.transform, d3.zoomIdentity.translate(translate[0], translate[1]).scale(zoomScale));\n",
       "\t\t}\n",
       "\n",
       "        if (argList.length == 0) {\n",
       "            return;\n",
       "        }\n",
       "\n",
       "        const data = JSON.parse(argList[1]);\n",
       "        const metric = argList[2];\n",
       "\n",
       "        const width = \"900px\";\n",
       "        const height = \"500px\";\n",
       "\n",
       "        // Create a svg\n",
       "        let svg = d3.select(element).append(\"svg\")\n",
       "                    .style(\"height\", height)\n",
       "                    .style(\"width\", width);\n",
       "        const inner = svg.append('g').attr(\"id\", \"container\");\n",
       "\n",
       "        \n",
       "        const colorMinMax = getColorMinMax(data.nodes, metric);\n",
       "\n",
       "        const colorScale = d3.scaleLinear()\n",
       "            .domain([colorMinMax[0], colorMinMax[1]])\n",
       "            .range([\"red\", \"yellow\", \"green\"]);\n",
       "\n",
       "\n",
       "        // // Create a dagre D3 graph.\n",
       "        let g = createGraph();\n",
       "\n",
       "        // Add nodes and edges. \n",
       "        g = nodes(g, data.nodes, metric, colorScale);\n",
       "        g = edges(g, data.links);\n",
       "\n",
       "        const dagreRender = new dagreD3.render();\n",
       "\n",
       "        const zoom = d3.zoom().on(\"zoom\", function () {\n",
       "            inner.attr(\"transform\", d3.event.transform);\n",
       "        });\n",
       "\n",
       "        svg.call(zoom);\n",
       "\n",
       "        dagreRender(inner, g);\n",
       "\n",
       "        zoomTranslate(g, zoom);\n",
       "\n",
       "        svg.selectAll(\"g.node\").on(\"click\", function (id) {\n",
       "            node_click_action(id);\n",
       "            dagreRender(inner, g);\n",
       "            zoomTranslate();\n",
       "        });\n",
       "    })\n",
       "})(element);</script>"
      ],
      "text/plain": [
       "<IPython.core.display.HTML object>"
      ]
     },
     "metadata": {},
     "output_type": "display_data"
    }
   ],
   "source": [
    "%loadVisualization cct_vis cct.js index.html %result %metric"
   ]
  }
 ],
 "metadata": {
  "kernelspec": {
   "display_name": "Python 3",
   "language": "python",
   "name": "python3"
  },
  "language_info": {
   "codemirror_mode": {
    "name": "ipython",
    "version": 3
   },
   "file_extension": ".py",
   "mimetype": "text/x-python",
   "name": "python",
   "nbconvert_exporter": "python",
   "pygments_lexer": "ipython3",
   "version": "3.7.4"
  }
 },
 "nbformat": 4,
 "nbformat_minor": 4
}
