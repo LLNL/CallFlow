{
 "cells": [
  {
   "cell_type": "markdown",
   "metadata": {},
   "source": [
    "# Jupyter Notebook and CallFlow integration"
   ]
  },
  {
   "cell_type": "markdown",
   "metadata": {},
   "source": [
    "CallFlow's python interface lets users integrate with the Jupyter notebook, through Roundtrip. This example renders the CCT using `callflow.layout.node_link`. \n",
    "\n",
    "`callflow.layout.node_link` exposes the `compute(gf=Hatchet.GraphFrame, graph_type='callgraph|cct')`. "
   ]
  },
  {
   "cell_type": "code",
   "execution_count": 30,
   "metadata": {},
   "outputs": [],
   "source": [
    "import os\n",
    "import json\n",
    "import callflow as cf\n",
    "import hatchet as ht\n",
    "import roundtrip\n",
    "from networkx.readwrite import json_graph"
   ]
  },
  {
   "cell_type": "code",
   "execution_count": 31,
   "metadata": {},
   "outputs": [],
   "source": [
    "datapath1 = os.path.abspath(\"../data/hpctoolkit-cpi-database\")\n",
    "datapath2 = os.path.abspath(\"../data/lulesh-8-runs/1-core.json\")"
   ]
  },
  {
   "cell_type": "code",
   "execution_count": 36,
   "metadata": {},
   "outputs": [],
   "source": [
    "hpctoolkit_gf = ht.GraphFrame.from_hpctoolkit(datapath1)\n",
    "caliper_gf = ht.GraphFrame.from_caliper(datapath2, query=\"\")"
   ]
  },
  {
   "cell_type": "code",
   "execution_count": 37,
   "metadata": {},
   "outputs": [],
   "source": [
    "# Method returns the nxg graph after processing using `callflow.layout.node_link`.\n",
    "def compute_layout(gf):\n",
    "    # Create a Hatchet GraphFrame.\n",
    "    cgf = cf.GraphFrame.from_hatchet(gf)\n",
    "    # Process using the callflow.NodeLinkLayout class\n",
    "    nl = cf.layout.NodeLinkLayout.compute(cgf, graph_type=\"callgraph\")\n",
    "    return nl"
   ]
  },
  {
   "cell_type": "code",
   "execution_count": 38,
   "metadata": {},
   "outputs": [
    {
     "name": "stdout",
     "output_type": "stream",
     "text": [
      "Computing callgraph for graphframe with ? entries\n"
     ]
    }
   ],
   "source": [
    "nl1 = compute_layout(hpctoolkit_gf)"
   ]
  },
  {
   "cell_type": "code",
   "execution_count": 39,
   "metadata": {},
   "outputs": [
    {
     "name": "stdout",
     "output_type": "stream",
     "text": [
      "Computing callgraph for graphframe with ? entries\n"
     ]
    }
   ],
   "source": [
    "nl2 = compute_layout(caliper_gf)"
   ]
  },
  {
   "cell_type": "code",
   "execution_count": 21,
   "metadata": {},
   "outputs": [],
   "source": [
    "# Dump the networkX Graph to a pdf file. \n",
    "def to_pdf(nl):\n",
    "    fname = 'callflow_cct'\n",
    "    nl.write_dot(\"{}.dot\".format(fname))\n",
    "    os.system(\"dot -Tpdf {}.dot > {}.pdf\".format(fname, fname))\n",
    "    os.system(\"open {}.pdf\".format(fname))"
   ]
  },
  {
   "cell_type": "code",
   "execution_count": 42,
   "metadata": {},
   "outputs": [],
   "source": [
    "# Dump the networkX Graph as a json. \n",
    "def to_json(nl):\n",
    "    fname = 'callflow_cct.json'\n",
    "    result = json_graph.node_link_data(nl)\n",
    "    return json.dumps(result)"
   ]
  },
  {
   "cell_type": "code",
   "execution_count": 43,
   "metadata": {},
   "outputs": [],
   "source": [
    "result = to_json(nl2)"
   ]
  },
  {
   "cell_type": "code",
   "execution_count": 44,
   "metadata": {},
   "outputs": [
    {
     "name": "stdout",
     "output_type": "stream",
     "text": [
      "The magics extension is already loaded. To reload it, use:\n",
      "  %reload_ext magics\n"
     ]
    }
   ],
   "source": [
    "%load_ext magics"
   ]
  },
  {
   "cell_type": "code",
   "execution_count": 45,
   "metadata": {},
   "outputs": [
    {
     "data": {
      "application/javascript": [
       "\n",
       "        // Grab current context\n",
       "        elementTop = element.get(0);"
      ],
      "text/plain": [
       "<IPython.core.display.Javascript object>"
      ]
     },
     "metadata": {},
     "output_type": "display_data"
    },
    {
     "data": {
      "text/html": [
       "<!DOCTYPE html>\n",
       "<meta charset=\"utf-8\">\n",
       "<style>\n",
       "    .cct-node {\n",
       "        cursor: pointer;\n",
       "    }\n",
       "\n",
       "    .cct-edge {\n",
       "        color: red;\n",
       "    }\n",
       "\n",
       "    .white-text {\n",
       "        color: white !important;\n",
       "        text-align: center;\n",
       "    }\n",
       "\n",
       "    .black-text {\n",
       "        color: black !important;\n",
       "        text-align: center;\n",
       "    }\n",
       "\n",
       "    .description {\n",
       "        display: block;\n",
       "    }\n",
       "\n",
       "    .highLight>rect,\n",
       "    .highLight>circle {\n",
       "        stroke: red;\n",
       "        stroke-width: 2px;\n",
       "    }\n",
       "\n",
       "    .white-text>.description {\n",
       "        color: rgb(200, 195, 195);\n",
       "        font-size: 10pt;\n",
       "    }\n",
       "\n",
       "    .black-text>.description {\n",
       "        color: rgb(26, 26, 49);\n",
       "        font-size: 10pt;\n",
       "    }\n",
       "</style>"
      ],
      "text/plain": [
       "<IPython.core.display.HTML object>"
      ]
     },
     "metadata": {},
     "output_type": "display_data"
    },
    {
     "data": {
      "text/html": [
       "\n",
       "                  <div id=\"cct_vis\"></div>\n",
       "                  <script>\n",
       "                  elementTop.appendChild(document.getElementById('cct_vis'));\n",
       "                  element = document.getElementById('cct_vis');/*\n",
       "    Build bar chart for # of species currently selected in cell above\n",
       "*/\n",
       "(function (element) {\n",
       "    require(['d3', 'dagreD3'], function (d3, dagreD3) {\n",
       "\n",
       "        /**\n",
       "\t\t * Create a dagre-d3 instance.\n",
       "\t\t * \n",
       "\t\t * @return {dagreD3 Graph}\n",
       "\t\t */\n",
       "        function createGraph() {\n",
       "            const g = new dagreD3.graphlib.Graph({\n",
       "                directed: true,\n",
       "                multigraph: false,\n",
       "                compound: true\n",
       "            });\n",
       "\n",
       "            g.setGraph({\n",
       "                rankDir: 'TD',\n",
       "                rankSep: 50,\n",
       "                marginx: 30,\n",
       "                marginy: 30\n",
       "            });\n",
       "\n",
       "            return g;\n",
       "        }\n",
       "\n",
       "        \t\t/**\n",
       "\t\t * Sets callsite's name. \n",
       "\t\t * if key \"name\" is present, then use it, else use nxg node's id. \n",
       "\t\t * \n",
       "\t\t * @param {Object} callsite \n",
       "\t\t * @return {String} callsite's name\n",
       "\t\t */\n",
       "\t\tfunction setCallsiteName(callsite) {\n",
       "\t\t\tif (callsite[\"name\"] == undefined) {\n",
       "\t\t\t\treturn callsite[\"id\"];\n",
       "\t\t\t}\n",
       "\t\t\treturn callsite[\"name\"];\n",
       "        }\n",
       "\n",
       "        function hexToRgb(hex) {\n",
       "            const result = /^#?([a-f\\d]{2})([a-f\\d]{2})([a-f\\d]{2})$/i.exec(hex);\n",
       "            return result ? {\n",
       "                r: parseInt(result[1], 16),\n",
       "                g: parseInt(result[2], 16),\n",
       "                b: parseInt(result[3], 16),\n",
       "            } : null;\n",
       "        }\n",
       "        \n",
       "        function setContrast(hex) {\n",
       "            const rgb = hexToRgb(hex);\n",
       "            const o = Math.round(((parseInt(rgb.r) * 299) +\n",
       "                (parseInt(rgb.g) * 587) +\n",
       "                (parseInt(rgb.b) * 114)) / 1000);\n",
       "    \n",
       "            return (o > 128) ? \"#000\" : \"#fff\";\n",
       "        }\n",
       "\n",
       "        function rgbToHex(r, g, b) {\n",
       "            return \"#\" + ((1 << 24) + (r << 16) + (g << 8) + b).toString(16).slice(1);\n",
       "        }\n",
       "\n",
       "\t\t/**\n",
       "\t\t * Set callsite's text and fill color.\n",
       "\t\t *\n",
       "\t\t * @param {Object} callsite \n",
       "\t\t * @return {JSON<{'node': Color, 'text': Color}>} 'node': fill color, 'text': text color\n",
       "\t\t */\n",
       "\t\tfunction setCallsiteColor(callsite, metric, colorScale) {\n",
       "            // Set node fill color.\n",
       "            const fillColor = colorScale(callsite[metric]);\n",
       "            console.log(fillColor)\n",
       "\n",
       "\t\t\t// Set node text color.\n",
       "            const textColor = setContrast(d3.color(fillColor).formatHex());\n",
       "            \n",
       "            // console.log(fillColor, textColor)\n",
       "\n",
       "\t\t\treturn {\n",
       "\t\t\t\t'node': fillColor,\n",
       "\t\t\t\t'text': textColor\n",
       "\t\t\t}\n",
       "\t\t}\n",
       "\n",
       "\t\t/**\n",
       "\t\t * Sets the html content for rendering inside a node.\n",
       "\t\t * \n",
       "\t\t * @param {String} callsite \n",
       "\t\t * @param {JSON<{'node': Color, 'text': Color}>} callsite_color\n",
       "\t\t * @return {HTML} html for rendering. \n",
       "\t\t */\n",
       "\t\tfunction setCallsiteHTML(callsite, callsite_color) {\n",
       "            \n",
       "\t\t\tlet html = (callsite_color['text'] === \"#fff\")\n",
       "\t\t\t\t? '<div class=\"white-text\"><span>' + callsite['name'] + '</span>'\n",
       "\t\t\t\t: '<div class=\"black-text\"><span>' + callsite['name'] + '</span>';\n",
       "\t\t\t\n",
       "\t\t\t// if (this.has_data_map[\"module\"]) {\n",
       "            module = callsite[\"module\"];\n",
       "\t\t\t\t// html = html + '<br/><span class=\"description\"><b>Module :</b> ' + module + '</span> </div>';\n",
       "\t\t\t// }\n",
       "\t\t\treturn html;\n",
       "\t\t}\n",
       "\n",
       "        /**\n",
       "\t\t * Renders the nodes in the dagre d3 graph.\n",
       "\t\t * \n",
       "\t\t * @param {JSON} data - networkX graph. \n",
       "\t\t */\n",
       "        function nodes(g, data, metric, colorScale) {\n",
       "            data.forEach((node, i) => {\n",
       "                const callsite_name = setCallsiteName(node);\n",
       "                const callsite_color = setCallsiteColor(node, metric, colorScale);\n",
       "                const label = setCallsiteHTML(node, callsite_color);\n",
       "\n",
       "                const payload = {\n",
       "                    ...node,\n",
       "                    class: 'cct-node',\n",
       "                    labelType: 'html',\n",
       "                    label: label,\n",
       "                    fillColor: callsite_color['node'],\n",
       "                };\n",
       "\n",
       "                g.setNode(callsite_name, payload);\n",
       "            });\n",
       "\n",
       "            // set styles.\n",
       "            g.nodes().forEach(function (v) {\n",
       "                let node = g.node(v);\n",
       "                if (node != undefined) {\n",
       "                    node.style = \"fill:\" + node.fillColor;\n",
       "                    node.rx = node.ry = 4;\n",
       "                }\n",
       "            });\n",
       "\n",
       "            return g\n",
       "        }\n",
       "\n",
       "\t\t/**\n",
       "\t\t * Renders the edges in the dagre D3 graph.\n",
       "\t\t * \n",
       "\t\t * @param {JSON} links - nxGraph edges.\n",
       "\t\t */\n",
       "        function edges(g, links) {\n",
       "            for (let i = 0; i < links.length; i += 1) {\n",
       "                let edge_label = \"\";\n",
       "                if (links[i][\"count\"] != 1) {\n",
       "                    edge_label = \"\" + links[i][\"count\"];\n",
       "                }\n",
       "                else {\n",
       "                    edge_label = \"\";\n",
       "                }\n",
       "                g.setEdge(links[i][\"source\"], links[i][\"target\"], {\n",
       "                    // label: edge_label,\n",
       "                    arrowhead: \"vee\",\n",
       "                });\n",
       "            }\n",
       "\n",
       "            g.edges().forEach((e) => {\n",
       "                let edge = g.edge(e);\n",
       "                edge.id = \"cct-edge\";    \n",
       "                edge.style = \"stroke: #000; fill: #fff\";\n",
       "            });\n",
       "\n",
       "            return g\n",
       "        }\n",
       "\n",
       "        function getColorMinMax(data, metric) {\n",
       "            let colorMin = 0;\n",
       "            let colorMax = 0;\n",
       "            data.forEach((d) => {\n",
       "                colorMin = Math.min(d[metric], colorMin);\n",
       "                colorMax = Math.max(d[metric], colorMax);\n",
       "            })\n",
       "            return [colorMin, colorMax]\n",
       "        }\n",
       "\n",
       "        /**\n",
       "\t\t * Translate and zoom to fit the graph to the entire SVG's context.\n",
       "\t\t * \n",
       "\t\t */\n",
       "\t\tfunction zoomTranslate(g, zoom) {\n",
       "\t\t\tconst graphWidth = g.graph().width + 80;\n",
       "\t\t\tconst graphHeight = g.graph().height + 40;\n",
       "\t\t\t\n",
       "\t\t\tconst width = parseInt(svg.style(\"width\").replace(/px/, \"\"));\n",
       "\t\t\tconst height = parseInt(svg.style(\"height\").replace(/px/, \"\"));\n",
       "\n",
       "\t\t\t// Set the zoom scale\n",
       "\t\t\tlet zoomScale = Math.min(width / graphWidth, height / graphHeight);\n",
       "\t\t\tif (zoomScale > 1.4) zoomScale -= 0.1;\n",
       "\n",
       "\t\t\t// Set the translate\n",
       "\t\t\tconst translate = [(width - (graphWidth * zoomScale)) * 0.5, (height - (graphHeight * zoomScale)) * 0.5 ];\n",
       "\n",
       "\t\t\t// Move the svg based on translate.\n",
       "\t\t\tsvg.call(zoom.transform, d3.zoomIdentity.translate(translate[0], translate[1]).scale(zoomScale));\n",
       "\t\t}\n",
       "\n",
       "        if (argList.length == 0) {\n",
       "            return;\n",
       "        }\n",
       "\n",
       "        const data = JSON.parse(argList[1]);\n",
       "        const metric = argList[2];\n",
       "\n",
       "        const width = \"900px\";\n",
       "        const height = \"500px\";\n",
       "\n",
       "        // Create a svg\n",
       "        let svg = d3.select(element).append(\"svg\")\n",
       "                    .style(\"height\", height)\n",
       "                    .style(\"width\", width);\n",
       "        const inner = svg.append('g').attr(\"id\", \"container\");\n",
       "\n",
       "        \n",
       "        const colorMinMax = getColorMinMax(data.nodes, metric);\n",
       "\n",
       "        const colorScale = d3.scaleLinear()\n",
       "            .domain([colorMinMax[0], colorMinMax[1]])\n",
       "            .range([\"red\", \"green\"]);\n",
       "\n",
       "\n",
       "        // // Create a dagre D3 graph.\n",
       "        let g = createGraph();\n",
       "\n",
       "        // Add nodes and edges. \n",
       "        g = nodes(g, data.nodes, metric, colorScale);\n",
       "        g = edges(g, data.links);\n",
       "\n",
       "        const dagreRender = new dagreD3.render();\n",
       "\n",
       "        const zoom = d3.zoom().on(\"zoom\", function () {\n",
       "            inner.attr(\"transform\", d3.event.transform);\n",
       "        });\n",
       "\n",
       "        svg.call(zoom);\n",
       "\n",
       "        dagreRender(inner, g);\n",
       "\n",
       "        zoomTranslate(g, zoom);\n",
       "\n",
       "        svg.selectAll(\"g.node\").on(\"click\", function (id) {\n",
       "            node_click_action(id);\n",
       "            dagreRender(inner, g);\n",
       "            zoomTranslate();\n",
       "        });\n",
       "    })\n",
       "})(element);</script>"
      ],
      "text/plain": [
       "<IPython.core.display.HTML object>"
      ]
     },
     "metadata": {},
     "output_type": "display_data"
    }
   ],
   "source": [
    "%loadVisualization cct_vis cct.js index.html %result %metric"
   ]
  },
  {
   "cell_type": "code",
   "execution_count": null,
   "metadata": {},
   "outputs": [],
   "source": []
  }
 ],
 "metadata": {
  "kernelspec": {
   "display_name": "Python 3",
   "language": "python",
   "name": "python3"
  },
  "language_info": {
   "codemirror_mode": {
    "name": "ipython",
    "version": 3
   },
   "file_extension": ".py",
   "mimetype": "text/x-python",
   "name": "python",
   "nbconvert_exporter": "python",
   "pygments_lexer": "ipython3",
   "version": "3.7.4"
  }
 },
 "nbformat": 4,
 "nbformat_minor": 4
}
