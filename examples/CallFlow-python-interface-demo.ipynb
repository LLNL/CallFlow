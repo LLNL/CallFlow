{
 "cells": [
  {
   "cell_type": "markdown",
   "metadata": {},
   "source": [
    "# CallFlow interface demo\n",
    "CallFlow exposes a Python package callflow that provides functionality to load and manipulate callgraphs.\n",
    "\n",
    "CallFlow is structured as three components:\n",
    "\n",
    "* A Python package callflow that provides functionality to load and manipulate callgraphs.\n",
    "* A D3 based app for visualization.\n",
    "* A python server to support the visualization client."
   ]
  },
  {
   "cell_type": "code",
   "execution_count": 1,
   "metadata": {},
   "outputs": [],
   "source": [
    "import hatchet as ht\n",
    "import pandas as pd\n",
    "import os"
   ]
  },
  {
   "cell_type": "code",
   "execution_count": 2,
   "metadata": {},
   "outputs": [],
   "source": [
    "pd.options.display.max_rows = 10\n",
    "pd.options.display.float_format = '{:,.2f}'.format"
   ]
  },
  {
   "cell_type": "code",
   "execution_count": 3,
   "metadata": {},
   "outputs": [],
   "source": [
    "# CallFlow imports\n",
    "import callflow\n",
    "from callflow import CallFlow\n",
    "from callflow.operations import ConfigFileReader"
   ]
  },
  {
   "cell_type": "markdown",
   "metadata": {},
   "source": [
    "## CallFlow Python package\n",
    "In particular, CallFlow exposes 4 main classes to handle data structures.\n",
    "* <strong>GraphFrame</strong> - contains Hatchet's GraphFrame along with some functionality that callflow introduces. (e.g., nxGraph).\n",
    "* <strong>CallFlow</strong> - to interface between the client API endpoints and other functionality.\n",
    "* <strong>SuperGraph</strong> - to handle processing of a an input dataset.\n",
    "* <strong>EnsembleSuperGraph</strong> - to handle processing of an ensemble of datasets\n",
    "\n",
    "In addition, it exposes a set of modules whose functionality could be useful.\n",
    "* <strong> algorithms </strong> - Algorithms to compute similarity (graph) using distance metrics and DR calculation.\n",
    "* <strong> layout </strong> - Computes a nxGraph output based on the layout desired (e.g., node-link for CCT, Sankey for supergraph, and icicle plot for module hierarchy. \n",
    "* <strong> modules </strong> - Exposes interactions performed in callflow (e.g., splitting, hierarchy, histograms, scatterplot, box plots, etc. All of them are exposed as API endpoints that can be queried using sockets. \n",
    "* <strong> operations </strong> - Filter, group and union operation on single/ensemble of graphs."
   ]
  },
  {
   "cell_type": "code",
   "execution_count": 4,
   "metadata": {},
   "outputs": [
    {
     "data": {
      "text/plain": [
       "['CallFlow',\n",
       " 'EnsembleGraph',\n",
       " 'GraphFrame',\n",
       " 'SuperGraph',\n",
       " '__builtins__',\n",
       " '__cached__',\n",
       " '__doc__',\n",
       " '__file__',\n",
       " '__loader__',\n",
       " '__name__',\n",
       " '__package__',\n",
       " '__path__',\n",
       " '__spec__',\n",
       " '__version__',\n",
       " '__version_info__',\n",
       " 'algorithms',\n",
       " 'callflow',\n",
       " 'datastructures',\n",
       " 'get_logger',\n",
       " 'init_logger',\n",
       " 'layout',\n",
       " 'logger',\n",
       " 'modules',\n",
       " 'operations',\n",
       " 'timer']"
      ]
     },
     "execution_count": 4,
     "metadata": {},
     "output_type": "execute_result"
    }
   ],
   "source": [
    "dir(callflow)"
   ]
  },
  {
   "cell_type": "markdown",
   "metadata": {},
   "source": [
    "First, we need a config file that specifies the files to be loaded into the interface. We plan to remove this step next and automate it."
   ]
  },
  {
   "cell_type": "code",
   "execution_count": 5,
   "metadata": {},
   "outputs": [],
   "source": [
    "# Single dataset\n",
    "singleConfigPath = os.path.abspath(\"../data/hpctoolkit-cpi-database/callflow.config.json\")"
   ]
  },
  {
   "cell_type": "code",
   "execution_count": null,
   "metadata": {},
   "outputs": [],
   "source": []
  },
  {
   "cell_type": "markdown",
   "metadata": {},
   "source": [
    "ConfigFileReader is a module that helps process the provided config JSON object."
   ]
  },
  {
   "cell_type": "code",
   "execution_count": 7,
   "metadata": {},
   "outputs": [],
   "source": [
    "# Read config file.\n",
    "singleConfig = ConfigFileReader(singleConfigPath)"
   ]
  },
  {
   "cell_type": "markdown",
   "metadata": {},
   "source": [
    "In this demo, I will be focusing on what the `CallFlow` class exposes. First step is to create a callflow object. The parameter, `ensemble` determines whether CallFlow loads a 'single' or 'ensemble' version. "
   ]
  },
  {
   "cell_type": "code",
   "execution_count": 8,
   "metadata": {
    "tags": []
   },
   "outputs": [],
   "source": [
    "scf = CallFlow(config=singleConfig, ensemble=False)"
   ]
  },
  {
   "cell_type": "markdown",
   "metadata": {},
   "source": [
    "## Processing datasets\n",
    "Processing step creates a `.callflow` directory that contains all the processed information. `.callflow` directory is placed in the `save_path` provided using the `config` file.\n",
    "\n",
    "* .callflow\n",
    "    * dataset1\n",
    "        * auxiliary_data.json \n",
    "        * df.csv (contains dataframe)\n",
    "        * nxg.json (contains nxGraph)\n",
    "    * ...dataset\n",
    "    * ensemble\n",
    "        * auxiliary_data.json\n",
    "        * df.csv (contains dataframe)\n",
    "        * nxg.json (contains nxGraph)\n",
    "    "
   ]
  },
  {
   "cell_type": "code",
   "execution_count": 9,
   "metadata": {},
   "outputs": [
    {
     "name": "stdout",
     "output_type": "stream",
     "text": [
      "Processing:  calc-pi\n",
      "Times:\n",
      "    Calculate Histograms: 0.00s\n",
      "    Module callsite map data: 0.00s\n",
      "    Writing data:        0.00s\n",
      "\n"
     ]
    },
    {
     "name": "stderr",
     "output_type": "stream",
     "text": [
      "/home/suraj/Work/llnl/CallFlow/callflow/operations/process.py:119: RuntimeWarning: invalid value encountered in double_scalars\n",
      "  exclusive[node_name] = (max_excTime - mean_excTime) / mean_excTime\n"
     ]
    }
   ],
   "source": [
    "scf.process()"
   ]
  },
  {
   "cell_type": "markdown",
   "metadata": {},
   "source": [
    "## Loading the supergraphs.\n",
    "if the preprocessing is already done, we can directly load the supergraphs from `.callflow` directory."
   ]
  },
  {
   "cell_type": "code",
   "execution_count": 11,
   "metadata": {},
   "outputs": [],
   "source": [
    "scf.load()"
   ]
  },
  {
   "cell_type": "code",
   "execution_count": 12,
   "metadata": {},
   "outputs": [
    {
     "data": {
      "text/plain": [
       "{'1-core': <callflow.datastructures.supergraph.SuperGraph at 0x7f6b4c352610>,\n",
       " '8-cores': <callflow.datastructures.supergraph.SuperGraph at 0x7f6b7389a450>,\n",
       " '27-cores': <callflow.datastructures.supergraph.SuperGraph at 0x7f6b4c352190>,\n",
       " '64-cores': <callflow.datastructures.supergraph.SuperGraph at 0x7f6b7603cf50>,\n",
       " '125-cores': <callflow.datastructures.supergraph.SuperGraph at 0x7f6b73caf7d0>,\n",
       " '216-cores': <callflow.datastructures.supergraph.SuperGraph at 0x7f6b73ca11d0>,\n",
       " '343-cores': <callflow.datastructures.supergraph.SuperGraph at 0x7f6b73ca10d0>,\n",
       " '512-cores': <callflow.datastructures.supergraph.SuperGraph at 0x7f6b73a40110>,\n",
       " 'ensemble': <callflow.datastructures.ensemblegraph.EnsembleGraph at 0x7f6b3fdf04d0>}"
      ]
     },
     "execution_count": 12,
     "metadata": {},
     "output_type": "execute_result"
    }
   ],
   "source": [
    "scf.supergraphs"
   ]
  },
  {
   "cell_type": "markdown",
   "metadata": {},
   "source": [
    "Internally, `SuperGraph` class contains the Hatchet's GraphFrame."
   ]
  },
  {
   "cell_type": "code",
   "execution_count": 13,
   "metadata": {},
   "outputs": [
    {
     "data": {
      "text/plain": [
       "['_FILENAMES',\n",
       " '__add__',\n",
       " '__class__',\n",
       " '__delattr__',\n",
       " '__dict__',\n",
       " '__dir__',\n",
       " '__doc__',\n",
       " '__eq__',\n",
       " '__format__',\n",
       " '__ge__',\n",
       " '__getattribute__',\n",
       " '__gt__',\n",
       " '__hash__',\n",
       " '__iadd__',\n",
       " '__init__',\n",
       " '__init_subclass__',\n",
       " '__isub__',\n",
       " '__le__',\n",
       " '__lt__',\n",
       " '__module__',\n",
       " '__ne__',\n",
       " '__new__',\n",
       " '__reduce__',\n",
       " '__reduce_ex__',\n",
       " '__repr__',\n",
       " '__setattr__',\n",
       " '__sizeof__',\n",
       " '__str__',\n",
       " '__sub__',\n",
       " '__subclasshook__',\n",
       " '__weakref__',\n",
       " '_init_sum_columns',\n",
       " '_operator',\n",
       " 'add',\n",
       " 'add_prefix',\n",
       " 'copy',\n",
       " 'deepcopy',\n",
       " 'df',\n",
       " 'drop_index_levels',\n",
       " 'filter',\n",
       " 'filter_by_name',\n",
       " 'from_caliper',\n",
       " 'from_caliper_json',\n",
       " 'from_config',\n",
       " 'from_gprof_dot',\n",
       " 'from_hatchet',\n",
       " 'from_hpctoolkit',\n",
       " 'from_lists',\n",
       " 'from_literal',\n",
       " 'get_top_by_attr',\n",
       " 'graph',\n",
       " 'hatchet_graph_to_nxg',\n",
       " 'leaves_below',\n",
       " 'lookup',\n",
       " 'lookup_with_name',\n",
       " 'lookup_with_node',\n",
       " 'lookup_with_vis_nodeName',\n",
       " 'nxg',\n",
       " 'print_information',\n",
       " 'read',\n",
       " 'squash',\n",
       " 'sub',\n",
       " 'subgraph_sum',\n",
       " 'subtree_sum',\n",
       " 'tailhead',\n",
       " 'tailheadDir',\n",
       " 'to_dot',\n",
       " 'to_flamegraph',\n",
       " 'tree',\n",
       " 'unify',\n",
       " 'update_df',\n",
       " 'update_inclusive_columns',\n",
       " 'write']"
      ]
     },
     "execution_count": 13,
     "metadata": {},
     "output_type": "execute_result"
    }
   ],
   "source": [
    "dir(scf.supergraphs['calc-pi'].gf)"
   ]
  },
  {
   "cell_type": "markdown",
   "metadata": {},
   "source": [
    "## Socket requests\n",
    "The socket endpoints are exposed using `request_single` and `request_ensemble` function calls. Both these calls require an input object that specifies what action to perform on the data. \n",
    "\n",
    "```\n",
    "{\n",
    "    \"name\": String // action to perform, required.\n",
    "    \"dataset\": Array // datasets to perform the action.\n",
    "    ...other attributes // Each request has its own set of parameters that are required.\n",
    "}\n",
    "```"
   ]
  },
  {
   "cell_type": "markdown",
   "metadata": {},
   "source": [
    "### CCT"
   ]
  },
  {
   "cell_type": "code",
   "execution_count": 15,
   "metadata": {},
   "outputs": [
    {
     "name": "stdout",
     "output_type": "stream",
     "text": [
      "Nodes (count = 12) are: [('<program root>', {'time (inc)': 1000306.0, 'time': 0.0, 'name': '<program root>', 'module': 'libmonitor.so.0.0.0'}), ('main', {'time (inc)': 1000306.0, 'time': 0.0, 'name': 'main', 'module': 'cpi'}), ('62:MPI_Finalize', {'time (inc)': 1000306.0, 'time': 0.0, 'name': '62:MPI_Finalize', 'module': 'libmonitor.so.0.0.0'}), ('PMPI_Finalize', {'time (inc)': 1000306.0, 'time': 0.0, 'name': 'PMPI_Finalize', 'module': 'libmpi.so.12.0.5'}), ('294:MPID_Finalize', {'time (inc)': 1000306.0, 'time': 0.0, 'name': '294:MPID_Finalize', 'module': 'libmpi.so.12.0.5'}), ('162:MPIDI_CH3_Finalize', {'time (inc)': 1000306.0, 'time': 0.0, 'name': '162:MPIDI_CH3_Finalize', 'module': 'libmpi.so.12.0.5'}), ('230:psm_dofinalize', {'time (inc)': 1000306.0, 'time': 0.0, 'name': '230:psm_dofinalize', 'module': 'libmpi.so.12.0.5'}), ('36:<unknown procedure>', {'time (inc)': 1000306.0, 'time': 0.0, 'name': '36:<unknown procedure>', 'module': 'libpsm_infinipath.so.1.14'}), ('<unknown procedure>', {'time (inc)': 1000306.0, 'time': 0.0, 'name': '<unknown procedure>', 'module': 'libpsm_infinipath.so.1.14'}), ('__GI_sched_yield', {'time (inc)': 17991.0, 'time': 0.0, 'name': '__GI_sched_yield', 'module': 'libc-2.12.so'}), ('interp.c:0', {'time (inc)': 59961.0, 'time': 59961.0, 'name': 'interp.c:0', 'module': 'Unknown'}), ('<unknown file>:0', {'time (inc)': 377648.0, 'time': 377648.0, 'name': '<unknown file>:0', 'module': 'Unknown'})]\n",
      "\n",
      "\n",
      "Edges (count = 12) are: [('<program root>', 'main', {'count': 1}), ('main', '62:MPI_Finalize', {'count': 1}), ('62:MPI_Finalize', 'PMPI_Finalize', {'count': 1}), ('PMPI_Finalize', '294:MPID_Finalize', {'count': 1}), ('294:MPID_Finalize', '162:MPIDI_CH3_Finalize', {'count': 1}), ('162:MPIDI_CH3_Finalize', '230:psm_dofinalize', {'count': 1}), ('230:psm_dofinalize', '36:<unknown procedure>', {'count': 1}), ('36:<unknown procedure>', '<unknown procedure>', {'count': 1}), ('<unknown procedure>', '<unknown procedure>', {'count': 9}), ('<unknown procedure>', '__GI_sched_yield', {'count': 1}), ('<unknown procedure>', '<unknown file>:0', {'count': 1}), ('__GI_sched_yield', 'interp.c:0', {'count': 1})]\n"
     ]
    }
   ],
   "source": [
    "scct = scf.request_single({\"name\": \"cct\", \"dataset\": \"calc-pi\", \"functionsInCCT\": 50})\n",
    "print(f\"Nodes (count = {len(scct.nodes())}) are: {scct.nodes(data=True)}\")\n",
    "print(\"\\n\")\n",
    "print(f\"Edges (count = {len(scct.edges())}) are: {scct.edges(data=True)}\")"
   ]
  },
  {
   "cell_type": "markdown",
   "metadata": {},
   "source": [
    "### Auxiliary information\n",
    "\n",
    "Auxiliary information contains per-callsite and per-module information, that makes it feasible to posses the information for interactions that are performed using CallFlow, in place rather than querying frequently to the server. \n",
    "\n",
    "PS: This could lead to huge JSONs for large HPCtoolkit data. To avoid this, I have implemented a faster lookup/fetch using HDF5 to create per-callsite and per-module storage. But this feature is not part of master yet. "
   ]
  },
  {
   "cell_type": "code",
   "execution_count": 24,
   "metadata": {
    "tags": [
     "outputPrepend"
    ]
   },
   "outputs": [
    {
     "name": "stdout",
     "output_type": "stream",
     "text": [
      "{'callsite': {'calc-pi': {'162:MPIDI_CH3_Finalize': {'name': '162:MPIDI_CH3_Finalize', 'time (inc)': [999238.0, 999390.0, 1000306.0, 999308.0], 'time': [0.0, 0.0, 0.0, 0.0], 'sorted_time (inc)': [999238.0, 999308.0, 999390.0, 1000306.0], 'sorted_time': [0.0, 0.0, 0.0, 0.0], 'rank': [0, 1, 2, 3], 'id': 'node-33', 'mean_time (inc)': 999560.5, 'mean_time': 0.0, 'max_time (inc)': 1000306.0, 'max_time': 0.0, 'min_time (inc)': 999238.0, 'min_time': 0.0, 'dataset': ['calc-pi', 'calc-pi', 'calc-pi', 'calc-pi'], 'module': 'libmpi.so.12.0.5', 'hist_time (inc)': {'x': [25007.65, 75022.95000000001, 125038.25000000001, 175053.55000000002, 225068.85, 275084.15, 325099.45000000007, 375114.75, 425130.05000000005, 475145.35, 525160.65, 575175.9500000001, 625191.25, 675206.55, 725221.8500000001, 775237.15, 825252.4500000001, 875267.75, 925283.05, 975298.3500000001], 'y': [0, 0, 0, 0, 0, 0, 0, 0, 0, 0, 0, 0, 0, 0, 0, 0, 0, 0, 0, 4], 'x_min': 25007.65, 'x_max': 975298.3500000001, 'y_min': 0.0, 'y_max': 4.0}, 'hist_time': {'x': [-0.475, -0.42500000000000004, -0.375, -0.32499999999999996, -0.275, -0.22499999999999998, -0.17499999999999996, -0.12499999999999997, -0.07499999999999998, -0.024999999999999994, 0.025000000000000022, 0.07500000000000007, 0.12500000000000006, 0.17500000000000004, 0.22500000000000003, 0.275, 0.32500000000000007, 0.37500000000000006, 0.42500000000000004, 0.47500000000000003], 'y': [0, 0, 0, 0, 0, 0, 0, 0, 0, 0, 4, 0, 0, 0, 0, 0, 0, 0, 0, 0], 'x_min': -0.475, 'x_max': 0.47500000000000003, 'y_min': 0.0, 'y_max': 4.0}}, '230:psm_dofinalize': {'name': '230:psm_dofinalize', 'time (inc)': [999238.0, 999390.0, 1000306.0, 999308.0], 'time': [0.0, 0.0, 0.0, 0.0], 'sorted_time (inc)': [999238.0, 999308.0, 999390.0, 1000306.0], 'sorted_time': [0.0, 0.0, 0.0, 0.0], 'rank': [0, 1, 2, 3], 'id': 'node-35', 'mean_time (inc)': 999560.5, 'mean_time': 0.0, 'max_time (inc)': 1000306.0, 'max_time': 0.0, 'min_time (inc)': 999238.0, 'min_time': 0.0, 'dataset': ['calc-pi', 'calc-pi', 'calc-pi', 'calc-pi'], 'module': 'libmpi.so.12.0.5', 'hist_time (inc)': {'x': [25007.65, 75022.95000000001, 125038.25000000001, 175053.55000000002, 225068.85, 275084.15, 325099.45000000007, 375114.75, 425130.05000000005, 475145.35, 525160.65, 575175.9500000001, 625191.25, 675206.55, 725221.8500000001, 775237.15, 825252.4500000001, 875267.75, 925283.05, 975298.3500000001], 'y': [0, 0, 0, 0, 0, 0, 0, 0, 0, 0, 0, 0, 0, 0, 0, 0, 0, 0, 0, 4], 'x_min': 25007.65, 'x_max': 975298.3500000001, 'y_min': 0.0, 'y_max': 4.0}, 'hist_time': {'x': [-0.475, -0.42500000000000004, -0.375, -0.32499999999999996, -0.275, -0.22499999999999998, -0.17499999999999996, -0.12499999999999997, -0.07499999999999998, -0.024999999999999994, 0.025000000000000022, 0.07500000000000007, 0.12500000000000006, 0.17500000000000004, 0.22500000000000003, 0.275, 0.32500000000000007, 0.37500000000000006, 0.42500000000000004, 0.47500000000000003], 'y': [0, 0, 0, 0, 0, 0, 0, 0, 0, 0, 4, 0, 0, 0, 0, 0, 0, 0, 0, 0], 'x_min': -0.475, 'x_max': 0.47500000000000003, 'y_min': 0.0, 'y_max': 4.0}}, '294:MPID_Finalize': {'name': '294:MPID_Finalize', 'time (inc)': [999238.0, 999390.0, 1000306.0, 999308.0], 'time': [0.0, 0.0, 0.0, 0.0], 'sorted_time (inc)': [999238.0, 999308.0, 999390.0, 1000306.0], 'sorted_time': [0.0, 0.0, 0.0, 0.0], 'rank': [0, 1, 2, 3], 'id': 'node-31', 'mean_time (inc)': 999560.5, 'mean_time': 0.0, 'max_time (inc)': 1000306.0, 'max_time': 0.0, 'min_time (inc)': 999238.0, 'min_time': 0.0, 'dataset': ['calc-pi', 'calc-pi', 'calc-pi', 'calc-pi'], 'module': 'libmpi.so.12.0.5', 'hist_time (inc)': {'x': [25007.65, 75022.95000000001, 125038.25000000001, 175053.55000000002, 225068.85, 275084.15, 325099.45000000007, 375114.75, 425130.05000000005, 475145.35, 525160.65, 575175.9500000001, 625191.25, 675206.55, 725221.8500000001, 775237.15, 825252.4500000001, 875267.75, 925283.05, 975298.3500000001], 'y': [0, 0, 0, 0, 0, 0, 0, 0, 0, 0, 0, 0, 0, 0, 0, 0, 0, 0, 0, 4], 'x_min': 25007.65, 'x_max': 975298.3500000001, 'y_min': 0.0, 'y_max': 4.0}, 'hist_time': {'x': [-0.475, -0.42500000000000004, -0.375, -0.32499999999999996, -0.275, -0.22499999999999998, -0.17499999999999996, -0.12499999999999997, -0.07499999999999998, -0.024999999999999994, 0.025000000000000022, 0.07500000000000007, 0.12500000000000006, 0.17500000000000004, 0.22500000000000003, 0.275, 0.32500000000000007, 0.37500000000000006, 0.42500000000000004, 0.47500000000000003], 'y': [0, 0, 0, 0, 0, 0, 0, 0, 0, 0, 4, 0, 0, 0, 0, 0, 0, 0, 0, 0], 'x_min': -0.475, 'x_max': 0.47500000000000003, 'y_min': 0.0, 'y_max': 4.0}}, '36:<unknown procedure>': {'name': '36:<unknown procedure>', 'time (inc)': [999238.0, 999390.0, 1000306.0, 999308.0], 'time': [0.0, 0.0, 0.0, 0.0], 'sorted_time (inc)': [999238.0, 999308.0, 999390.0, 1000306.0], 'sorted_time': [0.0, 0.0, 0.0, 0.0], 'rank': [0, 1, 2, 3], 'id': 'node-37', 'mean_time (inc)': 999560.5, 'mean_time': 0.0, 'max_time (inc)': 1000306.0, 'max_time': 0.0, 'min_time (inc)': 999238.0, 'min_time': 0.0, 'dataset': ['calc-pi', 'calc-pi', 'calc-pi', 'calc-pi'], 'module': 'libpsm_infinipath.so.1.14', 'hist_time (inc)': {'x': [25007.65, 75022.95000000001, 125038.25000000001, 175053.55000000002, 225068.85, 275084.15, 325099.45000000007, 375114.75, 425130.05000000005, 475145.35, 525160.65, 575175.9500000001, 625191.25, 675206.55, 725221.8500000001, 775237.15, 825252.4500000001, 875267.75, 925283.05, 975298.3500000001], 'y': [0, 0, 0, 0, 0, 0, 0, 0, 0, 0, 0, 0, 0, 0, 0, 0, 0, 0, 0, 4], 'x_min': 25007.65, 'x_max': 975298.3500000001, 'y_min': 0.0, 'y_max': 4.0}, 'hist_time': {'x': [-0.475, -0.42500000000000004, -0.375, -0.32499999999999996, -0.275, -0.22499999999999998, -0.17499999999999996, -0.12499999999999997, -0.07499999999999998, -0.024999999999999994, 0.025000000000000022, 0.07500000000000007, 0.12500000000000006, 0.17500000000000004, 0.22500000000000003, 0.275, 0.32500000000000007, 0.37500000000000006, 0.42500000000000004, 0.47500000000000003], 'y': [0, 0, 0, 0, 0, 0, 0, 0, 0, 0, 4, 0, 0, 0, 0, 0, 0, 0, 0, 0], 'x_min': -0.475, 'x_max': 0.47500000000000003, 'y_min': 0.0, 'y_max': 4.0}}, '62:MPI_Finalize': {'name': '62:MPI_Finalize', 'time (inc)': [999238.0, 999390.0, 1000306.0, 999308.0], 'time': [0.0, 0.0, 0.0, 0.0], 'sorted_time (inc)': [999238.0, 999308.0, 999390.0, 1000306.0], 'sorted_time': [0.0, 0.0, 0.0, 0.0], 'rank': [0, 1, 2, 3], 'id': 'node-27', 'mean_time (inc)': 999560.5, 'mean_time': 0.0, 'max_time (inc)': 1000306.0, 'max_time': 0.0, 'min_time (inc)': 999238.0, 'min_time': 0.0, 'dataset': ['calc-pi', 'calc-pi', 'calc-pi', 'calc-pi'], 'module': 'libmonitor.so.0.0.0', 'hist_time (inc)': {'x': [25007.65, 75022.95000000001, 125038.25000000001, 175053.55000000002, 225068.85, 275084.15, 325099.45000000007, 375114.75, 425130.05000000005, 475145.35, 525160.65, 575175.9500000001, 625191.25, 675206.55, 725221.8500000001, 775237.15, 825252.4500000001, 875267.75, 925283.05, 975298.3500000001], 'y': [0, 0, 0, 0, 0, 0, 0, 0, 0, 0, 0, 0, 0, 0, 0, 0, 0, 0, 0, 4], 'x_min': 25007.65, 'x_max': 975298.3500000001, 'y_min': 0.0, 'y_max': 4.0}, 'hist_time': {'x': [-0.475, -0.42500000000000004, -0.375, -0.32499999999999996, -0.275, -0.22499999999999998, -0.17499999999999996, -0.12499999999999997, -0.07499999999999998, -0.024999999999999994, 0.025000000000000022, 0.07500000000000007, 0.12500000000000006, 0.17500000000000004, 0.22500000000000003, 0.275, 0.32500000000000007, 0.37500000000000006, 0.42500000000000004, 0.47500000000000003], 'y': [0, 0, 0, 0, 0, 0, 0, 0, 0, 0, 4, 0, 0, 0, 0, 0, 0, 0, 0, 0], 'x_min': -0.475, 'x_max': 0.47500000000000003, 'y_min': 0.0, 'y_max': 4.0}}, '<program root>': {'name': '<program root>', 'time (inc)': [999238.0, 999390.0, 1000306.0, 999308.0], 'time': [0.0, 0.0, 0.0, 0.0], 'sorted_time (inc)': [999238.0, 999308.0, 999390.0, 1000306.0], 'sorted_time': [0.0, 0.0, 0.0, 0.0], 'rank': [0, 1, 2, 3], 'id': 'node-2', 'mean_time (inc)': 999560.5, 'mean_time': 0.0, 'max_time (inc)': 1000306.0, 'max_time': 0.0, 'min_time (inc)': 999238.0, 'min_time': 0.0, 'dataset': ['calc-pi', 'calc-pi', 'calc-pi', 'calc-pi'], 'module': 'libmonitor.so.0.0.0', 'hist_time (inc)': {'x': [25007.65, 75022.95000000001, 125038.25000000001, 175053.55000000002, 225068.85, 275084.15, 325099.45000000007, 375114.75, 425130.05000000005, 475145.35, 525160.65, 575175.9500000001, 625191.25, 675206.55, 725221.8500000001, 775237.15, 825252.4500000001, 875267.75, 925283.05, 975298.3500000001], 'y': [0, 0, 0, 0, 0, 0, 0, 0, 0, 0, 0, 0, 0, 0, 0, 0, 0, 0, 0, 4], 'x_min': 25007.65, 'x_max': 975298.3500000001, 'y_min': 0.0, 'y_max': 4.0}, 'hist_time': {'x': [-0.475, -0.42500000000000004, -0.375, -0.32499999999999996, -0.275, -0.22499999999999998, -0.17499999999999996, -0.12499999999999997, -0.07499999999999998, -0.024999999999999994, 0.025000000000000022, 0.07500000000000007, 0.12500000000000006, 0.17500000000000004, 0.22500000000000003, 0.275, 0.32500000000000007, 0.37500000000000006, 0.42500000000000004, 0.47500000000000003], 'y': [0, 0, 0, 0, 0, 0, 0, 0, 0, 0, 4, 0, 0, 0, 0, 0, 0, 0, 0, 0], 'x_min': -0.475, 'x_max': 0.47500000000000003, 'y_min': 0.0, 'y_max': 4.0}}, '<unknown file>:0': {'name': '<unknown file>:0', 'time (inc)': [298806.0, 293767.0, 317865.0, 310812.0, 316840.0, 316759.0, 376650.0, 377648.0, 47965.0, 53972.0, 17988.0, 77022.0, 197718.0, 244939.0, 221846.0, 173876.0, 59960.0, 35982.0, 5996.0, 35974.0], 'time': [298806.0, 293767.0, 317865.0, 310812.0, 316840.0, 316759.0, 376650.0, 377648.0, 47965.0, 53972.0, 17988.0, 77022.0, 197718.0, 244939.0, 221846.0, 173876.0, 59960.0, 35982.0, 5996.0, 35974.0], 'sorted_time (inc)': [5996.0, 17988.0, 35974.0, 35982.0, 47965.0, 53972.0, 59960.0, 77022.0, 173876.0, 197718.0, 221846.0, 244939.0, 293767.0, 298806.0, 310812.0, 316759.0, 316840.0, 317865.0, 376650.0, 377648.0], 'sorted_time': [5996.0, 17988.0, 35974.0, 35982.0, 47965.0, 53972.0, 59960.0, 77022.0, 173876.0, 197718.0, 221846.0, 244939.0, 293767.0, 298806.0, 310812.0, 316759.0, 316840.0, 317865.0, 376650.0, 377648.0], 'rank': [0, 1, 2, 3, 0, 1, 2, 3, 0, 1, 2, 3, 0, 1, 2, 3, 0, 1, 2, 3], 'id': 'node-44', 'mean_time (inc)': 189119.25, 'mean_time': 189119.25, 'max_time (inc)': 377648.0, 'max_time': 377648.0, 'min_time (inc)': 5996.0, 'min_time': 5996.0, 'dataset': ['calc-pi', 'calc-pi', 'calc-pi', 'calc-pi', 'calc-pi', 'calc-pi', 'calc-pi', 'calc-pi', 'calc-pi', 'calc-pi', 'calc-pi', 'calc-pi', 'calc-pi', 'calc-pi', 'calc-pi', 'calc-pi', 'calc-pi', 'calc-pi', 'calc-pi', 'calc-pi'], 'module': 'Unknown', 'hist_time (inc)': {'x': [9441.2, 28323.600000000002, 47206.0, 66088.40000000001, 84970.8, 103853.20000000001, 122735.6, 141618.0, 160500.40000000002, 179382.8, 198265.2, 217147.60000000003, 236030.0, 254912.40000000002, 273794.80000000005, 292677.2, 311559.60000000003, 330442.0, 349324.4, 368206.80000000005], 'y': [2, 2, 2, 1, 1, 0, 0, 0, 0, 1, 1, 1, 1, 0, 0, 2, 4, 0, 0, 2], 'x_min': 9441.2, 'x_max': 368206.80000000005, 'y_min': 0.0, 'y_max': 4.0}, 'hist_time': {'x': [9441.2, 28323.600000000002, 47206.0, 66088.40000000001, 84970.8, 103853.20000000001, 122735.6, 141618.0, 160500.40000000002, 179382.8, 198265.2, 217147.60000000003, 236030.0, 254912.40000000002, 273794.80000000005, 292677.2, 311559.60000000003, 330442.0, 349324.4, 368206.80000000005], 'y': [2, 2, 2, 1, 1, 0, 0, 0, 0, 1, 1, 1, 1, 0, 0, 2, 4, 0, 0, 2], 'x_min': 9441.2, 'x_max': 368206.80000000005, 'y_min': 0.0, 'y_max': 4.0}}, '<unknown procedure>': {'name': '<unknown procedure>', 'time (inc)': [999238.0, 999390.0, 1000306.0, 999308.0, 999238.0, 999390.0, 1000306.0, 999308.0, 298806.0, 293767.0, 317865.0, 310812.0, 316840.0, 316759.0, 376650.0, 377648.0, 305643.0, 334893.0, 245830.0, 286872.0, 197718.0, 244939.0, 221846.0, 173876.0, 59960.0, 35982.0, 5996.0, 35974.0], 'time': [0.0, 0.0, 0.0, 0.0, 0.0, 0.0, 0.0, 0.0, 0.0, 0.0, 0.0, 0.0, 0.0, 0.0, 0.0, 0.0, 0.0, 0.0, 0.0, 0.0, 0.0, 0.0, 0.0, 0.0, 0.0, 0.0, 0.0, 0.0], 'sorted_time (inc)': [5996.0, 35974.0, 35982.0, 59960.0, 173876.0, 197718.0, 221846.0, 244939.0, 245830.0, 286872.0, 293767.0, 298806.0, 305643.0, 310812.0, 316759.0, 316840.0, 317865.0, 334893.0, 376650.0, 377648.0, 999238.0, 999238.0, 999308.0, 999308.0, 999390.0, 999390.0, 1000306.0, 1000306.0], 'sorted_time': [0.0, 0.0, 0.0, 0.0, 0.0, 0.0, 0.0, 0.0, 0.0, 0.0, 0.0, 0.0, 0.0, 0.0, 0.0, 0.0, 0.0, 0.0, 0.0, 0.0, 0.0, 0.0, 0.0, 0.0, 0.0, 0.0, 0.0, 0.0], 'rank': [0, 1, 2, 3, 0, 1, 2, 3, 0, 1, 2, 3, 0, 1, 2, 3, 0, 1, 2, 3, 0, 1, 2, 3, 0, 1, 2, 3], 'id': 'node-39', 'mean_time (inc)': 455541.4285714286, 'mean_time': 0.0, 'max_time (inc)': 1000306.0, 'max_time': 0.0, 'min_time (inc)': 5996.0, 'min_time': 0.0, 'dataset': ['calc-pi', 'calc-pi', 'calc-pi', 'calc-pi', 'calc-pi', 'calc-pi', 'calc-pi', 'calc-pi', 'calc-pi', 'calc-pi', 'calc-pi', 'calc-pi', 'calc-pi', 'calc-pi', 'calc-pi', 'calc-pi', 'calc-pi', 'calc-pi', 'calc-pi', 'calc-pi', 'calc-pi', 'calc-pi', 'calc-pi', 'calc-pi', 'calc-pi', 'calc-pi', 'calc-pi', 'calc-pi'], 'module': 'libpsm_infinipath.so.1.14', 'hist_time (inc)': {'x': [25007.65, 75022.95000000001, 125038.25000000001, 175053.55000000002, 225068.85, 275084.15, 325099.45000000007, 375114.75, 425130.05000000005, 475145.35, 525160.65, 575175.9500000001, 625191.25, 675206.55, 725221.8500000001, 775237.15, 825252.4500000001, 875267.75, 925283.05, 975298.3500000001], 'y': [3, 1, 0, 2, 3, 3, 6, 2, 0, 0, 0, 0, 0, 0, 0, 0, 0, 0, 0, 8], 'x_min': 25007.65, 'x_max': 975298.3500000001, 'y_min': 0.0, 'y_max': 8.0}, 'hist_time': {'x': [-0.475, -0.42500000000000004, -0.375, -0.32499999999999996, -0.275, -0.22499999999999998, -0.17499999999999996, -0.12499999999999997, -0.07499999999999998, -0.024999999999999994, 0.025000000000000022, 0.07500000000000007, 0.12500000000000006, 0.17500000000000004, 0.22500000000000003, 0.275, 0.32500000000000007, 0.37500000000000006, 0.42500000000000004, 0.47500000000000003], 'y': [0, 0, 0, 0, 0, 0, 0, 0, 0, 0, 28, 0, 0, 0, 0, 0, 0, 0, 0, 0], 'x_min': -0.475, 'x_max': 0.47500000000000003, 'y_min': 0.0, 'y_max': 28.0}}, 'PMPI_Finalize': {'name': 'PMPI_Finalize', 'time (inc)': [999238.0, 999390.0, 1000306.0, 999308.0], 'time': [0.0, 0.0, 0.0, 0.0], 'sorted_time (inc)': [999238.0, 999308.0, 999390.0, 1000306.0], 'sorted_time': [0.0, 0.0, 0.0, 0.0], 'rank': [0, 1, 2, 3], 'id': 'node-29', 'mean_time (inc)': 999560.5, 'mean_time': 0.0, 'max_time (inc)': 1000306.0, 'max_time': 0.0, 'min_time (inc)': 999238.0, 'min_time': 0.0, 'dataset': ['calc-pi', 'calc-pi', 'calc-pi', 'calc-pi'], 'module': 'libmpi.so.12.0.5', 'hist_time (inc)': {'x': [25007.65, 75022.95000000001, 125038.25000000001, 175053.55000000002, 225068.85, 275084.15, 325099.45000000007, 375114.75, 425130.05000000005, 475145.35, 525160.65, 575175.9500000001, 625191.25, 675206.55, 725221.8500000001, 775237.15, 825252.4500000001, 875267.75, 925283.05, 975298.3500000001], 'y': [0, 0, 0, 0, 0, 0, 0, 0, 0, 0, 0, 0, 0, 0, 0, 0, 0, 0, 0, 4], 'x_min': 25007.65, 'x_max': 975298.3500000001, 'y_min': 0.0, 'y_max': 4.0}, 'hist_time': {'x': [-0.475, -0.42500000000000004, -0.375, -0.32499999999999996, -0.275, -0.22499999999999998, -0.17499999999999996, -0.12499999999999997, -0.07499999999999998, -0.024999999999999994, 0.025000000000000022, 0.07500000000000007, 0.12500000000000006, 0.17500000000000004, 0.22500000000000003, 0.275, 0.32500000000000007, 0.37500000000000006, 0.42500000000000004, 0.47500000000000003], 'y': [0, 0, 0, 0, 0, 0, 0, 0, 0, 0, 4, 0, 0, 0, 0, 0, 0, 0, 0, 0], 'x_min': -0.475, 'x_max': 0.47500000000000003, 'y_min': 0.0, 'y_max': 4.0}}, '__GI_sched_yield': {'name': '__GI_sched_yield', 'time (inc)': [17989.0, 17991.0], 'time': [0.0, 0.0], 'sorted_time (inc)': [17989.0, 17991.0], 'sorted_time': [0.0, 0.0], 'rank': [0, 1], 'id': 'node-58', 'mean_time (inc)': 17990.0, 'mean_time': 0.0, 'max_time (inc)': 17991.0, 'max_time': 0.0, 'min_time (inc)': 17989.0, 'min_time': 0.0, 'dataset': ['calc-pi', 'calc-pi'], 'module': 'libc-2.12.so', 'hist_time (inc)': {'x': [449.775, 1349.3249999999998, 2248.875, 3148.4249999999997, 4047.975, 4947.525, 5847.074999999999, 6746.625, 7646.174999999999, 8545.725, 9445.275, 10344.824999999999, 11244.375, 12143.925, 13043.474999999999, 13943.025, 14842.574999999999, 15742.125, 16641.675, 17541.225], 'y': [0, 0, 0, 0, 0, 0, 0, 0, 0, 0, 0, 0, 0, 0, 0, 0, 0, 0, 0, 2], 'x_min': 449.775, 'x_max': 17541.225, 'y_min': 0.0, 'y_max': 2.0}, 'hist_time': {'x': [-0.475, -0.42500000000000004, -0.375, -0.32499999999999996, -0.275, -0.22499999999999998, -0.17499999999999996, -0.12499999999999997, -0.07499999999999998, -0.024999999999999994, 0.025000000000000022, 0.07500000000000007, 0.12500000000000006, 0.17500000000000004, 0.22500000000000003, 0.275, 0.32500000000000007, 0.37500000000000006, 0.42500000000000004, 0.47500000000000003], 'y': [0, 0, 0, 0, 0, 0, 0, 0, 0, 0, 2, 0, 0, 0, 0, 0, 0, 0, 0, 0], 'x_min': -0.475, 'x_max': 0.47500000000000003, 'y_min': 0.0, 'y_max': 2.0}}, 'interp.c:0': {'name': 'interp.c:0', 'time (inc)': [59960.0, 35980.0, 59961.0, 23976.0, 17989.0, 17991.0], 'time': [59960.0, 35980.0, 59961.0, 23976.0, 17989.0, 17991.0], 'sorted_time (inc)': [17989.0, 17991.0, 23976.0, 35980.0, 59960.0, 59961.0], 'sorted_time': [17989.0, 17991.0, 23976.0, 35980.0, 59960.0, 59961.0], 'rank': [0, 1, 2, 3, 0, 1], 'id': 'node-60', 'mean_time (inc)': 35976.166666666664, 'mean_time': 35976.166666666664, 'max_time (inc)': 59961.0, 'max_time': 59961.0, 'min_time (inc)': 17989.0, 'min_time': 17989.0, 'dataset': ['calc-pi', 'calc-pi', 'calc-pi', 'calc-pi', 'calc-pi', 'calc-pi'], 'module': 'Unknown', 'hist_time (inc)': {'x': [1499.025, 4497.075000000001, 7495.125000000001, 10493.175000000001, 13491.225, 16489.275, 19487.325000000004, 22485.375, 25483.425000000003, 28481.475, 31479.525, 34477.575000000004, 37475.625, 40473.675, 43471.725000000006, 46469.775, 49467.825000000004, 52465.875, 55463.925, 58461.975000000006], 'y': [0, 0, 0, 0, 0, 0, 2, 1, 0, 0, 0, 0, 1, 0, 0, 0, 0, 0, 0, 2], 'x_min': 1499.025, 'x_max': 58461.975000000006, 'y_min': 0.0, 'y_max': 2.0}, 'hist_time': {'x': [1499.025, 4497.075000000001, 7495.125000000001, 10493.175000000001, 13491.225, 16489.275, 19487.325000000004, 22485.375, 25483.425000000003, 28481.475, 31479.525, 34477.575000000004, 37475.625, 40473.675, 43471.725000000006, 46469.775, 49467.825000000004, 52465.875, 55463.925, 58461.975000000006], 'y': [0, 0, 0, 0, 0, 0, 2, 1, 0, 0, 0, 0, 1, 0, 0, 0, 0, 0, 0, 2], 'x_min': 1499.025, 'x_max': 58461.975000000006, 'y_min': 0.0, 'y_max': 2.0}}, 'main': {'name': 'main', 'time (inc)': [999238.0, 999390.0, 1000306.0, 999308.0], 'time': [0.0, 0.0, 0.0, 0.0], 'sorted_time (inc)': [999238.0, 999308.0, 999390.0, 1000306.0], 'sorted_time': [0.0, 0.0, 0.0, 0.0], 'rank': [0, 1, 2, 3], 'id': 'node-4', 'mean_time (inc)': 999560.5, 'mean_time': 0.0, 'max_time (inc)': 1000306.0, 'max_time': 0.0, 'min_time (inc)': 999238.0, 'min_time': 0.0, 'dataset': ['calc-pi', 'calc-pi', 'calc-pi', 'calc-pi'], 'module': 'cpi', 'hist_time (inc)': {'x': [25007.65, 75022.95000000001, 125038.25000000001, 175053.55000000002, 225068.85, 275084.15, 325099.45000000007, 375114.75, 425130.05000000005, 475145.35, 525160.65, 575175.9500000001, 625191.25, 675206.55, 725221.8500000001, 775237.15, 825252.4500000001, 875267.75, 925283.05, 975298.3500000001], 'y': [0, 0, 0, 0, 0, 0, 0, 0, 0, 0, 0, 0, 0, 0, 0, 0, 0, 0, 0, 4], 'x_min': 25007.65, 'x_max': 975298.3500000001, 'y_min': 0.0, 'y_max': 4.0}, 'hist_time': {'x': [-0.475, -0.42500000000000004, -0.375, -0.32499999999999996, -0.275, -0.22499999999999998, -0.17499999999999996, -0.12499999999999997, -0.07499999999999998, -0.024999999999999994, 0.025000000000000022, 0.07500000000000007, 0.12500000000000006, 0.17500000000000004, 0.22500000000000003, 0.275, 0.32500000000000007, 0.37500000000000006, 0.42500000000000004, 0.47500000000000003], 'y': [0, 0, 0, 0, 0, 0, 0, 0, 0, 0, 4, 0, 0, 0, 0, 0, 0, 0, 0, 0], 'x_min': -0.475, 'x_max': 0.47500000000000003, 'y_min': 0.0, 'y_max': 4.0}}}}, 'module': {'calc-pi': {'libmonitor.so.0.0.0': {'name': 'libmonitor.so.0.0.0', 'time (inc)': [999238.0, 999390.0, 1000306.0, 999308.0, 999238.0, 999390.0, 1000306.0, 999308.0], 'time': [0.0, 0.0, 0.0, 0.0, 0.0, 0.0, 0.0, 0.0], 'sorted_time (inc)': [999238.0, 999238.0, 999308.0, 999308.0, 999390.0, 999390.0, 1000306.0, 1000306.0], 'sorted_time': [0.0, 0.0, 0.0, 0.0, 0.0, 0.0, 0.0, 0.0], 'rank': [0, 1, 2, 3, 0, 1, 2, 3], 'id': 'node-2', 'mean_time (inc)': 999560.5, 'mean_time': 0.0, 'max_time (inc)': 1000306.0, 'max_time': 0.0, 'min_time (inc)': 999238.0, 'min_time': 0.0, 'dataset': ['calc-pi', 'calc-pi', 'calc-pi', 'calc-pi', 'calc-pi', 'calc-pi', 'calc-pi', 'calc-pi'], 'module': 'libmonitor.so.0.0.0', 'hist_time (inc)': {'x': [25007.65, 75022.95000000001, 125038.25000000001, 175053.55000000002, 225068.85, 275084.15, 325099.45000000007, 375114.75, 425130.05000000005, 475145.35, 525160.65, 575175.9500000001, 625191.25, 675206.55, 725221.8500000001, 775237.15, 825252.4500000001, 875267.75, 925283.05, 975298.3500000001], 'y': [0, 0, 0, 0, 0, 0, 0, 0, 0, 0, 0, 0, 0, 0, 0, 0, 0, 0, 0, 8], 'x_min': 25007.65, 'x_max': 975298.3500000001, 'y_min': 0.0, 'y_max': 8.0}, 'hist_time': {'x': [-0.475, -0.42500000000000004, -0.375, -0.32499999999999996, -0.275, -0.22499999999999998, -0.17499999999999996, -0.12499999999999997, -0.07499999999999998, -0.024999999999999994, 0.025000000000000022, 0.07500000000000007, 0.12500000000000006, 0.17500000000000004, 0.22500000000000003, 0.275, 0.32500000000000007, 0.37500000000000006, 0.42500000000000004, 0.47500000000000003], 'y': [0, 0, 0, 0, 0, 0, 0, 0, 0, 0, 8, 0, 0, 0, 0, 0, 0, 0, 0, 0], 'x_min': -0.475, 'x_max': 0.47500000000000003, 'y_min': 0.0, 'y_max': 8.0}}, 'cpi': {'name': 'cpi', 'time (inc)': [999238.0, 999390.0, 1000306.0, 999308.0], 'time': [0.0, 0.0, 0.0, 0.0], 'sorted_time (inc)': [999238.0, 999308.0, 999390.0, 1000306.0], 'sorted_time': [0.0, 0.0, 0.0, 0.0], 'rank': [0, 1, 2, 3], 'id': 'node-4', 'mean_time (inc)': 999560.5, 'mean_time': 0.0, 'max_time (inc)': 1000306.0, 'max_time': 0.0, 'min_time (inc)': 999238.0, 'min_time': 0.0, 'dataset': ['calc-pi', 'calc-pi', 'calc-pi', 'calc-pi'], 'module': 'cpi', 'hist_time (inc)': {'x': [25007.65, 75022.95000000001, 125038.25000000001, 175053.55000000002, 225068.85, 275084.15, 325099.45000000007, 375114.75, 425130.05000000005, 475145.35, 525160.65, 575175.9500000001, 625191.25, 675206.55, 725221.8500000001, 775237.15, 825252.4500000001, 875267.75, 925283.05, 975298.3500000001], 'y': [0, 0, 0, 0, 0, 0, 0, 0, 0, 0, 0, 0, 0, 0, 0, 0, 0, 0, 0, 4], 'x_min': 25007.65, 'x_max': 975298.3500000001, 'y_min': 0.0, 'y_max': 4.0}, 'hist_time': {'x': [-0.475, -0.42500000000000004, -0.375, -0.32499999999999996, -0.275, -0.22499999999999998, -0.17499999999999996, -0.12499999999999997, -0.07499999999999998, -0.024999999999999994, 0.025000000000000022, 0.07500000000000007, 0.12500000000000006, 0.17500000000000004, 0.22500000000000003, 0.275, 0.32500000000000007, 0.37500000000000006, 0.42500000000000004, 0.47500000000000003], 'y': [0, 0, 0, 0, 0, 0, 0, 0, 0, 0, 4, 0, 0, 0, 0, 0, 0, 0, 0, 0], 'x_min': -0.475, 'x_max': 0.47500000000000003, 'y_min': 0.0, 'y_max': 4.0}}, 'libmpi.so.12.0.5': {'name': 'libmpi.so.12.0.5', 'time (inc)': [999238.0, 999390.0, 1000306.0, 999308.0, 999238.0, 999390.0, 1000306.0, 999308.0, 999238.0, 999390.0, 1000306.0, 999308.0, 999238.0, 999390.0, 1000306.0, 999308.0], 'time': [0.0, 0.0, 0.0, 0.0, 0.0, 0.0, 0.0, 0.0, 0.0, 0.0, 0.0, 0.0, 0.0, 0.0, 0.0, 0.0], 'sorted_time (inc)': [999238.0, 999238.0, 999238.0, 999238.0, 999308.0, 999308.0, 999308.0, 999308.0, 999390.0, 999390.0, 999390.0, 999390.0, 1000306.0, 1000306.0, 1000306.0, 1000306.0], 'sorted_time': [0.0, 0.0, 0.0, 0.0, 0.0, 0.0, 0.0, 0.0, 0.0, 0.0, 0.0, 0.0, 0.0, 0.0, 0.0, 0.0], 'rank': [0, 1, 2, 3, 0, 1, 2, 3, 0, 1, 2, 3, 0, 1, 2, 3], 'id': 'node-29', 'mean_time (inc)': 999560.5, 'mean_time': 0.0, 'max_time (inc)': 1000306.0, 'max_time': 0.0, 'min_time (inc)': 999238.0, 'min_time': 0.0, 'dataset': ['calc-pi', 'calc-pi', 'calc-pi', 'calc-pi', 'calc-pi', 'calc-pi', 'calc-pi', 'calc-pi', 'calc-pi', 'calc-pi', 'calc-pi', 'calc-pi', 'calc-pi', 'calc-pi', 'calc-pi', 'calc-pi'], 'module': 'libmpi.so.12.0.5', 'hist_time (inc)': {'x': [25007.65, 75022.95000000001, 125038.25000000001, 175053.55000000002, 225068.85, 275084.15, 325099.45000000007, 375114.75, 425130.05000000005, 475145.35, 525160.65, 575175.9500000001, 625191.25, 675206.55, 725221.8500000001, 775237.15, 825252.4500000001, 875267.75, 925283.05, 975298.3500000001], 'y': [0, 0, 0, 0, 0, 0, 0, 0, 0, 0, 0, 0, 0, 0, 0, 0, 0, 0, 0, 16], 'x_min': 25007.65, 'x_max': 975298.3500000001, 'y_min': 0.0, 'y_max': 16.0}, 'hist_time': {'x': [-0.475, -0.42500000000000004, -0.375, -0.32499999999999996, -0.275, -0.22499999999999998, -0.17499999999999996, -0.12499999999999997, -0.07499999999999998, -0.024999999999999994, 0.025000000000000022, 0.07500000000000007, 0.12500000000000006, 0.17500000000000004, 0.22500000000000003, 0.275, 0.32500000000000007, 0.37500000000000006, 0.42500000000000004, 0.47500000000000003], 'y': [0, 0, 0, 0, 0, 0, 0, 0, 0, 0, 16, 0, 0, 0, 0, 0, 0, 0, 0, 0], 'x_min': -0.475, 'x_max': 0.47500000000000003, 'y_min': 0.0, 'y_max': 16.0}}, 'libpsm_infinipath.so.1.14': {'name': 'libpsm_infinipath.so.1.14', 'time (inc)': [999238.0, 999390.0, 1000306.0, 999308.0, 999238.0, 999390.0, 1000306.0, 999308.0, 999238.0, 999390.0, 1000306.0, 999308.0, 298806.0, 293767.0, 317865.0, 310812.0, 316840.0, 316759.0, 376650.0, 377648.0, 305643.0, 334893.0, 245830.0, 286872.0, 197718.0, 244939.0, 221846.0, 173876.0, 59960.0, 35982.0, 5996.0, 35974.0], 'time': [0.0, 0.0, 0.0, 0.0, 0.0, 0.0, 0.0, 0.0, 0.0, 0.0, 0.0, 0.0, 0.0, 0.0, 0.0, 0.0, 0.0, 0.0, 0.0, 0.0, 0.0, 0.0, 0.0, 0.0, 0.0, 0.0, 0.0, 0.0, 0.0, 0.0, 0.0, 0.0], 'sorted_time (inc)': [5996.0, 35974.0, 35982.0, 59960.0, 173876.0, 197718.0, 221846.0, 244939.0, 245830.0, 286872.0, 293767.0, 298806.0, 305643.0, 310812.0, 316759.0, 316840.0, 317865.0, 334893.0, 376650.0, 377648.0, 999238.0, 999238.0, 999238.0, 999308.0, 999308.0, 999308.0, 999390.0, 999390.0, 999390.0, 1000306.0, 1000306.0, 1000306.0], 'sorted_time': [0.0, 0.0, 0.0, 0.0, 0.0, 0.0, 0.0, 0.0, 0.0, 0.0, 0.0, 0.0, 0.0, 0.0, 0.0, 0.0, 0.0, 0.0, 0.0, 0.0, 0.0, 0.0, 0.0, 0.0, 0.0, 0.0, 0.0, 0.0, 0.0, 0.0, 0.0, 0.0], 'rank': [0, 1, 2, 3, 0, 1, 2, 3, 0, 1, 2, 3, 0, 1, 2, 3, 0, 1, 2, 3, 0, 1, 2, 3, 0, 1, 2, 3, 0, 1, 2, 3], 'id': 'node-37', 'mean_time (inc)': 523543.8125, 'mean_time': 0.0, 'max_time (inc)': 1000306.0, 'max_time': 0.0, 'min_time (inc)': 5996.0, 'min_time': 0.0, 'dataset': ['calc-pi', 'calc-pi', 'calc-pi', 'calc-pi', 'calc-pi', 'calc-pi', 'calc-pi', 'calc-pi', 'calc-pi', 'calc-pi', 'calc-pi', 'calc-pi', 'calc-pi', 'calc-pi', 'calc-pi', 'calc-pi', 'calc-pi', 'calc-pi', 'calc-pi', 'calc-pi', 'calc-pi', 'calc-pi', 'calc-pi', 'calc-pi', 'calc-pi', 'calc-pi', 'calc-pi', 'calc-pi', 'calc-pi', 'calc-pi', 'calc-pi', 'calc-pi'], 'module': 'libpsm_infinipath.so.1.14', 'hist_time (inc)': {'x': [25007.65, 75022.95000000001, 125038.25000000001, 175053.55000000002, 225068.85, 275084.15, 325099.45000000007, 375114.75, 425130.05000000005, 475145.35, 525160.65, 575175.9500000001, 625191.25, 675206.55, 725221.8500000001, 775237.15, 825252.4500000001, 875267.75, 925283.05, 975298.3500000001], 'y': [3, 1, 0, 2, 3, 3, 6, 2, 0, 0, 0, 0, 0, 0, 0, 0, 0, 0, 0, 12], 'x_min': 25007.65, 'x_max': 975298.3500000001, 'y_min': 0.0, 'y_max': 12.0}, 'hist_time': {'x': [-0.475, -0.42500000000000004, -0.375, -0.32499999999999996, -0.275, -0.22499999999999998, -0.17499999999999996, -0.12499999999999997, -0.07499999999999998, -0.024999999999999994, 0.025000000000000022, 0.07500000000000007, 0.12500000000000006, 0.17500000000000004, 0.22500000000000003, 0.275, 0.32500000000000007, 0.37500000000000006, 0.42500000000000004, 0.47500000000000003], 'y': [0, 0, 0, 0, 0, 0, 0, 0, 0, 0, 32, 0, 0, 0, 0, 0, 0, 0, 0, 0], 'x_min': -0.475, 'x_max': 0.47500000000000003, 'y_min': 0.0, 'y_max': 32.0}}, 'Unknown': {'name': 'Unknown', 'time (inc)': [59960.0, 35980.0, 59961.0, 23976.0, 298806.0, 293767.0, 317865.0, 310812.0, 316840.0, 316759.0, 376650.0, 377648.0, 47965.0, 53972.0, 17988.0, 77022.0, 197718.0, 244939.0, 221846.0, 173876.0, 59960.0, 35982.0, 5996.0, 35974.0, 17989.0, 17991.0], 'time': [59960.0, 35980.0, 59961.0, 23976.0, 298806.0, 293767.0, 317865.0, 310812.0, 316840.0, 316759.0, 376650.0, 377648.0, 47965.0, 53972.0, 17988.0, 77022.0, 197718.0, 244939.0, 221846.0, 173876.0, 59960.0, 35982.0, 5996.0, 35974.0, 17989.0, 17991.0], 'sorted_time (inc)': [5996.0, 17988.0, 17989.0, 17991.0, 23976.0, 35974.0, 35980.0, 35982.0, 47965.0, 53972.0, 59960.0, 59960.0, 59961.0, 77022.0, 173876.0, 197718.0, 221846.0, 244939.0, 293767.0, 298806.0, 310812.0, 316759.0, 316840.0, 317865.0, 376650.0, 377648.0], 'sorted_time': [5996.0, 17988.0, 17989.0, 17991.0, 23976.0, 35974.0, 35980.0, 35982.0, 47965.0, 53972.0, 59960.0, 59960.0, 59961.0, 77022.0, 173876.0, 197718.0, 221846.0, 244939.0, 293767.0, 298806.0, 310812.0, 316759.0, 316840.0, 317865.0, 376650.0, 377648.0], 'rank': [0, 1, 2, 3, 0, 1, 2, 3, 0, 1, 2, 3, 0, 1, 2, 3, 0, 1, 2, 3, 0, 1, 2, 3, 0, 1], 'id': 'node-60', 'mean_time (inc)': 153778.53846153847, 'mean_time': 153778.53846153847, 'max_time (inc)': 377648.0, 'max_time': 377648.0, 'min_time (inc)': 5996.0, 'min_time': 5996.0, 'dataset': ['calc-pi', 'calc-pi', 'calc-pi', 'calc-pi', 'calc-pi', 'calc-pi', 'calc-pi', 'calc-pi', 'calc-pi', 'calc-pi', 'calc-pi', 'calc-pi', 'calc-pi', 'calc-pi', 'calc-pi', 'calc-pi', 'calc-pi', 'calc-pi', 'calc-pi', 'calc-pi', 'calc-pi', 'calc-pi', 'calc-pi', 'calc-pi', 'calc-pi', 'calc-pi'], 'module': 'Unknown', 'hist_time (inc)': {'x': [9441.2, 28323.600000000002, 47206.0, 66088.40000000001, 84970.8, 103853.20000000001, 122735.6, 141618.0, 160500.40000000002, 179382.8, 198265.2, 217147.60000000003, 236030.0, 254912.40000000002, 273794.80000000005, 292677.2, 311559.60000000003, 330442.0, 349324.4, 368206.80000000005], 'y': [4, 4, 2, 3, 1, 0, 0, 0, 0, 1, 1, 1, 1, 0, 0, 2, 4, 0, 0, 2], 'x_min': 9441.2, 'x_max': 368206.80000000005, 'y_min': 0.0, 'y_max': 4.0}, 'hist_time': {'x': [9441.2, 28323.600000000002, 47206.0, 66088.40000000001, 84970.8, 103853.20000000001, 122735.6, 141618.0, 160500.40000000002, 179382.8, 198265.2, 217147.60000000003, 236030.0, 254912.40000000002, 273794.80000000005, 292677.2, 311559.60000000003, 330442.0, 349324.4, 368206.80000000005], 'y': [4, 4, 2, 3, 1, 0, 0, 0, 0, 1, 1, 1, 1, 0, 0, 2, 4, 0, 0, 2], 'x_min': 9441.2, 'x_max': 368206.80000000005, 'y_min': 0.0, 'y_max': 4.0}}, 'libc-2.12.so': {'name': 'libc-2.12.so', 'time (inc)': [17989.0, 17991.0], 'time': [0.0, 0.0], 'sorted_time (inc)': [17989.0, 17991.0], 'sorted_time': [0.0, 0.0], 'rank': [0, 1], 'id': 'node-58', 'mean_time (inc)': 17990.0, 'mean_time': 0.0, 'max_time (inc)': 17991.0, 'max_time': 0.0, 'min_time (inc)': 17989.0, 'min_time': 0.0, 'dataset': ['calc-pi', 'calc-pi'], 'module': 'libc-2.12.so', 'hist_time (inc)': {'x': [449.775, 1349.3249999999998, 2248.875, 3148.4249999999997, 4047.975, 4947.525, 5847.074999999999, 6746.625, 7646.174999999999, 8545.725, 9445.275, 10344.824999999999, 11244.375, 12143.925, 13043.474999999999, 13943.025, 14842.574999999999, 15742.125, 16641.675, 17541.225], 'y': [0, 0, 0, 0, 0, 0, 0, 0, 0, 0, 0, 0, 0, 0, 0, 0, 0, 0, 0, 2], 'x_min': 449.775, 'x_max': 17541.225, 'y_min': 0.0, 'y_max': 2.0}, 'hist_time': {'x': [-0.475, -0.42500000000000004, -0.375, -0.32499999999999996, -0.275, -0.22499999999999998, -0.17499999999999996, -0.12499999999999997, -0.07499999999999998, -0.024999999999999994, 0.025000000000000022, 0.07500000000000007, 0.12500000000000006, 0.17500000000000004, 0.22500000000000003, 0.275, 0.32500000000000007, 0.37500000000000006, 0.42500000000000004, 0.47500000000000003], 'y': [0, 0, 0, 0, 0, 0, 0, 0, 0, 0, 2, 0, 0, 0, 0, 0, 0, 0, 0, 0], 'x_min': -0.475, 'x_max': 0.47500000000000003, 'y_min': 0.0, 'y_max': 2.0}}}}, 'moduleCallsiteMap': {'ensemble': {'libmonitor.so.0.0.0': ['<program root>', '62:MPI_Finalize'], 'cpi': ['main'], 'libmpi.so.12.0.5': ['PMPI_Finalize', '294:MPID_Finalize', '162:MPIDI_CH3_Finalize', '230:psm_dofinalize'], 'libpsm_infinipath.so.1.14': ['36:<unknown procedure>', '<unknown procedure>'], 'Unknown': ['interp.c:0', '<unknown file>:0'], 'libc-2.12.so': ['__GI_sched_yield']}}}\n"
     ]
    }
   ],
   "source": [
    "auxiliary = scf.request_single({\"name\": \"auxiliary\", \"dataset\": \"calc-pi\"})\n",
    "print(auxiliary)"
   ]
  },
  {
   "cell_type": "markdown",
   "metadata": {},
   "source": [
    "### SuperGraph "
   ]
  },
  {
   "cell_type": "code",
   "execution_count": 25,
   "metadata": {},
   "outputs": [],
   "source": [
    "ssg = scf.request_single({\"name\": \"supergraph\", \"groupBy\": \"module\", \"dataset\": \"calc-pi\"})"
   ]
  },
  {
   "cell_type": "code",
   "execution_count": 28,
   "metadata": {},
   "outputs": [
    {
     "name": "stdout",
     "output_type": "stream",
     "text": [
      "Nodes (count = 6) are: ['libmonitor.so.0.0.0', 'cpi', 'libmpi.so.12.0.5', 'libpsm_infinipath.so.1.14', 'Unknown', 'libc-2.12.so']\n",
      "\n",
      "\n",
      "Edges (count = 6) are: [('libmonitor.so.0.0.0', 'cpi'), ('libmonitor.so.0.0.0', 'libmpi.so.12.0.5'), ('libmpi.so.12.0.5', 'libpsm_infinipath.so.1.14'), ('libpsm_infinipath.so.1.14', 'Unknown'), ('libpsm_infinipath.so.1.14', 'libc-2.12.so'), ('libc-2.12.so', 'Unknown')]\n"
     ]
    }
   ],
   "source": [
    "print(f\"Nodes (count = {len(ssg.nodes())}) are: {ssg.nodes(data=False)}\")\n",
    "print(\"\\n\")\n",
    "print(f\"Edges (count = {len(ssg.edges())}) are: {ssg.edges(data=False)}\")"
   ]
  }
 ],
 "metadata": {
  "kernelspec": {
   "display_name": "Python 3.7.4 64-bit (conda)",
   "language": "python",
   "name": "python37464bitconda681e547a9b06483ebedfd5d049542d16"
  },
  "language_info": {
   "codemirror_mode": {
    "name": "ipython",
    "version": 3
   },
   "file_extension": ".py",
   "mimetype": "text/x-python",
   "name": "python",
   "nbconvert_exporter": "python",
   "pygments_lexer": "ipython3",
   "version": "3.7.4"
  }
 },
 "nbformat": 4,
 "nbformat_minor": 2
}