{
 "cells": [
  {
   "cell_type": "markdown",
   "metadata": {},
   "source": [
    "This notebook explains the design of CallFlow's `Ensemble Gradients` which provide an overview of the runtime distribution across a set of executions."
   ]
  },
  {
   "cell_type": "code",
   "execution_count": 5,
   "metadata": {},
   "outputs": [],
   "source": [
    "import callflow\n",
    "from callflow.modules import Gradients\n",
    "from callflow.operations import ArgParser\n"
   ]
  },
  {
   "cell_type": "code",
   "execution_count": 6,
   "metadata": {},
   "outputs": [
    {
     "output_type": "stream",
     "name": "stdout",
     "text": [
      "<module 'callflow' from '/Users/jarus/Work/llnl/CallFlow/callflow/__init__.py'>\n"
     ]
    }
   ],
   "source": [
    "print(callflow)"
   ]
  },
  {
   "cell_type": "code",
   "execution_count": 9,
   "metadata": {},
   "outputs": [],
   "source": [
    "data_dir = \"/Users/jarus/Work/llnl/CallFlow/data/hatchet-datasets/sc19-datasets/lulesh-scaling\"\n",
    "profile_format = \"caliper_json\""
   ]
  },
  {
   "cell_type": "code",
   "execution_count": 1,
   "metadata": {},
   "outputs": [
    {
     "output_type": "stream",
     "name": "stderr",
     "text": [
      "UsageError: Line magic function `%callflow` not found.\n"
     ]
    }
   ],
   "source": []
  },
  {
   "cell_type": "code",
   "execution_count": 10,
   "metadata": {},
   "outputs": [],
   "source": [
    "args = ArgParser(\"--data_dir \" + data_dir + \" --profile_format \" + profile_format)\n",
    "config = args.config"
   ]
  },
  {
   "cell_type": "code",
   "execution_count": 12,
   "metadata": {},
   "outputs": [],
   "source": [
    "cf = callflow.CallFlow(config=config, ensemble=True)"
   ]
  },
  {
   "cell_type": "code",
   "execution_count": 14,
   "metadata": {},
   "outputs": [],
   "source": [
    "cf.load()"
   ]
  },
  {
   "cell_type": "code",
   "execution_count": 18,
   "metadata": {},
   "outputs": [
    {
     "output_type": "stream",
     "name": "stdout",
     "text": [
      "Processing:  lulesh-annotation-profile-27cores\n",
      "Processing:  lulesh-annotation-profile-64cores\n",
      "Processing:  lulesh-annotation-profile-8cores\n",
      "Processing:  lulesh-annotation-profile-1core\n",
      "Processing:  lulesh-annotation-profile-216cores\n",
      "Processing:  lulesh-annotation-profile-512cores\n",
      "Processing:  lulesh-annotation-profile-125cores\n",
      "Processing:  lulesh-annotation-profile-343cores\n"
     ]
    }
   ],
   "source": [
    "cf.process()"
   ]
  },
  {
   "cell_type": "code",
   "execution_count": 27,
   "metadata": {},
   "outputs": [
    {
     "output_type": "stream",
     "name": "stdout",
     "text": [
      "['lulesh-annotation-profile-27cores', 'lulesh-annotation-profile-64cores', 'lulesh-annotation-profile-8cores', 'lulesh-annotation-profile-1core', 'lulesh-annotation-profile-216cores', 'lulesh-annotation-profile-512cores', 'lulesh-annotation-profile-125cores', 'lulesh-annotation-profile-343cores', 'ensemble']\n"
     ]
    }
   ],
   "source": [
    "datasets = list(cf.supergraphs.keys())\n",
    "print(datasets)"
   ]
  },
  {
   "cell_type": "code",
   "execution_count": 31,
   "metadata": {},
   "outputs": [],
   "source": [
    "target_df = {}\n",
    "for dataset in datasets:\n",
    "    target_df[dataset] = cf.supergraphs['ensemble'].gf.df.loc[cf.supergraphs['ensemble'].gf.df[\"dataset\"] == dataset]\n"
   ]
  },
  {
   "cell_type": "code",
   "execution_count": 33,
   "metadata": {
    "tags": [
     "outputPrepend"
    ]
   },
   "outputs": [
    {
     "output_type": "stream",
     "name": "stdout",
     "text": [
      "ce  \n19455  MPI_Allreduce=MPI_Allreduce  \n19456  MPI_Allreduce=MPI_Allreduce  \n\n[9717 rows x 28 columns], 'lulesh-annotation-profile-512cores':        index  Unnamed: 0                                            callees  \\\n19457  19457           0  ['lulesh.cycle', 'MPI_Reduce', 'MPI_Finalize',...   \n19458  19458           1  ['lulesh.cycle', 'MPI_Reduce', 'MPI_Finalize',...   \n19459  19459           2  ['lulesh.cycle', 'MPI_Reduce', 'MPI_Finalize',...   \n19460  19460           3  ['lulesh.cycle', 'MPI_Reduce', 'MPI_Finalize',...   \n19461  19461           4  ['lulesh.cycle', 'MPI_Reduce', 'MPI_Finalize',...   \n...      ...         ...                                                ...   \n42489  42489       23035                                                 []   \n42490  42490       23036                                                 []   \n42491  42491       23037                                                 []   \n42492  42492       23038                                                 []   \n42493  42493       23039                                                 []   \n\n                 callers  component_level                      component_path  \\\n19457                 []                2                    ('main', 'main')   \n19458                 []                2                    ('main', 'main')   \n19459                 []                2                    ('main', 'main')   \n19460                 []                2                    ('main', 'main')   \n19461                 []                2                    ('main', 'main')   \n...                  ...              ...                                 ...   \n42489  ['TimeIncrement']                2  ('MPI_Allreduce', 'MPI_Allreduce')   \n42490  ['TimeIncrement']                2  ('MPI_Allreduce', 'MPI_Allreduce')   \n42491  ['TimeIncrement']                2  ('MPI_Allreduce', 'MPI_Allreduce')   \n42492  ['TimeIncrement']                2  ('MPI_Allreduce', 'MPI_Allreduce')   \n42493  ['TimeIncrement']                2  ('MPI_Allreduce', 'MPI_Allreduce')   \n\n                                  dataset  entry_function  \\\n19457  lulesh-annotation-profile-512cores            True   \n19458  lulesh-annotation-profile-512cores            True   \n19459  lulesh-annotation-profile-512cores            True   \n19460  lulesh-annotation-profile-512cores            True   \n19461  lulesh-annotation-profile-512cores            True   \n...                                   ...             ...   \n42489  lulesh-annotation-profile-512cores            True   \n42490  lulesh-annotation-profile-512cores            True   \n42491  lulesh-annotation-profile-512cores            True   \n42492  lulesh-annotation-profile-512cores            True   \n42493  lulesh-annotation-profile-512cores            True   \n\n                                              group_path  \\\n19457                                      ['main=main']   \n19458                                      ['main=main']   \n19459                                      ['main=main']   \n19460                                      ['main=main']   \n19461                                      ['main=main']   \n...                                                  ...   \n42489  ['main=main', 'lulesh.cycle=lulesh.cycle', 'Ti...   \n42490  ['main=main', 'lulesh.cycle=lulesh.cycle', 'Ti...   \n42491  ['main=main', 'lulesh.cycle=lulesh.cycle', 'Ti...   \n42492  ['main=main', 'lulesh.cycle=lulesh.cycle', 'Ti...   \n42493  ['main=main', 'lulesh.cycle=lulesh.cycle', 'Ti...   \n\n       imbalance_perc_exclusive  ...  rank  show_node  skewness_exclusive  \\\n19457                  0.065792  ...     0       True           -0.736226   \n19458                  0.065792  ...     1       True           -0.736226   \n19459                  0.065792  ...     2       True           -0.736226   \n19460                  0.065792  ...     3       True           -0.736226   \n19461                  0.065792  ...     4       True           -0.736226   \n...                         ...  ...   ...        ...                 ...   \n42489                  0.421660  ...   507       True           -0.100767   \n42490                  0.421660  ...   508       True           -0.100767   \n42491                  0.421660  ...   509       True           -0.100767   \n42492                  0.421660  ...   510       True           -0.100767   \n42493                  0.421660  ...   511       True           -0.100767   \n\n      skewness_inclusive std_deviation_exclusive  std_deviation_inclusive  \\\n19457          -0.353360            2.088685e+03             3.865020e+03   \n19458          -0.353360            2.088685e+03             3.865020e+03   \n19459          -0.353360            2.088685e+03             3.865020e+03   \n19460          -0.353360            2.088685e+03             3.865020e+03   \n19461          -0.353360            2.088685e+03             3.865020e+03   \n...                  ...                     ...                      ...   \n42489          -0.100767            1.758434e+06             1.758434e+06   \n42490          -0.100767            1.758434e+06             1.758434e+06   \n42491          -0.100767            1.758434e+06             1.758434e+06   \n42492          -0.100767            1.758434e+06             1.758434e+06   \n42493          -0.100767            1.758434e+06             1.758434e+06   \n\n             time  time (inc)                     vis_name  \\\n19457     85405.0  53546844.0                    main=main   \n19458     86494.0  53544897.0                    main=main   \n19459     87314.0  53546812.0                    main=main   \n19460     87077.0  53547521.0                    main=main   \n19461     87223.0  53546355.0                    main=main   \n...           ...         ...                          ...   \n42489   9104187.0   9104187.0  TimeIncrement=MPI_Allreduce   \n42490   8889953.0   8889953.0  TimeIncrement=MPI_Allreduce   \n42491   9599096.0   9599096.0  TimeIncrement=MPI_Allreduce   \n42492  10104611.0  10104611.0  TimeIncrement=MPI_Allreduce   \n42493  13706205.0  13706205.0  TimeIncrement=MPI_Allreduce   \n\n                     vis_node_name  \n19457                    main=main  \n19458                    main=main  \n19459                    main=main  \n19460                    main=main  \n19461                    main=main  \n...                            ...  \n42489  MPI_Allreduce=MPI_Allreduce  \n42490  MPI_Allreduce=MPI_Allreduce  \n42491  MPI_Allreduce=MPI_Allreduce  \n42492  MPI_Allreduce=MPI_Allreduce  \n42493  MPI_Allreduce=MPI_Allreduce  \n\n[23037 rows x 28 columns], 'lulesh-annotation-profile-125cores':        index  Unnamed: 0                                            callees  \\\n42494  42494           0  ['lulesh.cycle', 'MPI_Reduce', 'MPI_Finalize',...   \n42495  42495           1  ['lulesh.cycle', 'MPI_Reduce', 'MPI_Finalize',...   \n42496  42496           2  ['lulesh.cycle', 'MPI_Reduce', 'MPI_Finalize',...   \n42497  42497           3  ['lulesh.cycle', 'MPI_Reduce', 'MPI_Finalize',...   \n42498  42498           4  ['lulesh.cycle', 'MPI_Reduce', 'MPI_Finalize',...   \n...      ...         ...                                                ...   \n48111  48111        5620                                                 []   \n48112  48112        5621                                                 []   \n48113  48113        5622                                                 []   \n48114  48114        5623                                                 []   \n48115  48115        5624                                                 []   \n\n                 callers  component_level                      component_path  \\\n42494                 []                2                    ('main', 'main')   \n42495                 []                2                    ('main', 'main')   \n42496                 []                2                    ('main', 'main')   \n42497                 []                2                    ('main', 'main')   \n42498                 []                2                    ('main', 'main')   \n...                  ...              ...                                 ...   \n48111  ['TimeIncrement']                2  ('MPI_Allreduce', 'MPI_Allreduce')   \n48112  ['TimeIncrement']                2  ('MPI_Allreduce', 'MPI_Allreduce')   \n48113  ['TimeIncrement']                2  ('MPI_Allreduce', 'MPI_Allreduce')   \n48114  ['TimeIncrement']                2  ('MPI_Allreduce', 'MPI_Allreduce')   \n48115  ['TimeIncrement']                2  ('MPI_Allreduce', 'MPI_Allreduce')   \n\n                                  dataset  entry_function  \\\n42494  lulesh-annotation-profile-125cores            True   \n42495  lulesh-annotation-profile-125cores            True   \n42496  lulesh-annotation-profile-125cores            True   \n42497  lulesh-annotation-profile-125cores            True   \n42498  lulesh-annotation-profile-125cores            True   \n...                                   ...             ...   \n48111  lulesh-annotation-profile-125cores            True   \n48112  lulesh-annotation-profile-125cores            True   \n48113  lulesh-annotation-profile-125cores            True   \n48114  lulesh-annotation-profile-125cores            True   \n48115  lulesh-annotation-profile-125cores            True   \n\n                                              group_path  \\\n42494                                      ['main=main']   \n42495                                      ['main=main']   \n42496                                      ['main=main']   \n42497                                      ['main=main']   \n42498                                      ['main=main']   \n...                                                  ...   \n48111  ['main=main', 'lulesh.cycle=lulesh.cycle', 'Ti...   \n48112  ['main=main', 'lulesh.cycle=lulesh.cycle', 'Ti...   \n48113  ['main=main', 'lulesh.cycle=lulesh.cycle', 'Ti...   \n48114  ['main=main', 'lulesh.cycle=lulesh.cycle', 'Ti...   \n48115  ['main=main', 'lulesh.cycle=lulesh.cycle', 'Ti...   \n\n       imbalance_perc_exclusive  ...  rank  show_node  skewness_exclusive  \\\n42494                  0.059286  ...     0       True           -0.083182   \n42495                  0.059286  ...     1       True           -0.083182   \n42496                  0.059286  ...     2       True           -0.083182   \n42497                  0.059286  ...     3       True           -0.083182   \n42498                  0.059286  ...     4       True           -0.083182   \n...                         ...  ...   ...        ...                 ...   \n48111                  0.382626  ...   120       True           -0.693772   \n48112                  0.382626  ...   121       True           -0.693772   \n48113                  0.382626  ...   122       True           -0.693772   \n48114                  0.382626  ...   123       True           -0.693772   \n48115                  0.382626  ...   124       True           -0.693772   \n\n      skewness_inclusive std_deviation_exclusive  std_deviation_inclusive  \\\n42494          -0.132027            3.005958e+03             4.194711e+03   \n42495          -0.132027            3.005958e+03             4.194711e+03   \n42496          -0.132027            3.005958e+03             4.194711e+03   \n42497          -0.132027            3.005958e+03             4.194711e+03   \n42498          -0.132027            3.005958e+03             4.194711e+03   \n...                  ...                     ...                      ...   \n48111          -0.693772            2.130737e+06             2.130737e+06   \n48112          -0.693772            2.130737e+06             2.130737e+06   \n48113          -0.693772            2.130737e+06             2.130737e+06   \n48114          -0.693772            2.130737e+06             2.130737e+06   \n48115          -0.693772            2.130737e+06             2.130737e+06   \n\n             time  time (inc)                     vis_name  \\\n42494     83977.0  52573485.0                    main=main   \n42495     86703.0  52583135.0                    main=main   \n42496     86572.0  52585101.0                    main=main   \n42497     85019.0  52574540.0                    main=main   \n42498     84043.0  52585113.0                    main=main   \n...           ...         ...                          ...   \n48111  12814975.0  12814975.0  TimeIncrement=MPI_Allreduce   \n48112   6570136.0   6570136.0  TimeIncrement=MPI_Allreduce   \n48113   7048731.0   7048731.0  TimeIncrement=MPI_Allreduce   \n48114   8373697.0   8373697.0  TimeIncrement=MPI_Allreduce   \n48115   9286139.0   9286139.0  TimeIncrement=MPI_Allreduce   \n\n                     vis_node_name  \n42494                    main=main  \n42495                    main=main  \n42496                    main=main  \n42497                    main=main  \n42498                    main=main  \n...                            ...  \n48111  MPI_Allreduce=MPI_Allreduce  \n48112  MPI_Allreduce=MPI_Allreduce  \n48113  MPI_Allreduce=MPI_Allreduce  \n48114  MPI_Allreduce=MPI_Allreduce  \n48115  MPI_Allreduce=MPI_Allreduce  \n\n[5622 rows x 28 columns], 'lulesh-annotation-profile-343cores':        index  Unnamed: 0                                            callees  \\\n48116  48116           0  ['lulesh.cycle', 'MPI_Reduce', 'MPI_Finalize',...   \n48117  48117           1  ['lulesh.cycle', 'MPI_Reduce', 'MPI_Finalize',...   \n48118  48118           2  ['lulesh.cycle', 'MPI_Reduce', 'MPI_Finalize',...   \n48119  48119           3  ['lulesh.cycle', 'MPI_Reduce', 'MPI_Finalize',...   \n48120  48120           4  ['lulesh.cycle', 'MPI_Reduce', 'MPI_Finalize',...   \n...      ...         ...                                                ...   \n63543  63543       15430                                                 []   \n63544  63544       15431                                                 []   \n63545  63545       15432                                                 []   \n63546  63546       15433                                                 []   \n63547  63547       15434                                                 []   \n\n                 callers  component_level                      component_path  \\\n48116                 []                2                    ('main', 'main')   \n48117                 []                2                    ('main', 'main')   \n48118                 []                2                    ('main', 'main')   \n48119                 []                2                    ('main', 'main')   \n48120                 []                2                    ('main', 'main')   \n...                  ...              ...                                 ...   \n63543  ['TimeIncrement']                2  ('MPI_Allreduce', 'MPI_Allreduce')   \n63544  ['TimeIncrement']                2  ('MPI_Allreduce', 'MPI_Allreduce')   \n63545  ['TimeIncrement']                2  ('MPI_Allreduce', 'MPI_Allreduce')   \n63546  ['TimeIncrement']                2  ('MPI_Allreduce', 'MPI_Allreduce')   \n63547  ['TimeIncrement']                2  ('MPI_Allreduce', 'MPI_Allreduce')   \n\n                                  dataset  entry_function  \\\n48116  lulesh-annotation-profile-343cores            True   \n48117  lulesh-annotation-profile-343cores            True   \n48118  lulesh-annotation-profile-343cores            True   \n48119  lulesh-annotation-profile-343cores            True   \n48120  lulesh-annotation-profile-343cores            True   \n...                                   ...             ...   \n63543  lulesh-annotation-profile-343cores            True   \n63544  lulesh-annotation-profile-343cores            True   \n63545  lulesh-annotation-profile-343cores            True   \n63546  lulesh-annotation-profile-343cores            True   \n63547  lulesh-annotation-profile-343cores            True   \n\n                                              group_path  \\\n48116                                      ['main=main']   \n48117                                      ['main=main']   \n48118                                      ['main=main']   \n48119                                      ['main=main']   \n48120                                      ['main=main']   \n...                                                  ...   \n63543  ['main=main', 'lulesh.cycle=lulesh.cycle', 'Ti...   \n63544  ['main=main', 'lulesh.cycle=lulesh.cycle', 'Ti...   \n63545  ['main=main', 'lulesh.cycle=lulesh.cycle', 'Ti...   \n63546  ['main=main', 'lulesh.cycle=lulesh.cycle', 'Ti...   \n63547  ['main=main', 'lulesh.cycle=lulesh.cycle', 'Ti...   \n\n       imbalance_perc_exclusive  ...  rank  show_node  skewness_exclusive  \\\n48116                  0.050490  ...     0       True           -0.088514   \n48117                  0.050490  ...     1       True           -0.088514   \n48118                  0.050490  ...     2       True           -0.088514   \n48119                  0.050490  ...     3       True           -0.088514   \n48120                  0.050490  ...     4       True           -0.088514   \n...                         ...  ...   ...        ...                 ...   \n63543                  0.335223  ...   338       True           -0.262914   \n63544                  0.335223  ...   339       True           -0.262914   \n63545                  0.335223  ...   340       True           -0.262914   \n63546                  0.335223  ...   341       True           -0.262914   \n63547                  0.335223  ...   342       True           -0.262914   \n\n      skewness_inclusive std_deviation_exclusive  std_deviation_inclusive  \\\n48116          -2.258885            3.024547e+03             8.648404e+02   \n48117          -2.258885            3.024547e+03             8.648404e+02   \n48118          -2.258885            3.024547e+03             8.648404e+02   \n48119          -2.258885            3.024547e+03             8.648404e+02   \n48120          -2.258885            3.024547e+03             8.648404e+02   \n...                  ...                     ...                      ...   \n63543          -0.262914            1.735713e+06             1.735713e+06   \n63544          -0.262914            1.735713e+06             1.735713e+06   \n63545          -0.262914            1.735713e+06             1.735713e+06   \n63546          -0.262914            1.735713e+06             1.735713e+06   \n63547          -0.262914            1.735713e+06             1.735713e+06   \n\n             time  time (inc)                     vis_name  \\\n48116     89820.0  53788558.0                    main=main   \n48117     91538.0  53788583.0                    main=main   \n48118     91383.0  53788578.0                    main=main   \n48119     91231.0  53788612.0                    main=main   \n48120     91287.0  53788595.0                    main=main   \n...           ...         ...                          ...   \n63543  12515516.0  12515516.0  TimeIncrement=MPI_Allreduce   \n63544  13623064.0  13623064.0  TimeIncrement=MPI_Allreduce   \n63545  13688987.0  13688987.0  TimeIncrement=MPI_Allreduce   \n63546   7921716.0   7921716.0  TimeIncrement=MPI_Allreduce   \n63547  11438513.0  11438513.0  TimeIncrement=MPI_Allreduce   \n\n                     vis_node_name  \n48116                    main=main  \n48117                    main=main  \n48118                    main=main  \n48119                    main=main  \n48120                    main=main  \n...                            ...  \n63543  MPI_Allreduce=MPI_Allreduce  \n63544  MPI_Allreduce=MPI_Allreduce  \n63545  MPI_Allreduce=MPI_Allreduce  \n63546  MPI_Allreduce=MPI_Allreduce  \n63547  MPI_Allreduce=MPI_Allreduce  \n\n[15432 rows x 28 columns], 'ensemble': Empty DataFrame\nColumns: [index, Unnamed: 0, callees, callers, component_level, component_path, dataset, entry_function, group_path, imbalance_perc_exclusive, imbalance_perc_inclusive, kurtosis_exclusive, kurtosis_inclusive, module, name, nid, node, path, rank, show_node, skewness_exclusive, skewness_inclusive, std_deviation_exclusive, std_deviation_inclusive, time, time (inc), vis_name, vis_node_name]\nIndex: []\n\n[0 rows x 28 columns]}\n"
     ]
    }
   ],
   "source": [
    "print(target_df)"
   ]
  },
  {
   "cell_type": "code",
   "execution_count": 34,
   "metadata": {},
   "outputs": [],
   "source": [
    "gradients = Gradients(target_df, binCount=10).run(columnName=\"name\", callsiteOrModule=\"MPI_Allreduce\")"
   ]
  },
  {
   "cell_type": "code",
   "execution_count": 35,
   "metadata": {},
   "outputs": [
    {
     "output_type": "stream",
     "name": "stdout",
     "text": [
      "{'Inclusive': {'bins': 10, 'dataset': {'mean': {'lulesh-annotation-profile-27cores': 8744688.666666666, 'lulesh-annotation-profile-64cores': 8372374.84375, 'lulesh-annotation-profile-8cores': 9675005.936, 'lulesh-annotation-profile-1core': 1481.0, 'lulesh-annotation-profile-216cores': 10958018.189814815, 'lulesh-annotation-profile-512cores': 10817060.00390625, 'lulesh-annotation-profile-125cores': 10132928.744, 'lulesh-annotation-profile-343cores': 11322773.618075801, 'ensemble': 0.0}, 'position': {'lulesh-annotation-profile-27cores': 7, 'lulesh-annotation-profile-64cores': 7, 'lulesh-annotation-profile-8cores': 8, 'lulesh-annotation-profile-1core': 0, 'lulesh-annotation-profile-216cores': 9, 'lulesh-annotation-profile-512cores': 9, 'lulesh-annotation-profile-125cores': 8, 'lulesh-annotation-profile-343cores': 9, 'ensemble': 0}}, 'hist': {'x': [566138.68090379, 1698416.0427113702, 2830693.4045189503, 3962970.7663265304, 5095248.128134111, 6227525.48994169, 7359802.851749271, 8492080.21355685, 9624357.575364431, 10756634.93717201], 'y': [2, 0, 0, 0, 0, 0, 0, 2, 2, 3], 'x_min': 566138.68090379, 'x_max': 10756634.93717201, 'y_min': 0.0, 'y_max': 3.0}}, 'Exclusive': {'bins': 10, 'dataset': {'mean': {'lulesh-annotation-profile-27cores': 8744688.666666666, 'lulesh-annotation-profile-64cores': 8372374.84375, 'lulesh-annotation-profile-8cores': 9675005.936, 'lulesh-annotation-profile-1core': 1481.0, 'lulesh-annotation-profile-216cores': 10958018.189814815, 'lulesh-annotation-profile-512cores': 10817060.00390625, 'lulesh-annotation-profile-125cores': 10132928.744, 'lulesh-annotation-profile-343cores': 11322773.618075801, 'ensemble': 0.0}, 'position': {'lulesh-annotation-profile-27cores': 7, 'lulesh-annotation-profile-64cores': 7, 'lulesh-annotation-profile-8cores': 8, 'lulesh-annotation-profile-1core': 0, 'lulesh-annotation-profile-216cores': 9, 'lulesh-annotation-profile-512cores': 9, 'lulesh-annotation-profile-125cores': 8, 'lulesh-annotation-profile-343cores': 9, 'ensemble': 0}}, 'hist': {'x': [566138.68090379, 1698416.0427113702, 2830693.4045189503, 3962970.7663265304, 5095248.128134111, 6227525.48994169, 7359802.851749271, 8492080.21355685, 9624357.575364431, 10756634.93717201], 'y': [2, 0, 0, 0, 0, 0, 0, 2, 2, 3], 'x_min': 566138.68090379, 'x_max': 10756634.93717201, 'y_min': 0.0, 'y_max': 3.0}}}\n"
     ]
    }
   ],
   "source": [
    "print(gradients)"
   ]
  }
 ],
 "metadata": {
  "kernelspec": {
   "name": "Python 3.7.7 64-bit ('base': conda)",
   "display_name": "Python 3.7.7 64-bit ('base': conda)",
   "metadata": {
    "interpreter": {
     "hash": "b253dd887bf04c24cf4877f3a2bccad93f03d4dea58b6160def31f27a6c7d256"
    }
   }
  },
  "language_info": {
   "codemirror_mode": {
    "name": "ipython",
    "version": 3
   },
   "file_extension": ".py",
   "mimetype": "text/x-python",
   "name": "python",
   "nbconvert_exporter": "python",
   "pygments_lexer": "ipython3",
   "version": "3.7.7-final"
  }
 },
 "nbformat": 4,
 "nbformat_minor": 4
}