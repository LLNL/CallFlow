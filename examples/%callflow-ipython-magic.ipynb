{
 "cells": [
  {
   "cell_type": "code",
   "execution_count": 1,
   "metadata": {},
   "outputs": [],
   "source": [
    "import callflow"
   ]
  },
  {
   "cell_type": "code",
   "execution_count": 2,
   "metadata": {},
   "outputs": [],
   "source": [
    "%load_ext callflow"
   ]
  },
  {
   "cell_type": "code",
   "execution_count": 3,
   "metadata": {},
   "outputs": [
    {
     "data": {
      "text/html": [
       "\n",
       "      <iframe id=\"callflow-frame-8f4a6ce9bc9c012a\" width=\"100%\" height=\"800\" frameborder=\"0\">\n",
       "      </iframe>\n",
       "      <script>\n",
       "        (function() {\n",
       "          const frame = document.getElementById(\"callflow-frame-8f4a6ce9bc9c012a\");\n",
       "          const url = new URL(\"/\", window.location);\n",
       "          const port = 1024;\n",
       "          if (port) {\n",
       "            url.port = port;\n",
       "          }\n",
       "          frame.src = url;\n",
       "        })();\n",
       "      </script>\n",
       "    "
      ],
      "text/plain": [
       "<IPython.core.display.HTML object>"
      ]
     },
     "metadata": {},
     "output_type": "display_data"
    },
    {
     "name": "stdout",
     "output_type": "stream",
     "text": [
      "Is there a matching pid? False\n",
      "Launching Server\n",
      "stdout for server is dumped in /tmp/.callflow-info/server-stdout-11xfckmr.\n",
      "stderr for server is dumped in /tmp/.callflow-info/server-stdout-11xfckmr.\n",
      "CallFlow instance info is dumped in /tmp/.callflow-info/pid-17427.info\n",
      "Launching client\n",
      "stdout for client is dumped in /tmp/.callflow-info/client-stdout-qex5crvf.\n",
      "stderr for client is dumped in /tmp/.callflow-info/client-stdout-qex5crvf.\n",
      "CallFlow instance info is dumped in /tmp/.callflow-info/pid-17427.info\n",
      "StartLaunched(info='Started')\n"
     ]
    }
   ],
   "source": [
    "%callflow --config /home/suraj/Work/llnl/CallFlow/data/lulesh-8-runs/callflow.config.json"
   ]
  },
  {
   "cell_type": "code",
   "execution_count": null,
   "metadata": {},
   "outputs": [],
   "source": []
  }
 ],
 "metadata": {
  "kernelspec": {
   "display_name": "Python 3.7.4 64-bit (conda)",
   "language": "python",
   "name": "python37464bitconda681e547a9b06483ebedfd5d049542d16"
  },
  "language_info": {
   "codemirror_mode": {
    "name": "ipython",
    "version": 3
   },
   "file_extension": ".py",
   "mimetype": "text/x-python",
   "name": "python",
   "nbconvert_exporter": "python",
   "pygments_lexer": "ipython3",
   "version": "3.7.4"
  }
 },
 "nbformat": 4,
 "nbformat_minor": 2
}
