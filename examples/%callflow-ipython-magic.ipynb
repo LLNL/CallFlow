{
 "cells": [
  {
   "cell_type": "code",
   "execution_count": 1,
   "metadata": {},
   "outputs": [],
   "source": [
    "import callflow"
   ]
  },
  {
   "cell_type": "code",
   "execution_count": 2,
   "metadata": {},
   "outputs": [],
   "source": [
    "%load_ext callflow"
   ]
  },
  {
   "cell_type": "code",
   "execution_count": 10,
   "metadata": {},
   "outputs": [
    {
     "data": {
      "text/plain": [
       "Launching CallFlow..."
      ]
     },
     "metadata": {},
     "output_type": "display_data"
    },
    {
     "name": "stdout",
     "output_type": "stream",
     "text": [
      "StartLaunched(info='Started/var/folders/rv/jkb6mxgd0mbgz87qvq9356zw0000gn/T/.callflow-stdout-tk0r4y7r')\n"
     ]
    }
   ],
   "source": [
    "%callflow --config /Users/jarus/Work/llnl/CallFlow/data/lulesh-8-runs/callflow.config.js --process"
   ]
  },
  {
   "cell_type": "code",
   "execution_count": 4,
   "metadata": {},
   "outputs": [],
   "source": [
    "import subprocess\n",
    "import tempfile\n",
    "import os"
   ]
  },
  {
   "cell_type": "code",
   "execution_count": 5,
   "metadata": {},
   "outputs": [
    {
     "name": "stdout",
     "output_type": "stream",
     "text": [
      "/Users/jarus/Work/llnl/\n"
     ]
    }
   ],
   "source": [
    "cwd = os.getcwd().split('CallFlow')[0]\n",
    "print(cwd)"
   ]
  },
  {
   "cell_type": "code",
   "execution_count": 6,
   "metadata": {},
   "outputs": [],
   "source": [
    "(stdout_fd, stdout_path) = tempfile.mkstemp(prefix=\".callflow-stdout-\")\n",
    "(stderr_fd, stderr_path) = tempfile.mkstemp(prefix=\".callflow-stderr-\")"
   ]
  },
  {
   "cell_type": "code",
   "execution_count": 7,
   "metadata": {},
   "outputs": [
    {
     "name": "stdout",
     "output_type": "stream",
     "text": [
      "/var/folders/rv/jkb6mxgd0mbgz87qvq9356zw0000gn/T/.callflow-stdout-kwa0ff2_\n",
      "/var/folders/rv/jkb6mxgd0mbgz87qvq9356zw0000gn/T/.callflow-stderr-9nhidwq0\n"
     ]
    }
   ],
   "source": [
    "print(stdout_path)\n",
    "print(stderr_path)"
   ]
  },
  {
   "cell_type": "code",
   "execution_count": 8,
   "metadata": {},
   "outputs": [],
   "source": [
    "p = subprocess.Popen(\n",
    "    [\"python3\", cwd, \"/server/main.py\", \"--config\", \"/Work/llnl/CallFlow/data/lulesh-8-runs/callflow.config.json\"],\n",
    "    stdout=stdout_fd,\n",
    "    stderr=stderr_fd,\n",
    ")"
   ]
  },
  {
   "cell_type": "code",
   "execution_count": null,
   "metadata": {},
   "outputs": [],
   "source": []
  },
  {
   "cell_type": "code",
   "execution_count": 9,
   "metadata": {},
   "outputs": [
    {
     "name": "stdout",
     "output_type": "stream",
     "text": [
      "None\n"
     ]
    }
   ],
   "source": [
    "subprocess_result = p.poll()\n",
    "print(subprocess_result)"
   ]
  },
  {
   "cell_type": "code",
   "execution_count": null,
   "metadata": {},
   "outputs": [],
   "source": []
  }
 ],
 "metadata": {
  "finalized": {
   "timestamp": 1597556178700,
   "trusted": false
  },
  "kernelspec": {
   "display_name": "Python 3.7.6 64-bit",
   "language": "python",
   "name": "python37664bit3a5637fa2c7f4443bca7a2894d18d23d"
  },
  "language_info": {
   "codemirror_mode": {
    "name": "ipython",
    "version": 3
   },
   "file_extension": ".py",
   "mimetype": "text/x-python",
   "name": "python",
   "nbconvert_exporter": "python",
   "pygments_lexer": "ipython3",
   "version": "3.7.7"
  }
 },
 "nbformat": 4,
 "nbformat_minor": 2
}
