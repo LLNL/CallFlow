{
 "cells": [
  {
   "cell_type": "code",
   "execution_count": 16,
   "metadata": {},
   "outputs": [],
   "source": [
    "import networkx as nx"
   ]
  },
  {
   "cell_type": "code",
   "execution_count": 1,
   "metadata": {},
   "outputs": [],
   "source": [
    "union_nodes= ['libmonitor.so.0.0.0=<program root>', 'osu_bcast=main', 'libmonitor.so.0.0.0=119:MPI_Finalize', 'libmpi.so.12.1.1=PMPI_Finalize', 'libpsm_infinipath.so.1.16=41:<unknown procedure> 0x188fe [libpsm_infinipath.so.1.16]', 'Unknown(NA)=<unknown file> [libpsm_infinipath.so.1.16]:0', 'libmpi.so.12.1.1=92:PMPI_Bcast', 'libmpi.so.12.1.1=98:PMPI_Barrier', 'Unknown(NA)=<unknown file> [libpsm_infinipath.so.1.16]:1802', 'libpsm_infinipath.so.1.16=247:<unknown procedure> 0x326b8 [libpsm_infinipath.so.1.16]']"
   ]
  },
  {
   "cell_type": "code",
   "execution_count": 4,
   "metadata": {},
   "outputs": [],
   "source": [
    "union_edges = [('libmonitor.so.0.0.0=<program root>', 'osu_bcast=main'), ('osu_bcast=main', 'libmonitor.so.0.0.0=119:MPI_Finalize'), ('osu_bcast=main', 'libmpi.so.12.1.1=92:PMPI_Bcast'), ('osu_bcast=main', 'libmpi.so.12.1.1=98:PMPI_Barrier'), ('libmonitor.so.0.0.0=119:MPI_Finalize', 'libmpi.so.12.1.1=PMPI_Finalize'), ('libmpi.so.12.1.1=PMPI_Finalize', 'libpsm_infinipath.so.1.16=41:<unknown procedure> 0x188fe [libpsm_infinipath.so.1.16]'), ('libpsm_infinipath.so.1.16=41:<unknown procedure> 0x188fe [libpsm_infinipath.so.1.16]', 'Unknown(NA)=<unknown file> [libpsm_infinipath.so.1.16]:0'), ('libmpi.so.12.1.1=98:PMPI_Barrier', 'Unknown(NA)=<unknown file> [libpsm_infinipath.so.1.16]:1802'), ('libmpi.so.12.1.1=98:PMPI_Barrier', 'libpsm_infinipath.so.1.16=247:<unknown procedure> 0x326b8 [libpsm_infinipath.so.1.16]'), ('libpsm_infinipath.so.1.16=247:<unknown procedure> 0x326b8 [libpsm_infinipath.so.1.16]', 'Unknown(NA)=<unknown file> [libpsm_infinipath.so.1.16]:0')]"
   ]
  },
  {
   "cell_type": "code",
   "execution_count": 10,
   "metadata": {},
   "outputs": [],
   "source": [
    "dataset_edges = [('libmonitor.so.0.0.0=<program root>', 'osu_bcast=main'), ('osu_bcast=main', 'libmonitor.so.0.0.0=119:MPI_Finalize'), ('osu_bcast=main', 'libmpi.so.12.1.1=92:PMPI_Bcast'), ('osu_bcast=main', 'libmpi.so.12.1.1=98:PMPI_Barrier'), ('libmonitor.so.0.0.0=119:MPI_Finalize', 'libmpi.so.12.1.1=PMPI_Finalize'), ('libmpi.so.12.1.1=PMPI_Finalize', 'libpsm_infinipath.so.1.16=41:<unknown procedure> 0x188fe [libpsm_infinipath.so.1.16]'), ('libpsm_infinipath.so.1.16=41:<unknown procedure> 0x188fe [libpsm_infinipath.so.1.16]', 'Unknown(NA)=<unknown file> [libpsm_infinipath.so.1.16]:0')]"
   ]
  },
  {
   "cell_type": "code",
   "execution_count": 11,
   "metadata": {},
   "outputs": [],
   "source": [
    "dataset_nodes =  ['libmonitor.so.0.0.0=<program root>', 'osu_bcast=main', 'libmonitor.so.0.0.0=119:MPI_Finalize', 'libmpi.so.12.1.1=PMPI_Finalize', 'libpsm_infinipath.so.1.16=41:<unknown procedure> 0x188fe [libpsm_infinipath.so.1.16]', 'Unknown(NA)=<unknown file> [libpsm_infinipath.so.1.16]:0', 'libmpi.so.12.1.1=92:PMPI_Bcast', 'libmpi.so.12.1.1=98:PMPI_Barrier']"
   ]
  },
  {
   "cell_type": "code",
   "execution_count": 12,
   "metadata": {},
   "outputs": [
    {
     "name": "stdout",
     "output_type": "stream",
     "text": [
      "('libmonitor.so.0.0.0=<program root>', 'osu_bcast=main')\n",
      "('osu_bcast=main', 'libmonitor.so.0.0.0=119:MPI_Finalize')\n",
      "('osu_bcast=main', 'libmpi.so.12.1.1=92:PMPI_Bcast')\n",
      "('osu_bcast=main', 'libmpi.so.12.1.1=98:PMPI_Barrier')\n",
      "('libmonitor.so.0.0.0=119:MPI_Finalize', 'libmpi.so.12.1.1=PMPI_Finalize')\n",
      "('libmpi.so.12.1.1=PMPI_Finalize', 'libpsm_infinipath.so.1.16=41:<unknown procedure> 0x188fe [libpsm_infinipath.so.1.16]')\n",
      "('libpsm_infinipath.so.1.16=41:<unknown procedure> 0x188fe [libpsm_infinipath.so.1.16]', 'Unknown(NA)=<unknown file> [libpsm_infinipath.so.1.16]:0')\n",
      "('libmpi.so.12.1.1=98:PMPI_Barrier', 'Unknown(NA)=<unknown file> [libpsm_infinipath.so.1.16]:1802')\n",
      "('libmpi.so.12.1.1=98:PMPI_Barrier', 'libpsm_infinipath.so.1.16=247:<unknown procedure> 0x326b8 [libpsm_infinipath.so.1.16]')\n",
      "('libpsm_infinipath.so.1.16=247:<unknown procedure> 0x326b8 [libpsm_infinipath.so.1.16]', 'Unknown(NA)=<unknown file> [libpsm_infinipath.so.1.16]:0')\n"
     ]
    }
   ],
   "source": [
    "for edge in union_edges:\n",
    "    print(edge)"
   ]
  },
  {
   "cell_type": "code",
   "execution_count": 13,
   "metadata": {},
   "outputs": [
    {
     "name": "stdout",
     "output_type": "stream",
     "text": [
      "('libmonitor.so.0.0.0=<program root>', 'osu_bcast=main')\n",
      "('osu_bcast=main', 'libmonitor.so.0.0.0=119:MPI_Finalize')\n",
      "('osu_bcast=main', 'libmpi.so.12.1.1=92:PMPI_Bcast')\n",
      "('osu_bcast=main', 'libmpi.so.12.1.1=98:PMPI_Barrier')\n",
      "('libmonitor.so.0.0.0=119:MPI_Finalize', 'libmpi.so.12.1.1=PMPI_Finalize')\n",
      "('libmpi.so.12.1.1=PMPI_Finalize', 'libpsm_infinipath.so.1.16=41:<unknown procedure> 0x188fe [libpsm_infinipath.so.1.16]')\n",
      "('libpsm_infinipath.so.1.16=41:<unknown procedure> 0x188fe [libpsm_infinipath.so.1.16]', 'Unknown(NA)=<unknown file> [libpsm_infinipath.so.1.16]:0')\n"
     ]
    }
   ],
   "source": [
    "for edge in dataset_edges:\n",
    "    print(edge)"
   ]
  },
  {
   "cell_type": "code",
   "execution_count": 20,
   "metadata": {},
   "outputs": [],
   "source": [
    "def create_nx_from_edges(edges):\n",
    "    g = nx.DiGraph()\n",
    "    for edge in edges:\n",
    "        g.add_edge(edge[0], edge[1])\n",
    "    return g    \n",
    "    "
   ]
  },
  {
   "cell_type": "code",
   "execution_count": 21,
   "metadata": {},
   "outputs": [],
   "source": [
    "g1 = create_nx_from_edges(union_edges)\n",
    "g2 = create_nx_from_edges(dataset_edges)"
   ]
  },
  {
   "cell_type": "code",
   "execution_count": 25,
   "metadata": {},
   "outputs": [
    {
     "name": "stdout",
     "output_type": "stream",
     "text": [
      "  (0, 1)\t1\n",
      "  (1, 2)\t1\n",
      "  (1, 3)\t1\n",
      "  (1, 4)\t1\n",
      "  (2, 5)\t1\n",
      "  (4, 8)\t1\n",
      "  (4, 9)\t1\n",
      "  (5, 6)\t1\n",
      "  (6, 7)\t1\n",
      "  (9, 7)\t1\n"
     ]
    }
   ],
   "source": [
    "print(nx.adjacency_matrix(g1))"
   ]
  },
  {
   "cell_type": "code",
   "execution_count": 26,
   "metadata": {},
   "outputs": [
    {
     "name": "stdout",
     "output_type": "stream",
     "text": [
      "  (0, 1)\t1\n",
      "  (1, 2)\t1\n",
      "  (1, 3)\t1\n",
      "  (1, 4)\t1\n",
      "  (2, 5)\t1\n",
      "  (5, 6)\t1\n",
      "  (6, 7)\t1\n"
     ]
    }
   ],
   "source": [
    "print(nx.adjacency_matrix(g2))"
   ]
  },
  {
   "cell_type": "code",
   "execution_count": 27,
   "metadata": {},
   "outputs": [],
   "source": [
    "for edge in dataset_edges:\n",
    "    if edge not in g1.edges():\n",
    "        print(edge)"
   ]
  }
 ],
 "metadata": {
  "kernelspec": {
   "display_name": "Python 3",
   "language": "python",
   "name": "python3"
  },
  "language_info": {
   "codemirror_mode": {
    "name": "ipython",
    "version": 3
   },
   "file_extension": ".py",
   "mimetype": "text/x-python",
   "name": "python",
   "nbconvert_exporter": "python",
   "pygments_lexer": "ipython3",
   "version": "3.6.8"
  }
 },
 "nbformat": 4,
 "nbformat_minor": 2
}
