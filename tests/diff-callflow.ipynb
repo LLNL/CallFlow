{
 "cells": [
  {
   "cell_type": "code",
   "execution_count": 167,
   "metadata": {
    "scrolled": false
   },
   "outputs": [],
   "source": [
    "import networkx as nx\n",
    "import pandas\n",
    "from hatchet import *\n",
    "import os\n",
    "import matplotlib.pyplot as plt\n",
    "import seaborn.apionly as sns\n",
    "import platform\n",
    "import json\n",
    "from ast import literal_eval as make_tuple\n",
    "import matplotlib.cm as cm\n",
    "import utils\n",
    "import mpld3"
   ]
  },
  {
   "cell_type": "code",
   "execution_count": 168,
   "metadata": {},
   "outputs": [],
   "source": [
    "# libraries for gromov distance computation.\n",
    "import numpy as np\n",
    "import scipy as sp\n",
    "import ot\n",
    "from sklearn.decomposition import PCA\n",
    "from sklearn import manifold"
   ]
  },
  {
   "cell_type": "code",
   "execution_count": 169,
   "metadata": {},
   "outputs": [],
   "source": [
    "#from actions.groupBy import groupBy\n",
    "from state import State\n",
    "from preprocess import PreProcess"
   ]
  },
  {
   "cell_type": "code",
   "execution_count": 170,
   "metadata": {},
   "outputs": [],
   "source": [
    "%matplotlib inline"
   ]
  },
  {
   "cell_type": "code",
   "execution_count": 171,
   "metadata": {},
   "outputs": [],
   "source": [
    "pd.options.display.max_rows = 10\n",
    "pd.options.display.float_format = '{:,.2f}'.format\n",
    "plt.rcParams['figure.figsize'] = (16, 12)"
   ]
  },
  {
   "cell_type": "markdown",
   "metadata": {},
   "source": [
    "# Change the directory name according to your system"
   ]
  },
  {
   "cell_type": "code",
   "execution_count": 172,
   "metadata": {},
   "outputs": [],
   "source": [
    "# dirname = \"/Users/jarus/ucd/Research/Visualisation/projects/CallFlow/.callflow\"\n",
    "dirname = \"/Users/padmanabanke1/CallFlow/.callflow\"\n",
    "# dirname = \"/home/vidi/Work/llnl/CallFlow/.callflow\""
   ]
  },
  {
   "cell_type": "markdown",
   "metadata": {},
   "source": [
    "## Load the datasets and create Dataframes"
   ]
  },
  {
   "cell_type": "code",
   "execution_count": 173,
   "metadata": {},
   "outputs": [],
   "source": [
    "def replace_str_with_Node(df, graph):\n",
    "        mapper = {}\n",
    "        def dfs_recurse(root):\n",
    "            for node in root.children: \n",
    "                mapper[node.callpath[-1]] = Node(node.nid, node.callpath, None)\n",
    "                dfs_recurse(node)\n",
    "        for root in graph.roots:\n",
    "            mapper[root.callpath[-1]] = Node(root.nid, root.callpath, None)\n",
    "            dfs_recurse(root)\n",
    "        df['node'] = df['node'].apply(lambda node: mapper[node] if node in mapper else '')\n",
    "        return df"
   ]
  },
  {
   "cell_type": "code",
   "execution_count": 174,
   "metadata": {},
   "outputs": [],
   "source": [
    "def read_gf(name):\n",
    "    state = State()\n",
    "    df_filepath = dirname + '/' + name +  '/filter_df.csv'\n",
    "    entire_df_filepath = dirname + '/' + name + '/entire_df.csv'\n",
    "    graph_filepath = dirname + '/' + name + '/filter_graph.json'\n",
    "    entire_graph_filepath = dirname + '/' + name + '/entire_graph.json'   \n",
    "\n",
    "    with open(graph_filepath, 'r') as graphFile:\n",
    "        data = json.load(graphFile)\n",
    "\n",
    "    state.gf = GraphFrame()\n",
    "    state.gf.from_literal(data)\n",
    "\n",
    "    with open(entire_graph_filepath, 'r') as entire_graphFile:\n",
    "        entire_data = json.load(entire_graphFile)\n",
    "            \n",
    "    state.entire_gf = GraphFrame()\n",
    "    state.entire_gf.from_literal(entire_data)\n",
    "\n",
    "    state.df = pd.read_csv(df_filepath)\n",
    "    state.entire_df = pd.read_csv(entire_df_filepath)\n",
    "\n",
    "    state.graph = state.gf.graph\n",
    "    state.entire_graph = state.entire_gf.graph\n",
    "\n",
    "#     state.map = state.node_hash_mapper()\n",
    "\n",
    "    # Print the module group by information. \n",
    "    # print(state.df.groupby(['module']).agg(['mean','count']))\n",
    "\n",
    "    # replace df['node'] from str to the Node object.\n",
    "    state.df = replace_str_with_Node(state.df, state.graph)\n",
    "    state.entire_df = replace_str_with_Node(state.entire_df, state.entire_graph)\n",
    "\n",
    "    return state"
   ]
  },
  {
   "cell_type": "code",
   "execution_count": 175,
   "metadata": {},
   "outputs": [
    {
     "name": "stdout",
     "output_type": "stream",
     "text": [
      "{'calc-pi': <state.State object at 0x11eb14350>, 'calc-pi-half': <state.State object at 0x11f0d3b10>, 'calc-pi-random-1': <state.State object at 0x11f0cd590>}\n"
     ]
    }
   ],
   "source": [
    "# datasets = [\"kripke-impi\", \"kripke-mvapich2\", \"kripke-openmpi\"]\n",
    "datasets = ['calc-pi', 'calc-pi-half','calc-pi-random-1']\n",
    "states = {}\n",
    "for idx, dataset_name in enumerate(datasets):\n",
    "    state = read_gf(dataset_name)\n",
    "    states[dataset_name] = state\n",
    "print(states)"
   ]
  },
  {
   "cell_type": "code",
   "execution_count": 176,
   "metadata": {},
   "outputs": [],
   "source": [
    "def lookup_with_name(df, name):\n",
    "    return df.loc[df['name'] == name]"
   ]
  },
  {
   "cell_type": "code",
   "execution_count": 177,
   "metadata": {},
   "outputs": [],
   "source": [
    "def add_paths(state, path_name):\n",
    "    for idx, row in state.df.iterrows():\n",
    "        if row.show_node:\n",
    "            path = row[path_name]\n",
    "            if isinstance(path, str):\n",
    "                path = make_tuple(row[path_name])\n",
    "            state.g.add_path(path)   "
   ]
  },
  {
   "cell_type": "code",
   "execution_count": 178,
   "metadata": {},
   "outputs": [],
   "source": [
    "def generic_map(df, nodes, attr):\n",
    "    ret = {}\n",
    "    for node in nodes: \n",
    "        if attr == 'time (inc)':\n",
    "            ret[node] = df[df['name'] == node][attr].mean()\n",
    "        else:\n",
    "            ret[node] = df[df['name'] == node][attr].unique().tolist()     \n",
    "    return ret"
   ]
  },
  {
   "cell_type": "code",
   "execution_count": 179,
   "metadata": {},
   "outputs": [],
   "source": [
    "def calculate_flows(state):\n",
    "    graph = state.g\n",
    "    ret = {}                                                                                                                                                                                                                                                                          \n",
    "    edges = graph.edges()                                                                                                                                                                                                                                                             \n",
    "    additional_flow = {}                                                                                                                                                                                                                                                              \n",
    "                                                                                                                                                                                                                                                                                          \n",
    "    # Calculates the costs in cycles and aggregates to one node.                                                                                                                                                                                                                      \n",
    "    for edge in edges:                                                                                                                                                                                                                                                                \n",
    "        source = edge[0]                                                                                                                                                                                                                                                              \n",
    "        target = edge[1]                                                                                                                                                                                                                                                              \n",
    "                                                                                                                                                                                                                \n",
    "    for edge in edges:                                                                                                                                                                                                                                                                \n",
    "        added_flow = 0                                                                                                                                                                                                                                                                \n",
    "        if edge[0].endswith('_'):                                                                                                                                                                                                                                                     \n",
    "            ret[edge] = additional_flow[edge[0]]                                                                                                                                                                                                                                      \n",
    "            continue                                                                                                                                                                                                                                                                  \n",
    "        elif edge[1].endswith('_'):                                                                                                                                                                                                                                                   \n",
    "            ret[edge] = additional_flow[edge[1]]                                                                                                                                                                                                                                      \n",
    "            continue                                                                                                                                                                                                                                                                  \n",
    "        source = lookup_with_name(state.df, edge[0])                                                                                                                                                                                                                         \n",
    "        target = lookup_with_name(state.df, edge[1])                                                                                                                                                                                                                         \n",
    "                                                                                                                                                                                                                                                                                          \n",
    "        source_inc = source['time (inc)'].max()                                                                                                                                                                                                                               \n",
    "        target_inc = target['time (inc)'].max()                                                                         \n",
    "                                                                                                                                                                                                                                                                                          \n",
    "        if source_inc == target_inc:                                                                                                                                                                                                                                                  \n",
    "            ret[edge] = source_inc                                                                                                                                                                                                                                                    \n",
    "        else:                                                                                                                                                                                                                                                                         \n",
    "            ret[edge] = target_inc    \n",
    "    return ret   "
   ]
  },
  {
   "cell_type": "code",
   "execution_count": 180,
   "metadata": {},
   "outputs": [],
   "source": [
    "def add_edge_attributes(state):\n",
    "    capacity_mapping = calculate_flows(state)    \n",
    "    nx.set_edge_attributes(state.g, name='weight', values=capacity_mapping)"
   ]
  },
  {
   "cell_type": "code",
   "execution_count": 181,
   "metadata": {},
   "outputs": [],
   "source": [
    "def add_node_attributes(state):\n",
    "    module_mapping = generic_map(state.df, state.g.nodes(), 'module')\n",
    "    nx.set_node_attributes(state.g, name='module', values=module_mapping)\n",
    "    \n",
    "    time_mapping = generic_map(state.df, state.g.nodes(), 'time (inc)')\n",
    "    nx.set_node_attributes(state.g, name='time (inc)', values=time_mapping)"
   ]
  },
  {
   "cell_type": "code",
   "execution_count": 182,
   "metadata": {},
   "outputs": [],
   "source": [
    "def create_nx_graph(states):\n",
    "    for idx, state_name in enumerate(states):\n",
    "        state = states[state_name]\n",
    "        state.g = nx.DiGraph()\n",
    "        root_df = lookup_with_name(state.df, state.graph.roots[0].callpath[-1])\n",
    "        state.root = root_df['name'].tolist()[0]\n",
    "        state.rootInc = root_df['time (inc)'].max()\n",
    "        add_paths(state, 'path')\n",
    "#         state.levelMap = add_levels(state)\n",
    "        add_node_attributes(state)\n",
    "        add_edge_attributes(state)  \n",
    "    return states"
   ]
  },
  {
   "cell_type": "code",
   "execution_count": 183,
   "metadata": {},
   "outputs": [
    {
     "name": "stdout",
     "output_type": "stream",
     "text": [
      "{'calc-pi': <state.State object at 0x11eb14350>, 'calc-pi-half': <state.State object at 0x11f0d3b10>, 'calc-pi-random-1': <state.State object at 0x11f0cd590>}\n"
     ]
    }
   ],
   "source": [
    "states = create_nx_graph(states)\n",
    "print(states)"
   ]
  },
  {
   "cell_type": "code",
   "execution_count": 184,
   "metadata": {},
   "outputs": [],
   "source": [
    "# dataset = 'kripke-openmpi'\n",
    "# dataset = 'kripke-impi'\n",
    "dataset = 'calc-pi'"
   ]
  },
  {
   "cell_type": "code",
   "execution_count": 185,
   "metadata": {},
   "outputs": [
    {
     "name": "stdout",
     "output_type": "stream",
     "text": [
      "['libmonitor.so.0.0.0' 'cpi' 'libmpi.so.12.0.5'\n",
      " 'libpsm_infinipath.so.1.14' 'Unknown(NA)' 'libc-2.12.so']\n",
      "['libmonitor.so.0.0.0' 'cpi' 'libmpi.so.12.0.5'\n",
      " 'libpsm_infinipath.so.1.14' 'Unknown(NA)']\n",
      "Module: libmonitor.so.0.0.0\n",
      "               name   time (inc)  time\n",
      "0    <program root>   999,238.00  0.00\n",
      "1    <program root>   999,390.00  0.00\n",
      "2    <program root> 1,000,306.00  0.00\n",
      "3    <program root>   999,308.00  0.00\n",
      "8       27:MPI_Init         0.00  0.00\n",
      "..              ...          ...   ...\n",
      "47   pthread_create         0.00  0.00\n",
      "52  62:MPI_Finalize   999,238.00  0.00\n",
      "53  62:MPI_Finalize   999,390.00  0.00\n",
      "54  62:MPI_Finalize 1,000,306.00  0.00\n",
      "55  62:MPI_Finalize   999,308.00  0.00\n",
      "\n",
      "[16 rows x 3 columns]\n",
      "Module: cpi\n",
      "   name   time (inc)  time\n",
      "4  main   999,238.00  0.00\n",
      "5  main   999,390.00  0.00\n",
      "6  main 1,000,306.00  0.00\n",
      "7  main   999,308.00  0.00\n",
      "Module: libmpi.so.12.0.5\n",
      "                      name   time (inc)  time\n",
      "12               PMPI_Init         0.00  0.00\n",
      "13               PMPI_Init         0.00  0.00\n",
      "14               PMPI_Init         0.00  0.00\n",
      "15               PMPI_Init         0.00  0.00\n",
      "16    198:MPIR_Init_thread         0.00  0.00\n",
      "..                     ...          ...   ...\n",
      "67  162:MPIDI_CH3_Finalize   999,308.00  0.00\n",
      "68      230:psm_dofinalize   999,238.00  0.00\n",
      "69      230:psm_dofinalize   999,390.00  0.00\n",
      "70      230:psm_dofinalize 1,000,306.00  0.00\n",
      "71      230:psm_dofinalize   999,308.00  0.00\n",
      "\n",
      "[36 rows x 3 columns]\n",
      "Module: libpsm_infinipath.so.1.14\n",
      "                        name  time (inc)  time\n",
      "32   348:<unknown procedure>        0.00  0.00\n",
      "33   348:<unknown procedure>        0.00  0.00\n",
      "34   348:<unknown procedure>        0.00  0.00\n",
      "35   348:<unknown procedure>        0.00  0.00\n",
      "36       <unknown procedure>        0.00  0.00\n",
      "..                       ...         ...   ...\n",
      "107      <unknown procedure>   35,974.00  0.00\n",
      "112      <unknown procedure>  197,718.00  0.00\n",
      "113      <unknown procedure>  244,939.00  0.00\n",
      "114      <unknown procedure>  221,846.00  0.00\n",
      "115      <unknown procedure>  173,876.00  0.00\n",
      "\n",
      "[44 rows x 3 columns]\n",
      "Module: Unknown(NA)\n",
      "                 name  time (inc)       time\n",
      "48   <unknown file>:0        0.00       0.00\n",
      "49   <unknown file>:0        0.00       0.00\n",
      "50   <unknown file>:0        0.00       0.00\n",
      "51   <unknown file>:0        0.00       0.00\n",
      "88   <unknown file>:0  298,806.00 298,806.00\n",
      "..                ...         ...        ...\n",
      "131        interp.c:0        0.00       0.00\n",
      "132        interp.c:0   59,960.00  59,960.00\n",
      "133        interp.c:0   35,980.00  35,980.00\n",
      "134        interp.c:0   59,961.00  59,961.00\n",
      "135        interp.c:0   23,976.00  23,976.00\n",
      "\n",
      "[32 rows x 3 columns]\n",
      "Module: libc-2.12.so\n",
      "                 name  time (inc)  time\n",
      "124  __GI_sched_yield   17,989.00  0.00\n",
      "125  __GI_sched_yield   17,991.00  0.00\n",
      "126  __GI_sched_yield        0.00  0.00\n",
      "127  __GI_sched_yield        0.00  0.00\n"
     ]
    }
   ],
   "source": [
    "modules = states[dataset].entire_df['module'].unique()\n",
    "print(modules)\n",
    "df_modules = states[dataset].df['module'].unique()\n",
    "print(df_modules)\n",
    "for module in modules:\n",
    "    print('Module:', module)\n",
    "    print(states[dataset].entire_df.loc[states[dataset].entire_df['module'] == module][['name','time (inc)', 'time']])"
   ]
  },
  {
   "cell_type": "code",
   "execution_count": 186,
   "metadata": {},
   "outputs": [],
   "source": [
    "new_df = states[dataset].entire_df[states[dataset].entire_df['time (inc)'] > 0]\n",
    "# states['kripke-impi'].entire_df['time (inc)'].hist(bins=5)\n",
    "sorted_time_inc_df = new_df.groupby(['name']).max().sort_values('time (inc)')"
   ]
  },
  {
   "cell_type": "code",
   "execution_count": 187,
   "metadata": {},
   "outputs": [
    {
     "name": "stdout",
     "output_type": "stream",
     "text": [
      "(11, 21)\n",
      "['Unknown(NA)' 'libmpi.so.12.0.5' 'libpsm_infinipath.so.1.14'\n",
      " 'libmonitor.so.0.0.0' 'cpi']\n"
     ]
    }
   ],
   "source": [
    "filtered_df = sorted_time_inc_df.loc[sorted_time_inc_df['time (inc)'] > 0.0001*194595257]\n",
    "print(filtered_df.shape)\n",
    "print(filtered_df['module'].unique())"
   ]
  },
  {
   "cell_type": "code",
   "execution_count": 188,
   "metadata": {},
   "outputs": [
    {
     "name": "stdout",
     "output_type": "stream",
     "text": [
      "name  162:MPIDI_CH3_Finalize  230:psm_dofinalize  294:MPID_Finalize  \\\n",
      "time                    0.00                0.00               0.00   \n",
      "\n",
      "name  36:<unknown procedure>  62:MPI_Finalize  <program root>  \\\n",
      "time                    0.00             0.00            0.00   \n",
      "\n",
      "name  <unknown file>:0  <unknown procedure>  PMPI_Finalize  __GI_sched_yield  \\\n",
      "time        189,119.25                 0.00           0.00              0.00   \n",
      "\n",
      "name  interp.c:0  main  \n",
      "time   35,976.17  0.00  \n"
     ]
    }
   ],
   "source": [
    "a = new_df.pivot_table(columns='name', values='time')\n",
    "print(a)"
   ]
  },
  {
   "cell_type": "code",
   "execution_count": 189,
   "metadata": {},
   "outputs": [],
   "source": [
    "def find_same_values(df1, df2):\n",
    "    # Write a function that returns modules which actually dont spend time. \n",
    "    return []"
   ]
  },
  {
   "cell_type": "code",
   "execution_count": 190,
   "metadata": {},
   "outputs": [],
   "source": [
    "def drop(df, values):\n",
    "    for value in values:\n",
    "        df = df[df.name != value]\n",
    "    return df"
   ]
  },
  {
   "cell_type": "markdown",
   "metadata": {},
   "source": [
    "# Bland altman plot."
   ]
  },
  {
   "cell_type": "code",
   "execution_count": 191,
   "metadata": {},
   "outputs": [
    {
     "name": "stdout",
     "output_type": "stream",
     "text": [
      "162:MPIDI_CH3_Finalize 0.0\n",
      "230:psm_dofinalize 0.0\n",
      "294:MPID_Finalize 0.0\n",
      "36:<unknown procedure> 0.0\n",
      "62:MPI_Finalize 0.0\n",
      "<program root> 0.0\n",
      "<unknown file>:0 143646.91666666666\n",
      "<unknown procedure> 0.0\n",
      "PMPI_Finalize 0.0\n",
      "main 0.0\n",
      "162:MPIDI_CH3_Finalize 0.0\n",
      "230:psm_dofinalize 0.0\n",
      "294:MPID_Finalize 0.0\n",
      "36:<unknown procedure> 0.0\n",
      "62:MPI_Finalize 0.0\n",
      "<program root> 0.0\n",
      "<unknown file>:0 72071.875\n",
      "<unknown procedure> 0.0\n",
      "PMPI_Finalize 0.0\n",
      "main 0.0\n"
     ]
    }
   ],
   "source": [
    "group_df = states[datasets[1]].df.groupby(['name'])\n",
    "for idx, g in group_df:\n",
    "    print(idx, g['time'].mean())\n",
    "    \n",
    "group_df = states[datasets[2]].df.groupby(['name'])\n",
    "for idx, g in group_df:\n",
    "    print(idx, g['time'].mean())"
   ]
  },
  {
   "cell_type": "code",
   "execution_count": 192,
   "metadata": {},
   "outputs": [
    {
     "name": "stdout",
     "output_type": "stream",
     "text": [
      "                        Unnamed: 0  rank  time (inc)       time   nid  rank.1  \\\n",
      "name                                                                            \n",
      "162:MPIDI_CH3_Finalize       21.50  1.50  499,780.25       0.00 33.00    1.50   \n",
      "230:psm_dofinalize           25.50  1.50  499,780.25       0.00 35.00    1.50   \n",
      "294:MPID_Finalize            17.50  1.50  499,780.25       0.00 31.00    1.50   \n",
      "36:<unknown procedure>       29.50  1.50  499,780.25       0.00 37.00    1.50   \n",
      "62:MPI_Finalize               9.50  1.50  499,780.25       0.00 27.00    1.50   \n",
      "<program root>                1.50  1.50  499,780.25       0.00  2.00    1.50   \n",
      "<unknown file>:0             50.83  1.50  143,646.92 143,646.92 48.67    1.50   \n",
      "<unknown procedure>          41.50  1.50  394,289.00       0.00 44.25    1.50   \n",
      "PMPI_Finalize                13.50  1.50  499,780.25       0.00 29.00    1.50   \n",
      "main                          5.50  1.50  499,780.25       0.00  4.00    1.50   \n",
      "\n",
      "                         line  n_index  mod_index  show_node  max_incTime  \\\n",
      "name                                                                        \n",
      "162:MPIDI_CH3_Finalize 230.00    16.00       3.00       True 1,000,306.00   \n",
      "230:psm_dofinalize      36.00    17.00       3.00       True 1,000,306.00   \n",
      "294:MPID_Finalize      162.00    15.00       3.00       True 1,000,306.00   \n",
      "36:<unknown procedure>   0.00    18.00       2.00       True 1,000,306.00   \n",
      "62:MPI_Finalize          0.00    13.00       0.00       True 1,000,306.00   \n",
      "<program root>           0.00     0.00       0.00       True 1,000,306.00   \n",
      "<unknown file>:0         0.00    25.00      -1.00       True   313,484.00   \n",
      "<unknown procedure>      0.00    22.00       2.00       True   640,854.00   \n",
      "PMPI_Finalize          294.00    14.00       3.00       True 1,000,306.00   \n",
      "main                    19.00     1.00       4.00       True 1,000,306.00   \n",
      "\n",
      "                        avg_incTime  imbalance_perc  \n",
      "name                                                 \n",
      "162:MPIDI_CH3_Finalize   999,560.50            0.00  \n",
      "230:psm_dofinalize       999,560.50            0.00  \n",
      "294:MPID_Finalize        999,560.50            0.00  \n",
      "36:<unknown procedure>   999,560.50            0.00  \n",
      "62:MPI_Finalize          999,560.50            0.00  \n",
      "<program root>           999,560.50            0.00  \n",
      "<unknown file>:0         287,293.83            0.09  \n",
      "<unknown procedure>      628,507.06            0.05  \n",
      "PMPI_Finalize            999,560.50            0.00  \n",
      "main                     999,560.50            0.00  \n"
     ]
    }
   ],
   "source": [
    "group_df = states[datasets[1]].df.groupby(['name']).mean()\n",
    "print(group_df)"
   ]
  },
  {
   "cell_type": "code",
   "execution_count": 275,
   "metadata": {},
   "outputs": [],
   "source": [
    "def checkequivalence(gdf1, gdf2, col, catcol):\n",
    "    functions_in_gdf1 = []\n",
    "    functions_in_gdf2 = []\n",
    "    for name, group in gdf1:\n",
    "        functions_in_gdf1.append(name)\n",
    "        \n",
    "    for name, group in gdf2:\n",
    "        functions_in_gdf2.append(name)\n",
    "        \n",
    "    functions = set(functions_in_gdf1) | set(functions_in_gdf2)\n",
    "        \n",
    "    data1 = {}\n",
    "    data2 = {}\n",
    "    for idx, func in enumerate(list(functions)):\n",
    "        # Check if it exists in both. \n",
    "        if func in functions_in_gdf1 and func in functions_in_gdf2:\n",
    "            data1[func] = gdf1.get_group(func)[col].mean()\n",
    "            data2[func] = gdf2.get_group(func)[col].mean()\n",
    "        # not present in 1st df, and present in 2nd df\n",
    "        elif func not in functions_in_gdf1 and func in functions_in_gdf2:\n",
    "            data1[func] = None\n",
    "            data2[func] = gdf2.get_group(func)[col].mean()\n",
    "        # present in 1st df and not in 2nd df\n",
    "        elif func in functions_in_gdf1 and func not in functions_in_gdf2:\n",
    "            data1[func] = gdf1.get_group(func)[col].mean()\n",
    "            data2[func] = None\n",
    "            \n",
    "    data_df1 = pd.DataFrame.from_dict(list(data1.items()))\n",
    "    data_df1.reset_index()\n",
    "    data_df1.columns = ['name', col]\n",
    "    data_df2 = pd.DataFrame.from_dict(list(data2.items()))\n",
    "    data_df2.reset_index()\n",
    "    data_df2.columns = ['name', col]\n",
    "    \n",
    "    return [data_df1, data_df2]"
   ]
  },
  {
   "cell_type": "code",
   "execution_count": 276,
   "metadata": {},
   "outputs": [],
   "source": [
    "class NumpyEncoder(json.JSONEncoder):\n",
    "    def default(self, obj):\n",
    "        import numpy as np\n",
    "        if isinstance(obj, np.ndarray):\n",
    "            return obj.tolist()\n",
    "        return json.JSONEncoder.default(self, obj)\n",
    "from mpld3 import _display\n",
    "_display.NumpyEncoder = NumpyEncoder"
   ]
  },
  {
   "cell_type": "code",
   "execution_count": 281,
   "metadata": {},
   "outputs": [],
   "source": [
    "def bland_altman_plot(df1, df2, col, catcol, *args, **kwargs):\n",
    "    gdf1 = df1.groupby(['name'])\n",
    "    gdf2 = df2.groupby(['name'])\n",
    "    temp = checkequivalence(gdf1, gdf2, col, catcol)\n",
    "\n",
    "    data1 = np.asarray(temp[0][col])\n",
    "    data2 = np.asarray(temp[1][col])\n",
    "    labels = np.asarray(temp[0]['name'])\n",
    "    mean      = np.mean([data1, data2], axis=0)\n",
    "    diff      = data1 - data2                   # Difference between data1 and data2\n",
    "    md        = np.mean(diff)                   # Mean of the difference\n",
    "    sd        = np.std(diff, axis=0)            # Standard deviation of the difference\n",
    "#     print(gdf2[catcol])\n",
    "#     categories = np.concatenate(np.unique((gdf1[catcol].tolist()), np.unique(gdf2[catcol].tolist())), axis=1)\n",
    "    \n",
    "#     categories = np.unique(gdf1[catcol].tolist())\n",
    "#     colors = cm.rainbow(np.linspace(0, 1, len(categories)))\n",
    "#     colordict = dict(zip(categories, colors))\n",
    "\n",
    "    fig, ax = plt.subplots()\n",
    "    \n",
    "#     gdf1[\"Color\"] = gdf1[catcol].apply(lambda x: colordict[x])\n",
    "#     plt.scatter(mean, diff, c=gdf1.Color, *args, **kwargs)\n",
    "    scatter = plt.scatter(mean, diff)\n",
    "    plt.axhline(md,           color='gray', linestyle='--')\n",
    "    plt.axhline(md + 1.96*sd, color='gray', linestyle='--')\n",
    "    plt.axhline(md - 1.96*sd, color='gray', linestyle='--')\n",
    "    \n",
    "    ax.grid(color='#aaaaaa', linestyle='solid')\n",
    "    ax.set_title(\"Bland-altman plot\", size=20)\n",
    "        \n",
    "    tooltip = mpld3.plugins.PointLabelTooltip(scatter, labels=labels)\n",
    "    mpld3.plugins.connect(fig, tooltip)\n",
    "\n",
    "    mpld3.show()"
   ]
  },
  {
   "cell_type": "code",
   "execution_count": 282,
   "metadata": {},
   "outputs": [
    {
     "name": "stdout",
     "output_type": "stream",
     "text": [
      "\n",
      "Note: if you're in the IPython notebook, mpld3.show() is not the best command\n",
      "      to use. Consider using mpld3.display(), or mpld3.enable_notebook().\n",
      "      See more information at http://mpld3.github.io/quickstart.html .\n",
      "\n",
      "You must interrupt the kernel to end this command\n",
      "\n",
      "Serving to http://127.0.0.1:8889/    [Ctrl-C to exit]\n"
     ]
    },
    {
     "name": "stderr",
     "output_type": "stream",
     "text": [
      "/Users/padmanabanke1/tmp/homebrew/lib/python3.7/site-packages/mpld3/mplexporter/exporter.py:84: UserWarning: Blended transforms not yet supported. Zoom behavior may not work as expected.\n",
      "  warnings.warn(\"Blended transforms not yet supported. \"\n",
      "127.0.0.1 - - [14/Aug/2019 17:46:57] \"GET / HTTP/1.1\" 200 -\n",
      "127.0.0.1 - - [14/Aug/2019 17:46:57] \"GET /d3.js HTTP/1.1\" 200 -\n",
      "127.0.0.1 - - [14/Aug/2019 17:46:57] \"GET /mpld3.js HTTP/1.1\" 200 -\n"
     ]
    },
    {
     "name": "stdout",
     "output_type": "stream",
     "text": [
      "\n",
      "stopping Server...\n"
     ]
    },
    {
     "data": {
      "image/png": "[encoded data removed]",
      "text/plain": [
       "<Figure size 1152x864 with 1 Axes>"
      ]
     },
     "metadata": {
      "needs_background": "light"
     },
     "output_type": "display_data"
    }
   ],
   "source": [
    "bland_altman_plot(states[datasets[0]].df, states[datasets[1]].df, 'time (inc)', 'module')"
   ]
  },
  {
   "cell_type": "markdown",
   "metadata": {},
   "source": [
    "## Verify topology\n"
   ]
  },
  {
   "cell_type": "code",
   "execution_count": 222,
   "metadata": {},
   "outputs": [],
   "source": [
    "def source_target_to_adj_matrix(arr):\n",
    "    key_map = {}\n",
    "    x_arr = []\n",
    "    for idx, elem in enumerate(arr):\n",
    "        if elem['source'] not in x_arr and elem['source'] not in key_map:\n",
    "            key_map[elem['source']] = len(x_arr)\n",
    "            x_arr.append(elem['source'])\n",
    "        if elem['target'] not in x_arr and elem['target'] not in key_map:\n",
    "            key_map[elem['target']] = len(x_arr)\n",
    "            x_arr.append(elem['target'])\n",
    "            \n",
    "    x, y = len(list(set(x_arr))), len(list(set(x_arr)))\n",
    "    adj_matrix = np.zeros(shape=(x, y))\n",
    "    \n",
    "    for idx, elem in enumerate(arr):\n",
    "        if(elem['source'] != -1):\n",
    "            source_elem_pos = key_map[elem['source']]\n",
    "        if(elem['target'] != -1):\n",
    "            target_elem_pos = key_map[elem['target']]\n",
    "        adj_matrix[source_elem_pos][target_elem_pos] = elem['weight']\n",
    "    return adj_matrix, key_map"
   ]
  },
  {
   "cell_type": "code",
   "execution_count": 223,
   "metadata": {},
   "outputs": [],
   "source": [
    "def module_topology(state, module):\n",
    "    g = state.g\n",
    "    df = state.df\n",
    "    topology = nx.Graph()\n",
    "    nodes = df.loc[df['module'] == module]['name'].unique().tolist()\n",
    "    source_target_data = []\n",
    "    entry_node = nodes[0]\n",
    "    for idx, node in enumerate(nodes):\n",
    "        hierarchy_pd = pd.DataFrame(columns=['source', 'target', 'weight', 'level', 'type'])\n",
    "        print(g)\n",
    "        neighbors = sorted(g[node].items(), key=lambda edge: edge[1]['weight'])\n",
    "        print(neighbors)\n",
    "        for idx, n in enumerate(neighbors):\n",
    "            source_node = node\n",
    "            target_node = n[0]\n",
    "            weight = n[1]['weight']\n",
    "            level = idx\n",
    "            curr_module = state.df[state.df['name'] == n[0]]['module'].unique()[0]\n",
    "            #print(n[0], curr_module)\n",
    "            if(curr_module != module):\n",
    "                type_node = 'exit'\n",
    "                level = -1\n",
    "                #print('{0} is an exit node'.format(n[0]))\n",
    "            else:\n",
    "                type_node = 'normal'\n",
    "            source_target_data.append({\n",
    "                    \"source\": source_node,\n",
    "                    \"target\": target_node,\n",
    "                    \"weight\": weight,\n",
    "                    \"level\": level,\n",
    "                    \"type\": type_node\n",
    "            })\n",
    "    topology_adj_matrix, topology_key_map = source_target_to_adj_matrix(source_target_data)\n",
    "    #hierarchy_adj_matrix[1][1] = 0.0\n",
    "    #print(nx.find_cycle(state.hg, orientation=\"original\"))\n",
    "    #print(nx.is_tree(state.hg))\n",
    "    topology_df = nx.from_numpy_matrix(topology_adj_matrix)\n",
    "    \n",
    "    return topology_df, topology_key_map"
   ]
  },
  {
   "cell_type": "code",
   "execution_count": 224,
   "metadata": {},
   "outputs": [],
   "source": [
    "def draw_hierarchy(state):\n",
    "    pos = hierarchy_pos(state.hierarchy, 1)\n",
    "    nx.draw(state.bfs_tree, pos=pos, with_labels=True)\n",
    "    plt.show()\n",
    "    return source_target_data"
   ]
  },
  {
   "cell_type": "code",
   "execution_count": 225,
   "metadata": {},
   "outputs": [
    {
     "ename": "AttributeError",
     "evalue": "'str' object has no attribute 'g'",
     "output_type": "error",
     "traceback": [
      "\u001b[0;31m---------------------------------------------------------------------------\u001b[0m",
      "\u001b[0;31mAttributeError\u001b[0m                            Traceback (most recent call last)",
      "\u001b[0;32m<ipython-input-225-b6d8686fde4f>\u001b[0m in \u001b[0;36m<module>\u001b[0;34m\u001b[0m\n\u001b[1;32m      9\u001b[0m             \u001b[0mprint\u001b[0m\u001b[0;34m(\u001b[0m\u001b[0mkey\u001b[0m\u001b[0;34m,\u001b[0m \u001b[0mkeymap\u001b[0m\u001b[0;34m[\u001b[0m\u001b[0mkey\u001b[0m\u001b[0;34m]\u001b[0m\u001b[0;34m,\u001b[0m \u001b[0mstate\u001b[0m\u001b[0;34m.\u001b[0m\u001b[0mdf\u001b[0m\u001b[0;34m[\u001b[0m\u001b[0mstate\u001b[0m\u001b[0;34m.\u001b[0m\u001b[0mdf\u001b[0m\u001b[0;34m[\u001b[0m\u001b[0;34m'name'\u001b[0m\u001b[0;34m]\u001b[0m \u001b[0;34m==\u001b[0m \u001b[0mkey\u001b[0m\u001b[0;34m]\u001b[0m\u001b[0;34m[\u001b[0m\u001b[0;34m'module'\u001b[0m\u001b[0;34m]\u001b[0m\u001b[0;34m.\u001b[0m\u001b[0mtolist\u001b[0m\u001b[0;34m(\u001b[0m\u001b[0;34m)\u001b[0m\u001b[0;34m[\u001b[0m\u001b[0;36m0\u001b[0m\u001b[0;34m]\u001b[0m\u001b[0;34m)\u001b[0m\u001b[0;34m\u001b[0m\u001b[0;34m\u001b[0m\u001b[0m\n\u001b[1;32m     10\u001b[0m \u001b[0;34m\u001b[0m\u001b[0m\n\u001b[0;32m---> 11\u001b[0;31m \u001b[0mverify_topology\u001b[0m\u001b[0;34m(\u001b[0m\u001b[0mstates\u001b[0m\u001b[0;34m)\u001b[0m\u001b[0;34m\u001b[0m\u001b[0;34m\u001b[0m\u001b[0m\n\u001b[0m",
      "\u001b[0;32m<ipython-input-225-b6d8686fde4f>\u001b[0m in \u001b[0;36mverify_topology\u001b[0;34m(states)\u001b[0m\n\u001b[1;32m      3\u001b[0m     \u001b[0mmodule\u001b[0m \u001b[0;34m=\u001b[0m \u001b[0;34m'Unkno'\u001b[0m\u001b[0;34m\u001b[0m\u001b[0;34m\u001b[0m\u001b[0m\n\u001b[1;32m      4\u001b[0m     \u001b[0;32mfor\u001b[0m \u001b[0midx\u001b[0m\u001b[0;34m,\u001b[0m \u001b[0mstate\u001b[0m \u001b[0;32min\u001b[0m \u001b[0menumerate\u001b[0m\u001b[0;34m(\u001b[0m\u001b[0mstates\u001b[0m\u001b[0;34m)\u001b[0m\u001b[0;34m:\u001b[0m\u001b[0;34m\u001b[0m\u001b[0;34m\u001b[0m\u001b[0m\n\u001b[0;32m----> 5\u001b[0;31m         \u001b[0mstate\u001b[0m\u001b[0;34m.\u001b[0m\u001b[0mhierarchy\u001b[0m\u001b[0;34m,\u001b[0m \u001b[0mkeymap\u001b[0m \u001b[0;34m=\u001b[0m \u001b[0mmodule_topology\u001b[0m\u001b[0;34m(\u001b[0m\u001b[0mstate\u001b[0m\u001b[0;34m,\u001b[0m \u001b[0mmodule\u001b[0m\u001b[0;34m)\u001b[0m\u001b[0;34m\u001b[0m\u001b[0;34m\u001b[0m\u001b[0m\n\u001b[0m\u001b[1;32m      6\u001b[0m         \u001b[0mprint\u001b[0m\u001b[0;34m(\u001b[0m\u001b[0mstate\u001b[0m\u001b[0;34m.\u001b[0m\u001b[0mhierarchy\u001b[0m\u001b[0;34m.\u001b[0m\u001b[0mnodes\u001b[0m\u001b[0;34m(\u001b[0m\u001b[0;34m)\u001b[0m\u001b[0;34m)\u001b[0m\u001b[0;34m\u001b[0m\u001b[0;34m\u001b[0m\u001b[0m\n\u001b[1;32m      7\u001b[0m         \u001b[0mprint\u001b[0m\u001b[0;34m(\u001b[0m\u001b[0mstate\u001b[0m\u001b[0;34m.\u001b[0m\u001b[0mhierarchy\u001b[0m\u001b[0;34m.\u001b[0m\u001b[0medges\u001b[0m\u001b[0;34m(\u001b[0m\u001b[0;34m)\u001b[0m\u001b[0;34m)\u001b[0m\u001b[0;34m\u001b[0m\u001b[0;34m\u001b[0m\u001b[0m\n",
      "\u001b[0;32m<ipython-input-223-bdc7772f424b>\u001b[0m in \u001b[0;36mmodule_topology\u001b[0;34m(state, module)\u001b[0m\n\u001b[1;32m      1\u001b[0m \u001b[0;32mdef\u001b[0m \u001b[0mmodule_topology\u001b[0m\u001b[0;34m(\u001b[0m\u001b[0mstate\u001b[0m\u001b[0;34m,\u001b[0m \u001b[0mmodule\u001b[0m\u001b[0;34m)\u001b[0m\u001b[0;34m:\u001b[0m\u001b[0;34m\u001b[0m\u001b[0;34m\u001b[0m\u001b[0m\n\u001b[0;32m----> 2\u001b[0;31m     \u001b[0mg\u001b[0m \u001b[0;34m=\u001b[0m \u001b[0mstate\u001b[0m\u001b[0;34m.\u001b[0m\u001b[0mg\u001b[0m\u001b[0;34m\u001b[0m\u001b[0;34m\u001b[0m\u001b[0m\n\u001b[0m\u001b[1;32m      3\u001b[0m     \u001b[0mdf\u001b[0m \u001b[0;34m=\u001b[0m \u001b[0mstate\u001b[0m\u001b[0;34m.\u001b[0m\u001b[0mdf\u001b[0m\u001b[0;34m\u001b[0m\u001b[0;34m\u001b[0m\u001b[0m\n\u001b[1;32m      4\u001b[0m     \u001b[0mtopology\u001b[0m \u001b[0;34m=\u001b[0m \u001b[0mnx\u001b[0m\u001b[0;34m.\u001b[0m\u001b[0mGraph\u001b[0m\u001b[0;34m(\u001b[0m\u001b[0;34m)\u001b[0m\u001b[0;34m\u001b[0m\u001b[0;34m\u001b[0m\u001b[0m\n\u001b[1;32m      5\u001b[0m     \u001b[0mnodes\u001b[0m \u001b[0;34m=\u001b[0m \u001b[0mdf\u001b[0m\u001b[0;34m.\u001b[0m\u001b[0mloc\u001b[0m\u001b[0;34m[\u001b[0m\u001b[0mdf\u001b[0m\u001b[0;34m[\u001b[0m\u001b[0;34m'module'\u001b[0m\u001b[0;34m]\u001b[0m \u001b[0;34m==\u001b[0m \u001b[0mmodule\u001b[0m\u001b[0;34m]\u001b[0m\u001b[0;34m[\u001b[0m\u001b[0;34m'name'\u001b[0m\u001b[0;34m]\u001b[0m\u001b[0;34m.\u001b[0m\u001b[0munique\u001b[0m\u001b[0;34m(\u001b[0m\u001b[0;34m)\u001b[0m\u001b[0;34m.\u001b[0m\u001b[0mtolist\u001b[0m\u001b[0;34m(\u001b[0m\u001b[0;34m)\u001b[0m\u001b[0;34m\u001b[0m\u001b[0;34m\u001b[0m\u001b[0m\n",
      "\u001b[0;31mAttributeError\u001b[0m: 'str' object has no attribute 'g'"
     ]
    }
   ],
   "source": [
    "def verify_topology(states):\n",
    "#     module = 'libmonitor.so.0.0.0'\n",
    "    module = 'Unkno'\n",
    "    for idx, state in enumerate(states):\n",
    "        state.hierarchy, keymap = module_topology(state, module)\n",
    "        print(state.hierarchy.nodes())\n",
    "        print(state.hierarchy.edges())\n",
    "        for idx, key in enumerate(keymap):\n",
    "            print(key, keymap[key], state.df[state.df['name'] == key]['module'].tolist()[0])\n",
    "\n",
    "verify_topology(states)"
   ]
  },
  {
   "cell_type": "code",
   "execution_count": 226,
   "metadata": {},
   "outputs": [
    {
     "ename": "KeyError",
     "evalue": "0",
     "output_type": "error",
     "traceback": [
      "\u001b[0;31m---------------------------------------------------------------------------\u001b[0m",
      "\u001b[0;31mKeyError\u001b[0m                                  Traceback (most recent call last)",
      "\u001b[0;32m<ipython-input-226-49ec03bf39aa>\u001b[0m in \u001b[0;36m<module>\u001b[0;34m\u001b[0m\n\u001b[0;32m----> 1\u001b[0;31m \u001b[0mprint\u001b[0m\u001b[0;34m(\u001b[0m\u001b[0mstates\u001b[0m\u001b[0;34m[\u001b[0m\u001b[0;36m0\u001b[0m\u001b[0;34m]\u001b[0m\u001b[0;34m.\u001b[0m\u001b[0mentire_df\u001b[0m\u001b[0;34m[\u001b[0m\u001b[0;34m'module'\u001b[0m\u001b[0;34m]\u001b[0m\u001b[0;34m.\u001b[0m\u001b[0munique\u001b[0m\u001b[0;34m(\u001b[0m\u001b[0;34m)\u001b[0m\u001b[0;34m)\u001b[0m\u001b[0;34m\u001b[0m\u001b[0;34m\u001b[0m\u001b[0m\n\u001b[0m",
      "\u001b[0;31mKeyError\u001b[0m: 0"
     ]
    }
   ],
   "source": [
    "print(states[0].entire_df['module'].unique())"
   ]
  },
  {
   "cell_type": "markdown",
   "metadata": {},
   "source": [
    "## Flow Matrix computation"
   ]
  },
  {
   "cell_type": "code",
   "execution_count": 243,
   "metadata": {},
   "outputs": [],
   "source": [
    "def create_flow_matrix(state, module):\n",
    "    g = state.g\n",
    "    all_nodes = g.nodes(data=True)\n",
    "    nodes = [x for x,y in g.nodes(data=True) if y['module'] == [module]]\n",
    "    # nodesInModule = filter(lambda (n, d): d['module'] == start_node, g.nodes(data=True))\n",
    "    state.nodeKey = {}\n",
    "    for idx, node in enumerate(all_nodes):\n",
    "        state.nodeKey[node[0]] = idx\n",
    "    \n",
    "    flow_matrix = np.zeros(shape=(len(all_nodes),len(all_nodes)))\n",
    "    flow_matrix.astype(float)\n",
    "    root_inc = g.node[nodes[0]]['time (inc)']\n",
    "    \n",
    "    for idx, node in enumerate(nodes):\n",
    "        neighbors = sorted(g[node].items(), key=lambda edge: edge[1]['weight'])\n",
    "        for idx, n in enumerate(neighbors):\n",
    "            sourceKey = int(state.nodeKey[node])\n",
    "#            print(state.df[state.df['node' == n[0]]])\n",
    "            targetKey = int(state.nodeKey[n[0]])\n",
    "            weight = n[1]['weight']\n",
    "            flow_matrix[sourceKey][targetKey] = n[1]['weight']/(1.0*root_inc)\n",
    "    return flow_matrix"
   ]
  },
  {
   "cell_type": "code",
   "execution_count": 254,
   "metadata": {},
   "outputs": [
    {
     "name": "stdout",
     "output_type": "stream",
     "text": [
      "['libmonitor.so.0.0.0' 'cpi' 'libmpi.so.12.0.5'\n",
      " 'libpsm_infinipath.so.1.14' 'Unknown(NA)']\n"
     ]
    },
    {
     "data": {
      "image/png": "[encoded data removed]",
      "text/plain": [
       "<Figure size 864x864 with 1 Axes>"
      ]
     },
     "metadata": {
      "needs_background": "light"
     },
     "output_type": "display_data"
    },
    {
     "data": {
      "image/png": "[encoded data removed]",
      "text/plain": [
       "<Figure size 864x864 with 1 Axes>"
      ]
     },
     "metadata": {
      "needs_background": "light"
     },
     "output_type": "display_data"
    },
    {
     "data": {
      "image/png": "[encoded data removed]",
      "text/plain": [
       "<Figure size 864x864 with 1 Axes>"
      ]
     },
     "metadata": {
      "needs_background": "light"
     },
     "output_type": "display_data"
    }
   ],
   "source": [
    "print(states[datasets[0]].df['module'].unique())\n",
    "module = 'libmpi.so.12.0.5'\n",
    "flow_matrices = []\n",
    "for idx, state in enumerate(states):\n",
    "    flow_matrix = create_flow_matrix(states[state], module)\n",
    "    flow_matrices.append(flow_matrix)\n",
    "    plt.matshow(flow_matrix)\n",
    "fm = np.array([flow_matrices[0], flow_matrices[1], flow_matrices[2]])"
   ]
  },
  {
   "cell_type": "markdown",
   "metadata": {},
   "source": [
    "## Plot histogram"
   ]
  },
  {
   "cell_type": "code",
   "execution_count": 255,
   "metadata": {},
   "outputs": [],
   "source": [
    "def histogram(variable):\n",
    "    n_bins = 2\n",
    "    N, bins, patches = plt.hist(variable, bins=n_bins)\n",
    "    #fracs = N / N.max()\n",
    "    #norm = colors.Normalize(fracs.min(), fracs.max())\n",
    "    #for thisfrac, thispatch in zip(fracs, patches):\n",
    "    #    color = plt.cm.viridis(norm(thisfrac))\n",
    "    #    thispatch.set_facecolor(color)\n",
    "    #plt.yaxis.set_major_formatter(PercentFormatter(xmax=1))"
   ]
  },
  {
   "cell_type": "markdown",
   "metadata": {},
   "source": [
    "## Calculate Spatial distance between each node in the flow matrix"
   ]
  },
  {
   "cell_type": "code",
   "execution_count": 256,
   "metadata": {},
   "outputs": [
    {
     "name": "stdout",
     "output_type": "stream",
     "text": [
      "[[[0.         0.         0.         0.         0.         0.\n",
      "   0.         0.         0.         0.        ]\n",
      "  [0.         0.         0.         0.         0.         0.\n",
      "   0.         0.         0.         0.        ]\n",
      "  [0.         0.         0.         0.         0.         0.\n",
      "   0.         0.         0.         0.        ]\n",
      "  [0.         0.         0.         0.         1.00074583 0.\n",
      "   0.         0.         0.         0.        ]\n",
      "  [0.         0.         0.         0.         0.         1.00074583\n",
      "   0.         0.         0.         0.        ]\n",
      "  [0.         0.         0.         0.         0.         0.\n",
      "   1.00074583 0.         0.         0.        ]\n",
      "  [0.         0.         0.         0.         0.         0.\n",
      "   0.         1.00074583 0.         0.        ]\n",
      "  [0.         0.         0.         0.         0.         0.\n",
      "   0.         0.         0.         0.        ]\n",
      "  [0.         0.         0.         0.         0.         0.\n",
      "   0.         0.         0.         0.        ]\n",
      "  [0.         0.         0.         0.         0.         0.\n",
      "   0.         0.         0.         0.        ]]\n",
      "\n",
      " [[0.         0.         0.         0.         0.         0.\n",
      "   0.         0.         0.         0.        ]\n",
      "  [0.         0.         0.         0.         0.         0.\n",
      "   0.         0.         0.         0.        ]\n",
      "  [0.         0.         0.         0.         0.         0.\n",
      "   0.         0.         0.         0.        ]\n",
      "  [0.         0.         0.         0.         1.00074583 0.\n",
      "   0.         0.         0.         0.        ]\n",
      "  [0.         0.         0.         0.         0.         1.00074583\n",
      "   0.         0.         0.         0.        ]\n",
      "  [0.         0.         0.         0.         0.         0.\n",
      "   1.00074583 0.         0.         0.        ]\n",
      "  [0.         0.         0.         0.         0.         0.\n",
      "   0.         1.00074583 0.         0.        ]\n",
      "  [0.         0.         0.         0.         0.         0.\n",
      "   0.         0.         0.         0.        ]\n",
      "  [0.         0.         0.         0.         0.         0.\n",
      "   0.         0.         0.         0.        ]\n",
      "  [0.         0.         0.         0.         0.         0.\n",
      "   0.         0.         0.         0.        ]]\n",
      "\n",
      " [[0.         0.         0.         0.         0.         0.\n",
      "   0.         0.         0.         0.        ]\n",
      "  [0.         0.         0.         0.         0.         0.\n",
      "   0.         0.         0.         0.        ]\n",
      "  [0.         0.         0.         0.         0.         0.\n",
      "   0.         0.         0.         0.        ]\n",
      "  [0.         0.         0.         0.         2.00106824 0.\n",
      "   0.         0.         0.         0.        ]\n",
      "  [0.         0.         0.         0.         0.         2.00106824\n",
      "   0.         0.         0.         0.        ]\n",
      "  [0.         0.         0.         0.         0.         0.\n",
      "   2.00106824 0.         0.         0.        ]\n",
      "  [0.         0.         0.         0.         0.         0.\n",
      "   0.         2.00106824 0.         0.        ]\n",
      "  [0.         0.         0.         0.         0.         0.\n",
      "   0.         0.         0.         0.        ]\n",
      "  [0.         0.         0.         0.         0.         0.\n",
      "   0.         0.         0.         0.        ]\n",
      "  [0.         0.         0.         0.         0.         0.\n",
      "   0.         0.         0.         0.        ]]]\n"
     ]
    },
    {
     "data": {
      "image/png": "[encoded data removed]",
      "text/plain": [
       "<Figure size 1152x864 with 1 Axes>"
      ]
     },
     "metadata": {
      "needs_background": "light"
     },
     "output_type": "display_data"
    }
   ],
   "source": [
    "S = len(states) - 1\n",
    "print(fm)\n",
    "\n",
    "n_samples = 40\n",
    "ns = [len(fm[s]) for s in range(S)]\n",
    "\n",
    "Cs = [sp.spatial.distance.cdist(fm[s], fm[s]) for s in range(S)]\n",
    "Cs = [cs / cs.max() for cs in Cs]\n",
    "\n",
    "ps = [ot.unif(ns[s]) for s in range(S)]\n",
    "p = ot.unif(n_samples)\n",
    "\n",
    "histogram(ns)"
   ]
  },
  {
   "cell_type": "code",
   "execution_count": 257,
   "metadata": {},
   "outputs": [
    {
     "data": {
      "image/png": "[encoded data removed]",
      "text/plain": [
       "<Figure size 1152x864 with 1 Axes>"
      ]
     },
     "metadata": {
      "needs_background": "light"
     },
     "output_type": "display_data"
    }
   ],
   "source": [
    "histogram(ps)"
   ]
  },
  {
   "cell_type": "markdown",
   "metadata": {},
   "source": [
    "## Gromov wassertstein barycenter calculation\n",
    "\n",
    "By barycenter they mean the design of an “average” or barycenter of similarity matrices."
   ]
  },
  {
   "cell_type": "code",
   "execution_count": 258,
   "metadata": {},
   "outputs": [],
   "source": [
    "def plot(variable):\n",
    "    plt.plot(variable[0], variable[1], 'o', label=str(variable))\n",
    "    plt.show()"
   ]
  },
  {
   "cell_type": "code",
   "execution_count": 259,
   "metadata": {},
   "outputs": [],
   "source": [
    "def smacof_mds(C, dim, max_iter=3000, eps=1e-9):\n",
    "    \"\"\"\n",
    "    Returns an interpolated point cloud following the dissimilarity matrix C\n",
    "    using SMACOF multidimensional scaling (MDS) in specific dimensionned\n",
    "    target space\n",
    "\n",
    "    Parameters\n",
    "    ----------\n",
    "    C : ndarray, shape (ns, ns)\n",
    "        dissimilarity matrix\n",
    "    dim : int\n",
    "          dimension of the targeted space\n",
    "    max_iter :  int\n",
    "        Maximum number of iterations of the SMACOF algorithm for a single run\n",
    "    eps : float\n",
    "        relative tolerance w.r.t stress to declare converge\n",
    "\n",
    "    Returns\n",
    "    -------\n",
    "    npos : ndarray, shape (R, dim)\n",
    "           Embedded coordinates of the interpolated point cloud (defined with\n",
    "           one isometry)\n",
    "    \"\"\"\n",
    "\n",
    "    rng = np.random.RandomState(seed=3)\n",
    "\n",
    "    mds = manifold.MDS(\n",
    "        dim,\n",
    "        max_iter=max_iter,\n",
    "        eps=1e-9,\n",
    "        dissimilarity='precomputed',\n",
    "        \n",
    "        n_init=1)\n",
    "    pos = mds.fit(C).embedding_\n",
    "\n",
    "    nmds = manifold.MDS(\n",
    "        2,\n",
    "        max_iter=max_iter,\n",
    "        eps=1e-9,\n",
    "        dissimilarity=\"precomputed\",\n",
    "        random_state=rng,\n",
    "        n_init=1)\n",
    "    npos = nmds.fit_transform(C, init=pos)\n",
    "\n",
    "    return npos"
   ]
  },
  {
   "cell_type": "code",
   "execution_count": 260,
   "metadata": {},
   "outputs": [],
   "source": [
    "lambdast = [[float(i) / 3, float(3 - i) / 3] for i in [1, 2]]\n",
    "Ct01 = [0 for i in range(2)]\n",
    "for i in range(S):\n",
    "    Ct01[i] = ot.gromov.gromov_barycenters(n_samples, [Cs[0], Cs[1]],\n",
    "                                           [ps[0], ps[1]\n",
    "                                            ], p, lambdast[i], 'square_loss',  # 5e-4,\n",
    "                                           max_iter=100, tol=1e-9)"
   ]
  },
  {
   "cell_type": "code",
   "execution_count": 261,
   "metadata": {
    "scrolled": false
   },
   "outputs": [],
   "source": [
    "clf = PCA(n_components=2)\n",
    "npos = [0, 0]\n",
    "npos = [smacof_mds(Cs[s], 2) for s in range(S)]\n",
    "\n",
    "npost01 = [0, 0]\n",
    "npost01 = [smacof_mds(Ct01[s], 2) for s in range(2)]\n",
    "npost01 = [clf.fit_transform(npost01[s]) for s in range(2)] "
   ]
  },
  {
   "cell_type": "code",
   "execution_count": null,
   "metadata": {},
   "outputs": [],
   "source": []
  },
  {
   "cell_type": "code",
   "execution_count": 262,
   "metadata": {},
   "outputs": [
    {
     "data": {
      "image/png": "[encoded data removed]",
      "text/plain": [
       "<Figure size 1152x864 with 1 Axes>"
      ]
     },
     "metadata": {
      "needs_background": "light"
     },
     "output_type": "display_data"
    }
   ],
   "source": [
    "plot(Ct01)"
   ]
  },
  {
   "cell_type": "code",
   "execution_count": 263,
   "metadata": {},
   "outputs": [
    {
     "data": {
      "image/png": "[encoded data removed]",
      "text/plain": [
       "<Figure size 1152x864 with 1 Axes>"
      ]
     },
     "metadata": {
      "needs_background": "light"
     },
     "output_type": "display_data"
    }
   ],
   "source": [
    "plot(npost01)"
   ]
  },
  {
   "cell_type": "code",
   "execution_count": 283,
   "metadata": {},
   "outputs": [
    {
     "ename": "NameError",
     "evalue": "name 'labels' is not defined",
     "output_type": "error",
     "traceback": [
      "\u001b[0;31m---------------------------------------------------------------------------\u001b[0m",
      "\u001b[0;31mNameError\u001b[0m                                 Traceback (most recent call last)",
      "\u001b[0;32m<ipython-input-283-2a434a37638b>\u001b[0m in \u001b[0;36m<module>\u001b[0;34m\u001b[0m\n\u001b[1;32m     79\u001b[0m \u001b[0max\u001b[0m\u001b[0;34m.\u001b[0m\u001b[0mset_title\u001b[0m\u001b[0;34m(\u001b[0m\u001b[0;34m\"Gromov wasserstein barycenter\"\u001b[0m\u001b[0;34m,\u001b[0m \u001b[0msize\u001b[0m\u001b[0;34m=\u001b[0m\u001b[0;36m20\u001b[0m\u001b[0;34m)\u001b[0m\u001b[0;34m\u001b[0m\u001b[0;34m\u001b[0m\u001b[0m\n\u001b[1;32m     80\u001b[0m \u001b[0;34m\u001b[0m\u001b[0m\n\u001b[0;32m---> 81\u001b[0;31m \u001b[0mtooltip\u001b[0m \u001b[0;34m=\u001b[0m \u001b[0mmpld3\u001b[0m\u001b[0;34m.\u001b[0m\u001b[0mplugins\u001b[0m\u001b[0;34m.\u001b[0m\u001b[0mPointLabelTooltip\u001b[0m\u001b[0;34m(\u001b[0m\u001b[0mscatter\u001b[0m\u001b[0;34m,\u001b[0m \u001b[0mlabels\u001b[0m\u001b[0;34m=\u001b[0m\u001b[0mlabels\u001b[0m\u001b[0;34m)\u001b[0m\u001b[0;34m\u001b[0m\u001b[0;34m\u001b[0m\u001b[0m\n\u001b[0m\u001b[1;32m     82\u001b[0m \u001b[0mmpld3\u001b[0m\u001b[0;34m.\u001b[0m\u001b[0mplugins\u001b[0m\u001b[0;34m.\u001b[0m\u001b[0mconnect\u001b[0m\u001b[0;34m(\u001b[0m\u001b[0mfig\u001b[0m\u001b[0;34m,\u001b[0m \u001b[0mtooltip\u001b[0m\u001b[0;34m)\u001b[0m\u001b[0;34m\u001b[0m\u001b[0;34m\u001b[0m\u001b[0m\n\u001b[1;32m     83\u001b[0m \u001b[0;34m\u001b[0m\u001b[0m\n",
      "\u001b[0;31mNameError\u001b[0m: name 'labels' is not defined"
     ]
    },
    {
     "data": {
      "text/plain": [
       "<Figure size 720x720 with 0 Axes>"
      ]
     },
     "metadata": {},
     "output_type": "display_data"
    },
    {
     "data": {
      "image/png": "[encoded data removed]",
      "text/plain": [
       "<Figure size 1152x864 with 1 Axes>"
      ]
     },
     "metadata": {
      "needs_background": "light"
     },
     "output_type": "display_data"
    }
   ],
   "source": [
    "nx01min = npos[0][0][0]\n",
    "nx01max = npos[0][0][0]\n",
    "ny01min = npos[0][1][1]\n",
    "ny01max = npos[0][1][1]\n",
    "\n",
    "nx02min = npos[1][0][0]\n",
    "nx02max = npos[1][0][0]\n",
    "ny02min = npos[1][1][1]\n",
    "ny02max = npos[1][1][1]\n",
    "\n",
    "for idx, arr in enumerate(npos):\n",
    "    if arr[0][0] < nx01min:\n",
    "        nx01min = arr[0][0]\n",
    "    else:\n",
    "        pass\n",
    "    \n",
    "    if arr[0][1] > nx01max:\n",
    "        nx01max = arr[0][1]\n",
    "    else:\n",
    "        pass\n",
    "    \n",
    "    if arr[1][0] < ny01min:\n",
    "        ny01min = arr[1][0]\n",
    "    else:\n",
    "        pass\n",
    "    \n",
    "    if arr[1][1] > ny01max:\n",
    "        ny01max = arr[1][1]\n",
    "    else:\n",
    "        pass\n",
    "\n",
    "\n",
    "for idx, arr in enumerate(npost01):\n",
    "    if arr[0][0] < nx02min:\n",
    "        nx02min = arr[0][0]\n",
    "    else:\n",
    "        pass\n",
    "    \n",
    "    if arr[0][1] > nx02max:\n",
    "        nx02max = arr[0][1]\n",
    "    else:\n",
    "        pass\n",
    "    \n",
    "    if arr[1][0] < ny02min:\n",
    "        ny02min = arr[1][0]\n",
    "    else:\n",
    "        pass\n",
    "    \n",
    "    if arr[1][1] > ny02max:\n",
    "        ny02max = arr[1][1]\n",
    "    else:\n",
    "        pass\n",
    "\n",
    "fig = plt.figure(figsize=(10, 10))\n",
    "\n",
    "x1 = []\n",
    "y1 = []\n",
    "for idx, val in enumerate(npost01[0]):\n",
    "    x1.append(val[0])\n",
    "    y1.append(val[1])\n",
    "    \n",
    "x2 = []\n",
    "y2 = []\n",
    "for idx, val in enumerate(npost01[1]):\n",
    "    x2.append(val[0])\n",
    "    y2.append(val[1])\n",
    "\n",
    "x1 = np.asarray(x1)\n",
    "x2 = np.asarray(x2)\n",
    "y1 = np.asarray(y1)\n",
    "y2 = np.asarray(y2)\n",
    "\n",
    "fig, ax = plt.subplots()\n",
    "\n",
    "scatter = plt.scatter(x1, y1, color='b')\n",
    "scatter = plt.scatter(x2, y2, color='r')\n",
    "\n",
    "ax.grid(color='#aaaaaa', linestyle='solid')\n",
    "ax.set_title(\"Gromov wasserstein barycenter\", size=20)\n",
    "        \n",
    "tooltip = mpld3.plugins.PointLabelTooltip(scatter, labels=labels)\n",
    "mpld3.plugins.connect(fig, tooltip)\n",
    "\n",
    "mpld3.show()"
   ]
  },
  {
   "cell_type": "code",
   "execution_count": null,
   "metadata": {},
   "outputs": [],
   "source": [
    "def draw_graph(state, module):\n",
    "    g = state.g\n",
    "    hierarchy = nx.Graph()\n",
    "    source_target_data = []\n",
    "    nodes = [x for x,y in g.nodes(data=True) if y['module'] == [module]]\n",
    "    node = nodes[0]\n",
    "    for idx, node in enumerate(nodes):\n",
    "        hierarchy_pd = pd.DataFrame(columns=['source', 'target', 'weight', 'level', 'type'])\n",
    "        neighbors = sorted(g[node].items(), key=lambda edge: edge[1]['weight'])\n",
    "        for idx, n in enumerate(neighbors):\n",
    "            #print(\"source: {0}, target: {1}\".format(node, n[0]))\n",
    "            source_node = node\n",
    "            target_node = n[0]\n",
    "            weight = n[1]['weight']\n",
    "            level = idx\n",
    "            if(state.df[state.df['name'] == n[0]]['module'].unique()[0] != module):\n",
    "                type_node = 'exit'\n",
    "                level = -1\n",
    "                print('{0} is an exit node'.format(n[0]))\n",
    "            else:\n",
    "                type_node = 'normal'\n",
    "            source_target_data.append({\n",
    "                \"source\": source_node,\n",
    "                \"target\": target_node,\n",
    "                \"weight\": weight,\n",
    "                \"level\": level,\n",
    "                \"type\": type_node\n",
    "            })\n",
    "    hierarchy_df = pd.DataFrame.from_dict(source_target_data)\n",
    "    print(hierarchy_df.shape)\n",
    "    hierarchy_adjacency = source_target_to_adj_matrix(source_target_data)\n",
    "    state.hg = nx.from_numpy_matrix(hierarchy_adjacency)\n",
    "    pos = hierarchy_pos(state.hg, 1)\n",
    "    nx.draw(state.hg, pos=pos, with_labels=True)\n",
    "    plt.show()\n",
    "\n",
    "draw_graph(states[0], 'lulesh2.0')"
   ]
  },
  {
   "cell_type": "code",
   "execution_count": null,
   "metadata": {},
   "outputs": [],
   "source": [
    "def get_adjcency(nodelist):\n",
    "    x_pd = nx.to_pandas_adjacency(g, nodelist=nodes, dtype=int)   "
   ]
  },
  {
   "cell_type": "code",
   "execution_count": null,
   "metadata": {},
   "outputs": [],
   "source": [
    "def hierarchy_pos(G, root=None, width=1., vert_gap = 0.2, vert_loc = 0, xcenter = 0.5):\n",
    "\n",
    "    '''\n",
    "    From Joel's answer at https://stackoverflow.com/a/29597209/2966723 \n",
    "\n",
    "    If the graph is a tree this will return the positions to plot this in a \n",
    "    hierarchical layout.\n",
    "\n",
    "    G: the graph (must be a tree)\n",
    "\n",
    "    root: the root node of current branch \n",
    "    - if the tree is directed and this is not given, the root will be found and used\n",
    "    - if the tree is directed and this is given, then the positions will be just for the descendants of this node.\n",
    "    - if the tree is undirected and not given, then a random choice will be used.\n",
    "\n",
    "    width: horizontal space allocated for this branch - avoids overlap with other branches\n",
    "\n",
    "    vert_gap: gap between levels of hierarchy\n",
    "\n",
    "    vert_loc: vertical location of root\n",
    "\n",
    "    xcenter: horizontal location of root\n",
    "    '''\n",
    "    #if not nx.is_tree(G):\n",
    "     #   raise TypeError('cannot use hierarchy_pos on a graph that is not a tree')\n",
    "\n",
    "    if root is None:\n",
    "        if isinstance(G, nx.DiGraph):\n",
    "            root = next(iter(nx.topological_sort(G)))  #allows back compatibility with nx version 1.11\n",
    "        else:\n",
    "            root = random.choice(list(G.nodes))\n",
    "\n",
    "    def _hierarchy_pos(G, root, width=1., vert_gap = 0.2, vert_loc = 0, xcenter = 0.5, pos = None, parent = None):\n",
    "        '''\n",
    "        see hierarchy_pos docstring for most arguments\n",
    "\n",
    "        pos: a dict saying where all nodes go if they have been assigned\n",
    "        parent: parent of this branch. - only affects it if non-directed\n",
    "\n",
    "        '''\n",
    "        print(root)\n",
    "        if pos is None:\n",
    "            pos = {root:(xcenter,vert_loc)}\n",
    "        else:\n",
    "            pos[root] = (xcenter, vert_loc)\n",
    "        children = list(G.neighbors(root))\n",
    "        if not isinstance(G, nx.DiGraph) and parent is not None:\n",
    "            children.remove(parent)  \n",
    "        if len(children)!=0:\n",
    "            dx = width/len(children) \n",
    "            nextx = xcenter - width/2 - dx/2\n",
    "            for child in children:\n",
    "                nextx += dx\n",
    "                pos = _hierarchy_pos(G,child, width = dx, vert_gap = vert_gap, \n",
    "                                    vert_loc = vert_loc-vert_gap, xcenter=nextx,\n",
    "                                    pos=pos, parent = root)\n",
    "        return pos\n",
    "\n",
    "\n",
    "    return _hierarchy_pos(G, root, width, vert_gap, vert_loc, xcenter)"
   ]
  }
 ],
 "metadata": {
  "kernelspec": {
   "display_name": "Python 3",
   "language": "python",
   "name": "python3"
  },
  "language_info": {
   "codemirror_mode": {
    "name": "ipython",
    "version": 3
   },
   "file_extension": ".py",
   "mimetype": "text/x-python",
   "name": "python",
   "nbconvert_exporter": "python",
   "pygments_lexer": "ipython3",
   "version": "3.7.4"
  }
 },
 "nbformat": 4,
 "nbformat_minor": 2
}
