{
 "cells": [
  {
   "cell_type": "code",
   "execution_count": 1,
   "metadata": {
    "scrolled": false
   },
   "outputs": [
    {
     "name": "stderr",
     "output_type": "stream",
     "text": [
      "/Users/jarus/miniconda3/lib/python3.6/site-packages/matplotlib/__init__.py:855: MatplotlibDeprecationWarning: \n",
      "examples.directory is deprecated; in the future, examples will be found relative to the 'datapath' directory.\n",
      "  \"found relative to the 'datapath' directory.\".format(key))\n",
      "/Users/jarus/miniconda3/lib/python3.6/site-packages/matplotlib/__init__.py:846: MatplotlibDeprecationWarning: \n",
      "The text.latex.unicode rcparam was deprecated in Matplotlib 2.2 and will be removed in 3.1.\n",
      "  \"2.2\", name=key, obj_type=\"rcparam\", addendum=addendum)\n",
      "/Users/jarus/miniconda3/lib/python3.6/site-packages/seaborn/apionly.py:9: UserWarning: As seaborn no longer sets a default style on import, the seaborn.apionly module is deprecated. It will be removed in a future version.\n",
      "  warnings.warn(msg, UserWarning)\n"
     ]
    }
   ],
   "source": [
    "import networkx as nx\n",
    "import pandas\n",
    "from hatchet import *\n",
    "import os\n",
    "import matplotlib.pyplot as plt\n",
    "import seaborn.apionly as sns\n",
    "import igraph\n",
    "import platform\n",
    "import json\n",
    "from ast import literal_eval as make_tuple\n",
    "import matplotlib.cm as cm\n",
    "import utils"
   ]
  },
  {
   "cell_type": "code",
   "execution_count": 2,
   "metadata": {},
   "outputs": [],
   "source": [
    "# libraries for gromov distance computation.\n",
    "import numpy as np\n",
    "import scipy as sp\n",
    "import ot\n",
    "from sklearn.decomposition import PCA\n",
    "from sklearn import manifold"
   ]
  },
  {
   "cell_type": "code",
   "execution_count": 3,
   "metadata": {},
   "outputs": [],
   "source": [
    "#from actions.groupBy import groupBy\n",
    "from state import State\n",
    "from preprocess import PreProcess"
   ]
  },
  {
   "cell_type": "code",
   "execution_count": 4,
   "metadata": {},
   "outputs": [],
   "source": [
    "%matplotlib inline"
   ]
  },
  {
   "cell_type": "code",
   "execution_count": 5,
   "metadata": {},
   "outputs": [],
   "source": [
    "pd.options.display.max_rows = 10\n",
    "pd.options.display.float_format = '{:,.2f}'.format\n",
    "plt.rcParams['figure.figsize'] = (16, 12)"
   ]
  },
  {
   "cell_type": "markdown",
   "metadata": {},
   "source": [
    "# Change the directory name according to your system"
   ]
  },
  {
   "cell_type": "code",
   "execution_count": 6,
   "metadata": {},
   "outputs": [],
   "source": [
    "dirname = \"/Users/jarus/ucd/Research/Visualisation/projects/CallFlow/.callflow\"\n",
    "# dirname = \"/home/vidi/Work/llnl/CallFlow/.callflow\""
   ]
  },
  {
   "cell_type": "markdown",
   "metadata": {},
   "source": [
    "## Load the datasets and create Dataframes"
   ]
  },
  {
   "cell_type": "code",
   "execution_count": 7,
   "metadata": {},
   "outputs": [],
   "source": [
    "def replace_str_with_Node(df, graph):\n",
    "        mapper = {}\n",
    "        def dfs_recurse(root):\n",
    "            for node in root.children: \n",
    "                mapper[node.callpath[-1]] = Node(node.nid, node.callpath, None)\n",
    "                dfs_recurse(node)\n",
    "        for root in graph.roots:\n",
    "            mapper[root.callpath[-1]] = Node(root.nid, root.callpath, None)\n",
    "            dfs_recurse(root)\n",
    "        df['node'] = df['node'].apply(lambda node: mapper[node] if node in mapper else '')\n",
    "        return df"
   ]
  },
  {
   "cell_type": "code",
   "execution_count": 8,
   "metadata": {},
   "outputs": [],
   "source": [
    "def read_gf(name):\n",
    "    state = State()\n",
    "    df_filepath = dirname + '/' + name +  '/filter_df.csv'\n",
    "    entire_df_filepath = dirname + '/' + name + '/entire_df.csv'\n",
    "    graph_filepath = dirname + '/' + name + '/filter_graph.json'\n",
    "    entire_graph_filepath = dirname + '/' + name + '/entire_graph.json'   \n",
    "\n",
    "    with open(graph_filepath, 'r') as graphFile:\n",
    "        data = json.load(graphFile)\n",
    "\n",
    "    state.gf = GraphFrame()\n",
    "    state.gf.from_literal(data)\n",
    "\n",
    "    with open(entire_graph_filepath, 'r') as entire_graphFile:\n",
    "        entire_data = json.load(entire_graphFile)\n",
    "            \n",
    "    state.entire_gf = GraphFrame()\n",
    "    state.entire_gf.from_literal(entire_data)\n",
    "\n",
    "    state.df = pd.read_csv(df_filepath)\n",
    "    state.entire_df = pd.read_csv(entire_df_filepath)\n",
    "\n",
    "    state.graph = state.gf.graph\n",
    "    state.entire_graph = state.entire_gf.graph\n",
    "\n",
    "#     state.map = state.node_hash_mapper()\n",
    "\n",
    "    # Print the module group by information. \n",
    "    # print(state.df.groupby(['module']).agg(['mean','count']))\n",
    "\n",
    "    # replace df['node'] from str to the Node object.\n",
    "    state.df = replace_str_with_Node(state.df, state.graph)\n",
    "    state.entire_df = replace_str_with_Node(state.entire_df, state.entire_graph)\n",
    "\n",
    "    return state"
   ]
  },
  {
   "cell_type": "code",
   "execution_count": 9,
   "metadata": {},
   "outputs": [
    {
     "name": "stdout",
     "output_type": "stream",
     "text": [
      "{'kripke-impi': <state.State object at 0x1a21dd4b00>, 'kripke-mvapich2': <state.State object at 0x1a21dc3a58>, 'kripke-openmpi': <state.State object at 0x1a2236dd68>}\n"
     ]
    }
   ],
   "source": [
    "datasets = [\"kripke-impi\", \"kripke-mvapich2\", \"kripke-openmpi\"]\n",
    "states = {}\n",
    "for idx, dataset_name in enumerate(datasets):\n",
    "    state = read_gf(dataset_name)\n",
    "    states[dataset_name] = state\n",
    "print(states)"
   ]
  },
  {
   "cell_type": "code",
   "execution_count": 10,
   "metadata": {},
   "outputs": [],
   "source": [
    "def lookup_with_name(df, name):\n",
    "    return df.loc[df['name'] == name]"
   ]
  },
  {
   "cell_type": "code",
   "execution_count": 11,
   "metadata": {},
   "outputs": [],
   "source": [
    "def add_paths(state, path_name):\n",
    "    for idx, row in state.df.iterrows():\n",
    "        if row.show_node:\n",
    "            path = row[path_name]\n",
    "            if isinstance(path, str):\n",
    "                path = make_tuple(row[path_name])\n",
    "            state.g.add_path(path)   "
   ]
  },
  {
   "cell_type": "code",
   "execution_count": 12,
   "metadata": {},
   "outputs": [],
   "source": [
    "def generic_map(df, nodes, attr):\n",
    "    ret = {}\n",
    "    for node in nodes: \n",
    "        if attr == 'time (inc)':\n",
    "            ret[node] = df[df['name'] == node][attr].mean()\n",
    "        else:\n",
    "            ret[node] = df[df['name'] == node][attr].unique().tolist()     \n",
    "    return ret"
   ]
  },
  {
   "cell_type": "code",
   "execution_count": 13,
   "metadata": {},
   "outputs": [],
   "source": [
    "def calculate_flows(state):\n",
    "    graph = state.g\n",
    "    ret = {}                                                                                                                                                                                                                                                                          \n",
    "    edges = graph.edges()                                                                                                                                                                                                                                                             \n",
    "    additional_flow = {}                                                                                                                                                                                                                                                              \n",
    "                                                                                                                                                                                                                                                                                          \n",
    "    # Calculates the costs in cycles and aggregates to one node.                                                                                                                                                                                                                      \n",
    "    for edge in edges:                                                                                                                                                                                                                                                                \n",
    "        source = edge[0]                                                                                                                                                                                                                                                              \n",
    "        target = edge[1]                                                                                                                                                                                                                                                              \n",
    "                                                                                                                                                                                                                \n",
    "    for edge in edges:                                                                                                                                                                                                                                                                \n",
    "        added_flow = 0                                                                                                                                                                                                                                                                \n",
    "        if edge[0].endswith('_'):                                                                                                                                                                                                                                                     \n",
    "            ret[edge] = additional_flow[edge[0]]                                                                                                                                                                                                                                      \n",
    "            continue                                                                                                                                                                                                                                                                  \n",
    "        elif edge[1].endswith('_'):                                                                                                                                                                                                                                                   \n",
    "            ret[edge] = additional_flow[edge[1]]                                                                                                                                                                                                                                      \n",
    "            continue                                                                                                                                                                                                                                                                  \n",
    "        source = lookup_with_name(state.df, edge[0])                                                                                                                                                                                                                         \n",
    "        target = lookup_with_name(state.df, edge[1])                                                                                                                                                                                                                         \n",
    "                                                                                                                                                                                                                                                                                          \n",
    "        source_inc = source['time (inc)'].max()                                                                                                                                                                                                                               \n",
    "        target_inc = target['time (inc)'].max()                                                                         \n",
    "                                                                                                                                                                                                                                                                                          \n",
    "        if source_inc == target_inc:                                                                                                                                                                                                                                                  \n",
    "            ret[edge] = source_inc                                                                                                                                                                                                                                                    \n",
    "        else:                                                                                                                                                                                                                                                                         \n",
    "            ret[edge] = target_inc    \n",
    "    return ret   "
   ]
  },
  {
   "cell_type": "code",
   "execution_count": 14,
   "metadata": {},
   "outputs": [],
   "source": [
    "def add_edge_attributes(state):\n",
    "    capacity_mapping = calculate_flows(state)    \n",
    "    nx.set_edge_attributes(state.g, name='weight', values=capacity_mapping)"
   ]
  },
  {
   "cell_type": "code",
   "execution_count": 15,
   "metadata": {},
   "outputs": [],
   "source": [
    "def add_node_attributes(state):\n",
    "    module_mapping = generic_map(state.df, state.g.nodes(), 'module')\n",
    "    nx.set_node_attributes(state.g, name='module', values=module_mapping)\n",
    "    \n",
    "    time_mapping = generic_map(state.df, state.g.nodes(), 'time (inc)')\n",
    "    nx.set_node_attributes(state.g, name='time (inc)', values=time_mapping)"
   ]
  },
  {
   "cell_type": "code",
   "execution_count": 18,
   "metadata": {},
   "outputs": [],
   "source": [
    "def create_nx_graph(states):\n",
    "    for idx, state_name in enumerate(states):\n",
    "        state = states[state_name]\n",
    "        state.g = nx.DiGraph()\n",
    "        root_df = lookup_with_name(state.df, state.graph.roots[0].callpath[-1])\n",
    "        state.root = root_df['name'].tolist()[0]\n",
    "        state.rootInc = root_df['time (inc)'].max()\n",
    "        add_paths(state, 'path')\n",
    "#         state.levelMap = add_levels(state)\n",
    "        add_node_attributes(state)\n",
    "        add_edge_attributes(state)  \n",
    "    return states"
   ]
  },
  {
   "cell_type": "code",
   "execution_count": 19,
   "metadata": {},
   "outputs": [
    {
     "name": "stdout",
     "output_type": "stream",
     "text": [
      "{'kripke-impi': <state.State object at 0x1a21dd4b00>, 'kripke-mvapich2': <state.State object at 0x1a21dc3a58>, 'kripke-openmpi': <state.State object at 0x1a2236dd68>}\n"
     ]
    }
   ],
   "source": [
    "states = create_nx_graph(states)\n",
    "print(states)"
   ]
  },
  {
   "cell_type": "code",
   "execution_count": 22,
   "metadata": {},
   "outputs": [],
   "source": [
    "# dataset = 'kripke-openmpi'\n",
    "# dataset = 'kripke-impi'\n",
    "dataset = 'kripke-mvapich2'"
   ]
  },
  {
   "cell_type": "code",
   "execution_count": 36,
   "metadata": {},
   "outputs": [
    {
     "name": "stdout",
     "output_type": "stream",
     "text": [
      "['<unknown load module>' 'Unknown(NA)' 'libmonitor.so.0.0.0' 'kripke'\n",
      " 'libmpi.so.12.0.5' 'libpsm2.so.2.1' 'libstdc++.so.6.0.20' 'libc-2.17.so'\n",
      " 'libm-2.17.so' 'libpthread-2.17.so' 'ld-2.17.so' 'libintlc.so.5']\n",
      "['<unknown load module>' 'Unknown(NA)' 'libmonitor.so.0.0.0' 'kripke'\n",
      " 'libm-2.17.so' 'libc-2.17.so' 'libstdc++.so.6.0.20' 'libmpi.so.12.0.5'\n",
      " 'libpsm2.so.2.1' 'libintlc.so.5' 'ld-2.17.so' 'libpthread-2.17.so']\n",
      "Module: <unknown load module>\n",
      "                     name  time (inc)  time\n",
      "0    <partial call paths>        0.00  0.00\n",
      "1    <partial call paths>        0.00  0.00\n",
      "2    <partial call paths>        0.00  0.00\n",
      "3    <partial call paths>        0.00  0.00\n",
      "4    <partial call paths>        0.00  0.00\n",
      "..                    ...         ...   ...\n",
      "251   <unknown procedure>        0.00  0.00\n",
      "252   <unknown procedure>        0.00  0.00\n",
      "253   <unknown procedure>        0.00  0.00\n",
      "254   <unknown procedure>        0.00  0.00\n",
      "255   <unknown procedure>        0.00  0.00\n",
      "\n",
      "[256 rows x 3 columns]\n",
      "Module: Unknown(NA)\n",
      "                             name  time (inc)  time\n",
      "256              <unknown file>:0        0.00  0.00\n",
      "257              <unknown file>:0        0.00  0.00\n",
      "258              <unknown file>:0        0.00  0.00\n",
      "259              <unknown file>:0        0.00  0.00\n",
      "260              <unknown file>:0        0.00  0.00\n",
      "...                           ...         ...   ...\n",
      "299771  <unknown file> [kripke]:0        0.00  0.00\n",
      "299772  <unknown file> [kripke]:0        0.00  0.00\n",
      "299773  <unknown file> [kripke]:0        0.00  0.00\n",
      "299774  <unknown file> [kripke]:0        0.00  0.00\n",
      "299775  <unknown file> [kripke]:0        0.00  0.00\n",
      "\n",
      "[163584 rows x 3 columns]\n",
      "Module: libmonitor.so.0.0.0\n",
      "                  name     time (inc)  time\n",
      "384     <program root> 194,500,829.00  0.00\n",
      "385     <program root> 194,524,078.00  0.00\n",
      "386     <program root> 194,507,455.00  0.00\n",
      "387     <program root> 194,443,870.00  0.00\n",
      "388     <program root> 194,488,922.00  0.00\n",
      "...                ...            ...   ...\n",
      "193915   MPI_Comm_rank           0.00  0.00\n",
      "193916   MPI_Comm_rank           0.00  0.00\n",
      "193917   MPI_Comm_rank           0.00  0.00\n",
      "193918   MPI_Comm_rank           0.00  0.00\n",
      "193919   MPI_Comm_rank           0.00  0.00\n",
      "\n",
      "[640 rows x 3 columns]\n",
      "Module: kripke\n",
      "                           name     time (inc)         time\n",
      "512                        main 194,500,829.00         0.00\n",
      "513                        main 194,524,078.00         0.00\n",
      "514                        main 194,507,455.00         0.00\n",
      "515                        main 194,443,870.00         0.00\n",
      "516                        main 194,488,922.00         0.00\n",
      "...                         ...            ...          ...\n",
      "219643  Grid_Data::particleEdit   1,196,607.00 1,142,978.00\n",
      "219644  Grid_Data::particleEdit   1,692,277.00 1,131,061.00\n",
      "219645  Grid_Data::particleEdit   1,172,772.00 1,107,200.00\n",
      "219646  Grid_Data::particleEdit   1,160,704.00 1,113,056.00\n",
      "219647  Grid_Data::particleEdit   1,148,877.00 1,119,147.00\n",
      "\n",
      "[5376 rows x 3 columns]\n",
      "Module: libmpi.so.12.0.5\n",
      "              name  time (inc)  time\n",
      "768      PMPI_Init        0.00  0.00\n",
      "769      PMPI_Init        0.00  0.00\n",
      "770      PMPI_Init        0.00  0.00\n",
      "771      PMPI_Init        0.00  0.00\n",
      "772      PMPI_Init        0.00  0.00\n",
      "...            ...         ...   ...\n",
      "296827  PMPI_Wtime        0.00  0.00\n",
      "296828  PMPI_Wtime        0.00  0.00\n",
      "296829  PMPI_Wtime        0.00  0.00\n",
      "296830  PMPI_Wtime        0.00  0.00\n",
      "296831  PMPI_Wtime        0.00  0.00\n",
      "\n",
      "[21888 rows x 3 columns]\n",
      "Module: libpsm2.so.2.1\n",
      "                                                    name  time (inc)  time\n",
      "1280    348:<unknown procedure> 0x11464 [libpsm2.so.2.1]        0.00  0.00\n",
      "1281    348:<unknown procedure> 0x11464 [libpsm2.so.2.1]        0.00  0.00\n",
      "1282    348:<unknown procedure> 0x11464 [libpsm2.so.2.1]        0.00  0.00\n",
      "1283    348:<unknown procedure> 0x11464 [libpsm2.so.2.1]        0.00  0.00\n",
      "1284    348:<unknown procedure> 0x11464 [libpsm2.so.2.1]        0.00  0.00\n",
      "...                                                  ...         ...   ...\n",
      "293243  232:<unknown procedure> 0x1b7b5 [libpsm2.so.2.1]        0.00  0.00\n",
      "293244  232:<unknown procedure> 0x1b7b5 [libpsm2.so.2.1]        0.00  0.00\n",
      "293245  232:<unknown procedure> 0x1b7b5 [libpsm2.so.2.1]        0.00  0.00\n",
      "293246  232:<unknown procedure> 0x1b7b5 [libpsm2.so.2.1]        0.00  0.00\n",
      "293247  232:<unknown procedure> 0x1b7b5 [libpsm2.so.2.1]        0.00  0.00\n",
      "\n",
      "[77824 rows x 3 columns]\n",
      "Module: libstdc++.so.6.0.20\n",
      "                               name  time (inc)  time\n",
      "8960    operator new(unsigned long)    5,997.00  0.00\n",
      "8961    operator new(unsigned long)        0.00  0.00\n",
      "8962    operator new(unsigned long)        0.00  0.00\n",
      "8963    operator new(unsigned long)        0.00  0.00\n",
      "8964    operator new(unsigned long)        0.00  0.00\n",
      "...                             ...         ...   ...\n",
      "299003       operator delete(void*)        0.00  0.00\n",
      "299004       operator delete(void*)        0.00  0.00\n",
      "299005       operator delete(void*)        0.00  0.00\n",
      "299006       operator delete(void*)        0.00  0.00\n",
      "299007       operator delete(void*)        0.00  0.00\n",
      "\n",
      "[6528 rows x 3 columns]\n",
      "Module: libc-2.17.so\n",
      "                         name  time (inc)  time\n",
      "9088    49:__GI___libc_malloc    5,997.00  0.00\n",
      "9089    49:__GI___libc_malloc        0.00  0.00\n",
      "9090    49:__GI___libc_malloc        0.00  0.00\n",
      "9091    49:__GI___libc_malloc        0.00  0.00\n",
      "9092    49:__GI___libc_malloc        0.00  0.00\n",
      "...                       ...         ...   ...\n",
      "299259       __GI___libc_free        0.00  0.00\n",
      "299260       __GI___libc_free        0.00  0.00\n",
      "299261       __GI___libc_free        0.00  0.00\n",
      "299262       __GI___libc_free        0.00  0.00\n",
      "299263       __GI___libc_free        0.00  0.00\n",
      "\n",
      "[21760 rows x 3 columns]\n",
      "Module: libm-2.17.so\n",
      "             name  time (inc)  time\n",
      "47744  __atan_avx        0.00  0.00\n",
      "47745  __atan_avx        0.00  0.00\n",
      "47746  __atan_avx        0.00  0.00\n",
      "47747  __atan_avx        0.00  0.00\n",
      "47748  __atan_avx        0.00  0.00\n",
      "...           ...         ...   ...\n",
      "47867  __atan_avx        0.00  0.00\n",
      "47868  __atan_avx        0.00  0.00\n",
      "47869  __atan_avx        0.00  0.00\n",
      "47870  __atan_avx        0.00  0.00\n",
      "47871  __atan_avx        0.00  0.00\n",
      "\n",
      "[128 rows x 3 columns]\n",
      "Module: libpthread-2.17.so\n",
      "                     name  time (inc)  time\n",
      "139648  pthread_spin_lock        0.00  0.00\n",
      "139649  pthread_spin_lock        0.00  0.00\n",
      "139650  pthread_spin_lock        0.00  0.00\n",
      "139651  pthread_spin_lock        0.00  0.00\n",
      "139652  pthread_spin_lock        0.00  0.00\n",
      "...                   ...         ...   ...\n",
      "200315  pthread_spin_lock        0.00  0.00\n",
      "200316  pthread_spin_lock        0.00  0.00\n",
      "200317  pthread_spin_lock        0.00  0.00\n",
      "200318  pthread_spin_lock        0.00  0.00\n",
      "200319  pthread_spin_lock        0.00  0.00\n",
      "\n",
      "[384 rows x 3 columns]\n",
      "Module: ld-2.17.so\n",
      "                             name  time (inc)  time\n",
      "164864  _dl_runtime_resolve_xsave        0.00  0.00\n",
      "164865  _dl_runtime_resolve_xsave        0.00  0.00\n",
      "164866  _dl_runtime_resolve_xsave        0.00  0.00\n",
      "164867  _dl_runtime_resolve_xsave        0.00  0.00\n",
      "164868  _dl_runtime_resolve_xsave        0.00  0.00\n",
      "...                           ...         ...   ...\n",
      "245883            739:do_lookup_x        0.00  0.00\n",
      "245884            739:do_lookup_x        0.00  0.00\n",
      "245885            739:do_lookup_x        0.00  0.00\n",
      "245886            739:do_lookup_x        0.00  0.00\n",
      "245887            739:do_lookup_x        0.00  0.00\n",
      "\n",
      "[1280 rows x 3 columns]\n",
      "Module: libintlc.so.5\n",
      "                          name  time (inc)  time\n",
      "232576  179:_intel_fast_memcpy        0.00  0.00\n",
      "232577  179:_intel_fast_memcpy        0.00  0.00\n",
      "232578  179:_intel_fast_memcpy        0.00  0.00\n",
      "232579  179:_intel_fast_memcpy        0.00  0.00\n",
      "232580  179:_intel_fast_memcpy        0.00  0.00\n",
      "...                        ...         ...   ...\n",
      "232699  179:_intel_fast_memcpy        0.00  0.00\n",
      "232700  179:_intel_fast_memcpy        0.00  0.00\n",
      "232701  179:_intel_fast_memcpy        0.00  0.00\n",
      "232702  179:_intel_fast_memcpy        0.00  0.00\n",
      "232703  179:_intel_fast_memcpy        0.00  0.00\n",
      "\n",
      "[128 rows x 3 columns]\n"
     ]
    }
   ],
   "source": [
    "modules = states[dataset].entire_df['module'].unique()\n",
    "print(modules)\n",
    "df_modules = states[dataset].df['module'].unique()\n",
    "print(df_modules)\n",
    "for module in modules:\n",
    "    print('Module:', module)\n",
    "    print(states[dataset].entire_df.loc[states[dataset].entire_df['module'] == module][['name','time (inc)', 'time']])"
   ]
  },
  {
   "cell_type": "code",
   "execution_count": 56,
   "metadata": {},
   "outputs": [],
   "source": [
    "new_df = states[dataset].entire_df[states[dataset].entire_df['time (inc)'] > 0]\n",
    "# states['kripke-impi'].entire_df['time (inc)'].hist(bins=5)\n",
    "sorted_time_inc_df = new_df.groupby(['name']).max().sort_values('time (inc)')"
   ]
  },
  {
   "cell_type": "code",
   "execution_count": 55,
   "metadata": {},
   "outputs": [
    {
     "name": "stdout",
     "output_type": "stream",
     "text": [
      "(249, 18)\n",
      "['libmpi.so.12.0.5' 'Unknown(NA)' 'libpsm2.so.2.1' 'libc-2.17.so'\n",
      " 'libstdc++.so.6.0.20' 'kripke' 'libmonitor.so.0.0.0']\n"
     ]
    }
   ],
   "source": [
    "filtered_df = sorted_time_inc_df.loc[sorted_time_inc_df['time (inc)'] > 0.0001*194595257]\n",
    "print(filtered_df.shape)\n",
    "print(filtered_df['module'].unique())"
   ]
  },
  {
   "cell_type": "code",
   "execution_count": 39,
   "metadata": {},
   "outputs": [
    {
     "name": "stdout",
     "output_type": "stream",
     "text": [
      "name  100:MPIDI_CH3_Request_destroy  1014:PMPI_Waitany  1048:MPIC_Isend  \\\n",
      "time                           0.00               0.00             0.00   \n",
      "\n",
      "name  104:operator new(unsigned long)  1058:MPIC_Waitall  \\\n",
      "time                             0.00               0.00   \n",
      "\n",
      "name  106:MPIU_Handle_obj_alloc_unsafe  \\\n",
      "time                              0.00   \n",
      "\n",
      "name  107:MPIDI_CH3I_SHMEM_COLL_Barrier_gather  1081:MPIR_Reduce_MV2  \\\n",
      "time                                      0.00                  0.00   \n",
      "\n",
      "name  1096:MPIR_Reduce_knomial_MV2  111:_dl_lookup_symbol_x     ...      \\\n",
      "time                          0.00                     0.00     ...       \n",
      "\n",
      "name  testany.c:72  testany.c:76  testany.c:80  testany.c:82  testany.c:90  \\\n",
      "time      2,665.16         46.47      3,878.27      5,373.53      3,784.70   \n",
      "\n",
      "name  testany.c:93  testany.c:95  testany.c:97  writev.c:51  wtime.c:48  \n",
      "time      1,213.86      1,168.30      3,879.36     1,060.51       46.73  \n",
      "\n",
      "[1 rows x 784 columns]\n"
     ]
    }
   ],
   "source": [
    "a = new_df.pivot_table(columns='name', values='time')\n",
    "print(a)"
   ]
  },
  {
   "cell_type": "code",
   "execution_count": 46,
   "metadata": {},
   "outputs": [],
   "source": [
    "def find_same_values(df1, df2):\n",
    "    # Write a function that returns modules which actually dont spend time. \n",
    "    return []"
   ]
  },
  {
   "cell_type": "code",
   "execution_count": 80,
   "metadata": {},
   "outputs": [],
   "source": [
    "def drop(df, values):\n",
    "    for value in values:\n",
    "        df = df[df.name != value]\n",
    "    return df"
   ]
  },
  {
   "cell_type": "markdown",
   "metadata": {},
   "source": [
    "# Bland altman plot."
   ]
  },
  {
   "cell_type": "code",
   "execution_count": 75,
   "metadata": {},
   "outputs": [],
   "source": [
    "def bland_altman_plot(df1, df2, col, catcol, *args, **kwargs):\n",
    "    df1 = drop(df1, ['<program root>', 'SweepSolver', 'main'])\n",
    "    df2 = drop(df2, ['<program root>', 'SweepSolver', 'main'])\n",
    "    print(df1['name'].unique())\n",
    "    data1 = np.asarray(df1[col])\n",
    "    data2 = np.asarray(df2[col])\n",
    "    print(len(data1), len(data2))\n",
    "    mean      = np.mean([data1, data2], axis=0)\n",
    "    diff      = data1 - data2                   # Difference between data1 and data2\n",
    "    md        = np.mean(diff)                   # Mean of the difference\n",
    "    sd        = np.std(diff, axis=0)            # Standard deviation of the difference\n",
    "    print(md, sd)\n",
    "#     categories = np.concatenate(np.unique((df1[catcol].tolist()), np.unique(df2[catcol].tolist())), axis=1)\n",
    "    categories = np.unique(df1[catcol].tolist())\n",
    "    colors = cm.rainbow(np.linspace(0, 1, len(categories)))\n",
    "    colordict = dict(zip(categories, colors))\n",
    "\n",
    "    print(colordict)\n",
    "    df1[\"Color\"] = df1[catcol].apply(lambda x: colordict[x])\n",
    "    plt.scatter(mean, diff, c=df1.Color, *args, **kwargs)\n",
    "    plt.axhline(md,           color='gray', linestyle='--')\n",
    "    plt.axhline(md + 1.96*sd, color='gray', linestyle='--')\n",
    "    plt.axhline(md - 1.96*sd, color='gray', linestyle='--')"
   ]
  },
  {
   "cell_type": "code",
   "execution_count": 86,
   "metadata": {},
   "outputs": [
    {
     "name": "stdout",
     "output_type": "stream",
     "text": [
      "<program root> 0.0\n",
      "<unknown file> [kripke]:0 53259631.510416664\n",
      "Kernel_3d_DGZ::LPlusTimes 49452833.2109375\n",
      "Kernel_3d_DGZ::LTimes 50118253.21875\n",
      "Kernel_3d_DGZ::scattering 76616826.7890625\n",
      "Loop@<unknown file> [kripke]:0 0.0\n",
      "SweepSolver 139.859375\n",
      "main 0.0\n",
      "<thread root> 0.0\n",
      "<unknown file> [libpsm2.so.2.1]:0 31897603.0\n",
      "<unknown procedure> 0x213b6 [libpsm2.so.2.1] 0.0\n",
      "<unknown procedure> 0x22654 [libpsm2.so.2.1] 0.0\n",
      "<unknown procedure> 0x238a3 [libpsm2.so.2.1] 0.0\n",
      "<unknown procedure> 0x238d7 [libpsm2.so.2.1] 0.0\n",
      "<unknown procedure> 0x23961 [libpsm2.so.2.1] 0.0\n",
      "__poll_nocancel 0.0\n",
      "syscall-template.S:81 147581046.0\n",
      "['Loop@<unknown file> [kripke]:0' 'Kernel_3d_DGZ::LPlusTimes'\n",
      " '<unknown file> [kripke]:0' 'Kernel_3d_DGZ::LTimes'\n",
      " 'Kernel_3d_DGZ::scattering']\n",
      "2560 2560\n",
      "-5229.940625 204009.8501432944\n",
      "{'<unknown file> [kripke]:0': array([0.5, 0. , 1. , 1. ]), 'Kernel_3d_DGZ::LPlusTimes': array([0.00196078, 0.70928131, 0.92328911, 1.        ]), 'Kernel_3d_DGZ::LTimes': array([0.50392157, 0.99998103, 0.70492555, 1.        ]), 'Kernel_3d_DGZ::scattering': array([1.        , 0.70054304, 0.37841105, 1.        ]), 'Loop@<unknown file> [kripke]:0': array([1.0000000e+00, 1.2246468e-16, 6.1232340e-17, 1.0000000e+00])}\n"
     ]
    },
    {
     "data": {
      "image/png": "[encoded data removed]",
      "text/plain": [
       "<Figure size 1152x864 with 1 Axes>"
      ]
     },
     "metadata": {
      "needs_background": "light"
     },
     "output_type": "display_data"
    }
   ],
   "source": [
    "group_df = states['kripke-impi'].df.groupby(['name'])\n",
    "for idx, g in group_df:\n",
    "    print(idx, g['time'].mean())\n",
    "    \n",
    "group_df = states['kripke-openmpi'].df.groupby(['name'])\n",
    "for idx, g in group_df:\n",
    "    print(idx, g['time'].mean())\n",
    "    \n",
    "bland_altman_plot(states['kripke-impi'].df, states['kripke-mvapich2'].df, 'time', 'name')"
   ]
  },
  {
   "cell_type": "markdown",
   "metadata": {},
   "source": [
    "## Verify topology\n"
   ]
  },
  {
   "cell_type": "code",
   "execution_count": 103,
   "metadata": {},
   "outputs": [],
   "source": [
    "def source_target_to_adj_matrix(arr):\n",
    "    key_map = {}\n",
    "    x_arr = []\n",
    "    for idx, elem in enumerate(arr):\n",
    "        if elem['source'] not in x_arr and elem['source'] not in key_map:\n",
    "            key_map[elem['source']] = len(x_arr)\n",
    "            x_arr.append(elem['source'])\n",
    "        if elem['target'] not in x_arr and elem['target'] not in key_map:\n",
    "            key_map[elem['target']] = len(x_arr)\n",
    "            x_arr.append(elem['target'])\n",
    "            \n",
    "    x, y = len(list(set(x_arr))), len(list(set(x_arr)))\n",
    "    adj_matrix = np.zeros(shape=(x, y))\n",
    "    \n",
    "    for idx, elem in enumerate(arr):\n",
    "        if(elem['source'] != -1):\n",
    "            source_elem_pos = key_map[elem['source']]\n",
    "        if(elem['target'] != -1):\n",
    "            target_elem_pos = key_map[elem['target']]\n",
    "        adj_matrix[source_elem_pos][target_elem_pos] = elem['weight']\n",
    "    return adj_matrix, key_map"
   ]
  },
  {
   "cell_type": "code",
   "execution_count": 104,
   "metadata": {},
   "outputs": [],
   "source": [
    "def module_topology(state, module):\n",
    "    g = state.g\n",
    "    df = state.df\n",
    "    topology = nx.Graph()\n",
    "    nodes = df.loc[df['module'] == module]['name'].unique().tolist()\n",
    "    source_target_data = []\n",
    "    entry_node = nodes[0]\n",
    "    for idx, node in enumerate(nodes):\n",
    "        hierarchy_pd = pd.DataFrame(columns=['source', 'target', 'weight', 'level', 'type'])\n",
    "        print(g)\n",
    "        neighbors = sorted(g[node].items(), key=lambda edge: edge[1]['weight'])\n",
    "        print(neighbors)\n",
    "        for idx, n in enumerate(neighbors):\n",
    "            source_node = node\n",
    "            target_node = n[0]\n",
    "            weight = n[1]['weight']\n",
    "            level = idx\n",
    "            curr_module = state.df[state.df['name'] == n[0]]['module'].unique()[0]\n",
    "            #print(n[0], curr_module)\n",
    "            if(curr_module != module):\n",
    "                type_node = 'exit'\n",
    "                level = -1\n",
    "                #print('{0} is an exit node'.format(n[0]))\n",
    "            else:\n",
    "                type_node = 'normal'\n",
    "            source_target_data.append({\n",
    "                    \"source\": source_node,\n",
    "                    \"target\": target_node,\n",
    "                    \"weight\": weight,\n",
    "                    \"level\": level,\n",
    "                    \"type\": type_node\n",
    "            })\n",
    "    topology_adj_matrix, topology_key_map = source_target_to_adj_matrix(source_target_data)\n",
    "    #hierarchy_adj_matrix[1][1] = 0.0\n",
    "    #print(nx.find_cycle(state.hg, orientation=\"original\"))\n",
    "    #print(nx.is_tree(state.hg))\n",
    "    topology_df = nx.from_numpy_matrix(topology_adj_matrix)\n",
    "    \n",
    "    return topology_df, topology_key_map"
   ]
  },
  {
   "cell_type": "code",
   "execution_count": 105,
   "metadata": {},
   "outputs": [],
   "source": [
    "def draw_hierarchy(state):\n",
    "    pos = hierarchy_pos(state.hierarchy, 1)\n",
    "    nx.draw(state.bfs_tree, pos=pos, with_labels=True)\n",
    "    plt.show()\n",
    "    return source_target_data"
   ]
  },
  {
   "cell_type": "code",
   "execution_count": 87,
   "metadata": {},
   "outputs": [
    {
     "ename": "NameError",
     "evalue": "name 'module_topology' is not defined",
     "output_type": "error",
     "traceback": [
      "\u001b[0;31m---------------------------------------------------------------------------\u001b[0m",
      "\u001b[0;31mNameError\u001b[0m                                 Traceback (most recent call last)",
      "\u001b[0;32m<ipython-input-87-b6d8686fde4f>\u001b[0m in \u001b[0;36m<module>\u001b[0;34m\u001b[0m\n\u001b[1;32m      9\u001b[0m             \u001b[0mprint\u001b[0m\u001b[0;34m(\u001b[0m\u001b[0mkey\u001b[0m\u001b[0;34m,\u001b[0m \u001b[0mkeymap\u001b[0m\u001b[0;34m[\u001b[0m\u001b[0mkey\u001b[0m\u001b[0;34m]\u001b[0m\u001b[0;34m,\u001b[0m \u001b[0mstate\u001b[0m\u001b[0;34m.\u001b[0m\u001b[0mdf\u001b[0m\u001b[0;34m[\u001b[0m\u001b[0mstate\u001b[0m\u001b[0;34m.\u001b[0m\u001b[0mdf\u001b[0m\u001b[0;34m[\u001b[0m\u001b[0;34m'name'\u001b[0m\u001b[0;34m]\u001b[0m \u001b[0;34m==\u001b[0m \u001b[0mkey\u001b[0m\u001b[0;34m]\u001b[0m\u001b[0;34m[\u001b[0m\u001b[0;34m'module'\u001b[0m\u001b[0;34m]\u001b[0m\u001b[0;34m.\u001b[0m\u001b[0mtolist\u001b[0m\u001b[0;34m(\u001b[0m\u001b[0;34m)\u001b[0m\u001b[0;34m[\u001b[0m\u001b[0;36m0\u001b[0m\u001b[0;34m]\u001b[0m\u001b[0;34m)\u001b[0m\u001b[0;34m\u001b[0m\u001b[0;34m\u001b[0m\u001b[0m\n\u001b[1;32m     10\u001b[0m \u001b[0;34m\u001b[0m\u001b[0m\n\u001b[0;32m---> 11\u001b[0;31m \u001b[0mverify_topology\u001b[0m\u001b[0;34m(\u001b[0m\u001b[0mstates\u001b[0m\u001b[0;34m)\u001b[0m\u001b[0;34m\u001b[0m\u001b[0;34m\u001b[0m\u001b[0m\n\u001b[0m",
      "\u001b[0;32m<ipython-input-87-b6d8686fde4f>\u001b[0m in \u001b[0;36mverify_topology\u001b[0;34m(states)\u001b[0m\n\u001b[1;32m      3\u001b[0m     \u001b[0mmodule\u001b[0m \u001b[0;34m=\u001b[0m \u001b[0;34m'Unkno'\u001b[0m\u001b[0;34m\u001b[0m\u001b[0;34m\u001b[0m\u001b[0m\n\u001b[1;32m      4\u001b[0m     \u001b[0;32mfor\u001b[0m \u001b[0midx\u001b[0m\u001b[0;34m,\u001b[0m \u001b[0mstate\u001b[0m \u001b[0;32min\u001b[0m \u001b[0menumerate\u001b[0m\u001b[0;34m(\u001b[0m\u001b[0mstates\u001b[0m\u001b[0;34m)\u001b[0m\u001b[0;34m:\u001b[0m\u001b[0;34m\u001b[0m\u001b[0;34m\u001b[0m\u001b[0m\n\u001b[0;32m----> 5\u001b[0;31m         \u001b[0mstate\u001b[0m\u001b[0;34m.\u001b[0m\u001b[0mhierarchy\u001b[0m\u001b[0;34m,\u001b[0m \u001b[0mkeymap\u001b[0m \u001b[0;34m=\u001b[0m \u001b[0mmodule_topology\u001b[0m\u001b[0;34m(\u001b[0m\u001b[0mstate\u001b[0m\u001b[0;34m,\u001b[0m \u001b[0mmodule\u001b[0m\u001b[0;34m)\u001b[0m\u001b[0;34m\u001b[0m\u001b[0;34m\u001b[0m\u001b[0m\n\u001b[0m\u001b[1;32m      6\u001b[0m         \u001b[0mprint\u001b[0m\u001b[0;34m(\u001b[0m\u001b[0mstate\u001b[0m\u001b[0;34m.\u001b[0m\u001b[0mhierarchy\u001b[0m\u001b[0;34m.\u001b[0m\u001b[0mnodes\u001b[0m\u001b[0;34m(\u001b[0m\u001b[0;34m)\u001b[0m\u001b[0;34m)\u001b[0m\u001b[0;34m\u001b[0m\u001b[0;34m\u001b[0m\u001b[0m\n\u001b[1;32m      7\u001b[0m         \u001b[0mprint\u001b[0m\u001b[0;34m(\u001b[0m\u001b[0mstate\u001b[0m\u001b[0;34m.\u001b[0m\u001b[0mhierarchy\u001b[0m\u001b[0;34m.\u001b[0m\u001b[0medges\u001b[0m\u001b[0;34m(\u001b[0m\u001b[0;34m)\u001b[0m\u001b[0;34m)\u001b[0m\u001b[0;34m\u001b[0m\u001b[0;34m\u001b[0m\u001b[0m\n",
      "\u001b[0;31mNameError\u001b[0m: name 'module_topology' is not defined"
     ]
    }
   ],
   "source": [
    "def verify_topology(states):\n",
    "#     module = 'libmonitor.so.0.0.0'\n",
    "    module = 'Unkno'\n",
    "    for idx, state in enumerate(states):\n",
    "        state.hierarchy, keymap = module_topology(state, module)\n",
    "        print(state.hierarchy.nodes())\n",
    "        print(state.hierarchy.edges())\n",
    "        for idx, key in enumerate(keymap):\n",
    "            print(key, keymap[key], state.df[state.df['name'] == key]['module'].tolist()[0])\n",
    "\n",
    "verify_topology(states)"
   ]
  },
  {
   "cell_type": "code",
   "execution_count": 112,
   "metadata": {},
   "outputs": [
    {
     "name": "stdout",
     "output_type": "stream",
     "text": [
      "['<unknown load module>' 'Unkno' 'libmonitor.so.0.0.0' 'kripke'\n",
      " 'libmpi.so.12.0.0' 'libfabric.so.1.9.14' 'libpsm2.so.2.1' 'ld-2.17.so'\n",
      " 'libstdc++.so.6.0.20' 'libc-2.17.so' 'libm-2.17.so']\n"
     ]
    }
   ],
   "source": [
    "print(states[0].entire_df['module'].unique())"
   ]
  },
  {
   "cell_type": "markdown",
   "metadata": {},
   "source": [
    "## Flow Matrix computation"
   ]
  },
  {
   "cell_type": "code",
   "execution_count": 88,
   "metadata": {},
   "outputs": [],
   "source": [
    "def create_flow_matrix(state, module):\n",
    "    g = state.g\n",
    "    all_nodes = g.nodes(data=True)\n",
    "    nodes = [x for x,y in g.nodes(data=True) if y['module'] == [module]]\n",
    "    # nodesInModule = filter(lambda (n, d): d['module'] == start_node, g.nodes(data=True))\n",
    "    state.nodeKey = {}\n",
    "    for idx, node in enumerate(all_nodes):\n",
    "        state.nodeKey[node[0]] = idx\n",
    "    \n",
    "    flow_matrix = np.zeros(shape=(len(all_nodes),len(all_nodes)))\n",
    "    flow_matrix.astype(float)\n",
    "    print(nodes)\n",
    "    root_inc = g.node[nodes[0]]['time (inc)']\n",
    "    \n",
    "    for idx, node in enumerate(nodes):\n",
    "        neighbors = sorted(g[node].items(), key=lambda edge: edge[1]['weight'])\n",
    "        for idx, n in enumerate(neighbors):\n",
    "            sourceKey = int(state.nodeKey[node])\n",
    "#            print(state.df[state.df['node' == n[0]]])\n",
    "            targetKey = int(state.nodeKey[n[0]])\n",
    "            weight = n[1]['weight']\n",
    "            flow_matrix[sourceKey][targetKey] = n[1]['weight']/(1.0*root_inc)\n",
    "    return flow_matrix"
   ]
  },
  {
   "cell_type": "code",
   "execution_count": 93,
   "metadata": {},
   "outputs": [
    {
     "name": "stdout",
     "output_type": "stream",
     "text": [
      "['main', 'SweepSolver', 'Kernel_3d_DGZ::LPlusTimes', 'Kernel_3d_DGZ::LTimes', 'Kernel_3d_DGZ::scattering']\n",
      "['main', 'SweepSolver', 'Kernel_3d_DGZ::LPlusTimes', 'Kernel_3d_DGZ::LTimes', 'Kernel_3d_DGZ::scattering']\n",
      "[]\n"
     ]
    },
    {
     "ename": "IndexError",
     "evalue": "list index out of range",
     "output_type": "error",
     "traceback": [
      "\u001b[0;31m---------------------------------------------------------------------------\u001b[0m",
      "\u001b[0;31mIndexError\u001b[0m                                Traceback (most recent call last)",
      "\u001b[0;32m<ipython-input-93-db760ee6f73e>\u001b[0m in \u001b[0;36m<module>\u001b[0;34m\u001b[0m\n\u001b[1;32m      1\u001b[0m \u001b[0mmodule\u001b[0m \u001b[0;34m=\u001b[0m \u001b[0;34m'kripke'\u001b[0m\u001b[0;34m\u001b[0m\u001b[0;34m\u001b[0m\u001b[0m\n\u001b[1;32m      2\u001b[0m \u001b[0;32mfor\u001b[0m \u001b[0midx\u001b[0m\u001b[0;34m,\u001b[0m \u001b[0mstate\u001b[0m \u001b[0;32min\u001b[0m \u001b[0menumerate\u001b[0m\u001b[0;34m(\u001b[0m\u001b[0mstates\u001b[0m\u001b[0;34m)\u001b[0m\u001b[0;34m:\u001b[0m\u001b[0;34m\u001b[0m\u001b[0;34m\u001b[0m\u001b[0m\n\u001b[0;32m----> 3\u001b[0;31m     \u001b[0mstates\u001b[0m\u001b[0;34m[\u001b[0m\u001b[0mstate\u001b[0m\u001b[0;34m]\u001b[0m\u001b[0;34m.\u001b[0m\u001b[0mflow_matrix\u001b[0m \u001b[0;34m=\u001b[0m \u001b[0mcreate_flow_matrix\u001b[0m\u001b[0;34m(\u001b[0m\u001b[0mstates\u001b[0m\u001b[0;34m[\u001b[0m\u001b[0mstate\u001b[0m\u001b[0;34m]\u001b[0m\u001b[0;34m,\u001b[0m \u001b[0mmodule\u001b[0m\u001b[0;34m)\u001b[0m\u001b[0;34m\u001b[0m\u001b[0;34m\u001b[0m\u001b[0m\n\u001b[0m\u001b[1;32m      4\u001b[0m     \u001b[0mplt\u001b[0m\u001b[0;34m.\u001b[0m\u001b[0mmatshow\u001b[0m\u001b[0;34m(\u001b[0m\u001b[0mstates\u001b[0m\u001b[0;34m[\u001b[0m\u001b[0mstate\u001b[0m\u001b[0;34m]\u001b[0m\u001b[0;34m.\u001b[0m\u001b[0mflow_matrix\u001b[0m\u001b[0;34m)\u001b[0m\u001b[0;34m\u001b[0m\u001b[0;34m\u001b[0m\u001b[0m\n\u001b[1;32m      5\u001b[0m \u001b[0;31m#     np.append(np_flow_matrix, state.flow_matrix)\u001b[0m\u001b[0;34m\u001b[0m\u001b[0;34m\u001b[0m\u001b[0;34m\u001b[0m\u001b[0m\n",
      "\u001b[0;32m<ipython-input-88-7240750354fb>\u001b[0m in \u001b[0;36mcreate_flow_matrix\u001b[0;34m(state, module)\u001b[0m\n\u001b[1;32m     11\u001b[0m     \u001b[0mflow_matrix\u001b[0m\u001b[0;34m.\u001b[0m\u001b[0mastype\u001b[0m\u001b[0;34m(\u001b[0m\u001b[0mfloat\u001b[0m\u001b[0;34m)\u001b[0m\u001b[0;34m\u001b[0m\u001b[0;34m\u001b[0m\u001b[0m\n\u001b[1;32m     12\u001b[0m     \u001b[0mprint\u001b[0m\u001b[0;34m(\u001b[0m\u001b[0mnodes\u001b[0m\u001b[0;34m)\u001b[0m\u001b[0;34m\u001b[0m\u001b[0;34m\u001b[0m\u001b[0m\n\u001b[0;32m---> 13\u001b[0;31m     \u001b[0mroot_inc\u001b[0m \u001b[0;34m=\u001b[0m \u001b[0mg\u001b[0m\u001b[0;34m.\u001b[0m\u001b[0mnode\u001b[0m\u001b[0;34m[\u001b[0m\u001b[0mnodes\u001b[0m\u001b[0;34m[\u001b[0m\u001b[0;36m0\u001b[0m\u001b[0;34m]\u001b[0m\u001b[0;34m]\u001b[0m\u001b[0;34m[\u001b[0m\u001b[0;34m'time (inc)'\u001b[0m\u001b[0;34m]\u001b[0m\u001b[0;34m\u001b[0m\u001b[0;34m\u001b[0m\u001b[0m\n\u001b[0m\u001b[1;32m     14\u001b[0m \u001b[0;34m\u001b[0m\u001b[0m\n\u001b[1;32m     15\u001b[0m     \u001b[0;32mfor\u001b[0m \u001b[0midx\u001b[0m\u001b[0;34m,\u001b[0m \u001b[0mnode\u001b[0m \u001b[0;32min\u001b[0m \u001b[0menumerate\u001b[0m\u001b[0;34m(\u001b[0m\u001b[0mnodes\u001b[0m\u001b[0;34m)\u001b[0m\u001b[0;34m:\u001b[0m\u001b[0;34m\u001b[0m\u001b[0;34m\u001b[0m\u001b[0m\n",
      "\u001b[0;31mIndexError\u001b[0m: list index out of range"
     ]
    },
    {
     "data": {
      "image/png": "[encoded data removed]",
      "text/plain": [
       "<Figure size 864x864 with 1 Axes>"
      ]
     },
     "metadata": {
      "needs_background": "light"
     },
     "output_type": "display_data"
    },
    {
     "data": {
      "image/png": "[encoded data removed]",
      "text/plain": [
       "<Figure size 864x864 with 1 Axes>"
      ]
     },
     "metadata": {
      "needs_background": "light"
     },
     "output_type": "display_data"
    }
   ],
   "source": [
    "module = 'kripke'\n",
    "for idx, state in enumerate(states):\n",
    "    states[state].flow_matrix = create_flow_matrix(states[state], module)\n",
    "    plt.matshow(state[state].flow_matrix)\n",
    "#     np.append(np_flow_matrix, state.flow_matrix)\n",
    "fm = np.array([states['kripke-impi'].flow_matrix, states['kripke-mvapich2'].flow_matrix])"
   ]
  },
  {
   "cell_type": "markdown",
   "metadata": {},
   "source": [
    "## Plot histogram"
   ]
  },
  {
   "cell_type": "code",
   "execution_count": 94,
   "metadata": {},
   "outputs": [],
   "source": [
    "def histogram(variable):\n",
    "    n_bins = 2\n",
    "    N, bins, patches = plt.hist(variable, bins=n_bins)\n",
    "    #fracs = N / N.max()\n",
    "    #norm = colors.Normalize(fracs.min(), fracs.max())\n",
    "    #for thisfrac, thispatch in zip(fracs, patches):\n",
    "    #    color = plt.cm.viridis(norm(thisfrac))\n",
    "    #    thispatch.set_facecolor(color)\n",
    "    #plt.yaxis.set_major_formatter(PercentFormatter(xmax=1))"
   ]
  },
  {
   "cell_type": "markdown",
   "metadata": {},
   "source": [
    "## Calculate Spatial distance between each node in the flow matrix"
   ]
  },
  {
   "cell_type": "code",
   "execution_count": 95,
   "metadata": {},
   "outputs": [
    {
     "ename": "NameError",
     "evalue": "name 'fm' is not defined",
     "output_type": "error",
     "traceback": [
      "\u001b[0;31m---------------------------------------------------------------------------\u001b[0m",
      "\u001b[0;31mNameError\u001b[0m                                 Traceback (most recent call last)",
      "\u001b[0;32m<ipython-input-95-1d939ab4ffc9>\u001b[0m in \u001b[0;36m<module>\u001b[0;34m\u001b[0m\n\u001b[1;32m      1\u001b[0m \u001b[0mS\u001b[0m \u001b[0;34m=\u001b[0m \u001b[0mlen\u001b[0m\u001b[0;34m(\u001b[0m\u001b[0mstates\u001b[0m\u001b[0;34m)\u001b[0m\u001b[0;34m\u001b[0m\u001b[0;34m\u001b[0m\u001b[0m\n\u001b[0;32m----> 2\u001b[0;31m \u001b[0mprint\u001b[0m\u001b[0;34m(\u001b[0m\u001b[0mfm\u001b[0m\u001b[0;34m)\u001b[0m\u001b[0;34m\u001b[0m\u001b[0;34m\u001b[0m\u001b[0m\n\u001b[0m\u001b[1;32m      3\u001b[0m \u001b[0;34m\u001b[0m\u001b[0m\n\u001b[1;32m      4\u001b[0m \u001b[0mn_samples\u001b[0m \u001b[0;34m=\u001b[0m \u001b[0;36m40\u001b[0m\u001b[0;34m\u001b[0m\u001b[0;34m\u001b[0m\u001b[0m\n\u001b[1;32m      5\u001b[0m \u001b[0mns\u001b[0m \u001b[0;34m=\u001b[0m \u001b[0;34m[\u001b[0m\u001b[0mlen\u001b[0m\u001b[0;34m(\u001b[0m\u001b[0mfm\u001b[0m\u001b[0;34m[\u001b[0m\u001b[0ms\u001b[0m\u001b[0;34m]\u001b[0m\u001b[0;34m)\u001b[0m \u001b[0;32mfor\u001b[0m \u001b[0ms\u001b[0m \u001b[0;32min\u001b[0m \u001b[0mrange\u001b[0m\u001b[0;34m(\u001b[0m\u001b[0mS\u001b[0m\u001b[0;34m)\u001b[0m\u001b[0;34m]\u001b[0m\u001b[0;34m\u001b[0m\u001b[0;34m\u001b[0m\u001b[0m\n",
      "\u001b[0;31mNameError\u001b[0m: name 'fm' is not defined"
     ]
    }
   ],
   "source": [
    "S = len(states)\n",
    "print(fm)\n",
    "\n",
    "n_samples = 40\n",
    "ns = [len(fm[s]) for s in range(S)]\n",
    "\n",
    "Cs = [sp.spatial.distance.cdist(fm[s], fm[s]) for s in range(S)]\n",
    "Cs = [cs / cs.max() for cs in Cs]\n",
    "\n",
    "ps = [ot.unif(ns[s]) for s in range(S)]\n",
    "p = ot.unif(n_samples)\n",
    "\n",
    "histogram(ns)"
   ]
  },
  {
   "cell_type": "code",
   "execution_count": 107,
   "metadata": {},
   "outputs": [
    {
     "data": {
      "image/png": "[encoded data removed]",
      "text/plain": [
       "<Figure size 1152x864 with 1 Axes>"
      ]
     },
     "metadata": {
      "needs_background": "light"
     },
     "output_type": "display_data"
    }
   ],
   "source": [
    "histogram(ps)"
   ]
  },
  {
   "cell_type": "markdown",
   "metadata": {},
   "source": [
    "## Gromov wassertstein barycenter calculation\n",
    "\n",
    "By barycenter they mean the design of an “average” or barycenter of similarity matrices."
   ]
  },
  {
   "cell_type": "code",
   "execution_count": 108,
   "metadata": {},
   "outputs": [],
   "source": [
    "def plot(variable):\n",
    "    plt.plot(variable[0], variable[1], 'o', label=str(variable))\n",
    "    plt.show()"
   ]
  },
  {
   "cell_type": "code",
   "execution_count": 96,
   "metadata": {},
   "outputs": [],
   "source": [
    "def smacof_mds(C, dim, max_iter=3000, eps=1e-9):\n",
    "    \"\"\"\n",
    "    Returns an interpolated point cloud following the dissimilarity matrix C\n",
    "    using SMACOF multidimensional scaling (MDS) in specific dimensionned\n",
    "    target space\n",
    "\n",
    "    Parameters\n",
    "    ----------\n",
    "    C : ndarray, shape (ns, ns)\n",
    "        dissimilarity matrix\n",
    "    dim : int\n",
    "          dimension of the targeted space\n",
    "    max_iter :  int\n",
    "        Maximum number of iterations of the SMACOF algorithm for a single run\n",
    "    eps : float\n",
    "        relative tolerance w.r.t stress to declare converge\n",
    "\n",
    "    Returns\n",
    "    -------\n",
    "    npos : ndarray, shape (R, dim)\n",
    "           Embedded coordinates of the interpolated point cloud (defined with\n",
    "           one isometry)\n",
    "    \"\"\"\n",
    "\n",
    "    rng = np.random.RandomState(seed=3)\n",
    "\n",
    "    mds = manifold.MDS(\n",
    "        dim,\n",
    "        max_iter=max_iter,\n",
    "        eps=1e-9,\n",
    "        dissimilarity='precomputed',\n",
    "        \n",
    "        n_init=1)\n",
    "    pos = mds.fit(C).embedding_\n",
    "\n",
    "    nmds = manifold.MDS(\n",
    "        2,\n",
    "        max_iter=max_iter,\n",
    "        eps=1e-9,\n",
    "        dissimilarity=\"precomputed\",\n",
    "        random_state=rng,\n",
    "        n_init=1)\n",
    "    npos = nmds.fit_transform(C, init=pos)\n",
    "\n",
    "    return npos"
   ]
  },
  {
   "cell_type": "code",
   "execution_count": 110,
   "metadata": {},
   "outputs": [],
   "source": [
    "lambdast = [[float(i) / 3, float(3 - i) / 3] for i in [1, 2]]\n",
    "Ct01 = [0 for i in range(2)]\n",
    "for i in range(S):\n",
    "    Ct01[i] = ot.gromov.gromov_barycenters(n_samples, [Cs[0], Cs[1]],\n",
    "                                           [ps[0], ps[1]\n",
    "                                            ], p, lambdast[i], 'square_loss',  # 5e-4,\n",
    "                                           max_iter=100, tol=1e-9)"
   ]
  },
  {
   "cell_type": "code",
   "execution_count": 111,
   "metadata": {
    "scrolled": false
   },
   "outputs": [],
   "source": [
    "clf = PCA(n_components=2)\n",
    "npos = [0, 0]\n",
    "npos = [smacof_mds(Cs[s], 2) for s in range(S)]\n",
    "\n",
    "npost01 = [0, 0]\n",
    "npost01 = [smacof_mds(Ct01[s], 2) for s in range(2)]\n",
    "npost01 = [clf.fit_transform(npost01[s]) for s in range(2)] "
   ]
  },
  {
   "cell_type": "code",
   "execution_count": null,
   "metadata": {},
   "outputs": [],
   "source": []
  },
  {
   "cell_type": "code",
   "execution_count": 112,
   "metadata": {},
   "outputs": [
    {
     "data": {
      "image/png": "[encoded data removed]",
      "text/plain": [
       "<Figure size 1152x864 with 1 Axes>"
      ]
     },
     "metadata": {
      "needs_background": "light"
     },
     "output_type": "display_data"
    }
   ],
   "source": [
    "plot(Ct01)"
   ]
  },
  {
   "cell_type": "code",
   "execution_count": 113,
   "metadata": {},
   "outputs": [
    {
     "data": {
      "image/png": "[encoded data removed]",
      "text/plain": [
       "<Figure size 1152x864 with 1 Axes>"
      ]
     },
     "metadata": {
      "needs_background": "light"
     },
     "output_type": "display_data"
    }
   ],
   "source": [
    "plot(npost01)"
   ]
  },
  {
   "cell_type": "code",
   "execution_count": 114,
   "metadata": {},
   "outputs": [
    {
     "name": "stdout",
     "output_type": "stream",
     "text": [
      "40\n"
     ]
    },
    {
     "data": {
      "text/plain": [
       "<matplotlib.collections.PathCollection at 0x1a20d08550>"
      ]
     },
     "execution_count": 114,
     "metadata": {},
     "output_type": "execute_result"
    },
    {
     "data": {
      "image/png": "[encoded data removed]",
      "text/plain": [
       "<Figure size 720x720 with 1 Axes>"
      ]
     },
     "metadata": {
      "needs_background": "light"
     },
     "output_type": "display_data"
    }
   ],
   "source": [
    "nx01min = npos[0][0][0]\n",
    "nx01max = npos[0][0][0]\n",
    "ny01min = npos[0][1][1]\n",
    "ny01max = npos[0][1][1]\n",
    "\n",
    "nx02min = npos[1][0][0]\n",
    "nx02max = npos[1][0][0]\n",
    "ny02min = npos[1][1][1]\n",
    "ny02max = npos[1][1][1]\n",
    "\n",
    "for idx, arr in enumerate(npos):\n",
    "    if arr[0][0] < nx01min:\n",
    "        nx01min = arr[0][0]\n",
    "    else:\n",
    "        pass\n",
    "    \n",
    "    if arr[0][1] > nx01max:\n",
    "        nx01max = arr[0][1]\n",
    "    else:\n",
    "        pass\n",
    "    \n",
    "    if arr[1][0] < ny01min:\n",
    "        ny01min = arr[1][0]\n",
    "    else:\n",
    "        pass\n",
    "    \n",
    "    if arr[1][1] > ny01max:\n",
    "        ny01max = arr[1][1]\n",
    "    else:\n",
    "        pass\n",
    "\n",
    "\n",
    "for idx, arr in enumerate(npost01):\n",
    "    if arr[0][0] < nx02min:\n",
    "        nx02min = arr[0][0]\n",
    "    else:\n",
    "        pass\n",
    "    \n",
    "    if arr[0][1] > nx02max:\n",
    "        nx02max = arr[0][1]\n",
    "    else:\n",
    "        pass\n",
    "    \n",
    "    if arr[1][0] < ny02min:\n",
    "        ny02min = arr[1][0]\n",
    "    else:\n",
    "        pass\n",
    "    \n",
    "    if arr[1][1] > ny02max:\n",
    "        ny02max = arr[1][1]\n",
    "    else:\n",
    "        pass\n",
    "\n",
    "fig = plt.figure(figsize=(10, 10))\n",
    "\n",
    "x1 = []\n",
    "y1 = []\n",
    "for idx, val in enumerate(npost01[0]):\n",
    "    x1.append(val[0])\n",
    "    y1.append(val[1])\n",
    "    \n",
    "x2 = []\n",
    "y2 = []\n",
    "for idx, val in enumerate(npost01[1]):\n",
    "    x2.append(val[0])\n",
    "    y2.append(val[1])\n",
    "\n",
    "x1 = np.asarray(x1)\n",
    "x2 = np.asarray(x2)\n",
    "y1 = np.asarray(y1)\n",
    "y2 = np.asarray(y2)\n",
    "\n",
    "print(len(x1))\n",
    "plt.scatter(x1, y1, color='b')\n",
    "plt.scatter(x2, y2, color='r')"
   ]
  },
  {
   "cell_type": "code",
   "execution_count": null,
   "metadata": {},
   "outputs": [],
   "source": [
    "def draw_graph(state, module):\n",
    "    g = state.g\n",
    "    hierarchy = nx.Graph()\n",
    "    source_target_data = []\n",
    "    nodes = [x for x,y in g.nodes(data=True) if y['module'] == [module]]\n",
    "    node = nodes[0]\n",
    "    for idx, node in enumerate(nodes):\n",
    "        hierarchy_pd = pd.DataFrame(columns=['source', 'target', 'weight', 'level', 'type'])\n",
    "        neighbors = sorted(g[node].items(), key=lambda edge: edge[1]['weight'])\n",
    "        for idx, n in enumerate(neighbors):\n",
    "            #print(\"source: {0}, target: {1}\".format(node, n[0]))\n",
    "            source_node = node\n",
    "            target_node = n[0]\n",
    "            weight = n[1]['weight']\n",
    "            level = idx\n",
    "            if(state.df[state.df['name'] == n[0]]['module'].unique()[0] != module):\n",
    "                type_node = 'exit'\n",
    "                level = -1\n",
    "                print('{0} is an exit node'.format(n[0]))\n",
    "            else:\n",
    "                type_node = 'normal'\n",
    "            source_target_data.append({\n",
    "                \"source\": source_node,\n",
    "                \"target\": target_node,\n",
    "                \"weight\": weight,\n",
    "                \"level\": level,\n",
    "                \"type\": type_node\n",
    "            })\n",
    "    hierarchy_df = pd.DataFrame.from_dict(source_target_data)\n",
    "    print(hierarchy_df.shape)\n",
    "    hierarchy_adjacency = source_target_to_adj_matrix(source_target_data)\n",
    "    state.hg = nx.from_numpy_matrix(hierarchy_adjacency)\n",
    "    pos = hierarchy_pos(state.hg, 1)\n",
    "    nx.draw(state.hg, pos=pos, with_labels=True)\n",
    "    plt.show()\n",
    "\n",
    "draw_graph(states[0], 'lulesh2.0')"
   ]
  },
  {
   "cell_type": "code",
   "execution_count": null,
   "metadata": {},
   "outputs": [],
   "source": [
    "def get_adjcency(nodelist):\n",
    "    x_pd = nx.to_pandas_adjacency(g, nodelist=nodes, dtype=int)   "
   ]
  },
  {
   "cell_type": "code",
   "execution_count": null,
   "metadata": {},
   "outputs": [],
   "source": [
    "def hierarchy_pos(G, root=None, width=1., vert_gap = 0.2, vert_loc = 0, xcenter = 0.5):\n",
    "\n",
    "    '''\n",
    "    From Joel's answer at https://stackoverflow.com/a/29597209/2966723 \n",
    "\n",
    "    If the graph is a tree this will return the positions to plot this in a \n",
    "    hierarchical layout.\n",
    "\n",
    "    G: the graph (must be a tree)\n",
    "\n",
    "    root: the root node of current branch \n",
    "    - if the tree is directed and this is not given, the root will be found and used\n",
    "    - if the tree is directed and this is given, then the positions will be just for the descendants of this node.\n",
    "    - if the tree is undirected and not given, then a random choice will be used.\n",
    "\n",
    "    width: horizontal space allocated for this branch - avoids overlap with other branches\n",
    "\n",
    "    vert_gap: gap between levels of hierarchy\n",
    "\n",
    "    vert_loc: vertical location of root\n",
    "\n",
    "    xcenter: horizontal location of root\n",
    "    '''\n",
    "    #if not nx.is_tree(G):\n",
    "     #   raise TypeError('cannot use hierarchy_pos on a graph that is not a tree')\n",
    "\n",
    "    if root is None:\n",
    "        if isinstance(G, nx.DiGraph):\n",
    "            root = next(iter(nx.topological_sort(G)))  #allows back compatibility with nx version 1.11\n",
    "        else:\n",
    "            root = random.choice(list(G.nodes))\n",
    "\n",
    "    def _hierarchy_pos(G, root, width=1., vert_gap = 0.2, vert_loc = 0, xcenter = 0.5, pos = None, parent = None):\n",
    "        '''\n",
    "        see hierarchy_pos docstring for most arguments\n",
    "\n",
    "        pos: a dict saying where all nodes go if they have been assigned\n",
    "        parent: parent of this branch. - only affects it if non-directed\n",
    "\n",
    "        '''\n",
    "        print(root)\n",
    "        if pos is None:\n",
    "            pos = {root:(xcenter,vert_loc)}\n",
    "        else:\n",
    "            pos[root] = (xcenter, vert_loc)\n",
    "        children = list(G.neighbors(root))\n",
    "        if not isinstance(G, nx.DiGraph) and parent is not None:\n",
    "            children.remove(parent)  \n",
    "        if len(children)!=0:\n",
    "            dx = width/len(children) \n",
    "            nextx = xcenter - width/2 - dx/2\n",
    "            for child in children:\n",
    "                nextx += dx\n",
    "                pos = _hierarchy_pos(G,child, width = dx, vert_gap = vert_gap, \n",
    "                                    vert_loc = vert_loc-vert_gap, xcenter=nextx,\n",
    "                                    pos=pos, parent = root)\n",
    "        return pos\n",
    "\n",
    "\n",
    "    return _hierarchy_pos(G, root, width, vert_gap, vert_loc, xcenter)"
   ]
  }
 ],
 "metadata": {
  "kernelspec": {
   "display_name": "Python 3",
   "language": "python",
   "name": "python3"
  },
  "language_info": {
   "codemirror_mode": {
    "name": "ipython",
    "version": 3
   },
   "file_extension": ".py",
   "mimetype": "text/x-python",
   "name": "python",
   "nbconvert_exporter": "python",
   "pygments_lexer": "ipython3",
   "version": "3.6.8"
  }
 },
 "nbformat": 4,
 "nbformat_minor": 2
}
