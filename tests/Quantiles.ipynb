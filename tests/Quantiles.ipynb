{
 "cells": [
  {
   "cell_type": "code",
   "execution_count": 2,
   "metadata": {},
   "outputs": [],
   "source": [
    "import pandas as pd\n",
    "import numpy as np\n",
    "import matplotlib.pyplot as plt"
   ]
  },
  {
   "cell_type": "code",
   "execution_count": 3,
   "metadata": {},
   "outputs": [],
   "source": [
    "%matplotlib inline"
   ]
  },
  {
   "cell_type": "code",
   "execution_count": 8,
   "metadata": {},
   "outputs": [
    {
     "name": "stdout",
     "output_type": "stream",
     "text": [
      "['<unknown load module>' nan\n",
      " '/collab/usr/global/tools/hpctoolkit/toss_3_x86_64_ib/2019-02-26/packages/linux-rhel7-x86_64/gcc-4.9.3/hpctoolkit-develop-szfcj5uplk66ruwembpihb7kexoonoti/lib/hpctoolkit/ext-libs/libmonitor.so.0.0.0'\n",
      " '/g/g92/bhatele1/llnl/hpctoolkit/Kripke/build-impi/kripke'\n",
      " '/usr/tce/packages/impi/impi-2019.0/compilers_and_libraries_2019.0.117/linux/mpi/intel64/lib/release/libmpi.so.12.0.0'\n",
      " '/usr/lib64/libfabric.so.1.9.14' '/usr/lib64/libpsm2.so.2.1'\n",
      " '/usr/lib64/ld-2.17.so'\n",
      " '/usr/tce/packages/gcc/gcc-4.9.3/lib64/libstdc++.so.6.0.20'\n",
      " '/usr/lib64/libc-2.17.so' '/usr/lib64/libm-2.17.so']\n"
     ]
    }
   ],
   "source": [
    "path = \"/home/vidi/Work/llnl/CallFlow/data/kripke/\"\n",
    "datasets = ['impi', 'mvapich2']\n",
    "\n",
    "files = {}\n",
    "df_file = 'entire_df.csv'\n",
    "for dataset in datasets:\n",
    "    files[dataset] = path + dataset + '/' + df_file\n",
    "    \n",
    "dfs = {}\n",
    "for idx, dataset in enumerate(files):\n",
    "    dfs[dataset] = pd.read_csv(files[dataset])\n",
    "\n",
    "set1 = datasets[0]\n",
    "set2 = datasets[1]\n",
    "\n",
    "\n",
    "print(dfs[set1]['module'].unique())"
   ]
  },
  {
   "cell_type": "code",
   "execution_count": 17,
   "metadata": {},
   "outputs": [
    {
     "name": "stdout",
     "output_type": "stream",
     "text": [
      "{'/collab/usr/global/tools/hpctoolkit/toss_3_x86_64_ib/2019-02-26/packages/linux-rhel7-x86_64/gcc-4.9.3/hpctoolkit-develop-szfcj5uplk66ruwembpihb7kexoonoti/lib/hpctoolkit/ext-libs/libmonitor.so.0.0.0': Empty DataFrame\n",
      "Columns: []\n",
      "Index: [0, 1, 2, 3, 4, 5, 6, 7, 8, 9, 10, 11, 12, 13, 14, 15, 16, 17, 18, 19, 20, 21, 22, 23, 24, 25, 26, 27, 28, 29, 30, 31, 32, 33, 34, 35, 36, 37, 38, 39, 40, 41, 42, 43, 44, 45, 46, 47, 48, 49, 50, 51, 52, 53, 54, 55, 56, 57, 58, 59, 60, 61, 62, 63, 64, 65, 66, 67, 68, 69, 70, 71, 72, 73, 74, 75, 76, 77, 78, 79, 80, 81, 82, 83, 84, 85, 86, 87, 88, 89, 90, 91, 92, 93, 94, 95, 96, 97, 98, 99, ...]\n",
      "\n",
      "[256 rows x 0 columns], '/g/g92/bhatele1/llnl/hpctoolkit/Kripke/build-impi/kripke': Empty DataFrame\n",
      "Columns: []\n",
      "Index: [0, 1, 2, 3, 4, 5, 6, 7, 8, 9, 10, 11, 12, 13, 14, 15, 16, 17, 18, 19, 20, 21, 22, 23, 24, 25, 26, 27, 28, 29, 30, 31, 32, 33, 34, 35, 36, 37, 38, 39, 40, 41, 42, 43, 44, 45, 46, 47, 48, 49, 50, 51, 52, 53, 54, 55, 56, 57, 58, 59, 60, 61, 62, 63, 64, 65, 66, 67, 68, 69, 70, 71, 72, 73, 74, 75, 76, 77, 78, 79, 80, 81, 82, 83, 84, 85, 86, 87, 88, 89, 90, 91, 92, 93, 94, 95, 96, 97, 98, 99, ...]\n",
      "\n",
      "[256 rows x 0 columns], '/usr/lib64/ld-2.17.so': Empty DataFrame\n",
      "Columns: []\n",
      "Index: [0, 1, 2, 3, 4, 5, 6, 7, 8, 9, 10, 11, 12, 13, 14, 15, 16, 17, 18, 19, 20, 21, 22, 23, 24, 25, 26, 27, 28, 29, 30, 31, 32, 33, 34, 35, 36, 37, 38, 39, 40, 41, 42, 43, 44, 45, 46, 47, 48, 49, 50, 51, 52, 53, 54, 55, 56, 57, 58, 59, 60, 61, 62, 63, 64, 65, 66, 67, 68, 69, 70, 71, 72, 73, 74, 75, 76, 77, 78, 79, 80, 81, 82, 83, 84, 85, 86, 87, 88, 89, 90, 91, 92, 93, 94, 95, 96, 97, 98, 99, ...]\n",
      "\n",
      "[256 rows x 0 columns], '/usr/lib64/libc-2.17.so': Empty DataFrame\n",
      "Columns: []\n",
      "Index: [0, 1, 2, 3, 4, 5, 6, 7, 8, 9, 10, 11, 12, 13, 14, 15, 16, 17, 18, 19, 20, 21, 22, 23, 24, 25, 26, 27, 28, 29, 30, 31, 32, 33, 34, 35, 36, 37, 38, 39, 40, 41, 42, 43, 44, 45, 46, 47, 48, 49, 50, 51, 52, 53, 54, 55, 56, 57, 58, 59, 60, 61, 62, 63, 64, 65, 66, 67, 68, 69, 70, 71, 72, 73, 74, 75, 76, 77, 78, 79, 80, 81, 82, 83, 84, 85, 86, 87, 88, 89, 90, 91, 92, 93, 94, 95, 96, 97, 98, 99, ...]\n",
      "\n",
      "[256 rows x 0 columns], '/usr/lib64/libfabric.so.1.9.14': Empty DataFrame\n",
      "Columns: []\n",
      "Index: [0, 1, 2, 3, 4, 5, 6, 7, 8, 9, 10, 11, 12, 13, 14, 15, 16, 17, 18, 19, 20, 21, 22, 23, 24, 25, 26, 27, 28, 29, 30, 31, 32, 33, 34, 35, 36, 37, 38, 39, 40, 41, 42, 43, 44, 45, 46, 47, 48, 49, 50, 51, 52, 53, 54, 55, 56, 57, 58, 59, 60, 61, 62, 63, 64, 65, 66, 67, 68, 69, 70, 71, 72, 73, 74, 75, 76, 77, 78, 79, 80, 81, 82, 83, 84, 85, 86, 87, 88, 89, 90, 91, 92, 93, 94, 95, 96, 97, 98, 99, ...]\n",
      "\n",
      "[256 rows x 0 columns], '/usr/lib64/libm-2.17.so': Empty DataFrame\n",
      "Columns: []\n",
      "Index: [0, 1, 2, 3, 4, 5, 6, 7, 8, 9, 10, 11, 12, 13, 14, 15, 16, 17, 18, 19, 20, 21, 22, 23, 24, 25, 26, 27, 28, 29, 30, 31, 32, 33, 34, 35, 36, 37, 38, 39, 40, 41, 42, 43, 44, 45, 46, 47, 48, 49, 50, 51, 52, 53, 54, 55, 56, 57, 58, 59, 60, 61, 62, 63, 64, 65, 66, 67, 68, 69, 70, 71, 72, 73, 74, 75, 76, 77, 78, 79, 80, 81, 82, 83, 84, 85, 86, 87, 88, 89, 90, 91, 92, 93, 94, 95, 96, 97, 98, 99, ...]\n",
      "\n",
      "[256 rows x 0 columns], '/usr/lib64/libpsm2.so.2.1': Empty DataFrame\n",
      "Columns: []\n",
      "Index: [0, 1, 2, 3, 4, 5, 6, 7, 8, 9, 10, 11, 12, 13, 14, 15, 16, 17, 18, 19, 20, 21, 22, 23, 24, 25, 26, 27, 28, 29, 30, 31, 32, 33, 34, 35, 36, 37, 38, 39, 40, 41, 42, 43, 44, 45, 46, 47, 48, 49, 50, 51, 52, 53, 54, 55, 56, 57, 58, 59, 60, 61, 62, 63, 64, 65, 66, 67, 68, 69, 70, 71, 72, 73, 74, 75, 76, 77, 78, 79, 80, 81, 82, 83, 84, 85, 86, 87, 88, 89, 90, 91, 92, 93, 94, 95, 96, 97, 98, 99, ...]\n",
      "\n",
      "[256 rows x 0 columns], '/usr/tce/packages/gcc/gcc-4.9.3/lib64/libstdc++.so.6.0.20': Empty DataFrame\n",
      "Columns: []\n",
      "Index: [0, 1, 2, 3, 4, 5, 6, 7, 8, 9, 10, 11, 12, 13, 14, 15, 16, 17, 18, 19, 20, 21, 22, 23, 24, 25, 26, 27, 28, 29, 30, 31, 32, 33, 34, 35, 36, 37, 38, 39, 40, 41, 42, 43, 44, 45, 46, 47, 48, 49, 50, 51, 52, 53, 54, 55, 56, 57, 58, 59, 60, 61, 62, 63, 64, 65, 66, 67, 68, 69, 70, 71, 72, 73, 74, 75, 76, 77, 78, 79, 80, 81, 82, 83, 84, 85, 86, 87, 88, 89, 90, 91, 92, 93, 94, 95, 96, 97, 98, 99, ...]\n",
      "\n",
      "[256 rows x 0 columns], '/usr/tce/packages/impi/impi-2019.0/compilers_and_libraries_2019.0.117/linux/mpi/intel64/lib/release/libmpi.so.12.0.0': Empty DataFrame\n",
      "Columns: []\n",
      "Index: [0, 1, 2, 3, 4, 5, 6, 7, 8, 9, 10, 11, 12, 13, 14, 15, 16, 17, 18, 19, 20, 21, 22, 23, 24, 25, 26, 27, 28, 29, 30, 31, 32, 33, 34, 35, 36, 37, 38, 39, 40, 41, 42, 43, 44, 45, 46, 47, 48, 49, 50, 51, 52, 53, 54, 55, 56, 57, 58, 59, 60, 61, 62, 63, 64, 65, 66, 67, 68, 69, 70, 71, 72, 73, 74, 75, 76, 77, 78, 79, 80, 81, 82, 83, 84, 85, 86, 87, 88, 89, 90, 91, 92, 93, 94, 95, 96, 97, 98, 99, ...]\n",
      "\n",
      "[256 rows x 0 columns], '<unknown load module>': Empty DataFrame\n",
      "Columns: []\n",
      "Index: [0, 1, 2, 3, 4, 5, 6, 7, 8, 9, 10, 11, 12, 13, 14, 15, 16, 17, 18, 19, 20, 21, 22, 23, 24, 25, 26, 27, 28, 29, 30, 31, 32, 33, 34, 35, 36, 37, 38, 39, 40, 41, 42, 43, 44, 45, 46, 47, 48, 49, 50, 51, 52, 53, 54, 55, 56, 57, 58, 59, 60, 61, 62, 63, 64, 65, 66, 67, 68, 69, 70, 71, 72, 73, 74, 75, 76, 77, 78, 79, 80, 81, 82, 83, 84, 85, 86, 87, 88, 89, 90, 91, 92, 93, 94, 95, 96, 97, 98, 99, ...]\n",
      "\n",
      "[256 rows x 0 columns]}\n"
     ]
    }
   ],
   "source": [
    "group_df = dfs[set1].groupby(['module']).groups\n",
    "module_to_index = {}\n",
    "modules = group_df.keys()\n",
    "for module in group_df:\n",
    "    module_to_index[module] = pd.DataFrame(index=group_df[row])\n",
    "print(module_to_index)"
   ]
  },
  {
   "cell_type": "code",
   "execution_count": 21,
   "metadata": {},
   "outputs": [
    {
     "ename": "ValueError",
     "evalue": "Item wrong length 1 instead of 378368.",
     "output_type": "error",
     "traceback": [
      "\u001b[0;31m---------------------------------------------------------------------------\u001b[0m",
      "\u001b[0;31mValueError\u001b[0m                                Traceback (most recent call last)",
      "\u001b[0;32m<ipython-input-21-8614ee46248a>\u001b[0m in \u001b[0;36m<module>\u001b[0;34m\u001b[0m\n\u001b[1;32m      1\u001b[0m \u001b[0;32mfor\u001b[0m \u001b[0mmodule\u001b[0m \u001b[0;32min\u001b[0m \u001b[0mmodules\u001b[0m\u001b[0;34m:\u001b[0m\u001b[0;34m\u001b[0m\u001b[0;34m\u001b[0m\u001b[0m\n\u001b[0;32m----> 2\u001b[0;31m     \u001b[0mmodule_df\u001b[0m \u001b[0;34m=\u001b[0m \u001b[0mdfs\u001b[0m\u001b[0;34m[\u001b[0m\u001b[0mset1\u001b[0m\u001b[0;34m]\u001b[0m\u001b[0;34m[\u001b[0m\u001b[0;34m[\u001b[0m\u001b[0;34m'module'\u001b[0m \u001b[0;34m==\u001b[0m \u001b[0mmodule\u001b[0m\u001b[0;34m]\u001b[0m\u001b[0;34m]\u001b[0m\u001b[0;34m\u001b[0m\u001b[0;34m\u001b[0m\u001b[0m\n\u001b[0m\u001b[1;32m      3\u001b[0m     \u001b[0mprint\u001b[0m\u001b[0;34m(\u001b[0m\u001b[0mmodule_df\u001b[0m\u001b[0;34m.\u001b[0m\u001b[0mshape\u001b[0m\u001b[0;34m)\u001b[0m\u001b[0;34m\u001b[0m\u001b[0;34m\u001b[0m\u001b[0m\n",
      "\u001b[0;32m/usr/local/lib/python3.6/dist-packages/pandas/core/frame.py\u001b[0m in \u001b[0;36m__getitem__\u001b[0;34m(self, key)\u001b[0m\n\u001b[1;32m   2131\u001b[0m         \u001b[0;32mif\u001b[0m \u001b[0misinstance\u001b[0m\u001b[0;34m(\u001b[0m\u001b[0mkey\u001b[0m\u001b[0;34m,\u001b[0m \u001b[0;34m(\u001b[0m\u001b[0mSeries\u001b[0m\u001b[0;34m,\u001b[0m \u001b[0mnp\u001b[0m\u001b[0;34m.\u001b[0m\u001b[0mndarray\u001b[0m\u001b[0;34m,\u001b[0m \u001b[0mIndex\u001b[0m\u001b[0;34m,\u001b[0m \u001b[0mlist\u001b[0m\u001b[0;34m)\u001b[0m\u001b[0;34m)\u001b[0m\u001b[0;34m:\u001b[0m\u001b[0;34m\u001b[0m\u001b[0;34m\u001b[0m\u001b[0m\n\u001b[1;32m   2132\u001b[0m             \u001b[0;31m# either boolean or fancy integer index\u001b[0m\u001b[0;34m\u001b[0m\u001b[0;34m\u001b[0m\u001b[0;34m\u001b[0m\u001b[0m\n\u001b[0;32m-> 2133\u001b[0;31m             \u001b[0;32mreturn\u001b[0m \u001b[0mself\u001b[0m\u001b[0;34m.\u001b[0m\u001b[0m_getitem_array\u001b[0m\u001b[0;34m(\u001b[0m\u001b[0mkey\u001b[0m\u001b[0;34m)\u001b[0m\u001b[0;34m\u001b[0m\u001b[0;34m\u001b[0m\u001b[0m\n\u001b[0m\u001b[1;32m   2134\u001b[0m         \u001b[0;32melif\u001b[0m \u001b[0misinstance\u001b[0m\u001b[0;34m(\u001b[0m\u001b[0mkey\u001b[0m\u001b[0;34m,\u001b[0m \u001b[0mDataFrame\u001b[0m\u001b[0;34m)\u001b[0m\u001b[0;34m:\u001b[0m\u001b[0;34m\u001b[0m\u001b[0;34m\u001b[0m\u001b[0m\n\u001b[1;32m   2135\u001b[0m             \u001b[0;32mreturn\u001b[0m \u001b[0mself\u001b[0m\u001b[0;34m.\u001b[0m\u001b[0m_getitem_frame\u001b[0m\u001b[0;34m(\u001b[0m\u001b[0mkey\u001b[0m\u001b[0;34m)\u001b[0m\u001b[0;34m\u001b[0m\u001b[0;34m\u001b[0m\u001b[0m\n",
      "\u001b[0;32m/usr/local/lib/python3.6/dist-packages/pandas/core/frame.py\u001b[0m in \u001b[0;36m_getitem_array\u001b[0;34m(self, key)\u001b[0m\n\u001b[1;32m   2168\u001b[0m             \u001b[0;32melif\u001b[0m \u001b[0mlen\u001b[0m\u001b[0;34m(\u001b[0m\u001b[0mkey\u001b[0m\u001b[0;34m)\u001b[0m \u001b[0;34m!=\u001b[0m \u001b[0mlen\u001b[0m\u001b[0;34m(\u001b[0m\u001b[0mself\u001b[0m\u001b[0;34m.\u001b[0m\u001b[0mindex\u001b[0m\u001b[0;34m)\u001b[0m\u001b[0;34m:\u001b[0m\u001b[0;34m\u001b[0m\u001b[0;34m\u001b[0m\u001b[0m\n\u001b[1;32m   2169\u001b[0m                 raise ValueError('Item wrong length %d instead of %d.' %\n\u001b[0;32m-> 2170\u001b[0;31m                                  (len(key), len(self.index)))\n\u001b[0m\u001b[1;32m   2171\u001b[0m             \u001b[0;31m# check_bool_indexer will throw exception if Series key cannot\u001b[0m\u001b[0;34m\u001b[0m\u001b[0;34m\u001b[0m\u001b[0;34m\u001b[0m\u001b[0m\n\u001b[1;32m   2172\u001b[0m             \u001b[0;31m# be reindexed to match DataFrame rows\u001b[0m\u001b[0;34m\u001b[0m\u001b[0;34m\u001b[0m\u001b[0;34m\u001b[0m\u001b[0m\n",
      "\u001b[0;31mValueError\u001b[0m: Item wrong length 1 instead of 378368."
     ]
    }
   ],
   "source": [
    "for module in modules:\n",
    "    module_df = dfs[set1][['module' == module]]\n",
    "    print(module_df.shape)"
   ]
  },
  {
   "cell_type": "code",
   "execution_count": 12,
   "metadata": {},
   "outputs": [
    {
     "data": {
      "text/plain": [
       "Series([], Name: module, dtype: object)"
      ]
     },
     "execution_count": 12,
     "metadata": {},
     "output_type": "execute_result"
    }
   ],
   "source": [
    "df = dfs[set1]\n",
    "\n",
    "df.loc[df['name'] == 'memset.S:101']['module']"
   ]
  },
  {
   "cell_type": "code",
   "execution_count": 17,
   "metadata": {},
   "outputs": [],
   "source": [
    "df_merge = pd.merge(dfs[set1], dfs[set2], on='name', right_index=True, left_index=True, suffixes=('_' + set1, '_' + set2))"
   ]
  },
  {
   "cell_type": "code",
   "execution_count": 19,
   "metadata": {},
   "outputs": [
    {
     "name": "stdout",
     "output_type": "stream",
     "text": [
      "                     time_mvapich2  time (inc)_mvapich2\n",
      "module_mvapich2                                        \n",
      "Unkno                 6.709825e+06         4.506416e+07\n",
      "kripke                2.007864e+07         6.552169e+07\n",
      "libc-2.17.so          0.000000e+00         2.276254e+06\n",
      "libmonitor.so.0.0.0   0.000000e+00         1.945169e+08\n",
      "libmpi.so.12.0.5      0.000000e+00         2.578232e+06\n",
      "{'Unkno': [5056488.0, 49760404.0, 59950551.0, 194041468.0], 'kripke': [4879824.25, 50743809.5, 78965971.0, 194787687.0], 'libc-2.17.so': [2267015.0, 2286112.0, 2309993.75, 2413077.0], 'libmonitor.so.0.0.0': [194660348.0, 194685079.5, 194704555.75, 194787687.0], 'libmpi.so.12.0.0': [2027712.25, 2145097.0, 2466481.25, 2912673.0]}\n",
      "{'Unkno': [5067115.0, 49942723.0, 60736390.75, 194041468.0], 'kripke': [3271322.0, 8377473.0, 78692640.0, 194787687.0], 'libc-2.17.so': [2304672.0, 15989794.5, 49738267.0, 50502671.0], 'libmonitor.so.0.0.0': [194660348.0, 194685079.5, 194704555.75, 194787687.0], 'libmpi.so.12.0.5': [2245253.5, 2909463.5, 3923776.25, 5713792.0]}\n",
      "26788465.0\n"
     ]
    },
    {
     "data": {
      "image/png": "[encoded data removed]",
      "text/plain": [
       "<Figure size 432x288 with 1 Axes>"
      ]
     },
     "metadata": {
      "needs_background": "light"
     },
     "output_type": "display_data"
    }
   ],
   "source": [
    "# Quantile calculation\n",
    "\n",
    "def add_to_map(mapper, key, vals):\n",
    "    mapper[key] = vals\n",
    "\n",
    "# df_merge = df_merge[['time (inc)_' + set1, 'module_' + set1, 'rank_' + set1]]\n",
    "\n",
    "group_df = df_merge.groupby([\"module_\" + set1])\n",
    "mean_group_df = group_df.mean()\n",
    "# mean_group_df.plot(kind='bar').set_yscale('log')\n",
    "\n",
    "mapper = {}\n",
    "for group in group_df['time (inc)_impi']:\n",
    "    vals = group[1]\n",
    "    q = vals.quantile([0.25, 0.5, 0.75, 1])\n",
    "    key = group[0].split('/')[-1]\n",
    "    mapper[key] = list(q)\n",
    "    \n",
    "# df_merge = df_merge[['time (inc)_' + set2, 'module_' + set2, 'rank_' + set2]]\n",
    "\n",
    "mapper_set2 = {}\n",
    "group_df = df_merge.groupby([\"module_\" + set2])\n",
    "mean_group_df = group_df.mean()\n",
    "plot_mean_group_df = mean_group_df[['time_'+ set2, 'time (inc)_' + set2]]\n",
    "print(plot_mean_group_df)\n",
    "plot_mean_group_df.plot(kind='bar').set_yscale('log')\n",
    "\n",
    "for group in group_df['time (inc)_impi']:\n",
    "    vals = group[1]\n",
    "    q = vals.quantile([0.25, 0.5, 0.75, 1])\n",
    "    key = group[0].split('/')[-1]\n",
    "    mapper_set2[key] = list(q)\n",
    "    \n",
    "print(mapper)\n",
    "print(mapper_set2)\n",
    "print(  6.709825e+06 + 2.007864e+07)"
   ]
  },
  {
   "cell_type": "code",
   "execution_count": 32,
   "metadata": {},
   "outputs": [
    {
     "name": "stdout",
     "output_type": "stream",
     "text": [
      "Matched node count 132\n",
      "Un-matched node count 837\n"
     ]
    }
   ],
   "source": [
    "path = \"/home/vidi/Work/llnl/CallFlow/data/kripke/\"\n",
    "datasets = ['impi', 'mvapich2']\n",
    "\n",
    "files = {}\n",
    "df_file = 'entire_df.csv'\n",
    "for dataset in datasets:\n",
    "    files[dataset] = path + dataset + '/' + df_file\n",
    "    \n",
    "dfs = {}\n",
    "for idx, dataset in enumerate(files):\n",
    "    dfs[dataset] = pd.read_csv(files[dataset])\n",
    "\n",
    "set1 = datasets[0]\n",
    "set2 = datasets[1]\n",
    "\n",
    "# Regular equivalence:\n",
    "# Merge by Name. I think this is an issue. The merge is not happening correctly. \n",
    "df_merge = pd.merge(dfs[set1], dfs[set2], on='name', right_index=True, left_index=True, suffixes=('_' + set1, '_' + set2))\n",
    "\n",
    "# Compare if the same function is inside a module in both datasets\n",
    "attr = 'module_'\n",
    "\n",
    "# Set a new column which sets to True if nodes belong to same module. \n",
    "df_merge['is_diff'] = np.where(df_merge[attr + set1] == df_merge[attr + set2], True, False)\n",
    "\n",
    "matched_df = df_merge.loc[df_merge['is_diff'] == True]\n",
    "non_matched_df = df_merge.loc[df_merge['is_diff'] == False]\n",
    "\n",
    "# print(\"Total number of nodes\", len(nodes))\n",
    "print(\"Matched node count\", len(matched_df['node_' + set1].unique()))\n",
    "print(\"Un-matched node count\", len(non_matched_df['node_' + set1].unique()))"
   ]
  },
  {
   "cell_type": "code",
   "execution_count": 131,
   "metadata": {},
   "outputs": [
    {
     "name": "stdout",
     "output_type": "stream",
     "text": [
      "0                0.0\n",
      "1                0.0\n",
      "2                0.0\n",
      "3                0.0\n",
      "4                0.0\n",
      "5                0.0\n",
      "6                0.0\n",
      "7                0.0\n",
      "8                0.0\n",
      "9                0.0\n",
      "10               0.0\n",
      "11               0.0\n",
      "12               0.0\n",
      "13               0.0\n",
      "14               0.0\n",
      "15               0.0\n",
      "16               0.0\n",
      "17               0.0\n",
      "18               0.0\n",
      "19               0.0\n",
      "20               0.0\n",
      "21               0.0\n",
      "22               0.0\n",
      "23               0.0\n",
      "24               0.0\n",
      "25               0.0\n",
      "26               0.0\n",
      "27               0.0\n",
      "28               0.0\n",
      "29               0.0\n",
      "             ...    \n",
      "255586           0.0\n",
      "255587           0.0\n",
      "255588           0.0\n",
      "255589           0.0\n",
      "255590    20638765.0\n",
      "255591           0.0\n",
      "255592           0.0\n",
      "255593           0.0\n",
      "255594           0.0\n",
      "255595           0.0\n",
      "255596           0.0\n",
      "255597           0.0\n",
      "255598           0.0\n",
      "255599           0.0\n",
      "255600           0.0\n",
      "255601           0.0\n",
      "255602           0.0\n",
      "255603           0.0\n",
      "255604           0.0\n",
      "255605           0.0\n",
      "255606           0.0\n",
      "255607           0.0\n",
      "255608           0.0\n",
      "255609           0.0\n",
      "255610           0.0\n",
      "255611           0.0\n",
      "255612           0.0\n",
      "255613           0.0\n",
      "255614           0.0\n",
      "255615           0.0\n",
      "Name: time (inc)_openmpi, Length: 255616, dtype: float64\n"
     ]
    }
   ],
   "source": [
    "print(df_merge['time (inc)_' + datasets[0]])"
   ]
  }
 ],
 "metadata": {
  "kernelspec": {
   "display_name": "Python 3",
   "language": "python",
   "name": "python3"
  },
  "language_info": {
   "codemirror_mode": {
    "name": "ipython",
    "version": 3
   },
   "file_extension": ".py",
   "mimetype": "text/x-python",
   "name": "python",
   "nbconvert_exporter": "python",
   "pygments_lexer": "ipython3",
   "version": "3.6.7"
  }
 },
 "nbformat": 4,
 "nbformat_minor": 2
}
