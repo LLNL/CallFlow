{
 "cells": [
  {
   "cell_type": "code",
   "execution_count": null,
   "metadata": {},
   "outputs": [],
   "source": [
    "def source_target_to_adj_matrix(arr):\n",
    "    key_map = {}\n",
    "    x_arr = []\n",
    "    for idx, elem in enumerate(arr):\n",
    "        if elem['source'] not in x_arr and elem['source'] not in key_map:\n",
    "            key_map[elem['source']] = len(x_arr)\n",
    "            x_arr.append(elem['source'])\n",
    "        if elem['target'] not in x_arr and elem['target'] not in key_map:\n",
    "            key_map[elem['target']] = len(x_arr)\n",
    "            x_arr.append(elem['target'])\n",
    "            \n",
    "    x, y = len(list(set(x_arr))), len(list(set(x_arr)))\n",
    "    adj_matrix = np.zeros(shape=(x, y))\n",
    "    \n",
    "    for idx, elem in enumerate(arr):\n",
    "        if(elem['source'] != -1):\n",
    "            source_elem_pos = key_map[elem['source']]\n",
    "        if(elem['target'] != -1):\n",
    "            target_elem_pos = key_map[elem['target']]\n",
    "        adj_matrix[source_elem_pos][target_elem_pos] = elem['weight']\n",
    "    return adj_matrix, key_map"
   ]
  },
  {
   "cell_type": "code",
   "execution_count": null,
   "metadata": {},
   "outputs": [],
   "source": [
    "def module_topology(state, module):\n",
    "    g = state.g\n",
    "    df = state.df\n",
    "    topology = nx.Graph()\n",
    "    nodes = df.loc[df['module'] == module]['name'].unique().tolist()\n",
    "    source_target_data = []\n",
    "    entry_node = nodes[0]\n",
    "    for idx, node in enumerate(nodes):\n",
    "        hierarchy_pd = pd.DataFrame(columns=['source', 'target', 'weight', 'level', 'type'])\n",
    "        print(g)\n",
    "        neighbors = sorted(g[node].items(), key=lambda edge: edge[1]['weight'])\n",
    "        print(neighbors)\n",
    "        for idx, n in enumerate(neighbors):\n",
    "            source_node = node\n",
    "            target_node = n[0]\n",
    "            weight = n[1]['weight']\n",
    "            level = idx\n",
    "            curr_module = state.df[state.df['name'] == n[0]]['module'].unique()[0]\n",
    "            #print(n[0], curr_module)\n",
    "            if(curr_module != module):\n",
    "                type_node = 'exit'\n",
    "                level = -1\n",
    "                #print('{0} is an exit node'.format(n[0]))\n",
    "            else:\n",
    "                type_node = 'normal'\n",
    "            source_target_data.append({\n",
    "                    \"source\": source_node,\n",
    "                    \"target\": target_node,\n",
    "                    \"weight\": weight,\n",
    "                    \"level\": level,\n",
    "                    \"type\": type_node\n",
    "            })\n",
    "    topology_adj_matrix, topology_key_map = source_target_to_adj_matrix(source_target_data)\n",
    "    #hierarchy_adj_matrix[1][1] = 0.0\n",
    "    #print(nx.find_cycle(state.hg, orientation=\"original\"))\n",
    "    #print(nx.is_tree(state.hg))\n",
    "    topology_df = nx.from_numpy_matrix(topology_adj_matrix)\n",
    "    \n",
    "    return topology_df, topology_key_map"
   ]
  },
  {
   "cell_type": "code",
   "execution_count": null,
   "metadata": {},
   "outputs": [],
   "source": [
    "def draw_hierarchy(state):\n",
    "    pos = hierarchy_pos(state.hierarchy, 1)\n",
    "    nx.draw(state.bfs_tree, pos=pos, with_labels=True)\n",
    "    plt.show()\n",
    "    return source_target_data"
   ]
  },
  {
   "cell_type": "code",
   "execution_count": null,
   "metadata": {},
   "outputs": [],
   "source": [
    "def verify_topology(states):\n",
    "#     module = 'libmonitor.so.0.0.0'\n",
    "    module = 'Unkno'\n",
    "    for idx, state in enumerate(states):\n",
    "        state.hierarchy, keymap = module_topology(state, module)\n",
    "        print(state.hierarchy.nodes())\n",
    "        print(state.hierarchy.edges())\n",
    "        for idx, key in enumerate(keymap):\n",
    "            print(key, keymap[key], state.df[state.df['name'] == key]['module'].tolist()[0])\n",
    "\n",
    "verify_topology(states)"
   ]
  }
 ],
 "metadata": {
  "kernelspec": {
   "display_name": "Python 3",
   "language": "python",
   "name": "python3"
  },
  "language_info": {
   "codemirror_mode": {
    "name": "ipython",
    "version": 3
   },
   "file_extension": ".py",
   "mimetype": "text/x-python",
   "name": "python",
   "nbconvert_exporter": "python",
   "pygments_lexer": "ipython3",
   "version": "3.6.8"
  }
 },
 "nbformat": 4,
 "nbformat_minor": 2
}
