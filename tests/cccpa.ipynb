{
 "cells": [
  {
   "cell_type": "code",
   "execution_count": 1,
   "metadata": {},
   "outputs": [],
   "source": [
    "import matplotlib.pyplot as plt\n",
    "import numpy as np\n",
    "\n",
    "from ccpca import CCPCA\n",
    "from opt_sign_flip import OptSignFlip\n",
    "from mat_reorder import MatReorder\n",
    "import pandas as pd\n",
    "\n",
    "from numpy import linalg\n",
    "from numpy.linalg import norm\n",
    "from scipy.spatial.distance import squareform, pdist\n",
    "\n",
    "# We import sklearn.\n",
    "import sklearn\n",
    "from sklearn.manifold import TSNE\n",
    "from sklearn.datasets import load_digits\n",
    "from sklearn.preprocessing import scale\n",
    "\n",
    "# We'll hack a bit with the t-SNE code in sklearn 0.15.2.\n",
    "from sklearn.metrics.pairwise import pairwise_distances\n",
    "from sklearn.manifold.t_sne import (_joint_probabilities,\n",
    "                                    _kl_divergence)\n",
    "# from sklearn.utils.extmath import _ravel\n",
    "# Random state.\n",
    "RS = 20150101\n",
    "\n",
    "# We'll use matplotlib for graphics.\n",
    "import matplotlib.pyplot as plt\n",
    "import matplotlib.patheffects as PathEffects\n",
    "import matplotlib\n",
    "%matplotlib inline\n",
    "\n",
    "# We import seaborn to make nice plots.\n",
    "import seaborn as sns\n",
    "sns.set_style('darkgrid')\n",
    "sns.set_palette('muted')\n",
    "sns.set_context(\"notebook\", font_scale=1.5,\n",
    "                rc={\"lines.linewidth\": 2.5})\n",
    "\n",
    "# We'll generate an animation with matplotlib and moviepy.\n",
    "from moviepy.video.io.bindings import mplfig_to_npimage\n",
    "import moviepy.editor as mpy\n",
    "\n",
    "from os import listdir\n",
    "from os.path import isfile, join\n",
    "\n",
    "from state import State\n",
    "from hatchet import *\n",
    "\n",
    "import json"
   ]
  },
  {
   "cell_type": "code",
   "execution_count": 2,
   "metadata": {},
   "outputs": [],
   "source": [
    "pd.options.display.max_rows = 10\n",
    "pd.options.display.float_format = '{:,.2f}'.format"
   ]
  },
  {
   "cell_type": "code",
   "execution_count": 43,
   "metadata": {},
   "outputs": [],
   "source": [
    "dirname = '/home/vidi/Work/llnl/CallFlow/.callflow'\n",
    "dataset = 'osu'\n",
    "dataset_dirname = '/home/vidi/Work/llnl/CallFlow/data/osu/' "
   ]
  },
  {
   "cell_type": "code",
   "execution_count": 70,
   "metadata": {},
   "outputs": [],
   "source": [
    "def read_gf(name):\n",
    "    state = State()\n",
    "    df_filepath = dirname + '/' + name +  '/filter_df.csv'\n",
    "    entire_df_filepath = dirname + '/' + name + '/entire_df.csv'\n",
    "    graph_filepath = dirname + '/' + name + '/filter_graph.json'\n",
    "    entire_graph_filepath = dirname + '/' + name + '/entire_graph.json'   \n",
    "    group_df_filepath = dirname + '/' + name + '/group_df.csv'\n",
    "    parameters_filepath = dataset_dirname +  name + '/env_params.txt'\n",
    "\n",
    "    with open(graph_filepath, 'r') as graphFile:\n",
    "        data = json.load(graphFile)\n",
    "\n",
    "    state.gf = GraphFrame()\n",
    "    state.gf.from_literal_persist(data)\n",
    "\n",
    "    with open(entire_graph_filepath, 'r') as entire_graphFile:\n",
    "        entire_data = json.load(entire_graphFile)\n",
    "            \n",
    "    state.entire_gf = GraphFrame()\n",
    "    state.entire_gf.from_literal_persist(entire_data)\n",
    "\n",
    "    state.df = pd.read_csv(df_filepath)\n",
    "    state.entire_df = pd.read_csv(entire_df_filepath)\n",
    "\n",
    "    state.graph = state.gf.graph\n",
    "    state.entire_graph = state.entire_gf.graph\n",
    "\n",
    "    # replace df['node'] from str to the Node object.\n",
    "    state.df = replace_str_with_Node(state.df, state.graph)\n",
    "    state.entire_df = replace_str_with_Node(state.entire_df, state.entire_graph)\n",
    "    \n",
    "    state.group_df = pd.read_csv(group_df_filepath)\n",
    "    state.params =  {}\n",
    "    for line in open(parameters_filepath, 'r'):\n",
    "        s = 0\n",
    "        for num in line.strip().split(','):\n",
    "            split_num = num.split('=')\n",
    "            state.params[split_num[0]] = split_num[1]\n",
    "    return state"
   ]
  },
  {
   "cell_type": "code",
   "execution_count": 5,
   "metadata": {},
   "outputs": [],
   "source": [
    "def replace_str_with_Node(df, graph):\n",
    "        mapper = {}\n",
    "        def dfs_recurse(root):\n",
    "            for node in root.children: \n",
    "                mapper[node.callpath[-1]] = Node(node.nid, node.callpath, None)\n",
    "                dfs_recurse(node)\n",
    "        for root in graph.roots:\n",
    "            mapper[root.callpath[-1]] = Node(root.nid, root.callpath, None)\n",
    "            dfs_recurse(root)\n",
    "        df['node'] = df['node'].apply(lambda node: mapper[node] if node in mapper else '')\n",
    "        return df"
   ]
  },
  {
   "cell_type": "code",
   "execution_count": 34,
   "metadata": {},
   "outputs": [],
   "source": [
    "def read_datasets(name):\n",
    "    files = listdir(dirname)\n",
    "    ret = []\n",
    "    for file in files:\n",
    "        if(file.split('.')[0] == 'osu_bcast'):\n",
    "            ret.append(file)\n",
    "    return ret"
   ]
  },
  {
   "cell_type": "code",
   "execution_count": null,
   "metadata": {},
   "outputs": [],
   "source": [
    "def add_dataset_params(state):\n",
    "    ret = {}\n",
    "    ret['max_inclusive_time'] = state.df['time (inc)'].max()\n",
    "    ret['max_exclusive_time'] = state.df['time'].max()\n",
    "    ret['rank_count'] = len(state.df['rank'].unique())\n",
    "    return ret"
   ]
  },
  {
   "cell_type": "code",
   "execution_count": 92,
   "metadata": {},
   "outputs": [
    {
     "name": "stdout",
     "output_type": "stream",
     "text": [
      "osu_bcast.1.12.2019-09-04_00-32-11\n",
      "osu_bcast.1.16.2019-09-03_11-28-08\n",
      "osu_bcast.1.10.2019-09-04_07-05-12\n",
      "osu_bcast.1.16.2019-09-04_01-36-36\n",
      "osu_bcast.1.10.2019-09-03_23-33-03\n",
      "osu_bcast.1.10.2019-09-04_08-07-45\n",
      "osu_bcast.1.10.2019-09-03_13-07-55\n",
      "osu_bcast.1.16.2019-09-03_15-11-44\n",
      "osu_bcast.1.10.2019-09-04_03-18-07\n",
      "osu_bcast.1.16.2019-09-04_02-34-43\n",
      "osu_bcast.1.14.2019-09-03_11-23-27\n",
      "osu_bcast.1.14.2019-09-03_14-11-29\n",
      "osu_bcast.1.16.2019-09-03_19-04-47\n",
      "osu_bcast.1.10.2019-09-03_21-42-03\n",
      "osu_bcast.1.10.2019-09-03_11-12-50\n",
      "osu_bcast.1.16.2019-09-03_17-03-10\n",
      "osu_bcast.1.16.2019-09-03_14-16-10\n",
      "osu_bcast.1.10.2019-09-04_06-10-08\n",
      "osu_bcast.1.10.2019-09-04_04-14-14\n",
      "osu_bcast.1.10.2019-09-04_02-21-56\n",
      "osu_bcast.1.14.2019-09-03_15-07-03\n",
      "osu_bcast.1.12.2019-09-03_19-51-19\n",
      "osu_bcast.1.14.2019-09-04_07-13-20\n",
      "osu_bcast.1.10.2019-09-03_14-59-00\n",
      "osu_bcast.1.14.2019-09-03_16-58-17\n",
      "osu_bcast.1.14.2019-09-03_22-45-35\n",
      "osu_bcast.1.10.2019-09-03_15-54-46\n",
      "osu_bcast.1.10.2019-09-04_01-23-49\n",
      "osu_bcast.1.12.2019-09-03_15-58-34\n",
      "osu_bcast.1.14.2019-09-04_04-23-17\n",
      "osu_bcast.1.16.2019-09-03_20-00-10\n",
      "osu_bcast.1.12.2019-09-03_21-45-51\n",
      "osu_bcast.1.16.2019-09-03_20-59-01\n",
      "osu_bcast.1.12.2019-09-03_16-54-00\n",
      "osu_bcast.1.14.2019-09-04_01-31-56\n",
      "osu_bcast.1.16.2019-09-03_10-28-38\n",
      "osu_bcast.1.12.2019-09-04_05-18-21\n",
      "osu_bcast.1.16.2019-09-04_08-20-24\n",
      "osu_bcast.1.16.2019-09-04_00-40-58\n",
      "osu_bcast.1.16.2019-09-03_18-05-27\n",
      "osu_bcast.1.16.2019-09-03_23-45-39\n",
      "osu_bcast.1.14.2019-09-03_19-00-07\n",
      "osu_bcast.1.12.2019-09-04_01-27-38\n",
      "osu_bcast.1.14.2019-09-04_00-36-22\n",
      "osu_bcast.1.14.2019-09-03_10-23-57\n",
      "osu_bcast.1.12.2019-09-04_07-09-02\n",
      "osu_bcast.1.14.2019-09-03_18-00-19\n",
      "osu_bcast.1.12.2019-09-03_18-55-56\n",
      "osu_bcast.1.12.2019-09-03_23-36-49\n",
      "osu_bcast.1.14.2019-09-03_19-55-36\n",
      "osu_bcast.1.10.2019-09-03_18-52-06\n",
      "osu_bcast.1.14.2019-09-04_06-18-08\n",
      "osu_bcast.1.10.2019-09-04_00-28-19\n",
      "osu_bcast.1.12.2019-09-03_15-02-50\n",
      "osu_bcast.1.10.2019-09-03_22-37-37\n",
      "osu_bcast.1.10.2019-09-03_19-47-31\n",
      "osu_bcast.1.12.2019-09-04_02-25-46\n",
      "osu_bcast.1.12.2019-09-04_08-11-32\n",
      "osu_bcast.1.12.2019-09-04_06-13-56\n",
      "osu_bcast.1.16.2019-09-03_13-20-38\n",
      "osu_bcast.1.14.2019-09-03_21-50-02\n",
      "osu_bcast.1.14.2019-09-03_20-54-22\n",
      "osu_bcast.1.14.2019-09-04_02-29-59\n",
      "osu_bcast.1.10.2019-09-03_10-15-54\n",
      "osu_bcast.1.12.2019-09-04_03-21-55\n",
      "osu_bcast.1.12.2019-09-04_04-18-45\n",
      "osu_bcast.1.16.2019-09-03_16-07-22\n",
      "osu_bcast.1.14.2019-09-04_05-22-33\n",
      "osu_bcast.1.14.2019-09-03_23-41-00\n",
      "osu_bcast.1.18.2019-09-03_11-33-15\n",
      "osu_bcast.1.16.2019-09-04_04-28-46\n",
      "osu_bcast.1.16.2019-09-04_07-17-58\n",
      "osu_bcast.1.12.2019-09-03_14-07-19\n",
      "osu_bcast.1.12.2019-09-03_22-41-24\n",
      "osu_bcast.1.18.2019-09-03_13-25-52\n",
      "osu_bcast.1.18.2019-09-03_12-29-49\n",
      "osu_bcast.1.14.2019-09-03_13-15-57\n",
      "osu_bcast.1.12.2019-09-03_12-15-30\n",
      "osu_bcast.1.16.2019-09-04_03-30-48\n",
      "osu_bcast.1.12.2019-09-03_17-55-41\n",
      "osu_bcast.1.12.2019-09-03_13-11-44\n",
      "osu_bcast.1.10.2019-09-03_14-03-30\n",
      "osu_bcast.1.16.2019-09-03_22-50-10\n",
      "osu_bcast.1.12.2019-09-03_11-18-44\n",
      "osu_bcast.1.14.2019-09-04_08-15-41\n",
      "osu_bcast.1.16.2019-09-03_12-24-32\n",
      "osu_bcast.1.14.2019-09-03_16-02-45\n",
      "osu_bcast.1.12.2019-09-03_20-49-56\n",
      "osu_bcast.1.14.2019-09-04_03-26-08\n",
      "osu_bcast.1.12.2019-09-03_10-19-45\n",
      "osu_bcast.1.18.2019-09-03_10-33-44\n",
      "osu_bcast.1.10.2019-09-03_16-50-08\n",
      "osu_bcast.1.14.2019-09-03_12-19-48\n",
      "osu_bcast.1.16.2019-09-04_05-27-13\n",
      "osu_bcast.1.16.2019-09-03_21-54-42\n",
      "osu_bcast.1.10.2019-09-04_05-14-33\n",
      "osu_bcast.1.10.2019-09-03_17-51-29\n",
      "osu_bcast.1.16.2019-09-04_06-22-45\n",
      "osu_bcast.1.10.2019-09-03_12-11-37\n",
      "osu_bcast.1.10.2019-09-03_20-45-50\n"
     ]
    }
   ],
   "source": [
    "datasets = read_datasets(dataset)\n",
    "states = {}\n",
    "count = 100\n",
    "for idx, dataset_name in enumerate(datasets[0:count]):\n",
    "    print(dataset_name)\n",
    "    state = read_gf(dataset_name)\n",
    "    states[dataset_name] = state\n",
    "    performance_params = add_dataset_params(state)\n",
    "    states[dataset_name].params.update(performance_params)"
   ]
  },
  {
   "cell_type": "markdown",
   "metadata": {},
   "source": [
    "# Projection of the parameters of all runs"
   ]
  },
  {
   "cell_type": "code",
   "execution_count": 83,
   "metadata": {},
   "outputs": [
    {
     "data": {
      "text/plain": [
       "(<Figure size 576x576 with 1 Axes>,\n",
       " <matplotlib.axes._subplots.AxesSubplot at 0x7f36265410f0>,\n",
       " <matplotlib.collections.PathCollection at 0x7f3622ed8eb8>,\n",
       " [])"
      ]
     },
     "execution_count": 83,
     "metadata": {},
     "output_type": "execute_result"
    },
    {
     "data": {
      "image/png": "[encoded data removed]",
      "text/plain": [
       "<Figure size 576x576 with 1 Axes>"
      ]
     },
     "metadata": {
      "needs_background": "light"
     },
     "output_type": "display_data"
    }
   ],
   "source": [
    "# params_df = pd.DataFrame(columns=states[datasets[0]].params.keys())\n",
    "# print(params_df)\n",
    "row_list = []\n",
    "for idx, state in enumerate(states):\n",
    "    row_list.append(states[state].params)\n",
    "df = pd.DataFrame(row_list)\n",
    "X = np.vstack([df.values.tolist()])\n",
    "proj = TSNE(random_state=RS).fit_transform(X)\n",
    "scatter(proj, [0])"
   ]
  },
  {
   "cell_type": "code",
   "execution_count": 86,
   "metadata": {},
   "outputs": [
    {
     "name": "stdout",
     "output_type": "stream",
     "text": [
      "[12 16 10 14 18]\n"
     ]
    }
   ],
   "source": [
    "print(df['rank_count'].unique())"
   ]
  },
  {
   "cell_type": "markdown",
   "metadata": {},
   "source": [
    "# Projection of entire dataset"
   ]
  },
  {
   "cell_type": "code",
   "execution_count": 24,
   "metadata": {
    "scrolled": false
   },
   "outputs": [
    {
     "name": "stdout",
     "output_type": "stream",
     "text": [
      "Getting projections for 0: osu_bcast.1.12.2019-09-04_00-32-11\n",
      "Projection shape (108, 2)\n",
      "Getting projections for 1: osu_bcast.1.16.2019-09-03_11-28-08\n",
      "Projection shape (110, 2)\n",
      "Getting projections for 2: osu_bcast.1.10.2019-09-04_07-05-12\n",
      "Projection shape (99, 2)\n",
      "Getting projections for 3: osu_bcast.1.16.2019-09-04_01-36-36\n",
      "Projection shape (108, 2)\n",
      "Getting projections for 4: osu_bcast.1.10.2019-09-03_23-33-03\n",
      "Projection shape (99, 2)\n",
      "Getting projections for 5: osu_bcast.1.10.2019-09-04_08-07-45\n",
      "Projection shape (96, 2)\n",
      "Getting projections for 6: osu_bcast.1.10.2019-09-03_13-07-55\n",
      "Projection shape (93, 2)\n",
      "Getting projections for 7: osu_bcast.1.16.2019-09-03_15-11-44\n",
      "Projection shape (105, 2)\n",
      "Getting projections for 8: osu_bcast.1.10.2019-09-04_03-18-07\n",
      "Projection shape (91, 2)\n",
      "Getting projections for 9: osu_bcast.1.16.2019-09-04_02-34-43\n",
      "Projection shape (112, 2)\n",
      "Getting projections for 10: osu_bcast.1.14.2019-09-03_11-23-27\n",
      "Projection shape (106, 2)\n",
      "Getting projections for 11: osu_bcast.1.14.2019-09-03_14-11-29\n",
      "Projection shape (107, 2)\n",
      "Getting projections for 12: osu_bcast.1.16.2019-09-03_19-04-47\n",
      "Projection shape (105, 2)\n",
      "Getting projections for 13: osu_bcast.1.10.2019-09-03_21-42-03\n",
      "Projection shape (100, 2)\n",
      "Getting projections for 14: osu_bcast.1.10.2019-09-03_11-12-50\n",
      "Projection shape (103, 2)\n",
      "Getting projections for 15: osu_bcast.1.16.2019-09-03_17-03-10\n",
      "Projection shape (108, 2)\n",
      "Getting projections for 16: osu_bcast.1.16.2019-09-03_14-16-10\n",
      "Projection shape (111, 2)\n",
      "Getting projections for 17: osu_bcast.1.10.2019-09-04_06-10-08\n",
      "Projection shape (96, 2)\n",
      "Getting projections for 18: osu_bcast.1.10.2019-09-04_04-14-14\n",
      "Projection shape (97, 2)\n",
      "Getting projections for 19: osu_bcast.1.10.2019-09-04_02-21-56\n",
      "Projection shape (95, 2)\n",
      "Getting projections for 20: osu_bcast.1.14.2019-09-03_15-07-03\n",
      "Projection shape (109, 2)\n",
      "Getting projections for 21: osu_bcast.1.12.2019-09-03_19-51-19\n",
      "Projection shape (110, 2)\n",
      "Getting projections for 22: osu_bcast.1.14.2019-09-04_07-13-20\n",
      "Projection shape (102, 2)\n",
      "Getting projections for 23: osu_bcast.1.10.2019-09-03_14-59-00\n",
      "Projection shape (100, 2)\n",
      "Getting projections for 24: osu_bcast.1.14.2019-09-03_16-58-17\n",
      "Projection shape (107, 2)\n",
      "Getting projections for 25: osu_bcast.1.14.2019-09-03_22-45-35\n",
      "Projection shape (108, 2)\n",
      "Getting projections for 26: osu_bcast.1.10.2019-09-03_15-54-46\n",
      "Projection shape (100, 2)\n",
      "Getting projections for 27: osu_bcast.1.10.2019-09-04_01-23-49\n",
      "Projection shape (100, 2)\n",
      "Getting projections for 28: osu_bcast.1.12.2019-09-03_15-58-34\n",
      "Projection shape (109, 2)\n",
      "Getting projections for 29: osu_bcast.1.14.2019-09-04_04-23-17\n",
      "Projection shape (100, 2)\n",
      "Getting projections for 30: osu_bcast.1.16.2019-09-03_20-00-10\n",
      "Projection shape (107, 2)\n",
      "Getting projections for 31: osu_bcast.1.12.2019-09-03_21-45-51\n",
      "Projection shape (106, 2)\n",
      "Getting projections for 32: osu_bcast.1.16.2019-09-03_20-59-01\n",
      "Projection shape (107, 2)\n",
      "Getting projections for 33: osu_bcast.1.12.2019-09-03_16-54-00\n",
      "Projection shape (108, 2)\n",
      "Getting projections for 34: osu_bcast.1.14.2019-09-04_01-31-56\n",
      "Projection shape (108, 2)\n",
      "Getting projections for 35: osu_bcast.1.16.2019-09-03_10-28-38\n",
      "Projection shape (110, 2)\n",
      "Getting projections for 36: osu_bcast.1.12.2019-09-04_05-18-21\n",
      "Projection shape (105, 2)\n",
      "Getting projections for 37: osu_bcast.1.16.2019-09-04_08-20-24\n",
      "Projection shape (108, 2)\n",
      "Getting projections for 38: osu_bcast.1.16.2019-09-04_00-40-58\n",
      "Projection shape (113, 2)\n",
      "Getting projections for 39: osu_bcast.1.16.2019-09-03_18-05-27\n",
      "Projection shape (106, 2)\n",
      "Getting projections for 40: osu_bcast.1.16.2019-09-03_23-45-39\n",
      "Projection shape (107, 2)\n",
      "Getting projections for 41: osu_bcast.1.14.2019-09-03_19-00-07\n",
      "Projection shape (111, 2)\n",
      "Getting projections for 42: osu_bcast.1.12.2019-09-04_01-27-38\n",
      "Projection shape (101, 2)\n",
      "Getting projections for 43: osu_bcast.1.14.2019-09-04_00-36-22\n",
      "Projection shape (103, 2)\n",
      "Getting projections for 44: osu_bcast.1.14.2019-09-03_10-23-57\n",
      "Projection shape (110, 2)\n",
      "Getting projections for 45: osu_bcast.1.12.2019-09-04_07-09-02\n",
      "Projection shape (100, 2)\n",
      "Getting projections for 46: osu_bcast.1.14.2019-09-03_18-00-19\n",
      "Projection shape (108, 2)\n",
      "Getting projections for 47: osu_bcast.1.12.2019-09-03_18-55-56\n",
      "Projection shape (106, 2)\n",
      "Getting projections for 48: osu_bcast.1.12.2019-09-03_23-36-49\n",
      "Projection shape (106, 2)\n",
      "Getting projections for 49: osu_bcast.1.14.2019-09-03_19-55-36\n",
      "Projection shape (109, 2)\n",
      "Getting projections for 50: osu_bcast.1.10.2019-09-03_18-52-06\n",
      "Projection shape (101, 2)\n",
      "Getting projections for 51: osu_bcast.1.14.2019-09-04_06-18-08\n",
      "Projection shape (103, 2)\n",
      "Getting projections for 52: osu_bcast.1.10.2019-09-04_00-28-19\n",
      "Projection shape (92, 2)\n",
      "Getting projections for 53: osu_bcast.1.12.2019-09-03_15-02-50\n",
      "Projection shape (102, 2)\n",
      "Getting projections for 54: osu_bcast.1.10.2019-09-03_22-37-37\n",
      "Projection shape (95, 2)\n",
      "Getting projections for 55: osu_bcast.1.10.2019-09-03_19-47-31\n",
      "Projection shape (94, 2)\n",
      "Getting projections for 56: osu_bcast.1.12.2019-09-04_02-25-46\n",
      "Projection shape (107, 2)\n",
      "Getting projections for 57: osu_bcast.1.12.2019-09-04_08-11-32\n",
      "Projection shape (110, 2)\n",
      "Getting projections for 58: osu_bcast.1.12.2019-09-04_06-13-56\n",
      "Projection shape (104, 2)\n",
      "Getting projections for 59: osu_bcast.1.16.2019-09-03_13-20-38\n",
      "Projection shape (110, 2)\n",
      "Getting projections for 60: osu_bcast.1.14.2019-09-03_21-50-02\n",
      "Projection shape (110, 2)\n",
      "Getting projections for 61: osu_bcast.1.14.2019-09-03_20-54-22\n",
      "Projection shape (105, 2)\n",
      "Getting projections for 62: osu_bcast.1.14.2019-09-04_02-29-59\n",
      "Projection shape (108, 2)\n",
      "Getting projections for 63: osu_bcast.1.10.2019-09-03_10-15-54\n",
      "Projection shape (99, 2)\n",
      "Getting projections for 64: osu_bcast.1.12.2019-09-04_03-21-55\n",
      "Projection shape (108, 2)\n",
      "Getting projections for 65: osu_bcast.1.12.2019-09-04_04-18-45\n",
      "Projection shape (106, 2)\n",
      "Getting projections for 66: osu_bcast.1.16.2019-09-03_16-07-22\n",
      "Projection shape (109, 2)\n",
      "Getting projections for 67: osu_bcast.1.14.2019-09-04_05-22-33\n",
      "Projection shape (112, 2)\n",
      "Getting projections for 68: osu_bcast.1.14.2019-09-03_23-41-00\n",
      "Projection shape (107, 2)\n",
      "Getting projections for 69: osu_bcast.1.18.2019-09-03_11-33-15\n",
      "Projection shape (111, 2)\n",
      "Getting projections for 70: osu_bcast.1.16.2019-09-04_04-28-46\n",
      "Projection shape (108, 2)\n",
      "Getting projections for 71: osu_bcast.1.16.2019-09-04_07-17-58\n",
      "Projection shape (105, 2)\n",
      "Getting projections for 72: osu_bcast.1.12.2019-09-03_14-07-19\n",
      "Projection shape (103, 2)\n",
      "Getting projections for 73: osu_bcast.1.12.2019-09-03_22-41-24\n",
      "Projection shape (101, 2)\n",
      "Getting projections for 74: osu_bcast.1.18.2019-09-03_13-25-52\n",
      "Projection shape (108, 2)\n",
      "Getting projections for 75: osu_bcast.1.18.2019-09-03_12-29-49\n",
      "Projection shape (106, 2)\n",
      "Getting projections for 76: osu_bcast.1.14.2019-09-03_13-15-57\n",
      "Projection shape (103, 2)\n",
      "Getting projections for 77: osu_bcast.1.12.2019-09-03_12-15-30\n",
      "Projection shape (109, 2)\n",
      "Getting projections for 78: osu_bcast.1.16.2019-09-04_03-30-48\n",
      "Projection shape (107, 2)\n",
      "Getting projections for 79: osu_bcast.1.12.2019-09-03_17-55-41\n",
      "Projection shape (105, 2)\n",
      "Getting projections for 80: osu_bcast.1.12.2019-09-03_13-11-44\n",
      "Projection shape (106, 2)\n",
      "Getting projections for 81: osu_bcast.1.10.2019-09-03_14-03-30\n",
      "Projection shape (97, 2)\n",
      "Getting projections for 82: osu_bcast.1.16.2019-09-03_22-50-10\n",
      "Projection shape (107, 2)\n",
      "Getting projections for 83: osu_bcast.1.12.2019-09-03_11-18-44\n",
      "Projection shape (100, 2)\n",
      "Getting projections for 84: osu_bcast.1.14.2019-09-04_08-15-41\n",
      "Projection shape (105, 2)\n",
      "Getting projections for 85: osu_bcast.1.16.2019-09-03_12-24-32\n",
      "Projection shape (107, 2)\n",
      "Getting projections for 86: osu_bcast.1.14.2019-09-03_16-02-45\n",
      "Projection shape (109, 2)\n",
      "Getting projections for 87: osu_bcast.1.12.2019-09-03_20-49-56\n",
      "Projection shape (102, 2)\n",
      "Getting projections for 88: osu_bcast.1.14.2019-09-04_03-26-08\n",
      "Projection shape (110, 2)\n",
      "Getting projections for 89: osu_bcast.1.12.2019-09-03_10-19-45\n",
      "Projection shape (111, 2)\n",
      "Getting projections for 90: osu_bcast.1.18.2019-09-03_10-33-44\n",
      "Projection shape (109, 2)\n",
      "Getting projections for 91: osu_bcast.1.10.2019-09-03_16-50-08\n",
      "Projection shape (96, 2)\n",
      "Getting projections for 92: osu_bcast.1.14.2019-09-03_12-19-48\n"
     ]
    },
    {
     "name": "stdout",
     "output_type": "stream",
     "text": [
      "Projection shape (108, 2)\n",
      "Getting projections for 93: osu_bcast.1.16.2019-09-04_05-27-13\n",
      "Projection shape (107, 2)\n",
      "Getting projections for 94: osu_bcast.1.16.2019-09-03_21-54-42\n",
      "Projection shape (110, 2)\n",
      "Getting projections for 95: osu_bcast.1.10.2019-09-04_05-14-33\n",
      "Projection shape (101, 2)\n",
      "Getting projections for 96: osu_bcast.1.10.2019-09-03_17-51-29\n",
      "Projection shape (97, 2)\n",
      "Getting projections for 97: osu_bcast.1.16.2019-09-04_06-22-45\n",
      "Projection shape (108, 2)\n",
      "Getting projections for 98: osu_bcast.1.10.2019-09-03_12-11-37\n",
      "Projection shape (99, 2)\n",
      "Getting projections for 99: osu_bcast.1.10.2019-09-03_20-45-50\n",
      "Projection shape (102, 2)\n"
     ]
    }
   ],
   "source": [
    "all_cols = ['node', 'rank', 'time (inc)', 'time', 'nid', 'rank.1', 'file', 'line',\n",
    "       'module', 'name', 'node.1', 'type', 'n_index', 'mod_index', 'callees',\n",
    "       'callers', 'show_node', 'vis_node_name', 'path']\n",
    "cols = ['rank', 'time (inc)', 'time', 'nid', 'line',\n",
    "       'module', 'name', 'type', 'callees',\n",
    "       'callers', 'show_node', 'path']\n",
    "selected_cols = ['rank', 'time (inc)', 'time', 'nid', 'line', 'name', 'module']\n",
    "\n",
    "projections = []\n",
    "for idx, state in enumerate(states):\n",
    "    print(\"Getting projections for {0}: {1}\".format(idx, state))\n",
    "    df = states[state].df[selected_cols]\n",
    "    df = df.groupby(['name']).mean()\n",
    "    X = np.vstack([df.values.tolist()])\n",
    "    proj = TSNE(random_state=RS).fit_transform(X)\n",
    "    print(\"Projection shape\", proj.shape)\n",
    "    projections.append(proj)"
   ]
  },
  {
   "cell_type": "code",
   "execution_count": 25,
   "metadata": {},
   "outputs": [],
   "source": [
    "y_projections = []\n",
    "for idx, state in enumerate(states):\n",
    "    df = states[state].df['module']\n",
    "    Y = np.vstack([df.values.tolist()])\n",
    "    y_projections.append(Y)"
   ]
  },
  {
   "cell_type": "code",
   "execution_count": 26,
   "metadata": {},
   "outputs": [
    {
     "name": "stderr",
     "output_type": "stream",
     "text": [
      "t:   5%|▌         | 5/100 [00:00<00:02, 39.78it/s, now=None]"
     ]
    },
    {
     "name": "stdout",
     "output_type": "stream",
     "text": [
      "MoviePy - Building file animation.gif with imageio.\n"
     ]
    },
    {
     "name": "stderr",
     "output_type": "stream",
     "text": [
      "                                                             \r"
     ]
    },
    {
     "data": {
      "image/png": "[encoded data removed]",
      "text/plain": [
       "<Figure size 576x576 with 1 Axes>"
      ]
     },
     "metadata": {
      "needs_background": "light"
     },
     "output_type": "display_data"
    }
   ],
   "source": [
    "max_length = 0\n",
    "for idx, projection in enumerate(projections):\n",
    "    max_length = max(max_length, len(projection))\n",
    "out_arr = []\n",
    "\n",
    "for idx, projection in enumerate(projections):\n",
    "    nan_arr = np.ones((np.max([len(ps) for ps in projection]),max_length))*np.nan\n",
    "    for i,c in enumerate(projection):\n",
    "        nan_arr[:len(c),i] = c\n",
    "    out_arr.append(nan_arr.T)\n",
    "\n",
    "X_iter = np.dstack(projection.reshape(-1, 2) for projection in out_arr)\n",
    "f, ax, sc, txts = scatter(X_iter[..., -1], [0])\n",
    "\n",
    "def make_frame_mpl(t):\n",
    "    i = int(t)\n",
    "    x = X_iter[..., int(i)]\n",
    "    sc.set_offsets(x)\n",
    "    for j, txt in zip(range(10), txts):\n",
    "#         xtext, ytext = np.median(x[y == j, :], axis=0)\n",
    "        txt.set_x(100)\n",
    "        txt.set_y(40)\n",
    "    return mplfig_to_npimage(f)\n",
    "\n",
    "animation = mpy.VideoClip(make_frame_mpl,\n",
    "                          duration=X_iter.shape[2]/1)\n",
    "animation.write_gif(\"animation.gif\", fps=1)"
   ]
  },
  {
   "cell_type": "code",
   "execution_count": 12,
   "metadata": {},
   "outputs": [
    {
     "name": "stdout",
     "output_type": "stream",
     "text": [
      "<class 'sklearn.utils.Bunch'>\n",
      "[0 1 2 ... 8 9 8]\n",
      "[[ 0.  0.  5. ...  0.  0.  0.]\n",
      " [ 0.  0.  1. ...  3.  0.  0.]\n",
      " [ 0.  0.  3. ...  4.  0.  0.]\n",
      " ...\n",
      " [ 0.  0.  4. ...  9.  0.  0.]\n",
      " [ 0.  0.  4. ...  9.  0.  0.]\n",
      " [ 0.  0.  2. ... 12.  0.  0.]]\n"
     ]
    }
   ],
   "source": [
    "digits = load_digits()\n",
    "print(type(digits))\n",
    "print(digits.target)\n",
    "X = np.vstack([digits.data[digits.target==i]\n",
    "               for i in range(10)])\n",
    "print(X)"
   ]
  },
  {
   "cell_type": "code",
   "execution_count": 13,
   "metadata": {},
   "outputs": [],
   "source": [
    "digits_proj = TSNE(random_state=RS).fit_transform(X)"
   ]
  },
  {
   "cell_type": "code",
   "execution_count": 14,
   "metadata": {},
   "outputs": [],
   "source": [
    "def scatter(x, colors):\n",
    "    # We choose a color palette with seaborn.\n",
    "    palette = np.array(sns.color_palette(\"hls\", 1))\n",
    "\n",
    "    # We create a scatter plot.\n",
    "    f = plt.figure(figsize=(8, 8))\n",
    "    ax = plt.subplot(aspect='equal')\n",
    "    x_values = [i for i in x[:, 0] if i != 'nan']\n",
    "    y_values = [j for j in x[:, 1] if j != 'nan']\n",
    "    sc = ax.scatter(x_values, y_values, lw=0, s=40)\n",
    "    plt.xlim(-25, 25)\n",
    "    plt.ylim(-25, 25)\n",
    "    ax.axis('off')\n",
    "    ax.axis('tight')\n",
    "\n",
    "    # We add the labels for each digit.\n",
    "    txts = []\n",
    "#     for i in range(10):\n",
    "#         # Position of each label.\n",
    "#         xtext, ytext = np.median(x[colors == i, :], axis=0)\n",
    "#         txt = ax.text(xtext, ytext, str(i), fontsize=24)\n",
    "#         txt.set_path_effects([\n",
    "#             PathEffects.Stroke(linewidth=5, foreground=\"w\"),\n",
    "#             PathEffects.Normal()])\n",
    "#         txts.append(txt)\n",
    "\n",
    "    return f, ax, sc, txts"
   ]
  },
  {
   "cell_type": "code",
   "execution_count": 32,
   "metadata": {},
   "outputs": [
    {
     "name": "stdout",
     "output_type": "stream",
     "text": [
      "osu_bcast.1.16.2019-09-04_01-36-36\n"
     ]
    },
    {
     "data": {
      "text/plain": [
       "(<Figure size 576x576 with 1 Axes>,\n",
       " <matplotlib.axes._subplots.AxesSubplot at 0x7f3624a30710>,\n",
       " <matplotlib.collections.PathCollection at 0x7f3624a5e1d0>,\n",
       " [])"
      ]
     },
     "execution_count": 32,
     "metadata": {},
     "output_type": "execute_result"
    },
    {
     "data": {
      "image/png": "[encoded data removed]",
      "text/plain": [
       "<Figure size 576x576 with 1 Axes>"
      ]
     },
     "metadata": {
      "needs_background": "light"
     },
     "output_type": "display_data"
    }
   ],
   "source": [
    "print(datasets[3])\n",
    "scatter(projections[3], [0])"
   ]
  },
  {
   "cell_type": "code",
   "execution_count": null,
   "metadata": {},
   "outputs": [],
   "source": [
    "#\n",
    "# Example 1 (ccPCA result with Wine dataset)\n",
    "#"
   ]
  },
  {
   "cell_type": "code",
   "execution_count": null,
   "metadata": {},
   "outputs": [],
   "source": [
    "dataset_name = \"wine\"\n",
    "data = np.loadtxt(\n",
    "        open(\"./sample_data/\" + dataset_name + \".csv\", \"rb\"),\n",
    "        delimiter=\",\",\n",
    "        skiprows=1)\n",
    "feature_names = np.genfromtxt(\n",
    "    \"./sample_data/\" + dataset_name + \".featurenames.csv\",\n",
    "    delimiter=\",\",\n",
    "    dtype='str')\n",
    "\n",
    "# last 3 columens are cluster label, t-SNE's x-, and y-coord\n",
    "X = data[:, :-3]\n",
    "y = np.int_(data[:, -3])\n",
    "print(data)"
   ]
  },
  {
   "cell_type": "code",
   "execution_count": null,
   "metadata": {},
   "outputs": [],
   "source": [
    "df = pd.read_csv('./sample_data/wine.csv')\n",
    "print(df)"
   ]
  },
  {
   "cell_type": "code",
   "execution_count": null,
   "metadata": {},
   "outputs": [],
   "source": [
    "target_label = 0\n",
    "\n",
    "# apply ccpca\n",
    "ccpca = CCPCA(n_components=2)\n",
    "ccpca.fit(\n",
    "    X[y == target_label],\n",
    "    X[y != target_label],\n",
    "    var_thres_ratio=0.5,\n",
    "    n_alphas=40,\n",
    "    max_log_alpha=0.5)\n",
    "\n",
    "# get results\n",
    "cpca_result = ccpca.transform(X)\n",
    "best_alpha = ccpca.get_best_alpha()\n",
    "cpca_fcs = ccpca.get_feat_contribs()"
   ]
  },
  {
   "cell_type": "code",
   "execution_count": null,
   "metadata": {},
   "outputs": [],
   "source": [
    "# print and plot results\n",
    "print(\"best alpha: \", best_alpha)\n",
    "print(\"feature contributions: \",cpca_fcs)\n",
    "plt.figure()\n",
    "plt.scatter(\n",
    "    cpca_result[y == target_label, 0],\n",
    "    cpca_result[y == target_label, 1],\n",
    "    color='navy',\n",
    "    alpha=.5,\n",
    "    label=\"Label\" + str(target_label))\n",
    "plt.scatter(\n",
    "    cpca_result[y != target_label, 0],\n",
    "    cpca_result[y != target_label, 1],\n",
    "    color='gray',\n",
    "    alpha=.5,\n",
    "    label=\"Others\")\n",
    "plt.legend(loc='best', shadow=False, scatterpoints=1)\n",
    "plt.show()"
   ]
  },
  {
   "cell_type": "code",
   "execution_count": null,
   "metadata": {},
   "outputs": [],
   "source": [
    "#\n",
    "# Example 2 (features' contributions view with Community & Crime dataset)\n",
    "#"
   ]
  },
  {
   "cell_type": "code",
   "execution_count": null,
   "metadata": {},
   "outputs": [],
   "source": [
    "dataset_name = \"crime\"\n",
    "data = np.loadtxt(\n",
    "        open(\"./sample_data/\" + dataset_name + \".csv\", \"rb\"),\n",
    "        delimiter=\",\",\n",
    "        skiprows=1)\n",
    "feature_names = np.genfromtxt(\n",
    "    \"./sample_data/\" + dataset_name + \".featurenames.csv\",\n",
    "    delimiter=\",\",\n",
    "    dtype='str')\n",
    "\n",
    "X = data[:, :-3]\n",
    "y = np.int_(data[:, -3])\n",
    "unique_labels = np.unique(y)"
   ]
  },
  {
   "cell_type": "code",
   "execution_count": null,
   "metadata": {},
   "outputs": [],
   "source": [
    "_, n_feats = X.shape\n",
    "n_labels = len(unique_labels)\n",
    "first_cpc_mat = np.zeros((n_feats, n_labels))\n",
    "feat_contrib_mat = np.zeros((n_feats, n_labels))\n",
    "\n",
    "# 1. get the scaled feature contributions and first cPC for each label\n",
    "ccpca = CCPCA(n_components=1)\n",
    "for i, target_label in enumerate(unique_labels):\n",
    "    ccpca.fit(\n",
    "        X[y == target_label],\n",
    "        X[y != target_label],\n",
    "        var_thres_ratio=0.5,\n",
    "        n_alphas=40,\n",
    "        max_log_alpha=0.5)\n",
    "\n",
    "    first_cpc_mat[:, i] = ccpca.get_first_component()\n",
    "    feat_contrib_mat[:, i] = ccpca.get_scaled_feat_contribs()\n",
    "\n",
    "# 2. apply optimal sign flipping\n",
    "OptSignFlip().opt_sign_flip(first_cpc_mat, feat_contrib_mat)\n",
    "\n",
    "# 3. apply hierarchical clustering with optimal-leaf-ordering\n",
    "mr = MatReorder()\n",
    "mr.fit_transform(feat_contrib_mat)\n",
    "\n",
    "# 4. apply aggregation\n",
    "n_feats_shown = 25\n",
    "agg_feat_contrib_mat, label_to_rows, label_to_rep_row = mr.aggregate_rows(feat_contrib_mat,\n",
    "                                                                          n_feats_shown,\n",
    "                                                                          agg_method='abs_max')"
   ]
  },
  {
   "cell_type": "code",
   "execution_count": null,
   "metadata": {},
   "outputs": [],
   "source": [
    "# plot result\n",
    "\n",
    "# plot heatmap\n",
    "fig, ax = plt.subplots(figsize=(8, 12))\n",
    "im = ax.imshow(agg_feat_contrib_mat, cmap='coolwarm', aspect='auto')\n",
    "\n",
    "# plot cluster names\n",
    "xlabel_names = [None] * n_labels\n",
    "for i, col in enumerate(mr.order_col_):\n",
    "    xlabel_names[i] = 'Label ' + str(unique_labels[col])\n",
    "ax.set_xticks(np.arange(n_labels))\n",
    "ax.set_xticklabels(xlabel_names)\n",
    "\n",
    "# plot feature names\n",
    "ylabel_names = np.array(feature_names)[mr.order_row_]\n",
    "ylabel_names = np.array(feature_names, dtype=object)[label_to_rep_row]\n",
    "for i in range(len(ylabel_names)):\n",
    "    name = ylabel_names[i]\n",
    "    rows = label_to_rows[i]\n",
    "    if len(rows) > 1:\n",
    "        ylabel_names[i] = name + ', ' + str(len(rows) - 1) + ' more'\n",
    "ax.set_yticks(np.arange(min(n_feats_shown, n_feats)))\n",
    "ax.yaxis.tick_right()\n",
    "ax.set_yticklabels(ylabel_names, fontsize=28)\n",
    "\n",
    "# rotate the tick labels\n",
    "xlbls = ax.get_xticklabels()\n",
    "plt.setp(xlbls, rotation=45, ha=\"right\",\n",
    "         rotation_mode=\"anchor\")\n",
    "\n",
    "plt.show()"
   ]
  },
  {
   "cell_type": "code",
   "execution_count": null,
   "metadata": {},
   "outputs": [],
   "source": []
  }
 ],
 "metadata": {
  "kernelspec": {
   "display_name": "Python 3",
   "language": "python",
   "name": "python3"
  },
  "language_info": {
   "codemirror_mode": {
    "name": "ipython",
    "version": 3
   },
   "file_extension": ".py",
   "mimetype": "text/x-python",
   "name": "python",
   "nbconvert_exporter": "python",
   "pygments_lexer": "ipython3",
   "version": "3.6.8"
  }
 },
 "nbformat": 4,
 "nbformat_minor": 2
}
