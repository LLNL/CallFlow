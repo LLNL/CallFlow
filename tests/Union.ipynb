{
 "cells": [
  {
   "cell_type": "code",
   "execution_count": 1,
   "metadata": {},
   "outputs": [],
   "source": [
    "from hatchet import *\n",
    "import pandas as pd\n",
    "import numpy as np\n",
    "from state import State\n",
    "import matplotlib.pyplot as plt\n",
    "import json\n",
    "import utils"
   ]
  },
  {
   "cell_type": "code",
   "execution_count": 2,
   "metadata": {},
   "outputs": [],
   "source": [
    "%matplotlib inline"
   ]
  },
  {
   "cell_type": "code",
   "execution_count": 4,
   "metadata": {},
   "outputs": [],
   "source": [
    "pd.options.display.max_rows = 75\n",
    "pd.options.display.float_format = '{:,.2f}'.format\n",
    "plt.rcParams['figure.figsize'] = (16, 12)"
   ]
  },
  {
   "cell_type": "code",
   "execution_count": 10,
   "metadata": {},
   "outputs": [],
   "source": [
    "datasets = ['calc-pi', 'calc-pi-half']\n",
    "dir_name = \"/home/vidi/Work/llnl/CallFlow/.callflow/\"\n",
    "# dir_name = \"/Users/jarus/ucd/Research/Visualisation/projects/CallFlow/.callflow/\""
   ]
  },
  {
   "cell_type": "code",
   "execution_count": 7,
   "metadata": {},
   "outputs": [],
   "source": [
    "def replace_str_with_Node(df, graph):\n",
    "        mapper = {}\n",
    "        def dfs_recurse(root):\n",
    "            for node in root.children: \n",
    "                mapper[node.callpath[-1]] = Node(node.nid, node.callpath, None)\n",
    "                dfs_recurse(node)\n",
    "        for root in graph.roots:\n",
    "            mapper[root.callpath[-1]] = Node(root.nid, root.callpath, None)\n",
    "            dfs_recurse(root)\n",
    "        df['node'] = df['node'].apply(lambda node: mapper[node] if node in mapper else '')\n",
    "        return df"
   ]
  },
  {
   "cell_type": "code",
   "execution_count": 12,
   "metadata": {},
   "outputs": [],
   "source": [
    "def read_gf(name):\n",
    "        state = State()\n",
    "        path = dir_name + name\n",
    "        df_filepath = path + '/filter_df.csv'\n",
    "        entire_df_filepath = path + '/entire_df.csv'\n",
    "        graph_filepath = path + '/filter_graph.json'\n",
    "        entire_graph_filepath = path + '/entire_graph.json'   \n",
    "\n",
    "        with open(graph_filepath, 'r') as graphFile:\n",
    "            data = json.load(graphFile)\n",
    "\n",
    "        state.gf = GraphFrame()\n",
    "        state.gf.from_literal(data)\n",
    "\n",
    "        with open(entire_graph_filepath, 'r') as entire_graphFile:\n",
    "            entire_data = json.load(entire_graphFile)\n",
    "            \n",
    "        state.entire_gf = GraphFrame()\n",
    "        state.entire_gf.from_literal(entire_data)\n",
    "\n",
    "        state.df = pd.read_csv(df_filepath)\n",
    "        state.entire_df = pd.read_csv(entire_df_filepath)\n",
    "\n",
    "        state.graph = state.gf.graph\n",
    "        state.entire_graph = state.entire_gf.graph\n",
    "\n",
    "#         state.map = state.node_hash_mapper()\n",
    "\n",
    "        # Print the module group by information. \n",
    "        # print(state.df.groupby(['module']).agg(['mean','count']))\n",
    "\n",
    "        # replace df['node'] from str to the Node object.\n",
    "        state.df = replace_str_with_Node(state.df, state.graph)\n",
    "        state.entire_df = replace_str_with_Node(state.entire_df, state.entire_graph)\n",
    "\n",
    "        # add path to the dataframes. \n",
    "        # state.df['path'] = state.df['node'].apply(lambda node: node.callpath)\n",
    "        # state.entire_df['path'] = state.entire_df['node'].apply(lambda node: node.callpath if node else [])\n",
    "\n",
    "        return state"
   ]
  },
  {
   "cell_type": "code",
   "execution_count": 14,
   "metadata": {},
   "outputs": [
    {
     "name": "stdout",
     "output_type": "stream",
     "text": [
      "None\n"
     ]
    }
   ],
   "source": [
    "states = {}\n",
    "for dataset in datasets:\n",
    "    states[dataset] = read_gf(dataset)\n",
    "print(states[datasets[0]].g)"
   ]
  }
 ],
 "metadata": {
  "kernelspec": {
   "display_name": "Python 3",
   "language": "python",
   "name": "python3"
  },
  "language_info": {
   "codemirror_mode": {
    "name": "ipython",
    "version": 3
   },
   "file_extension": ".py",
   "mimetype": "text/x-python",
   "name": "python",
   "nbconvert_exporter": "python",
   "pygments_lexer": "ipython3",
   "version": "3.6.7"
  }
 },
 "nbformat": 4,
 "nbformat_minor": 2
}
