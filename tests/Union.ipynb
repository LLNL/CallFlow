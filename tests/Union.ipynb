{
 "cells": [
  {
   "cell_type": "code",
   "execution_count": 1,
   "metadata": {},
   "outputs": [],
   "source": [
    "from hatchet import *\n",
    "import pandas as pd\n",
    "import numpy as np\n",
    "from state import State\n",
    "import matplotlib.pyplot as plt\n",
    "import json\n",
    "import utils\n",
    "import networkx as nx\n",
    "from ast import literal_eval as make_tuple"
   ]
  },
  {
   "cell_type": "code",
   "execution_count": 2,
   "metadata": {},
   "outputs": [],
   "source": [
    "import read_multiple_datasets as read_datasets\n",
    "import literal_multiple"
   ]
  },
  {
   "cell_type": "code",
   "execution_count": 3,
   "metadata": {},
   "outputs": [],
   "source": [
    "%matplotlib inline"
   ]
  },
  {
   "cell_type": "code",
   "execution_count": 5,
   "metadata": {},
   "outputs": [],
   "source": [
    "pd.options.display.max_rows = 75\n",
    "pd.options.display.float_format = '{:,.2f}'.format\n",
    "plt.rcParams['figure.figsize'] = (16, 12)"
   ]
  },
  {
   "cell_type": "code",
   "execution_count": 6,
   "metadata": {},
   "outputs": [],
   "source": [
    "datasets = ['calc-pi', 'calc-pi-half']"
   ]
  },
  {
   "cell_type": "code",
   "execution_count": 7,
   "metadata": {},
   "outputs": [],
   "source": [
    "states = read_datasets.run(datasets)"
   ]
  },
  {
   "cell_type": "code",
   "execution_count": 8,
   "metadata": {},
   "outputs": [],
   "source": [
    "exp_states = literal_multiple.run()"
   ]
  },
  {
   "cell_type": "code",
   "execution_count": 9,
   "metadata": {},
   "outputs": [
    {
     "name": "stdout",
     "output_type": "stream",
     "text": [
      "        index  nid    node    name  time (inc)  time\n",
      "node                                                \n",
      "foo         0    0     foo     foo      180.00  0.00\n",
      "bar         1    1     bar     bar      100.00 10.00\n",
      "baz         2    2     baz     baz        0.00 65.00\n",
      "grault      3    3  grault  grault        0.00 25.00\n",
      "qux         4    4     qux     qux       80.00  0.00\n",
      "baz         5    5     baz     baz        0.00 45.00\n",
      "grault      6    6  grault  grault        0.00 35.00\n",
      "waldo       7    0   waldo   waldo       80.00  0.00\n",
      "bar         8    1     bar     bar       60.00 20.00\n",
      "baz         9    2     baz     baz        0.00 30.00\n",
      "grault     10    3  grault  grault        0.00 30.00\n"
     ]
    }
   ],
   "source": [
    "print(exp_states['literal-1']['df'])"
   ]
  },
  {
   "cell_type": "code",
   "execution_count": 10,
   "metadata": {},
   "outputs": [
    {
     "name": "stdout",
     "output_type": "stream",
     "text": [
      "['<program root>', 'main', '62:MPI_Finalize', 'PMPI_Finalize', '294:MPID_Finalize', '162:MPIDI_CH3_Finalize', '230:psm_dofinalize', '36:<unknown procedure>', '<unknown procedure>', '<unknown file>:0']\n",
      "['<program root>', 'main', '62:MPI_Finalize', 'PMPI_Finalize', '294:MPID_Finalize', '162:MPIDI_CH3_Finalize', '230:psm_dofinalize', '36:<unknown procedure>', '<unknown procedure>', '<unknown file>:0']\n",
      "['<program root>', 'main', '27:MPI_Init', 'PMPI_Init', '198:MPIR_Init_thread', '512:MPID_Init', '363:MPIDI_CH3_Init', '24:psm_doinit', '348:<unknown procedure>', '<unknown procedure>', 'pthread_create', '<unknown file>:0', '62:MPI_Finalize', 'PMPI_Finalize', '294:MPID_Finalize', '162:MPIDI_CH3_Finalize', '230:psm_dofinalize', '36:<unknown procedure>', '__GI_sched_yield', 'interp.c:0']\n"
     ]
    }
   ],
   "source": [
    "print(states['calc-pi'].g.nodes())\n",
    "print(states['calc-pi'].group_g.nodes())\n",
    "print(states['calc-pi'].entire_g.nodes())"
   ]
  },
  {
   "cell_type": "code",
   "execution_count": 11,
   "metadata": {},
   "outputs": [
    {
     "name": "stdout",
     "output_type": "stream",
     "text": [
      "[('<program root>', 'main'), ('main', '27:MPI_Init'), ('main', '62:MPI_Finalize'), ('27:MPI_Init', 'PMPI_Init'), ('PMPI_Init', '198:MPIR_Init_thread'), ('198:MPIR_Init_thread', '512:MPID_Init'), ('512:MPID_Init', '363:MPIDI_CH3_Init'), ('363:MPIDI_CH3_Init', '24:psm_doinit'), ('24:psm_doinit', '348:<unknown procedure>'), ('348:<unknown procedure>', '<unknown procedure>'), ('<unknown procedure>', '<unknown procedure>'), ('<unknown procedure>', 'pthread_create'), ('<unknown procedure>', '<unknown file>:0'), ('<unknown procedure>', '__GI_sched_yield'), ('<unknown procedure>', 'interp.c:0'), ('pthread_create', '<unknown file>:0'), ('62:MPI_Finalize', 'PMPI_Finalize'), ('PMPI_Finalize', '294:MPID_Finalize'), ('294:MPID_Finalize', '162:MPIDI_CH3_Finalize'), ('162:MPIDI_CH3_Finalize', '230:psm_dofinalize'), ('230:psm_dofinalize', '36:<unknown procedure>'), ('36:<unknown procedure>', '<unknown procedure>'), ('__GI_sched_yield', 'interp.c:0')]\n"
     ]
    }
   ],
   "source": [
    "entire_g = states['calc-pi'].entire_g\n",
    "print(entire_g.edges())"
   ]
  },
  {
   "cell_type": "code",
   "execution_count": 12,
   "metadata": {},
   "outputs": [],
   "source": [
    "entire_g.remove_edge('<unknown procedure>', '<unknown procedure>')"
   ]
  },
  {
   "cell_type": "code",
   "execution_count": 13,
   "metadata": {},
   "outputs": [
    {
     "name": "stdout",
     "output_type": "stream",
     "text": [
      "[('<program root>', 'main'), ('main', '27:MPI_Init'), ('main', '62:MPI_Finalize'), ('27:MPI_Init', 'PMPI_Init'), ('PMPI_Init', '198:MPIR_Init_thread'), ('198:MPIR_Init_thread', '512:MPID_Init'), ('512:MPID_Init', '363:MPIDI_CH3_Init'), ('363:MPIDI_CH3_Init', '24:psm_doinit'), ('24:psm_doinit', '348:<unknown procedure>'), ('348:<unknown procedure>', '<unknown procedure>'), ('<unknown procedure>', 'pthread_create'), ('<unknown procedure>', '<unknown file>:0'), ('<unknown procedure>', '__GI_sched_yield'), ('<unknown procedure>', 'interp.c:0'), ('pthread_create', '<unknown file>:0'), ('62:MPI_Finalize', 'PMPI_Finalize'), ('PMPI_Finalize', '294:MPID_Finalize'), ('294:MPID_Finalize', '162:MPIDI_CH3_Finalize'), ('162:MPIDI_CH3_Finalize', '230:psm_dofinalize'), ('230:psm_dofinalize', '36:<unknown procedure>'), ('36:<unknown procedure>', '<unknown procedure>'), ('__GI_sched_yield', 'interp.c:0')]\n"
     ]
    }
   ],
   "source": [
    "print(entire_g.edges())"
   ]
  },
  {
   "cell_type": "code",
   "execution_count": 15,
   "metadata": {},
   "outputs": [
    {
     "name": "stdout",
     "output_type": "stream",
     "text": [
      "['<program root>', 'main', '62:MPI_Finalize', 'PMPI_Finalize', '294:MPID_Finalize', '162:MPIDI_CH3_Finalize', '230:psm_dofinalize', '36:<unknown procedure>', '27:MPI_Init', 'PMPI_Init', '198:MPIR_Init_thread', '512:MPID_Init', '363:MPIDI_CH3_Init', '24:psm_doinit', '348:<unknown procedure>', '<unknown procedure>', '__GI_sched_yield', 'interp.c:0', 'pthread_create', '<unknown file>:0']\n"
     ]
    }
   ],
   "source": [
    "entire_topology = nx.topological_sort(entire_g)\n",
    "print(list(entire_topology))"
   ]
  }
 ],
 "metadata": {
  "kernelspec": {
   "display_name": "Python 3",
   "language": "python",
   "name": "python3"
  },
  "language_info": {
   "codemirror_mode": {
    "name": "ipython",
    "version": 3
   },
   "file_extension": ".py",
   "mimetype": "text/x-python",
   "name": "python",
   "nbconvert_exporter": "python",
   "pygments_lexer": "ipython3",
   "version": "3.6.8"
  }
 },
 "nbformat": 4,
 "nbformat_minor": 2
}
