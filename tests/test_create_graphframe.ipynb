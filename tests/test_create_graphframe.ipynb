{
 "cells": [
  {
   "cell_type": "code",
   "execution_count": 8,
   "metadata": {},
   "outputs": [],
   "source": [
    "from hatchet import *\n",
    "import pandas as pd\n",
    "import numpy as np"
   ]
  },
  {
   "cell_type": "code",
   "execution_count": 9,
   "metadata": {},
   "outputs": [],
   "source": [
    "data_path = '/Users/jarus/ucd/Research/Visualisation/projects/CallFlow/data/hpctoolkit-lulesh-2'\n",
    "# data_path = '/home/vidi/Work/llnl/CallFlow/data/kripke/mvapich2'"
   ]
  },
  {
   "cell_type": "code",
   "execution_count": 10,
   "metadata": {},
   "outputs": [
    {
     "name": "stdout",
     "output_type": "stream",
     "text": [
      "8\n",
      "Times:\n",
      "    fill tables:         0.00s\n",
      "    read metric db:      0.06s\n",
      "    graph construction:  3.02s\n",
      "    data frame:          0.03s\n",
      "\n"
     ]
    }
   ],
   "source": [
    "gf = GraphFrame()\n",
    "gf.from_hpctoolkit(data_path)"
   ]
  },
  {
   "cell_type": "code",
   "execution_count": 11,
   "metadata": {},
   "outputs": [],
   "source": [
    "df = gf.dataframe\n",
    "graph = gf.graph"
   ]
  },
  {
   "cell_type": "code",
   "execution_count": 13,
   "metadata": {},
   "outputs": [
    {
     "name": "stdout",
     "output_type": "stream",
     "text": [
      "<class 'pandas.core.frame.DataFrame'>\n",
      "MultiIndex: 10312 entries, (<program root>, 0) to (interp.c:0, 7)\n",
      "Data columns (total 10 columns):\n",
      "time (inc)    10312 non-null float64\n",
      "time          10312 non-null float64\n",
      "nid           10312 non-null int64\n",
      "rank          10312 non-null int64\n",
      "name          10312 non-null object\n",
      "type          10312 non-null object\n",
      "file          10312 non-null object\n",
      "line          10312 non-null object\n",
      "module        2864 non-null object\n",
      "node          10312 non-null object\n",
      "dtypes: float64(2), int64(2), object(6)\n",
      "memory usage: 846.1+ KB\n",
      "None\n",
      "                                                      time (inc)         time  \\\n",
      "module                                                                          \n",
      "/collab/usr/global/tools/hpctoolkit/chaos_5_x86...  1.124668e+06     0.000000   \n",
      "/g/g92/bhatele1/llnl/hpctoolkit/lulesh/lulesh2.0    1.101783e+05  8760.722426   \n",
      "/lib64/libc-2.12.so                                 7.663875e+03     0.000000   \n",
      "/usr/lib64/libinfinipath.so.4.0                     7.473333e+02     0.000000   \n",
      "/usr/lib64/libpsm_infinipath.so.1.14                1.136939e+05     0.000000   \n",
      "/usr/local/tools/mvapich2-intel-debug-2.2/lib/l...  1.236380e+05     0.000000   \n",
      "\n",
      "                                                            nid  rank  \n",
      "module                                                                 \n",
      "/collab/usr/global/tools/hpctoolkit/chaos_5_x86...   460.800000   3.5  \n",
      "/g/g92/bhatele1/llnl/hpctoolkit/lulesh/lulesh2.0     848.485294   3.5  \n",
      "/lib64/libc-2.12.so                                 1003.677419   3.5  \n",
      "/usr/lib64/libinfinipath.so.4.0                      718.000000   3.5  \n",
      "/usr/lib64/libpsm_infinipath.so.1.14                 944.333333   3.5  \n",
      "/usr/local/tools/mvapich2-intel-debug-2.2/lib/l...   713.457143   3.5  \n"
     ]
    }
   ],
   "source": [
    "print(df.info())\n",
    "print(df.groupby(['module']).mean())"
   ]
  }
 ],
 "metadata": {
  "kernelspec": {
   "display_name": "Python 3",
   "language": "python",
   "name": "python3"
  },
  "language_info": {
   "codemirror_mode": {
    "name": "ipython",
    "version": 3
   },
   "file_extension": ".py",
   "mimetype": "text/x-python",
   "name": "python",
   "nbconvert_exporter": "python",
   "pygments_lexer": "ipython3",
   "version": "3.6.8"
  }
 },
 "nbformat": 4,
 "nbformat_minor": 2
}
