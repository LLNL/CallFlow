{
 "cells": [
  {
   "cell_type": "code",
   "execution_count": 8,
   "metadata": {},
   "outputs": [],
   "source": [
    "import networkx as nx\n",
    "import pandas\n",
    "from hatchet import *\n",
    "import os\n",
    "import matplotlib.pyplot as plt\n",
    "import seaborn.apionly as sns\n",
    "import platform\n",
    "import json\n",
    "from ast import literal_eval as make_tuple\n",
    "import matplotlib.cm as cm\n",
    "import utils\n",
    "import mpld3"
   ]
  },
  {
   "cell_type": "code",
   "execution_count": 9,
   "metadata": {},
   "outputs": [],
   "source": [
    "from state import State\n",
    "from preprocess import PreProcess"
   ]
  },
  {
   "cell_type": "code",
   "execution_count": 10,
   "metadata": {},
   "outputs": [],
   "source": [
    "pd.options.display.max_rows = 10\n",
    "pd.options.display.float_format = '{:,.2f}'.format\n",
    "plt.rcParams['figure.figsize'] = (16, 12)"
   ]
  },
  {
   "cell_type": "code",
   "execution_count": 41,
   "metadata": {},
   "outputs": [],
   "source": [
    "dirname = \"/Users/jarus/ucd/Research/Visualisation/projects/CallFlow/\"\n",
    "# dirname = \"/Users/padmanabanke1/CallFlow/.callflow\"\n",
    "# dirname = \"/home/vidi/Work/llnl/CallFlow/.callflow\""
   ]
  },
  {
   "cell_type": "code",
   "execution_count": 44,
   "metadata": {},
   "outputs": [],
   "source": [
    "class Create:\n",
    "    '''\n",
    "    Creates a graph frame.\n",
    "    Input : config variable, and dataset name\n",
    "    Output : State object containing components of graphframe as separate object variables. \n",
    "    '''\n",
    "    def __init__(self, config, name):\n",
    "        utils.debug(\"Creating graphframes: \", name)\n",
    "        self.config = config\n",
    "        self.name = name\n",
    "        self.run()\n",
    "\n",
    "    def run(self):\n",
    "        dirname = \"/Users/jarus/ucd/Research/Visualisation/projects/CallFlow/\"\n",
    "        callflow_path = os.path.abspath(dirname)\n",
    "        data_path = os.path.abspath(os.path.join(callflow_path, self.config['paths'][self.name]))\n",
    "\n",
    "        gf = GraphFrame()\n",
    "#         if self.config.format[self.name] == 'hpctoolkit':\n",
    "        gf.from_hpctoolkit(data_path)\n",
    "#         elif self.config.format[self.name] == 'caliper':                \n",
    "#             gf.from_caliper(data_path)  \n",
    "\n",
    "        self.gf = gf\n",
    "        self.df = gf.dataframe\n",
    "        self.node_hash_map = utils.node_hash_mapper(self.df)    \n",
    "        self.graph = gf.graph"
   ]
  },
  {
   "cell_type": "code",
   "execution_count": 31,
   "metadata": {},
   "outputs": [],
   "source": [
    "def create(name):\n",
    "    state = State()\n",
    "    create = Create(config, name)\n",
    "\n",
    "    state.entire_gf = create.gf\n",
    "    state.entire_df = create.df\n",
    "    state.entire_graph = create.graph\n",
    "        \n",
    "        # print(\"After Creating.\")\n",
    "        # print(state.df.groupby(['module']).mean())\n",
    "    return state"
   ]
  },
  {
   "cell_type": "code",
   "execution_count": 32,
   "metadata": {},
   "outputs": [],
   "source": [
    "class Filter:\n",
    "    '''\n",
    "    Filter the graphframe.\n",
    "    Input: State object, parameter to filterBy (could be inclusive/exclusive, \n",
    "            filterPerc: user provided filter percentage (1-100))\n",
    "    '''\n",
    "    def __init__(self, state, filterBy, filterPerc):\n",
    "        utils.debug('filter By:', filterBy)\n",
    "        utils.debug('filter Perc:', filterPerc)\n",
    "        self.state = state\n",
    "        self.graph = state.entire_graph\n",
    "        self.df = state.entire_df\n",
    "        self.gf = state.entire_gf\n",
    "\n",
    "        self.df.set_index(['node', 'rank'], drop=False, inplace=True)\n",
    "\n",
    "        # self.df = pd.MultiIndex.from_frame(self.df, names=['node', 'rank'])\n",
    "        self.gf.dataframe = self.df\n",
    "        \n",
    "        self.filterBy = filterBy\n",
    "        self.filterPercInDecimals = int(filterPerc)/100\n",
    "        # self.filterPercInDecimals = 0.0001 \n",
    "        \n",
    "        self.fgf = self.run() \n",
    "        self.fgf = self.graft()\n",
    "\n",
    "        # update df and graph after filtering.\n",
    "        self.df = self.fgf.dataframe\n",
    "        self.graph = self.fgf.graph\n",
    "\n",
    "    def run(self):\n",
    "        log.info('Filtering the graph.')\n",
    "        t = time.time()\n",
    "        if self.filterBy == \"Inclusive\":\n",
    "            max_inclusive_time = utils.getMaxIncTime_from_gf(self.graph, self.df)\n",
    "            filter_gf = self.gf.filter(lambda x: True if(x['time (inc)'] > self.filterPercInDecimals*max_inclusive_time) else False)\n",
    "        elif filterBy == \"Exclusive\":\n",
    "            max_exclusive_time = utils.getMaxExcTime_from_gf(self.graph, self.df)\n",
    "            log.info('[Filter] By Exclusive time = {0})'.format(max_exclusive_time))\n",
    "            filter_gf = self.gf.filter(lambda x: True if (x['time'] >= self.filterPercInDecimals*max_exclusive_time) else False)\n",
    "        else:\n",
    "            log.warn(\"Not filtering.... Can take forever. Thou were warned\")\n",
    "            filter_gf = self.gf\n",
    "        \n",
    "        log.info('[Filter] Removed {0} rows. (time={1})'.format(self.gf.dataframe.shape[0] - filter_gf.dataframe.shape[0], time.time() - t))\n",
    "\n",
    "        return filter_gf\n",
    "\n",
    "    def graft(self):\n",
    "        log.info(\"Squashing the graph.\")\n",
    "        t = time.time()\n",
    "        fgf = self.fgf.squash()[0]\n",
    "        old_new_id_mapping = self.fgf.squash()[1]\n",
    "        log.info(\"[Squash] {1} rows in dataframe (time={0})\".format(time.time() - t, fgf.dataframe.shape[0]))\n",
    "        return fgf"
   ]
  },
  {
   "cell_type": "code",
   "execution_count": 49,
   "metadata": {},
   "outputs": [],
   "source": [
    " def process(state, gf_type):        \n",
    "        # Pre-process the dataframe and Graph. \n",
    "        preprocess = PreProcess.Builder(state, gf_type) \\\n",
    "            .add_n_index() \\\n",
    "            .add_mod_index() \\\n",
    "            .add_callers_and_callees() \\\n",
    "            .add_show_node() \\\n",
    "            .add_vis_node_name() \\\n",
    "            .update_module_name() \\\n",
    "            .add_path() \\\n",
    "            .build()\n",
    "\n",
    "        state.gf = preprocess.gf\n",
    "        state.df = preprocess.df\n",
    "        state.graph = preprocess.graph\n",
    "\n",
    "        return state"
   ]
  },
  {
   "cell_type": "code",
   "execution_count": 50,
   "metadata": {},
   "outputs": [
    {
     "name": "stderr",
     "output_type": "stream",
     "text": [
      "\u001b[1m CallFlow:  \u001b[32m [callfow.py] Creating graphframes:  Data: \"calc-pi\"\u001b[0m\n"
     ]
    },
    {
     "name": "stdout",
     "output_type": "stream",
     "text": [
      "Times:\n",
      "    fill tables:         0.00s\n",
      "    read metric db:      0.10s\n",
      "    graph construction:  0.05s\n",
      "    data frame:          0.01s\n",
      "\n"
     ]
    },
    {
     "ename": "TypeError",
     "evalue": "__init__() takes 2 positional arguments but 3 were given",
     "output_type": "error",
     "traceback": [
      "\u001b[0;31m---------------------------------------------------------------------------\u001b[0m",
      "\u001b[0;31mTypeError\u001b[0m                                 Traceback (most recent call last)",
      "\u001b[0;32m<ipython-input-50-c29f93ae3937>\u001b[0m in \u001b[0;36m<module>\u001b[0;34m\u001b[0m\n\u001b[1;32m      6\u001b[0m }\n\u001b[1;32m      7\u001b[0m \u001b[0mstate\u001b[0m \u001b[0;34m=\u001b[0m \u001b[0mcreate\u001b[0m\u001b[0;34m(\u001b[0m\u001b[0mdataset_name\u001b[0m\u001b[0;34m)\u001b[0m\u001b[0;34m\u001b[0m\u001b[0;34m\u001b[0m\u001b[0m\n\u001b[0;32m----> 8\u001b[0;31m \u001b[0mstate\u001b[0m \u001b[0;34m=\u001b[0m \u001b[0mprocess\u001b[0m\u001b[0;34m(\u001b[0m\u001b[0mstate\u001b[0m\u001b[0;34m,\u001b[0m \u001b[0;34m'entire'\u001b[0m\u001b[0;34m)\u001b[0m\u001b[0;34m\u001b[0m\u001b[0;34m\u001b[0m\u001b[0m\n\u001b[0m\u001b[1;32m      9\u001b[0m \u001b[0mwrite_gf\u001b[0m\u001b[0;34m(\u001b[0m\u001b[0mstate\u001b[0m\u001b[0;34m,\u001b[0m \u001b[0mdataset_name\u001b[0m\u001b[0;34m,\u001b[0m \u001b[0;34m'entire'\u001b[0m\u001b[0;34m)\u001b[0m\u001b[0;34m\u001b[0m\u001b[0;34m\u001b[0m\u001b[0m\n\u001b[1;32m     10\u001b[0m \u001b[0mstates\u001b[0m\u001b[0;34m[\u001b[0m\u001b[0mdataset_name\u001b[0m\u001b[0;34m]\u001b[0m \u001b[0;34m=\u001b[0m \u001b[0mself\u001b[0m\u001b[0;34m.\u001b[0m\u001b[0mfilter\u001b[0m\u001b[0;34m(\u001b[0m\u001b[0mstates\u001b[0m\u001b[0;34m[\u001b[0m\u001b[0mdataset_name\u001b[0m\u001b[0;34m]\u001b[0m\u001b[0;34m,\u001b[0m \u001b[0mfilterBy\u001b[0m\u001b[0;34m,\u001b[0m \u001b[0mfilterPerc\u001b[0m\u001b[0;34m)\u001b[0m\u001b[0;34m\u001b[0m\u001b[0;34m\u001b[0m\u001b[0m\n",
      "\u001b[0;32m<ipython-input-49-307076be4135>\u001b[0m in \u001b[0;36mprocess\u001b[0;34m(state, gf_type)\u001b[0m\n\u001b[1;32m      1\u001b[0m \u001b[0;32mdef\u001b[0m \u001b[0mprocess\u001b[0m\u001b[0;34m(\u001b[0m\u001b[0mstate\u001b[0m\u001b[0;34m,\u001b[0m \u001b[0mgf_type\u001b[0m\u001b[0;34m)\u001b[0m\u001b[0;34m:\u001b[0m\u001b[0;34m\u001b[0m\u001b[0;34m\u001b[0m\u001b[0m\n\u001b[1;32m      2\u001b[0m        \u001b[0;31m# Pre-process the dataframe and Graph.\u001b[0m\u001b[0;34m\u001b[0m\u001b[0;34m\u001b[0m\u001b[0;34m\u001b[0m\u001b[0m\n\u001b[0;32m----> 3\u001b[0;31m        \u001b[0mpreprocess\u001b[0m \u001b[0;34m=\u001b[0m \u001b[0mPreProcess\u001b[0m\u001b[0;34m.\u001b[0m\u001b[0mBuilder\u001b[0m\u001b[0;34m(\u001b[0m\u001b[0mstate\u001b[0m\u001b[0;34m,\u001b[0m \u001b[0mgf_type\u001b[0m\u001b[0;34m)\u001b[0m\u001b[0;31m \u001b[0m\u001b[0;31m\\\u001b[0m\u001b[0;34m\u001b[0m\u001b[0;34m\u001b[0m\u001b[0m\n\u001b[0m\u001b[1;32m      4\u001b[0m            \u001b[0;34m.\u001b[0m\u001b[0madd_n_index\u001b[0m\u001b[0;34m(\u001b[0m\u001b[0;34m)\u001b[0m\u001b[0;31m \u001b[0m\u001b[0;31m\\\u001b[0m\u001b[0;34m\u001b[0m\u001b[0;34m\u001b[0m\u001b[0m\n\u001b[1;32m      5\u001b[0m            \u001b[0;34m.\u001b[0m\u001b[0madd_mod_index\u001b[0m\u001b[0;34m(\u001b[0m\u001b[0;34m)\u001b[0m\u001b[0;31m \u001b[0m\u001b[0;31m\\\u001b[0m\u001b[0;34m\u001b[0m\u001b[0;34m\u001b[0m\u001b[0m\n",
      "\u001b[0;31mTypeError\u001b[0m: __init__() takes 2 positional arguments but 3 were given"
     ]
    }
   ],
   "source": [
    "dataset_name = 'calc-pi'\n",
    "config = {\n",
    "    'paths': {\n",
    "        'calc-pi': './data/hpctoolkit-cpi-database',\n",
    "    }\n",
    "}\n",
    "state = create(dataset_name)\n",
    "state = process(state, 'entire')\n",
    "write_gf(state, dataset_name, 'entire')\n",
    "states[dataset_name] = self.filter(states[dataset_name], filterBy, filterPerc) \n",
    "self.write_gf(states[dataset_name], dataset_name, 'filter')"
   ]
  }
 ],
 "metadata": {
  "kernelspec": {
   "display_name": "Python 3",
   "language": "python",
   "name": "python3"
  },
  "language_info": {
   "codemirror_mode": {
    "name": "ipython",
    "version": 3
   },
   "file_extension": ".py",
   "mimetype": "text/x-python",
   "name": "python",
   "nbconvert_exporter": "python",
   "pygments_lexer": "ipython3",
   "version": "3.6.8"
  }
 },
 "nbformat": 4,
 "nbformat_minor": 2
}
