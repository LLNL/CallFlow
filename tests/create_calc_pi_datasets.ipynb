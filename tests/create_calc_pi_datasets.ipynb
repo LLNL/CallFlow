{
 "cells": [
  {
   "cell_type": "code",
   "execution_count": 38,
   "metadata": {},
   "outputs": [],
   "source": [
    "from hatchet import *\n",
    "import json\n",
    "from state import State\n",
    "from preprocess import PreProcess\n",
    "import numpy as np\n",
    "import random"
   ]
  },
  {
   "cell_type": "code",
   "execution_count": 39,
   "metadata": {},
   "outputs": [],
   "source": [
    "dirname = '/Users/jarus/ucd/Research/Visualisation/projects/CallFlow/.callflow/calc-pi-all'\n",
    "dataset = 'calc-pi'"
   ]
  },
  {
   "cell_type": "code",
   "execution_count": 40,
   "metadata": {},
   "outputs": [],
   "source": [
    "pd.options.display.max_rows = 10\n",
    "pd.options.display.float_format = '{:,.2f}'.format"
   ]
  },
  {
   "cell_type": "markdown",
   "metadata": {},
   "source": [
    "# Read entire dataset"
   ]
  },
  {
   "cell_type": "code",
   "execution_count": 41,
   "metadata": {},
   "outputs": [],
   "source": [
    "def replace_str_with_Node(df, graph):\n",
    "        mapper = {}\n",
    "        def dfs_recurse(root):\n",
    "            for node in root.children: \n",
    "                mapper[node.callpath[-1]] = Node(node.nid, node.callpath, None)\n",
    "                dfs_recurse(node)\n",
    "        for root in graph.roots:\n",
    "            mapper[root.callpath[-1]] = Node(root.nid, root.callpath, None)\n",
    "            dfs_recurse(root)\n",
    "        df['node'] = df['node'].apply(lambda node: mapper[node] if node in mapper else '')\n",
    "        return df"
   ]
  },
  {
   "cell_type": "code",
   "execution_count": 42,
   "metadata": {},
   "outputs": [],
   "source": [
    "def write_gf(state, state_name, format_of_df):\n",
    "    graph_literal = state.graph.to_literal(graph=state.graph, dataframe=state.df)\n",
    "    print(graph_literal)\n",
    "    graph_filepath = dirname + '/' + state_name + '/' + format_of_df + '_graph.json'\n",
    "    with open(graph_filepath, 'w') as graphFile:\n",
    "        json.dump(graph_literal, graphFile)\n",
    "\n",
    "    # dump the filtered dataframe to csv.\n",
    "    df_filepath = dirname + '/' + state_name + '/' + format_of_df + '_df.csv'\n",
    "    state.df.to_csv(df_filepath)\n",
    "    \n",
    "    entire_df_filepath = dirname + '/' + state_name + '/' + 'entire' +'_df.csv'\n",
    "    state.entire_df.to_csv(entire_df_filepath)"
   ]
  },
  {
   "cell_type": "code",
   "execution_count": 43,
   "metadata": {},
   "outputs": [],
   "source": [
    "def read_gf(name):\n",
    "    state = State()\n",
    "    df_filepath = dirname + '/' + name +  '/filter_df.csv'\n",
    "    entire_df_filepath = dirname + '/' + name + '/entire_df.csv'\n",
    "    graph_filepath = dirname + '/' + name + '/filter_graph.json'\n",
    "    entire_graph_filepath = dirname + '/' + name + '/entire_graph.json'   \n",
    "\n",
    "    with open(graph_filepath, 'r') as graphFile:\n",
    "        data = json.load(graphFile)\n",
    "\n",
    "    state.gf = GraphFrame()\n",
    "    state.gf.from_literal(data)\n",
    "\n",
    "    with open(entire_graph_filepath, 'r') as entire_graphFile:\n",
    "        entire_data = json.load(entire_graphFile)\n",
    "            \n",
    "    state.entire_gf = GraphFrame()\n",
    "    state.entire_gf.from_literal(entire_data)\n",
    "\n",
    "    state.df = pd.read_csv(df_filepath)\n",
    "    state.entire_df = pd.read_csv(entire_df_filepath)\n",
    "\n",
    "    state.graph = state.gf.graph\n",
    "    state.entire_graph = state.entire_gf.graph\n",
    "\n",
    "    # replace df['node'] from str to the Node object.\n",
    "    state.df = replace_str_with_Node(state.df, state.graph)\n",
    "    state.entire_df = replace_str_with_Node(state.entire_df, state.entire_graph)\n",
    "\n",
    "    return state"
   ]
  },
  {
   "cell_type": "code",
   "execution_count": 44,
   "metadata": {},
   "outputs": [],
   "source": [
    "state = read_gf(dataset)"
   ]
  },
  {
   "cell_type": "code",
   "execution_count": 46,
   "metadata": {},
   "outputs": [
    {
     "name": "stdout",
     "output_type": "stream",
     "text": [
      "                   node  rank   time (inc)       time  nid  rank.1  \\\n",
      "0        <program root>     0   999,238.00       0.00    2       0   \n",
      "1        <program root>     1   999,390.00       0.00    2       1   \n",
      "2        <program root>     2 1,000,306.00       0.00    2       2   \n",
      "3        <program root>     3   999,308.00       0.00    2       3   \n",
      "4                  main     0   999,238.00       0.00    4       0   \n",
      "..                  ...   ...          ...        ...  ...     ...   \n",
      "63  <unknown procedure>     3   173,876.00       0.00   54       3   \n",
      "64     <unknown file>:0     0   197,718.00 197,718.00   55       0   \n",
      "65     <unknown file>:0     1   244,939.00 244,939.00   55       1   \n",
      "66     <unknown file>:0     2   221,846.00 221,846.00   55       2   \n",
      "67     <unknown file>:0     3   173,876.00 173,876.00   55       3   \n",
      "\n",
      "                   name type            file  line                     module  \\\n",
      "0        <program root>   PF  <unknown file>     0        libmonitor.so.0.0.0   \n",
      "1        <program root>   PF  <unknown file>     0        libmonitor.so.0.0.0   \n",
      "2        <program root>   PF  <unknown file>     0        libmonitor.so.0.0.0   \n",
      "3        <program root>   PF  <unknown file>     0        libmonitor.so.0.0.0   \n",
      "4                  main   PF     ./src/cpi.c    19                        cpi   \n",
      "..                  ...  ...             ...   ...                        ...   \n",
      "63  <unknown procedure>   PF  <unknown file>     0  libpsm_infinipath.so.1.14   \n",
      "64     <unknown file>:0    S  <unknown file>     0                Unknown(NA)   \n",
      "65     <unknown file>:0    S  <unknown file>     0                Unknown(NA)   \n",
      "66     <unknown file>:0    S  <unknown file>     0                Unknown(NA)   \n",
      "67     <unknown file>:0    S  <unknown file>     0                Unknown(NA)   \n",
      "\n",
      "                 node.1  n_index  mod_index  \\\n",
      "0        <program root>        0          0   \n",
      "1        <program root>        0          0   \n",
      "2        <program root>        0          0   \n",
      "3        <program root>        0          0   \n",
      "4                  main        1          4   \n",
      "..                  ...      ...        ...   \n",
      "63  <unknown procedure>       28          2   \n",
      "64     <unknown file>:0       29         -1   \n",
      "65     <unknown file>:0       29         -1   \n",
      "66     <unknown file>:0       29         -1   \n",
      "67     <unknown file>:0       29         -1   \n",
      "\n",
      "                                              callees  \\\n",
      "0                                            ['main']   \n",
      "1                                            ['main']   \n",
      "2                                            ['main']   \n",
      "3                                            ['main']   \n",
      "4                  ['27:MPI_Init', '62:MPI_Finalize']   \n",
      "..                                                ...   \n",
      "63  ['<unknown procedure>', 'pthread_create', '<un...   \n",
      "64                                                 []   \n",
      "65                                                 []   \n",
      "66                                                 []   \n",
      "67                                                 []   \n",
      "\n",
      "                                              callers  show_node  \\\n",
      "0                                                  []       True   \n",
      "1                                                  []       True   \n",
      "2                                                  []       True   \n",
      "3                                                  []       True   \n",
      "4                                  ['<program root>']       True   \n",
      "..                                                ...        ...   \n",
      "63  ['348:<unknown procedure>', '<unknown procedur...       True   \n",
      "64  ['pthread_create', '<unknown procedure>', '<un...       True   \n",
      "65  ['pthread_create', '<unknown procedure>', '<un...       True   \n",
      "66  ['pthread_create', '<unknown procedure>', '<un...       True   \n",
      "67  ['pthread_create', '<unknown procedure>', '<un...       True   \n",
      "\n",
      "          vis_node_name                                               path  \n",
      "0        <program root>                           (('<program root>',), 2)  \n",
      "1        <program root>                           (('<program root>',), 2)  \n",
      "2        <program root>                           (('<program root>',), 2)  \n",
      "3        <program root>                           (('<program root>',), 2)  \n",
      "4                  main                    (('<program root>', 'main'), 4)  \n",
      "..                  ...                                                ...  \n",
      "63  <unknown procedure>  (('<program root>', 'main', '62:MPI_Finalize',...  \n",
      "64     <unknown file>:0  (('<program root>', 'main', '62:MPI_Finalize',...  \n",
      "65     <unknown file>:0  (('<program root>', 'main', '62:MPI_Finalize',...  \n",
      "66     <unknown file>:0  (('<program root>', 'main', '62:MPI_Finalize',...  \n",
      "67     <unknown file>:0  (('<program root>', 'main', '62:MPI_Finalize',...  \n",
      "\n",
      "[68 rows x 19 columns]\n"
     ]
    }
   ],
   "source": [
    "print(state.df)"
   ]
  },
  {
   "cell_type": "markdown",
   "metadata": {},
   "source": [
    "# Half-calc-pi dataset"
   ]
  },
  {
   "cell_type": "code",
   "execution_count": 47,
   "metadata": {},
   "outputs": [],
   "source": [
    "random = random.randint(0,100)*0.01\n",
    "state.df['time (inc)'] = state.df['time (inc)']*random\n",
    "state.df['time'] = state.df['time']*random\n",
    "state.entire_df['time (inc)'] = state.entire_df['time (inc)']*random\n",
    "state.entire_df['time'] = state.entire_df['time']*random"
   ]
  },
  {
   "cell_type": "code",
   "execution_count": 48,
   "metadata": {},
   "outputs": [
    {
     "name": "stdout",
     "output_type": "stream",
     "text": [
      "0.8\n"
     ]
    }
   ],
   "source": [
    "print(random)"
   ]
  },
  {
   "cell_type": "code",
   "execution_count": 49,
   "metadata": {},
   "outputs": [
    {
     "name": "stdout",
     "output_type": "stream",
     "text": [
      "                   node  rank  time (inc)       time  nid  rank.1  \\\n",
      "0        <program root>     0  799,390.40       0.00    2       0   \n",
      "1        <program root>     1  799,512.00       0.00    2       1   \n",
      "2        <program root>     2  800,244.80       0.00    2       2   \n",
      "3        <program root>     3  799,446.40       0.00    2       3   \n",
      "4                  main     0  799,390.40       0.00    4       0   \n",
      "..                  ...   ...         ...        ...  ...     ...   \n",
      "63  <unknown procedure>     3  139,100.80       0.00   54       3   \n",
      "64     <unknown file>:0     0  158,174.40 158,174.40   55       0   \n",
      "65     <unknown file>:0     1  195,951.20 195,951.20   55       1   \n",
      "66     <unknown file>:0     2  177,476.80 177,476.80   55       2   \n",
      "67     <unknown file>:0     3  139,100.80 139,100.80   55       3   \n",
      "\n",
      "                   name type            file  line                     module  \\\n",
      "0        <program root>   PF  <unknown file>     0        libmonitor.so.0.0.0   \n",
      "1        <program root>   PF  <unknown file>     0        libmonitor.so.0.0.0   \n",
      "2        <program root>   PF  <unknown file>     0        libmonitor.so.0.0.0   \n",
      "3        <program root>   PF  <unknown file>     0        libmonitor.so.0.0.0   \n",
      "4                  main   PF     ./src/cpi.c    19                        cpi   \n",
      "..                  ...  ...             ...   ...                        ...   \n",
      "63  <unknown procedure>   PF  <unknown file>     0  libpsm_infinipath.so.1.14   \n",
      "64     <unknown file>:0    S  <unknown file>     0                Unknown(NA)   \n",
      "65     <unknown file>:0    S  <unknown file>     0                Unknown(NA)   \n",
      "66     <unknown file>:0    S  <unknown file>     0                Unknown(NA)   \n",
      "67     <unknown file>:0    S  <unknown file>     0                Unknown(NA)   \n",
      "\n",
      "                 node.1  n_index  mod_index  \\\n",
      "0        <program root>        0          0   \n",
      "1        <program root>        0          0   \n",
      "2        <program root>        0          0   \n",
      "3        <program root>        0          0   \n",
      "4                  main        1          4   \n",
      "..                  ...      ...        ...   \n",
      "63  <unknown procedure>       28          2   \n",
      "64     <unknown file>:0       29         -1   \n",
      "65     <unknown file>:0       29         -1   \n",
      "66     <unknown file>:0       29         -1   \n",
      "67     <unknown file>:0       29         -1   \n",
      "\n",
      "                                              callees  \\\n",
      "0                                            ['main']   \n",
      "1                                            ['main']   \n",
      "2                                            ['main']   \n",
      "3                                            ['main']   \n",
      "4                  ['27:MPI_Init', '62:MPI_Finalize']   \n",
      "..                                                ...   \n",
      "63  ['<unknown procedure>', 'pthread_create', '<un...   \n",
      "64                                                 []   \n",
      "65                                                 []   \n",
      "66                                                 []   \n",
      "67                                                 []   \n",
      "\n",
      "                                              callers  show_node  \\\n",
      "0                                                  []       True   \n",
      "1                                                  []       True   \n",
      "2                                                  []       True   \n",
      "3                                                  []       True   \n",
      "4                                  ['<program root>']       True   \n",
      "..                                                ...        ...   \n",
      "63  ['348:<unknown procedure>', '<unknown procedur...       True   \n",
      "64  ['pthread_create', '<unknown procedure>', '<un...       True   \n",
      "65  ['pthread_create', '<unknown procedure>', '<un...       True   \n",
      "66  ['pthread_create', '<unknown procedure>', '<un...       True   \n",
      "67  ['pthread_create', '<unknown procedure>', '<un...       True   \n",
      "\n",
      "          vis_node_name                                               path  \n",
      "0        <program root>                           (('<program root>',), 2)  \n",
      "1        <program root>                           (('<program root>',), 2)  \n",
      "2        <program root>                           (('<program root>',), 2)  \n",
      "3        <program root>                           (('<program root>',), 2)  \n",
      "4                  main                    (('<program root>', 'main'), 4)  \n",
      "..                  ...                                                ...  \n",
      "63  <unknown procedure>  (('<program root>', 'main', '62:MPI_Finalize',...  \n",
      "64     <unknown file>:0  (('<program root>', 'main', '62:MPI_Finalize',...  \n",
      "65     <unknown file>:0  (('<program root>', 'main', '62:MPI_Finalize',...  \n",
      "66     <unknown file>:0  (('<program root>', 'main', '62:MPI_Finalize',...  \n",
      "67     <unknown file>:0  (('<program root>', 'main', '62:MPI_Finalize',...  \n",
      "\n",
      "[68 rows x 19 columns]\n"
     ]
    }
   ],
   "source": [
    "print(state.df)"
   ]
  },
  {
   "cell_type": "code",
   "execution_count": 50,
   "metadata": {},
   "outputs": [
    {
     "name": "stdout",
     "output_type": "stream",
     "text": [
      "DFS on the graph\n",
      "============================================\n",
      "Root = <program root> [0]\n",
      "Node = main[1] time (inc) = nan time = nan\n",
      "- Node = 62:MPI_Finalize[2] time (inc) = nan time = nan\n",
      "- - Node = PMPI_Finalize[3] time (inc) = nan time = nan\n",
      "- - - Node = 294:MPID_Finalize[4] time (inc) = nan time = nan\n",
      "- - - - Node = 162:MPIDI_CH3_Finalize[5] time (inc) = nan time = nan\n",
      "- - - - - Node = 230:psm_dofinalize[6] time (inc) = nan time = nan\n",
      "- - - - - - Node = 36:<unknown procedure>[7] time (inc) = nan time = nan\n",
      "- - - - - - - Node = <unknown procedure>[8] time (inc) = nan time = nan\n",
      "- - - - - - - - Node = <unknown procedure>[9] time (inc) = nan time = nan\n",
      "- - - - - - - - - Node = <unknown procedure>[10] time (inc) = nan time = nan\n",
      "- - - - - - - - - - Node = <unknown file>:0[11] time (inc) = nan time = nan\n",
      "- - - - - - - - - - Node = <unknown procedure>[12] time (inc) = nan time = nan\n",
      "- - - - - - - - - - - Node = <unknown procedure>[13] time (inc) = nan time = nan\n",
      "- - - - - - - - - - - - Node = <unknown file>:0[14] time (inc) = nan time = nan\n",
      "- - - - - - - - - - - Node = <unknown procedure>[15] time (inc) = nan time = nan\n",
      "- - - - - - - - - - - - Node = <unknown file>:0[16] time (inc) = nan time = nan\n",
      "Number of nodes in graph 17\n",
      "============================================\n",
      "Dataframe Information\n",
      "Size: (68, 19)\n",
      "Number of nodes in dataframe:  17\n",
      "Nodes: dict_keys([('162:MPIDI_CH3_Finalize', 33), ('230:psm_dofinalize', 35), ('294:MPID_Finalize', 31), ('36:<unknown procedure>', 37), ('62:MPI_Finalize', 27), ('<program root>', 2), ('<unknown file>:0', 44), ('<unknown file>:0', 47), ('<unknown file>:0', 55), ('<unknown procedure>', 39), ('<unknown procedure>', 41), ('<unknown procedure>', 43), ('<unknown procedure>', 46), ('<unknown procedure>', 49), ('<unknown procedure>', 54), ('PMPI_Finalize', 29), ('main', 4)])\n"
     ]
    },
    {
     "ename": "IndexError",
     "evalue": "index 0 is out of bounds for axis 0 with size 0",
     "output_type": "error",
     "traceback": [
      "\u001b[0;31m---------------------------------------------------------------------------\u001b[0m",
      "\u001b[0;31mIndexError\u001b[0m                                Traceback (most recent call last)",
      "\u001b[0;32m<ipython-input-50-3e6d0402acb1>\u001b[0m in \u001b[0;36m<module>\u001b[0;34m\u001b[0m\n\u001b[1;32m      1\u001b[0m \u001b[0mi\u001b[0m \u001b[0;34m=\u001b[0m \u001b[0;34m'0'\u001b[0m\u001b[0;34m\u001b[0m\u001b[0;34m\u001b[0m\u001b[0m\n\u001b[0;32m----> 2\u001b[0;31m \u001b[0mwrite_gf\u001b[0m\u001b[0;34m(\u001b[0m\u001b[0mstate\u001b[0m\u001b[0;34m,\u001b[0m \u001b[0;34m'calc-pi-random-'\u001b[0m\u001b[0;34m+\u001b[0m\u001b[0mi\u001b[0m\u001b[0;34m,\u001b[0m \u001b[0;34m'entire'\u001b[0m\u001b[0;34m)\u001b[0m\u001b[0;34m\u001b[0m\u001b[0;34m\u001b[0m\u001b[0m\n\u001b[0m",
      "\u001b[0;32m<ipython-input-42-12ba273db702>\u001b[0m in \u001b[0;36mwrite_gf\u001b[0;34m(state, state_name, format_of_df)\u001b[0m\n\u001b[1;32m      1\u001b[0m \u001b[0;32mdef\u001b[0m \u001b[0mwrite_gf\u001b[0m\u001b[0;34m(\u001b[0m\u001b[0mstate\u001b[0m\u001b[0;34m,\u001b[0m \u001b[0mstate_name\u001b[0m\u001b[0;34m,\u001b[0m \u001b[0mformat_of_df\u001b[0m\u001b[0;34m)\u001b[0m\u001b[0;34m:\u001b[0m\u001b[0;34m\u001b[0m\u001b[0;34m\u001b[0m\u001b[0m\n\u001b[0;32m----> 2\u001b[0;31m     \u001b[0mgraph_literal\u001b[0m \u001b[0;34m=\u001b[0m \u001b[0mstate\u001b[0m\u001b[0;34m.\u001b[0m\u001b[0mgraph\u001b[0m\u001b[0;34m.\u001b[0m\u001b[0mto_literal\u001b[0m\u001b[0;34m(\u001b[0m\u001b[0mgraph\u001b[0m\u001b[0;34m=\u001b[0m\u001b[0mstate\u001b[0m\u001b[0;34m.\u001b[0m\u001b[0mgraph\u001b[0m\u001b[0;34m,\u001b[0m \u001b[0mdataframe\u001b[0m\u001b[0;34m=\u001b[0m\u001b[0mstate\u001b[0m\u001b[0;34m.\u001b[0m\u001b[0mdf\u001b[0m\u001b[0;34m)\u001b[0m\u001b[0;34m\u001b[0m\u001b[0;34m\u001b[0m\u001b[0m\n\u001b[0m\u001b[1;32m      3\u001b[0m     \u001b[0mprint\u001b[0m\u001b[0;34m(\u001b[0m\u001b[0mgraph_literal\u001b[0m\u001b[0;34m)\u001b[0m\u001b[0;34m\u001b[0m\u001b[0;34m\u001b[0m\u001b[0m\n\u001b[1;32m      4\u001b[0m     \u001b[0mgraph_filepath\u001b[0m \u001b[0;34m=\u001b[0m \u001b[0mdirname\u001b[0m \u001b[0;34m+\u001b[0m \u001b[0;34m'/'\u001b[0m \u001b[0;34m+\u001b[0m \u001b[0mstate_name\u001b[0m \u001b[0;34m+\u001b[0m \u001b[0;34m'/'\u001b[0m \u001b[0;34m+\u001b[0m \u001b[0mformat_of_df\u001b[0m \u001b[0;34m+\u001b[0m \u001b[0;34m'_graph.json'\u001b[0m\u001b[0;34m\u001b[0m\u001b[0;34m\u001b[0m\u001b[0m\n\u001b[1;32m      5\u001b[0m     \u001b[0;32mwith\u001b[0m \u001b[0mopen\u001b[0m\u001b[0;34m(\u001b[0m\u001b[0mgraph_filepath\u001b[0m\u001b[0;34m,\u001b[0m \u001b[0;34m'w'\u001b[0m\u001b[0;34m)\u001b[0m \u001b[0;32mas\u001b[0m \u001b[0mgraphFile\u001b[0m\u001b[0;34m:\u001b[0m\u001b[0;34m\u001b[0m\u001b[0;34m\u001b[0m\u001b[0m\n",
      "\u001b[0;32m~/ucd/Research/Visualisation/projects/CallFlow/src/hatchet/hatchet/graph.py\u001b[0m in \u001b[0;36mto_literal\u001b[0;34m(self, graph, dataframe)\u001b[0m\n\u001b[1;32m     85\u001b[0m             \u001b[0mgraph\u001b[0m \u001b[0;34m=\u001b[0m \u001b[0mself\u001b[0m\u001b[0;34m.\u001b[0m\u001b[0mgraph\u001b[0m\u001b[0;34m\u001b[0m\u001b[0;34m\u001b[0m\u001b[0m\n\u001b[1;32m     86\u001b[0m \u001b[0;34m\u001b[0m\u001b[0m\n\u001b[0;32m---> 87\u001b[0;31m         \u001b[0mresult\u001b[0m \u001b[0;34m=\u001b[0m \u001b[0mtrees_to_literal\u001b[0m\u001b[0;34m(\u001b[0m\u001b[0mgraph\u001b[0m\u001b[0;34m,\u001b[0m \u001b[0mdataframe\u001b[0m\u001b[0;34m)\u001b[0m\u001b[0;34m\u001b[0m\u001b[0;34m\u001b[0m\u001b[0m\n\u001b[0m\u001b[1;32m     88\u001b[0m \u001b[0;34m\u001b[0m\u001b[0m\n\u001b[1;32m     89\u001b[0m         \u001b[0;32mreturn\u001b[0m \u001b[0mresult\u001b[0m\u001b[0;34m\u001b[0m\u001b[0;34m\u001b[0m\u001b[0m\n",
      "\u001b[0;32m~/ucd/Research/Visualisation/projects/CallFlow/src/hatchet/hatchet/util/literal.py\u001b[0m in \u001b[0;36mtrees_to_literal\u001b[0;34m(graph, dataframe)\u001b[0m\n\u001b[1;32m     69\u001b[0m             }\n\u001b[1;32m     70\u001b[0m         }\n\u001b[0;32m---> 71\u001b[0;31m \u001b[0;34m\u001b[0m\u001b[0m\n\u001b[0m\u001b[1;32m     72\u001b[0m     \u001b[0;32mfor\u001b[0m \u001b[0mroot\u001b[0m \u001b[0;32min\u001b[0m \u001b[0mgraph\u001b[0m\u001b[0;34m.\u001b[0m\u001b[0mroots\u001b[0m\u001b[0;34m:\u001b[0m\u001b[0;34m\u001b[0m\u001b[0;34m\u001b[0m\u001b[0m\n\u001b[1;32m     73\u001b[0m         \u001b[0mliteral\u001b[0m\u001b[0;34m.\u001b[0m\u001b[0mappend\u001b[0m\u001b[0;34m(\u001b[0m\u001b[0madd_nodes_and_children\u001b[0m\u001b[0;34m(\u001b[0m\u001b[0mroot\u001b[0m\u001b[0;34m)\u001b[0m\u001b[0;34m)\u001b[0m\u001b[0;34m\u001b[0m\u001b[0;34m\u001b[0m\u001b[0m\n",
      "\u001b[0;32m~/ucd/Research/Visualisation/projects/CallFlow/src/hatchet/hatchet/util/literal.py\u001b[0m in \u001b[0;36madd_nodes_and_children\u001b[0;34m(hnode)\u001b[0m\n\u001b[1;32m     40\u001b[0m     \u001b[0;32mdef\u001b[0m \u001b[0madd_nodes_and_children\u001b[0m\u001b[0;34m(\u001b[0m\u001b[0mhnode\u001b[0m\u001b[0;34m)\u001b[0m\u001b[0;34m:\u001b[0m\u001b[0;34m\u001b[0m\u001b[0;34m\u001b[0m\u001b[0m\n\u001b[1;32m     41\u001b[0m         \u001b[0mprint\u001b[0m\u001b[0;34m(\u001b[0m\u001b[0mhnode\u001b[0m\u001b[0;34m.\u001b[0m\u001b[0mnid\u001b[0m\u001b[0;34m,\u001b[0m \u001b[0mhnode\u001b[0m\u001b[0;34m.\u001b[0m\u001b[0mcallpath\u001b[0m\u001b[0;34m)\u001b[0m\u001b[0;34m\u001b[0m\u001b[0;34m\u001b[0m\u001b[0m\n\u001b[0;32m---> 42\u001b[0;31m         \u001b[0mnode_df\u001b[0m \u001b[0;34m=\u001b[0m \u001b[0mdataframe\u001b[0m\u001b[0;34m.\u001b[0m\u001b[0mloc\u001b[0m\u001b[0;34m[\u001b[0m\u001b[0;34m(\u001b[0m\u001b[0mdataframe\u001b[0m\u001b[0;34m[\u001b[0m\u001b[0;34m'name'\u001b[0m\u001b[0;34m]\u001b[0m \u001b[0;34m==\u001b[0m \u001b[0mhnode\u001b[0m\u001b[0;34m.\u001b[0m\u001b[0mcallpath\u001b[0m\u001b[0;34m[\u001b[0m\u001b[0;34m-\u001b[0m\u001b[0;36m1\u001b[0m\u001b[0;34m]\u001b[0m\u001b[0;34m)\u001b[0m \u001b[0;34m&\u001b[0m \u001b[0;34m(\u001b[0m\u001b[0mdataframe\u001b[0m\u001b[0;34m[\u001b[0m\u001b[0;34m'nid'\u001b[0m\u001b[0;34m]\u001b[0m \u001b[0;34m==\u001b[0m \u001b[0mhnode\u001b[0m\u001b[0;34m.\u001b[0m\u001b[0mnid\u001b[0m\u001b[0;34m)\u001b[0m\u001b[0;34m]\u001b[0m\u001b[0;34m\u001b[0m\u001b[0;34m\u001b[0m\u001b[0m\n\u001b[0m\u001b[1;32m     43\u001b[0m         \u001b[0mprint\u001b[0m\u001b[0;34m(\u001b[0m\u001b[0mnode_df\u001b[0m\u001b[0;34m)\u001b[0m\u001b[0;34m\u001b[0m\u001b[0;34m\u001b[0m\u001b[0m\n\u001b[1;32m     44\u001b[0m         \u001b[0mnode_id\u001b[0m \u001b[0;34m=\u001b[0m \u001b[0mnode_df\u001b[0m\u001b[0;34m[\u001b[0m\u001b[0;34m'nid'\u001b[0m\u001b[0;34m]\u001b[0m\u001b[0;34m.\u001b[0m\u001b[0munique\u001b[0m\u001b[0;34m(\u001b[0m\u001b[0;34m)\u001b[0m\u001b[0;34m[\u001b[0m\u001b[0;36m0\u001b[0m\u001b[0;34m]\u001b[0m\u001b[0;34m\u001b[0m\u001b[0;34m\u001b[0m\u001b[0m\n",
      "\u001b[0;31mIndexError\u001b[0m: index 0 is out of bounds for axis 0 with size 0"
     ]
    }
   ],
   "source": [
    "i = '0'\n",
    "write_gf(state, 'calc-pi-random-'+i, 'entire')"
   ]
  },
  {
   "cell_type": "markdown",
   "metadata": {},
   "source": [
    "# "
   ]
  }
 ],
 "metadata": {
  "kernelspec": {
   "display_name": "Python 3",
   "language": "python",
   "name": "python3"
  },
  "language_info": {
   "codemirror_mode": {
    "name": "ipython",
    "version": 3
   },
   "file_extension": ".py",
   "mimetype": "text/x-python",
   "name": "python",
   "nbconvert_exporter": "python",
   "pygments_lexer": "ipython3",
   "version": "3.6.8"
  }
 },
 "nbformat": 4,
 "nbformat_minor": 2
}
