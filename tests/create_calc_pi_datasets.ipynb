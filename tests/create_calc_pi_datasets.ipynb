{
 "cells": [
  {
   "cell_type": "code",
   "execution_count": 12,
   "metadata": {},
   "outputs": [],
   "source": [
    "from hatchet import *\n",
    "import json\n",
    "from state import State\n",
    "from preprocess import PreProcess\n",
    "import numpy as np"
   ]
  },
  {
   "cell_type": "code",
   "execution_count": 13,
   "metadata": {},
   "outputs": [],
   "source": [
    "dirname = '/Users/jarus/ucd/Research/Visualisation/projects/CallFlow/.callflow'\n",
    "dataset = 'calc-pi'"
   ]
  },
  {
   "cell_type": "code",
   "execution_count": 21,
   "metadata": {},
   "outputs": [],
   "source": [
    "pd.options.display.max_rows = 10\n",
    "pd.options.display.float_format = '{:,.2f}'.format"
   ]
  },
  {
   "cell_type": "markdown",
   "metadata": {},
   "source": [
    "# Read entire dataset"
   ]
  },
  {
   "cell_type": "code",
   "execution_count": 22,
   "metadata": {},
   "outputs": [],
   "source": [
    "def replace_str_with_Node(df, graph):\n",
    "        mapper = {}\n",
    "        def dfs_recurse(root):\n",
    "            for node in root.children: \n",
    "                mapper[node.callpath[-1]] = Node(node.nid, node.callpath, None)\n",
    "                dfs_recurse(node)\n",
    "        for root in graph.roots:\n",
    "            mapper[root.callpath[-1]] = Node(root.nid, root.callpath, None)\n",
    "            dfs_recurse(root)\n",
    "        df['node'] = df['node'].apply(lambda node: mapper[node] if node in mapper else '')\n",
    "        return df"
   ]
  },
  {
   "cell_type": "code",
   "execution_count": 34,
   "metadata": {},
   "outputs": [],
   "source": [
    "def write_gf(state, state_name, format_of_df):\n",
    "    graph_literal = state.graph.to_literal(graph=state.graph, dataframe=state.df)\n",
    "    print(graph_literal)\n",
    "    graph_filepath = dirname + '/' + state_name + '/' + format_of_df + '_graph.json'\n",
    "    with open(graph_filepath, 'w') as graphFile:\n",
    "        json.dump(graph_literal, graphFile)\n",
    "\n",
    "    # dump the filtered dataframe to csv.\n",
    "    df_filepath = dirname + '/' + state_name + '/' + format_of_df + '_df.csv'\n",
    "    state.df.to_csv(df_filepath)\n",
    "    \n",
    "    entire_df_filepath = dirname + '/' + state_name + '/' + 'entire' +'_df.csv'\n",
    "    state.entire_df.to_csv(entire_df_filepath)"
   ]
  },
  {
   "cell_type": "code",
   "execution_count": 23,
   "metadata": {},
   "outputs": [],
   "source": [
    "def read_gf(name):\n",
    "    state = State()\n",
    "    df_filepath = dirname + '/' + name +  '/filter_df.csv'\n",
    "    entire_df_filepath = dirname + '/' + name + '/entire_df.csv'\n",
    "    graph_filepath = dirname + '/' + name + '/filter_graph.json'\n",
    "    entire_graph_filepath = dirname + '/' + name + '/entire_graph.json'   \n",
    "\n",
    "    with open(graph_filepath, 'r') as graphFile:\n",
    "        data = json.load(graphFile)\n",
    "\n",
    "    state.gf = GraphFrame()\n",
    "    state.gf.from_literal(data)\n",
    "\n",
    "    with open(entire_graph_filepath, 'r') as entire_graphFile:\n",
    "        entire_data = json.load(entire_graphFile)\n",
    "            \n",
    "    state.entire_gf = GraphFrame()\n",
    "    state.entire_gf.from_literal(entire_data)\n",
    "\n",
    "    state.df = pd.read_csv(df_filepath)\n",
    "    state.entire_df = pd.read_csv(entire_df_filepath)\n",
    "\n",
    "    state.graph = state.gf.graph\n",
    "    state.entire_graph = state.entire_gf.graph\n",
    "\n",
    "    # replace df['node'] from str to the Node object.\n",
    "    state.df = replace_str_with_Node(state.df, state.graph)\n",
    "    state.entire_df = replace_str_with_Node(state.entire_df, state.entire_graph)\n",
    "\n",
    "    return state"
   ]
  },
  {
   "cell_type": "code",
   "execution_count": 24,
   "metadata": {},
   "outputs": [],
   "source": [
    "state = read_gf(dataset)"
   ]
  },
  {
   "cell_type": "code",
   "execution_count": 25,
   "metadata": {},
   "outputs": [
    {
     "name": "stdout",
     "output_type": "stream",
     "text": [
      "    rank   time (inc)      time  nid  rank.1            file  line  \\\n",
      "0      0   999,238.00      0.00    0       0  <unknown file>     0   \n",
      "1      1   999,390.00      0.00    0       1  <unknown file>     0   \n",
      "2      2 1,000,306.00      0.00    0       2  <unknown file>     0   \n",
      "3      3   999,308.00      0.00    0       3  <unknown file>     0   \n",
      "4      0   999,238.00      0.00    1       0     ./src/cpi.c    19   \n",
      "..   ...          ...       ...  ...     ...             ...   ...   \n",
      "83     1    17,991.00 17,991.00   19       1        interp.c     0   \n",
      "84     0    59,960.00 59,960.00   16       0        interp.c     0   \n",
      "85     1    35,980.00 35,980.00   16       1        interp.c     0   \n",
      "86     2    59,961.00 59,961.00   16       2        interp.c     0   \n",
      "87     3    23,976.00 23,976.00   16       3        interp.c     0   \n",
      "\n",
      "                 module            name            node type  n_index  \\\n",
      "0   libmonitor.so.0.0.0  <program root>  <program root>   PF        0   \n",
      "1   libmonitor.so.0.0.0  <program root>  <program root>   PF        0   \n",
      "2   libmonitor.so.0.0.0  <program root>  <program root>   PF        0   \n",
      "3   libmonitor.so.0.0.0  <program root>  <program root>   PF        0   \n",
      "4                   cpi            main            main   PF        1   \n",
      "..                  ...             ...             ...  ...      ...   \n",
      "83          Unknown(NA)      interp.c:0      interp.c:0    S       32   \n",
      "84          Unknown(NA)      interp.c:0      interp.c:0    S       33   \n",
      "85          Unknown(NA)      interp.c:0      interp.c:0    S       33   \n",
      "86          Unknown(NA)      interp.c:0      interp.c:0    S       33   \n",
      "87          Unknown(NA)      interp.c:0      interp.c:0    S       33   \n",
      "\n",
      "    mod_index                             callees  \\\n",
      "0           0                            ['main']   \n",
      "1           0                            ['main']   \n",
      "2           0                            ['main']   \n",
      "3           0                            ['main']   \n",
      "4           4  ['27:MPI_Init', '62:MPI_Finalize']   \n",
      "..        ...                                 ...   \n",
      "83         -1                                  []   \n",
      "84         -1                                  []   \n",
      "85         -1                                  []   \n",
      "86         -1                                  []   \n",
      "87         -1                                  []   \n",
      "\n",
      "                                        callers  show_node   vis_node_name  \\\n",
      "0                                            []       True  <program root>   \n",
      "1                                            []       True  <program root>   \n",
      "2                                            []       True  <program root>   \n",
      "3                                            []       True  <program root>   \n",
      "4                            ['<program root>']       True            main   \n",
      "..                                          ...        ...             ...   \n",
      "83  ['__GI_sched_yield', '<unknown procedure>']       True      interp.c:0   \n",
      "84  ['__GI_sched_yield', '<unknown procedure>']       True      interp.c:0   \n",
      "85  ['__GI_sched_yield', '<unknown procedure>']       True      interp.c:0   \n",
      "86  ['__GI_sched_yield', '<unknown procedure>']       True      interp.c:0   \n",
      "87  ['__GI_sched_yield', '<unknown procedure>']       True      interp.c:0   \n",
      "\n",
      "                                                 path  \n",
      "0                                 ('<program root>',)  \n",
      "1                                 ('<program root>',)  \n",
      "2                                 ('<program root>',)  \n",
      "3                                 ('<program root>',)  \n",
      "4                          ('<program root>', 'main')  \n",
      "..                                                ...  \n",
      "83  ('<program root>', 'main', '62:MPI_Finalize', ...  \n",
      "84  ('<program root>', 'main', '62:MPI_Finalize', ...  \n",
      "85  ('<program root>', 'main', '62:MPI_Finalize', ...  \n",
      "86  ('<program root>', 'main', '62:MPI_Finalize', ...  \n",
      "87  ('<program root>', 'main', '62:MPI_Finalize', ...  \n",
      "\n",
      "[88 rows x 18 columns]\n"
     ]
    }
   ],
   "source": [
    "print(state.df)"
   ]
  },
  {
   "cell_type": "markdown",
   "metadata": {},
   "source": [
    "# Half-calc-pi dataset"
   ]
  },
  {
   "cell_type": "code",
   "execution_count": 26,
   "metadata": {},
   "outputs": [],
   "source": [
    "state.df['time (inc)'] = state.df['time (inc)']*0.50\n",
    "state.df['time'] = state.df['time']*0.50"
   ]
  },
  {
   "cell_type": "code",
   "execution_count": 27,
   "metadata": {},
   "outputs": [],
   "source": [
    "state.entire_df['time (inc)'] = state.entire_df['time (inc)']*0.50\n",
    "state.entire_df['time'] = state.entire_df['time']*0.50"
   ]
  },
  {
   "cell_type": "code",
   "execution_count": 28,
   "metadata": {},
   "outputs": [
    {
     "name": "stdout",
     "output_type": "stream",
     "text": [
      "    rank  time (inc)      time  nid  rank.1            file  line  \\\n",
      "0      0  499,619.00      0.00    0       0  <unknown file>     0   \n",
      "1      1  499,695.00      0.00    0       1  <unknown file>     0   \n",
      "2      2  500,153.00      0.00    0       2  <unknown file>     0   \n",
      "3      3  499,654.00      0.00    0       3  <unknown file>     0   \n",
      "4      0  499,619.00      0.00    1       0     ./src/cpi.c    19   \n",
      "..   ...         ...       ...  ...     ...             ...   ...   \n",
      "83     1    8,995.50  8,995.50   19       1        interp.c     0   \n",
      "84     0   29,980.00 29,980.00   16       0        interp.c     0   \n",
      "85     1   17,990.00 17,990.00   16       1        interp.c     0   \n",
      "86     2   29,980.50 29,980.50   16       2        interp.c     0   \n",
      "87     3   11,988.00 11,988.00   16       3        interp.c     0   \n",
      "\n",
      "                 module            name            node type  n_index  \\\n",
      "0   libmonitor.so.0.0.0  <program root>  <program root>   PF        0   \n",
      "1   libmonitor.so.0.0.0  <program root>  <program root>   PF        0   \n",
      "2   libmonitor.so.0.0.0  <program root>  <program root>   PF        0   \n",
      "3   libmonitor.so.0.0.0  <program root>  <program root>   PF        0   \n",
      "4                   cpi            main            main   PF        1   \n",
      "..                  ...             ...             ...  ...      ...   \n",
      "83          Unknown(NA)      interp.c:0      interp.c:0    S       32   \n",
      "84          Unknown(NA)      interp.c:0      interp.c:0    S       33   \n",
      "85          Unknown(NA)      interp.c:0      interp.c:0    S       33   \n",
      "86          Unknown(NA)      interp.c:0      interp.c:0    S       33   \n",
      "87          Unknown(NA)      interp.c:0      interp.c:0    S       33   \n",
      "\n",
      "    mod_index                             callees  \\\n",
      "0           0                            ['main']   \n",
      "1           0                            ['main']   \n",
      "2           0                            ['main']   \n",
      "3           0                            ['main']   \n",
      "4           4  ['27:MPI_Init', '62:MPI_Finalize']   \n",
      "..        ...                                 ...   \n",
      "83         -1                                  []   \n",
      "84         -1                                  []   \n",
      "85         -1                                  []   \n",
      "86         -1                                  []   \n",
      "87         -1                                  []   \n",
      "\n",
      "                                        callers  show_node   vis_node_name  \\\n",
      "0                                            []       True  <program root>   \n",
      "1                                            []       True  <program root>   \n",
      "2                                            []       True  <program root>   \n",
      "3                                            []       True  <program root>   \n",
      "4                            ['<program root>']       True            main   \n",
      "..                                          ...        ...             ...   \n",
      "83  ['__GI_sched_yield', '<unknown procedure>']       True      interp.c:0   \n",
      "84  ['__GI_sched_yield', '<unknown procedure>']       True      interp.c:0   \n",
      "85  ['__GI_sched_yield', '<unknown procedure>']       True      interp.c:0   \n",
      "86  ['__GI_sched_yield', '<unknown procedure>']       True      interp.c:0   \n",
      "87  ['__GI_sched_yield', '<unknown procedure>']       True      interp.c:0   \n",
      "\n",
      "                                                 path  \n",
      "0                                 ('<program root>',)  \n",
      "1                                 ('<program root>',)  \n",
      "2                                 ('<program root>',)  \n",
      "3                                 ('<program root>',)  \n",
      "4                          ('<program root>', 'main')  \n",
      "..                                                ...  \n",
      "83  ('<program root>', 'main', '62:MPI_Finalize', ...  \n",
      "84  ('<program root>', 'main', '62:MPI_Finalize', ...  \n",
      "85  ('<program root>', 'main', '62:MPI_Finalize', ...  \n",
      "86  ('<program root>', 'main', '62:MPI_Finalize', ...  \n",
      "87  ('<program root>', 'main', '62:MPI_Finalize', ...  \n",
      "\n",
      "[88 rows x 18 columns]\n"
     ]
    }
   ],
   "source": [
    "print(state.df)"
   ]
  },
  {
   "cell_type": "code",
   "execution_count": 33,
   "metadata": {},
   "outputs": [
    {
     "name": "stdout",
     "output_type": "stream",
     "text": [
      "[<hatchet.node.Node object at 0xa1f1dc400>]\n",
      "[{'name': '<program root>', 'children': [{'name': 'main', 'children': [{'name': '62:MPI_Finalize', 'children': [{'name': 'PMPI_Finalize', 'children': [{'name': '294:MPID_Finalize', 'children': [{'name': '162:MPIDI_CH3_Finalize', 'children': [{'name': '230:psm_dofinalize', 'children': [{'name': '36:<unknown procedure>', 'children': [{'name': '<unknown procedure>', 'children': [{'name': '<unknown procedure>', 'children': [{'name': '<unknown procedure>', 'children': [{'name': '<unknown file>:0', 'children': [], 'nid': 11, 'metrics': {}}, {'name': '<unknown procedure>', 'children': [{'name': '<unknown file>:0', 'children': [], 'nid': 13, 'metrics': {}}, {'name': '<unknown file>:0', 'children': [], 'nid': 14, 'metrics': {}}], 'nid': 12, 'metrics': {}}, {'name': '<unknown file>:0', 'children': [], 'nid': 15, 'metrics': {}}, {'name': '<unknown file>:0', 'children': [], 'nid': 16, 'metrics': {}}], 'nid': 10, 'metrics': {}}, {'name': 'interp.c:0', 'children': [], 'nid': 17, 'metrics': {}}, {'name': '__GI_sched_yield', 'children': [{'name': 'interp.c:0', 'children': [], 'nid': 19, 'metrics': {}}], 'nid': 18, 'metrics': {}}], 'nid': 9, 'metrics': {}}], 'nid': 8, 'metrics': {}}], 'nid': 7, 'metrics': {}}], 'nid': 6, 'metrics': {}}], 'nid': 5, 'metrics': {}}], 'nid': 4, 'metrics': {}}], 'nid': 3, 'metrics': {}}], 'nid': 2, 'metrics': {}}, {'name': '<unknown procedure>', 'children': [{'name': '<unknown procedure>', 'children': [{'name': '<unknown file>:0', 'children': [], 'nid': 22, 'metrics': {}}], 'nid': 21, 'metrics': {}}], 'nid': 20, 'metrics': {}}], 'nid': 1, 'metrics': {}}], 'nid': 0, 'metrics': {}}]\n"
     ]
    }
   ],
   "source": [
    "write_gf(state, 'calc-pi-half', 'filter')"
   ]
  },
  {
   "cell_type": "markdown",
   "metadata": {},
   "source": [
    "# "
   ]
  }
 ],
 "metadata": {
  "kernelspec": {
   "display_name": "Python 3",
   "language": "python",
   "name": "python3"
  },
  "language_info": {
   "codemirror_mode": {
    "name": "ipython",
    "version": 3
   },
   "file_extension": ".py",
   "mimetype": "text/x-python",
   "name": "python",
   "nbconvert_exporter": "python",
   "pygments_lexer": "ipython3",
   "version": "3.6.8"
  }
 },
 "nbformat": 4,
 "nbformat_minor": 2
}
