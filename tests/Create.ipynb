{
 "cells": [
  {
   "cell_type": "code",
   "execution_count": 1,
   "metadata": {},
   "outputs": [],
   "source": [
    "from hatchet import *\n",
    "import pandas as pd\n",
    "import numpy as np"
   ]
  },
  {
   "cell_type": "code",
   "execution_count": 15,
   "metadata": {},
   "outputs": [],
   "source": [
    "data_path = '/Users/jarus/ucd/Research/Visualisation/projects/CallFlow/data/hpctoolkit-cpi-database'"
   ]
  },
  {
   "cell_type": "code",
   "execution_count": 16,
   "metadata": {},
   "outputs": [
    {
     "name": "stdout",
     "output_type": "stream",
     "text": [
      "Number of metric DB files 3\n"
     ]
    }
   ],
   "source": [
    "gf = GraphFrame()\n",
    "gf.from_hpctoolkit(data_path)"
   ]
  },
  {
   "cell_type": "code",
   "execution_count": 17,
   "metadata": {},
   "outputs": [],
   "source": [
    "df = gf.dataframe\n",
    "graph = gf.graph"
   ]
  },
  {
   "cell_type": "code",
   "execution_count": 20,
   "metadata": {},
   "outputs": [],
   "source": [
    "# loop_osu_bw = df.loc[df['name'] == 'Loop@osu_bw.c:112']\n",
    "# print(type(loop_osu_bw['module'][0]))"
   ]
  },
  {
   "cell_type": "code",
   "execution_count": 23,
   "metadata": {},
   "outputs": [
    {
     "name": "stdout",
     "output_type": "stream",
     "text": [
      "node                     rank\n",
      "<program root>           0       /collab/usr/global/tools/hpctoolkit/chaos_5_x8...\n",
      "                         1       /collab/usr/global/tools/hpctoolkit/chaos_5_x8...\n",
      "                         2       /collab/usr/global/tools/hpctoolkit/chaos_5_x8...\n",
      "main                     0                                                     cpi\n",
      "                         1                                                     cpi\n",
      "                         2                                                     cpi\n",
      "27:MPI_Init              0       /collab/usr/global/tools/hpctoolkit/chaos_5_x8...\n",
      "                         1       /collab/usr/global/tools/hpctoolkit/chaos_5_x8...\n",
      "                         2       /collab/usr/global/tools/hpctoolkit/chaos_5_x8...\n",
      "PMPI_Init                0       /usr/local/tools/mvapich2-intel-debug-2.2/lib/...\n",
      "                         1       /usr/local/tools/mvapich2-intel-debug-2.2/lib/...\n",
      "                         2       /usr/local/tools/mvapich2-intel-debug-2.2/lib/...\n",
      "198:MPIR_Init_thread     0       /usr/local/tools/mvapich2-intel-debug-2.2/lib/...\n",
      "                         1       /usr/local/tools/mvapich2-intel-debug-2.2/lib/...\n",
      "                         2       /usr/local/tools/mvapich2-intel-debug-2.2/lib/...\n",
      "512:MPID_Init            0       /usr/local/tools/mvapich2-intel-debug-2.2/lib/...\n",
      "                         1       /usr/local/tools/mvapich2-intel-debug-2.2/lib/...\n",
      "                         2       /usr/local/tools/mvapich2-intel-debug-2.2/lib/...\n",
      "363:MPIDI_CH3_Init       0       /usr/local/tools/mvapich2-intel-debug-2.2/lib/...\n",
      "                         1       /usr/local/tools/mvapich2-intel-debug-2.2/lib/...\n",
      "                         2       /usr/local/tools/mvapich2-intel-debug-2.2/lib/...\n",
      "24:psm_doinit            0       /usr/local/tools/mvapich2-intel-debug-2.2/lib/...\n",
      "                         1       /usr/local/tools/mvapich2-intel-debug-2.2/lib/...\n",
      "                         2       /usr/local/tools/mvapich2-intel-debug-2.2/lib/...\n",
      "348:<unknown procedure>  0                    /usr/lib64/libpsm_infinipath.so.1.14\n",
      "                         1                    /usr/lib64/libpsm_infinipath.so.1.14\n",
      "                         2                    /usr/lib64/libpsm_infinipath.so.1.14\n",
      "<unknown procedure>      0                    /usr/lib64/libpsm_infinipath.so.1.14\n",
      "                         1                    /usr/lib64/libpsm_infinipath.so.1.14\n",
      "                         2                    /usr/lib64/libpsm_infinipath.so.1.14\n",
      "                                                       ...                        \n",
      "<unknown file>:0         0                                                    None\n",
      "                         1                                                    None\n",
      "                         2                                                    None\n",
      "<unknown procedure>      0                    /usr/lib64/libpsm_infinipath.so.1.14\n",
      "                         1                    /usr/lib64/libpsm_infinipath.so.1.14\n",
      "                         2                    /usr/lib64/libpsm_infinipath.so.1.14\n",
      "                         0                    /usr/lib64/libpsm_infinipath.so.1.14\n",
      "                         1                    /usr/lib64/libpsm_infinipath.so.1.14\n",
      "                         2                    /usr/lib64/libpsm_infinipath.so.1.14\n",
      "<unknown file>:0         0                                                    None\n",
      "                         1                                                    None\n",
      "                         2                                                    None\n",
      "<unknown procedure>      0                    /usr/lib64/libpsm_infinipath.so.1.14\n",
      "                         1                    /usr/lib64/libpsm_infinipath.so.1.14\n",
      "                         2                    /usr/lib64/libpsm_infinipath.so.1.14\n",
      "<unknown file>:0         0                                                    None\n",
      "                         1                                                    None\n",
      "                         2                                                    None\n",
      "                         0                                                    None\n",
      "                         1                                                    None\n",
      "                         2                                                    None\n",
      "__GI_sched_yield         0                                     /lib64/libc-2.12.so\n",
      "                         1                                     /lib64/libc-2.12.so\n",
      "                         2                                     /lib64/libc-2.12.so\n",
      "interp.c:0               0                                                    None\n",
      "                         1                                                    None\n",
      "                         2                                                    None\n",
      "                         0                                                    None\n",
      "                         1                                                    None\n",
      "                         2                                                    None\n",
      "Name: module, Length: 102, dtype: object\n"
     ]
    }
   ],
   "source": [
    "print(df['module'])"
   ]
  },
  {
   "cell_type": "code",
   "execution_count": 14,
   "metadata": {},
   "outputs": [
    {
     "name": "stdout",
     "output_type": "stream",
     "text": [
      "Empty DataFrame\n",
      "Columns: [time (inc), time, nid, rank, file, line, module, name, node, type]\n",
      "Index: []\n"
     ]
    }
   ],
   "source": [
    "# None modules:\n",
    "print(df.loc[df['module'] == None])"
   ]
  }
 ],
 "metadata": {
  "kernelspec": {
   "display_name": "Python 3",
   "language": "python",
   "name": "python3"
  },
  "language_info": {
   "codemirror_mode": {
    "name": "ipython",
    "version": 3
   },
   "file_extension": ".py",
   "mimetype": "text/x-python",
   "name": "python",
   "nbconvert_exporter": "python",
   "pygments_lexer": "ipython3",
   "version": "3.6.8"
  }
 },
 "nbformat": 4,
 "nbformat_minor": 2
}
