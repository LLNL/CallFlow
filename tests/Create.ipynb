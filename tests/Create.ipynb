{
 "cells": [
  {
   "cell_type": "code",
   "execution_count": 1,
   "metadata": {},
   "outputs": [],
   "source": [
    "from hatchet import *\n",
    "import pandas as pd\n",
    "import numpy as np"
   ]
  },
  {
   "cell_type": "code",
   "execution_count": 16,
   "metadata": {},
   "outputs": [],
   "source": [
    "data_path = '/Users/jarus/ucd/Research/Visualisation/projects/CallFlow/data/hpctoolkit-lulesh-2'\n",
    "# data_path = '/home/vidi/Work/llnl/CallFlow/data/kripke/mvapich2'"
   ]
  },
  {
   "cell_type": "code",
   "execution_count": 17,
   "metadata": {},
   "outputs": [
    {
     "name": "stdout",
     "output_type": "stream",
     "text": [
      "[4612081.       0. 4612081. ...    5996.   59960.   59960.]\n",
      "[4616159.       0. 4616159. ...   11993.   17988.   17988.]\n",
      "[4615343.       0. 4615343. ...   41976.   47962.   47962.]\n",
      "[4620810.       0. 4620810. ...    5997.   35979.   35979.]\n",
      "[4613806.       0. 4613806. ...   11994.   95942.   95942.]\n",
      "[4615792.       0. 4615792. ...       0.   23984.   23984.]\n",
      "[4614665.       0. 4614665. ...       0.   35969.   35969.]\n",
      "[4614204.       0. 4614204. ...   17988.   17986.   17986.]\n",
      "<multiprocessing.pool.Pool object at 0x11c246b70>\n"
     ]
    }
   ],
   "source": [
    "gf = GraphFrame()\n",
    "gf.from_hpctoolkit(data_path)"
   ]
  },
  {
   "cell_type": "code",
   "execution_count": 18,
   "metadata": {},
   "outputs": [],
   "source": [
    "df = gf.dataframe\n",
    "graph = gf.graph"
   ]
  },
  {
   "cell_type": "code",
   "execution_count": 31,
   "metadata": {},
   "outputs": [
    {
     "name": "stdout",
     "output_type": "stream",
     "text": [
      "['/collab/usr/global/tools/hpctoolkit/chaos_5_x86_64_ib/hpctoolkit-2017-03-16/lib/hpctoolkit/ext-libs/libmonitor.so.0.0.0'\n",
      " '/g/g92/bhatele1/llnl/hpctoolkit/lulesh/lulesh2.0'\n",
      " '/usr/local/tools/mvapich2-intel-debug-2.2/lib/libmpi.so.12.0.5'\n",
      " '/usr/lib64/libpsm_infinipath.so.1.14' None\n",
      " '/usr/lib64/libinfinipath.so.4.0' '/lib64/libc-2.12.so']\n"
     ]
    }
   ],
   "source": [
    "print(df['module'].unique())"
   ]
  },
  {
   "cell_type": "code",
   "execution_count": 35,
   "metadata": {},
   "outputs": [
    {
     "name": "stdout",
     "output_type": "stream",
     "text": [
      "4615357.5 3138549.375 123637.9517857143\n",
      "0.68002302638528 0.02678838026863884\n"
     ]
    }
   ],
   "source": [
    "a = df.loc[df['name'] == '<program root>']['time (inc)'].mean()\n",
    "b = df.loc[df['name']== '2774:LagrangeLeapFrog(Domain&)']['time (inc)'].mean()\n",
    "c = df.loc[df['module'] == \"/usr/local/tools/mvapich2-intel-debug-2.2/lib/libmpi.so.12.0.5\"]['time (inc)'].mean()\n",
    "print(a, b, c)\n",
    "print(b/a, c/a)"
   ]
  },
  {
   "cell_type": "code",
   "execution_count": 13,
   "metadata": {},
   "outputs": [
    {
     "name": "stdout",
     "output_type": "stream",
     "text": [
      "<class 'pandas.core.frame.DataFrame'>\n",
      "MultiIndex: 10312 entries, (<program root>, 0) to (interp.c:0, 7)\n",
      "Data columns (total 10 columns):\n",
      "time (inc)    10312 non-null float64\n",
      "time          10312 non-null float64\n",
      "nid           10312 non-null int64\n",
      "rank          10312 non-null int64\n",
      "file          10312 non-null object\n",
      "line          10312 non-null object\n",
      "module        2864 non-null object\n",
      "name          10312 non-null object\n",
      "node          10312 non-null object\n",
      "type          10312 non-null object\n",
      "dtypes: float64(2), int64(2), object(6)\n",
      "memory usage: 846.1+ KB\n",
      "None\n",
      "                                                      time (inc)         time  \\\n",
      "module                                                                          \n",
      "/collab/usr/global/tools/hpctoolkit/chaos_5_x86...  1.124668e+06     0.000000   \n",
      "/g/g92/bhatele1/llnl/hpctoolkit/lulesh/lulesh2.0    1.101783e+05  8760.722426   \n",
      "/lib64/libc-2.12.so                                 7.663875e+03     0.000000   \n",
      "/usr/lib64/libinfinipath.so.4.0                     7.473333e+02     0.000000   \n",
      "/usr/lib64/libpsm_infinipath.so.1.14                1.136939e+05     0.000000   \n",
      "/usr/local/tools/mvapich2-intel-debug-2.2/lib/l...  1.236380e+05     0.000000   \n",
      "\n",
      "                                                            nid  rank  \n",
      "module                                                                 \n",
      "/collab/usr/global/tools/hpctoolkit/chaos_5_x86...   460.800000   3.5  \n",
      "/g/g92/bhatele1/llnl/hpctoolkit/lulesh/lulesh2.0     848.485294   3.5  \n",
      "/lib64/libc-2.12.so                                 1003.677419   3.5  \n",
      "/usr/lib64/libinfinipath.so.4.0                      718.000000   3.5  \n",
      "/usr/lib64/libpsm_infinipath.so.1.14                 944.333333   3.5  \n",
      "/usr/local/tools/mvapich2-intel-debug-2.2/lib/l...   713.457143   3.5  \n"
     ]
    }
   ],
   "source": [
    "print(df.info())\n",
    "print(df.groupby(['module']).mean())"
   ]
  },
  {
   "cell_type": "code",
   "execution_count": 15,
   "metadata": {},
   "outputs": [
    {
     "name": "stdout",
     "output_type": "stream",
     "text": [
      "Empty DataFrame\n",
      "Columns: [time (inc), time, nid, rank, file, line, module, name, node, type]\n",
      "Index: []\n"
     ]
    }
   ],
   "source": [
    "# None modules:\n",
    "print(df.loc[df['module'] == None])"
   ]
  }
 ],
 "metadata": {
  "kernelspec": {
   "display_name": "Python 3",
   "language": "python",
   "name": "python3"
  },
  "language_info": {
   "codemirror_mode": {
    "name": "ipython",
    "version": 3
   },
   "file_extension": ".py",
   "mimetype": "text/x-python",
   "name": "python",
   "nbconvert_exporter": "python",
   "pygments_lexer": "ipython3",
   "version": "3.6.8"
  }
 },
 "nbformat": 4,
 "nbformat_minor": 2
}
