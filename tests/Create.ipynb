{
 "cells": [
  {
   "cell_type": "code",
   "execution_count": 2,
   "metadata": {},
   "outputs": [],
   "source": [
    "from hatchet import *\n",
    "import pandas as pd\n",
    "import numpy as np"
   ]
  },
  {
   "cell_type": "code",
   "execution_count": 3,
   "metadata": {},
   "outputs": [],
   "source": [
    "data_path = '/Users/jarus/ucd/Research/Visualisation/projects/CallFlow/data/hpctoolkit-cpi-database'\n",
    "data_path = '/home/vidi/Work/llnl/CallFlow/data/kripke/mvapich2'"
   ]
  },
  {
   "cell_type": "code",
   "execution_count": 4,
   "metadata": {},
   "outputs": [
    {
     "name": "stdout",
     "output_type": "stream",
     "text": [
      "Number of metric DB files 4\n"
     ]
    }
   ],
   "source": [
    "gf = GraphFrame()\n",
    "gf.from_hpctoolkit(data_path)"
   ]
  },
  {
   "cell_type": "code",
   "execution_count": 5,
   "metadata": {},
   "outputs": [],
   "source": [
    "df = gf.dataframe\n",
    "graph = gf.graph"
   ]
  },
  {
   "cell_type": "code",
   "execution_count": 20,
   "metadata": {},
   "outputs": [],
   "source": [
    "# loop_osu_bw = df.loc[df['name'] == 'Loop@osu_bw.c:112']\n",
    "# print(type(loop_osu_bw['module'][0]))"
   ]
  },
  {
   "cell_type": "code",
   "execution_count": 9,
   "metadata": {},
   "outputs": [
    {
     "name": "stdout",
     "output_type": "stream",
     "text": [
      "<class 'pandas.core.frame.DataFrame'>\n",
      "MultiIndex: 9368 entries, (<partial call paths>, 0) to (<unknown file> [kripke]:0, 3)\n",
      "Data columns (total 10 columns):\n",
      "time (inc)    9368 non-null float64\n",
      "time          9368 non-null float64\n",
      "nid           9368 non-null int64\n",
      "rank          9368 non-null int64\n",
      "file          9368 non-null object\n",
      "line          9368 non-null object\n",
      "module        4256 non-null object\n",
      "name          9368 non-null object\n",
      "node          9368 non-null object\n",
      "type          9368 non-null object\n",
      "dtypes: float64(2), int64(2), object(6)\n",
      "memory usage: 777.8+ KB\n",
      "None\n",
      "                                                      time (inc)  \\\n",
      "module                                                             \n",
      "/collab/usr/global/tools/hpctoolkit/toss_3_x86_...  3.889881e+07   \n",
      "/g/g92/bhatele1/llnl/hpctoolkit/Kripke/build-mv...  1.420712e+07   \n",
      "/usr/lib64/ld-2.17.so                               0.000000e+00   \n",
      "/usr/lib64/libc-2.17.so                             5.125415e+04   \n",
      "/usr/lib64/libm-2.17.so                             0.000000e+00   \n",
      "/usr/lib64/libpsm2.so.2.1                           4.527296e+03   \n",
      "/usr/lib64/libpthread-2.17.so                       0.000000e+00   \n",
      "/usr/tce/packages/gcc/gcc-4.9.3/lib64/libstdc++...  1.674301e+04   \n",
      "/usr/tce/packages/intel/intel-18.0.1/compilers_...  0.000000e+00   \n",
      "/usr/tce/packages/mvapich2/mvapich2-2.2-intel-1...  5.372449e+04   \n",
      "<unknown load module>                               0.000000e+00   \n",
      "\n",
      "                                                            time          nid  \\\n",
      "module                                                                          \n",
      "/collab/usr/global/tools/hpctoolkit/toss_3_x86_...  0.000000e+00   545.800000   \n",
      "/g/g92/bhatele1/llnl/hpctoolkit/Kripke/build-mv...  4.353011e+06   992.952381   \n",
      "/usr/lib64/ld-2.17.so                               0.000000e+00  1937.400000   \n",
      "/usr/lib64/libc-2.17.so                             0.000000e+00   856.405882   \n",
      "/usr/lib64/libm-2.17.so                             0.000000e+00   519.000000   \n",
      "/usr/lib64/libpsm2.so.2.1                           0.000000e+00  1749.689145   \n",
      "/usr/lib64/libpthread-2.17.so                       0.000000e+00  1762.333333   \n",
      "/usr/tce/packages/gcc/gcc-4.9.3/lib64/libstdc++...  0.000000e+00  1056.333333   \n",
      "/usr/tce/packages/intel/intel-18.0.1/compilers_...  0.000000e+00  2281.000000   \n",
      "/usr/tce/packages/mvapich2/mvapich2-2.2-intel-1...  0.000000e+00  1757.017544   \n",
      "<unknown load module>                               0.000000e+00     3.000000   \n",
      "\n",
      "                                                    rank  \n",
      "module                                                    \n",
      "/collab/usr/global/tools/hpctoolkit/toss_3_x86_...   1.5  \n",
      "/g/g92/bhatele1/llnl/hpctoolkit/Kripke/build-mv...   1.5  \n",
      "/usr/lib64/ld-2.17.so                                1.5  \n",
      "/usr/lib64/libc-2.17.so                              1.5  \n",
      "/usr/lib64/libm-2.17.so                              1.5  \n",
      "/usr/lib64/libpsm2.so.2.1                            1.5  \n",
      "/usr/lib64/libpthread-2.17.so                        1.5  \n",
      "/usr/tce/packages/gcc/gcc-4.9.3/lib64/libstdc++...   1.5  \n",
      "/usr/tce/packages/intel/intel-18.0.1/compilers_...   1.5  \n",
      "/usr/tce/packages/mvapich2/mvapich2-2.2-intel-1...   1.5  \n",
      "<unknown load module>                                1.5  \n"
     ]
    }
   ],
   "source": [
    "print(df.info())\n",
    "print(df.groupby(['module']).mean())"
   ]
  },
  {
   "cell_type": "code",
   "execution_count": 14,
   "metadata": {},
   "outputs": [
    {
     "name": "stdout",
     "output_type": "stream",
     "text": [
      "Empty DataFrame\n",
      "Columns: [time (inc), time, nid, rank, file, line, module, name, node, type]\n",
      "Index: []\n"
     ]
    }
   ],
   "source": [
    "# None modules:\n",
    "print(df.loc[df['module'] == None])"
   ]
  }
 ],
 "metadata": {
  "kernelspec": {
   "display_name": "Python 3",
   "language": "python",
   "name": "python3"
  },
  "language_info": {
   "codemirror_mode": {
    "name": "ipython",
    "version": 3
   },
   "file_extension": ".py",
   "mimetype": "text/x-python",
   "name": "python",
   "nbconvert_exporter": "python",
   "pygments_lexer": "ipython3",
   "version": "3.6.7"
  }
 },
 "nbformat": 4,
 "nbformat_minor": 2
}
