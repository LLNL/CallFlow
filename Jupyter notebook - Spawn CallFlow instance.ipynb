{
 "cells": [
  {
   "cell_type": "code",
   "execution_count": 1,
   "metadata": {},
   "outputs": [],
   "source": [
    "import callflow\n",
    "from callflow import SuperGraph\n",
    "from callflow.operations import Config\n",
    "from callflow.utils.argparser import ArgParser\n",
    "from server.provider_base import BaseProvider\n",
    "from server.provider_api import APIProvider\n",
    "\n",
    "callflow.init_logger(level=2)"
   ]
  },
  {
   "cell_type": "code",
   "execution_count": 2,
   "metadata": {},
   "outputs": [],
   "source": [
    "prop = {\n",
    "    'config': '/Users/jarus/Work/llnl/CallFlow/case_studies/lulesh-8-runs/config_2.json', \n",
    "    'data_path': None, \n",
    "    'profile_format': 'caliper_json', \n",
    "    'process': True, \n",
    "    'production': False, \n",
    "    'filter_perc': 0.0, \n",
    "    'filter_by': 'time (inc)', \n",
    "    'group_by': 'module', \n",
    "    'read_parameter': False, \n",
    "    'save_path': '', \n",
    "    'verbose': True, \n",
    "    'log': 'stdout', \n",
    "    'reset': True, \n",
    "    'append_path': '', \n",
    "    'start_date': '', \n",
    "    'end_date': '', \n",
    "    'chunk_idx': 0, \n",
    "    'chunk_size': 0, \n",
    "    'ensemble_process': True\n",
    "}"
   ]
  },
  {
   "cell_type": "code",
   "execution_count": 3,
   "metadata": {},
   "outputs": [
    {
     "name": "stderr",
     "output_type": "stream",
     "text": [
      "\u001b[32m2021-06-28 13:27:42,203 - callflow.operations.config:_prep_data_staging:270 - INFO - CallFlow is staging data in (/Users/jarus/Work/llnl/callflow_data/lulesh-8-runs/.callflow)\u001b[0m\n"
     ]
    }
   ],
   "source": [
    "config = Config(prop).get_config()"
   ]
  },
  {
   "cell_type": "code",
   "execution_count": 4,
   "metadata": {},
   "outputs": [
    {
     "name": "stdout",
     "output_type": "stream",
     "text": [
      "{'append_path': '', 'data_path': '/Users/jarus/Work/llnl/callflow_data/lulesh-8-runs/', 'save_path': '/Users/jarus/Work/llnl/callflow_data/lulesh-8-runs/.callflow', 'read_parameter': False, 'filter_perc': 0, 'filter_by': 'time (inc)', 'group_by': 'module', 'module_callsite_map': {'Lulesh': ['main', 'lulesh.cycle'], 'LeapFrog': ['LagrangeNodal', 'LagrangeLeapFrog'], 'CalcForce': ['CalcForceForNodes', 'CalcVolumeForceForElems', 'CalcHourglassControlForElems', 'CalcFBHourglassForceForElems'], 'CalcLagrange': ['LagrangeElements', 'UpdateVolumesForElems', 'CalcLagrangeElements', 'CalcKinematicsForElems', 'CalcQForElems', 'CalcMonotonicQGradientsForElems', 'CalcMonotonicQRegionForElems', 'ApplyMaterialPropertiesForElems', 'EvalEOSForElems', 'CalcEnergyForElems', 'CalcPressureForElems', 'CalcSoundSpeedForElems', 'IntegrateStressForElems', 'UpdateVolumesForElems'], 'Timer': ['TimeIncrement'], 'CalcConstraint': ['CalcTimeConstraintsForElems', 'CalcCourantConstraintForElems', 'CalcHydroConstraintForElems'], 'MPI': ['MPI_Barrier', 'MPI_Reduce', 'MPI_Allreduce', 'MPI_Irecv', 'MPI_Isend', 'MPI_Wait', 'MPI_Waitall', 'MPI_Finalize']}, 'chunk_idx': 0, 'chunk_size': 0, 'ensemble_process': True, 'experiment': 'Lulesh-8-runs', 'runs': [{'name': '64-cores', 'path': '64-cores.json', 'profile_format': 'caliper_json'}, {'name': '27-cores', 'path': '27-cores.json', 'profile_format': 'caliper_json'}, {'name': '512-cores', 'path': '512-cores.json', 'profile_format': 'caliper_json'}, {'name': '8-cores', 'path': '8-cores.json', 'profile_format': 'caliper_json'}, {'name': '125-cores', 'path': '125-cores.json', 'profile_format': 'caliper_json'}, {'name': '343-cores', 'path': '343-cores.json', 'profile_format': 'caliper_json'}, {'name': '216-cores', 'path': '216-cores.json', 'profile_format': 'caliper_json'}], 'callsite_module_map': {'main': 'Lulesh', 'lulesh.cycle': 'Lulesh', 'LagrangeNodal': 'LeapFrog', 'LagrangeLeapFrog': 'LeapFrog', 'CalcForceForNodes': 'CalcForce', 'CalcVolumeForceForElems': 'CalcForce', 'CalcHourglassControlForElems': 'CalcForce', 'CalcFBHourglassForceForElems': 'CalcForce', 'LagrangeElements': 'CalcLagrange', 'UpdateVolumesForElems': 'CalcLagrange', 'CalcLagrangeElements': 'CalcLagrange', 'CalcKinematicsForElems': 'CalcLagrange', 'CalcQForElems': 'CalcLagrange', 'CalcMonotonicQGradientsForElems': 'CalcLagrange', 'CalcMonotonicQRegionForElems': 'CalcLagrange', 'ApplyMaterialPropertiesForElems': 'CalcLagrange', 'EvalEOSForElems': 'CalcLagrange', 'CalcEnergyForElems': 'CalcLagrange', 'CalcPressureForElems': 'CalcLagrange', 'CalcSoundSpeedForElems': 'CalcLagrange', 'IntegrateStressForElems': 'CalcLagrange', 'TimeIncrement': 'Timer', 'CalcTimeConstraintsForElems': 'CalcConstraint', 'CalcCourantConstraintForElems': 'CalcConstraint', 'CalcHydroConstraintForElems': 'CalcConstraint', 'MPI_Barrier': 'MPI', 'MPI_Reduce': 'MPI', 'MPI_Allreduce': 'MPI', 'MPI_Irecv': 'MPI', 'MPI_Isend': 'MPI', 'MPI_Wait': 'MPI', 'MPI_Waitall': 'MPI', 'MPI_Finalize': 'MPI'}}\n"
     ]
    }
   ],
   "source": [
    "print(config)"
   ]
  },
  {
   "cell_type": "code",
   "execution_count": 5,
   "metadata": {},
   "outputs": [
    {
     "name": "stderr",
     "output_type": "stream",
     "text": [
      "\u001b[35m2021-06-28 13:27:42,217 - server.provider_base:__init__:42 - WARNING - -------------------- TOTAL 7 datasets detected from  in the CallFlow.config --------------------\u001b[0m\n",
      "\u001b[35m2021-06-28 13:27:42,218 - server.provider_base:process:260 - WARNING - -------------------- PROCESSING 0 SUPERGRAPHS --------------------\u001b[0m\n",
      "\u001b[35m2021-06-28 13:27:42,219 - server.provider_base:process:263 - WARNING - -------------------- LOADING 7 SUPERGRAPHS --------------------\u001b[0m\n",
      "\u001b[32m2021-06-28 13:27:42,512 - callflow.datastructures.supergraph:load:304 - INFO - Reading SuperGraph (512-cores) from (/Users/jarus/Work/llnl/callflow_data/lulesh-8-runs/.callflow/512-cores)\u001b[0m\n",
      "\u001b[32m2021-06-28 13:27:42,512 - callflow.datastructures.supergraph:load:304 - INFO - Reading SuperGraph (8-cores) from (/Users/jarus/Work/llnl/callflow_data/lulesh-8-runs/.callflow/8-cores)\u001b[0m\n",
      "\u001b[32m2021-06-28 13:27:42,511 - callflow.datastructures.supergraph:load:304 - INFO - Reading SuperGraph (27-cores) from (/Users/jarus/Work/llnl/callflow_data/lulesh-8-runs/.callflow/27-cores)\u001b[0m\n",
      "\u001b[32m2021-06-28 13:27:42,511 - callflow.datastructures.supergraph:load:304 - INFO - Reading SuperGraph (64-cores) from (/Users/jarus/Work/llnl/callflow_data/lulesh-8-runs/.callflow/64-cores)\u001b[0m\n",
      "\u001b[32m2021-06-28 13:27:42,512 - callflow.datastructures.supergraph:load:304 - INFO - Reading SuperGraph (125-cores) from (/Users/jarus/Work/llnl/callflow_data/lulesh-8-runs/.callflow/125-cores)\u001b[0m\n",
      "\u001b[32m2021-06-28 13:27:42,513 - callflow.datastructures.supergraph:load:304 - INFO - Reading SuperGraph (343-cores) from (/Users/jarus/Work/llnl/callflow_data/lulesh-8-runs/.callflow/343-cores)\u001b[0m\n",
      "\u001b[32m2021-06-28 13:27:42,513 - callflow.datastructures.supergraph:load:304 - INFO - Reading SuperGraph (216-cores) from (/Users/jarus/Work/llnl/callflow_data/lulesh-8-runs/.callflow/216-cores)\u001b[0m\n",
      "\u001b[32m2021-06-28 13:27:42,533 - callflow.datastructures.supergraph:add_callsites_and_modules_maps:342 - INFO - [125-cores] Creating \"module-callsite\" and \"callsite-module\" maps\u001b[0m\n",
      "\u001b[32m2021-06-28 13:27:42,534 - callflow.datastructures.supergraph:add_callsites_and_modules_maps:342 - INFO - [64-cores] Creating \"module-callsite\" and \"callsite-module\" maps\u001b[0m\n",
      "\u001b[32m2021-06-28 13:27:42,533 - callflow.datastructures.supergraph:add_callsites_and_modules_maps:342 - INFO - [27-cores] Creating \"module-callsite\" and \"callsite-module\" maps\u001b[0m\n",
      "\u001b[32m2021-06-28 13:27:42,539 - callflow.datastructures.supergraph:add_callsites_and_modules_maps:342 - INFO - [8-cores] Creating \"module-callsite\" and \"callsite-module\" maps\u001b[0m\n",
      "\u001b[32m2021-06-28 13:27:42,539 - callflow.datastructures.supergraph:add_callsites_and_modules_maps:342 - INFO - [216-cores] Creating \"module-callsite\" and \"callsite-module\" maps\u001b[0m\n",
      "\u001b[32m2021-06-28 13:27:42,541 - callflow.datastructures.supergraph:add_callsites_and_modules_maps:342 - INFO - [343-cores] Creating \"module-callsite\" and \"callsite-module\" maps\u001b[0m\n",
      "\u001b[32m2021-06-28 13:27:42,543 - callflow.datastructures.supergraph:add_callsites_and_modules_maps:342 - INFO - [512-cores] Creating \"module-callsite\" and \"callsite-module\" maps\u001b[0m\n",
      "\u001b[32m2021-06-28 13:27:42,585 - callflow.datastructures.supergraph:add_callsites_and_modules_maps:415 - INFO - Created (\"module-to-callsite\" = 7) and (\"callsite-to-module\" = 45) maps\u001b[0m\n",
      "\u001b[32m2021-06-28 13:27:42,588 - callflow.datastructures.supergraph:add_callsites_and_modules_maps:415 - INFO - Created (\"module-to-callsite\" = 7) and (\"callsite-to-module\" = 45) maps\u001b[0m\n",
      "\u001b[32m2021-06-28 13:27:42,605 - callflow.datastructures.supergraph:add_callsites_and_modules_maps:415 - INFO - Created (\"module-to-callsite\" = 7) and (\"callsite-to-module\" = 45) maps\u001b[0m\n",
      "\u001b[32m2021-06-28 13:27:42,608 - callflow.datastructures.supergraph:add_callsites_and_modules_maps:415 - INFO - Created (\"module-to-callsite\" = 7) and (\"callsite-to-module\" = 45) maps\u001b[0m\n",
      "\u001b[32m2021-06-28 13:27:42,622 - callflow.datastructures.supergraph:add_callsites_and_modules_maps:415 - INFO - Created (\"module-to-callsite\" = 7) and (\"callsite-to-module\" = 45) maps\u001b[0m\n",
      "\u001b[32m2021-06-28 13:27:42,644 - callflow.datastructures.supergraph:add_callsites_and_modules_maps:415 - INFO - Created (\"module-to-callsite\" = 7) and (\"callsite-to-module\" = 45) maps\u001b[0m\n",
      "\u001b[32m2021-06-28 13:27:42,671 - callflow.datastructures.supergraph:add_callsites_and_modules_maps:415 - INFO - Created (\"module-to-callsite\" = 7) and (\"callsite-to-module\" = 45) maps\u001b[0m\n",
      "\u001b[35m2021-06-28 13:27:43,313 - server.provider_base:process:266 - WARNING - -------------------- PROCESSING ENSEMBLE SUPERGRAPH --------------------\u001b[0m\n",
      "\u001b[01;31m2021-06-28 13:27:43,317 - server.provider_base:process_ensemble:230 - PROFILE - [145.07421875 MB]: Starting supergraph ensemble\u001b[0m\n",
      "\u001b[32m2021-06-28 13:27:43,320 - callflow.operations.unify:compute:52 - INFO - Unifying 7 supergraphs\u001b[0m\n",
      "\u001b[01;31m2021-06-28 13:27:43,478 - server.provider_base:process_ensemble:234 - PROFILE - [160.78125 MB]: Created supergraph ensemble\u001b[0m\n",
      "\u001b[32m2021-06-28 13:27:43,479 - callflow.datastructures.supergraph:write:455 - INFO - Writing SuperGraph to (/Users/jarus/Work/llnl/callflow_data/lulesh-8-runs/.callflow/ensemble)\u001b[0m\n",
      "\u001b[01;31m2021-06-28 13:27:43,522 - server.provider_base:process_ensemble:238 - PROFILE - [166.49609375 MB]: Stored in dictionary ensemble\u001b[0m\n"
     ]
    }
   ],
   "source": [
    "cf = BaseProvider(config=config)\n",
    "cf.process(prop.get(\"reset\"))"
   ]
  },
  {
   "cell_type": "code",
   "execution_count": 6,
   "metadata": {},
   "outputs": [
    {
     "data": {
      "text/plain": [
       "{'64-cores': SuperGraph<64-cores; df = (2880, 13), cols = ['node', 'rank', 'time (inc)', 'time', 'nid', 'name', 'module', 'callees', 'callers', 'path', 'group_path', 'component_path', 'dataset']>,\n",
       " '27-cores': SuperGraph<27-cores; df = (1215, 13), cols = ['node', 'rank', 'time (inc)', 'time', 'nid', 'name', 'module', 'callees', 'callers', 'path', 'group_path', 'component_path', 'dataset']>,\n",
       " '512-cores': SuperGraph<512-cores; df = (23040, 13), cols = ['node', 'rank', 'time (inc)', 'time', 'nid', 'name', 'module', 'callees', 'callers', 'path', 'group_path', 'component_path', 'dataset']>,\n",
       " '8-cores': SuperGraph<8-cores; df = (5625, 13), cols = ['node', 'rank', 'time (inc)', 'time', 'nid', 'name', 'module', 'callees', 'callers', 'path', 'group_path', 'component_path', 'dataset']>,\n",
       " '125-cores': SuperGraph<125-cores; df = (5625, 13), cols = ['node', 'rank', 'time (inc)', 'time', 'nid', 'name', 'module', 'callees', 'callers', 'path', 'group_path', 'component_path', 'dataset']>,\n",
       " '343-cores': SuperGraph<343-cores; df = (15435, 13), cols = ['node', 'rank', 'time (inc)', 'time', 'nid', 'name', 'module', 'callees', 'callers', 'path', 'group_path', 'component_path', 'dataset']>,\n",
       " '216-cores': SuperGraph<216-cores; df = (9720, 13), cols = ['node', 'rank', 'time (inc)', 'time', 'nid', 'name', 'module', 'callees', 'callers', 'path', 'group_path', 'component_path', 'dataset']>,\n",
       " 'ensemble': EnsembleGraph<ensemble of 8 supergraphs; df = (63540, 14), cols = ['index', 'callees', 'callers', 'component_path', 'dataset', 'group_path', 'module', 'name', 'nid', 'node', 'path', 'rank', 'time', 'time (inc)']>}"
      ]
     },
     "execution_count": 6,
     "metadata": {},
     "output_type": "execute_result"
    }
   ],
   "source": [
    "cf.supergraphs"
   ]
  },
  {
   "cell_type": "code",
   "execution_count": 7,
   "metadata": {},
   "outputs": [
    {
     "name": "stdout",
     "output_type": "stream",
     "text": [
      "SuperGraph<64-cores; df = (2880, 13), cols = ['node', 'rank', 'time (inc)', 'time', 'nid', 'name', 'module', 'callees', 'callers', 'path', 'group_path', 'component_path', 'dataset']>\n"
     ]
    }
   ],
   "source": [
    "sg = cf.supergraphs['64-cores']\n",
    "print(sg)"
   ]
  },
  {
   "cell_type": "code",
   "execution_count": 8,
   "metadata": {},
   "outputs": [
    {
     "data": {
      "text/plain": [
       "['Timer',\n",
       " 'CalcConstraint',\n",
       " 'CalcLagrange',\n",
       " 'Lulesh',\n",
       " 'CalcForce',\n",
       " 'LeapFrog',\n",
       " 'MPI']"
      ]
     },
     "execution_count": 8,
     "metadata": {},
     "output_type": "execute_result"
    }
   ],
   "source": [
    "sg.get_modules()"
   ]
  },
  {
   "cell_type": "code",
   "execution_count": null,
   "metadata": {},
   "outputs": [],
   "source": [
    "cf.supergraph"
   ]
  },
  {
   "cell_type": "code",
   "execution_count": 9,
   "metadata": {},
   "outputs": [
    {
     "data": {
      "text/plain": [
       "{'time (inc)': {'rank': {'x': [51195506.075,\n",
       "    51196030.224999994,\n",
       "    51196554.375,\n",
       "    51197078.525000006,\n",
       "    51197602.675,\n",
       "    51198126.825,\n",
       "    51198650.974999994,\n",
       "    51199175.125,\n",
       "    51199699.275000006,\n",
       "    51200223.425,\n",
       "    51200747.575,\n",
       "    51201271.724999994,\n",
       "    51201795.875,\n",
       "    51202320.025000006,\n",
       "    51202844.175,\n",
       "    51203368.325,\n",
       "    51203892.474999994,\n",
       "    51204416.625,\n",
       "    51204940.775000006,\n",
       "    51205464.925],\n",
       "   'y': [2, 1, 2, 2, 3, 4, 2, 2, 3, 3, 3, 3, 3, 4, 6, 1, 2, 5, 2, 11],\n",
       "   'x_min': 51195506.075,\n",
       "   'x_max': 51205464.925,\n",
       "   'y_min': 1.0,\n",
       "   'y_max': 11.0,\n",
       "   'dig': {17: [0, 10, 11, 14, 44],\n",
       "    3: [1, 47],\n",
       "    15: [2],\n",
       "    10: [3, 31, 61],\n",
       "    12: [4, 13, 48],\n",
       "    14: [5, 28, 51, 52, 58, 62],\n",
       "    8: [6, 20, 41],\n",
       "    16: [7, 17],\n",
       "    5: [8, 9, 45, 49],\n",
       "    11: [12, 37, 43],\n",
       "    13: [15, 21, 53, 54],\n",
       "    19: [16, 18, 19, 22, 23, 25, 34, 38, 40, 42],\n",
       "    4: [24, 27, 56],\n",
       "    7: [26, 39],\n",
       "    6: [29, 59],\n",
       "    9: [30, 35, 55],\n",
       "    18: [32, 36],\n",
       "    0: [33, 50],\n",
       "    20: [46],\n",
       "    2: [57, 60],\n",
       "    1: [63]}},\n",
       "  'd': [51204335.0,\n",
       "   51196854.0,\n",
       "   51203487.0,\n",
       "   51200865.0,\n",
       "   51201887.0,\n",
       "   51202747.0,\n",
       "   51199486.0,\n",
       "   51203918.0,\n",
       "   51198056.0,\n",
       "   51198286.0,\n",
       "   51204677.0,\n",
       "   51204276.0,\n",
       "   51201142.0,\n",
       "   51201639.0,\n",
       "   51204621.0,\n",
       "   51202478.0,\n",
       "   51205312.0,\n",
       "   51203694.0,\n",
       "   51205350.0,\n",
       "   51205374.0,\n",
       "   51199813.0,\n",
       "   51202155.0,\n",
       "   51205348.0,\n",
       "   51205347.0,\n",
       "   51197404.0,\n",
       "   51205357.0,\n",
       "   51199089.0,\n",
       "   51197523.0,\n",
       "   51203007.0,\n",
       "   51198862.0,\n",
       "   51200147.0,\n",
       "   51200525.0,\n",
       "   51204870.0,\n",
       "   51195603.0,\n",
       "   51205709.0,\n",
       "   51200276.0,\n",
       "   51204912.0,\n",
       "   51201083.0,\n",
       "   51205704.0,\n",
       "   51199125.0,\n",
       "   51205724.0,\n",
       "   51199638.0,\n",
       "   51205705.0,\n",
       "   51201309.0,\n",
       "   51204596.0,\n",
       "   51198306.0,\n",
       "   51205727.0,\n",
       "   51197115.0,\n",
       "   51201799.0,\n",
       "   51197895.0,\n",
       "   51195244.0,\n",
       "   51202910.0,\n",
       "   51202945.0,\n",
       "   51202479.0,\n",
       "   51202221.0,\n",
       "   51199970.0,\n",
       "   51197820.0,\n",
       "   51196756.0,\n",
       "   51202934.0,\n",
       "   51198691.0,\n",
       "   51196393.0,\n",
       "   51200800.0,\n",
       "   51202934.0,\n",
       "   51196075.0]},\n",
       " 'time': {'rank': {'x': [83367.7,\n",
       "    83621.1,\n",
       "    83874.5,\n",
       "    84127.9,\n",
       "    84381.3,\n",
       "    84634.7,\n",
       "    84888.1,\n",
       "    85141.5,\n",
       "    85394.9,\n",
       "    85648.3,\n",
       "    85901.7,\n",
       "    86155.1,\n",
       "    86408.5,\n",
       "    86661.9,\n",
       "    86915.3,\n",
       "    87168.7,\n",
       "    87422.1,\n",
       "    87675.5,\n",
       "    87928.9,\n",
       "    88182.3],\n",
       "   'y': [4, 1, 2, 1, 2, 3, 3, 1, 3, 2, 3, 3, 7, 3, 10, 6, 7, 0, 1, 2],\n",
       "   'x_min': 83367.7,\n",
       "   'x_max': 88182.3,\n",
       "   'y_min': 0.0,\n",
       "   'y_max': 10.0,\n",
       "   'dig': {10: [0, 11, 24],\n",
       "    12: [1, 2, 10, 16, 23, 28, 35],\n",
       "    13: [3, 9, 15],\n",
       "    15: [4, 14, 32, 34, 37, 41],\n",
       "    20: [5],\n",
       "    14: [6, 7, 12, 20, 29, 36, 39, 43, 44, 45],\n",
       "    9: [8, 49],\n",
       "    16: [13, 18, 21, 22, 25, 26, 30],\n",
       "    11: [17, 27, 46],\n",
       "    5: [19, 33, 58],\n",
       "    7: [31],\n",
       "    19: [38],\n",
       "    8: [40, 47, 59],\n",
       "    18: [42],\n",
       "    2: [48, 60],\n",
       "    4: [50, 62],\n",
       "    0: [51, 52, 55, 63],\n",
       "    6: [53, 54, 57],\n",
       "    1: [56],\n",
       "    3: [61]}},\n",
       "  'd': [85900.0,\n",
       "   86321.0,\n",
       "   86340.0,\n",
       "   86708.0,\n",
       "   87189.0,\n",
       "   88309.0,\n",
       "   86915.0,\n",
       "   86858.0,\n",
       "   85712.0,\n",
       "   86753.0,\n",
       "   86447.0,\n",
       "   85915.0,\n",
       "   86821.0,\n",
       "   87298.0,\n",
       "   87185.0,\n",
       "   86689.0,\n",
       "   86450.0,\n",
       "   86112.0,\n",
       "   87360.0,\n",
       "   84538.0,\n",
       "   86916.0,\n",
       "   87307.0,\n",
       "   87467.0,\n",
       "   86451.0,\n",
       "   85791.0,\n",
       "   87548.0,\n",
       "   87429.0,\n",
       "   86101.0,\n",
       "   86326.0,\n",
       "   87037.0,\n",
       "   87311.0,\n",
       "   85127.0,\n",
       "   87134.0,\n",
       "   84732.0,\n",
       "   87063.0,\n",
       "   86429.0,\n",
       "   86854.0,\n",
       "   87247.0,\n",
       "   88099.0,\n",
       "   86802.0,\n",
       "   85384.0,\n",
       "   87172.0,\n",
       "   87928.0,\n",
       "   86952.0,\n",
       "   87004.0,\n",
       "   86836.0,\n",
       "   86172.0,\n",
       "   85417.0,\n",
       "   83859.0,\n",
       "   85640.0,\n",
       "   84416.0,\n",
       "   83241.0,\n",
       "   83393.0,\n",
       "   84987.0,\n",
       "   84918.0,\n",
       "   83332.0,\n",
       "   83709.0,\n",
       "   84844.0,\n",
       "   84720.0,\n",
       "   85318.0,\n",
       "   83769.0,\n",
       "   84023.0,\n",
       "   84258.0,\n",
       "   83465.0]}}"
      ]
     },
     "execution_count": 9,
     "metadata": {},
     "output_type": "execute_result"
    }
   ],
   "source": [
    "sg.get_histograms({\"id\": \"main\", \"type\": \"callsite\"}, 20)"
   ]
  },
  {
   "cell_type": "code",
   "execution_count": 10,
   "metadata": {},
   "outputs": [
    {
     "ename": "TypeError",
     "evalue": "get_idx() missing 2 required positional arguments: 'name' and 'ntype'",
     "output_type": "error",
     "traceback": [
      "\u001b[0;31m---------------------------\u001b[0m",
      "\u001b[0;31mTypeError\u001b[0mTraceback (most recent call last)",
      "\u001b[0;32m<ipython-input-10-18819e073416>\u001b[0m in \u001b[0;36m<module>\u001b[0;34m\u001b[0m\n\u001b[0;32m----> 1\u001b[0;31m \u001b[0mnode_idx\u001b[0m \u001b[0;34m=\u001b[0m \u001b[0msg\u001b[0m\u001b[0;34m.\u001b[0m\u001b[0mget_idx\u001b[0m\u001b[0;34m(\u001b[0m\u001b[0;34m)\u001b[0m\u001b[0;34m\u001b[0m\u001b[0;34m\u001b[0m\u001b[0m\n\u001b[0m\u001b[1;32m      2\u001b[0m \u001b[0mmodule\u001b[0m \u001b[0;34m=\u001b[0m \u001b[0msg\u001b[0m\u001b[0;34m.\u001b[0m\u001b[0mget_module\u001b[0m\u001b[0;34m(\u001b[0m\u001b[0mnode_idx\u001b[0m\u001b[0;34m,\u001b[0m \u001b[0;34m\"module\"\u001b[0m\u001b[0;34m)\u001b[0m\u001b[0;34m\u001b[0m\u001b[0;34m\u001b[0m\u001b[0m\n\u001b[1;32m      3\u001b[0m \u001b[0mprint\u001b[0m\u001b[0;34m(\u001b[0m\u001b[0mmodule\u001b[0m\u001b[0;34m)\u001b[0m\u001b[0;34m\u001b[0m\u001b[0;34m\u001b[0m\u001b[0m\n",
      "\u001b[0;31mTypeError\u001b[0m: get_idx() missing 2 required positional arguments: 'name' and 'ntype'"
     ]
    }
   ],
   "source": [
    "node_idx = sg.get_idx()\n",
    "module = sg.get_module(node_idx, \"module\")\n",
    "print(module)"
   ]
  },
  {
   "cell_type": "code",
   "execution_count": null,
   "metadata": {},
   "outputs": [],
   "source": [
    "cf.load()"
   ]
  },
  {
   "cell_type": "code",
   "execution_count": null,
   "metadata": {},
   "outputs": [
    {
     "name": "stderr",
     "output_type": "stream",
     "text": [
      "\u001b[35m2021-06-28 13:27:47,085 - server.provider_base:__init__:42 - WARNING - -------------------- TOTAL 7 datasets detected from  in the CallFlow.config --------------------\u001b[0m\n",
      "\u001b[32m2021-06-28 13:27:47,192 - callflow.datastructures.supergraph:load:304 - INFO - Reading SuperGraph (27-cores) from (/Users/jarus/Work/llnl/callflow_data/lulesh-8-runs/.callflow/27-cores)\u001b[0m\n",
      "\u001b[32m2021-06-28 13:27:47,192 - callflow.datastructures.supergraph:load:304 - INFO - Reading SuperGraph (64-cores) from (/Users/jarus/Work/llnl/callflow_data/lulesh-8-runs/.callflow/64-cores)\u001b[0m\n",
      "\u001b[32m2021-06-28 13:27:47,192 - callflow.datastructures.supergraph:load:304 - INFO - Reading SuperGraph (8-cores) from (/Users/jarus/Work/llnl/callflow_data/lulesh-8-runs/.callflow/8-cores)\u001b[0m\n",
      "\u001b[32m2021-06-28 13:27:47,192 - callflow.datastructures.supergraph:load:304 - INFO - Reading SuperGraph (512-cores) from (/Users/jarus/Work/llnl/callflow_data/lulesh-8-runs/.callflow/512-cores)\u001b[0m\n",
      "\u001b[32m2021-06-28 13:27:47,193 - callflow.datastructures.supergraph:load:304 - INFO - Reading SuperGraph (125-cores) from (/Users/jarus/Work/llnl/callflow_data/lulesh-8-runs/.callflow/125-cores)\u001b[0m\n",
      "\u001b[32m2021-06-28 13:27:47,193 - callflow.datastructures.supergraph:load:304 - INFO - Reading SuperGraph (343-cores) from (/Users/jarus/Work/llnl/callflow_data/lulesh-8-runs/.callflow/343-cores)\u001b[0m\n",
      "\u001b[32m2021-06-28 13:27:47,193 - callflow.datastructures.supergraph:load:304 - INFO - Reading SuperGraph (216-cores) from (/Users/jarus/Work/llnl/callflow_data/lulesh-8-runs/.callflow/216-cores)\u001b[0m\n",
      "\u001b[32m2021-06-28 13:27:47,213 - callflow.datastructures.supergraph:add_callsites_and_modules_maps:342 - INFO - [27-cores] Creating \"module-callsite\" and \"callsite-module\" maps\u001b[0m\n",
      "\u001b[32m2021-06-28 13:27:47,214 - callflow.datastructures.supergraph:add_callsites_and_modules_maps:342 - INFO - [64-cores] Creating \"module-callsite\" and \"callsite-module\" maps\u001b[0m\n",
      "\u001b[32m2021-06-28 13:27:47,217 - callflow.datastructures.supergraph:add_callsites_and_modules_maps:342 - INFO - [8-cores] Creating \"module-callsite\" and \"callsite-module\" maps\u001b[0m\n",
      "\u001b[32m2021-06-28 13:27:47,219 - callflow.datastructures.supergraph:add_callsites_and_modules_maps:342 - INFO - [125-cores] Creating \"module-callsite\" and \"callsite-module\" maps\u001b[0m\n",
      "\u001b[32m2021-06-28 13:27:47,220 - callflow.datastructures.supergraph:add_callsites_and_modules_maps:342 - INFO - [216-cores] Creating \"module-callsite\" and \"callsite-module\" maps\u001b[0m\n",
      "\u001b[32m2021-06-28 13:27:47,223 - callflow.datastructures.supergraph:add_callsites_and_modules_maps:342 - INFO - [343-cores] Creating \"module-callsite\" and \"callsite-module\" maps\u001b[0m\n",
      "\u001b[32m2021-06-28 13:27:47,226 - callflow.datastructures.supergraph:add_callsites_and_modules_maps:342 - INFO - [512-cores] Creating \"module-callsite\" and \"callsite-module\" maps\u001b[0m\n",
      "\u001b[32m2021-06-28 13:27:47,259 - callflow.datastructures.supergraph:add_callsites_and_modules_maps:415 - INFO - Created (\"module-to-callsite\" = 7) and (\"callsite-to-module\" = 45) maps\u001b[0m\n",
      "\u001b[32m2021-06-28 13:27:47,271 - callflow.datastructures.supergraph:add_callsites_and_modules_maps:415 - INFO - Created (\"module-to-callsite\" = 7) and (\"callsite-to-module\" = 45) maps\u001b[0m\n",
      "\u001b[32m2021-06-28 13:27:47,286 - callflow.datastructures.supergraph:add_callsites_and_modules_maps:415 - INFO - Created (\"module-to-callsite\" = 7) and (\"callsite-to-module\" = 45) maps\u001b[0m\n",
      "\u001b[32m2021-06-28 13:27:47,290 - callflow.datastructures.supergraph:add_callsites_and_modules_maps:415 - INFO - Created (\"module-to-callsite\" = 7) and (\"callsite-to-module\" = 45) maps\u001b[0m\n",
      "\u001b[32m2021-06-28 13:27:47,314 - callflow.datastructures.supergraph:add_callsites_and_modules_maps:415 - INFO - Created (\"module-to-callsite\" = 7) and (\"callsite-to-module\" = 45) maps\u001b[0m\n",
      "\u001b[32m2021-06-28 13:27:47,341 - callflow.datastructures.supergraph:add_callsites_and_modules_maps:415 - INFO - Created (\"module-to-callsite\" = 7) and (\"callsite-to-module\" = 45) maps\u001b[0m\n",
      "\u001b[32m2021-06-28 13:27:47,378 - callflow.datastructures.supergraph:add_callsites_and_modules_maps:415 - INFO - Created (\"module-to-callsite\" = 7) and (\"callsite-to-module\" = 45) maps\u001b[0m\n",
      "\u001b[32m2021-06-28 13:27:48,265 - callflow.datastructures.supergraph:load:304 - INFO - Reading SuperGraph (ensemble) from (/Users/jarus/Work/llnl/callflow_data/lulesh-8-runs/.callflow/ensemble)\u001b[0m\n",
      "\u001b[32m2021-06-28 13:27:48,301 - callflow.datastructures.supergraph:add_callsites_and_modules_maps:342 - INFO - [ensemble] Creating \"module-callsite\" and \"callsite-module\" maps\u001b[0m\n",
      "\u001b[32m2021-06-28 13:27:48,530 - callflow.datastructures.supergraph:add_callsites_and_modules_maps:415 - INFO - Created (\"module-to-callsite\" = 7) and (\"callsite-to-module\" = 45) maps\u001b[0m\n",
      "\u001b[32m2021-06-28 13:27:49,624 - server.provider_api:start:69 - INFO - Starting the API service\u001b[0m\n"
     ]
    },
    {
     "name": "stdout",
     "output_type": "stream",
     "text": [
      " * Serving Flask app \"server.provider_api\" (lazy loading)\n",
      " * Environment: production\n",
      "\u001b[31m   WARNING: This is a development server. Do not use it in a production deployment.\u001b[0m\n",
      "\u001b[2m   Use a production WSGI server instead.\u001b[0m\n",
      " * Debug mode: off\n"
     ]
    },
    {
     "name": "stderr",
     "output_type": "stream",
     "text": [
      "\u001b[32m2021-06-28 13:27:49,638 - werkzeug:_log:219 - INFO -  * Running on http://localhost:5000/ (Press CTRL+C to quit)\u001b[0m\n",
      "\u001b[32m2021-06-28 13:27:55,777 - werkzeug:_log:219 - INFO - 127.0.0.1 - - [28/Jun/2021 13:27:55] \"OPTIONS /summary HTTP/1.1\" 200 -\u001b[0m\n",
      "\u001b[32m2021-06-28 13:27:55,779 - werkzeug:_log:219 - INFO - 127.0.0.1 - - [28/Jun/2021 13:27:55] \"OPTIONS /config HTTP/1.1\" 200 -\u001b[0m\n",
      "\u001b[32m2021-06-28 13:27:55,791 - werkzeug:_log:219 - INFO - 127.0.0.1 - - [28/Jun/2021 13:27:55] \"GET /config HTTP/1.1\" 200 -\u001b[0m\n",
      "\u001b[32m2021-06-28 13:27:55,874 - werkzeug:_log:219 - INFO - 127.0.0.1 - - [28/Jun/2021 13:27:55] \"OPTIONS /timeline HTTP/1.1\" 200 -\u001b[0m\n",
      "\u001b[32m2021-06-28 13:27:55,999 - werkzeug:_log:219 - INFO - 127.0.0.1 - - [28/Jun/2021 13:27:55] \"POST /timeline HTTP/1.1\" 200 -\u001b[0m\n",
      "\u001b[32m2021-06-28 13:27:56,003 - werkzeug:_log:219 - INFO - 127.0.0.1 - - [28/Jun/2021 13:27:56] \"POST /summary HTTP/1.1\" 200 -\u001b[0m\n",
      "\u001b[32m2021-06-28 13:27:59,887 - werkzeug:_log:219 - INFO - 127.0.0.1 - - [28/Jun/2021 13:27:59] \"POST /summary HTTP/1.1\" 200 -\u001b[0m\n",
      "\u001b[32m2021-06-28 13:27:59,903 - werkzeug:_log:219 - INFO - 127.0.0.1 - - [28/Jun/2021 13:27:59] \"OPTIONS /cct HTTP/1.1\" 200 -\u001b[0m\n",
      "\u001b[32m2021-06-28 13:28:00,148 - werkzeug:_log:219 - INFO - 127.0.0.1 - - [28/Jun/2021 13:28:00] \"POST /cct HTTP/1.1\" 200 -\u001b[0m\n"
     ]
    }
   ],
   "source": [
    "cf = APIProvider(config)\n",
    "cf.load()\n",
    "cf.start(host=\"localhost\", port=5000)"
   ]
  }
 ],
 "metadata": {
  "kernelspec": {
   "display_name": "Python 3",
   "language": "python",
   "name": "python3"
  },
  "language_info": {
   "codemirror_mode": {
    "name": "ipython",
    "version": 3
   },
   "file_extension": ".py",
   "mimetype": "text/x-python",
   "name": "python",
   "nbconvert_exporter": "python",
   "pygments_lexer": "ipython3",
   "version": "3.7.7"
  }
 },
 "nbformat": 4,
 "nbformat_minor": 4
}
